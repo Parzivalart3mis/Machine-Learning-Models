{
  "nbformat": 4,
  "nbformat_minor": 0,
  "metadata": {
    "colab": {
      "name": "19BCE1097 - CSE4020 - FAT Lab.ipynb",
      "provenance": [],
      "collapsed_sections": [
        "CnTQ0DvE_1h8"
      ]
    },
    "kernelspec": {
      "name": "python3",
      "display_name": "Python 3"
    },
    "language_info": {
      "name": "python"
    }
  },
  "cells": [
    {
      "cell_type": "markdown",
      "source": [
        "# **FAT Lab**\n",
        "### **Name -** Yash Vardhan Sharma\n",
        "### **Reg. No. -** 19BCE1097\n",
        "### **Professor -** Dr. L Jeganathan"
      ],
      "metadata": {
        "id": "LONlkSH3Yz1B"
      }
    },
    {
      "cell_type": "markdown",
      "metadata": {
        "id": "qfHkFayISrTa"
      },
      "source": [
        "## **Code of Academic Integrity**\n",
        "I affirm that\n",
        "* This work is my own original work and is not a borrowed work,\n",
        "either from other students or from assignments for other courses.\n",
        "* I have not given or received any unauthorized help on this as\u0002signment.\n",
        "* This submission is free from\n",
        "<ul>\n",
        "  <li>Plagiarism</li>\n",
        "  <li>Fabrication of facts</li>\n",
        "  <li>Unauthorized assistance</li>\n",
        "  <li>Collusion</li>\n",
        "</ul>\n",
        "* This submission gives proper credit to sources and references,\n",
        "acknowledges the contributions and ideas of others relevant to\n",
        "this academic work.\n",
        "* This submission was prepared by me fully adhering to the rules\n",
        "that govern this assignment regarding resource material, elec\u0002tronic aids, copying, collaborating with others, or engaging in\n",
        "any other behavior that subverts the purpose of the assignment\n",
        "and the directions of the teacher."
      ]
    },
    {
      "cell_type": "markdown",
      "source": [
        "## Imports"
      ],
      "metadata": {
        "id": "ViF6HrIvZJZf"
      }
    },
    {
      "cell_type": "code",
      "source": [
        "from google.colab import drive\n",
        "drive.mount('/content/drive')"
      ],
      "metadata": {
        "colab": {
          "base_uri": "https://localhost:8080/"
        },
        "id": "vMBxIApA1YgW",
        "outputId": "6bb62b7e-0788-49c9-9d12-1680f4f551ec"
      },
      "execution_count": null,
      "outputs": [
        {
          "output_type": "stream",
          "name": "stdout",
          "text": [
            "Mounted at /content/drive\n"
          ]
        }
      ]
    },
    {
      "cell_type": "code",
      "metadata": {
        "id": "K-YrgjYbM6sD"
      },
      "source": [
        "import numpy as np\n",
        "import pandas as pd\n",
        "import matplotlib.pyplot as plt\n",
        "import seaborn as sns\n",
        "import random\n",
        "from sklearn.model_selection import train_test_split"
      ],
      "execution_count": null,
      "outputs": []
    },
    {
      "cell_type": "code",
      "metadata": {
        "id": "zWNb08cKM9pz"
      },
      "source": [
        "import warnings\n",
        "warnings.filterwarnings(\"ignore\")\n",
        "from sklearn.datasets import make_classification\n",
        "from imblearn.over_sampling import SMOTE\n",
        "from sklearn.preprocessing import MinMaxScaler\n",
        "from sklearn.metrics import confusion_matrix, classification_report\n",
        "from sklearn.preprocessing import StandardScaler\n",
        "from sklearn.metrics import r2_score, mean_squared_error\n",
        "from sklearn.neighbors import NearestCentroid"
      ],
      "execution_count": null,
      "outputs": []
    },
    {
      "cell_type": "code",
      "metadata": {
        "id": "DXvgZRUGV4-O"
      },
      "source": [
        "from sklearn import svm\n",
        "from sklearn.cluster import KMeans\n",
        "from sklearn.metrics import silhouette_score\n",
        "import scipy.cluster.hierarchy as sch\n",
        "from sklearn.cluster import AgglomerativeClustering\n",
        "from sklearn.metrics import accuracy_score\n",
        "from sklearn.linear_model import LogisticRegression\n",
        "from sklearn.tree import DecisionTreeClassifier\n",
        "from sklearn.ensemble import RandomForestClassifier\n",
        "from sklearn.neural_network import MLPClassifier\n",
        "from sklearn.linear_model import LinearRegression\n",
        "from sklearn.linear_model import SGDRegressor"
      ],
      "execution_count": null,
      "outputs": []
    },
    {
      "cell_type": "code",
      "metadata": {
        "id": "ZJpzkA4Jd4RQ"
      },
      "source": [
        "#Import for decision tree\n",
        "from six import StringIO\n",
        "from IPython.display import Image\n",
        "from sklearn.tree import export_graphviz\n",
        "import pydotplus"
      ],
      "execution_count": null,
      "outputs": []
    },
    {
      "cell_type": "markdown",
      "metadata": {
        "id": "CnTQ0DvE_1h8"
      },
      "source": [
        "## Custom Functions"
      ]
    },
    {
      "cell_type": "code",
      "metadata": {
        "id": "nSCFNhisNeYk"
      },
      "source": [
        "def Supreme(X, Y, df, t_size =0.25,MLP_acti='relu' ,r_state=5, isLinearRegression=False, isSVM=False, isLogisticRegression=False, isGradientDescent=False, isDecisionTree=False, isRandomForest=False, isMultiLayerPerception=False, isKmeans = False, isAgglo = False, isRegression=False, isClassification=False, isClustering =False, isPlot = False, n_x = 'x', n_y = 'y', n_model='poly', n_degree =2, grad_iter = 2000, k =3, g_title='Title', g_xlabel='x-label', g_ylabel='y-label', error = 1):\n",
        "  X_train, X_test, Y_train, Y_test = train_test_split(X, Y, test_size = t_size, random_state = r_state)\n",
        "  if(isLinearRegression):\n",
        "    model = LinearRegression()\n",
        "  if(isSVM):\n",
        "    model = svm.SVC(kernel = n_model, degree= n_degree)\n",
        "  if(isLogisticRegression):\n",
        "    model = LogisticRegression(C = 10, max_iter=100, solver='liblinear',tol=0.001,random_state=0)\n",
        "  if(isDecisionTree):\n",
        "    model = DecisionTreeClassifier(criterion = \"entropy\", random_state = 0, max_depth = 9)\n",
        "  if(isRandomForest):\n",
        "    model = RandomForestClassifier(n_estimators=100,bootstrap=False)\n",
        "  if(isMultiLayerPerception):\n",
        "    scaler = StandardScaler()\n",
        "    scaler.fit(X_train)\n",
        "    X_train = scaler.transform(X_train)\n",
        "    X_test = scaler.transform(X_test)\n",
        "    model = MLPClassifier(hidden_layer_sizes=(10, 10, 10), activation=MLP_acti, solver='sgd', max_iter=1000)\n",
        "  if(isGradientDescent):\n",
        "    scaler = MinMaxScaler(feature_range=(0,1))\n",
        "    X_train = scaler.fit_transform(X_train)\n",
        "    X_test = scaler.transform(X_test)\n",
        "    model = SGDRegressor(max_iter= grad_iter, eta0=0.1,tol=0.001)\n",
        "  if(isKmeans):\n",
        "    model = KMeans(n_clusters = k, init = 'k-means++', max_iter= 300, n_init=10,random_state=0)\n",
        "    model.fit(X)\n",
        "    y_clusters = model.predict(X)\n",
        "  if(isAgglo):\n",
        "    model = hc = AgglomerativeClustering(n_clusters = k, affinity = 'euclidean', linkage ='ward')\n",
        "    model.fit(X)\n",
        "    y_clusters = model.fit_predict(X)\n",
        "  if(isClustering):\n",
        "    print(\"Clustering: \",y_clusters)\n",
        "    silhouette_avg = silhouette_score(X, y_clusters)\n",
        "    print(\"Silhoutte Score: \", silhouette_avg)\n",
        "    if(isPlot):\n",
        "      x_array = np.array(X)\n",
        "      plt.style.use(\"ggplot\")\n",
        "      plt.figure(figsize=(15,8))\n",
        "      plt.title(g_title)\n",
        "      plt.xlabel(g_xlabel)\n",
        "      plt.ylabel(g_ylabel)\n",
        "      for i in range(0, k):\n",
        "        sns.scatterplot( x = x_array[y_clusters == i,0], y = x_array[y_clusters == i,1], label = \"Cluster\"+str(i+1) , s = 70)\n",
        "      if(isKmeans):\n",
        "        sns.scatterplot(model.cluster_centers_[:,0],model.cluster_centers_[:,1],marker='x',color='black',label='Centroid',s=70)\n",
        "      if(isAgglo):\n",
        "        clf = NearestCentroid()\n",
        "        clf.fit(X, y_clusters)\n",
        "        print(clf.centroids_)\n",
        "        sns.scatterplot(clf.centroids_[:,0],clf.centroids_[:,1],marker='x',color='black',label='Centroid',s=70)\n",
        "      plt.show()\n",
        "    return(model, y_clusters)\n",
        "  model.fit(X_train, Y_train)\n",
        "  Y_Pred = model.predict(X_test)\n",
        "  Y_Pred_train = model.predict(X_train)\n",
        "  if(isClassification):\n",
        "    print(\"Model Score: \",model.score(X_test, Y_test))\n",
        "    sns.heatmap(confusion_matrix(Y_test, Y_Pred), annot = True, fmt='0.0f')\n",
        "    print(\"Accuracy: \",accuracy_score(Y_test, Y_Pred))\n",
        "    report = classification_report(Y_Pred, Y_test)\n",
        "    print(report)\n",
        "  if(isRegression):\n",
        "    rmse_mlreg = np.sqrt(mean_squared_error(Y_Pred, Y_test)**2)\n",
        "    print(\"Root mean squared error is: \", rmse_mlreg)\n",
        "    r2_score_mlreg_train = r2_score(Y_Pred_train, Y_train)\n",
        "    r2_score_mlreg_val = r2_score(Y_Pred, Y_test)\n",
        "    print('r2_ score for train dataset : ', r2_score_mlreg_train)\n",
        "    print('r2_ score for test dataset : ', r2_score_mlreg_val)\n",
        "  if(isSVM):\n",
        "    test_size = int(np.round(df.shape[0] *0.2,0)) + error\n",
        "    if(isPlot):\n",
        "      fig, ax = plt.subplots(figsize=(12, 7))# Removing to and right border\n",
        "      ax.spines['top'].set_visible(False)\n",
        "      ax.spines['left'].set_visible(False)\n",
        "      ax.spines['right'].set_visible(False)# Create grid to evaluate model\n",
        "      xx = np.linspace(-1, max(df[n_x]) + 1, len(X_train))\n",
        "      yy = np.linspace(0, max(df[n_y]) + 1, len(Y_train))\n",
        "      YY, XX = np.meshgrid(yy, xx)\n",
        "      xy = np.vstack([XX.ravel(), YY.ravel()]).T\n",
        "      train_size = len(df[:-test_size][n_x])# Assigning different colors to the classes\n",
        "      colors = Y_train\n",
        "      colors = np.where(colors == 1, '#8C7298', '#4786D1')# Plot the dataset\n",
        "      ax.scatter(df[:-test_size][n_x], df[:-test_size][n_y], c=colors)#Get the separating hyperplane\n",
        "      Z = model.decision_function(xy).reshape(XX.shape)\n",
        "      # Draw the decision boundary and margins\n",
        "      ax.contour(XX, YY, Z, colors='k', levels=[-1, 0, 1], alpha=0.5, linestyles=['--', '-', '--'])# Highlight support vectors with a circle around them\n",
        "      ax.scatter(model.support_vectors_[:, 0], model.support_vectors_[:, 1], s=100, linewidth=1, facecolors='none', edgecolors='k')\n",
        "      plt.show()\n",
        "  if(isDecisionTree):\n",
        "    if(isPlot):\n",
        "      dot_data = StringIO()\n",
        "      export_graphviz(model, out_file= dot_data, feature_names=list(X.columns), filled = True, rounded=True)\n",
        "      graph = pydotplus.graph_from_dot_data(dot_data.getvalue())\n",
        "      display(Image(graph.create_png()))\n",
        "  if(isLinearRegression):\n",
        "    print(\"Intercept: \", model.intercept_)\n",
        "    print(\"Slope: \", model.coef_)\n",
        "  return model"
      ],
      "execution_count": null,
      "outputs": []
    },
    {
      "cell_type": "code",
      "metadata": {
        "id": "3X_8lsZnuVmJ"
      },
      "source": [
        "def ElbowMethod(D, c_num):\n",
        "  wcss = []\n",
        "  for i in range(1, c_num):\n",
        "    kmeans = KMeans(n_clusters=i, init= 'k-means++', max_iter = 300, n_init= 10, random_state = 0)\n",
        "    kmeans.fit(D)\n",
        "    wcss.append(kmeans.inertia_)\n",
        "  print(\"Value of wcss: \", wcss)\n",
        "  # Plot visualization b/w WCSS and Number of CLusters(K)\n",
        "  plt.plot(range(1,c_num), wcss)\n",
        "  # to view the points clearly we add scatter plot in addition to line\n",
        "  plt.scatter(range(1,c_num), wcss, c = 'black', marker='o')\n",
        "  plt.xlabel(\"K - Number of Clusters\")\n",
        "  plt.ylabel(\"WCSS\")\n",
        "  plt.show()\n",
        "  return wcss"
      ],
      "execution_count": null,
      "outputs": []
    },
    {
      "cell_type": "code",
      "metadata": {
        "id": "nWcuTrhEawYh"
      },
      "source": [
        "def heatplot(df):\n",
        "  plt.figure(figsize=(12,8))\n",
        "  sns.heatmap(df.corr(), annot = True, cmap ='RdPu')\n",
        "  plt.show()"
      ],
      "execution_count": null,
      "outputs": []
    },
    {
      "cell_type": "code",
      "metadata": {
        "id": "xkUYkoNZsiQQ"
      },
      "source": [
        "def generate_random_dataset(size):\n",
        "  \"\"\" Generate a random dataset and that follows a quadratic distribution\n",
        "  \"\"\"\n",
        "  x = []\n",
        "  y = []\n",
        "  target = []\n",
        "  for i in range(size):\n",
        "  # class zero\n",
        "    x.append(np.round(random.uniform(0, 2.5), 1))\n",
        "    y.append(np.round(random.uniform(0, 20), 1))\n",
        "    target.append(0) # class one\n",
        "    x.append(np.round(random.uniform(1, 5), 2))\n",
        "    y.append(np.round(random.uniform(20, 25), 2))\n",
        "    target.append(1)\n",
        "    x.append(np.round(random.uniform(3, 5), 2))\n",
        "    y.append(np.round(random.uniform(5, 25), 2))\n",
        "    target.append(1)\n",
        "  df_x = pd.DataFrame(data=x)\n",
        "  df_y = pd.DataFrame(data=y)\n",
        "  df_target = pd.DataFrame(data=target)\n",
        "  data_frame = pd.concat([df_x, df_y], ignore_index=True, axis=1)\n",
        "  data_frame = pd.concat([data_frame, df_target], ignore_index=True, axis=1)\n",
        "  data_frame.columns = ['x', 'y', 'target']\n",
        "  return data_frame"
      ],
      "execution_count": null,
      "outputs": []
    },
    {
      "cell_type": "code",
      "metadata": {
        "id": "NbLncZmLAPCx"
      },
      "source": [
        "def meanchange(df, name):\n",
        "  mean_imputer = SimpleImputer(missing_values=np.nan, strategy='mean')\n",
        "  df[name] = mean_imputer.fit_transform(df[name].values.reshape(-1,1))[:,0]\n",
        "  return df\n",
        "def modechange(df, name):\n",
        "  mode_imputer = SimpleImputer(missing_values=np.nan, strategy='most_frequent')\n",
        "  df[name] = mode_imputer.fit_transform(df[name].values.reshape(-1,1))[:,0]\n",
        "  return df"
      ],
      "execution_count": null,
      "outputs": []
    },
    {
      "cell_type": "code",
      "metadata": {
        "id": "a_GXVoE_Ae5H"
      },
      "source": [
        "def remove_outlier(df, cname):\n",
        "    Q1 = df[cname].quantile(0.25)\n",
        "    Q3 = df[cname].quantile(0.75)\n",
        "    iqr = Q3-Q1\n",
        "    upper_limit = Q3 + 1.5 * iqr\n",
        "    lower_limit = Q1 - 1.5 * iqr\n",
        "    df[cname]=np.where(\n",
        "        df[cname]>upper_limit,\n",
        "        upper_limit,\n",
        "        np.where(\n",
        "            df[cname]<lower_limit,\n",
        "            lower_limit,\n",
        "            df[cname]\n",
        "        )\n",
        "    )\n",
        "    print(df[cname].skew())\n",
        "    return df"
      ],
      "execution_count": null,
      "outputs": []
    },
    {
      "cell_type": "code",
      "metadata": {
        "id": "GkhfmxHAAlQ8"
      },
      "source": [
        "def LEncoder(df, cname):\n",
        "  le_encoder = LabelEncoder()\n",
        "  le_encoder.fit(df[cname].drop_duplicates())\n",
        "  df[cname] = le_encoder.transform(df[cname])\n",
        "  return df"
      ],
      "execution_count": null,
      "outputs": []
    },
    {
      "cell_type": "markdown",
      "metadata": {
        "id": "T_T-7lNUZ4A1"
      },
      "source": [
        "## Pulling the Dataset"
      ]
    },
    {
      "cell_type": "code",
      "metadata": {
        "id": "ePDOFiRhZ8Uc"
      },
      "source": [
        "df = pd.read_excel(\"/content/drive/MyDrive/Datasets/FAT_BCE1097.xlsx\", na_values=[\" \",\"?\",\"??\",\"???\",\"-\"])"
      ],
      "execution_count": null,
      "outputs": []
    },
    {
      "cell_type": "markdown",
      "source": [
        "(a)"
      ],
      "metadata": {
        "id": "YNaZFtRZdkb8"
      }
    },
    {
      "cell_type": "code",
      "source": [
        "df.ndim"
      ],
      "metadata": {
        "colab": {
          "base_uri": "https://localhost:8080/"
        },
        "id": "ECWx5usUfpyl",
        "outputId": "800dcb1f-3653-48d0-fbca-5ef91ff9c594"
      },
      "execution_count": null,
      "outputs": [
        {
          "output_type": "execute_result",
          "data": {
            "text/plain": [
              "2"
            ]
          },
          "metadata": {},
          "execution_count": 14
        }
      ]
    },
    {
      "cell_type": "code",
      "source": [
        "df.shape"
      ],
      "metadata": {
        "colab": {
          "base_uri": "https://localhost:8080/"
        },
        "id": "9CCwfKa_dgku",
        "outputId": "5bb1797d-20a8-4a9e-f833-61fd3f8c1063"
      },
      "execution_count": null,
      "outputs": [
        {
          "output_type": "execute_result",
          "data": {
            "text/plain": [
              "(1000, 10)"
            ]
          },
          "metadata": {},
          "execution_count": 15
        }
      ]
    },
    {
      "cell_type": "code",
      "source": [
        "df.head(15)"
      ],
      "metadata": {
        "colab": {
          "base_uri": "https://localhost:8080/",
          "height": 520
        },
        "id": "Trr03ijMd4xH",
        "outputId": "5e98edb3-4c38-4a00-92fd-1a55a64fd3db"
      },
      "execution_count": null,
      "outputs": [
        {
          "output_type": "execute_result",
          "data": {
            "text/html": [
              "<div>\n",
              "<style scoped>\n",
              "    .dataframe tbody tr th:only-of-type {\n",
              "        vertical-align: middle;\n",
              "    }\n",
              "\n",
              "    .dataframe tbody tr th {\n",
              "        vertical-align: top;\n",
              "    }\n",
              "\n",
              "    .dataframe thead th {\n",
              "        text-align: right;\n",
              "    }\n",
              "</style>\n",
              "<table border=\"1\" class=\"dataframe\">\n",
              "  <thead>\n",
              "    <tr style=\"text-align: right;\">\n",
              "      <th></th>\n",
              "      <th>J1</th>\n",
              "      <th>J2</th>\n",
              "      <th>J3</th>\n",
              "      <th>J4</th>\n",
              "      <th>J5</th>\n",
              "      <th>J6</th>\n",
              "      <th>J7</th>\n",
              "      <th>J8</th>\n",
              "      <th>J9</th>\n",
              "      <th>Target</th>\n",
              "    </tr>\n",
              "  </thead>\n",
              "  <tbody>\n",
              "    <tr>\n",
              "      <th>0</th>\n",
              "      <td>1050025.80</td>\n",
              "      <td>3932.73</td>\n",
              "      <td>0.37362</td>\n",
              "      <td>NaN</td>\n",
              "      <td>1.458263e+06</td>\n",
              "      <td>149.9560</td>\n",
              "      <td>4083.64</td>\n",
              "      <td>63</td>\n",
              "      <td>33.3465</td>\n",
              "      <td>17.702</td>\n",
              "    </tr>\n",
              "    <tr>\n",
              "      <th>1</th>\n",
              "      <td>10788.40</td>\n",
              "      <td>4253.25</td>\n",
              "      <td>0.39424</td>\n",
              "      <td>93.2289</td>\n",
              "      <td>1.493746e+06</td>\n",
              "      <td>150.8180</td>\n",
              "      <td>3929.65</td>\n",
              "      <td>59</td>\n",
              "      <td>31.3213</td>\n",
              "      <td>14.921</td>\n",
              "    </tr>\n",
              "    <tr>\n",
              "      <th>2</th>\n",
              "      <td>7852.36</td>\n",
              "      <td>2801.18</td>\n",
              "      <td>0.35673</td>\n",
              "      <td>83.8700</td>\n",
              "      <td>1.051329e+06</td>\n",
              "      <td>111.6930</td>\n",
              "      <td>3259.04</td>\n",
              "      <td>82</td>\n",
              "      <td>38.2204</td>\n",
              "      <td>9.495</td>\n",
              "    </tr>\n",
              "    <tr>\n",
              "      <th>3</th>\n",
              "      <td>6005.91</td>\n",
              "      <td>1236.67</td>\n",
              "      <td>0.20590</td>\n",
              "      <td>55.8064</td>\n",
              "      <td>8.171214e+05</td>\n",
              "      <td>68.2450</td>\n",
              "      <td>2343.07</td>\n",
              "      <td>27</td>\n",
              "      <td>42.0071</td>\n",
              "      <td>14.686</td>\n",
              "    </tr>\n",
              "    <tr>\n",
              "      <th>4</th>\n",
              "      <td>9797.55</td>\n",
              "      <td>2419.16</td>\n",
              "      <td>0.24691</td>\n",
              "      <td>142.1030</td>\n",
              "      <td>1.382717e+06</td>\n",
              "      <td>156.0510</td>\n",
              "      <td>4153.45</td>\n",
              "      <td>116</td>\n",
              "      <td>32.4552</td>\n",
              "      <td>2.527</td>\n",
              "    </tr>\n",
              "    <tr>\n",
              "      <th>5</th>\n",
              "      <td>8268.31</td>\n",
              "      <td>2870.20</td>\n",
              "      <td>0.34713</td>\n",
              "      <td>79.4282</td>\n",
              "      <td>1.118743e+06</td>\n",
              "      <td>112.5810</td>\n",
              "      <td>3239.92</td>\n",
              "      <td>122</td>\n",
              "      <td>35.1525</td>\n",
              "      <td>5.141</td>\n",
              "    </tr>\n",
              "    <tr>\n",
              "      <th>6</th>\n",
              "      <td>7915.09</td>\n",
              "      <td>3382.90</td>\n",
              "      <td>0.42739</td>\n",
              "      <td>82.9187</td>\n",
              "      <td>1.106852e+06</td>\n",
              "      <td>128.0190</td>\n",
              "      <td>4136.68</td>\n",
              "      <td>54</td>\n",
              "      <td>32.1113</td>\n",
              "      <td>17.124</td>\n",
              "    </tr>\n",
              "    <tr>\n",
              "      <th>7</th>\n",
              "      <td>5823.65</td>\n",
              "      <td>1557.51</td>\n",
              "      <td>0.26744</td>\n",
              "      <td>63.7928</td>\n",
              "      <td>7.866245e+05</td>\n",
              "      <td>89.2701</td>\n",
              "      <td>3340.40</td>\n",
              "      <td>50</td>\n",
              "      <td>37.6465</td>\n",
              "      <td>9.211</td>\n",
              "    </tr>\n",
              "    <tr>\n",
              "      <th>8</th>\n",
              "      <td>7226.15</td>\n",
              "      <td>1888.47</td>\n",
              "      <td>0.26133</td>\n",
              "      <td>64.5867</td>\n",
              "      <td>1.007930e+06</td>\n",
              "      <td>86.8005</td>\n",
              "      <td>3174.90</td>\n",
              "      <td>101</td>\n",
              "      <td>37.8481</td>\n",
              "      <td>1.818</td>\n",
              "    </tr>\n",
              "    <tr>\n",
              "      <th>9</th>\n",
              "      <td>11151.10</td>\n",
              "      <td>4505.34</td>\n",
              "      <td>0.40402</td>\n",
              "      <td>85.2480</td>\n",
              "      <td>1.584045e+06</td>\n",
              "      <td>173.7000</td>\n",
              "      <td>3912.45</td>\n",
              "      <td>8</td>\n",
              "      <td>33.8317</td>\n",
              "      <td>16.344</td>\n",
              "    </tr>\n",
              "    <tr>\n",
              "      <th>10</th>\n",
              "      <td>8494.54</td>\n",
              "      <td>1733.16</td>\n",
              "      <td>0.20403</td>\n",
              "      <td>105.1380</td>\n",
              "      <td>1.172696e+06</td>\n",
              "      <td>131.4640</td>\n",
              "      <td>3650.57</td>\n",
              "      <td>23</td>\n",
              "      <td>34.1514</td>\n",
              "      <td>1.583</td>\n",
              "    </tr>\n",
              "    <tr>\n",
              "      <th>11</th>\n",
              "      <td>8737.76</td>\n",
              "      <td>2992.92</td>\n",
              "      <td>0.34252</td>\n",
              "      <td>87.1588</td>\n",
              "      <td>1.174289e+06</td>\n",
              "      <td>121.5620</td>\n",
              "      <td>3733.92</td>\n",
              "      <td>49</td>\n",
              "      <td>38.7658</td>\n",
              "      <td>15.412</td>\n",
              "    </tr>\n",
              "    <tr>\n",
              "      <th>12</th>\n",
              "      <td>8215.46</td>\n",
              "      <td>1965.91</td>\n",
              "      <td>0.23929</td>\n",
              "      <td>89.9302</td>\n",
              "      <td>1.144934e+06</td>\n",
              "      <td>124.3570</td>\n",
              "      <td>3211.65</td>\n",
              "      <td>4</td>\n",
              "      <td>37.0308</td>\n",
              "      <td>0.430</td>\n",
              "    </tr>\n",
              "    <tr>\n",
              "      <th>13</th>\n",
              "      <td>8326.20</td>\n",
              "      <td>2420.53</td>\n",
              "      <td>0.29071</td>\n",
              "      <td>92.7642</td>\n",
              "      <td>1.179495e+06</td>\n",
              "      <td>112.0150</td>\n",
              "      <td>3561.49</td>\n",
              "      <td>96</td>\n",
              "      <td>36.9428</td>\n",
              "      <td>1.850</td>\n",
              "    </tr>\n",
              "    <tr>\n",
              "      <th>14</th>\n",
              "      <td>14847.40</td>\n",
              "      <td>3990.86</td>\n",
              "      <td>0.26879</td>\n",
              "      <td>159.5140</td>\n",
              "      <td>2.090680e+06</td>\n",
              "      <td>211.4090</td>\n",
              "      <td>5028.25</td>\n",
              "      <td>191</td>\n",
              "      <td>29.6552</td>\n",
              "      <td>20.719</td>\n",
              "    </tr>\n",
              "  </tbody>\n",
              "</table>\n",
              "</div>"
            ],
            "text/plain": [
              "            J1       J2       J3        J4  ...       J7   J8       J9  Target\n",
              "0   1050025.80  3932.73  0.37362       NaN  ...  4083.64   63  33.3465  17.702\n",
              "1     10788.40  4253.25  0.39424   93.2289  ...  3929.65   59  31.3213  14.921\n",
              "2      7852.36  2801.18  0.35673   83.8700  ...  3259.04   82  38.2204   9.495\n",
              "3      6005.91  1236.67  0.20590   55.8064  ...  2343.07   27  42.0071  14.686\n",
              "4      9797.55  2419.16  0.24691  142.1030  ...  4153.45  116  32.4552   2.527\n",
              "5      8268.31  2870.20  0.34713   79.4282  ...  3239.92  122  35.1525   5.141\n",
              "6      7915.09  3382.90  0.42739   82.9187  ...  4136.68   54  32.1113  17.124\n",
              "7      5823.65  1557.51  0.26744   63.7928  ...  3340.40   50  37.6465   9.211\n",
              "8      7226.15  1888.47  0.26133   64.5867  ...  3174.90  101  37.8481   1.818\n",
              "9     11151.10  4505.34  0.40402   85.2480  ...  3912.45    8  33.8317  16.344\n",
              "10     8494.54  1733.16  0.20403  105.1380  ...  3650.57   23  34.1514   1.583\n",
              "11     8737.76  2992.92  0.34252   87.1588  ...  3733.92   49  38.7658  15.412\n",
              "12     8215.46  1965.91  0.23929   89.9302  ...  3211.65    4  37.0308   0.430\n",
              "13     8326.20  2420.53  0.29071   92.7642  ...  3561.49   96  36.9428   1.850\n",
              "14    14847.40  3990.86  0.26879  159.5140  ...  5028.25  191  29.6552  20.719\n",
              "\n",
              "[15 rows x 10 columns]"
            ]
          },
          "metadata": {},
          "execution_count": 16
        }
      ]
    },
    {
      "cell_type": "markdown",
      "source": [
        "(b)"
      ],
      "metadata": {
        "id": "LgXTS9S3d_6o"
      }
    },
    {
      "cell_type": "code",
      "metadata": {
        "colab": {
          "base_uri": "https://localhost:8080/"
        },
        "id": "q_wbiyr1B0Dz",
        "outputId": "45d55183-8b28-46a5-a946-043a2e45afd0"
      },
      "source": [
        "df.isna().sum()"
      ],
      "execution_count": null,
      "outputs": [
        {
          "output_type": "execute_result",
          "data": {
            "text/plain": [
              "J1        0\n",
              "J2        0\n",
              "J3        0\n",
              "J4        1\n",
              "J5        0\n",
              "J6        0\n",
              "J7        1\n",
              "J8        0\n",
              "J9        0\n",
              "Target    0\n",
              "dtype: int64"
            ]
          },
          "metadata": {},
          "execution_count": 17
        }
      ]
    },
    {
      "cell_type": "markdown",
      "metadata": {
        "id": "x3tSBmjxafgy"
      },
      "source": [
        "(c) Identify the attributes which follow normal distribution"
      ]
    },
    {
      "cell_type": "code",
      "metadata": {
        "colab": {
          "base_uri": "https://localhost:8080/",
          "height": 1000
        },
        "id": "kGruPNSb9NdW",
        "outputId": "343366ad-b14d-4bca-b14d-665ce9096af7"
      },
      "source": [
        "df.hist(figsize=(15,20))"
      ],
      "execution_count": null,
      "outputs": [
        {
          "output_type": "execute_result",
          "data": {
            "text/plain": [
              "array([[<matplotlib.axes._subplots.AxesSubplot object at 0x7fc0a4412510>,\n",
              "        <matplotlib.axes._subplots.AxesSubplot object at 0x7fc0a4130750>,\n",
              "        <matplotlib.axes._subplots.AxesSubplot object at 0x7fc0a40e71d0>],\n",
              "       [<matplotlib.axes._subplots.AxesSubplot object at 0x7fc0a3b65610>,\n",
              "        <matplotlib.axes._subplots.AxesSubplot object at 0x7fc0a4635a50>,\n",
              "        <matplotlib.axes._subplots.AxesSubplot object at 0x7fc0a464ba10>],\n",
              "       [<matplotlib.axes._subplots.AxesSubplot object at 0x7fc0a4625510>,\n",
              "        <matplotlib.axes._subplots.AxesSubplot object at 0x7fc0a3a63790>,\n",
              "        <matplotlib.axes._subplots.AxesSubplot object at 0x7fc0a3a637d0>],\n",
              "       [<matplotlib.axes._subplots.AxesSubplot object at 0x7fc0a3a19ed0>,\n",
              "        <matplotlib.axes._subplots.AxesSubplot object at 0x7fc0a3993b50>,\n",
              "        <matplotlib.axes._subplots.AxesSubplot object at 0x7fc0a3959290>]],\n",
              "      dtype=object)"
            ]
          },
          "metadata": {},
          "execution_count": 20
        },
        {
          "output_type": "display_data",
          "data": {
            "image/png": "[encoded data removed]",
            "text/plain": [
              "<Figure size 1080x1440 with 12 Axes>"
            ]
          },
          "metadata": {
            "needs_background": "light"
          }
        }
      ]
    },
    {
      "cell_type": "markdown",
      "metadata": {
        "id": "odMsUb4p-Ba9"
      },
      "source": [
        "Inference: 'J3','J4','J5','J6','J7','J9' are normal distribution."
      ]
    },
    {
      "cell_type": "markdown",
      "metadata": {
        "id": "Q0NT8ZBM-ujp"
      },
      "source": [
        "(d) Do the imputation by replacing all the NaN values in an attribute with the mean of all the values of that attribute or mode of all the values of that attribute. After executing the imputation, confirm that the imputation gets reflected in the dataset with appropriate outputs."
      ]
    },
    {
      "cell_type": "code",
      "metadata": {
        "colab": {
          "base_uri": "https://localhost:8080/"
        },
        "id": "DO3NNG8n-t6S",
        "outputId": "a76a824f-6027-4368-8b35-ce2fdb3fe916"
      },
      "source": [
        "from sklearn.impute import SimpleImputer\n",
        "names = ['J4','J7']\n",
        "for x in range(0, len(names)):\n",
        "  D = meanchange(df, names[x])\n",
        "D.isna().sum()"
      ],
      "execution_count": null,
      "outputs": [
        {
          "output_type": "execute_result",
          "data": {
            "text/plain": [
              "J1        0\n",
              "J2        0\n",
              "J3        0\n",
              "J4        0\n",
              "J5        0\n",
              "J6        0\n",
              "J7        0\n",
              "J8        0\n",
              "J9        0\n",
              "Target    0\n",
              "dtype: int64"
            ]
          },
          "metadata": {},
          "execution_count": 22
        }
      ]
    },
    {
      "cell_type": "code",
      "source": [
        "D.head()"
      ],
      "metadata": {
        "colab": {
          "base_uri": "https://localhost:8080/",
          "height": 206
        },
        "id": "Oqfmj5iJfdsf",
        "outputId": "b851ca9e-d4e5-4a48-c1b4-f3ec9da66b56"
      },
      "execution_count": null,
      "outputs": [
        {
          "output_type": "execute_result",
          "data": {
            "text/html": [
              "<div>\n",
              "<style scoped>\n",
              "    .dataframe tbody tr th:only-of-type {\n",
              "        vertical-align: middle;\n",
              "    }\n",
              "\n",
              "    .dataframe tbody tr th {\n",
              "        vertical-align: top;\n",
              "    }\n",
              "\n",
              "    .dataframe thead th {\n",
              "        text-align: right;\n",
              "    }\n",
              "</style>\n",
              "<table border=\"1\" class=\"dataframe\">\n",
              "  <thead>\n",
              "    <tr style=\"text-align: right;\">\n",
              "      <th></th>\n",
              "      <th>J1</th>\n",
              "      <th>J2</th>\n",
              "      <th>J3</th>\n",
              "      <th>J4</th>\n",
              "      <th>J5</th>\n",
              "      <th>J6</th>\n",
              "      <th>J7</th>\n",
              "      <th>J8</th>\n",
              "      <th>J9</th>\n",
              "      <th>Target</th>\n",
              "    </tr>\n",
              "  </thead>\n",
              "  <tbody>\n",
              "    <tr>\n",
              "      <th>0</th>\n",
              "      <td>1050025.80</td>\n",
              "      <td>3932.73</td>\n",
              "      <td>0.37362</td>\n",
              "      <td>104.503598</td>\n",
              "      <td>1.458263e+06</td>\n",
              "      <td>149.956</td>\n",
              "      <td>4083.64</td>\n",
              "      <td>63</td>\n",
              "      <td>33.3465</td>\n",
              "      <td>17.702</td>\n",
              "    </tr>\n",
              "    <tr>\n",
              "      <th>1</th>\n",
              "      <td>10788.40</td>\n",
              "      <td>4253.25</td>\n",
              "      <td>0.39424</td>\n",
              "      <td>93.228900</td>\n",
              "      <td>1.493746e+06</td>\n",
              "      <td>150.818</td>\n",
              "      <td>3929.65</td>\n",
              "      <td>59</td>\n",
              "      <td>31.3213</td>\n",
              "      <td>14.921</td>\n",
              "    </tr>\n",
              "    <tr>\n",
              "      <th>2</th>\n",
              "      <td>7852.36</td>\n",
              "      <td>2801.18</td>\n",
              "      <td>0.35673</td>\n",
              "      <td>83.870000</td>\n",
              "      <td>1.051329e+06</td>\n",
              "      <td>111.693</td>\n",
              "      <td>3259.04</td>\n",
              "      <td>82</td>\n",
              "      <td>38.2204</td>\n",
              "      <td>9.495</td>\n",
              "    </tr>\n",
              "    <tr>\n",
              "      <th>3</th>\n",
              "      <td>6005.91</td>\n",
              "      <td>1236.67</td>\n",
              "      <td>0.20590</td>\n",
              "      <td>55.806400</td>\n",
              "      <td>8.171214e+05</td>\n",
              "      <td>68.245</td>\n",
              "      <td>2343.07</td>\n",
              "      <td>27</td>\n",
              "      <td>42.0071</td>\n",
              "      <td>14.686</td>\n",
              "    </tr>\n",
              "    <tr>\n",
              "      <th>4</th>\n",
              "      <td>9797.55</td>\n",
              "      <td>2419.16</td>\n",
              "      <td>0.24691</td>\n",
              "      <td>142.103000</td>\n",
              "      <td>1.382717e+06</td>\n",
              "      <td>156.051</td>\n",
              "      <td>4153.45</td>\n",
              "      <td>116</td>\n",
              "      <td>32.4552</td>\n",
              "      <td>2.527</td>\n",
              "    </tr>\n",
              "  </tbody>\n",
              "</table>\n",
              "</div>"
            ],
            "text/plain": [
              "           J1       J2       J3          J4  ...       J7   J8       J9  Target\n",
              "0  1050025.80  3932.73  0.37362  104.503598  ...  4083.64   63  33.3465  17.702\n",
              "1    10788.40  4253.25  0.39424   93.228900  ...  3929.65   59  31.3213  14.921\n",
              "2     7852.36  2801.18  0.35673   83.870000  ...  3259.04   82  38.2204   9.495\n",
              "3     6005.91  1236.67  0.20590   55.806400  ...  2343.07   27  42.0071  14.686\n",
              "4     9797.55  2419.16  0.24691  142.103000  ...  4153.45  116  32.4552   2.527\n",
              "\n",
              "[5 rows x 10 columns]"
            ]
          },
          "metadata": {},
          "execution_count": 23
        }
      ]
    },
    {
      "cell_type": "markdown",
      "metadata": {
        "id": "QG1jrSsSdvCj"
      },
      "source": [
        "(e) Identify the outliers in each of the attribute and replace the outliers using the ‘capping process’."
      ]
    },
    {
      "cell_type": "code",
      "metadata": {
        "colab": {
          "base_uri": "https://localhost:8080/"
        },
        "id": "moZroBmAA2r7",
        "outputId": "ba7f0da9-7244-4b4c-9fa9-67db8aa4066a"
      },
      "source": [
        "names = ['J1', 'J2', 'J3', 'J4', 'J5', 'J6', 'J7', 'J8', 'J9','Target']\n",
        "for columns in names:\n",
        "  D = remove_outlier(D, columns)"
      ],
      "execution_count": null,
      "outputs": [
        {
          "output_type": "stream",
          "name": "stdout",
          "text": [
            "0.8331919227872293\n",
            "0.8523310643945047\n",
            "0.15135883684221177\n",
            "0.9555689460825265\n",
            "0.8151611097946434\n",
            "0.8672905792622043\n",
            "0.2845443659386604\n",
            "0.9444055602104215\n",
            "-0.5519758763804983\n",
            "0.6074322688619368\n"
          ]
        }
      ]
    },
    {
      "cell_type": "markdown",
      "metadata": {
        "id": "9Zex1H3aeD_M"
      },
      "source": [
        "(f)  Caluclate the Maximum and Minimum value for each of attributes of D"
      ]
    },
    {
      "cell_type": "code",
      "metadata": {
        "id": "M9x93p0tBFN6",
        "colab": {
          "base_uri": "https://localhost:8080/"
        },
        "outputId": "b15b07a3-a619-4b6c-b7a2-92cc8c62183d"
      },
      "source": [
        "for columns in names:\n",
        "  print(\"For \",columns)\n",
        "  print(\"Maximum value is: \", max(D[columns]))\n",
        "  print(\"Minimum value is: \", min(D[columns]))"
      ],
      "execution_count": null,
      "outputs": [
        {
          "output_type": "stream",
          "name": "stdout",
          "text": [
            "For  J1\n",
            "Maximum value is:  19732.949999999997\n",
            "Minimum value is:  3578.72\n",
            "For  J2\n",
            "Maximum value is:  6475.2525000000005\n",
            "Minimum value is:  740.9\n",
            "For  J3\n",
            "Maximum value is:  0.4526675000000001\n",
            "Minimum value is:  0.1495874999999999\n",
            "For  J4\n",
            "Maximum value is:  240.4098\n",
            "Minimum value is:  23.8196\n",
            "For  J5\n",
            "Maximum value is:  2736160.8314125\n",
            "Minimum value is:  491961.0009\n",
            "For  J6\n",
            "Maximum value is:  311.89175\n",
            "Minimum value is:  43.4804\n",
            "For  J7\n",
            "Maximum value is:  6817.596250000001\n",
            "Minimum value is:  1196.94\n",
            "For  J8\n",
            "Maximum value is:  179.5\n",
            "Minimum value is:  2.0\n",
            "For  J9\n",
            "Maximum value is:  46.5464\n",
            "Minimum value is:  17.737912499999997\n",
            "For  Target\n",
            "Maximum value is:  20.997\n",
            "Minimum value is:  0.0\n"
          ]
        }
      ]
    },
    {
      "cell_type": "code",
      "source": [
        "#aAlternative to see all the statistical values.\n",
        "D.describe()"
      ],
      "metadata": {
        "colab": {
          "base_uri": "https://localhost:8080/",
          "height": 300
        },
        "id": "DS4Tyad0gw8L",
        "outputId": "f7e9ecc9-23bf-445f-e2c6-8ca8faea249f"
      },
      "execution_count": null,
      "outputs": [
        {
          "output_type": "execute_result",
          "data": {
            "text/html": [
              "<div>\n",
              "<style scoped>\n",
              "    .dataframe tbody tr th:only-of-type {\n",
              "        vertical-align: middle;\n",
              "    }\n",
              "\n",
              "    .dataframe tbody tr th {\n",
              "        vertical-align: top;\n",
              "    }\n",
              "\n",
              "    .dataframe thead th {\n",
              "        text-align: right;\n",
              "    }\n",
              "</style>\n",
              "<table border=\"1\" class=\"dataframe\">\n",
              "  <thead>\n",
              "    <tr style=\"text-align: right;\">\n",
              "      <th></th>\n",
              "      <th>J1</th>\n",
              "      <th>J2</th>\n",
              "      <th>J3</th>\n",
              "      <th>J4</th>\n",
              "      <th>J5</th>\n",
              "      <th>J6</th>\n",
              "      <th>J7</th>\n",
              "      <th>J8</th>\n",
              "      <th>J9</th>\n",
              "      <th>Target</th>\n",
              "    </tr>\n",
              "  </thead>\n",
              "  <tbody>\n",
              "    <tr>\n",
              "      <th>count</th>\n",
              "      <td>1000.000000</td>\n",
              "      <td>1000.000000</td>\n",
              "      <td>1000.000000</td>\n",
              "      <td>1000.000000</td>\n",
              "      <td>1.000000e+03</td>\n",
              "      <td>1000.000000</td>\n",
              "      <td>1000.000000</td>\n",
              "      <td>1000.000000</td>\n",
              "      <td>1000.000000</td>\n",
              "      <td>1000.000000</td>\n",
              "    </tr>\n",
              "    <tr>\n",
              "      <th>mean</th>\n",
              "      <td>9870.623210</td>\n",
              "      <td>2992.909077</td>\n",
              "      <td>0.301240</td>\n",
              "      <td>103.480952</td>\n",
              "      <td>1.364685e+06</td>\n",
              "      <td>145.201021</td>\n",
              "      <td>3914.991770</td>\n",
              "      <td>68.234000</td>\n",
              "      <td>34.420005</td>\n",
              "      <td>7.630794</td>\n",
              "    </tr>\n",
              "    <tr>\n",
              "      <th>std</th>\n",
              "      <td>3826.337628</td>\n",
              "      <td>1351.019193</td>\n",
              "      <td>0.059183</td>\n",
              "      <td>52.655545</td>\n",
              "      <td>5.286631e+05</td>\n",
              "      <td>66.080066</td>\n",
              "      <td>1064.636117</td>\n",
              "      <td>46.642623</td>\n",
              "      <td>5.843800</td>\n",
              "      <td>6.129825</td>\n",
              "    </tr>\n",
              "    <tr>\n",
              "      <th>min</th>\n",
              "      <td>3578.720000</td>\n",
              "      <td>740.900000</td>\n",
              "      <td>0.149587</td>\n",
              "      <td>23.819600</td>\n",
              "      <td>4.919610e+05</td>\n",
              "      <td>43.480400</td>\n",
              "      <td>1196.940000</td>\n",
              "      <td>2.000000</td>\n",
              "      <td>17.737912</td>\n",
              "      <td>0.000000</td>\n",
              "    </tr>\n",
              "    <tr>\n",
              "      <th>25%</th>\n",
              "      <td>7105.700000</td>\n",
              "      <td>1989.702500</td>\n",
              "      <td>0.263242</td>\n",
              "      <td>64.204300</td>\n",
              "      <td>9.678415e+05</td>\n",
              "      <td>95.925500</td>\n",
              "      <td>3200.177500</td>\n",
              "      <td>32.000000</td>\n",
              "      <td>30.285675</td>\n",
              "      <td>2.300000</td>\n",
              "    </tr>\n",
              "    <tr>\n",
              "      <th>50%</th>\n",
              "      <td>8926.215000</td>\n",
              "      <td>2672.030000</td>\n",
              "      <td>0.297110</td>\n",
              "      <td>88.156100</td>\n",
              "      <td>1.235124e+06</td>\n",
              "      <td>127.348500</td>\n",
              "      <td>3820.890000</td>\n",
              "      <td>58.000000</td>\n",
              "      <td>35.370300</td>\n",
              "      <td>4.669000</td>\n",
              "    </tr>\n",
              "    <tr>\n",
              "      <th>75%</th>\n",
              "      <td>12156.600000</td>\n",
              "      <td>3783.922500</td>\n",
              "      <td>0.339013</td>\n",
              "      <td>134.686500</td>\n",
              "      <td>1.675169e+06</td>\n",
              "      <td>182.312000</td>\n",
              "      <td>4647.145000</td>\n",
              "      <td>91.000000</td>\n",
              "      <td>38.650850</td>\n",
              "      <td>13.412000</td>\n",
              "    </tr>\n",
              "    <tr>\n",
              "      <th>max</th>\n",
              "      <td>19732.950000</td>\n",
              "      <td>6475.252500</td>\n",
              "      <td>0.452668</td>\n",
              "      <td>240.409800</td>\n",
              "      <td>2.736161e+06</td>\n",
              "      <td>311.891750</td>\n",
              "      <td>6817.596250</td>\n",
              "      <td>179.500000</td>\n",
              "      <td>46.546400</td>\n",
              "      <td>20.997000</td>\n",
              "    </tr>\n",
              "  </tbody>\n",
              "</table>\n",
              "</div>"
            ],
            "text/plain": [
              "                 J1           J2  ...           J9       Target\n",
              "count   1000.000000  1000.000000  ...  1000.000000  1000.000000\n",
              "mean    9870.623210  2992.909077  ...    34.420005     7.630794\n",
              "std     3826.337628  1351.019193  ...     5.843800     6.129825\n",
              "min     3578.720000   740.900000  ...    17.737912     0.000000\n",
              "25%     7105.700000  1989.702500  ...    30.285675     2.300000\n",
              "50%     8926.215000  2672.030000  ...    35.370300     4.669000\n",
              "75%    12156.600000  3783.922500  ...    38.650850    13.412000\n",
              "max    19732.950000  6475.252500  ...    46.546400    20.997000\n",
              "\n",
              "[8 rows x 10 columns]"
            ]
          },
          "metadata": {},
          "execution_count": 27
        }
      ]
    },
    {
      "cell_type": "markdown",
      "source": [
        "(g)"
      ],
      "metadata": {
        "id": "JbOzQGWEhca3"
      }
    },
    {
      "cell_type": "code",
      "source": [
        "D_test_data = D.drop(['Target'], axis = 1)\n",
        "D_test_data"
      ],
      "metadata": {
        "colab": {
          "base_uri": "https://localhost:8080/",
          "height": 423
        },
        "id": "WdrW9gEAheBj",
        "outputId": "fabb8e19-36ce-4a51-f487-a7090bfc72d6"
      },
      "execution_count": null,
      "outputs": [
        {
          "output_type": "execute_result",
          "data": {
            "text/html": [
              "<div>\n",
              "<style scoped>\n",
              "    .dataframe tbody tr th:only-of-type {\n",
              "        vertical-align: middle;\n",
              "    }\n",
              "\n",
              "    .dataframe tbody tr th {\n",
              "        vertical-align: top;\n",
              "    }\n",
              "\n",
              "    .dataframe thead th {\n",
              "        text-align: right;\n",
              "    }\n",
              "</style>\n",
              "<table border=\"1\" class=\"dataframe\">\n",
              "  <thead>\n",
              "    <tr style=\"text-align: right;\">\n",
              "      <th></th>\n",
              "      <th>J1</th>\n",
              "      <th>J2</th>\n",
              "      <th>J3</th>\n",
              "      <th>J4</th>\n",
              "      <th>J5</th>\n",
              "      <th>J6</th>\n",
              "      <th>J7</th>\n",
              "      <th>J8</th>\n",
              "      <th>J9</th>\n",
              "    </tr>\n",
              "  </thead>\n",
              "  <tbody>\n",
              "    <tr>\n",
              "      <th>0</th>\n",
              "      <td>19732.95</td>\n",
              "      <td>3932.73</td>\n",
              "      <td>0.37362</td>\n",
              "      <td>104.503598</td>\n",
              "      <td>1.458263e+06</td>\n",
              "      <td>149.9560</td>\n",
              "      <td>4083.64000</td>\n",
              "      <td>63.0</td>\n",
              "      <td>33.3465</td>\n",
              "    </tr>\n",
              "    <tr>\n",
              "      <th>1</th>\n",
              "      <td>10788.40</td>\n",
              "      <td>4253.25</td>\n",
              "      <td>0.39424</td>\n",
              "      <td>93.228900</td>\n",
              "      <td>1.493746e+06</td>\n",
              "      <td>150.8180</td>\n",
              "      <td>3929.65000</td>\n",
              "      <td>59.0</td>\n",
              "      <td>31.3213</td>\n",
              "    </tr>\n",
              "    <tr>\n",
              "      <th>2</th>\n",
              "      <td>7852.36</td>\n",
              "      <td>2801.18</td>\n",
              "      <td>0.35673</td>\n",
              "      <td>83.870000</td>\n",
              "      <td>1.051329e+06</td>\n",
              "      <td>111.6930</td>\n",
              "      <td>3259.04000</td>\n",
              "      <td>82.0</td>\n",
              "      <td>38.2204</td>\n",
              "    </tr>\n",
              "    <tr>\n",
              "      <th>3</th>\n",
              "      <td>6005.91</td>\n",
              "      <td>1236.67</td>\n",
              "      <td>0.20590</td>\n",
              "      <td>55.806400</td>\n",
              "      <td>8.171214e+05</td>\n",
              "      <td>68.2450</td>\n",
              "      <td>2343.07000</td>\n",
              "      <td>27.0</td>\n",
              "      <td>42.0071</td>\n",
              "    </tr>\n",
              "    <tr>\n",
              "      <th>4</th>\n",
              "      <td>9797.55</td>\n",
              "      <td>2419.16</td>\n",
              "      <td>0.24691</td>\n",
              "      <td>142.103000</td>\n",
              "      <td>1.382717e+06</td>\n",
              "      <td>156.0510</td>\n",
              "      <td>4153.45000</td>\n",
              "      <td>116.0</td>\n",
              "      <td>32.4552</td>\n",
              "    </tr>\n",
              "    <tr>\n",
              "      <th>...</th>\n",
              "      <td>...</td>\n",
              "      <td>...</td>\n",
              "      <td>...</td>\n",
              "      <td>...</td>\n",
              "      <td>...</td>\n",
              "      <td>...</td>\n",
              "      <td>...</td>\n",
              "      <td>...</td>\n",
              "      <td>...</td>\n",
              "    </tr>\n",
              "    <tr>\n",
              "      <th>995</th>\n",
              "      <td>12049.00</td>\n",
              "      <td>3545.42</td>\n",
              "      <td>0.29425</td>\n",
              "      <td>133.097000</td>\n",
              "      <td>1.674585e+06</td>\n",
              "      <td>158.3190</td>\n",
              "      <td>5152.46000</td>\n",
              "      <td>70.0</td>\n",
              "      <td>27.2676</td>\n",
              "    </tr>\n",
              "    <tr>\n",
              "      <th>996</th>\n",
              "      <td>8306.67</td>\n",
              "      <td>2900.88</td>\n",
              "      <td>0.34922</td>\n",
              "      <td>86.585400</td>\n",
              "      <td>1.107582e+06</td>\n",
              "      <td>123.8220</td>\n",
              "      <td>3285.22000</td>\n",
              "      <td>45.0</td>\n",
              "      <td>37.0239</td>\n",
              "    </tr>\n",
              "    <tr>\n",
              "      <th>997</th>\n",
              "      <td>3886.43</td>\n",
              "      <td>1246.46</td>\n",
              "      <td>0.32072</td>\n",
              "      <td>36.255600</td>\n",
              "      <td>5.253964e+05</td>\n",
              "      <td>48.8346</td>\n",
              "      <td>1376.87000</td>\n",
              "      <td>30.0</td>\n",
              "      <td>44.4725</td>\n",
              "    </tr>\n",
              "    <tr>\n",
              "      <th>998</th>\n",
              "      <td>11020.00</td>\n",
              "      <td>3871.94</td>\n",
              "      <td>0.35135</td>\n",
              "      <td>95.641000</td>\n",
              "      <td>1.510503e+06</td>\n",
              "      <td>130.7290</td>\n",
              "      <td>6817.59625</td>\n",
              "      <td>10.0</td>\n",
              "      <td>31.4343</td>\n",
              "    </tr>\n",
              "    <tr>\n",
              "      <th>999</th>\n",
              "      <td>7252.39</td>\n",
              "      <td>2149.18</td>\n",
              "      <td>0.29634</td>\n",
              "      <td>74.424100</td>\n",
              "      <td>9.829372e+05</td>\n",
              "      <td>113.3690</td>\n",
              "      <td>3100.90000</td>\n",
              "      <td>81.0</td>\n",
              "      <td>39.4261</td>\n",
              "    </tr>\n",
              "  </tbody>\n",
              "</table>\n",
              "<p>1000 rows × 9 columns</p>\n",
              "</div>"
            ],
            "text/plain": [
              "           J1       J2       J3  ...          J7     J8       J9\n",
              "0    19732.95  3932.73  0.37362  ...  4083.64000   63.0  33.3465\n",
              "1    10788.40  4253.25  0.39424  ...  3929.65000   59.0  31.3213\n",
              "2     7852.36  2801.18  0.35673  ...  3259.04000   82.0  38.2204\n",
              "3     6005.91  1236.67  0.20590  ...  2343.07000   27.0  42.0071\n",
              "4     9797.55  2419.16  0.24691  ...  4153.45000  116.0  32.4552\n",
              "..        ...      ...      ...  ...         ...    ...      ...\n",
              "995  12049.00  3545.42  0.29425  ...  5152.46000   70.0  27.2676\n",
              "996   8306.67  2900.88  0.34922  ...  3285.22000   45.0  37.0239\n",
              "997   3886.43  1246.46  0.32072  ...  1376.87000   30.0  44.4725\n",
              "998  11020.00  3871.94  0.35135  ...  6817.59625   10.0  31.4343\n",
              "999   7252.39  2149.18  0.29634  ...  3100.90000   81.0  39.4261\n",
              "\n",
              "[1000 rows x 9 columns]"
            ]
          },
          "metadata": {},
          "execution_count": 28
        }
      ]
    },
    {
      "cell_type": "code",
      "source": [
        "def gen_arr( min, max):\n",
        "   arr = np.random.uniform(min, max, size=(15))\n",
        "   return arr"
      ],
      "metadata": {
        "id": "9LC1W93DihAx"
      },
      "execution_count": null,
      "outputs": []
    },
    {
      "cell_type": "code",
      "source": [
        "newarr =[]\n",
        "for columns in names:\n",
        "  newarr.append(gen_arr(max(D[columns]),min(D[columns])))"
      ],
      "metadata": {
        "id": "7T_5IMuYjWUq"
      },
      "execution_count": null,
      "outputs": []
    },
    {
      "cell_type": "code",
      "source": [
        "newarr"
      ],
      "metadata": {
        "id": "PlA8Namtj3Xa",
        "colab": {
          "base_uri": "https://localhost:8080/"
        },
        "outputId": "42297f54-e16a-4851-b7de-80874802ac4d"
      },
      "execution_count": null,
      "outputs": [
        {
          "output_type": "execute_result",
          "data": {
            "text/plain": [
              "[array([ 6910.02021693, 11238.84546308, 17433.59194961, 16849.39148844,\n",
              "        18808.13282783,  4621.51898954, 13628.97095699, 16979.90261816,\n",
              "        11709.9110249 , 13919.45979846, 11533.65228038, 12708.638134  ,\n",
              "        19524.50869764, 19178.6411486 , 10120.43081646]),\n",
              " array([4066.14284291,  771.57327465, 5749.73821768, 2798.79304016,\n",
              "        4380.3888777 , 4512.01537941, 4401.91340637, 5208.99903583,\n",
              "        5981.59467317, 3204.79086754, 3069.015838  , 3895.1907522 ,\n",
              "        2849.07928601, 2649.19535641, 4400.59853327]),\n",
              " array([0.15051408, 0.20965062, 0.43107335, 0.39220474, 0.16800766,\n",
              "        0.18385338, 0.20512156, 0.32452892, 0.27987314, 0.31044242,\n",
              "        0.28334541, 0.31419726, 0.28673346, 0.23838294, 0.33478934]),\n",
              " array([ 44.53414932, 221.14292421, 169.62226728,  30.24740467,\n",
              "        210.03664918, 116.34691975, 204.06172768,  66.81952113,\n",
              "        141.65207067,  30.74265759, 235.29506174,  98.41234596,\n",
              "        219.10841583,  44.74550566, 138.86171728]),\n",
              " array([1340097.39813075, 2004192.85388059,  779260.30247672,\n",
              "        2664678.34010921, 1831439.08556395, 2520260.45294166,\n",
              "        1940766.40218194, 1744907.55888989, 1876778.7652315 ,\n",
              "         913370.40327763, 2650544.83558733,  603034.14136256,\n",
              "        2128675.40438243,  629663.00063379, 2588229.99139266]),\n",
              " array([195.91520305, 227.82916056, 104.1740296 , 196.3933479 ,\n",
              "        212.34823227, 300.98317138,  48.22577071, 283.53858486,\n",
              "        143.50752348, 142.80162023, 197.19545165, 244.01096073,\n",
              "        276.30466923, 140.36196698, 309.62455977]),\n",
              " array([6427.12028599, 3427.27322928, 3050.89452559, 5636.56697306,\n",
              "        5556.52619173, 1670.03806729, 4687.26293413, 1992.71268232,\n",
              "        5550.71087562, 5390.52507691, 6533.09817465, 5847.9172252 ,\n",
              "        1631.63523112, 5235.52054377, 2984.59599358]),\n",
              " array([  8.36555451, 145.37122732, 106.1588652 , 162.37362239,\n",
              "         65.8642431 , 131.0054606 ,  12.73516529,  82.22706   ,\n",
              "         56.70143393, 133.58388339, 130.75875687,  71.21615487,\n",
              "        150.97808802,  78.97239658, 165.0831323 ]),\n",
              " array([36.73897279, 32.44613024, 19.95721842, 27.8704312 , 20.54166832,\n",
              "        31.33241386, 38.7692013 , 19.79324963, 28.67374529, 26.57682712,\n",
              "        23.75379565, 39.48168106, 26.32747942, 40.99313967, 24.65488921]),\n",
              " array([15.0646089 , 13.37397729, 20.60472721,  5.57844639,  2.51142918,\n",
              "        16.42375802,  2.58334782, 11.21368065, 18.91837481, 10.52476511,\n",
              "        17.42805083, 11.29302759, 18.20863303,  5.77036879, 11.39846623])]"
            ]
          },
          "metadata": {},
          "execution_count": 31
        }
      ]
    },
    {
      "cell_type": "code",
      "source": [
        "data = {'J1': newarr[0],\n",
        "        'J2': newarr[1],\n",
        "        'J3': newarr[2],\n",
        "        'J4': newarr[3],\n",
        "        'J5': newarr[4],\n",
        "        'J6': newarr[5],\n",
        "        'J7': newarr[6],\n",
        "        'J8': newarr[7],\n",
        "        'J9': newarr[8],\n",
        "        }\n",
        "# Convert the dictionary into DataFrame\n",
        "D_test_data = pd.DataFrame(data)"
      ],
      "metadata": {
        "id": "_hG8EBSrkVq2"
      },
      "execution_count": null,
      "outputs": []
    },
    {
      "cell_type": "code",
      "source": [
        "D_test_data"
      ],
      "metadata": {
        "colab": {
          "base_uri": "https://localhost:8080/",
          "height": 520
        },
        "id": "AK-lqWd3k8xX",
        "outputId": "7ab4e30f-6ccd-4300-d22e-ea9d27a2a050"
      },
      "execution_count": null,
      "outputs": [
        {
          "output_type": "execute_result",
          "data": {
            "text/html": [
              "<div>\n",
              "<style scoped>\n",
              "    .dataframe tbody tr th:only-of-type {\n",
              "        vertical-align: middle;\n",
              "    }\n",
              "\n",
              "    .dataframe tbody tr th {\n",
              "        vertical-align: top;\n",
              "    }\n",
              "\n",
              "    .dataframe thead th {\n",
              "        text-align: right;\n",
              "    }\n",
              "</style>\n",
              "<table border=\"1\" class=\"dataframe\">\n",
              "  <thead>\n",
              "    <tr style=\"text-align: right;\">\n",
              "      <th></th>\n",
              "      <th>J1</th>\n",
              "      <th>J2</th>\n",
              "      <th>J3</th>\n",
              "      <th>J4</th>\n",
              "      <th>J5</th>\n",
              "      <th>J6</th>\n",
              "      <th>J7</th>\n",
              "      <th>J8</th>\n",
              "      <th>J9</th>\n",
              "    </tr>\n",
              "  </thead>\n",
              "  <tbody>\n",
              "    <tr>\n",
              "      <th>0</th>\n",
              "      <td>6910.020217</td>\n",
              "      <td>4066.142843</td>\n",
              "      <td>0.150514</td>\n",
              "      <td>44.534149</td>\n",
              "      <td>1.340097e+06</td>\n",
              "      <td>195.915203</td>\n",
              "      <td>6427.120286</td>\n",
              "      <td>8.365555</td>\n",
              "      <td>36.738973</td>\n",
              "    </tr>\n",
              "    <tr>\n",
              "      <th>1</th>\n",
              "      <td>11238.845463</td>\n",
              "      <td>771.573275</td>\n",
              "      <td>0.209651</td>\n",
              "      <td>221.142924</td>\n",
              "      <td>2.004193e+06</td>\n",
              "      <td>227.829161</td>\n",
              "      <td>3427.273229</td>\n",
              "      <td>145.371227</td>\n",
              "      <td>32.446130</td>\n",
              "    </tr>\n",
              "    <tr>\n",
              "      <th>2</th>\n",
              "      <td>17433.591950</td>\n",
              "      <td>5749.738218</td>\n",
              "      <td>0.431073</td>\n",
              "      <td>169.622267</td>\n",
              "      <td>7.792603e+05</td>\n",
              "      <td>104.174030</td>\n",
              "      <td>3050.894526</td>\n",
              "      <td>106.158865</td>\n",
              "      <td>19.957218</td>\n",
              "    </tr>\n",
              "    <tr>\n",
              "      <th>3</th>\n",
              "      <td>16849.391488</td>\n",
              "      <td>2798.793040</td>\n",
              "      <td>0.392205</td>\n",
              "      <td>30.247405</td>\n",
              "      <td>2.664678e+06</td>\n",
              "      <td>196.393348</td>\n",
              "      <td>5636.566973</td>\n",
              "      <td>162.373622</td>\n",
              "      <td>27.870431</td>\n",
              "    </tr>\n",
              "    <tr>\n",
              "      <th>4</th>\n",
              "      <td>18808.132828</td>\n",
              "      <td>4380.388878</td>\n",
              "      <td>0.168008</td>\n",
              "      <td>210.036649</td>\n",
              "      <td>1.831439e+06</td>\n",
              "      <td>212.348232</td>\n",
              "      <td>5556.526192</td>\n",
              "      <td>65.864243</td>\n",
              "      <td>20.541668</td>\n",
              "    </tr>\n",
              "    <tr>\n",
              "      <th>5</th>\n",
              "      <td>4621.518990</td>\n",
              "      <td>4512.015379</td>\n",
              "      <td>0.183853</td>\n",
              "      <td>116.346920</td>\n",
              "      <td>2.520260e+06</td>\n",
              "      <td>300.983171</td>\n",
              "      <td>1670.038067</td>\n",
              "      <td>131.005461</td>\n",
              "      <td>31.332414</td>\n",
              "    </tr>\n",
              "    <tr>\n",
              "      <th>6</th>\n",
              "      <td>13628.970957</td>\n",
              "      <td>4401.913406</td>\n",
              "      <td>0.205122</td>\n",
              "      <td>204.061728</td>\n",
              "      <td>1.940766e+06</td>\n",
              "      <td>48.225771</td>\n",
              "      <td>4687.262934</td>\n",
              "      <td>12.735165</td>\n",
              "      <td>38.769201</td>\n",
              "    </tr>\n",
              "    <tr>\n",
              "      <th>7</th>\n",
              "      <td>16979.902618</td>\n",
              "      <td>5208.999036</td>\n",
              "      <td>0.324529</td>\n",
              "      <td>66.819521</td>\n",
              "      <td>1.744908e+06</td>\n",
              "      <td>283.538585</td>\n",
              "      <td>1992.712682</td>\n",
              "      <td>82.227060</td>\n",
              "      <td>19.793250</td>\n",
              "    </tr>\n",
              "    <tr>\n",
              "      <th>8</th>\n",
              "      <td>11709.911025</td>\n",
              "      <td>5981.594673</td>\n",
              "      <td>0.279873</td>\n",
              "      <td>141.652071</td>\n",
              "      <td>1.876779e+06</td>\n",
              "      <td>143.507523</td>\n",
              "      <td>5550.710876</td>\n",
              "      <td>56.701434</td>\n",
              "      <td>28.673745</td>\n",
              "    </tr>\n",
              "    <tr>\n",
              "      <th>9</th>\n",
              "      <td>13919.459798</td>\n",
              "      <td>3204.790868</td>\n",
              "      <td>0.310442</td>\n",
              "      <td>30.742658</td>\n",
              "      <td>9.133704e+05</td>\n",
              "      <td>142.801620</td>\n",
              "      <td>5390.525077</td>\n",
              "      <td>133.583883</td>\n",
              "      <td>26.576827</td>\n",
              "    </tr>\n",
              "    <tr>\n",
              "      <th>10</th>\n",
              "      <td>11533.652280</td>\n",
              "      <td>3069.015838</td>\n",
              "      <td>0.283345</td>\n",
              "      <td>235.295062</td>\n",
              "      <td>2.650545e+06</td>\n",
              "      <td>197.195452</td>\n",
              "      <td>6533.098175</td>\n",
              "      <td>130.758757</td>\n",
              "      <td>23.753796</td>\n",
              "    </tr>\n",
              "    <tr>\n",
              "      <th>11</th>\n",
              "      <td>12708.638134</td>\n",
              "      <td>3895.190752</td>\n",
              "      <td>0.314197</td>\n",
              "      <td>98.412346</td>\n",
              "      <td>6.030341e+05</td>\n",
              "      <td>244.010961</td>\n",
              "      <td>5847.917225</td>\n",
              "      <td>71.216155</td>\n",
              "      <td>39.481681</td>\n",
              "    </tr>\n",
              "    <tr>\n",
              "      <th>12</th>\n",
              "      <td>19524.508698</td>\n",
              "      <td>2849.079286</td>\n",
              "      <td>0.286733</td>\n",
              "      <td>219.108416</td>\n",
              "      <td>2.128675e+06</td>\n",
              "      <td>276.304669</td>\n",
              "      <td>1631.635231</td>\n",
              "      <td>150.978088</td>\n",
              "      <td>26.327479</td>\n",
              "    </tr>\n",
              "    <tr>\n",
              "      <th>13</th>\n",
              "      <td>19178.641149</td>\n",
              "      <td>2649.195356</td>\n",
              "      <td>0.238383</td>\n",
              "      <td>44.745506</td>\n",
              "      <td>6.296630e+05</td>\n",
              "      <td>140.361967</td>\n",
              "      <td>5235.520544</td>\n",
              "      <td>78.972397</td>\n",
              "      <td>40.993140</td>\n",
              "    </tr>\n",
              "    <tr>\n",
              "      <th>14</th>\n",
              "      <td>10120.430816</td>\n",
              "      <td>4400.598533</td>\n",
              "      <td>0.334789</td>\n",
              "      <td>138.861717</td>\n",
              "      <td>2.588230e+06</td>\n",
              "      <td>309.624560</td>\n",
              "      <td>2984.595994</td>\n",
              "      <td>165.083132</td>\n",
              "      <td>24.654889</td>\n",
              "    </tr>\n",
              "  </tbody>\n",
              "</table>\n",
              "</div>"
            ],
            "text/plain": [
              "              J1           J2        J3  ...           J7          J8         J9\n",
              "0    6910.020217  4066.142843  0.150514  ...  6427.120286    8.365555  36.738973\n",
              "1   11238.845463   771.573275  0.209651  ...  3427.273229  145.371227  32.446130\n",
              "2   17433.591950  5749.738218  0.431073  ...  3050.894526  106.158865  19.957218\n",
              "3   16849.391488  2798.793040  0.392205  ...  5636.566973  162.373622  27.870431\n",
              "4   18808.132828  4380.388878  0.168008  ...  5556.526192   65.864243  20.541668\n",
              "5    4621.518990  4512.015379  0.183853  ...  1670.038067  131.005461  31.332414\n",
              "6   13628.970957  4401.913406  0.205122  ...  4687.262934   12.735165  38.769201\n",
              "7   16979.902618  5208.999036  0.324529  ...  1992.712682   82.227060  19.793250\n",
              "8   11709.911025  5981.594673  0.279873  ...  5550.710876   56.701434  28.673745\n",
              "9   13919.459798  3204.790868  0.310442  ...  5390.525077  133.583883  26.576827\n",
              "10  11533.652280  3069.015838  0.283345  ...  6533.098175  130.758757  23.753796\n",
              "11  12708.638134  3895.190752  0.314197  ...  5847.917225   71.216155  39.481681\n",
              "12  19524.508698  2849.079286  0.286733  ...  1631.635231  150.978088  26.327479\n",
              "13  19178.641149  2649.195356  0.238383  ...  5235.520544   78.972397  40.993140\n",
              "14  10120.430816  4400.598533  0.334789  ...  2984.595994  165.083132  24.654889\n",
              "\n",
              "[15 rows x 9 columns]"
            ]
          },
          "metadata": {},
          "execution_count": 33
        }
      ]
    },
    {
      "cell_type": "markdown",
      "metadata": {
        "id": "MW64Gb6ekE8V"
      },
      "source": [
        "## 2. Training the models"
      ]
    },
    {
      "cell_type": "markdown",
      "metadata": {
        "id": "MZN3xQQrkctB"
      },
      "source": [
        "### (a) With 75% of the dataset, Train a clustering model and concduct the following experiments"
      ]
    },
    {
      "cell_type": "markdown",
      "metadata": {
        "id": "r5JbbnYMCaj8"
      },
      "source": [
        "#### (i) Experiment 1 (E1)"
      ]
    },
    {
      "cell_type": "code",
      "metadata": {
        "id": "90kEH4lqfqlR"
      },
      "source": [
        "class sgd_regressor:\n",
        "\n",
        "  def __init__(self,X):    \n",
        "    self.W = np.random.randn(X.shape[1],1)    \n",
        "    \n",
        "\n",
        "  def fit(self,X, y, learning_rate=0.1, numEpochs=2000):\n",
        "    num_of_samples = len(X)\n",
        "    xbShuffled, yShuffled = shuffle(X, y)\n",
        "    for epoch in range(numEpochs):\n",
        "      \n",
        "      for i in range(num_of_samples):        \n",
        "        X = xbShuffled[i:i+1]\n",
        "        yi = yShuffled[i:i+1]\n",
        "        \n",
        "        delta = X.T.dot(X.dot(self.W)-yi.reshape(-1,1))\n",
        "                \n",
        "        self.W = self.W - learning_rate * delta\n",
        "      learning_rate = learning_rate/1.02\n",
        "    return self.W\n",
        "    \n",
        "  def predict(self,X,W):\n",
        "    return X.dot(W)\n",
        "\n",
        "  def measure(self,y_predict,y_actual):\n",
        "    return np.sqrt(mean_squared_error(y_predict, y_actual))"
      ],
      "execution_count": null,
      "outputs": []
    },
    {
      "cell_type": "code",
      "metadata": {
        "id": "gT2NYM_Bmdui"
      },
      "source": [
        "from sklearn.utils import shuffle\n",
        "def StoicGradientfunc(D, col, target, pre_arr):\n",
        "  X_traind, X_testd, y_traind, y_testd = train_test_split(np.asarray(D[col]),D[target], test_size=0.25, random_state=4)\n",
        "  \n",
        "  scaler = MinMaxScaler(feature_range=(0,1))\n",
        "  X_train = scaler.fit_transform(X_traind)\n",
        "  X_test = scaler.transform(X_testd)\n",
        "  \n",
        "  X_train_b = np.asarray(X_train)\n",
        "  Y_train = np.asarray(y_traind)\n",
        "  X_test_b = np.asarray(X_test)\n",
        "  sgd = sgd_regressor(X_train_b)\n",
        "  \n",
        "  w = sgd.fit(X_train_b,Y_train)\n",
        "  predicted_train =sgd.predict(X_train_b,w)\n",
        "  rmse_train = sgd.measure(predicted_train,Y_train)\n",
        "  predicted_test =sgd.predict(X_test_b,w)\n",
        "  predict = sgd.predict(pre_arr, w)\n",
        "  rmse_test = sgd.measure(predicted_test,y_testd)\n",
        "  return(rmse_train, rmse_test, predict)"
      ],
      "execution_count": null,
      "outputs": []
    },
    {
      "cell_type": "code",
      "metadata": {
        "id": "41UgASNhfvIH",
        "colab": {
          "base_uri": "https://localhost:8080/"
        },
        "outputId": "9dd5b112-5c53-4bf1-bda3-b5984805d7b7"
      },
      "source": [
        "col = ['J1', 'J2', 'J3', 'J4', 'J5', 'J6', 'J7', 'J8', 'J9']\n",
        "kd, ld, E1 = StoicGradientfunc(D, col, 'Target' , D_test_data)\n",
        "print('Training Mean Absolute Error', kd)\n",
        "print('Test Mean Absolute Error', ld)\n",
        "print('Performance', (ld+kd)/2)\n",
        "print('Predicted value is: \\n', E1)"
      ],
      "execution_count": null,
      "outputs": [
        {
          "output_type": "stream",
          "name": "stdout",
          "text": [
            "Training Mean Absolute Error 5.15466025501809\n",
            "Test Mean Absolute Error 5.386571248761474\n",
            "Performance 5.270615751889782\n",
            "Predicted value is: \n",
            "                0\n",
            "0   3.539325e+07\n",
            "1   5.290567e+07\n",
            "2   2.063733e+07\n",
            "3   7.036297e+07\n",
            "4   4.839218e+07\n",
            "5   6.650640e+07\n",
            "6   5.125793e+07\n",
            "7   4.610363e+07\n",
            "8   4.957052e+07\n",
            "9   2.415954e+07\n",
            "10  6.996809e+07\n",
            "11  1.596954e+07\n",
            "12  5.622331e+07\n",
            "13  1.669257e+07\n",
            "14  6.832005e+07\n"
          ]
        }
      ]
    },
    {
      "cell_type": "markdown",
      "metadata": {
        "id": "rx54iL-jsI3c"
      },
      "source": [
        "#### (ii)  Experiment 2 (E2)"
      ]
    },
    {
      "cell_type": "code",
      "metadata": {
        "id": "uLWEkpeBkLjU"
      },
      "source": [
        "class batch_regressor:\n",
        "\n",
        "  def __init__(self,X):    \n",
        "    self.W = np.random.randn(X.shape[1],1)    \n",
        "    \n",
        "\n",
        "  def fit(self,X, y, learning_rate=0.1, numEpochs=2000):\n",
        "    num_of_samples = len(X)    \n",
        "    for epoch in range(numEpochs):      \n",
        "      X, y = shuffle(X, y)\n",
        "      delta = (X.T.dot(X.dot(self.W)-y.reshape(-1,1))/num_of_samples)        \n",
        "      self.W = self.W - learning_rate * delta\n",
        "      learning_rate = learning_rate/1.02\n",
        "    \n",
        "    return self.W\n",
        "    \n",
        "  def predict(self,X,W):\n",
        "    return X.dot(W)\n",
        "\n",
        "  def measure(self,y_predict,y_actual):\n",
        "    return np.sqrt(mean_squared_error(y_predict, y_actual))"
      ],
      "execution_count": null,
      "outputs": []
    },
    {
      "cell_type": "code",
      "metadata": {
        "id": "r5_1FdLusHiE"
      },
      "source": [
        "def batch_gradient(D, col, target, pre_arr):\n",
        "  X_traind, X_testd, y_traind, y_testd = train_test_split(np.asarray(D[col]),D[target], test_size=0.25, random_state=4)\n",
        "  \n",
        "  scaler = MinMaxScaler(feature_range=(0,1))\n",
        "  X_train = scaler.fit_transform(X_traind)\n",
        "  X_test = scaler.transform(X_testd)\n",
        "  \n",
        "  X_train_b = np.asarray(X_train)\n",
        "  Y_train = np.asarray(y_traind)\n",
        "  X_test_b = np.asarray(X_test)\n",
        "  bgd = batch_regressor(X_train_b)\n",
        "  \n",
        "  w = bgd.fit(X_train_b,Y_train)\n",
        "  predicted_train =bgd.predict(X_train_b,w)\n",
        "  rmse_train = bgd.measure(predicted_train,Y_train)\n",
        "  predicted_test =bgd.predict(X_test_b,w)\n",
        "  rmse_test = bgd.measure(predicted_test,y_testd)\n",
        "  print('SDE train Error', rmse_train)\n",
        "  print('SDE test Error', rmse_test)\n",
        "  per = (rmse_train+rmse_test)/2\n",
        "  print('Performane', per)\n",
        "  print('Prediction: \\n',bgd.predict(pre_arr,w))\n",
        "  print('\\n')\n",
        "  return(bgd.predict(pre_arr,w))"
      ],
      "execution_count": null,
      "outputs": []
    },
    {
      "cell_type": "code",
      "metadata": {
        "colab": {
          "base_uri": "https://localhost:8080/"
        },
        "id": "3n6iy8iHkf0I",
        "outputId": "f72e51df-801a-460d-f0c2-b62ed0eb49a0"
      },
      "source": [
        "E2 = np.array(batch_gradient(D, col, 'Target' , D_test_data))"
      ],
      "execution_count": null,
      "outputs": [
        {
          "output_type": "stream",
          "name": "stdout",
          "text": [
            "SDE train Error 5.983395866670362\n",
            "SDE test Error 5.710824367556958\n",
            "Performane 5.84711011711366\n",
            "Prediction: \n",
            "                0\n",
            "0   2.054833e+06\n",
            "1   3.051134e+06\n",
            "2   1.201988e+06\n",
            "3   4.062084e+06\n",
            "4   2.801557e+06\n",
            "5   3.831908e+06\n",
            "6   2.963391e+06\n",
            "7   2.662289e+06\n",
            "8   2.870095e+06\n",
            "9   1.406632e+06\n",
            "10  4.041430e+06\n",
            "11  9.380152e+05\n",
            "12  3.240811e+06\n",
            "13  9.772150e+05\n",
            "14  3.939756e+06\n",
            "\n",
            "\n"
          ]
        }
      ]
    },
    {
      "cell_type": "markdown",
      "metadata": {
        "id": "na1F-FVyscNm"
      },
      "source": [
        "#### (iii)  Experiment 3 (E3)"
      ]
    },
    {
      "cell_type": "code",
      "metadata": {
        "id": "4e5zv_hbsb2g"
      },
      "source": [
        "class mini_batch_regressor:\n",
        "\n",
        "  def __init__(self,X):    \n",
        "    self.W = np.random.randn(X.shape[1],1)    \n",
        "    \n",
        "\n",
        "  def fit(self,X, y, learning_rate=0.1, numEpochs=2000, batchsize=200):    \n",
        "    num_of_samples = len(X)\n",
        "    \n",
        "    for epoch in range(numEpochs):\n",
        "      xbShuffled, yShuffled = shuffle(X, y)\n",
        "      for i in range(0,num_of_samples,batchsize):        \n",
        "        X = xbShuffled[i:i+batchsize]\n",
        "        y = yShuffled[i:i+batchsize]\n",
        "        if len(X)<batchsize:\n",
        "          break        \n",
        "        delta = 1/batchsize*X.T.dot(X.dot(self.W)-y.reshape(-1,1))                        \n",
        "              \n",
        "        self.W = self.W - learning_rate * delta    \n",
        "      learning_rate = learning_rate/1.02  \n",
        "    return self.W\n",
        "    \n",
        "  def predict(self,X,W):\n",
        "    return X.dot(W)\n",
        "\n",
        "  def measure(self,y_predict,y_actual):\n",
        "    return np.sqrt(mean_squared_error(y_predict, y_actual))"
      ],
      "execution_count": null,
      "outputs": []
    },
    {
      "cell_type": "code",
      "metadata": {
        "id": "fsXQxVHzl9oS"
      },
      "source": [
        "def minibatch_gradient(D, col, target, pre_arr):\n",
        "  X_traind, X_testd, y_traind, y_testd = train_test_split(np.asarray(D[col]),D[target], test_size=0.25, random_state=4)\n",
        "\n",
        "  scaler = MinMaxScaler(feature_range=(0,1))\n",
        "  X_train = scaler.fit_transform(X_traind)\n",
        "  X_test = scaler.transform(X_testd)\n",
        "\n",
        "  X_train_b = np.asarray(X_train)\n",
        "  Y_train = np.asarray(y_traind)\n",
        "  X_test_b = np.asarray(X_test)\n",
        "  mgd = mini_batch_regressor(X_train_b)\n",
        "\n",
        "  w = mgd.fit(X_train_b,Y_train)\n",
        "  predicted_train =mgd.predict(X_train_b,w)\n",
        "  rmse_train = mgd.measure(predicted_train,Y_train)\n",
        "  predicted_test =mgd.predict(X_test_b,w)\n",
        "  rmse_test = mgd.measure(predicted_test,y_testd)\n",
        "  print('SDE train Error', rmse_train)\n",
        "  print('SDE test Error', rmse_test)\n",
        "  per = (rmse_train+rmse_test)/2\n",
        "  print('Performane', per)\n",
        "  print('Prediction: \\n',mgd.predict(pre_arr,w))\n",
        "  print('\\n')\n",
        "  return(mgd.predict(pre_arr,w))"
      ],
      "execution_count": null,
      "outputs": []
    },
    {
      "cell_type": "code",
      "metadata": {
        "colab": {
          "base_uri": "https://localhost:8080/"
        },
        "id": "OOuyJWNlmR4Y",
        "outputId": "663ed85c-fe61-451d-a049-d058e678d01f"
      },
      "source": [
        "E3 = np.array(minibatch_gradient(D, col, 'Target' , D_test_data))"
      ],
      "execution_count": null,
      "outputs": [
        {
          "output_type": "stream",
          "name": "stdout",
          "text": [
            "SDE train Error 7.933171865969908\n",
            "SDE test Error 7.596355653041208\n",
            "Performane 7.764763759505557\n",
            "Prediction: \n",
            "                0\n",
            "0   1.273210e+06\n",
            "1   1.902943e+06\n",
            "2   7.562342e+05\n",
            "3   2.532349e+06\n",
            "4   1.750667e+06\n",
            "5   2.375214e+06\n",
            "6   1.845409e+06\n",
            "7   1.662983e+06\n",
            "8   1.782489e+06\n",
            "9   8.811335e+05\n",
            "10  2.512542e+06\n",
            "11  5.878019e+05\n",
            "12  2.028507e+06\n",
            "13  6.218009e+05\n",
            "14  2.447976e+06\n",
            "\n",
            "\n"
          ]
        }
      ]
    },
    {
      "cell_type": "markdown",
      "metadata": {
        "id": "I2un5l8-snbu"
      },
      "source": [
        "### (iV)Experiment 4 (E4): "
      ]
    },
    {
      "cell_type": "code",
      "metadata": {
        "id": "EXi-DxXXso40"
      },
      "source": [
        "D1 = D.copy()"
      ],
      "execution_count": null,
      "outputs": []
    },
    {
      "cell_type": "code",
      "metadata": {
        "id": "A_Mcv_rzqnyk"
      },
      "source": [
        "#df.loc[boolean_condition, column_name] = new_value\n",
        "D1.loc[D.Target <= 0, 'Target'] = 'Label Z'\n",
        "D1.loc[np.logical_and(D.Target > 0 , D.Target <= 10), 'Target'] = 'Label B'\n",
        "D1.loc[np.logical_and(D.Target > 10 , D.Target <= 20), 'Target'] = 'Label C'\n",
        "D1.loc[np.logical_and(D.Target > 20 , D.Target <= 30), 'Target'] = 'Label D'\n",
        "D1.loc[D.Target > 30 , 'Target'] = 'Label E'"
      ],
      "execution_count": null,
      "outputs": []
    },
    {
      "cell_type": "code",
      "metadata": {
        "colab": {
          "base_uri": "https://localhost:8080/",
          "height": 423
        },
        "id": "6x3lhYxkpggW",
        "outputId": "491ff0f8-37ee-4157-890c-bf02ed6bfef7"
      },
      "source": [
        "D1"
      ],
      "execution_count": null,
      "outputs": [
        {
          "output_type": "execute_result",
          "data": {
            "text/html": [
              "<div>\n",
              "<style scoped>\n",
              "    .dataframe tbody tr th:only-of-type {\n",
              "        vertical-align: middle;\n",
              "    }\n",
              "\n",
              "    .dataframe tbody tr th {\n",
              "        vertical-align: top;\n",
              "    }\n",
              "\n",
              "    .dataframe thead th {\n",
              "        text-align: right;\n",
              "    }\n",
              "</style>\n",
              "<table border=\"1\" class=\"dataframe\">\n",
              "  <thead>\n",
              "    <tr style=\"text-align: right;\">\n",
              "      <th></th>\n",
              "      <th>J1</th>\n",
              "      <th>J2</th>\n",
              "      <th>J3</th>\n",
              "      <th>J4</th>\n",
              "      <th>J5</th>\n",
              "      <th>J6</th>\n",
              "      <th>J7</th>\n",
              "      <th>J8</th>\n",
              "      <th>J9</th>\n",
              "      <th>Target</th>\n",
              "    </tr>\n",
              "  </thead>\n",
              "  <tbody>\n",
              "    <tr>\n",
              "      <th>0</th>\n",
              "      <td>19732.95</td>\n",
              "      <td>3932.73</td>\n",
              "      <td>0.37362</td>\n",
              "      <td>104.503598</td>\n",
              "      <td>1.458263e+06</td>\n",
              "      <td>149.9560</td>\n",
              "      <td>4083.64000</td>\n",
              "      <td>63.0</td>\n",
              "      <td>33.3465</td>\n",
              "      <td>Label C</td>\n",
              "    </tr>\n",
              "    <tr>\n",
              "      <th>1</th>\n",
              "      <td>10788.40</td>\n",
              "      <td>4253.25</td>\n",
              "      <td>0.39424</td>\n",
              "      <td>93.228900</td>\n",
              "      <td>1.493746e+06</td>\n",
              "      <td>150.8180</td>\n",
              "      <td>3929.65000</td>\n",
              "      <td>59.0</td>\n",
              "      <td>31.3213</td>\n",
              "      <td>Label C</td>\n",
              "    </tr>\n",
              "    <tr>\n",
              "      <th>2</th>\n",
              "      <td>7852.36</td>\n",
              "      <td>2801.18</td>\n",
              "      <td>0.35673</td>\n",
              "      <td>83.870000</td>\n",
              "      <td>1.051329e+06</td>\n",
              "      <td>111.6930</td>\n",
              "      <td>3259.04000</td>\n",
              "      <td>82.0</td>\n",
              "      <td>38.2204</td>\n",
              "      <td>Label B</td>\n",
              "    </tr>\n",
              "    <tr>\n",
              "      <th>3</th>\n",
              "      <td>6005.91</td>\n",
              "      <td>1236.67</td>\n",
              "      <td>0.20590</td>\n",
              "      <td>55.806400</td>\n",
              "      <td>8.171214e+05</td>\n",
              "      <td>68.2450</td>\n",
              "      <td>2343.07000</td>\n",
              "      <td>27.0</td>\n",
              "      <td>42.0071</td>\n",
              "      <td>Label C</td>\n",
              "    </tr>\n",
              "    <tr>\n",
              "      <th>4</th>\n",
              "      <td>9797.55</td>\n",
              "      <td>2419.16</td>\n",
              "      <td>0.24691</td>\n",
              "      <td>142.103000</td>\n",
              "      <td>1.382717e+06</td>\n",
              "      <td>156.0510</td>\n",
              "      <td>4153.45000</td>\n",
              "      <td>116.0</td>\n",
              "      <td>32.4552</td>\n",
              "      <td>Label B</td>\n",
              "    </tr>\n",
              "    <tr>\n",
              "      <th>...</th>\n",
              "      <td>...</td>\n",
              "      <td>...</td>\n",
              "      <td>...</td>\n",
              "      <td>...</td>\n",
              "      <td>...</td>\n",
              "      <td>...</td>\n",
              "      <td>...</td>\n",
              "      <td>...</td>\n",
              "      <td>...</td>\n",
              "      <td>...</td>\n",
              "    </tr>\n",
              "    <tr>\n",
              "      <th>995</th>\n",
              "      <td>12049.00</td>\n",
              "      <td>3545.42</td>\n",
              "      <td>0.29425</td>\n",
              "      <td>133.097000</td>\n",
              "      <td>1.674585e+06</td>\n",
              "      <td>158.3190</td>\n",
              "      <td>5152.46000</td>\n",
              "      <td>70.0</td>\n",
              "      <td>27.2676</td>\n",
              "      <td>Label C</td>\n",
              "    </tr>\n",
              "    <tr>\n",
              "      <th>996</th>\n",
              "      <td>8306.67</td>\n",
              "      <td>2900.88</td>\n",
              "      <td>0.34922</td>\n",
              "      <td>86.585400</td>\n",
              "      <td>1.107582e+06</td>\n",
              "      <td>123.8220</td>\n",
              "      <td>3285.22000</td>\n",
              "      <td>45.0</td>\n",
              "      <td>37.0239</td>\n",
              "      <td>Label B</td>\n",
              "    </tr>\n",
              "    <tr>\n",
              "      <th>997</th>\n",
              "      <td>3886.43</td>\n",
              "      <td>1246.46</td>\n",
              "      <td>0.32072</td>\n",
              "      <td>36.255600</td>\n",
              "      <td>5.253964e+05</td>\n",
              "      <td>48.8346</td>\n",
              "      <td>1376.87000</td>\n",
              "      <td>30.0</td>\n",
              "      <td>44.4725</td>\n",
              "      <td>Label C</td>\n",
              "    </tr>\n",
              "    <tr>\n",
              "      <th>998</th>\n",
              "      <td>11020.00</td>\n",
              "      <td>3871.94</td>\n",
              "      <td>0.35135</td>\n",
              "      <td>95.641000</td>\n",
              "      <td>1.510503e+06</td>\n",
              "      <td>130.7290</td>\n",
              "      <td>6817.59625</td>\n",
              "      <td>10.0</td>\n",
              "      <td>31.4343</td>\n",
              "      <td>Label C</td>\n",
              "    </tr>\n",
              "    <tr>\n",
              "      <th>999</th>\n",
              "      <td>7252.39</td>\n",
              "      <td>2149.18</td>\n",
              "      <td>0.29634</td>\n",
              "      <td>74.424100</td>\n",
              "      <td>9.829372e+05</td>\n",
              "      <td>113.3690</td>\n",
              "      <td>3100.90000</td>\n",
              "      <td>81.0</td>\n",
              "      <td>39.4261</td>\n",
              "      <td>Label B</td>\n",
              "    </tr>\n",
              "  </tbody>\n",
              "</table>\n",
              "<p>1000 rows × 10 columns</p>\n",
              "</div>"
            ],
            "text/plain": [
              "           J1       J2       J3  ...     J8       J9   Target\n",
              "0    19732.95  3932.73  0.37362  ...   63.0  33.3465  Label C\n",
              "1    10788.40  4253.25  0.39424  ...   59.0  31.3213  Label C\n",
              "2     7852.36  2801.18  0.35673  ...   82.0  38.2204  Label B\n",
              "3     6005.91  1236.67  0.20590  ...   27.0  42.0071  Label C\n",
              "4     9797.55  2419.16  0.24691  ...  116.0  32.4552  Label B\n",
              "..        ...      ...      ...  ...    ...      ...      ...\n",
              "995  12049.00  3545.42  0.29425  ...   70.0  27.2676  Label C\n",
              "996   8306.67  2900.88  0.34922  ...   45.0  37.0239  Label B\n",
              "997   3886.43  1246.46  0.32072  ...   30.0  44.4725  Label C\n",
              "998  11020.00  3871.94  0.35135  ...   10.0  31.4343  Label C\n",
              "999   7252.39  2149.18  0.29634  ...   81.0  39.4261  Label B\n",
              "\n",
              "[1000 rows x 10 columns]"
            ]
          },
          "metadata": {},
          "execution_count": 45
        }
      ]
    },
    {
      "cell_type": "markdown",
      "metadata": {
        "id": "juz4qUCET9nU"
      },
      "source": [
        "#### (vi) Experiment 5 (E5)"
      ]
    },
    {
      "cell_type": "markdown",
      "metadata": {
        "id": "6Y8IC1I4PB7H"
      },
      "source": [
        "Inference: G1, G2, G4, G5 and G6 are normal distribution."
      ]
    },
    {
      "cell_type": "code",
      "metadata": {
        "id": "dOaFFxp9Qbp1"
      },
      "source": [
        "D2 = D1.copy()"
      ],
      "execution_count": null,
      "outputs": []
    },
    {
      "cell_type": "code",
      "metadata": {
        "id": "k_qjp7BfO-TT"
      },
      "source": [
        "from sklearn.preprocessing import StandardScaler, Normalizer\n",
        "X = D2.drop(['J3','J4','J5','J6','J7','J9','Target'], axis =1)\n",
        "normalizer = Normalizer().fit(X)\n",
        "X = normalizer.transform(X)"
      ],
      "execution_count": null,
      "outputs": []
    },
    {
      "cell_type": "code",
      "metadata": {
        "id": "oduqttfVR0DW"
      },
      "source": [
        "Y = D2[['J3','J4','J5','J6','J7','J9']]"
      ],
      "execution_count": null,
      "outputs": []
    },
    {
      "cell_type": "code",
      "metadata": {
        "id": "0Krw8AK8SdMF"
      },
      "source": [
        "scaler = StandardScaler()\n",
        "scaler.fit(Y)\n",
        "Y = scaler.transform(Y)"
      ],
      "execution_count": null,
      "outputs": []
    },
    {
      "cell_type": "code",
      "metadata": {
        "id": "2y3s6UmnUpO-"
      },
      "source": [
        "temp_X = pd.DataFrame(X, columns = ['J1','J2','J8'])"
      ],
      "execution_count": null,
      "outputs": []
    },
    {
      "cell_type": "code",
      "metadata": {
        "id": "vSHAd1AcUzqK"
      },
      "source": [
        "temp_Y = pd.DataFrame(Y, columns = ['J3','J4','J5','J6','J7','J9'])"
      ],
      "execution_count": null,
      "outputs": []
    },
    {
      "cell_type": "code",
      "metadata": {
        "id": "JMBXNv9NS8Jp"
      },
      "source": [
        "temp = pd.concat([temp_X, temp_Y], axis=1, join='inner')"
      ],
      "execution_count": null,
      "outputs": []
    },
    {
      "cell_type": "code",
      "metadata": {
        "id": "9SE-Byl6T8z0"
      },
      "source": [
        "temp['Target'] = D1['Target']"
      ],
      "execution_count": null,
      "outputs": []
    },
    {
      "cell_type": "code",
      "metadata": {
        "id": "AA3vXR1VVzOn"
      },
      "source": [
        "D2 = temp.copy()"
      ],
      "execution_count": null,
      "outputs": []
    },
    {
      "cell_type": "code",
      "metadata": {
        "colab": {
          "base_uri": "https://localhost:8080/",
          "height": 423
        },
        "id": "ghhdvzueV2X-",
        "outputId": "266253e8-39d1-4b37-fcad-75e857841b62"
      },
      "source": [
        "D2"
      ],
      "execution_count": null,
      "outputs": [
        {
          "output_type": "execute_result",
          "data": {
            "text/html": [
              "<div>\n",
              "<style scoped>\n",
              "    .dataframe tbody tr th:only-of-type {\n",
              "        vertical-align: middle;\n",
              "    }\n",
              "\n",
              "    .dataframe tbody tr th {\n",
              "        vertical-align: top;\n",
              "    }\n",
              "\n",
              "    .dataframe thead th {\n",
              "        text-align: right;\n",
              "    }\n",
              "</style>\n",
              "<table border=\"1\" class=\"dataframe\">\n",
              "  <thead>\n",
              "    <tr style=\"text-align: right;\">\n",
              "      <th></th>\n",
              "      <th>J1</th>\n",
              "      <th>J2</th>\n",
              "      <th>J8</th>\n",
              "      <th>J3</th>\n",
              "      <th>J4</th>\n",
              "      <th>J5</th>\n",
              "      <th>J6</th>\n",
              "      <th>J7</th>\n",
              "      <th>J9</th>\n",
              "      <th>Target</th>\n",
              "    </tr>\n",
              "  </thead>\n",
              "  <tbody>\n",
              "    <tr>\n",
              "      <th>0</th>\n",
              "      <td>0.980708</td>\n",
              "      <td>0.195453</td>\n",
              "      <td>0.003131</td>\n",
              "      <td>1.223613</td>\n",
              "      <td>0.019431</td>\n",
              "      <td>0.177098</td>\n",
              "      <td>0.071994</td>\n",
              "      <td>0.158489</td>\n",
              "      <td>-0.183792</td>\n",
              "      <td>Label C</td>\n",
              "    </tr>\n",
              "    <tr>\n",
              "      <th>1</th>\n",
              "      <td>0.930300</td>\n",
              "      <td>0.366764</td>\n",
              "      <td>0.005088</td>\n",
              "      <td>1.572201</td>\n",
              "      <td>-0.194798</td>\n",
              "      <td>0.244250</td>\n",
              "      <td>0.085045</td>\n",
              "      <td>0.013775</td>\n",
              "      <td>-0.530520</td>\n",
              "      <td>Label C</td>\n",
              "    </tr>\n",
              "    <tr>\n",
              "      <th>2</th>\n",
              "      <td>0.941819</td>\n",
              "      <td>0.335976</td>\n",
              "      <td>0.009835</td>\n",
              "      <td>0.938081</td>\n",
              "      <td>-0.372625</td>\n",
              "      <td>-0.593028</td>\n",
              "      <td>-0.507336</td>\n",
              "      <td>-0.616436</td>\n",
              "      <td>0.650655</td>\n",
              "      <td>Label B</td>\n",
              "    </tr>\n",
              "    <tr>\n",
              "      <th>3</th>\n",
              "      <td>0.979442</td>\n",
              "      <td>0.201676</td>\n",
              "      <td>0.004403</td>\n",
              "      <td>-1.611751</td>\n",
              "      <td>-0.905857</td>\n",
              "      <td>-1.036269</td>\n",
              "      <td>-1.165170</td>\n",
              "      <td>-1.477226</td>\n",
              "      <td>1.298965</td>\n",
              "      <td>Label C</td>\n",
              "    </tr>\n",
              "    <tr>\n",
              "      <th>4</th>\n",
              "      <td>0.970779</td>\n",
              "      <td>0.239700</td>\n",
              "      <td>0.011494</td>\n",
              "      <td>-0.918463</td>\n",
              "      <td>0.733852</td>\n",
              "      <td>0.034126</td>\n",
              "      <td>0.164277</td>\n",
              "      <td>0.224093</td>\n",
              "      <td>-0.336389</td>\n",
              "      <td>Label B</td>\n",
              "    </tr>\n",
              "    <tr>\n",
              "      <th>...</th>\n",
              "      <td>...</td>\n",
              "      <td>...</td>\n",
              "      <td>...</td>\n",
              "      <td>...</td>\n",
              "      <td>...</td>\n",
              "      <td>...</td>\n",
              "      <td>...</td>\n",
              "      <td>...</td>\n",
              "      <td>...</td>\n",
              "      <td>...</td>\n",
              "    </tr>\n",
              "    <tr>\n",
              "      <th>995</th>\n",
              "      <td>0.959316</td>\n",
              "      <td>0.282279</td>\n",
              "      <td>0.005573</td>\n",
              "      <td>-0.118164</td>\n",
              "      <td>0.562730</td>\n",
              "      <td>0.586490</td>\n",
              "      <td>0.198616</td>\n",
              "      <td>1.162921</td>\n",
              "      <td>-1.224543</td>\n",
              "      <td>Label C</td>\n",
              "    </tr>\n",
              "    <tr>\n",
              "      <th>996</th>\n",
              "      <td>0.944075</td>\n",
              "      <td>0.329693</td>\n",
              "      <td>0.005114</td>\n",
              "      <td>0.811122</td>\n",
              "      <td>-0.321030</td>\n",
              "      <td>-0.486569</td>\n",
              "      <td>-0.323694</td>\n",
              "      <td>-0.591833</td>\n",
              "      <td>0.445805</td>\n",
              "      <td>Label B</td>\n",
              "    </tr>\n",
              "    <tr>\n",
              "      <th>997</th>\n",
              "      <td>0.952199</td>\n",
              "      <td>0.305390</td>\n",
              "      <td>0.007350</td>\n",
              "      <td>0.329320</td>\n",
              "      <td>-1.277339</td>\n",
              "      <td>-1.588362</td>\n",
              "      <td>-1.459058</td>\n",
              "      <td>-2.385220</td>\n",
              "      <td>1.721059</td>\n",
              "      <td>Label C</td>\n",
              "    </tr>\n",
              "    <tr>\n",
              "      <th>998</th>\n",
              "      <td>0.943459</td>\n",
              "      <td>0.331490</td>\n",
              "      <td>0.000856</td>\n",
              "      <td>0.847131</td>\n",
              "      <td>-0.148966</td>\n",
              "      <td>0.275963</td>\n",
              "      <td>-0.219117</td>\n",
              "      <td>2.727746</td>\n",
              "      <td>-0.511174</td>\n",
              "      <td>Label C</td>\n",
              "    </tr>\n",
              "    <tr>\n",
              "      <th>999</th>\n",
              "      <td>0.958731</td>\n",
              "      <td>0.284111</td>\n",
              "      <td>0.010708</td>\n",
              "      <td>-0.082832</td>\n",
              "      <td>-0.552105</td>\n",
              "      <td>-0.722461</td>\n",
              "      <td>-0.481960</td>\n",
              "      <td>-0.765049</td>\n",
              "      <td>0.857079</td>\n",
              "      <td>Label B</td>\n",
              "    </tr>\n",
              "  </tbody>\n",
              "</table>\n",
              "<p>1000 rows × 10 columns</p>\n",
              "</div>"
            ],
            "text/plain": [
              "           J1        J2        J8  ...        J7        J9   Target\n",
              "0    0.980708  0.195453  0.003131  ...  0.158489 -0.183792  Label C\n",
              "1    0.930300  0.366764  0.005088  ...  0.013775 -0.530520  Label C\n",
              "2    0.941819  0.335976  0.009835  ... -0.616436  0.650655  Label B\n",
              "3    0.979442  0.201676  0.004403  ... -1.477226  1.298965  Label C\n",
              "4    0.970779  0.239700  0.011494  ...  0.224093 -0.336389  Label B\n",
              "..        ...       ...       ...  ...       ...       ...      ...\n",
              "995  0.959316  0.282279  0.005573  ...  1.162921 -1.224543  Label C\n",
              "996  0.944075  0.329693  0.005114  ... -0.591833  0.445805  Label B\n",
              "997  0.952199  0.305390  0.007350  ... -2.385220  1.721059  Label C\n",
              "998  0.943459  0.331490  0.000856  ...  2.727746 -0.511174  Label C\n",
              "999  0.958731  0.284111  0.010708  ... -0.765049  0.857079  Label B\n",
              "\n",
              "[1000 rows x 10 columns]"
            ]
          },
          "metadata": {},
          "execution_count": 56
        }
      ]
    },
    {
      "cell_type": "code",
      "metadata": {
        "id": "u5335ZKnW1Sb"
      },
      "source": [
        "#from sklearn.preprocessing import LabelEncoder\n",
        "#D2 = LEncoder(D2, 'Target')\n",
        "#D2"
      ],
      "execution_count": null,
      "outputs": []
    },
    {
      "cell_type": "code",
      "source": [
        "D2.Target.unique()"
      ],
      "metadata": {
        "colab": {
          "base_uri": "https://localhost:8080/"
        },
        "id": "SO1zssO9rFP4",
        "outputId": "9493c920-cab4-4452-9c4c-7f8e317e6a15"
      },
      "execution_count": null,
      "outputs": [
        {
          "output_type": "execute_result",
          "data": {
            "text/plain": [
              "array(['Label C', 'Label B', 'Label D', 'Label Z'], dtype=object)"
            ]
          },
          "metadata": {},
          "execution_count": 58
        }
      ]
    },
    {
      "cell_type": "code",
      "source": [
        "(unique, counts) = np.unique(D2['Target'], return_counts=True)\n",
        "frequencies = np.asarray((unique, counts)).T\n",
        "print(frequencies)"
      ],
      "metadata": {
        "colab": {
          "base_uri": "https://localhost:8080/"
        },
        "id": "xHK0hL5rrl6J",
        "outputId": "10533805-03bf-4d4a-e329-9f5d32ba21be"
      },
      "execution_count": null,
      "outputs": [
        {
          "output_type": "stream",
          "name": "stdout",
          "text": [
            "[['Label B' 643]\n",
            " ['Label C' 335]\n",
            " ['Label D' 17]\n",
            " ['Label Z' 5]]\n"
          ]
        }
      ]
    },
    {
      "cell_type": "code",
      "metadata": {
        "id": "2US7ZdpgWAl0"
      },
      "source": [
        "# Resample uses bootstrapping method to regenerate samples by randomly selecting data for each class.\n",
        "from sklearn.utils import resample\n",
        "df_0 = D2[D2['Target'] == 'Label B']\n",
        "df_1 = D2[D2['Target'] == 'Label C']\n",
        "df_2 = D2[D2['Target'] == 'Label D']\n",
        "df_3 = D2[D2['Target'] == 'Label Z']\n",
        "\n",
        "# Apply resample\n",
        "df_1_upsample = resample(df_1, n_samples = 627, replace = True, random_state= 123)\n",
        "df_2_upsample = resample(df_2, n_samples = 627, replace = True, random_state= 123)\n",
        "df_3_upsample = resample(df_3, n_samples = 627, replace = True, random_state= 123)\n",
        "\n",
        "D2 = pd.concat([df_0,df_1_upsample,df_2_upsample, df_3_upsample])"
      ],
      "execution_count": null,
      "outputs": []
    },
    {
      "cell_type": "code",
      "metadata": {
        "colab": {
          "base_uri": "https://localhost:8080/",
          "height": 423
        },
        "id": "EgKyczm6XRYP",
        "outputId": "639a1332-49a7-407e-e9f6-3f8c85172f6b"
      },
      "source": [
        "D2"
      ],
      "execution_count": null,
      "outputs": [
        {
          "output_type": "execute_result",
          "data": {
            "text/html": [
              "<div>\n",
              "<style scoped>\n",
              "    .dataframe tbody tr th:only-of-type {\n",
              "        vertical-align: middle;\n",
              "    }\n",
              "\n",
              "    .dataframe tbody tr th {\n",
              "        vertical-align: top;\n",
              "    }\n",
              "\n",
              "    .dataframe thead th {\n",
              "        text-align: right;\n",
              "    }\n",
              "</style>\n",
              "<table border=\"1\" class=\"dataframe\">\n",
              "  <thead>\n",
              "    <tr style=\"text-align: right;\">\n",
              "      <th></th>\n",
              "      <th>J1</th>\n",
              "      <th>J2</th>\n",
              "      <th>J8</th>\n",
              "      <th>J3</th>\n",
              "      <th>J4</th>\n",
              "      <th>J5</th>\n",
              "      <th>J6</th>\n",
              "      <th>J7</th>\n",
              "      <th>J9</th>\n",
              "      <th>Target</th>\n",
              "    </tr>\n",
              "  </thead>\n",
              "  <tbody>\n",
              "    <tr>\n",
              "      <th>2</th>\n",
              "      <td>0.941819</td>\n",
              "      <td>0.335976</td>\n",
              "      <td>0.009835</td>\n",
              "      <td>0.938081</td>\n",
              "      <td>-0.372625</td>\n",
              "      <td>-0.593028</td>\n",
              "      <td>-0.507336</td>\n",
              "      <td>-0.616436</td>\n",
              "      <td>0.650655</td>\n",
              "      <td>Label B</td>\n",
              "    </tr>\n",
              "    <tr>\n",
              "      <th>4</th>\n",
              "      <td>0.970779</td>\n",
              "      <td>0.239700</td>\n",
              "      <td>0.011494</td>\n",
              "      <td>-0.918463</td>\n",
              "      <td>0.733852</td>\n",
              "      <td>0.034126</td>\n",
              "      <td>0.164277</td>\n",
              "      <td>0.224093</td>\n",
              "      <td>-0.336389</td>\n",
              "      <td>Label B</td>\n",
              "    </tr>\n",
              "    <tr>\n",
              "      <th>5</th>\n",
              "      <td>0.944608</td>\n",
              "      <td>0.327904</td>\n",
              "      <td>0.013938</td>\n",
              "      <td>0.775790</td>\n",
              "      <td>-0.457023</td>\n",
              "      <td>-0.465447</td>\n",
              "      <td>-0.493891</td>\n",
              "      <td>-0.634404</td>\n",
              "      <td>0.125408</td>\n",
              "      <td>Label B</td>\n",
              "    </tr>\n",
              "    <tr>\n",
              "      <th>7</th>\n",
              "      <td>0.966014</td>\n",
              "      <td>0.258356</td>\n",
              "      <td>0.008294</td>\n",
              "      <td>-0.571397</td>\n",
              "      <td>-0.754109</td>\n",
              "      <td>-1.093985</td>\n",
              "      <td>-0.846835</td>\n",
              "      <td>-0.539977</td>\n",
              "      <td>0.552399</td>\n",
              "      <td>Label B</td>\n",
              "    </tr>\n",
              "    <tr>\n",
              "      <th>8</th>\n",
              "      <td>0.967418</td>\n",
              "      <td>0.252823</td>\n",
              "      <td>0.013522</td>\n",
              "      <td>-0.674688</td>\n",
              "      <td>-0.739024</td>\n",
              "      <td>-0.675162</td>\n",
              "      <td>-0.884226</td>\n",
              "      <td>-0.695507</td>\n",
              "      <td>0.586914</td>\n",
              "      <td>Label B</td>\n",
              "    </tr>\n",
              "    <tr>\n",
              "      <th>...</th>\n",
              "      <td>...</td>\n",
              "      <td>...</td>\n",
              "      <td>...</td>\n",
              "      <td>...</td>\n",
              "      <td>...</td>\n",
              "      <td>...</td>\n",
              "      <td>...</td>\n",
              "      <td>...</td>\n",
              "      <td>...</td>\n",
              "      <td>...</td>\n",
              "    </tr>\n",
              "    <tr>\n",
              "      <th>321</th>\n",
              "      <td>0.981181</td>\n",
              "      <td>0.193085</td>\n",
              "      <td>0.001649</td>\n",
              "      <td>-1.765928</td>\n",
              "      <td>1.178681</td>\n",
              "      <td>1.033773</td>\n",
              "      <td>1.039835</td>\n",
              "      <td>0.633790</td>\n",
              "      <td>-0.821076</td>\n",
              "      <td>Label Z</td>\n",
              "    </tr>\n",
              "    <tr>\n",
              "      <th>399</th>\n",
              "      <td>0.959374</td>\n",
              "      <td>0.281973</td>\n",
              "      <td>0.009617</td>\n",
              "      <td>-0.123912</td>\n",
              "      <td>-1.158905</td>\n",
              "      <td>-1.147123</td>\n",
              "      <td>-1.188105</td>\n",
              "      <td>-1.031922</td>\n",
              "      <td>1.084374</td>\n",
              "      <td>Label Z</td>\n",
              "    </tr>\n",
              "    <tr>\n",
              "      <th>399</th>\n",
              "      <td>0.959374</td>\n",
              "      <td>0.281973</td>\n",
              "      <td>0.009617</td>\n",
              "      <td>-0.123912</td>\n",
              "      <td>-1.158905</td>\n",
              "      <td>-1.147123</td>\n",
              "      <td>-1.188105</td>\n",
              "      <td>-1.031922</td>\n",
              "      <td>1.084374</td>\n",
              "      <td>Label Z</td>\n",
              "    </tr>\n",
              "    <tr>\n",
              "      <th>435</th>\n",
              "      <td>0.951022</td>\n",
              "      <td>0.309093</td>\n",
              "      <td>0.004383</td>\n",
              "      <td>0.401844</td>\n",
              "      <td>-0.761183</td>\n",
              "      <td>-0.502616</td>\n",
              "      <td>-0.366361</td>\n",
              "      <td>-0.314586</td>\n",
              "      <td>0.825492</td>\n",
              "      <td>Label Z</td>\n",
              "    </tr>\n",
              "    <tr>\n",
              "      <th>754</th>\n",
              "      <td>0.975514</td>\n",
              "      <td>0.219913</td>\n",
              "      <td>0.003154</td>\n",
              "      <td>-1.281590</td>\n",
              "      <td>-0.695628</td>\n",
              "      <td>-1.027894</td>\n",
              "      <td>-0.988345</td>\n",
              "      <td>-0.642336</td>\n",
              "      <td>0.850265</td>\n",
              "      <td>Label Z</td>\n",
              "    </tr>\n",
              "  </tbody>\n",
              "</table>\n",
              "<p>2524 rows × 10 columns</p>\n",
              "</div>"
            ],
            "text/plain": [
              "           J1        J2        J8  ...        J7        J9   Target\n",
              "2    0.941819  0.335976  0.009835  ... -0.616436  0.650655  Label B\n",
              "4    0.970779  0.239700  0.011494  ...  0.224093 -0.336389  Label B\n",
              "5    0.944608  0.327904  0.013938  ... -0.634404  0.125408  Label B\n",
              "7    0.966014  0.258356  0.008294  ... -0.539977  0.552399  Label B\n",
              "8    0.967418  0.252823  0.013522  ... -0.695507  0.586914  Label B\n",
              "..        ...       ...       ...  ...       ...       ...      ...\n",
              "321  0.981181  0.193085  0.001649  ...  0.633790 -0.821076  Label Z\n",
              "399  0.959374  0.281973  0.009617  ... -1.031922  1.084374  Label Z\n",
              "399  0.959374  0.281973  0.009617  ... -1.031922  1.084374  Label Z\n",
              "435  0.951022  0.309093  0.004383  ... -0.314586  0.825492  Label Z\n",
              "754  0.975514  0.219913  0.003154  ... -0.642336  0.850265  Label Z\n",
              "\n",
              "[2524 rows x 10 columns]"
            ]
          },
          "metadata": {},
          "execution_count": 61
        }
      ]
    },
    {
      "cell_type": "code",
      "metadata": {
        "colab": {
          "base_uri": "https://localhost:8080/"
        },
        "id": "3x2WsLALXdMJ",
        "outputId": "3b39198d-a400-4d88-d99d-fe65d2531a44"
      },
      "source": [
        "(unique, counts) = np.unique(D2['Target'], return_counts=True)\n",
        "frequencies = np.asarray((unique, counts)).T\n",
        "print(frequencies)"
      ],
      "execution_count": null,
      "outputs": [
        {
          "output_type": "stream",
          "name": "stdout",
          "text": [
            "[['Label B' 643]\n",
            " ['Label C' 627]\n",
            " ['Label D' 627]\n",
            " ['Label Z' 627]]\n"
          ]
        }
      ]
    },
    {
      "cell_type": "markdown",
      "source": [
        "#### (F) Experiment 6 (E6)"
      ],
      "metadata": {
        "id": "DVMOZBNbs1QN"
      }
    },
    {
      "cell_type": "code",
      "source": [
        "X = D2.drop(['Target'], axis =1)\n",
        "Y = D2['Target']"
      ],
      "metadata": {
        "id": "r45Pyu5qs08b"
      },
      "execution_count": null,
      "outputs": []
    },
    {
      "cell_type": "code",
      "source": [
        "logistic_model = Supreme(X, Y, D2, isLogisticRegression=True, isClassification=True)"
      ],
      "metadata": {
        "colab": {
          "base_uri": "https://localhost:8080/",
          "height": 490
        },
        "id": "osKFi2JRt7hC",
        "outputId": "9d9f93b4-2ced-448e-9abe-23e1826aae08"
      },
      "execution_count": null,
      "outputs": [
        {
          "output_type": "stream",
          "name": "stdout",
          "text": [
            "Model Score:  0.5832012678288431\n",
            "Accuracy:  0.5832012678288431\n",
            "              precision    recall  f1-score   support\n",
            "\n",
            "     Label B       0.37      0.64      0.47        95\n",
            "     Label C       0.43      0.38      0.40       165\n",
            "     Label D       0.74      0.64      0.68       193\n",
            "     Label Z       0.79      0.68      0.73       178\n",
            "\n",
            "    accuracy                           0.58       631\n",
            "   macro avg       0.58      0.59      0.57       631\n",
            "weighted avg       0.62      0.58      0.59       631\n",
            "\n"
          ]
        },
        {
          "output_type": "display_data",
          "data": {
            "image/png": "[encoded data removed]",
            "text/plain": [
              "<Figure size 432x288 with 2 Axes>"
            ]
          },
          "metadata": {
            "needs_background": "light"
          }
        }
      ]
    },
    {
      "cell_type": "code",
      "source": [
        "D_test_data_predicted = D_test_data.copy()"
      ],
      "metadata": {
        "id": "unDvsUnGueAD"
      },
      "execution_count": null,
      "outputs": []
    },
    {
      "cell_type": "code",
      "source": [
        "D_test_data_predicted['LR']=logistic_model.predict(D_test_data)\n",
        "print(D_test_data_predicted['LR'])"
      ],
      "metadata": {
        "colab": {
          "base_uri": "https://localhost:8080/"
        },
        "id": "lekCaXowuVlZ",
        "outputId": "923c456d-81b9-4589-a87a-84e5893a11a2"
      },
      "execution_count": null,
      "outputs": [
        {
          "output_type": "stream",
          "name": "stdout",
          "text": [
            "0     Label B\n",
            "1     Label B\n",
            "2     Label B\n",
            "3     Label B\n",
            "4     Label B\n",
            "5     Label B\n",
            "6     Label B\n",
            "7     Label B\n",
            "8     Label B\n",
            "9     Label B\n",
            "10    Label B\n",
            "11    Label B\n",
            "12    Label B\n",
            "13    Label B\n",
            "14    Label B\n",
            "Name: LR, dtype: object\n"
          ]
        }
      ]
    },
    {
      "cell_type": "code",
      "source": [
        "D_test_data_predicted"
      ],
      "metadata": {
        "colab": {
          "base_uri": "https://localhost:8080/",
          "height": 520
        },
        "id": "p62g03A6upVh",
        "outputId": "231830bb-db52-4489-dec8-fbf7ce60ff62"
      },
      "execution_count": null,
      "outputs": [
        {
          "output_type": "execute_result",
          "data": {
            "text/html": [
              "<div>\n",
              "<style scoped>\n",
              "    .dataframe tbody tr th:only-of-type {\n",
              "        vertical-align: middle;\n",
              "    }\n",
              "\n",
              "    .dataframe tbody tr th {\n",
              "        vertical-align: top;\n",
              "    }\n",
              "\n",
              "    .dataframe thead th {\n",
              "        text-align: right;\n",
              "    }\n",
              "</style>\n",
              "<table border=\"1\" class=\"dataframe\">\n",
              "  <thead>\n",
              "    <tr style=\"text-align: right;\">\n",
              "      <th></th>\n",
              "      <th>J1</th>\n",
              "      <th>J2</th>\n",
              "      <th>J3</th>\n",
              "      <th>J4</th>\n",
              "      <th>J5</th>\n",
              "      <th>J6</th>\n",
              "      <th>J7</th>\n",
              "      <th>J8</th>\n",
              "      <th>J9</th>\n",
              "      <th>LR</th>\n",
              "    </tr>\n",
              "  </thead>\n",
              "  <tbody>\n",
              "    <tr>\n",
              "      <th>0</th>\n",
              "      <td>6910.020217</td>\n",
              "      <td>4066.142843</td>\n",
              "      <td>0.150514</td>\n",
              "      <td>44.534149</td>\n",
              "      <td>1.340097e+06</td>\n",
              "      <td>195.915203</td>\n",
              "      <td>6427.120286</td>\n",
              "      <td>8.365555</td>\n",
              "      <td>36.738973</td>\n",
              "      <td>Label B</td>\n",
              "    </tr>\n",
              "    <tr>\n",
              "      <th>1</th>\n",
              "      <td>11238.845463</td>\n",
              "      <td>771.573275</td>\n",
              "      <td>0.209651</td>\n",
              "      <td>221.142924</td>\n",
              "      <td>2.004193e+06</td>\n",
              "      <td>227.829161</td>\n",
              "      <td>3427.273229</td>\n",
              "      <td>145.371227</td>\n",
              "      <td>32.446130</td>\n",
              "      <td>Label B</td>\n",
              "    </tr>\n",
              "    <tr>\n",
              "      <th>2</th>\n",
              "      <td>17433.591950</td>\n",
              "      <td>5749.738218</td>\n",
              "      <td>0.431073</td>\n",
              "      <td>169.622267</td>\n",
              "      <td>7.792603e+05</td>\n",
              "      <td>104.174030</td>\n",
              "      <td>3050.894526</td>\n",
              "      <td>106.158865</td>\n",
              "      <td>19.957218</td>\n",
              "      <td>Label B</td>\n",
              "    </tr>\n",
              "    <tr>\n",
              "      <th>3</th>\n",
              "      <td>16849.391488</td>\n",
              "      <td>2798.793040</td>\n",
              "      <td>0.392205</td>\n",
              "      <td>30.247405</td>\n",
              "      <td>2.664678e+06</td>\n",
              "      <td>196.393348</td>\n",
              "      <td>5636.566973</td>\n",
              "      <td>162.373622</td>\n",
              "      <td>27.870431</td>\n",
              "      <td>Label B</td>\n",
              "    </tr>\n",
              "    <tr>\n",
              "      <th>4</th>\n",
              "      <td>18808.132828</td>\n",
              "      <td>4380.388878</td>\n",
              "      <td>0.168008</td>\n",
              "      <td>210.036649</td>\n",
              "      <td>1.831439e+06</td>\n",
              "      <td>212.348232</td>\n",
              "      <td>5556.526192</td>\n",
              "      <td>65.864243</td>\n",
              "      <td>20.541668</td>\n",
              "      <td>Label B</td>\n",
              "    </tr>\n",
              "    <tr>\n",
              "      <th>5</th>\n",
              "      <td>4621.518990</td>\n",
              "      <td>4512.015379</td>\n",
              "      <td>0.183853</td>\n",
              "      <td>116.346920</td>\n",
              "      <td>2.520260e+06</td>\n",
              "      <td>300.983171</td>\n",
              "      <td>1670.038067</td>\n",
              "      <td>131.005461</td>\n",
              "      <td>31.332414</td>\n",
              "      <td>Label B</td>\n",
              "    </tr>\n",
              "    <tr>\n",
              "      <th>6</th>\n",
              "      <td>13628.970957</td>\n",
              "      <td>4401.913406</td>\n",
              "      <td>0.205122</td>\n",
              "      <td>204.061728</td>\n",
              "      <td>1.940766e+06</td>\n",
              "      <td>48.225771</td>\n",
              "      <td>4687.262934</td>\n",
              "      <td>12.735165</td>\n",
              "      <td>38.769201</td>\n",
              "      <td>Label B</td>\n",
              "    </tr>\n",
              "    <tr>\n",
              "      <th>7</th>\n",
              "      <td>16979.902618</td>\n",
              "      <td>5208.999036</td>\n",
              "      <td>0.324529</td>\n",
              "      <td>66.819521</td>\n",
              "      <td>1.744908e+06</td>\n",
              "      <td>283.538585</td>\n",
              "      <td>1992.712682</td>\n",
              "      <td>82.227060</td>\n",
              "      <td>19.793250</td>\n",
              "      <td>Label B</td>\n",
              "    </tr>\n",
              "    <tr>\n",
              "      <th>8</th>\n",
              "      <td>11709.911025</td>\n",
              "      <td>5981.594673</td>\n",
              "      <td>0.279873</td>\n",
              "      <td>141.652071</td>\n",
              "      <td>1.876779e+06</td>\n",
              "      <td>143.507523</td>\n",
              "      <td>5550.710876</td>\n",
              "      <td>56.701434</td>\n",
              "      <td>28.673745</td>\n",
              "      <td>Label B</td>\n",
              "    </tr>\n",
              "    <tr>\n",
              "      <th>9</th>\n",
              "      <td>13919.459798</td>\n",
              "      <td>3204.790868</td>\n",
              "      <td>0.310442</td>\n",
              "      <td>30.742658</td>\n",
              "      <td>9.133704e+05</td>\n",
              "      <td>142.801620</td>\n",
              "      <td>5390.525077</td>\n",
              "      <td>133.583883</td>\n",
              "      <td>26.576827</td>\n",
              "      <td>Label B</td>\n",
              "    </tr>\n",
              "    <tr>\n",
              "      <th>10</th>\n",
              "      <td>11533.652280</td>\n",
              "      <td>3069.015838</td>\n",
              "      <td>0.283345</td>\n",
              "      <td>235.295062</td>\n",
              "      <td>2.650545e+06</td>\n",
              "      <td>197.195452</td>\n",
              "      <td>6533.098175</td>\n",
              "      <td>130.758757</td>\n",
              "      <td>23.753796</td>\n",
              "      <td>Label B</td>\n",
              "    </tr>\n",
              "    <tr>\n",
              "      <th>11</th>\n",
              "      <td>12708.638134</td>\n",
              "      <td>3895.190752</td>\n",
              "      <td>0.314197</td>\n",
              "      <td>98.412346</td>\n",
              "      <td>6.030341e+05</td>\n",
              "      <td>244.010961</td>\n",
              "      <td>5847.917225</td>\n",
              "      <td>71.216155</td>\n",
              "      <td>39.481681</td>\n",
              "      <td>Label B</td>\n",
              "    </tr>\n",
              "    <tr>\n",
              "      <th>12</th>\n",
              "      <td>19524.508698</td>\n",
              "      <td>2849.079286</td>\n",
              "      <td>0.286733</td>\n",
              "      <td>219.108416</td>\n",
              "      <td>2.128675e+06</td>\n",
              "      <td>276.304669</td>\n",
              "      <td>1631.635231</td>\n",
              "      <td>150.978088</td>\n",
              "      <td>26.327479</td>\n",
              "      <td>Label B</td>\n",
              "    </tr>\n",
              "    <tr>\n",
              "      <th>13</th>\n",
              "      <td>19178.641149</td>\n",
              "      <td>2649.195356</td>\n",
              "      <td>0.238383</td>\n",
              "      <td>44.745506</td>\n",
              "      <td>6.296630e+05</td>\n",
              "      <td>140.361967</td>\n",
              "      <td>5235.520544</td>\n",
              "      <td>78.972397</td>\n",
              "      <td>40.993140</td>\n",
              "      <td>Label B</td>\n",
              "    </tr>\n",
              "    <tr>\n",
              "      <th>14</th>\n",
              "      <td>10120.430816</td>\n",
              "      <td>4400.598533</td>\n",
              "      <td>0.334789</td>\n",
              "      <td>138.861717</td>\n",
              "      <td>2.588230e+06</td>\n",
              "      <td>309.624560</td>\n",
              "      <td>2984.595994</td>\n",
              "      <td>165.083132</td>\n",
              "      <td>24.654889</td>\n",
              "      <td>Label B</td>\n",
              "    </tr>\n",
              "  </tbody>\n",
              "</table>\n",
              "</div>"
            ],
            "text/plain": [
              "              J1           J2        J3  ...          J8         J9       LR\n",
              "0    6910.020217  4066.142843  0.150514  ...    8.365555  36.738973  Label B\n",
              "1   11238.845463   771.573275  0.209651  ...  145.371227  32.446130  Label B\n",
              "2   17433.591950  5749.738218  0.431073  ...  106.158865  19.957218  Label B\n",
              "3   16849.391488  2798.793040  0.392205  ...  162.373622  27.870431  Label B\n",
              "4   18808.132828  4380.388878  0.168008  ...   65.864243  20.541668  Label B\n",
              "5    4621.518990  4512.015379  0.183853  ...  131.005461  31.332414  Label B\n",
              "6   13628.970957  4401.913406  0.205122  ...   12.735165  38.769201  Label B\n",
              "7   16979.902618  5208.999036  0.324529  ...   82.227060  19.793250  Label B\n",
              "8   11709.911025  5981.594673  0.279873  ...   56.701434  28.673745  Label B\n",
              "9   13919.459798  3204.790868  0.310442  ...  133.583883  26.576827  Label B\n",
              "10  11533.652280  3069.015838  0.283345  ...  130.758757  23.753796  Label B\n",
              "11  12708.638134  3895.190752  0.314197  ...   71.216155  39.481681  Label B\n",
              "12  19524.508698  2849.079286  0.286733  ...  150.978088  26.327479  Label B\n",
              "13  19178.641149  2649.195356  0.238383  ...   78.972397  40.993140  Label B\n",
              "14  10120.430816  4400.598533  0.334789  ...  165.083132  24.654889  Label B\n",
              "\n",
              "[15 rows x 10 columns]"
            ]
          },
          "metadata": {},
          "execution_count": 67
        }
      ]
    },
    {
      "cell_type": "markdown",
      "source": [
        "#### (H) Experiment 8 (E8)"
      ],
      "metadata": {
        "id": "jsOphzBHuz2R"
      }
    },
    {
      "cell_type": "code",
      "source": [
        "X = D2.drop(['Target'], axis =1)\n",
        "Y = D2['Target']"
      ],
      "metadata": {
        "id": "SS1H5PymvFSI"
      },
      "execution_count": null,
      "outputs": []
    },
    {
      "cell_type": "code",
      "source": [
        "SVM_model = Supreme(X, Y, D2, isSVM=True, isClassification=True)"
      ],
      "metadata": {
        "colab": {
          "base_uri": "https://localhost:8080/",
          "height": 490
        },
        "id": "-toNKyyhu8kN",
        "outputId": "dae4d1ad-262b-4bda-ec1e-ebf011ea03f5"
      },
      "execution_count": null,
      "outputs": [
        {
          "output_type": "stream",
          "name": "stdout",
          "text": [
            "Model Score:  0.6957210776545166\n",
            "Accuracy:  0.6957210776545166\n",
            "              precision    recall  f1-score   support\n",
            "\n",
            "     Label B       0.52      0.67      0.59       127\n",
            "     Label C       0.43      0.54      0.48       118\n",
            "     Label D       0.82      0.76      0.79       181\n",
            "     Label Z       1.00      0.75      0.85       205\n",
            "\n",
            "    accuracy                           0.70       631\n",
            "   macro avg       0.69      0.68      0.68       631\n",
            "weighted avg       0.75      0.70      0.71       631\n",
            "\n"
          ]
        },
        {
          "output_type": "display_data",
          "data": {
            "image/png": "[encoded data removed]",
            "text/plain": [
              "<Figure size 432x288 with 2 Axes>"
            ]
          },
          "metadata": {
            "needs_background": "light"
          }
        }
      ]
    },
    {
      "cell_type": "code",
      "source": [
        "SVM_model.support_vectors_"
      ],
      "metadata": {
        "colab": {
          "base_uri": "https://localhost:8080/"
        },
        "id": "Ix4LI-M0vLdT",
        "outputId": "480623eb-8217-4071-f272-77f72c64df79"
      },
      "execution_count": null,
      "outputs": [
        {
          "output_type": "execute_result",
          "data": {
            "text/plain": [
              "array([[ 0.94181917,  0.33597607,  0.00983515, ..., -0.50733587,\n",
              "        -0.61643597,  0.65065482],\n",
              "       [ 0.93692767,  0.34941444,  0.00872311, ..., -0.78603127,\n",
              "        -1.22480714,  1.20283215],\n",
              "       [ 0.93620206,  0.35144195,  0.00377567, ..., -0.71971639,\n",
              "        -0.63441354,  0.76079238],\n",
              "       ...,\n",
              "       [ 0.97551429,  0.21991346,  0.00315424, ..., -0.98834471,\n",
              "        -0.6423357 ,  0.85026524],\n",
              "       [ 0.97551429,  0.21991346,  0.00315424, ..., -0.98834471,\n",
              "        -0.6423357 ,  0.85026524],\n",
              "       [ 0.95102181,  0.30909272,  0.00438315, ..., -0.36636054,\n",
              "        -0.31458568,  0.82549157]])"
            ]
          },
          "metadata": {},
          "execution_count": 70
        }
      ]
    },
    {
      "cell_type": "code",
      "source": [
        "D_test_data_predicted['SVM']=SVM_model.predict(D_test_data)\n",
        "print(D_test_data_predicted['SVM'])"
      ],
      "metadata": {
        "colab": {
          "base_uri": "https://localhost:8080/"
        },
        "outputId": "c94ee1dd-49b0-4d65-dccc-fe293a23af3b",
        "id": "bm0Wo1pVvTE4"
      },
      "execution_count": null,
      "outputs": [
        {
          "output_type": "stream",
          "name": "stdout",
          "text": [
            "0     Label B\n",
            "1     Label B\n",
            "2     Label B\n",
            "3     Label B\n",
            "4     Label B\n",
            "5     Label B\n",
            "6     Label B\n",
            "7     Label B\n",
            "8     Label B\n",
            "9     Label B\n",
            "10    Label B\n",
            "11    Label B\n",
            "12    Label B\n",
            "13    Label B\n",
            "14    Label B\n",
            "Name: SVM, dtype: object\n"
          ]
        }
      ]
    },
    {
      "cell_type": "code",
      "source": [
        "D_test_data_predicted"
      ],
      "metadata": {
        "colab": {
          "base_uri": "https://localhost:8080/",
          "height": 520
        },
        "outputId": "89e3a552-28d2-4fd8-8ef8-060bd759f865",
        "id": "wdfff5XzvTE4"
      },
      "execution_count": null,
      "outputs": [
        {
          "output_type": "execute_result",
          "data": {
            "text/html": [
              "<div>\n",
              "<style scoped>\n",
              "    .dataframe tbody tr th:only-of-type {\n",
              "        vertical-align: middle;\n",
              "    }\n",
              "\n",
              "    .dataframe tbody tr th {\n",
              "        vertical-align: top;\n",
              "    }\n",
              "\n",
              "    .dataframe thead th {\n",
              "        text-align: right;\n",
              "    }\n",
              "</style>\n",
              "<table border=\"1\" class=\"dataframe\">\n",
              "  <thead>\n",
              "    <tr style=\"text-align: right;\">\n",
              "      <th></th>\n",
              "      <th>J1</th>\n",
              "      <th>J2</th>\n",
              "      <th>J3</th>\n",
              "      <th>J4</th>\n",
              "      <th>J5</th>\n",
              "      <th>J6</th>\n",
              "      <th>J7</th>\n",
              "      <th>J8</th>\n",
              "      <th>J9</th>\n",
              "      <th>LR</th>\n",
              "      <th>SVM</th>\n",
              "    </tr>\n",
              "  </thead>\n",
              "  <tbody>\n",
              "    <tr>\n",
              "      <th>0</th>\n",
              "      <td>6910.020217</td>\n",
              "      <td>4066.142843</td>\n",
              "      <td>0.150514</td>\n",
              "      <td>44.534149</td>\n",
              "      <td>1.340097e+06</td>\n",
              "      <td>195.915203</td>\n",
              "      <td>6427.120286</td>\n",
              "      <td>8.365555</td>\n",
              "      <td>36.738973</td>\n",
              "      <td>Label B</td>\n",
              "      <td>Label B</td>\n",
              "    </tr>\n",
              "    <tr>\n",
              "      <th>1</th>\n",
              "      <td>11238.845463</td>\n",
              "      <td>771.573275</td>\n",
              "      <td>0.209651</td>\n",
              "      <td>221.142924</td>\n",
              "      <td>2.004193e+06</td>\n",
              "      <td>227.829161</td>\n",
              "      <td>3427.273229</td>\n",
              "      <td>145.371227</td>\n",
              "      <td>32.446130</td>\n",
              "      <td>Label B</td>\n",
              "      <td>Label B</td>\n",
              "    </tr>\n",
              "    <tr>\n",
              "      <th>2</th>\n",
              "      <td>17433.591950</td>\n",
              "      <td>5749.738218</td>\n",
              "      <td>0.431073</td>\n",
              "      <td>169.622267</td>\n",
              "      <td>7.792603e+05</td>\n",
              "      <td>104.174030</td>\n",
              "      <td>3050.894526</td>\n",
              "      <td>106.158865</td>\n",
              "      <td>19.957218</td>\n",
              "      <td>Label B</td>\n",
              "      <td>Label B</td>\n",
              "    </tr>\n",
              "    <tr>\n",
              "      <th>3</th>\n",
              "      <td>16849.391488</td>\n",
              "      <td>2798.793040</td>\n",
              "      <td>0.392205</td>\n",
              "      <td>30.247405</td>\n",
              "      <td>2.664678e+06</td>\n",
              "      <td>196.393348</td>\n",
              "      <td>5636.566973</td>\n",
              "      <td>162.373622</td>\n",
              "      <td>27.870431</td>\n",
              "      <td>Label B</td>\n",
              "      <td>Label B</td>\n",
              "    </tr>\n",
              "    <tr>\n",
              "      <th>4</th>\n",
              "      <td>18808.132828</td>\n",
              "      <td>4380.388878</td>\n",
              "      <td>0.168008</td>\n",
              "      <td>210.036649</td>\n",
              "      <td>1.831439e+06</td>\n",
              "      <td>212.348232</td>\n",
              "      <td>5556.526192</td>\n",
              "      <td>65.864243</td>\n",
              "      <td>20.541668</td>\n",
              "      <td>Label B</td>\n",
              "      <td>Label B</td>\n",
              "    </tr>\n",
              "    <tr>\n",
              "      <th>5</th>\n",
              "      <td>4621.518990</td>\n",
              "      <td>4512.015379</td>\n",
              "      <td>0.183853</td>\n",
              "      <td>116.346920</td>\n",
              "      <td>2.520260e+06</td>\n",
              "      <td>300.983171</td>\n",
              "      <td>1670.038067</td>\n",
              "      <td>131.005461</td>\n",
              "      <td>31.332414</td>\n",
              "      <td>Label B</td>\n",
              "      <td>Label B</td>\n",
              "    </tr>\n",
              "    <tr>\n",
              "      <th>6</th>\n",
              "      <td>13628.970957</td>\n",
              "      <td>4401.913406</td>\n",
              "      <td>0.205122</td>\n",
              "      <td>204.061728</td>\n",
              "      <td>1.940766e+06</td>\n",
              "      <td>48.225771</td>\n",
              "      <td>4687.262934</td>\n",
              "      <td>12.735165</td>\n",
              "      <td>38.769201</td>\n",
              "      <td>Label B</td>\n",
              "      <td>Label B</td>\n",
              "    </tr>\n",
              "    <tr>\n",
              "      <th>7</th>\n",
              "      <td>16979.902618</td>\n",
              "      <td>5208.999036</td>\n",
              "      <td>0.324529</td>\n",
              "      <td>66.819521</td>\n",
              "      <td>1.744908e+06</td>\n",
              "      <td>283.538585</td>\n",
              "      <td>1992.712682</td>\n",
              "      <td>82.227060</td>\n",
              "      <td>19.793250</td>\n",
              "      <td>Label B</td>\n",
              "      <td>Label B</td>\n",
              "    </tr>\n",
              "    <tr>\n",
              "      <th>8</th>\n",
              "      <td>11709.911025</td>\n",
              "      <td>5981.594673</td>\n",
              "      <td>0.279873</td>\n",
              "      <td>141.652071</td>\n",
              "      <td>1.876779e+06</td>\n",
              "      <td>143.507523</td>\n",
              "      <td>5550.710876</td>\n",
              "      <td>56.701434</td>\n",
              "      <td>28.673745</td>\n",
              "      <td>Label B</td>\n",
              "      <td>Label B</td>\n",
              "    </tr>\n",
              "    <tr>\n",
              "      <th>9</th>\n",
              "      <td>13919.459798</td>\n",
              "      <td>3204.790868</td>\n",
              "      <td>0.310442</td>\n",
              "      <td>30.742658</td>\n",
              "      <td>9.133704e+05</td>\n",
              "      <td>142.801620</td>\n",
              "      <td>5390.525077</td>\n",
              "      <td>133.583883</td>\n",
              "      <td>26.576827</td>\n",
              "      <td>Label B</td>\n",
              "      <td>Label B</td>\n",
              "    </tr>\n",
              "    <tr>\n",
              "      <th>10</th>\n",
              "      <td>11533.652280</td>\n",
              "      <td>3069.015838</td>\n",
              "      <td>0.283345</td>\n",
              "      <td>235.295062</td>\n",
              "      <td>2.650545e+06</td>\n",
              "      <td>197.195452</td>\n",
              "      <td>6533.098175</td>\n",
              "      <td>130.758757</td>\n",
              "      <td>23.753796</td>\n",
              "      <td>Label B</td>\n",
              "      <td>Label B</td>\n",
              "    </tr>\n",
              "    <tr>\n",
              "      <th>11</th>\n",
              "      <td>12708.638134</td>\n",
              "      <td>3895.190752</td>\n",
              "      <td>0.314197</td>\n",
              "      <td>98.412346</td>\n",
              "      <td>6.030341e+05</td>\n",
              "      <td>244.010961</td>\n",
              "      <td>5847.917225</td>\n",
              "      <td>71.216155</td>\n",
              "      <td>39.481681</td>\n",
              "      <td>Label B</td>\n",
              "      <td>Label B</td>\n",
              "    </tr>\n",
              "    <tr>\n",
              "      <th>12</th>\n",
              "      <td>19524.508698</td>\n",
              "      <td>2849.079286</td>\n",
              "      <td>0.286733</td>\n",
              "      <td>219.108416</td>\n",
              "      <td>2.128675e+06</td>\n",
              "      <td>276.304669</td>\n",
              "      <td>1631.635231</td>\n",
              "      <td>150.978088</td>\n",
              "      <td>26.327479</td>\n",
              "      <td>Label B</td>\n",
              "      <td>Label B</td>\n",
              "    </tr>\n",
              "    <tr>\n",
              "      <th>13</th>\n",
              "      <td>19178.641149</td>\n",
              "      <td>2649.195356</td>\n",
              "      <td>0.238383</td>\n",
              "      <td>44.745506</td>\n",
              "      <td>6.296630e+05</td>\n",
              "      <td>140.361967</td>\n",
              "      <td>5235.520544</td>\n",
              "      <td>78.972397</td>\n",
              "      <td>40.993140</td>\n",
              "      <td>Label B</td>\n",
              "      <td>Label B</td>\n",
              "    </tr>\n",
              "    <tr>\n",
              "      <th>14</th>\n",
              "      <td>10120.430816</td>\n",
              "      <td>4400.598533</td>\n",
              "      <td>0.334789</td>\n",
              "      <td>138.861717</td>\n",
              "      <td>2.588230e+06</td>\n",
              "      <td>309.624560</td>\n",
              "      <td>2984.595994</td>\n",
              "      <td>165.083132</td>\n",
              "      <td>24.654889</td>\n",
              "      <td>Label B</td>\n",
              "      <td>Label B</td>\n",
              "    </tr>\n",
              "  </tbody>\n",
              "</table>\n",
              "</div>"
            ],
            "text/plain": [
              "              J1           J2        J3  ...         J9       LR      SVM\n",
              "0    6910.020217  4066.142843  0.150514  ...  36.738973  Label B  Label B\n",
              "1   11238.845463   771.573275  0.209651  ...  32.446130  Label B  Label B\n",
              "2   17433.591950  5749.738218  0.431073  ...  19.957218  Label B  Label B\n",
              "3   16849.391488  2798.793040  0.392205  ...  27.870431  Label B  Label B\n",
              "4   18808.132828  4380.388878  0.168008  ...  20.541668  Label B  Label B\n",
              "5    4621.518990  4512.015379  0.183853  ...  31.332414  Label B  Label B\n",
              "6   13628.970957  4401.913406  0.205122  ...  38.769201  Label B  Label B\n",
              "7   16979.902618  5208.999036  0.324529  ...  19.793250  Label B  Label B\n",
              "8   11709.911025  5981.594673  0.279873  ...  28.673745  Label B  Label B\n",
              "9   13919.459798  3204.790868  0.310442  ...  26.576827  Label B  Label B\n",
              "10  11533.652280  3069.015838  0.283345  ...  23.753796  Label B  Label B\n",
              "11  12708.638134  3895.190752  0.314197  ...  39.481681  Label B  Label B\n",
              "12  19524.508698  2849.079286  0.286733  ...  26.327479  Label B  Label B\n",
              "13  19178.641149  2649.195356  0.238383  ...  40.993140  Label B  Label B\n",
              "14  10120.430816  4400.598533  0.334789  ...  24.654889  Label B  Label B\n",
              "\n",
              "[15 rows x 11 columns]"
            ]
          },
          "metadata": {},
          "execution_count": 72
        }
      ]
    },
    {
      "cell_type": "markdown",
      "source": [
        "#### (J) Experiment 10 (E10)"
      ],
      "metadata": {
        "id": "Er9oTBLYvj_x"
      }
    },
    {
      "cell_type": "code",
      "source": [
        "D3 = D2.drop(['Target'], axis =1)"
      ],
      "metadata": {
        "id": "qEITnKdfvuos"
      },
      "execution_count": null,
      "outputs": []
    },
    {
      "cell_type": "code",
      "source": [
        "wcss = ElbowMethod(D3, 16)"
      ],
      "metadata": {
        "colab": {
          "base_uri": "https://localhost:8080/",
          "height": 316
        },
        "id": "45bqTdNTvqGw",
        "outputId": "88d674d0-10f3-4dca-c35f-c9a6c3f87d5b"
      },
      "execution_count": null,
      "outputs": [
        {
          "output_type": "stream",
          "name": "stdout",
          "text": [
            "Value of wcss:  [17823.522623935212, 8086.545264724147, 6520.5463897037325, 5313.921363854107, 4380.45034498073, 3660.312505021603, 3212.4793147050264, 2778.4907136264446, 2472.407843847744, 2165.321921979416, 1879.852388866488, 1728.809482898177, 1661.581972707123, 1524.6849989508419, 1456.9344262906043]\n"
          ]
        },
        {
          "output_type": "display_data",
          "data": {
            "image/png": "[encoded data removed]",
            "text/plain": [
              "<Figure size 432x288 with 1 Axes>"
            ]
          },
          "metadata": {
            "needs_background": "light"
          }
        }
      ]
    },
    {
      "cell_type": "markdown",
      "source": [
        "Taking the value of k as 3"
      ],
      "metadata": {
        "id": "zKYwoZhAv61I"
      }
    },
    {
      "cell_type": "code",
      "source": [
        "Kmean_model, y_clusters = Supreme(X, Y, D3, isKmeans=True, isClustering=True, isPlot=True, k =3)"
      ],
      "metadata": {
        "colab": {
          "base_uri": "https://localhost:8080/",
          "height": 552
        },
        "id": "qDuXgZNUvuYt",
        "outputId": "5ce412ff-79db-4067-e5d8-d93fcec3a4a8"
      },
      "execution_count": null,
      "outputs": [
        {
          "output_type": "stream",
          "name": "stdout",
          "text": [
            "Clustering:  [1 1 1 ... 1 1 1]\n",
            "Silhoutte Score:  0.39058336642375796\n"
          ]
        },
        {
          "output_type": "display_data",
          "data": {
            "image/png": "[encoded data removed]",
            "text/plain": [
              "<Figure size 1080x576 with 1 Axes>"
            ]
          },
          "metadata": {}
        }
      ]
    },
    {
      "cell_type": "code",
      "source": [
        "Kmean_model.cluster_centers_"
      ],
      "metadata": {
        "colab": {
          "base_uri": "https://localhost:8080/"
        },
        "id": "T6GahfKWwut4",
        "outputId": "fcdf98b0-456a-4e70-9cd2-beacaffa2f38"
      },
      "execution_count": null,
      "outputs": [
        {
          "output_type": "execute_result",
          "data": {
            "text/plain": [
              "array([[ 0.93455907,  0.35278255,  0.00628753,  1.4085212 ,  0.02520529,\n",
              "         0.73005177,  0.66970992,  0.89713871, -0.36549362],\n",
              "       [ 0.96124128,  0.27126158,  0.00636446, -0.30739231, -0.61207906,\n",
              "        -0.60295643, -0.65542994, -0.50097237,  0.76881828],\n",
              "       [ 0.95923118,  0.27721802,  0.00649107, -0.09299753,  1.4986711 ,\n",
              "         1.5861088 ,  1.49451107,  1.28074349, -1.37842858]])"
            ]
          },
          "metadata": {},
          "execution_count": 76
        }
      ]
    },
    {
      "cell_type": "markdown",
      "metadata": {
        "id": "bMYxpd5iaPjH"
      },
      "source": [
        "## 3. Inference"
      ]
    },
    {
      "cell_type": "markdown",
      "metadata": {
        "id": "riGYR5W0bAMh"
      },
      "source": [
        "###(i)\n",
        "####A"
      ]
    },
    {
      "cell_type": "code",
      "metadata": {
        "id": "QENBO78vaQKL"
      },
      "source": [
        "temp_D = D_test_data.copy()"
      ],
      "execution_count": null,
      "outputs": []
    },
    {
      "cell_type": "code",
      "metadata": {
        "id": "pugCAcOubLlg"
      },
      "source": [
        "temp_D['E1'] = E1\n",
        "temp_D['E2'] =E2\n",
        "temp_D['E3'] =E3\n",
        "temp_D['E4'] = D_test_data_predicted['LR']\n",
        "temp_D['E9'] = D_test_data_predicted['SVM']"
      ],
      "execution_count": null,
      "outputs": []
    },
    {
      "cell_type": "code",
      "metadata": {
        "colab": {
          "base_uri": "https://localhost:8080/",
          "height": 520
        },
        "id": "GR2fopZRbM92",
        "outputId": "f893e8c8-62c4-406c-bcf6-c93e6b19b7f6"
      },
      "source": [
        "temp_D"
      ],
      "execution_count": null,
      "outputs": [
        {
          "output_type": "execute_result",
          "data": {
            "text/html": [
              "<div>\n",
              "<style scoped>\n",
              "    .dataframe tbody tr th:only-of-type {\n",
              "        vertical-align: middle;\n",
              "    }\n",
              "\n",
              "    .dataframe tbody tr th {\n",
              "        vertical-align: top;\n",
              "    }\n",
              "\n",
              "    .dataframe thead th {\n",
              "        text-align: right;\n",
              "    }\n",
              "</style>\n",
              "<table border=\"1\" class=\"dataframe\">\n",
              "  <thead>\n",
              "    <tr style=\"text-align: right;\">\n",
              "      <th></th>\n",
              "      <th>J1</th>\n",
              "      <th>J2</th>\n",
              "      <th>J3</th>\n",
              "      <th>J4</th>\n",
              "      <th>J5</th>\n",
              "      <th>J6</th>\n",
              "      <th>J7</th>\n",
              "      <th>J8</th>\n",
              "      <th>J9</th>\n",
              "      <th>E1</th>\n",
              "      <th>E2</th>\n",
              "      <th>E3</th>\n",
              "      <th>E4</th>\n",
              "      <th>E9</th>\n",
              "    </tr>\n",
              "  </thead>\n",
              "  <tbody>\n",
              "    <tr>\n",
              "      <th>0</th>\n",
              "      <td>6910.020217</td>\n",
              "      <td>4066.142843</td>\n",
              "      <td>0.150514</td>\n",
              "      <td>44.534149</td>\n",
              "      <td>1.340097e+06</td>\n",
              "      <td>195.915203</td>\n",
              "      <td>6427.120286</td>\n",
              "      <td>8.365555</td>\n",
              "      <td>36.738973</td>\n",
              "      <td>3.539325e+07</td>\n",
              "      <td>2.054833e+06</td>\n",
              "      <td>1.273210e+06</td>\n",
              "      <td>Label B</td>\n",
              "      <td>Label B</td>\n",
              "    </tr>\n",
              "    <tr>\n",
              "      <th>1</th>\n",
              "      <td>11238.845463</td>\n",
              "      <td>771.573275</td>\n",
              "      <td>0.209651</td>\n",
              "      <td>221.142924</td>\n",
              "      <td>2.004193e+06</td>\n",
              "      <td>227.829161</td>\n",
              "      <td>3427.273229</td>\n",
              "      <td>145.371227</td>\n",
              "      <td>32.446130</td>\n",
              "      <td>5.290567e+07</td>\n",
              "      <td>3.051134e+06</td>\n",
              "      <td>1.902943e+06</td>\n",
              "      <td>Label B</td>\n",
              "      <td>Label B</td>\n",
              "    </tr>\n",
              "    <tr>\n",
              "      <th>2</th>\n",
              "      <td>17433.591950</td>\n",
              "      <td>5749.738218</td>\n",
              "      <td>0.431073</td>\n",
              "      <td>169.622267</td>\n",
              "      <td>7.792603e+05</td>\n",
              "      <td>104.174030</td>\n",
              "      <td>3050.894526</td>\n",
              "      <td>106.158865</td>\n",
              "      <td>19.957218</td>\n",
              "      <td>2.063733e+07</td>\n",
              "      <td>1.201988e+06</td>\n",
              "      <td>7.562342e+05</td>\n",
              "      <td>Label B</td>\n",
              "      <td>Label B</td>\n",
              "    </tr>\n",
              "    <tr>\n",
              "      <th>3</th>\n",
              "      <td>16849.391488</td>\n",
              "      <td>2798.793040</td>\n",
              "      <td>0.392205</td>\n",
              "      <td>30.247405</td>\n",
              "      <td>2.664678e+06</td>\n",
              "      <td>196.393348</td>\n",
              "      <td>5636.566973</td>\n",
              "      <td>162.373622</td>\n",
              "      <td>27.870431</td>\n",
              "      <td>7.036297e+07</td>\n",
              "      <td>4.062084e+06</td>\n",
              "      <td>2.532349e+06</td>\n",
              "      <td>Label B</td>\n",
              "      <td>Label B</td>\n",
              "    </tr>\n",
              "    <tr>\n",
              "      <th>4</th>\n",
              "      <td>18808.132828</td>\n",
              "      <td>4380.388878</td>\n",
              "      <td>0.168008</td>\n",
              "      <td>210.036649</td>\n",
              "      <td>1.831439e+06</td>\n",
              "      <td>212.348232</td>\n",
              "      <td>5556.526192</td>\n",
              "      <td>65.864243</td>\n",
              "      <td>20.541668</td>\n",
              "      <td>4.839218e+07</td>\n",
              "      <td>2.801557e+06</td>\n",
              "      <td>1.750667e+06</td>\n",
              "      <td>Label B</td>\n",
              "      <td>Label B</td>\n",
              "    </tr>\n",
              "    <tr>\n",
              "      <th>5</th>\n",
              "      <td>4621.518990</td>\n",
              "      <td>4512.015379</td>\n",
              "      <td>0.183853</td>\n",
              "      <td>116.346920</td>\n",
              "      <td>2.520260e+06</td>\n",
              "      <td>300.983171</td>\n",
              "      <td>1670.038067</td>\n",
              "      <td>131.005461</td>\n",
              "      <td>31.332414</td>\n",
              "      <td>6.650640e+07</td>\n",
              "      <td>3.831908e+06</td>\n",
              "      <td>2.375214e+06</td>\n",
              "      <td>Label B</td>\n",
              "      <td>Label B</td>\n",
              "    </tr>\n",
              "    <tr>\n",
              "      <th>6</th>\n",
              "      <td>13628.970957</td>\n",
              "      <td>4401.913406</td>\n",
              "      <td>0.205122</td>\n",
              "      <td>204.061728</td>\n",
              "      <td>1.940766e+06</td>\n",
              "      <td>48.225771</td>\n",
              "      <td>4687.262934</td>\n",
              "      <td>12.735165</td>\n",
              "      <td>38.769201</td>\n",
              "      <td>5.125793e+07</td>\n",
              "      <td>2.963391e+06</td>\n",
              "      <td>1.845409e+06</td>\n",
              "      <td>Label B</td>\n",
              "      <td>Label B</td>\n",
              "    </tr>\n",
              "    <tr>\n",
              "      <th>7</th>\n",
              "      <td>16979.902618</td>\n",
              "      <td>5208.999036</td>\n",
              "      <td>0.324529</td>\n",
              "      <td>66.819521</td>\n",
              "      <td>1.744908e+06</td>\n",
              "      <td>283.538585</td>\n",
              "      <td>1992.712682</td>\n",
              "      <td>82.227060</td>\n",
              "      <td>19.793250</td>\n",
              "      <td>4.610363e+07</td>\n",
              "      <td>2.662289e+06</td>\n",
              "      <td>1.662983e+06</td>\n",
              "      <td>Label B</td>\n",
              "      <td>Label B</td>\n",
              "    </tr>\n",
              "    <tr>\n",
              "      <th>8</th>\n",
              "      <td>11709.911025</td>\n",
              "      <td>5981.594673</td>\n",
              "      <td>0.279873</td>\n",
              "      <td>141.652071</td>\n",
              "      <td>1.876779e+06</td>\n",
              "      <td>143.507523</td>\n",
              "      <td>5550.710876</td>\n",
              "      <td>56.701434</td>\n",
              "      <td>28.673745</td>\n",
              "      <td>4.957052e+07</td>\n",
              "      <td>2.870095e+06</td>\n",
              "      <td>1.782489e+06</td>\n",
              "      <td>Label B</td>\n",
              "      <td>Label B</td>\n",
              "    </tr>\n",
              "    <tr>\n",
              "      <th>9</th>\n",
              "      <td>13919.459798</td>\n",
              "      <td>3204.790868</td>\n",
              "      <td>0.310442</td>\n",
              "      <td>30.742658</td>\n",
              "      <td>9.133704e+05</td>\n",
              "      <td>142.801620</td>\n",
              "      <td>5390.525077</td>\n",
              "      <td>133.583883</td>\n",
              "      <td>26.576827</td>\n",
              "      <td>2.415954e+07</td>\n",
              "      <td>1.406632e+06</td>\n",
              "      <td>8.811335e+05</td>\n",
              "      <td>Label B</td>\n",
              "      <td>Label B</td>\n",
              "    </tr>\n",
              "    <tr>\n",
              "      <th>10</th>\n",
              "      <td>11533.652280</td>\n",
              "      <td>3069.015838</td>\n",
              "      <td>0.283345</td>\n",
              "      <td>235.295062</td>\n",
              "      <td>2.650545e+06</td>\n",
              "      <td>197.195452</td>\n",
              "      <td>6533.098175</td>\n",
              "      <td>130.758757</td>\n",
              "      <td>23.753796</td>\n",
              "      <td>6.996809e+07</td>\n",
              "      <td>4.041430e+06</td>\n",
              "      <td>2.512542e+06</td>\n",
              "      <td>Label B</td>\n",
              "      <td>Label B</td>\n",
              "    </tr>\n",
              "    <tr>\n",
              "      <th>11</th>\n",
              "      <td>12708.638134</td>\n",
              "      <td>3895.190752</td>\n",
              "      <td>0.314197</td>\n",
              "      <td>98.412346</td>\n",
              "      <td>6.030341e+05</td>\n",
              "      <td>244.010961</td>\n",
              "      <td>5847.917225</td>\n",
              "      <td>71.216155</td>\n",
              "      <td>39.481681</td>\n",
              "      <td>1.596954e+07</td>\n",
              "      <td>9.380152e+05</td>\n",
              "      <td>5.878019e+05</td>\n",
              "      <td>Label B</td>\n",
              "      <td>Label B</td>\n",
              "    </tr>\n",
              "    <tr>\n",
              "      <th>12</th>\n",
              "      <td>19524.508698</td>\n",
              "      <td>2849.079286</td>\n",
              "      <td>0.286733</td>\n",
              "      <td>219.108416</td>\n",
              "      <td>2.128675e+06</td>\n",
              "      <td>276.304669</td>\n",
              "      <td>1631.635231</td>\n",
              "      <td>150.978088</td>\n",
              "      <td>26.327479</td>\n",
              "      <td>5.622331e+07</td>\n",
              "      <td>3.240811e+06</td>\n",
              "      <td>2.028507e+06</td>\n",
              "      <td>Label B</td>\n",
              "      <td>Label B</td>\n",
              "    </tr>\n",
              "    <tr>\n",
              "      <th>13</th>\n",
              "      <td>19178.641149</td>\n",
              "      <td>2649.195356</td>\n",
              "      <td>0.238383</td>\n",
              "      <td>44.745506</td>\n",
              "      <td>6.296630e+05</td>\n",
              "      <td>140.361967</td>\n",
              "      <td>5235.520544</td>\n",
              "      <td>78.972397</td>\n",
              "      <td>40.993140</td>\n",
              "      <td>1.669257e+07</td>\n",
              "      <td>9.772150e+05</td>\n",
              "      <td>6.218009e+05</td>\n",
              "      <td>Label B</td>\n",
              "      <td>Label B</td>\n",
              "    </tr>\n",
              "    <tr>\n",
              "      <th>14</th>\n",
              "      <td>10120.430816</td>\n",
              "      <td>4400.598533</td>\n",
              "      <td>0.334789</td>\n",
              "      <td>138.861717</td>\n",
              "      <td>2.588230e+06</td>\n",
              "      <td>309.624560</td>\n",
              "      <td>2984.595994</td>\n",
              "      <td>165.083132</td>\n",
              "      <td>24.654889</td>\n",
              "      <td>6.832005e+07</td>\n",
              "      <td>3.939756e+06</td>\n",
              "      <td>2.447976e+06</td>\n",
              "      <td>Label B</td>\n",
              "      <td>Label B</td>\n",
              "    </tr>\n",
              "  </tbody>\n",
              "</table>\n",
              "</div>"
            ],
            "text/plain": [
              "              J1           J2        J3  ...            E3       E4       E9\n",
              "0    6910.020217  4066.142843  0.150514  ...  1.273210e+06  Label B  Label B\n",
              "1   11238.845463   771.573275  0.209651  ...  1.902943e+06  Label B  Label B\n",
              "2   17433.591950  5749.738218  0.431073  ...  7.562342e+05  Label B  Label B\n",
              "3   16849.391488  2798.793040  0.392205  ...  2.532349e+06  Label B  Label B\n",
              "4   18808.132828  4380.388878  0.168008  ...  1.750667e+06  Label B  Label B\n",
              "5    4621.518990  4512.015379  0.183853  ...  2.375214e+06  Label B  Label B\n",
              "6   13628.970957  4401.913406  0.205122  ...  1.845409e+06  Label B  Label B\n",
              "7   16979.902618  5208.999036  0.324529  ...  1.662983e+06  Label B  Label B\n",
              "8   11709.911025  5981.594673  0.279873  ...  1.782489e+06  Label B  Label B\n",
              "9   13919.459798  3204.790868  0.310442  ...  8.811335e+05  Label B  Label B\n",
              "10  11533.652280  3069.015838  0.283345  ...  2.512542e+06  Label B  Label B\n",
              "11  12708.638134  3895.190752  0.314197  ...  5.878019e+05  Label B  Label B\n",
              "12  19524.508698  2849.079286  0.286733  ...  2.028507e+06  Label B  Label B\n",
              "13  19178.641149  2649.195356  0.238383  ...  6.218009e+05  Label B  Label B\n",
              "14  10120.430816  4400.598533  0.334789  ...  2.447976e+06  Label B  Label B\n",
              "\n",
              "[15 rows x 14 columns]"
            ]
          },
          "metadata": {},
          "execution_count": 101
        }
      ]
    },
    {
      "cell_type": "markdown",
      "metadata": {
        "id": "9vlw-nMPbBHA"
      },
      "source": [
        "B."
      ]
    },
    {
      "cell_type": "code",
      "source": [
        "#df.loc[boolean_condition, column_name] = new_value\n",
        "temp_D.loc[temp_D.E1 <= 0, 'E1'] = 'Label Z'\n",
        "temp_D.loc[np.logical_and(temp_D.E1 > 0 , temp_D.E1 <= 10), 'E1'] = 'Label B'\n",
        "temp_D.loc[np.logical_and(temp_D.E1 > 10 , temp_D.E1 <= 20), 'E1'] = 'Label C'\n",
        "temp_D.loc[np.logical_and(temp_D.E1 > 20 , temp_D.E1 <= 30), 'E1'] = 'Label D'\n",
        "temp_D.loc[temp_D.E1 > 30 , 'E1'] = 'Label E'"
      ],
      "metadata": {
        "id": "514doB3w8Dh0"
      },
      "execution_count": null,
      "outputs": []
    },
    {
      "cell_type": "code",
      "source": [
        "#df.loc[boolean_condition, column_name] = new_value\n",
        "temp_D.loc[temp_D.E2 <= 0, 'E2'] = 'Label Z'\n",
        "temp_D.loc[np.logical_and(temp_D.E2 > 0 , temp_D.E2 <= 10), 'E2'] = 'Label B'\n",
        "temp_D.loc[np.logical_and(temp_D.E2 > 10 , temp_D.E2 <= 20), 'E2'] = 'Label C'\n",
        "temp_D.loc[np.logical_and(temp_D.E2 > 20 , temp_D.E2 <= 30), 'E2'] = 'Label D'\n",
        "temp_D.loc[temp_D.E2 > 30 , 'E2'] = 'Label E'"
      ],
      "metadata": {
        "id": "GC2pTGCp8FLs"
      },
      "execution_count": null,
      "outputs": []
    },
    {
      "cell_type": "code",
      "source": [
        "#df.loc[boolean_condition, column_name] = new_value\n",
        "temp_D.loc[temp_D.E3 <= 0, 'E3'] = 'Label Z'\n",
        "temp_D.loc[np.logical_and(temp_D.E3 > 0 , temp_D.E3 <= 10), 'E3'] = 'Label B'\n",
        "temp_D.loc[np.logical_and(temp_D.E3 > 10 , temp_D.E3 <= 20), 'E3'] = 'Label C'\n",
        "temp_D.loc[np.logical_and(temp_D.E3 > 20 , temp_D.E3 <= 30), 'E3'] = 'Label D'\n",
        "temp_D.loc[temp_D.E3 > 30 , 'E3'] = 'Label E'"
      ],
      "metadata": {
        "id": "y-dVIeoa8FOp"
      },
      "execution_count": null,
      "outputs": []
    },
    {
      "cell_type": "code",
      "source": [
        "temp_D"
      ],
      "metadata": {
        "colab": {
          "base_uri": "https://localhost:8080/",
          "height": 520
        },
        "id": "NHlq74jL8FSE",
        "outputId": "63ea8650-14a3-4c92-c4bd-1ba6ab0cb5f0"
      },
      "execution_count": null,
      "outputs": [
        {
          "output_type": "execute_result",
          "data": {
            "text/html": [
              "<div>\n",
              "<style scoped>\n",
              "    .dataframe tbody tr th:only-of-type {\n",
              "        vertical-align: middle;\n",
              "    }\n",
              "\n",
              "    .dataframe tbody tr th {\n",
              "        vertical-align: top;\n",
              "    }\n",
              "\n",
              "    .dataframe thead th {\n",
              "        text-align: right;\n",
              "    }\n",
              "</style>\n",
              "<table border=\"1\" class=\"dataframe\">\n",
              "  <thead>\n",
              "    <tr style=\"text-align: right;\">\n",
              "      <th></th>\n",
              "      <th>J1</th>\n",
              "      <th>J2</th>\n",
              "      <th>J3</th>\n",
              "      <th>J4</th>\n",
              "      <th>J5</th>\n",
              "      <th>J6</th>\n",
              "      <th>J7</th>\n",
              "      <th>J8</th>\n",
              "      <th>J9</th>\n",
              "      <th>E1</th>\n",
              "      <th>E2</th>\n",
              "      <th>E3</th>\n",
              "      <th>E4</th>\n",
              "      <th>E9</th>\n",
              "    </tr>\n",
              "  </thead>\n",
              "  <tbody>\n",
              "    <tr>\n",
              "      <th>0</th>\n",
              "      <td>6910.020217</td>\n",
              "      <td>4066.142843</td>\n",
              "      <td>0.150514</td>\n",
              "      <td>44.534149</td>\n",
              "      <td>1.340097e+06</td>\n",
              "      <td>195.915203</td>\n",
              "      <td>6427.120286</td>\n",
              "      <td>8.365555</td>\n",
              "      <td>36.738973</td>\n",
              "      <td>Label E</td>\n",
              "      <td>Label E</td>\n",
              "      <td>Label E</td>\n",
              "      <td>Label B</td>\n",
              "      <td>Label B</td>\n",
              "    </tr>\n",
              "    <tr>\n",
              "      <th>1</th>\n",
              "      <td>11238.845463</td>\n",
              "      <td>771.573275</td>\n",
              "      <td>0.209651</td>\n",
              "      <td>221.142924</td>\n",
              "      <td>2.004193e+06</td>\n",
              "      <td>227.829161</td>\n",
              "      <td>3427.273229</td>\n",
              "      <td>145.371227</td>\n",
              "      <td>32.446130</td>\n",
              "      <td>Label E</td>\n",
              "      <td>Label E</td>\n",
              "      <td>Label E</td>\n",
              "      <td>Label B</td>\n",
              "      <td>Label B</td>\n",
              "    </tr>\n",
              "    <tr>\n",
              "      <th>2</th>\n",
              "      <td>17433.591950</td>\n",
              "      <td>5749.738218</td>\n",
              "      <td>0.431073</td>\n",
              "      <td>169.622267</td>\n",
              "      <td>7.792603e+05</td>\n",
              "      <td>104.174030</td>\n",
              "      <td>3050.894526</td>\n",
              "      <td>106.158865</td>\n",
              "      <td>19.957218</td>\n",
              "      <td>Label E</td>\n",
              "      <td>Label E</td>\n",
              "      <td>Label E</td>\n",
              "      <td>Label B</td>\n",
              "      <td>Label B</td>\n",
              "    </tr>\n",
              "    <tr>\n",
              "      <th>3</th>\n",
              "      <td>16849.391488</td>\n",
              "      <td>2798.793040</td>\n",
              "      <td>0.392205</td>\n",
              "      <td>30.247405</td>\n",
              "      <td>2.664678e+06</td>\n",
              "      <td>196.393348</td>\n",
              "      <td>5636.566973</td>\n",
              "      <td>162.373622</td>\n",
              "      <td>27.870431</td>\n",
              "      <td>Label E</td>\n",
              "      <td>Label E</td>\n",
              "      <td>Label E</td>\n",
              "      <td>Label B</td>\n",
              "      <td>Label B</td>\n",
              "    </tr>\n",
              "    <tr>\n",
              "      <th>4</th>\n",
              "      <td>18808.132828</td>\n",
              "      <td>4380.388878</td>\n",
              "      <td>0.168008</td>\n",
              "      <td>210.036649</td>\n",
              "      <td>1.831439e+06</td>\n",
              "      <td>212.348232</td>\n",
              "      <td>5556.526192</td>\n",
              "      <td>65.864243</td>\n",
              "      <td>20.541668</td>\n",
              "      <td>Label E</td>\n",
              "      <td>Label E</td>\n",
              "      <td>Label E</td>\n",
              "      <td>Label B</td>\n",
              "      <td>Label B</td>\n",
              "    </tr>\n",
              "    <tr>\n",
              "      <th>5</th>\n",
              "      <td>4621.518990</td>\n",
              "      <td>4512.015379</td>\n",
              "      <td>0.183853</td>\n",
              "      <td>116.346920</td>\n",
              "      <td>2.520260e+06</td>\n",
              "      <td>300.983171</td>\n",
              "      <td>1670.038067</td>\n",
              "      <td>131.005461</td>\n",
              "      <td>31.332414</td>\n",
              "      <td>Label E</td>\n",
              "      <td>Label E</td>\n",
              "      <td>Label E</td>\n",
              "      <td>Label B</td>\n",
              "      <td>Label B</td>\n",
              "    </tr>\n",
              "    <tr>\n",
              "      <th>6</th>\n",
              "      <td>13628.970957</td>\n",
              "      <td>4401.913406</td>\n",
              "      <td>0.205122</td>\n",
              "      <td>204.061728</td>\n",
              "      <td>1.940766e+06</td>\n",
              "      <td>48.225771</td>\n",
              "      <td>4687.262934</td>\n",
              "      <td>12.735165</td>\n",
              "      <td>38.769201</td>\n",
              "      <td>Label E</td>\n",
              "      <td>Label E</td>\n",
              "      <td>Label E</td>\n",
              "      <td>Label B</td>\n",
              "      <td>Label B</td>\n",
              "    </tr>\n",
              "    <tr>\n",
              "      <th>7</th>\n",
              "      <td>16979.902618</td>\n",
              "      <td>5208.999036</td>\n",
              "      <td>0.324529</td>\n",
              "      <td>66.819521</td>\n",
              "      <td>1.744908e+06</td>\n",
              "      <td>283.538585</td>\n",
              "      <td>1992.712682</td>\n",
              "      <td>82.227060</td>\n",
              "      <td>19.793250</td>\n",
              "      <td>Label E</td>\n",
              "      <td>Label E</td>\n",
              "      <td>Label E</td>\n",
              "      <td>Label B</td>\n",
              "      <td>Label B</td>\n",
              "    </tr>\n",
              "    <tr>\n",
              "      <th>8</th>\n",
              "      <td>11709.911025</td>\n",
              "      <td>5981.594673</td>\n",
              "      <td>0.279873</td>\n",
              "      <td>141.652071</td>\n",
              "      <td>1.876779e+06</td>\n",
              "      <td>143.507523</td>\n",
              "      <td>5550.710876</td>\n",
              "      <td>56.701434</td>\n",
              "      <td>28.673745</td>\n",
              "      <td>Label E</td>\n",
              "      <td>Label E</td>\n",
              "      <td>Label E</td>\n",
              "      <td>Label B</td>\n",
              "      <td>Label B</td>\n",
              "    </tr>\n",
              "    <tr>\n",
              "      <th>9</th>\n",
              "      <td>13919.459798</td>\n",
              "      <td>3204.790868</td>\n",
              "      <td>0.310442</td>\n",
              "      <td>30.742658</td>\n",
              "      <td>9.133704e+05</td>\n",
              "      <td>142.801620</td>\n",
              "      <td>5390.525077</td>\n",
              "      <td>133.583883</td>\n",
              "      <td>26.576827</td>\n",
              "      <td>Label E</td>\n",
              "      <td>Label E</td>\n",
              "      <td>Label E</td>\n",
              "      <td>Label B</td>\n",
              "      <td>Label B</td>\n",
              "    </tr>\n",
              "    <tr>\n",
              "      <th>10</th>\n",
              "      <td>11533.652280</td>\n",
              "      <td>3069.015838</td>\n",
              "      <td>0.283345</td>\n",
              "      <td>235.295062</td>\n",
              "      <td>2.650545e+06</td>\n",
              "      <td>197.195452</td>\n",
              "      <td>6533.098175</td>\n",
              "      <td>130.758757</td>\n",
              "      <td>23.753796</td>\n",
              "      <td>Label E</td>\n",
              "      <td>Label E</td>\n",
              "      <td>Label E</td>\n",
              "      <td>Label B</td>\n",
              "      <td>Label B</td>\n",
              "    </tr>\n",
              "    <tr>\n",
              "      <th>11</th>\n",
              "      <td>12708.638134</td>\n",
              "      <td>3895.190752</td>\n",
              "      <td>0.314197</td>\n",
              "      <td>98.412346</td>\n",
              "      <td>6.030341e+05</td>\n",
              "      <td>244.010961</td>\n",
              "      <td>5847.917225</td>\n",
              "      <td>71.216155</td>\n",
              "      <td>39.481681</td>\n",
              "      <td>Label E</td>\n",
              "      <td>Label E</td>\n",
              "      <td>Label E</td>\n",
              "      <td>Label B</td>\n",
              "      <td>Label B</td>\n",
              "    </tr>\n",
              "    <tr>\n",
              "      <th>12</th>\n",
              "      <td>19524.508698</td>\n",
              "      <td>2849.079286</td>\n",
              "      <td>0.286733</td>\n",
              "      <td>219.108416</td>\n",
              "      <td>2.128675e+06</td>\n",
              "      <td>276.304669</td>\n",
              "      <td>1631.635231</td>\n",
              "      <td>150.978088</td>\n",
              "      <td>26.327479</td>\n",
              "      <td>Label E</td>\n",
              "      <td>Label E</td>\n",
              "      <td>Label E</td>\n",
              "      <td>Label B</td>\n",
              "      <td>Label B</td>\n",
              "    </tr>\n",
              "    <tr>\n",
              "      <th>13</th>\n",
              "      <td>19178.641149</td>\n",
              "      <td>2649.195356</td>\n",
              "      <td>0.238383</td>\n",
              "      <td>44.745506</td>\n",
              "      <td>6.296630e+05</td>\n",
              "      <td>140.361967</td>\n",
              "      <td>5235.520544</td>\n",
              "      <td>78.972397</td>\n",
              "      <td>40.993140</td>\n",
              "      <td>Label E</td>\n",
              "      <td>Label E</td>\n",
              "      <td>Label E</td>\n",
              "      <td>Label B</td>\n",
              "      <td>Label B</td>\n",
              "    </tr>\n",
              "    <tr>\n",
              "      <th>14</th>\n",
              "      <td>10120.430816</td>\n",
              "      <td>4400.598533</td>\n",
              "      <td>0.334789</td>\n",
              "      <td>138.861717</td>\n",
              "      <td>2.588230e+06</td>\n",
              "      <td>309.624560</td>\n",
              "      <td>2984.595994</td>\n",
              "      <td>165.083132</td>\n",
              "      <td>24.654889</td>\n",
              "      <td>Label E</td>\n",
              "      <td>Label E</td>\n",
              "      <td>Label E</td>\n",
              "      <td>Label B</td>\n",
              "      <td>Label B</td>\n",
              "    </tr>\n",
              "  </tbody>\n",
              "</table>\n",
              "</div>"
            ],
            "text/plain": [
              "              J1           J2        J3  ...       E3       E4       E9\n",
              "0    6910.020217  4066.142843  0.150514  ...  Label E  Label B  Label B\n",
              "1   11238.845463   771.573275  0.209651  ...  Label E  Label B  Label B\n",
              "2   17433.591950  5749.738218  0.431073  ...  Label E  Label B  Label B\n",
              "3   16849.391488  2798.793040  0.392205  ...  Label E  Label B  Label B\n",
              "4   18808.132828  4380.388878  0.168008  ...  Label E  Label B  Label B\n",
              "5    4621.518990  4512.015379  0.183853  ...  Label E  Label B  Label B\n",
              "6   13628.970957  4401.913406  0.205122  ...  Label E  Label B  Label B\n",
              "7   16979.902618  5208.999036  0.324529  ...  Label E  Label B  Label B\n",
              "8   11709.911025  5981.594673  0.279873  ...  Label E  Label B  Label B\n",
              "9   13919.459798  3204.790868  0.310442  ...  Label E  Label B  Label B\n",
              "10  11533.652280  3069.015838  0.283345  ...  Label E  Label B  Label B\n",
              "11  12708.638134  3895.190752  0.314197  ...  Label E  Label B  Label B\n",
              "12  19524.508698  2849.079286  0.286733  ...  Label E  Label B  Label B\n",
              "13  19178.641149  2649.195356  0.238383  ...  Label E  Label B  Label B\n",
              "14  10120.430816  4400.598533  0.334789  ...  Label E  Label B  Label B\n",
              "\n",
              "[15 rows x 14 columns]"
            ]
          },
          "metadata": {},
          "execution_count": 105
        }
      ]
    },
    {
      "cell_type": "markdown",
      "source": [
        "D"
      ],
      "metadata": {
        "id": "o8O-CoKJ8LCP"
      }
    },
    {
      "cell_type": "code",
      "source": [
        "import statistics\n",
        "for index, row in temp_D.iterrows():\n",
        "  temp_D['new-output'] = statistics.mode([row['E3']])"
      ],
      "metadata": {
        "id": "DTBi23iU8FVF"
      },
      "execution_count": null,
      "outputs": []
    },
    {
      "cell_type": "code",
      "source": [
        "temp_D"
      ],
      "metadata": {
        "colab": {
          "base_uri": "https://localhost:8080/",
          "height": 520
        },
        "id": "ejlsIYvC8PeW",
        "outputId": "48334729-f49d-4b30-ed4e-101563f5caef"
      },
      "execution_count": null,
      "outputs": [
        {
          "output_type": "execute_result",
          "data": {
            "text/html": [
              "<div>\n",
              "<style scoped>\n",
              "    .dataframe tbody tr th:only-of-type {\n",
              "        vertical-align: middle;\n",
              "    }\n",
              "\n",
              "    .dataframe tbody tr th {\n",
              "        vertical-align: top;\n",
              "    }\n",
              "\n",
              "    .dataframe thead th {\n",
              "        text-align: right;\n",
              "    }\n",
              "</style>\n",
              "<table border=\"1\" class=\"dataframe\">\n",
              "  <thead>\n",
              "    <tr style=\"text-align: right;\">\n",
              "      <th></th>\n",
              "      <th>J1</th>\n",
              "      <th>J2</th>\n",
              "      <th>J3</th>\n",
              "      <th>J4</th>\n",
              "      <th>J5</th>\n",
              "      <th>J6</th>\n",
              "      <th>J7</th>\n",
              "      <th>J8</th>\n",
              "      <th>J9</th>\n",
              "      <th>E1</th>\n",
              "      <th>E2</th>\n",
              "      <th>E3</th>\n",
              "      <th>E4</th>\n",
              "      <th>E9</th>\n",
              "      <th>new-output</th>\n",
              "    </tr>\n",
              "  </thead>\n",
              "  <tbody>\n",
              "    <tr>\n",
              "      <th>0</th>\n",
              "      <td>6910.020217</td>\n",
              "      <td>4066.142843</td>\n",
              "      <td>0.150514</td>\n",
              "      <td>44.534149</td>\n",
              "      <td>1.340097e+06</td>\n",
              "      <td>195.915203</td>\n",
              "      <td>6427.120286</td>\n",
              "      <td>8.365555</td>\n",
              "      <td>36.738973</td>\n",
              "      <td>Label E</td>\n",
              "      <td>Label E</td>\n",
              "      <td>Label E</td>\n",
              "      <td>Label B</td>\n",
              "      <td>Label B</td>\n",
              "      <td>Label E</td>\n",
              "    </tr>\n",
              "    <tr>\n",
              "      <th>1</th>\n",
              "      <td>11238.845463</td>\n",
              "      <td>771.573275</td>\n",
              "      <td>0.209651</td>\n",
              "      <td>221.142924</td>\n",
              "      <td>2.004193e+06</td>\n",
              "      <td>227.829161</td>\n",
              "      <td>3427.273229</td>\n",
              "      <td>145.371227</td>\n",
              "      <td>32.446130</td>\n",
              "      <td>Label E</td>\n",
              "      <td>Label E</td>\n",
              "      <td>Label E</td>\n",
              "      <td>Label B</td>\n",
              "      <td>Label B</td>\n",
              "      <td>Label E</td>\n",
              "    </tr>\n",
              "    <tr>\n",
              "      <th>2</th>\n",
              "      <td>17433.591950</td>\n",
              "      <td>5749.738218</td>\n",
              "      <td>0.431073</td>\n",
              "      <td>169.622267</td>\n",
              "      <td>7.792603e+05</td>\n",
              "      <td>104.174030</td>\n",
              "      <td>3050.894526</td>\n",
              "      <td>106.158865</td>\n",
              "      <td>19.957218</td>\n",
              "      <td>Label E</td>\n",
              "      <td>Label E</td>\n",
              "      <td>Label E</td>\n",
              "      <td>Label B</td>\n",
              "      <td>Label B</td>\n",
              "      <td>Label E</td>\n",
              "    </tr>\n",
              "    <tr>\n",
              "      <th>3</th>\n",
              "      <td>16849.391488</td>\n",
              "      <td>2798.793040</td>\n",
              "      <td>0.392205</td>\n",
              "      <td>30.247405</td>\n",
              "      <td>2.664678e+06</td>\n",
              "      <td>196.393348</td>\n",
              "      <td>5636.566973</td>\n",
              "      <td>162.373622</td>\n",
              "      <td>27.870431</td>\n",
              "      <td>Label E</td>\n",
              "      <td>Label E</td>\n",
              "      <td>Label E</td>\n",
              "      <td>Label B</td>\n",
              "      <td>Label B</td>\n",
              "      <td>Label E</td>\n",
              "    </tr>\n",
              "    <tr>\n",
              "      <th>4</th>\n",
              "      <td>18808.132828</td>\n",
              "      <td>4380.388878</td>\n",
              "      <td>0.168008</td>\n",
              "      <td>210.036649</td>\n",
              "      <td>1.831439e+06</td>\n",
              "      <td>212.348232</td>\n",
              "      <td>5556.526192</td>\n",
              "      <td>65.864243</td>\n",
              "      <td>20.541668</td>\n",
              "      <td>Label E</td>\n",
              "      <td>Label E</td>\n",
              "      <td>Label E</td>\n",
              "      <td>Label B</td>\n",
              "      <td>Label B</td>\n",
              "      <td>Label E</td>\n",
              "    </tr>\n",
              "    <tr>\n",
              "      <th>5</th>\n",
              "      <td>4621.518990</td>\n",
              "      <td>4512.015379</td>\n",
              "      <td>0.183853</td>\n",
              "      <td>116.346920</td>\n",
              "      <td>2.520260e+06</td>\n",
              "      <td>300.983171</td>\n",
              "      <td>1670.038067</td>\n",
              "      <td>131.005461</td>\n",
              "      <td>31.332414</td>\n",
              "      <td>Label E</td>\n",
              "      <td>Label E</td>\n",
              "      <td>Label E</td>\n",
              "      <td>Label B</td>\n",
              "      <td>Label B</td>\n",
              "      <td>Label E</td>\n",
              "    </tr>\n",
              "    <tr>\n",
              "      <th>6</th>\n",
              "      <td>13628.970957</td>\n",
              "      <td>4401.913406</td>\n",
              "      <td>0.205122</td>\n",
              "      <td>204.061728</td>\n",
              "      <td>1.940766e+06</td>\n",
              "      <td>48.225771</td>\n",
              "      <td>4687.262934</td>\n",
              "      <td>12.735165</td>\n",
              "      <td>38.769201</td>\n",
              "      <td>Label E</td>\n",
              "      <td>Label E</td>\n",
              "      <td>Label E</td>\n",
              "      <td>Label B</td>\n",
              "      <td>Label B</td>\n",
              "      <td>Label E</td>\n",
              "    </tr>\n",
              "    <tr>\n",
              "      <th>7</th>\n",
              "      <td>16979.902618</td>\n",
              "      <td>5208.999036</td>\n",
              "      <td>0.324529</td>\n",
              "      <td>66.819521</td>\n",
              "      <td>1.744908e+06</td>\n",
              "      <td>283.538585</td>\n",
              "      <td>1992.712682</td>\n",
              "      <td>82.227060</td>\n",
              "      <td>19.793250</td>\n",
              "      <td>Label E</td>\n",
              "      <td>Label E</td>\n",
              "      <td>Label E</td>\n",
              "      <td>Label B</td>\n",
              "      <td>Label B</td>\n",
              "      <td>Label E</td>\n",
              "    </tr>\n",
              "    <tr>\n",
              "      <th>8</th>\n",
              "      <td>11709.911025</td>\n",
              "      <td>5981.594673</td>\n",
              "      <td>0.279873</td>\n",
              "      <td>141.652071</td>\n",
              "      <td>1.876779e+06</td>\n",
              "      <td>143.507523</td>\n",
              "      <td>5550.710876</td>\n",
              "      <td>56.701434</td>\n",
              "      <td>28.673745</td>\n",
              "      <td>Label E</td>\n",
              "      <td>Label E</td>\n",
              "      <td>Label E</td>\n",
              "      <td>Label B</td>\n",
              "      <td>Label B</td>\n",
              "      <td>Label E</td>\n",
              "    </tr>\n",
              "    <tr>\n",
              "      <th>9</th>\n",
              "      <td>13919.459798</td>\n",
              "      <td>3204.790868</td>\n",
              "      <td>0.310442</td>\n",
              "      <td>30.742658</td>\n",
              "      <td>9.133704e+05</td>\n",
              "      <td>142.801620</td>\n",
              "      <td>5390.525077</td>\n",
              "      <td>133.583883</td>\n",
              "      <td>26.576827</td>\n",
              "      <td>Label E</td>\n",
              "      <td>Label E</td>\n",
              "      <td>Label E</td>\n",
              "      <td>Label B</td>\n",
              "      <td>Label B</td>\n",
              "      <td>Label E</td>\n",
              "    </tr>\n",
              "    <tr>\n",
              "      <th>10</th>\n",
              "      <td>11533.652280</td>\n",
              "      <td>3069.015838</td>\n",
              "      <td>0.283345</td>\n",
              "      <td>235.295062</td>\n",
              "      <td>2.650545e+06</td>\n",
              "      <td>197.195452</td>\n",
              "      <td>6533.098175</td>\n",
              "      <td>130.758757</td>\n",
              "      <td>23.753796</td>\n",
              "      <td>Label E</td>\n",
              "      <td>Label E</td>\n",
              "      <td>Label E</td>\n",
              "      <td>Label B</td>\n",
              "      <td>Label B</td>\n",
              "      <td>Label E</td>\n",
              "    </tr>\n",
              "    <tr>\n",
              "      <th>11</th>\n",
              "      <td>12708.638134</td>\n",
              "      <td>3895.190752</td>\n",
              "      <td>0.314197</td>\n",
              "      <td>98.412346</td>\n",
              "      <td>6.030341e+05</td>\n",
              "      <td>244.010961</td>\n",
              "      <td>5847.917225</td>\n",
              "      <td>71.216155</td>\n",
              "      <td>39.481681</td>\n",
              "      <td>Label E</td>\n",
              "      <td>Label E</td>\n",
              "      <td>Label E</td>\n",
              "      <td>Label B</td>\n",
              "      <td>Label B</td>\n",
              "      <td>Label E</td>\n",
              "    </tr>\n",
              "    <tr>\n",
              "      <th>12</th>\n",
              "      <td>19524.508698</td>\n",
              "      <td>2849.079286</td>\n",
              "      <td>0.286733</td>\n",
              "      <td>219.108416</td>\n",
              "      <td>2.128675e+06</td>\n",
              "      <td>276.304669</td>\n",
              "      <td>1631.635231</td>\n",
              "      <td>150.978088</td>\n",
              "      <td>26.327479</td>\n",
              "      <td>Label E</td>\n",
              "      <td>Label E</td>\n",
              "      <td>Label E</td>\n",
              "      <td>Label B</td>\n",
              "      <td>Label B</td>\n",
              "      <td>Label E</td>\n",
              "    </tr>\n",
              "    <tr>\n",
              "      <th>13</th>\n",
              "      <td>19178.641149</td>\n",
              "      <td>2649.195356</td>\n",
              "      <td>0.238383</td>\n",
              "      <td>44.745506</td>\n",
              "      <td>6.296630e+05</td>\n",
              "      <td>140.361967</td>\n",
              "      <td>5235.520544</td>\n",
              "      <td>78.972397</td>\n",
              "      <td>40.993140</td>\n",
              "      <td>Label E</td>\n",
              "      <td>Label E</td>\n",
              "      <td>Label E</td>\n",
              "      <td>Label B</td>\n",
              "      <td>Label B</td>\n",
              "      <td>Label E</td>\n",
              "    </tr>\n",
              "    <tr>\n",
              "      <th>14</th>\n",
              "      <td>10120.430816</td>\n",
              "      <td>4400.598533</td>\n",
              "      <td>0.334789</td>\n",
              "      <td>138.861717</td>\n",
              "      <td>2.588230e+06</td>\n",
              "      <td>309.624560</td>\n",
              "      <td>2984.595994</td>\n",
              "      <td>165.083132</td>\n",
              "      <td>24.654889</td>\n",
              "      <td>Label E</td>\n",
              "      <td>Label E</td>\n",
              "      <td>Label E</td>\n",
              "      <td>Label B</td>\n",
              "      <td>Label B</td>\n",
              "      <td>Label E</td>\n",
              "    </tr>\n",
              "  </tbody>\n",
              "</table>\n",
              "</div>"
            ],
            "text/plain": [
              "              J1           J2        J3  ...       E4       E9  new-output\n",
              "0    6910.020217  4066.142843  0.150514  ...  Label B  Label B     Label E\n",
              "1   11238.845463   771.573275  0.209651  ...  Label B  Label B     Label E\n",
              "2   17433.591950  5749.738218  0.431073  ...  Label B  Label B     Label E\n",
              "3   16849.391488  2798.793040  0.392205  ...  Label B  Label B     Label E\n",
              "4   18808.132828  4380.388878  0.168008  ...  Label B  Label B     Label E\n",
              "5    4621.518990  4512.015379  0.183853  ...  Label B  Label B     Label E\n",
              "6   13628.970957  4401.913406  0.205122  ...  Label B  Label B     Label E\n",
              "7   16979.902618  5208.999036  0.324529  ...  Label B  Label B     Label E\n",
              "8   11709.911025  5981.594673  0.279873  ...  Label B  Label B     Label E\n",
              "9   13919.459798  3204.790868  0.310442  ...  Label B  Label B     Label E\n",
              "10  11533.652280  3069.015838  0.283345  ...  Label B  Label B     Label E\n",
              "11  12708.638134  3895.190752  0.314197  ...  Label B  Label B     Label E\n",
              "12  19524.508698  2849.079286  0.286733  ...  Label B  Label B     Label E\n",
              "13  19178.641149  2649.195356  0.238383  ...  Label B  Label B     Label E\n",
              "14  10120.430816  4400.598533  0.334789  ...  Label B  Label B     Label E\n",
              "\n",
              "[15 rows x 15 columns]"
            ]
          },
          "metadata": {},
          "execution_count": 107
        }
      ]
    },
    {
      "cell_type": "markdown",
      "source": [
        "                                                  Train data     Validation data\n",
        " - Experiment 1 (Regression in Stochastic mode) -      5.154,            5.38\n",
        " - Experiment 2 (Regression in Batch mode) -           5.98,             5.71\n",
        " - Experiment 3 (Regression in Mini-batch mode) -      7.93,             7.59\n",
        " - Experiment 6 (Logistic Regression)-                 0.58,        macro 0.57  \n",
        " - Experiment 8 (SVM)  -                               0.70,        macro 0.68\n",
        " - Experiment 10 (K-Means) -                            0.549 (sillhoute score)"
      ],
      "metadata": {
        "id": "TZMqlsty8VDr"
      }
    },
    {
      "cell_type": "markdown",
      "source": [
        "### SVM has a better accuracy score as compared to Logistic Regression\n",
        "### The highest value of performance is shown by Regression in Mini-batch mode followed by SVM then logistic Regression. Best model is stochastic mode because less the performance higher the accuracy."
      ],
      "metadata": {
        "id": "TGe7WK_l8qJn"
      }
    },
    {
      "cell_type": "markdown",
      "metadata": {
        "id": "xgjVNbf_dD52"
      },
      "source": [
        "In E5 is the best model with an accuracy score of 1 others accuracy can be inferered easily from above table."
      ]
    }
  ]
}