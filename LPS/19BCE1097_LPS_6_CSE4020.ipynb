{
  "nbformat": 4,
  "nbformat_minor": 0,
  "metadata": {
    "colab": {
      "name": "19BCE1097 - LPS 6 - CSE4020.ipynb",
      "provenance": [],
      "collapsed_sections": [
        "-eoWtO5Pd7yW",
        "0ULWtcsNMOtO",
        "g_K-OhwBRd9k",
        "3KncCIB4RvxG",
        "8iCnM2lRWoag",
        "MGvdXYbZreFs"
      ]
    },
    "kernelspec": {
      "name": "python3",
      "display_name": "Python 3"
    },
    "language_info": {
      "name": "python"
    }
  },
  "cells": [
    {
      "cell_type": "code",
      "metadata": {
        "id": "l0JvZqGsJL-k"
      },
      "source": [
        "#import all the required libraries.\n",
        "import warnings\n",
        "warnings.filterwarnings(\"ignore\")\n",
        "import numpy as np\n",
        "import pandas as pd\n",
        "import matplotlib.pyplot as plt\n",
        "import seaborn as sns\n",
        "import random\n",
        "from sklearn.model_selection import train_test_split"
      ],
      "execution_count": null,
      "outputs": []
    },
    {
      "cell_type": "code",
      "metadata": {
        "colab": {
          "base_uri": "https://localhost:8080/"
        },
        "id": "2eCSMjVZyGaK",
        "outputId": "8aee84f5-8de8-4448-b2bc-2b9b6c658622"
      },
      "source": [
        "from google.colab import drive\n",
        "drive.mount('/content/drive')"
      ],
      "execution_count": null,
      "outputs": [
        {
          "output_type": "stream",
          "name": "stdout",
          "text": [
            "Mounted at /content/drive\n"
          ]
        }
      ]
    },
    {
      "cell_type": "markdown",
      "metadata": {
        "id": "-eoWtO5Pd7yW"
      },
      "source": [
        "#1. Consider the data set X = {xt, rt}Nt=1, where rt ∈ {1, 0}, xt ∈ R. Using any machine learning model, given an x /∈ {x1, x2, ..., xN },Compute the P(1|x), with two different hypothesis, without using any library function. Compare the performance measure of the two different hypotheses and conclude which hypothesis (of the two chosen by you) learns better. Your code should not compute any probability related estimates."
      ]
    },
    {
      "cell_type": "markdown",
      "metadata": {
        "id": "MoZYzrnx7rW6"
      },
      "source": [
        "######Input"
      ]
    },
    {
      "cell_type": "code",
      "metadata": {
        "colab": {
          "base_uri": "https://localhost:8080/",
          "height": 206
        },
        "id": "mWgVY51HTM-l",
        "outputId": "9d25e448-c0d9-468f-d91a-0665c5fa0a2f"
      },
      "source": [
        "from sklearn.datasets import make_classification\n",
        "d3 = make_classification(n_samples=500, n_features=2, \n",
        "n_informative=2, n_redundant=0, n_repeated=0, \n",
        " n_classes=2, n_clusters_per_class=1, \n",
        "weights=None, flip_y=0.01, class_sep=1.0, \n",
        " hypercube=True, shift=0.0, scale=1.0, \n",
        "shuffle=True, random_state=None)\n",
        "df = pd.DataFrame(d3[0],columns=['x'+str(i) for i in range(1,3)])\n",
        "df['y'] = d3[1]\n",
        "df.head()"
      ],
      "execution_count": null,
      "outputs": [
        {
          "output_type": "execute_result",
          "data": {
            "text/html": [
              "<div>\n",
              "<style scoped>\n",
              "    .dataframe tbody tr th:only-of-type {\n",
              "        vertical-align: middle;\n",
              "    }\n",
              "\n",
              "    .dataframe tbody tr th {\n",
              "        vertical-align: top;\n",
              "    }\n",
              "\n",
              "    .dataframe thead th {\n",
              "        text-align: right;\n",
              "    }\n",
              "</style>\n",
              "<table border=\"1\" class=\"dataframe\">\n",
              "  <thead>\n",
              "    <tr style=\"text-align: right;\">\n",
              "      <th></th>\n",
              "      <th>x1</th>\n",
              "      <th>x2</th>\n",
              "      <th>y</th>\n",
              "    </tr>\n",
              "  </thead>\n",
              "  <tbody>\n",
              "    <tr>\n",
              "      <th>0</th>\n",
              "      <td>-1.111327</td>\n",
              "      <td>0.942574</td>\n",
              "      <td>0</td>\n",
              "    </tr>\n",
              "    <tr>\n",
              "      <th>1</th>\n",
              "      <td>-0.974204</td>\n",
              "      <td>1.133900</td>\n",
              "      <td>0</td>\n",
              "    </tr>\n",
              "    <tr>\n",
              "      <th>2</th>\n",
              "      <td>-0.492663</td>\n",
              "      <td>1.784569</td>\n",
              "      <td>0</td>\n",
              "    </tr>\n",
              "    <tr>\n",
              "      <th>3</th>\n",
              "      <td>1.079435</td>\n",
              "      <td>1.233816</td>\n",
              "      <td>1</td>\n",
              "    </tr>\n",
              "    <tr>\n",
              "      <th>4</th>\n",
              "      <td>0.935913</td>\n",
              "      <td>1.080430</td>\n",
              "      <td>1</td>\n",
              "    </tr>\n",
              "  </tbody>\n",
              "</table>\n",
              "</div>"
            ],
            "text/plain": [
              "         x1        x2  y\n",
              "0 -1.111327  0.942574  0\n",
              "1 -0.974204  1.133900  0\n",
              "2 -0.492663  1.784569  0\n",
              "3  1.079435  1.233816  1\n",
              "4  0.935913  1.080430  1"
            ]
          },
          "metadata": {},
          "execution_count": 2
        }
      ]
    },
    {
      "cell_type": "code",
      "metadata": {
        "colab": {
          "base_uri": "https://localhost:8080/"
        },
        "id": "JZ19a7R7UhJj",
        "outputId": "c5ecaaed-404b-4a7c-d17d-e91a5c1e8d0c"
      },
      "source": [
        "df.count()"
      ],
      "execution_count": null,
      "outputs": [
        {
          "output_type": "execute_result",
          "data": {
            "text/plain": [
              "x1    500\n",
              "x2    500\n",
              "y     500\n",
              "dtype: int64"
            ]
          },
          "metadata": {},
          "execution_count": 3
        }
      ]
    },
    {
      "cell_type": "code",
      "metadata": {
        "colab": {
          "base_uri": "https://localhost:8080/",
          "height": 300
        },
        "id": "h-a6uHpgUis6",
        "outputId": "062c261a-365f-4eab-d85f-32ce4aae12a7"
      },
      "source": [
        "df.describe()"
      ],
      "execution_count": null,
      "outputs": [
        {
          "output_type": "execute_result",
          "data": {
            "text/html": [
              "<div>\n",
              "<style scoped>\n",
              "    .dataframe tbody tr th:only-of-type {\n",
              "        vertical-align: middle;\n",
              "    }\n",
              "\n",
              "    .dataframe tbody tr th {\n",
              "        vertical-align: top;\n",
              "    }\n",
              "\n",
              "    .dataframe thead th {\n",
              "        text-align: right;\n",
              "    }\n",
              "</style>\n",
              "<table border=\"1\" class=\"dataframe\">\n",
              "  <thead>\n",
              "    <tr style=\"text-align: right;\">\n",
              "      <th></th>\n",
              "      <th>x1</th>\n",
              "      <th>x2</th>\n",
              "      <th>y</th>\n",
              "    </tr>\n",
              "  </thead>\n",
              "  <tbody>\n",
              "    <tr>\n",
              "      <th>count</th>\n",
              "      <td>500.000000</td>\n",
              "      <td>500.000000</td>\n",
              "      <td>500.000000</td>\n",
              "    </tr>\n",
              "    <tr>\n",
              "      <th>mean</th>\n",
              "      <td>0.009702</td>\n",
              "      <td>1.033434</td>\n",
              "      <td>0.504000</td>\n",
              "    </tr>\n",
              "    <tr>\n",
              "      <th>std</th>\n",
              "      <td>1.016420</td>\n",
              "      <td>0.644927</td>\n",
              "      <td>0.500485</td>\n",
              "    </tr>\n",
              "    <tr>\n",
              "      <th>min</th>\n",
              "      <td>-1.879746</td>\n",
              "      <td>-0.892179</td>\n",
              "      <td>0.000000</td>\n",
              "    </tr>\n",
              "    <tr>\n",
              "      <th>25%</th>\n",
              "      <td>-0.990380</td>\n",
              "      <td>0.623439</td>\n",
              "      <td>0.000000</td>\n",
              "    </tr>\n",
              "    <tr>\n",
              "      <th>50%</th>\n",
              "      <td>0.196175</td>\n",
              "      <td>1.034690</td>\n",
              "      <td>1.000000</td>\n",
              "    </tr>\n",
              "    <tr>\n",
              "      <th>75%</th>\n",
              "      <td>0.990445</td>\n",
              "      <td>1.441148</td>\n",
              "      <td>1.000000</td>\n",
              "    </tr>\n",
              "    <tr>\n",
              "      <th>max</th>\n",
              "      <td>1.365694</td>\n",
              "      <td>3.413373</td>\n",
              "      <td>1.000000</td>\n",
              "    </tr>\n",
              "  </tbody>\n",
              "</table>\n",
              "</div>"
            ],
            "text/plain": [
              "               x1          x2           y\n",
              "count  500.000000  500.000000  500.000000\n",
              "mean     0.009702    1.033434    0.504000\n",
              "std      1.016420    0.644927    0.500485\n",
              "min     -1.879746   -0.892179    0.000000\n",
              "25%     -0.990380    0.623439    0.000000\n",
              "50%      0.196175    1.034690    1.000000\n",
              "75%      0.990445    1.441148    1.000000\n",
              "max      1.365694    3.413373    1.000000"
            ]
          },
          "metadata": {},
          "execution_count": 4
        }
      ]
    },
    {
      "cell_type": "code",
      "metadata": {
        "colab": {
          "base_uri": "https://localhost:8080/"
        },
        "id": "7pzllm7DUstQ",
        "outputId": "ca24b846-9739-4239-dad9-b76ac5e57ade"
      },
      "source": [
        "df.isnull().sum()"
      ],
      "execution_count": null,
      "outputs": [
        {
          "output_type": "execute_result",
          "data": {
            "text/plain": [
              "x1    0\n",
              "x2    0\n",
              "y     0\n",
              "dtype: int64"
            ]
          },
          "metadata": {},
          "execution_count": 5
        }
      ]
    },
    {
      "cell_type": "code",
      "metadata": {
        "colab": {
          "base_uri": "https://localhost:8080/"
        },
        "id": "AgCDMQqJUvgG",
        "outputId": "1237a09c-eaa7-4311-c9ee-19d85ad56e03"
      },
      "source": [
        "df.info()"
      ],
      "execution_count": null,
      "outputs": [
        {
          "output_type": "stream",
          "name": "stdout",
          "text": [
            "<class 'pandas.core.frame.DataFrame'>\n",
            "RangeIndex: 500 entries, 0 to 499\n",
            "Data columns (total 3 columns):\n",
            " #   Column  Non-Null Count  Dtype  \n",
            "---  ------  --------------  -----  \n",
            " 0   x1      500 non-null    float64\n",
            " 1   x2      500 non-null    float64\n",
            " 2   y       500 non-null    int64  \n",
            "dtypes: float64(2), int64(1)\n",
            "memory usage: 11.8 KB\n"
          ]
        }
      ]
    },
    {
      "cell_type": "code",
      "metadata": {
        "colab": {
          "base_uri": "https://localhost:8080/",
          "height": 423
        },
        "id": "wTrl8qScU2Mw",
        "outputId": "6d0e2a7e-386e-4bd2-cbbc-05faeb60c468"
      },
      "source": [
        "df.insert(2,\"x1_x2\",df['x1']*df['x2'])\n",
        "df.insert(3,\"x1^2\",df['x1']**2)\n",
        "df.insert(4,\"x2^2\",df['x2']**2)\n",
        "df.insert(5,\"x1^2_x2\",df['x1^2']*df['x2'])\n",
        "df.insert(6,\"x2^2_x1\",df['x2^2']*df['x1'])\n",
        "df.insert(7,\"x1^3\",df['x1']**3)\n",
        "df.insert(8,\"x2^3\",df['x2']**3)\n",
        "df"
      ],
      "execution_count": null,
      "outputs": [
        {
          "output_type": "execute_result",
          "data": {
            "text/html": [
              "<div>\n",
              "<style scoped>\n",
              "    .dataframe tbody tr th:only-of-type {\n",
              "        vertical-align: middle;\n",
              "    }\n",
              "\n",
              "    .dataframe tbody tr th {\n",
              "        vertical-align: top;\n",
              "    }\n",
              "\n",
              "    .dataframe thead th {\n",
              "        text-align: right;\n",
              "    }\n",
              "</style>\n",
              "<table border=\"1\" class=\"dataframe\">\n",
              "  <thead>\n",
              "    <tr style=\"text-align: right;\">\n",
              "      <th></th>\n",
              "      <th>x1</th>\n",
              "      <th>x2</th>\n",
              "      <th>x1_x2</th>\n",
              "      <th>x1^2</th>\n",
              "      <th>x2^2</th>\n",
              "      <th>x1^2_x2</th>\n",
              "      <th>x2^2_x1</th>\n",
              "      <th>x1^3</th>\n",
              "      <th>x2^3</th>\n",
              "      <th>y</th>\n",
              "    </tr>\n",
              "  </thead>\n",
              "  <tbody>\n",
              "    <tr>\n",
              "      <th>0</th>\n",
              "      <td>-1.111327</td>\n",
              "      <td>0.942574</td>\n",
              "      <td>-1.047508</td>\n",
              "      <td>1.235047</td>\n",
              "      <td>0.888446</td>\n",
              "      <td>1.164124</td>\n",
              "      <td>-0.987354</td>\n",
              "      <td>-1.372541</td>\n",
              "      <td>0.837427</td>\n",
              "      <td>0</td>\n",
              "    </tr>\n",
              "    <tr>\n",
              "      <th>1</th>\n",
              "      <td>-0.974204</td>\n",
              "      <td>1.133900</td>\n",
              "      <td>-1.104650</td>\n",
              "      <td>0.949074</td>\n",
              "      <td>1.285729</td>\n",
              "      <td>1.076155</td>\n",
              "      <td>-1.252563</td>\n",
              "      <td>-0.924592</td>\n",
              "      <td>1.457888</td>\n",
              "      <td>0</td>\n",
              "    </tr>\n",
              "    <tr>\n",
              "      <th>2</th>\n",
              "      <td>-0.492663</td>\n",
              "      <td>1.784569</td>\n",
              "      <td>-0.879191</td>\n",
              "      <td>0.242717</td>\n",
              "      <td>3.184685</td>\n",
              "      <td>0.433145</td>\n",
              "      <td>-1.568977</td>\n",
              "      <td>-0.119578</td>\n",
              "      <td>5.683289</td>\n",
              "      <td>0</td>\n",
              "    </tr>\n",
              "    <tr>\n",
              "      <th>3</th>\n",
              "      <td>1.079435</td>\n",
              "      <td>1.233816</td>\n",
              "      <td>1.331824</td>\n",
              "      <td>1.165179</td>\n",
              "      <td>1.522302</td>\n",
              "      <td>1.437617</td>\n",
              "      <td>1.643226</td>\n",
              "      <td>1.257735</td>\n",
              "      <td>1.878241</td>\n",
              "      <td>1</td>\n",
              "    </tr>\n",
              "    <tr>\n",
              "      <th>4</th>\n",
              "      <td>0.935913</td>\n",
              "      <td>1.080430</td>\n",
              "      <td>1.011189</td>\n",
              "      <td>0.875933</td>\n",
              "      <td>1.167329</td>\n",
              "      <td>0.946385</td>\n",
              "      <td>1.092518</td>\n",
              "      <td>0.819798</td>\n",
              "      <td>1.261217</td>\n",
              "      <td>1</td>\n",
              "    </tr>\n",
              "    <tr>\n",
              "      <th>...</th>\n",
              "      <td>...</td>\n",
              "      <td>...</td>\n",
              "      <td>...</td>\n",
              "      <td>...</td>\n",
              "      <td>...</td>\n",
              "      <td>...</td>\n",
              "      <td>...</td>\n",
              "      <td>...</td>\n",
              "      <td>...</td>\n",
              "      <td>...</td>\n",
              "    </tr>\n",
              "    <tr>\n",
              "      <th>495</th>\n",
              "      <td>-1.140892</td>\n",
              "      <td>0.530070</td>\n",
              "      <td>-0.604752</td>\n",
              "      <td>1.301635</td>\n",
              "      <td>0.280974</td>\n",
              "      <td>0.689957</td>\n",
              "      <td>-0.320561</td>\n",
              "      <td>-1.485025</td>\n",
              "      <td>0.148936</td>\n",
              "      <td>0</td>\n",
              "    </tr>\n",
              "    <tr>\n",
              "      <th>496</th>\n",
              "      <td>1.041962</td>\n",
              "      <td>1.069681</td>\n",
              "      <td>1.114567</td>\n",
              "      <td>1.085684</td>\n",
              "      <td>1.144218</td>\n",
              "      <td>1.161336</td>\n",
              "      <td>1.192231</td>\n",
              "      <td>1.131241</td>\n",
              "      <td>1.223948</td>\n",
              "      <td>1</td>\n",
              "    </tr>\n",
              "    <tr>\n",
              "      <th>497</th>\n",
              "      <td>-0.832640</td>\n",
              "      <td>1.331051</td>\n",
              "      <td>-1.108286</td>\n",
              "      <td>0.693290</td>\n",
              "      <td>1.771696</td>\n",
              "      <td>0.922804</td>\n",
              "      <td>-1.475185</td>\n",
              "      <td>-0.577261</td>\n",
              "      <td>2.358218</td>\n",
              "      <td>0</td>\n",
              "    </tr>\n",
              "    <tr>\n",
              "      <th>498</th>\n",
              "      <td>0.867435</td>\n",
              "      <td>0.329452</td>\n",
              "      <td>0.285778</td>\n",
              "      <td>0.752444</td>\n",
              "      <td>0.108539</td>\n",
              "      <td>0.247894</td>\n",
              "      <td>0.094150</td>\n",
              "      <td>0.652696</td>\n",
              "      <td>0.035758</td>\n",
              "      <td>1</td>\n",
              "    </tr>\n",
              "    <tr>\n",
              "      <th>499</th>\n",
              "      <td>-1.048969</td>\n",
              "      <td>1.107521</td>\n",
              "      <td>-1.161755</td>\n",
              "      <td>1.100336</td>\n",
              "      <td>1.226602</td>\n",
              "      <td>1.218645</td>\n",
              "      <td>-1.286667</td>\n",
              "      <td>-1.154218</td>\n",
              "      <td>1.358487</td>\n",
              "      <td>0</td>\n",
              "    </tr>\n",
              "  </tbody>\n",
              "</table>\n",
              "<p>500 rows × 10 columns</p>\n",
              "</div>"
            ],
            "text/plain": [
              "           x1        x2     x1_x2      x1^2  ...   x2^2_x1      x1^3      x2^3  y\n",
              "0   -1.111327  0.942574 -1.047508  1.235047  ... -0.987354 -1.372541  0.837427  0\n",
              "1   -0.974204  1.133900 -1.104650  0.949074  ... -1.252563 -0.924592  1.457888  0\n",
              "2   -0.492663  1.784569 -0.879191  0.242717  ... -1.568977 -0.119578  5.683289  0\n",
              "3    1.079435  1.233816  1.331824  1.165179  ...  1.643226  1.257735  1.878241  1\n",
              "4    0.935913  1.080430  1.011189  0.875933  ...  1.092518  0.819798  1.261217  1\n",
              "..        ...       ...       ...       ...  ...       ...       ...       ... ..\n",
              "495 -1.140892  0.530070 -0.604752  1.301635  ... -0.320561 -1.485025  0.148936  0\n",
              "496  1.041962  1.069681  1.114567  1.085684  ...  1.192231  1.131241  1.223948  1\n",
              "497 -0.832640  1.331051 -1.108286  0.693290  ... -1.475185 -0.577261  2.358218  0\n",
              "498  0.867435  0.329452  0.285778  0.752444  ...  0.094150  0.652696  0.035758  1\n",
              "499 -1.048969  1.107521 -1.161755  1.100336  ... -1.286667 -1.154218  1.358487  0\n",
              "\n",
              "[500 rows x 10 columns]"
            ]
          },
          "metadata": {},
          "execution_count": 7
        }
      ]
    },
    {
      "cell_type": "code",
      "metadata": {
        "colab": {
          "base_uri": "https://localhost:8080/",
          "height": 386
        },
        "id": "VFxrHsJ21tAt",
        "outputId": "5b663198-0d16-4b08-e591-508eabe985cb"
      },
      "source": [
        "plt.style.use('ggplot')\n",
        "sns.catplot(x = 'y', kind = 'count', data = df)"
      ],
      "execution_count": null,
      "outputs": [
        {
          "output_type": "execute_result",
          "data": {
            "text/plain": [
              "<seaborn.axisgrid.FacetGrid at 0x7f8480497790>"
            ]
          },
          "metadata": {},
          "execution_count": 8
        },
        {
          "output_type": "display_data",
          "data": {
            "image/png": "[encoded data removed]",
            "text/plain": [
              "<Figure size 360x360 with 1 Axes>"
            ]
          },
          "metadata": {}
        }
      ]
    },
    {
      "cell_type": "code",
      "metadata": {
        "colab": {
          "base_uri": "https://localhost:8080/"
        },
        "id": "RFOC_MbS22Nk",
        "outputId": "db0507cb-f7ef-4061-d7a4-fbdb8e1e0da6"
      },
      "source": [
        "df['y'].value_counts()"
      ],
      "execution_count": null,
      "outputs": [
        {
          "output_type": "execute_result",
          "data": {
            "text/plain": [
              "1    252\n",
              "0    248\n",
              "Name: y, dtype: int64"
            ]
          },
          "metadata": {},
          "execution_count": 9
        }
      ]
    },
    {
      "cell_type": "code",
      "metadata": {
        "colab": {
          "base_uri": "https://localhost:8080/",
          "height": 500
        },
        "id": "aWKpKAvCo3Yo",
        "outputId": "bce56a3b-d9a1-4c15-afc5-311a1dca2b0d"
      },
      "source": [
        "plt.figure(figsize=(8,8))\n",
        "sns.distplot(df['y'], color='red')\n",
        "plt.show()"
      ],
      "execution_count": null,
      "outputs": [
        {
          "output_type": "display_data",
          "data": {
            "image/png": "[encoded data removed]",
            "text/plain": [
              "<Figure size 576x576 with 1 Axes>"
            ]
          },
          "metadata": {}
        }
      ]
    },
    {
      "cell_type": "markdown",
      "metadata": {
        "id": "U5AJUivPo3Yo"
      },
      "source": [
        "As the target column 'y' contains only 0 and 1 as its value, the normal distribution plot shows two bell shaped graph over 0 and 1."
      ]
    },
    {
      "cell_type": "code",
      "metadata": {
        "colab": {
          "base_uri": "https://localhost:8080/",
          "height": 299
        },
        "id": "l05NJVcwo3Yq",
        "outputId": "26b499e2-7956-4f5a-d518-f7a1ed83f939"
      },
      "source": [
        "sns.boxplot(x=df['y'],orient='h',color='palegreen')"
      ],
      "execution_count": null,
      "outputs": [
        {
          "output_type": "execute_result",
          "data": {
            "text/plain": [
              "<matplotlib.axes._subplots.AxesSubplot at 0x7f8474c07bd0>"
            ]
          },
          "metadata": {},
          "execution_count": 11
        },
        {
          "output_type": "display_data",
          "data": {
            "image/png": "[encoded data removed]",
            "text/plain": [
              "<Figure size 432x288 with 1 Axes>"
            ]
          },
          "metadata": {}
        }
      ]
    },
    {
      "cell_type": "code",
      "metadata": {
        "colab": {
          "base_uri": "https://localhost:8080/"
        },
        "id": "tfikaYlBo3Yq",
        "outputId": "86a64986-f483-42f1-c798-f886301529e4"
      },
      "source": [
        "Q1 = df['y'].quantile(0.25)\n",
        "Q3 = df['y'].quantile(0.75)\n",
        "iqr = Q3 - Q1\n",
        "print(iqr)"
      ],
      "execution_count": null,
      "outputs": [
        {
          "output_type": "stream",
          "name": "stdout",
          "text": [
            "1.0\n"
          ]
        }
      ]
    },
    {
      "cell_type": "code",
      "metadata": {
        "colab": {
          "base_uri": "https://localhost:8080/"
        },
        "id": "Lfq90fe_o3Yq",
        "outputId": "597479e5-7f36-464b-9068-61fa8064b086"
      },
      "source": [
        "upper_limit = Q3 + 1.5 * iqr\n",
        "lower_limit = Q1 - 1.5 * iqr\n",
        "print(upper_limit,lower_limit)"
      ],
      "execution_count": null,
      "outputs": [
        {
          "output_type": "stream",
          "name": "stdout",
          "text": [
            "2.5 -1.5\n"
          ]
        }
      ]
    },
    {
      "cell_type": "code",
      "metadata": {
        "colab": {
          "base_uri": "https://localhost:8080/",
          "height": 50
        },
        "id": "cQoGh5Hwo3Yq",
        "outputId": "0f0ec780-64f7-4aca-a2f7-c1539e19f9f8"
      },
      "source": [
        "df[df['y'] > upper_limit]"
      ],
      "execution_count": null,
      "outputs": [
        {
          "output_type": "execute_result",
          "data": {
            "text/html": [
              "<div>\n",
              "<style scoped>\n",
              "    .dataframe tbody tr th:only-of-type {\n",
              "        vertical-align: middle;\n",
              "    }\n",
              "\n",
              "    .dataframe tbody tr th {\n",
              "        vertical-align: top;\n",
              "    }\n",
              "\n",
              "    .dataframe thead th {\n",
              "        text-align: right;\n",
              "    }\n",
              "</style>\n",
              "<table border=\"1\" class=\"dataframe\">\n",
              "  <thead>\n",
              "    <tr style=\"text-align: right;\">\n",
              "      <th></th>\n",
              "      <th>x1</th>\n",
              "      <th>x2</th>\n",
              "      <th>x1_x2</th>\n",
              "      <th>x1^2</th>\n",
              "      <th>x2^2</th>\n",
              "      <th>x1^2_x2</th>\n",
              "      <th>x2^2_x1</th>\n",
              "      <th>x1^3</th>\n",
              "      <th>x2^3</th>\n",
              "      <th>y</th>\n",
              "    </tr>\n",
              "  </thead>\n",
              "  <tbody>\n",
              "  </tbody>\n",
              "</table>\n",
              "</div>"
            ],
            "text/plain": [
              "Empty DataFrame\n",
              "Columns: [x1, x2, x1_x2, x1^2, x2^2, x1^2_x2, x2^2_x1, x1^3, x2^3, y]\n",
              "Index: []"
            ]
          },
          "metadata": {},
          "execution_count": 14
        }
      ]
    },
    {
      "cell_type": "code",
      "metadata": {
        "colab": {
          "base_uri": "https://localhost:8080/",
          "height": 50
        },
        "id": "gHXGXEQXo3Yq",
        "outputId": "0cd9d5f5-ec74-4b5e-8401-9e9ed7d45c7b"
      },
      "source": [
        "df[df['y']<lower_limit]"
      ],
      "execution_count": null,
      "outputs": [
        {
          "output_type": "execute_result",
          "data": {
            "text/html": [
              "<div>\n",
              "<style scoped>\n",
              "    .dataframe tbody tr th:only-of-type {\n",
              "        vertical-align: middle;\n",
              "    }\n",
              "\n",
              "    .dataframe tbody tr th {\n",
              "        vertical-align: top;\n",
              "    }\n",
              "\n",
              "    .dataframe thead th {\n",
              "        text-align: right;\n",
              "    }\n",
              "</style>\n",
              "<table border=\"1\" class=\"dataframe\">\n",
              "  <thead>\n",
              "    <tr style=\"text-align: right;\">\n",
              "      <th></th>\n",
              "      <th>x1</th>\n",
              "      <th>x2</th>\n",
              "      <th>x1_x2</th>\n",
              "      <th>x1^2</th>\n",
              "      <th>x2^2</th>\n",
              "      <th>x1^2_x2</th>\n",
              "      <th>x2^2_x1</th>\n",
              "      <th>x1^3</th>\n",
              "      <th>x2^3</th>\n",
              "      <th>y</th>\n",
              "    </tr>\n",
              "  </thead>\n",
              "  <tbody>\n",
              "  </tbody>\n",
              "</table>\n",
              "</div>"
            ],
            "text/plain": [
              "Empty DataFrame\n",
              "Columns: [x1, x2, x1_x2, x1^2, x2^2, x1^2_x2, x2^2_x1, x1^3, x2^3, y]\n",
              "Index: []"
            ]
          },
          "metadata": {},
          "execution_count": 15
        }
      ]
    },
    {
      "cell_type": "markdown",
      "metadata": {
        "id": "apWMhapWo3Yq"
      },
      "source": [
        "From the box plot and the results above we can see that there are no rows having target column ('y') values above the upper limit or below the lower limit, showing that there are no outliers present. But we can still do outlier capping which will have no effect on the data set."
      ]
    },
    {
      "cell_type": "code",
      "metadata": {
        "id": "IWZsb3lvo3Yq"
      },
      "source": [
        "newD=df.copy()\n",
        "newD['y']=np.where(\n",
        "    newD['y']>upper_limit,\n",
        "    upper_limit,\n",
        "    np.where(\n",
        "        newD['y']<lower_limit,\n",
        "        lower_limit,\n",
        "        newD['y']\n",
        "    )\n",
        ")"
      ],
      "execution_count": null,
      "outputs": []
    },
    {
      "cell_type": "code",
      "metadata": {
        "id": "hhs8wiSzd8ut"
      },
      "source": [
        "class LogitRegression() :\n",
        "\tdef __init__( self, learning_rate, iterations ) :\t\t\n",
        "\t\tself.learning_rate = learning_rate\t\t\n",
        "\t\tself.iterations = iterations\n",
        "\t\t\n",
        "\tdef fit( self, X, Y ) :\t\t\n",
        "\t\tself.m, self.n = X.shape\t\t\n",
        "\t\tself.W = np.zeros( self.n )\t\t\n",
        "\t\tself.b = 0\t\t\n",
        "\t\tself.X = X\t\t\n",
        "\t\tself.Y = Y\n",
        "\t\t\t\t\n",
        "\t\tfor i in range( self.iterations ) :\t\t\t\n",
        "\t\t\tself.update_weights()\t\t\t\n",
        "\t\treturn self\n",
        "\t\n",
        "\tdef update_weights( self ) :\t\t\n",
        "\t\tA = 1 / ( 1 + np.exp( - ( self.X.dot( self.W ) + self.b ) ) )\n",
        "\t\t\n",
        "\t\ttmp = ( A - self.Y.T )\t\t\n",
        "\t\ttmp = np.reshape( tmp, self.m )\t\t\n",
        "\t\tdW = np.dot( self.X.T, tmp ) / self.m\t\t\n",
        "\t\tdb = np.sum( tmp ) / self.m\n",
        "\t\t\n",
        "\t\tself.W = self.W - self.learning_rate * dW\t\n",
        "\t\tself.b = self.b - self.learning_rate * db\n",
        "\t\t\n",
        "\t\treturn self\n",
        "\n",
        "\tdef predict( self, X ) :\t\n",
        "\t\tZ = 1 / ( 1 + np.exp( - ( X.dot( self.W ) + self.b ) ) )\t\t\n",
        "\t\tY = np.where( Z > 0.5, 1, 0 )\t\t\n",
        "\t\treturn Y"
      ],
      "execution_count": null,
      "outputs": []
    },
    {
      "cell_type": "code",
      "metadata": {
        "colab": {
          "base_uri": "https://localhost:8080/",
          "height": 488
        },
        "id": "jo3rBqmz3AT1",
        "outputId": "451dde3c-9d60-4976-93bd-ff8e0ae9a425"
      },
      "source": [
        "plt.figure(figsize=(12,8))\n",
        "sns.heatmap(newD.corr(), annot = True)\n",
        "plt.show()"
      ],
      "execution_count": null,
      "outputs": [
        {
          "output_type": "display_data",
          "data": {
            "image/png": "[encoded data removed]",
            "text/plain": [
              "<Figure size 864x576 with 2 Axes>"
            ]
          },
          "metadata": {}
        }
      ]
    },
    {
      "cell_type": "markdown",
      "metadata": {
        "id": "PHO5QUV-5-ol"
      },
      "source": [
        "######H1"
      ]
    },
    {
      "cell_type": "code",
      "metadata": {
        "id": "2LOpjSub3LMb"
      },
      "source": [
        "X = newD.iloc[:,[0,1]].values\n",
        "Y = newD.iloc[:,-1:].values"
      ],
      "execution_count": null,
      "outputs": []
    },
    {
      "cell_type": "code",
      "metadata": {
        "id": "PjYNXgUv3sIr"
      },
      "source": [
        "X_train, X_test, Y_train, Y_test = train_test_split(X, Y, test_size = 1/3, random_state = 0 )"
      ],
      "execution_count": null,
      "outputs": []
    },
    {
      "cell_type": "code",
      "metadata": {
        "colab": {
          "base_uri": "https://localhost:8080/"
        },
        "id": "rvyfvZlv24lD",
        "outputId": "3a6562bc-808e-441a-81d7-ef1de64364af"
      },
      "source": [
        "model = LogitRegression( learning_rate = 0.01, iterations = 1000 )\n",
        "\t\n",
        "model.fit( X_train, Y_train )\t\n",
        "Y_pred = model.predict( X_test )\t\n",
        "correctly_classified = 0\t\n",
        "count = 0\t\n",
        "for count in range( np.size( Y_pred ) ) :\n",
        "\tif Y_test[count] == Y_pred[count] :\t\t\t\n",
        "\t\tcorrectly_classified = correctly_classified + 1\n",
        "\tcount = count + 1\n",
        "\t\t\n",
        "print( \"Accuracy on test set by our model\t : \", (correctly_classified / count ) )"
      ],
      "execution_count": null,
      "outputs": [
        {
          "output_type": "stream",
          "name": "stdout",
          "text": [
            "Accuracy on test set by our model\t :  0.9940119760479041\n"
          ]
        }
      ]
    },
    {
      "cell_type": "markdown",
      "metadata": {
        "id": "46CUtMxu6Pwk"
      },
      "source": [
        "######H2"
      ]
    },
    {
      "cell_type": "code",
      "metadata": {
        "id": "SFv1-mQE6O6-"
      },
      "source": [
        "X1 = newD.iloc[:,:-1].values\n",
        "Y1 = newD.iloc[:,-1:].values"
      ],
      "execution_count": null,
      "outputs": []
    },
    {
      "cell_type": "code",
      "metadata": {
        "id": "G75mwoeg6O7D"
      },
      "source": [
        "X_train, X_test, Y_train, Y_test = train_test_split(X1, Y1, test_size = 1/3, random_state = 0 )"
      ],
      "execution_count": null,
      "outputs": []
    },
    {
      "cell_type": "code",
      "metadata": {
        "colab": {
          "base_uri": "https://localhost:8080/"
        },
        "id": "fBO3MU7N6O7D",
        "outputId": "d043bf2f-df56-4b23-b123-e7391219f57f"
      },
      "source": [
        "model = LogitRegression( learning_rate = 0.01, iterations = 1000 )\n",
        "\t\n",
        "model.fit( X_train, Y_train )\t\n",
        "Y_pred = model.predict( X_test )\t\n",
        "correctly_classified = 0\t\n",
        "count = 0\t\n",
        "for count in range( np.size( Y_pred ) ) :\n",
        "\tif Y_test[count] == Y_pred[count] :\t\t\t\n",
        "\t\tcorrectly_classified = correctly_classified + 1\n",
        "\tcount = count + 1\n",
        "\t\t\n",
        "print( \"Accuracy on test set by our model\t : \", (correctly_classified / count ) )"
      ],
      "execution_count": null,
      "outputs": [
        {
          "output_type": "stream",
          "name": "stdout",
          "text": [
            "Accuracy on test set by our model\t :  0.9940119760479041\n"
          ]
        }
      ]
    },
    {
      "cell_type": "markdown",
      "metadata": {
        "id": "0ULWtcsNMOtO"
      },
      "source": [
        "# 2. Build a Logistic Regression Learning model based on the pseu-docode described in the ‘Introduction to Machine Learning- EthenAlpaydin’, given as follows.\n",
        "# Consider  a  2-class  dataset  and  train  the  model  (developed  by you) with the dataset chosen by you. Train the Sklearn logisticregression  model  with  the  same  dataset.  Compare  the  perfro-mance of your model and the sklearn model and conclude whichlearns better for the dataset chosen by you."
      ]
    },
    {
      "cell_type": "code",
      "metadata": {
        "id": "g7y8DN2rMRKN"
      },
      "source": [
        "import numpy as np\n",
        "import matplotlib.pyplot as plt\n",
        "%matplotlib inline\n",
        "\n",
        "np.random.seed(12)\n",
        "num_observations = 5000\n",
        "\n",
        "x1 = np.random.multivariate_normal([0, 0], [[1, .75],[.75, 1]], num_observations)\n",
        "x2 = np.random.multivariate_normal([1, 4], [[1, .75],[.75, 1]], num_observations)\n",
        "\n",
        "simulated_separableish_features = np.vstack((x1, x2)).astype(np.float32)\n",
        "simulated_labels = np.hstack((np.zeros(num_observations),\n",
        "                              np.ones(num_observations)))"
      ],
      "execution_count": null,
      "outputs": []
    },
    {
      "cell_type": "markdown",
      "metadata": {
        "id": "iwxXZz3KMU4F"
      },
      "source": [
        "### Gradient ascent model "
      ]
    },
    {
      "cell_type": "code",
      "metadata": {
        "id": "Pi9VpXAxMWZI"
      },
      "source": [
        "def sigmoid(scores):\n",
        "    return 1 / (1 + np.exp(-scores))\n",
        "def log_likelihood(features, target, weights):\n",
        "    scores = np.dot(features, weights)\n",
        "    ll = np.sum( target*scores - np.log(1 + np.exp(scores)) )\n",
        "    return ll\n",
        "def logistic_regression(features, target, num_steps, learning_rate, add_intercept = False):\n",
        "    if add_intercept:\n",
        "        intercept = np.ones((features.shape[0], 1))\n",
        "        features = np.hstack((intercept, features))\n",
        "        \n",
        "    weights = np.zeros(features.shape[1])\n",
        "    \n",
        "    for step in range(num_steps):\n",
        "        scores = np.dot(features, weights)\n",
        "        predictions = sigmoid(scores)\n",
        "\n",
        "        # Update weights with log likelihood gradient\n",
        "        output_error_signal = target - predictions\n",
        "        \n",
        "        gradient = np.dot(features.T, output_error_signal)\n",
        "        weights += learning_rate * gradient\n",
        "\n",
        "        # Print log-likelihood every so often\n",
        "        if step % 10000 == 0:\n",
        "            print(log_likelihood(features, target, weights))\n",
        "        \n",
        "    return weights"
      ],
      "execution_count": null,
      "outputs": []
    },
    {
      "cell_type": "code",
      "metadata": {
        "colab": {
          "base_uri": "https://localhost:8080/"
        },
        "id": "K0J-R6uEMZqU",
        "outputId": "56082088-7dfb-4ed9-e42b-301ab86cc0b7"
      },
      "source": [
        "weights = logistic_regression(simulated_separableish_features, simulated_labels,\n",
        "                     num_steps = 50000, learning_rate = 5e-5, add_intercept=True)"
      ],
      "execution_count": null,
      "outputs": [
        {
          "output_type": "stream",
          "name": "stdout",
          "text": [
            "-4346.264779152365\n",
            "-148.70672276805357\n",
            "-142.96493623107847\n",
            "-141.54530307157367\n",
            "-141.060319659308\n"
          ]
        }
      ]
    },
    {
      "cell_type": "markdown",
      "metadata": {
        "id": "g_K-OhwBRd9k"
      },
      "source": [
        "### Using Sklearn's logistic regression"
      ]
    },
    {
      "cell_type": "code",
      "metadata": {
        "colab": {
          "base_uri": "https://localhost:8080/"
        },
        "id": "z0zWFqyVMe-e",
        "outputId": "bd16dbac-9066-4598-aff9-301a52cc089b"
      },
      "source": [
        "from sklearn.linear_model import LogisticRegression\n",
        "\n",
        "clf = LogisticRegression(fit_intercept=True, C = 1e15)\n",
        "clf.fit(simulated_separableish_features, simulated_labels)"
      ],
      "execution_count": null,
      "outputs": [
        {
          "output_type": "execute_result",
          "data": {
            "text/plain": [
              "LogisticRegression(C=1000000000000000.0)"
            ]
          },
          "metadata": {},
          "execution_count": 28
        }
      ]
    },
    {
      "cell_type": "code",
      "metadata": {
        "colab": {
          "base_uri": "https://localhost:8080/"
        },
        "id": "4-9ebWJ5Mh40",
        "outputId": "e672f27e-2358-4a31-b792-59a7a67c97ae"
      },
      "source": [
        "print(clf.intercept_, clf.coef_)\n"
      ],
      "execution_count": null,
      "outputs": [
        {
          "output_type": "stream",
          "name": "stdout",
          "text": [
            "[-14.09231079] [[-5.05902155  8.28959202]]\n"
          ]
        }
      ]
    },
    {
      "cell_type": "code",
      "metadata": {
        "colab": {
          "base_uri": "https://localhost:8080/"
        },
        "id": "wZkDJiCgMkCM",
        "outputId": "7c8cc54b-ebca-463c-deba-a92dc44f611f"
      },
      "source": [
        "print(weights)"
      ],
      "execution_count": null,
      "outputs": [
        {
          "output_type": "stream",
          "name": "stdout",
          "text": [
            "[-13.58690551  -4.8809644    7.99812915]\n"
          ]
        }
      ]
    },
    {
      "cell_type": "markdown",
      "metadata": {
        "id": "_OfdIVAZMmiT"
      },
      "source": [
        "### Performance of the two models "
      ]
    },
    {
      "cell_type": "code",
      "metadata": {
        "id": "qapAQrMqMmIY"
      },
      "source": [
        "final_scores = np.dot(np.hstack((np.ones((simulated_separableish_features.shape[0], 1)),\n",
        "                                 simulated_separableish_features)), weights)\n",
        "preds = np.round(sigmoid(final_scores))\n"
      ],
      "execution_count": null,
      "outputs": []
    },
    {
      "cell_type": "code",
      "metadata": {
        "colab": {
          "base_uri": "https://localhost:8080/"
        },
        "id": "bwgOU4PjMxkc",
        "outputId": "ae4d4ecb-f7e2-4dbd-c354-716ad426cda2"
      },
      "source": [
        "print('Accuracy of the gradient ascent model is : {0}'.format((preds == simulated_labels).sum().astype(float) / len(preds)))\n"
      ],
      "execution_count": null,
      "outputs": [
        {
          "output_type": "stream",
          "name": "stdout",
          "text": [
            "Accuracy of the gradient ascent model is : 0.9948\n"
          ]
        }
      ]
    },
    {
      "cell_type": "code",
      "metadata": {
        "colab": {
          "base_uri": "https://localhost:8080/"
        },
        "id": "_ll7YS5_Mz0v",
        "outputId": "1fe30773-1a89-4f22-b34b-a64d67a5f4ea"
      },
      "source": [
        "print('Accuracy of sk-learn: {0}'.format(clf.score(simulated_separableish_features, simulated_labels)))\n"
      ],
      "execution_count": null,
      "outputs": [
        {
          "output_type": "stream",
          "name": "stdout",
          "text": [
            "Accuracy of sk-learn: 0.9948\n"
          ]
        }
      ]
    },
    {
      "cell_type": "markdown",
      "metadata": {
        "id": "3KncCIB4RvxG"
      },
      "source": [
        "#4. For a multivariate 2-class data set where all the input attributes are not numerical, implement the logistic regression model for learning the class of the input. Without using any library function, compute the performance measure of the learning model."
      ]
    },
    {
      "cell_type": "code",
      "metadata": {
        "id": "iTKsLAoMRw_S"
      },
      "source": [
        "import pandas as pd\n",
        "import numpy as np\n",
        "import matplotlib.pyplot as plt\n",
        "import seaborn as sns\n",
        "from matplotlib.pyplot import figure"
      ],
      "execution_count": null,
      "outputs": []
    },
    {
      "cell_type": "code",
      "metadata": {
        "colab": {
          "base_uri": "https://localhost:8080/",
          "height": 458
        },
        "id": "O-fmGtf6R0bR",
        "outputId": "2066c265-b2b0-4992-b0f4-ed3316852f34"
      },
      "source": [
        "churn_df = pd.read_csv(\"/content/drive/MyDrive/Datasets/Churn.csv\")\n",
        "churn_df"
      ],
      "execution_count": null,
      "outputs": [
        {
          "output_type": "execute_result",
          "data": {
            "text/html": [
              "<div>\n",
              "<style scoped>\n",
              "    .dataframe tbody tr th:only-of-type {\n",
              "        vertical-align: middle;\n",
              "    }\n",
              "\n",
              "    .dataframe tbody tr th {\n",
              "        vertical-align: top;\n",
              "    }\n",
              "\n",
              "    .dataframe thead th {\n",
              "        text-align: right;\n",
              "    }\n",
              "</style>\n",
              "<table border=\"1\" class=\"dataframe\">\n",
              "  <thead>\n",
              "    <tr style=\"text-align: right;\">\n",
              "      <th></th>\n",
              "      <th>State</th>\n",
              "      <th>Account length</th>\n",
              "      <th>Area code</th>\n",
              "      <th>International plan</th>\n",
              "      <th>Voice mail plan</th>\n",
              "      <th>Number vmail messages</th>\n",
              "      <th>Total day minutes</th>\n",
              "      <th>Total day calls</th>\n",
              "      <th>Total day charge</th>\n",
              "      <th>Total eve minutes</th>\n",
              "      <th>Total eve calls</th>\n",
              "      <th>Total eve charge</th>\n",
              "      <th>Total night minutes</th>\n",
              "      <th>Total night calls</th>\n",
              "      <th>Total night charge</th>\n",
              "      <th>Total intl minutes</th>\n",
              "      <th>Total intl calls</th>\n",
              "      <th>Total intl charge</th>\n",
              "      <th>Customer service calls</th>\n",
              "      <th>Churn</th>\n",
              "    </tr>\n",
              "  </thead>\n",
              "  <tbody>\n",
              "    <tr>\n",
              "      <th>0</th>\n",
              "      <td>LA</td>\n",
              "      <td>117</td>\n",
              "      <td>408</td>\n",
              "      <td>No</td>\n",
              "      <td>No</td>\n",
              "      <td>0</td>\n",
              "      <td>184.5</td>\n",
              "      <td>97</td>\n",
              "      <td>31.37</td>\n",
              "      <td>351.6</td>\n",
              "      <td>80</td>\n",
              "      <td>29.89</td>\n",
              "      <td>215.8</td>\n",
              "      <td>90</td>\n",
              "      <td>9.71</td>\n",
              "      <td>8.7</td>\n",
              "      <td>4</td>\n",
              "      <td>2.35</td>\n",
              "      <td>1</td>\n",
              "      <td>False</td>\n",
              "    </tr>\n",
              "    <tr>\n",
              "      <th>1</th>\n",
              "      <td>IN</td>\n",
              "      <td>65</td>\n",
              "      <td>415</td>\n",
              "      <td>No</td>\n",
              "      <td>No</td>\n",
              "      <td>0</td>\n",
              "      <td>129.1</td>\n",
              "      <td>137</td>\n",
              "      <td>21.95</td>\n",
              "      <td>228.5</td>\n",
              "      <td>83</td>\n",
              "      <td>19.42</td>\n",
              "      <td>208.8</td>\n",
              "      <td>111</td>\n",
              "      <td>9.40</td>\n",
              "      <td>12.7</td>\n",
              "      <td>6</td>\n",
              "      <td>3.43</td>\n",
              "      <td>4</td>\n",
              "      <td>True</td>\n",
              "    </tr>\n",
              "    <tr>\n",
              "      <th>2</th>\n",
              "      <td>NY</td>\n",
              "      <td>161</td>\n",
              "      <td>415</td>\n",
              "      <td>No</td>\n",
              "      <td>No</td>\n",
              "      <td>0</td>\n",
              "      <td>332.9</td>\n",
              "      <td>67</td>\n",
              "      <td>56.59</td>\n",
              "      <td>317.8</td>\n",
              "      <td>97</td>\n",
              "      <td>27.01</td>\n",
              "      <td>160.6</td>\n",
              "      <td>128</td>\n",
              "      <td>7.23</td>\n",
              "      <td>5.4</td>\n",
              "      <td>9</td>\n",
              "      <td>1.46</td>\n",
              "      <td>4</td>\n",
              "      <td>True</td>\n",
              "    </tr>\n",
              "    <tr>\n",
              "      <th>3</th>\n",
              "      <td>SC</td>\n",
              "      <td>111</td>\n",
              "      <td>415</td>\n",
              "      <td>No</td>\n",
              "      <td>No</td>\n",
              "      <td>0</td>\n",
              "      <td>110.4</td>\n",
              "      <td>103</td>\n",
              "      <td>18.77</td>\n",
              "      <td>137.3</td>\n",
              "      <td>102</td>\n",
              "      <td>11.67</td>\n",
              "      <td>189.6</td>\n",
              "      <td>105</td>\n",
              "      <td>8.53</td>\n",
              "      <td>7.7</td>\n",
              "      <td>6</td>\n",
              "      <td>2.08</td>\n",
              "      <td>2</td>\n",
              "      <td>False</td>\n",
              "    </tr>\n",
              "    <tr>\n",
              "      <th>4</th>\n",
              "      <td>HI</td>\n",
              "      <td>49</td>\n",
              "      <td>510</td>\n",
              "      <td>No</td>\n",
              "      <td>No</td>\n",
              "      <td>0</td>\n",
              "      <td>119.3</td>\n",
              "      <td>117</td>\n",
              "      <td>20.28</td>\n",
              "      <td>215.1</td>\n",
              "      <td>109</td>\n",
              "      <td>18.28</td>\n",
              "      <td>178.7</td>\n",
              "      <td>90</td>\n",
              "      <td>8.04</td>\n",
              "      <td>11.1</td>\n",
              "      <td>1</td>\n",
              "      <td>3.00</td>\n",
              "      <td>1</td>\n",
              "      <td>False</td>\n",
              "    </tr>\n",
              "    <tr>\n",
              "      <th>...</th>\n",
              "      <td>...</td>\n",
              "      <td>...</td>\n",
              "      <td>...</td>\n",
              "      <td>...</td>\n",
              "      <td>...</td>\n",
              "      <td>...</td>\n",
              "      <td>...</td>\n",
              "      <td>...</td>\n",
              "      <td>...</td>\n",
              "      <td>...</td>\n",
              "      <td>...</td>\n",
              "      <td>...</td>\n",
              "      <td>...</td>\n",
              "      <td>...</td>\n",
              "      <td>...</td>\n",
              "      <td>...</td>\n",
              "      <td>...</td>\n",
              "      <td>...</td>\n",
              "      <td>...</td>\n",
              "      <td>...</td>\n",
              "    </tr>\n",
              "    <tr>\n",
              "      <th>662</th>\n",
              "      <td>WI</td>\n",
              "      <td>114</td>\n",
              "      <td>415</td>\n",
              "      <td>No</td>\n",
              "      <td>Yes</td>\n",
              "      <td>26</td>\n",
              "      <td>137.1</td>\n",
              "      <td>88</td>\n",
              "      <td>23.31</td>\n",
              "      <td>155.7</td>\n",
              "      <td>125</td>\n",
              "      <td>13.23</td>\n",
              "      <td>247.6</td>\n",
              "      <td>94</td>\n",
              "      <td>11.14</td>\n",
              "      <td>11.5</td>\n",
              "      <td>7</td>\n",
              "      <td>3.11</td>\n",
              "      <td>2</td>\n",
              "      <td>False</td>\n",
              "    </tr>\n",
              "    <tr>\n",
              "      <th>663</th>\n",
              "      <td>AL</td>\n",
              "      <td>106</td>\n",
              "      <td>408</td>\n",
              "      <td>No</td>\n",
              "      <td>Yes</td>\n",
              "      <td>29</td>\n",
              "      <td>83.6</td>\n",
              "      <td>131</td>\n",
              "      <td>14.21</td>\n",
              "      <td>203.9</td>\n",
              "      <td>131</td>\n",
              "      <td>17.33</td>\n",
              "      <td>229.5</td>\n",
              "      <td>73</td>\n",
              "      <td>10.33</td>\n",
              "      <td>8.1</td>\n",
              "      <td>3</td>\n",
              "      <td>2.19</td>\n",
              "      <td>1</td>\n",
              "      <td>False</td>\n",
              "    </tr>\n",
              "    <tr>\n",
              "      <th>664</th>\n",
              "      <td>VT</td>\n",
              "      <td>60</td>\n",
              "      <td>415</td>\n",
              "      <td>No</td>\n",
              "      <td>No</td>\n",
              "      <td>0</td>\n",
              "      <td>193.9</td>\n",
              "      <td>118</td>\n",
              "      <td>32.96</td>\n",
              "      <td>85.0</td>\n",
              "      <td>110</td>\n",
              "      <td>7.23</td>\n",
              "      <td>210.1</td>\n",
              "      <td>134</td>\n",
              "      <td>9.45</td>\n",
              "      <td>13.2</td>\n",
              "      <td>8</td>\n",
              "      <td>3.56</td>\n",
              "      <td>3</td>\n",
              "      <td>False</td>\n",
              "    </tr>\n",
              "    <tr>\n",
              "      <th>665</th>\n",
              "      <td>WV</td>\n",
              "      <td>159</td>\n",
              "      <td>415</td>\n",
              "      <td>No</td>\n",
              "      <td>No</td>\n",
              "      <td>0</td>\n",
              "      <td>169.8</td>\n",
              "      <td>114</td>\n",
              "      <td>28.87</td>\n",
              "      <td>197.7</td>\n",
              "      <td>105</td>\n",
              "      <td>16.80</td>\n",
              "      <td>193.7</td>\n",
              "      <td>82</td>\n",
              "      <td>8.72</td>\n",
              "      <td>11.6</td>\n",
              "      <td>4</td>\n",
              "      <td>3.13</td>\n",
              "      <td>1</td>\n",
              "      <td>False</td>\n",
              "    </tr>\n",
              "    <tr>\n",
              "      <th>666</th>\n",
              "      <td>CT</td>\n",
              "      <td>184</td>\n",
              "      <td>510</td>\n",
              "      <td>Yes</td>\n",
              "      <td>No</td>\n",
              "      <td>0</td>\n",
              "      <td>213.8</td>\n",
              "      <td>105</td>\n",
              "      <td>36.35</td>\n",
              "      <td>159.6</td>\n",
              "      <td>84</td>\n",
              "      <td>13.57</td>\n",
              "      <td>139.2</td>\n",
              "      <td>137</td>\n",
              "      <td>6.26</td>\n",
              "      <td>5.0</td>\n",
              "      <td>10</td>\n",
              "      <td>1.35</td>\n",
              "      <td>2</td>\n",
              "      <td>False</td>\n",
              "    </tr>\n",
              "  </tbody>\n",
              "</table>\n",
              "<p>667 rows × 20 columns</p>\n",
              "</div>"
            ],
            "text/plain": [
              "    State  Account length  ...  Customer service calls  Churn\n",
              "0      LA             117  ...                       1  False\n",
              "1      IN              65  ...                       4   True\n",
              "2      NY             161  ...                       4   True\n",
              "3      SC             111  ...                       2  False\n",
              "4      HI              49  ...                       1  False\n",
              "..    ...             ...  ...                     ...    ...\n",
              "662    WI             114  ...                       2  False\n",
              "663    AL             106  ...                       1  False\n",
              "664    VT              60  ...                       3  False\n",
              "665    WV             159  ...                       1  False\n",
              "666    CT             184  ...                       2  False\n",
              "\n",
              "[667 rows x 20 columns]"
            ]
          },
          "metadata": {},
          "execution_count": 38
        }
      ]
    },
    {
      "cell_type": "code",
      "metadata": {
        "colab": {
          "base_uri": "https://localhost:8080/"
        },
        "id": "PVkz5G_PSKeX",
        "outputId": "e97edef0-5b2f-43c4-be21-2a83861b00b6"
      },
      "source": [
        "churn_df.isnull().sum()"
      ],
      "execution_count": null,
      "outputs": [
        {
          "output_type": "execute_result",
          "data": {
            "text/plain": [
              "State                     0\n",
              "Account length            0\n",
              "Area code                 0\n",
              "International plan        0\n",
              "Voice mail plan           0\n",
              "Number vmail messages     0\n",
              "Total day minutes         0\n",
              "Total day calls           0\n",
              "Total day charge          0\n",
              "Total eve minutes         0\n",
              "Total eve calls           0\n",
              "Total eve charge          0\n",
              "Total night minutes       0\n",
              "Total night calls         0\n",
              "Total night charge        0\n",
              "Total intl minutes        0\n",
              "Total intl calls          0\n",
              "Total intl charge         0\n",
              "Customer service calls    0\n",
              "Churn                     0\n",
              "dtype: int64"
            ]
          },
          "metadata": {},
          "execution_count": 39
        }
      ]
    },
    {
      "cell_type": "code",
      "metadata": {
        "id": "Tf6Jj9vvSM0Z"
      },
      "source": [
        "# Label Encoder is used for mapping categorical data into 1, 2, 3, 4, 5, 6..\n",
        "from sklearn.preprocessing import LabelEncoder\n",
        "le_encoder = LabelEncoder()"
      ],
      "execution_count": null,
      "outputs": []
    },
    {
      "cell_type": "code",
      "metadata": {
        "colab": {
          "base_uri": "https://localhost:8080/"
        },
        "id": "BFnWKxUKSOf9",
        "outputId": "b42eb2ad-1282-4374-a3a6-951ea3f84e69"
      },
      "source": [
        "le_encoder.fit(churn_df['International plan'].drop_duplicates())"
      ],
      "execution_count": null,
      "outputs": [
        {
          "output_type": "execute_result",
          "data": {
            "text/plain": [
              "LabelEncoder()"
            ]
          },
          "metadata": {},
          "execution_count": 41
        }
      ]
    },
    {
      "cell_type": "code",
      "metadata": {
        "colab": {
          "base_uri": "https://localhost:8080/",
          "height": 458
        },
        "id": "DeXFMgerSQYR",
        "outputId": "46b50531-d280-4e98-9863-afc5ca9df509"
      },
      "source": [
        "churn_df['International plan'] = le_encoder.transform(churn_df['International plan'])\n",
        "churn_df"
      ],
      "execution_count": null,
      "outputs": [
        {
          "output_type": "execute_result",
          "data": {
            "text/html": [
              "<div>\n",
              "<style scoped>\n",
              "    .dataframe tbody tr th:only-of-type {\n",
              "        vertical-align: middle;\n",
              "    }\n",
              "\n",
              "    .dataframe tbody tr th {\n",
              "        vertical-align: top;\n",
              "    }\n",
              "\n",
              "    .dataframe thead th {\n",
              "        text-align: right;\n",
              "    }\n",
              "</style>\n",
              "<table border=\"1\" class=\"dataframe\">\n",
              "  <thead>\n",
              "    <tr style=\"text-align: right;\">\n",
              "      <th></th>\n",
              "      <th>State</th>\n",
              "      <th>Account length</th>\n",
              "      <th>Area code</th>\n",
              "      <th>International plan</th>\n",
              "      <th>Voice mail plan</th>\n",
              "      <th>Number vmail messages</th>\n",
              "      <th>Total day minutes</th>\n",
              "      <th>Total day calls</th>\n",
              "      <th>Total day charge</th>\n",
              "      <th>Total eve minutes</th>\n",
              "      <th>Total eve calls</th>\n",
              "      <th>Total eve charge</th>\n",
              "      <th>Total night minutes</th>\n",
              "      <th>Total night calls</th>\n",
              "      <th>Total night charge</th>\n",
              "      <th>Total intl minutes</th>\n",
              "      <th>Total intl calls</th>\n",
              "      <th>Total intl charge</th>\n",
              "      <th>Customer service calls</th>\n",
              "      <th>Churn</th>\n",
              "    </tr>\n",
              "  </thead>\n",
              "  <tbody>\n",
              "    <tr>\n",
              "      <th>0</th>\n",
              "      <td>LA</td>\n",
              "      <td>117</td>\n",
              "      <td>408</td>\n",
              "      <td>0</td>\n",
              "      <td>No</td>\n",
              "      <td>0</td>\n",
              "      <td>184.5</td>\n",
              "      <td>97</td>\n",
              "      <td>31.37</td>\n",
              "      <td>351.6</td>\n",
              "      <td>80</td>\n",
              "      <td>29.89</td>\n",
              "      <td>215.8</td>\n",
              "      <td>90</td>\n",
              "      <td>9.71</td>\n",
              "      <td>8.7</td>\n",
              "      <td>4</td>\n",
              "      <td>2.35</td>\n",
              "      <td>1</td>\n",
              "      <td>False</td>\n",
              "    </tr>\n",
              "    <tr>\n",
              "      <th>1</th>\n",
              "      <td>IN</td>\n",
              "      <td>65</td>\n",
              "      <td>415</td>\n",
              "      <td>0</td>\n",
              "      <td>No</td>\n",
              "      <td>0</td>\n",
              "      <td>129.1</td>\n",
              "      <td>137</td>\n",
              "      <td>21.95</td>\n",
              "      <td>228.5</td>\n",
              "      <td>83</td>\n",
              "      <td>19.42</td>\n",
              "      <td>208.8</td>\n",
              "      <td>111</td>\n",
              "      <td>9.40</td>\n",
              "      <td>12.7</td>\n",
              "      <td>6</td>\n",
              "      <td>3.43</td>\n",
              "      <td>4</td>\n",
              "      <td>True</td>\n",
              "    </tr>\n",
              "    <tr>\n",
              "      <th>2</th>\n",
              "      <td>NY</td>\n",
              "      <td>161</td>\n",
              "      <td>415</td>\n",
              "      <td>0</td>\n",
              "      <td>No</td>\n",
              "      <td>0</td>\n",
              "      <td>332.9</td>\n",
              "      <td>67</td>\n",
              "      <td>56.59</td>\n",
              "      <td>317.8</td>\n",
              "      <td>97</td>\n",
              "      <td>27.01</td>\n",
              "      <td>160.6</td>\n",
              "      <td>128</td>\n",
              "      <td>7.23</td>\n",
              "      <td>5.4</td>\n",
              "      <td>9</td>\n",
              "      <td>1.46</td>\n",
              "      <td>4</td>\n",
              "      <td>True</td>\n",
              "    </tr>\n",
              "    <tr>\n",
              "      <th>3</th>\n",
              "      <td>SC</td>\n",
              "      <td>111</td>\n",
              "      <td>415</td>\n",
              "      <td>0</td>\n",
              "      <td>No</td>\n",
              "      <td>0</td>\n",
              "      <td>110.4</td>\n",
              "      <td>103</td>\n",
              "      <td>18.77</td>\n",
              "      <td>137.3</td>\n",
              "      <td>102</td>\n",
              "      <td>11.67</td>\n",
              "      <td>189.6</td>\n",
              "      <td>105</td>\n",
              "      <td>8.53</td>\n",
              "      <td>7.7</td>\n",
              "      <td>6</td>\n",
              "      <td>2.08</td>\n",
              "      <td>2</td>\n",
              "      <td>False</td>\n",
              "    </tr>\n",
              "    <tr>\n",
              "      <th>4</th>\n",
              "      <td>HI</td>\n",
              "      <td>49</td>\n",
              "      <td>510</td>\n",
              "      <td>0</td>\n",
              "      <td>No</td>\n",
              "      <td>0</td>\n",
              "      <td>119.3</td>\n",
              "      <td>117</td>\n",
              "      <td>20.28</td>\n",
              "      <td>215.1</td>\n",
              "      <td>109</td>\n",
              "      <td>18.28</td>\n",
              "      <td>178.7</td>\n",
              "      <td>90</td>\n",
              "      <td>8.04</td>\n",
              "      <td>11.1</td>\n",
              "      <td>1</td>\n",
              "      <td>3.00</td>\n",
              "      <td>1</td>\n",
              "      <td>False</td>\n",
              "    </tr>\n",
              "    <tr>\n",
              "      <th>...</th>\n",
              "      <td>...</td>\n",
              "      <td>...</td>\n",
              "      <td>...</td>\n",
              "      <td>...</td>\n",
              "      <td>...</td>\n",
              "      <td>...</td>\n",
              "      <td>...</td>\n",
              "      <td>...</td>\n",
              "      <td>...</td>\n",
              "      <td>...</td>\n",
              "      <td>...</td>\n",
              "      <td>...</td>\n",
              "      <td>...</td>\n",
              "      <td>...</td>\n",
              "      <td>...</td>\n",
              "      <td>...</td>\n",
              "      <td>...</td>\n",
              "      <td>...</td>\n",
              "      <td>...</td>\n",
              "      <td>...</td>\n",
              "    </tr>\n",
              "    <tr>\n",
              "      <th>662</th>\n",
              "      <td>WI</td>\n",
              "      <td>114</td>\n",
              "      <td>415</td>\n",
              "      <td>0</td>\n",
              "      <td>Yes</td>\n",
              "      <td>26</td>\n",
              "      <td>137.1</td>\n",
              "      <td>88</td>\n",
              "      <td>23.31</td>\n",
              "      <td>155.7</td>\n",
              "      <td>125</td>\n",
              "      <td>13.23</td>\n",
              "      <td>247.6</td>\n",
              "      <td>94</td>\n",
              "      <td>11.14</td>\n",
              "      <td>11.5</td>\n",
              "      <td>7</td>\n",
              "      <td>3.11</td>\n",
              "      <td>2</td>\n",
              "      <td>False</td>\n",
              "    </tr>\n",
              "    <tr>\n",
              "      <th>663</th>\n",
              "      <td>AL</td>\n",
              "      <td>106</td>\n",
              "      <td>408</td>\n",
              "      <td>0</td>\n",
              "      <td>Yes</td>\n",
              "      <td>29</td>\n",
              "      <td>83.6</td>\n",
              "      <td>131</td>\n",
              "      <td>14.21</td>\n",
              "      <td>203.9</td>\n",
              "      <td>131</td>\n",
              "      <td>17.33</td>\n",
              "      <td>229.5</td>\n",
              "      <td>73</td>\n",
              "      <td>10.33</td>\n",
              "      <td>8.1</td>\n",
              "      <td>3</td>\n",
              "      <td>2.19</td>\n",
              "      <td>1</td>\n",
              "      <td>False</td>\n",
              "    </tr>\n",
              "    <tr>\n",
              "      <th>664</th>\n",
              "      <td>VT</td>\n",
              "      <td>60</td>\n",
              "      <td>415</td>\n",
              "      <td>0</td>\n",
              "      <td>No</td>\n",
              "      <td>0</td>\n",
              "      <td>193.9</td>\n",
              "      <td>118</td>\n",
              "      <td>32.96</td>\n",
              "      <td>85.0</td>\n",
              "      <td>110</td>\n",
              "      <td>7.23</td>\n",
              "      <td>210.1</td>\n",
              "      <td>134</td>\n",
              "      <td>9.45</td>\n",
              "      <td>13.2</td>\n",
              "      <td>8</td>\n",
              "      <td>3.56</td>\n",
              "      <td>3</td>\n",
              "      <td>False</td>\n",
              "    </tr>\n",
              "    <tr>\n",
              "      <th>665</th>\n",
              "      <td>WV</td>\n",
              "      <td>159</td>\n",
              "      <td>415</td>\n",
              "      <td>0</td>\n",
              "      <td>No</td>\n",
              "      <td>0</td>\n",
              "      <td>169.8</td>\n",
              "      <td>114</td>\n",
              "      <td>28.87</td>\n",
              "      <td>197.7</td>\n",
              "      <td>105</td>\n",
              "      <td>16.80</td>\n",
              "      <td>193.7</td>\n",
              "      <td>82</td>\n",
              "      <td>8.72</td>\n",
              "      <td>11.6</td>\n",
              "      <td>4</td>\n",
              "      <td>3.13</td>\n",
              "      <td>1</td>\n",
              "      <td>False</td>\n",
              "    </tr>\n",
              "    <tr>\n",
              "      <th>666</th>\n",
              "      <td>CT</td>\n",
              "      <td>184</td>\n",
              "      <td>510</td>\n",
              "      <td>1</td>\n",
              "      <td>No</td>\n",
              "      <td>0</td>\n",
              "      <td>213.8</td>\n",
              "      <td>105</td>\n",
              "      <td>36.35</td>\n",
              "      <td>159.6</td>\n",
              "      <td>84</td>\n",
              "      <td>13.57</td>\n",
              "      <td>139.2</td>\n",
              "      <td>137</td>\n",
              "      <td>6.26</td>\n",
              "      <td>5.0</td>\n",
              "      <td>10</td>\n",
              "      <td>1.35</td>\n",
              "      <td>2</td>\n",
              "      <td>False</td>\n",
              "    </tr>\n",
              "  </tbody>\n",
              "</table>\n",
              "<p>667 rows × 20 columns</p>\n",
              "</div>"
            ],
            "text/plain": [
              "    State  Account length  ...  Customer service calls  Churn\n",
              "0      LA             117  ...                       1  False\n",
              "1      IN              65  ...                       4   True\n",
              "2      NY             161  ...                       4   True\n",
              "3      SC             111  ...                       2  False\n",
              "4      HI              49  ...                       1  False\n",
              "..    ...             ...  ...                     ...    ...\n",
              "662    WI             114  ...                       2  False\n",
              "663    AL             106  ...                       1  False\n",
              "664    VT              60  ...                       3  False\n",
              "665    WV             159  ...                       1  False\n",
              "666    CT             184  ...                       2  False\n",
              "\n",
              "[667 rows x 20 columns]"
            ]
          },
          "metadata": {},
          "execution_count": 42
        }
      ]
    },
    {
      "cell_type": "code",
      "metadata": {
        "colab": {
          "base_uri": "https://localhost:8080/"
        },
        "id": "_Tqwd90cSSIB",
        "outputId": "4559dd6d-d394-4d89-9e91-94bec3ecf1ad"
      },
      "source": [
        "le_encoder.fit(churn_df['Voice mail plan'].drop_duplicates())"
      ],
      "execution_count": null,
      "outputs": [
        {
          "output_type": "execute_result",
          "data": {
            "text/plain": [
              "LabelEncoder()"
            ]
          },
          "metadata": {},
          "execution_count": 43
        }
      ]
    },
    {
      "cell_type": "code",
      "metadata": {
        "colab": {
          "base_uri": "https://localhost:8080/",
          "height": 458
        },
        "id": "9szqfxQ_ST1r",
        "outputId": "e3c896ae-7c94-45fe-bb96-c3f61fdc0587"
      },
      "source": [
        "churn_df['Voice mail plan'] = le_encoder.transform(churn_df['Voice mail plan'])\n",
        "churn_df"
      ],
      "execution_count": null,
      "outputs": [
        {
          "output_type": "execute_result",
          "data": {
            "text/html": [
              "<div>\n",
              "<style scoped>\n",
              "    .dataframe tbody tr th:only-of-type {\n",
              "        vertical-align: middle;\n",
              "    }\n",
              "\n",
              "    .dataframe tbody tr th {\n",
              "        vertical-align: top;\n",
              "    }\n",
              "\n",
              "    .dataframe thead th {\n",
              "        text-align: right;\n",
              "    }\n",
              "</style>\n",
              "<table border=\"1\" class=\"dataframe\">\n",
              "  <thead>\n",
              "    <tr style=\"text-align: right;\">\n",
              "      <th></th>\n",
              "      <th>State</th>\n",
              "      <th>Account length</th>\n",
              "      <th>Area code</th>\n",
              "      <th>International plan</th>\n",
              "      <th>Voice mail plan</th>\n",
              "      <th>Number vmail messages</th>\n",
              "      <th>Total day minutes</th>\n",
              "      <th>Total day calls</th>\n",
              "      <th>Total day charge</th>\n",
              "      <th>Total eve minutes</th>\n",
              "      <th>Total eve calls</th>\n",
              "      <th>Total eve charge</th>\n",
              "      <th>Total night minutes</th>\n",
              "      <th>Total night calls</th>\n",
              "      <th>Total night charge</th>\n",
              "      <th>Total intl minutes</th>\n",
              "      <th>Total intl calls</th>\n",
              "      <th>Total intl charge</th>\n",
              "      <th>Customer service calls</th>\n",
              "      <th>Churn</th>\n",
              "    </tr>\n",
              "  </thead>\n",
              "  <tbody>\n",
              "    <tr>\n",
              "      <th>0</th>\n",
              "      <td>LA</td>\n",
              "      <td>117</td>\n",
              "      <td>408</td>\n",
              "      <td>0</td>\n",
              "      <td>0</td>\n",
              "      <td>0</td>\n",
              "      <td>184.5</td>\n",
              "      <td>97</td>\n",
              "      <td>31.37</td>\n",
              "      <td>351.6</td>\n",
              "      <td>80</td>\n",
              "      <td>29.89</td>\n",
              "      <td>215.8</td>\n",
              "      <td>90</td>\n",
              "      <td>9.71</td>\n",
              "      <td>8.7</td>\n",
              "      <td>4</td>\n",
              "      <td>2.35</td>\n",
              "      <td>1</td>\n",
              "      <td>False</td>\n",
              "    </tr>\n",
              "    <tr>\n",
              "      <th>1</th>\n",
              "      <td>IN</td>\n",
              "      <td>65</td>\n",
              "      <td>415</td>\n",
              "      <td>0</td>\n",
              "      <td>0</td>\n",
              "      <td>0</td>\n",
              "      <td>129.1</td>\n",
              "      <td>137</td>\n",
              "      <td>21.95</td>\n",
              "      <td>228.5</td>\n",
              "      <td>83</td>\n",
              "      <td>19.42</td>\n",
              "      <td>208.8</td>\n",
              "      <td>111</td>\n",
              "      <td>9.40</td>\n",
              "      <td>12.7</td>\n",
              "      <td>6</td>\n",
              "      <td>3.43</td>\n",
              "      <td>4</td>\n",
              "      <td>True</td>\n",
              "    </tr>\n",
              "    <tr>\n",
              "      <th>2</th>\n",
              "      <td>NY</td>\n",
              "      <td>161</td>\n",
              "      <td>415</td>\n",
              "      <td>0</td>\n",
              "      <td>0</td>\n",
              "      <td>0</td>\n",
              "      <td>332.9</td>\n",
              "      <td>67</td>\n",
              "      <td>56.59</td>\n",
              "      <td>317.8</td>\n",
              "      <td>97</td>\n",
              "      <td>27.01</td>\n",
              "      <td>160.6</td>\n",
              "      <td>128</td>\n",
              "      <td>7.23</td>\n",
              "      <td>5.4</td>\n",
              "      <td>9</td>\n",
              "      <td>1.46</td>\n",
              "      <td>4</td>\n",
              "      <td>True</td>\n",
              "    </tr>\n",
              "    <tr>\n",
              "      <th>3</th>\n",
              "      <td>SC</td>\n",
              "      <td>111</td>\n",
              "      <td>415</td>\n",
              "      <td>0</td>\n",
              "      <td>0</td>\n",
              "      <td>0</td>\n",
              "      <td>110.4</td>\n",
              "      <td>103</td>\n",
              "      <td>18.77</td>\n",
              "      <td>137.3</td>\n",
              "      <td>102</td>\n",
              "      <td>11.67</td>\n",
              "      <td>189.6</td>\n",
              "      <td>105</td>\n",
              "      <td>8.53</td>\n",
              "      <td>7.7</td>\n",
              "      <td>6</td>\n",
              "      <td>2.08</td>\n",
              "      <td>2</td>\n",
              "      <td>False</td>\n",
              "    </tr>\n",
              "    <tr>\n",
              "      <th>4</th>\n",
              "      <td>HI</td>\n",
              "      <td>49</td>\n",
              "      <td>510</td>\n",
              "      <td>0</td>\n",
              "      <td>0</td>\n",
              "      <td>0</td>\n",
              "      <td>119.3</td>\n",
              "      <td>117</td>\n",
              "      <td>20.28</td>\n",
              "      <td>215.1</td>\n",
              "      <td>109</td>\n",
              "      <td>18.28</td>\n",
              "      <td>178.7</td>\n",
              "      <td>90</td>\n",
              "      <td>8.04</td>\n",
              "      <td>11.1</td>\n",
              "      <td>1</td>\n",
              "      <td>3.00</td>\n",
              "      <td>1</td>\n",
              "      <td>False</td>\n",
              "    </tr>\n",
              "    <tr>\n",
              "      <th>...</th>\n",
              "      <td>...</td>\n",
              "      <td>...</td>\n",
              "      <td>...</td>\n",
              "      <td>...</td>\n",
              "      <td>...</td>\n",
              "      <td>...</td>\n",
              "      <td>...</td>\n",
              "      <td>...</td>\n",
              "      <td>...</td>\n",
              "      <td>...</td>\n",
              "      <td>...</td>\n",
              "      <td>...</td>\n",
              "      <td>...</td>\n",
              "      <td>...</td>\n",
              "      <td>...</td>\n",
              "      <td>...</td>\n",
              "      <td>...</td>\n",
              "      <td>...</td>\n",
              "      <td>...</td>\n",
              "      <td>...</td>\n",
              "    </tr>\n",
              "    <tr>\n",
              "      <th>662</th>\n",
              "      <td>WI</td>\n",
              "      <td>114</td>\n",
              "      <td>415</td>\n",
              "      <td>0</td>\n",
              "      <td>1</td>\n",
              "      <td>26</td>\n",
              "      <td>137.1</td>\n",
              "      <td>88</td>\n",
              "      <td>23.31</td>\n",
              "      <td>155.7</td>\n",
              "      <td>125</td>\n",
              "      <td>13.23</td>\n",
              "      <td>247.6</td>\n",
              "      <td>94</td>\n",
              "      <td>11.14</td>\n",
              "      <td>11.5</td>\n",
              "      <td>7</td>\n",
              "      <td>3.11</td>\n",
              "      <td>2</td>\n",
              "      <td>False</td>\n",
              "    </tr>\n",
              "    <tr>\n",
              "      <th>663</th>\n",
              "      <td>AL</td>\n",
              "      <td>106</td>\n",
              "      <td>408</td>\n",
              "      <td>0</td>\n",
              "      <td>1</td>\n",
              "      <td>29</td>\n",
              "      <td>83.6</td>\n",
              "      <td>131</td>\n",
              "      <td>14.21</td>\n",
              "      <td>203.9</td>\n",
              "      <td>131</td>\n",
              "      <td>17.33</td>\n",
              "      <td>229.5</td>\n",
              "      <td>73</td>\n",
              "      <td>10.33</td>\n",
              "      <td>8.1</td>\n",
              "      <td>3</td>\n",
              "      <td>2.19</td>\n",
              "      <td>1</td>\n",
              "      <td>False</td>\n",
              "    </tr>\n",
              "    <tr>\n",
              "      <th>664</th>\n",
              "      <td>VT</td>\n",
              "      <td>60</td>\n",
              "      <td>415</td>\n",
              "      <td>0</td>\n",
              "      <td>0</td>\n",
              "      <td>0</td>\n",
              "      <td>193.9</td>\n",
              "      <td>118</td>\n",
              "      <td>32.96</td>\n",
              "      <td>85.0</td>\n",
              "      <td>110</td>\n",
              "      <td>7.23</td>\n",
              "      <td>210.1</td>\n",
              "      <td>134</td>\n",
              "      <td>9.45</td>\n",
              "      <td>13.2</td>\n",
              "      <td>8</td>\n",
              "      <td>3.56</td>\n",
              "      <td>3</td>\n",
              "      <td>False</td>\n",
              "    </tr>\n",
              "    <tr>\n",
              "      <th>665</th>\n",
              "      <td>WV</td>\n",
              "      <td>159</td>\n",
              "      <td>415</td>\n",
              "      <td>0</td>\n",
              "      <td>0</td>\n",
              "      <td>0</td>\n",
              "      <td>169.8</td>\n",
              "      <td>114</td>\n",
              "      <td>28.87</td>\n",
              "      <td>197.7</td>\n",
              "      <td>105</td>\n",
              "      <td>16.80</td>\n",
              "      <td>193.7</td>\n",
              "      <td>82</td>\n",
              "      <td>8.72</td>\n",
              "      <td>11.6</td>\n",
              "      <td>4</td>\n",
              "      <td>3.13</td>\n",
              "      <td>1</td>\n",
              "      <td>False</td>\n",
              "    </tr>\n",
              "    <tr>\n",
              "      <th>666</th>\n",
              "      <td>CT</td>\n",
              "      <td>184</td>\n",
              "      <td>510</td>\n",
              "      <td>1</td>\n",
              "      <td>0</td>\n",
              "      <td>0</td>\n",
              "      <td>213.8</td>\n",
              "      <td>105</td>\n",
              "      <td>36.35</td>\n",
              "      <td>159.6</td>\n",
              "      <td>84</td>\n",
              "      <td>13.57</td>\n",
              "      <td>139.2</td>\n",
              "      <td>137</td>\n",
              "      <td>6.26</td>\n",
              "      <td>5.0</td>\n",
              "      <td>10</td>\n",
              "      <td>1.35</td>\n",
              "      <td>2</td>\n",
              "      <td>False</td>\n",
              "    </tr>\n",
              "  </tbody>\n",
              "</table>\n",
              "<p>667 rows × 20 columns</p>\n",
              "</div>"
            ],
            "text/plain": [
              "    State  Account length  ...  Customer service calls  Churn\n",
              "0      LA             117  ...                       1  False\n",
              "1      IN              65  ...                       4   True\n",
              "2      NY             161  ...                       4   True\n",
              "3      SC             111  ...                       2  False\n",
              "4      HI              49  ...                       1  False\n",
              "..    ...             ...  ...                     ...    ...\n",
              "662    WI             114  ...                       2  False\n",
              "663    AL             106  ...                       1  False\n",
              "664    VT              60  ...                       3  False\n",
              "665    WV             159  ...                       1  False\n",
              "666    CT             184  ...                       2  False\n",
              "\n",
              "[667 rows x 20 columns]"
            ]
          },
          "metadata": {},
          "execution_count": 44
        }
      ]
    },
    {
      "cell_type": "code",
      "metadata": {
        "colab": {
          "base_uri": "https://localhost:8080/",
          "height": 998
        },
        "id": "s87WzBW3SWC8",
        "outputId": "9178a20f-1332-40e3-f90b-b92262d1e0e6"
      },
      "source": [
        "plt.figure(figsize=(25,15))\n",
        "sns.heatmap(churn_df.corr('pearson'), annot = True)"
      ],
      "execution_count": null,
      "outputs": [
        {
          "output_type": "execute_result",
          "data": {
            "text/plain": [
              "<matplotlib.axes._subplots.AxesSubplot at 0x7f84719379d0>"
            ]
          },
          "metadata": {},
          "execution_count": 45
        },
        {
          "output_type": "display_data",
          "data": {
            "image/png": "[encoded data removed]",
            "text/plain": [
              "<Figure size 1800x1080 with 2 Axes>"
            ]
          },
          "metadata": {
            "needs_background": "light"
          }
        }
      ]
    },
    {
      "cell_type": "code",
      "metadata": {
        "colab": {
          "base_uri": "https://localhost:8080/",
          "height": 412
        },
        "id": "bc6q9HcMSe1c",
        "outputId": "45d30540-b00f-4bff-86a9-0c0d526ed7d0"
      },
      "source": [
        "plt.figure(figsize=(7,6))\n",
        "sns.countplot('Churn', data = churn_df)"
      ],
      "execution_count": null,
      "outputs": [
        {
          "output_type": "execute_result",
          "data": {
            "text/plain": [
              "<matplotlib.axes._subplots.AxesSubplot at 0x7f84718a3850>"
            ]
          },
          "metadata": {},
          "execution_count": 46
        },
        {
          "output_type": "display_data",
          "data": {
            "image/png": "[encoded data removed]",
            "text/plain": [
              "<Figure size 504x432 with 1 Axes>"
            ]
          },
          "metadata": {
            "needs_background": "light"
          }
        }
      ]
    },
    {
      "cell_type": "code",
      "metadata": {
        "colab": {
          "base_uri": "https://localhost:8080/"
        },
        "id": "-8-vSJuISg_8",
        "outputId": "522dfaf6-50e8-4b04-bc69-443deff4a7ee"
      },
      "source": [
        "churn_df['Churn'].value_counts()"
      ],
      "execution_count": null,
      "outputs": [
        {
          "output_type": "execute_result",
          "data": {
            "text/plain": [
              "False    572\n",
              "True      95\n",
              "Name: Churn, dtype: int64"
            ]
          },
          "metadata": {},
          "execution_count": 47
        }
      ]
    },
    {
      "cell_type": "code",
      "metadata": {
        "id": "zwL3rEJdSi_R"
      },
      "source": [
        "from sklearn.utils import resample\n",
        "df_0 = churn_df[churn_df['Churn'] == False]\n",
        "df_1 = churn_df[churn_df['Churn'] == True]"
      ],
      "execution_count": null,
      "outputs": []
    },
    {
      "cell_type": "code",
      "metadata": {
        "colab": {
          "base_uri": "https://localhost:8080/"
        },
        "id": "oDzCKgUwSkuH",
        "outputId": "c7aed002-d290-4745-d2d3-df833f16956d"
      },
      "source": [
        "df_1.shape"
      ],
      "execution_count": null,
      "outputs": [
        {
          "output_type": "execute_result",
          "data": {
            "text/plain": [
              "(95, 20)"
            ]
          },
          "metadata": {},
          "execution_count": 49
        }
      ]
    },
    {
      "cell_type": "code",
      "metadata": {
        "id": "_gD9fvpoSmTk"
      },
      "source": [
        "df_1_upsample = resample(df_1, n_samples = 288, replace = True, random_state =123)"
      ],
      "execution_count": null,
      "outputs": []
    },
    {
      "cell_type": "code",
      "metadata": {
        "colab": {
          "base_uri": "https://localhost:8080/"
        },
        "id": "tlXQT0HaSoBh",
        "outputId": "6e195d35-d6ee-401c-ff1b-d11f6adcac1d"
      },
      "source": [
        "df_1_upsample.shape"
      ],
      "execution_count": null,
      "outputs": [
        {
          "output_type": "execute_result",
          "data": {
            "text/plain": [
              "(288, 20)"
            ]
          },
          "metadata": {},
          "execution_count": 51
        }
      ]
    },
    {
      "cell_type": "code",
      "metadata": {
        "id": "lvUYt0cgSpuu"
      },
      "source": [
        "churn_df1 = pd.concat([df_0, df_1_upsample])"
      ],
      "execution_count": null,
      "outputs": []
    },
    {
      "cell_type": "code",
      "metadata": {
        "colab": {
          "base_uri": "https://localhost:8080/"
        },
        "id": "cvCJQPz2SroN",
        "outputId": "d48802f4-fa3c-4001-8a80-d97b0f047818"
      },
      "source": [
        "churn_df1.shape"
      ],
      "execution_count": null,
      "outputs": [
        {
          "output_type": "execute_result",
          "data": {
            "text/plain": [
              "(860, 20)"
            ]
          },
          "metadata": {},
          "execution_count": 53
        }
      ]
    },
    {
      "cell_type": "code",
      "metadata": {
        "colab": {
          "base_uri": "https://localhost:8080/",
          "height": 266
        },
        "id": "bViIloPsStM9",
        "outputId": "7fea467b-1c77-4132-b3d9-c33597945617"
      },
      "source": [
        "plt.figure(figsize=(16,8))\n",
        "plt.subplot(2,2,1)\n",
        "sns.countplot('Churn', data = churn_df)\n",
        "plt.subplot(2,2,2)\n",
        "sns.countplot('Churn', data = churn_df1)\n",
        "plt.show()"
      ],
      "execution_count": null,
      "outputs": [
        {
          "output_type": "display_data",
          "data": {
            "image/png": "[encoded data removed]",
            "text/plain": [
              "<Figure size 1152x576 with 2 Axes>"
            ]
          },
          "metadata": {
            "needs_background": "light"
          }
        }
      ]
    },
    {
      "cell_type": "code",
      "metadata": {
        "id": "p09Sj4cJSvTa"
      },
      "source": [
        "X = churn_df1.drop(['State', 'Number vmail messages', 'Total day charge','Total eve charge', 'Total night charge', 'Total intl charge', 'Churn'],axis = 1)\n",
        "Y = churn_df1['Churn']"
      ],
      "execution_count": null,
      "outputs": []
    },
    {
      "cell_type": "code",
      "metadata": {
        "colab": {
          "base_uri": "https://localhost:8080/",
          "height": 441
        },
        "id": "FajFUKvwSxZl",
        "outputId": "54736ba7-6b2b-4f89-93fa-30a0f1c77ef9"
      },
      "source": [
        "X"
      ],
      "execution_count": null,
      "outputs": [
        {
          "output_type": "execute_result",
          "data": {
            "text/html": [
              "<div>\n",
              "<style scoped>\n",
              "    .dataframe tbody tr th:only-of-type {\n",
              "        vertical-align: middle;\n",
              "    }\n",
              "\n",
              "    .dataframe tbody tr th {\n",
              "        vertical-align: top;\n",
              "    }\n",
              "\n",
              "    .dataframe thead th {\n",
              "        text-align: right;\n",
              "    }\n",
              "</style>\n",
              "<table border=\"1\" class=\"dataframe\">\n",
              "  <thead>\n",
              "    <tr style=\"text-align: right;\">\n",
              "      <th></th>\n",
              "      <th>Account length</th>\n",
              "      <th>Area code</th>\n",
              "      <th>International plan</th>\n",
              "      <th>Voice mail plan</th>\n",
              "      <th>Total day minutes</th>\n",
              "      <th>Total day calls</th>\n",
              "      <th>Total eve minutes</th>\n",
              "      <th>Total eve calls</th>\n",
              "      <th>Total night minutes</th>\n",
              "      <th>Total night calls</th>\n",
              "      <th>Total intl minutes</th>\n",
              "      <th>Total intl calls</th>\n",
              "      <th>Customer service calls</th>\n",
              "    </tr>\n",
              "  </thead>\n",
              "  <tbody>\n",
              "    <tr>\n",
              "      <th>0</th>\n",
              "      <td>117</td>\n",
              "      <td>408</td>\n",
              "      <td>0</td>\n",
              "      <td>0</td>\n",
              "      <td>184.5</td>\n",
              "      <td>97</td>\n",
              "      <td>351.6</td>\n",
              "      <td>80</td>\n",
              "      <td>215.8</td>\n",
              "      <td>90</td>\n",
              "      <td>8.7</td>\n",
              "      <td>4</td>\n",
              "      <td>1</td>\n",
              "    </tr>\n",
              "    <tr>\n",
              "      <th>3</th>\n",
              "      <td>111</td>\n",
              "      <td>415</td>\n",
              "      <td>0</td>\n",
              "      <td>0</td>\n",
              "      <td>110.4</td>\n",
              "      <td>103</td>\n",
              "      <td>137.3</td>\n",
              "      <td>102</td>\n",
              "      <td>189.6</td>\n",
              "      <td>105</td>\n",
              "      <td>7.7</td>\n",
              "      <td>6</td>\n",
              "      <td>2</td>\n",
              "    </tr>\n",
              "    <tr>\n",
              "      <th>4</th>\n",
              "      <td>49</td>\n",
              "      <td>510</td>\n",
              "      <td>0</td>\n",
              "      <td>0</td>\n",
              "      <td>119.3</td>\n",
              "      <td>117</td>\n",
              "      <td>215.1</td>\n",
              "      <td>109</td>\n",
              "      <td>178.7</td>\n",
              "      <td>90</td>\n",
              "      <td>11.1</td>\n",
              "      <td>1</td>\n",
              "      <td>1</td>\n",
              "    </tr>\n",
              "    <tr>\n",
              "      <th>5</th>\n",
              "      <td>36</td>\n",
              "      <td>408</td>\n",
              "      <td>0</td>\n",
              "      <td>1</td>\n",
              "      <td>146.3</td>\n",
              "      <td>128</td>\n",
              "      <td>162.5</td>\n",
              "      <td>80</td>\n",
              "      <td>129.3</td>\n",
              "      <td>109</td>\n",
              "      <td>14.5</td>\n",
              "      <td>6</td>\n",
              "      <td>0</td>\n",
              "    </tr>\n",
              "    <tr>\n",
              "      <th>6</th>\n",
              "      <td>65</td>\n",
              "      <td>415</td>\n",
              "      <td>0</td>\n",
              "      <td>0</td>\n",
              "      <td>211.3</td>\n",
              "      <td>120</td>\n",
              "      <td>162.6</td>\n",
              "      <td>122</td>\n",
              "      <td>134.7</td>\n",
              "      <td>118</td>\n",
              "      <td>13.2</td>\n",
              "      <td>5</td>\n",
              "      <td>3</td>\n",
              "    </tr>\n",
              "    <tr>\n",
              "      <th>...</th>\n",
              "      <td>...</td>\n",
              "      <td>...</td>\n",
              "      <td>...</td>\n",
              "      <td>...</td>\n",
              "      <td>...</td>\n",
              "      <td>...</td>\n",
              "      <td>...</td>\n",
              "      <td>...</td>\n",
              "      <td>...</td>\n",
              "      <td>...</td>\n",
              "      <td>...</td>\n",
              "      <td>...</td>\n",
              "      <td>...</td>\n",
              "    </tr>\n",
              "    <tr>\n",
              "      <th>593</th>\n",
              "      <td>128</td>\n",
              "      <td>408</td>\n",
              "      <td>0</td>\n",
              "      <td>0</td>\n",
              "      <td>227.9</td>\n",
              "      <td>130</td>\n",
              "      <td>302.6</td>\n",
              "      <td>71</td>\n",
              "      <td>191.5</td>\n",
              "      <td>82</td>\n",
              "      <td>5.5</td>\n",
              "      <td>7</td>\n",
              "      <td>1</td>\n",
              "    </tr>\n",
              "    <tr>\n",
              "      <th>500</th>\n",
              "      <td>58</td>\n",
              "      <td>415</td>\n",
              "      <td>0</td>\n",
              "      <td>0</td>\n",
              "      <td>247.2</td>\n",
              "      <td>116</td>\n",
              "      <td>303.7</td>\n",
              "      <td>103</td>\n",
              "      <td>105.4</td>\n",
              "      <td>94</td>\n",
              "      <td>9.3</td>\n",
              "      <td>2</td>\n",
              "      <td>2</td>\n",
              "    </tr>\n",
              "    <tr>\n",
              "      <th>1</th>\n",
              "      <td>65</td>\n",
              "      <td>415</td>\n",
              "      <td>0</td>\n",
              "      <td>0</td>\n",
              "      <td>129.1</td>\n",
              "      <td>137</td>\n",
              "      <td>228.5</td>\n",
              "      <td>83</td>\n",
              "      <td>208.8</td>\n",
              "      <td>111</td>\n",
              "      <td>12.7</td>\n",
              "      <td>6</td>\n",
              "      <td>4</td>\n",
              "    </tr>\n",
              "    <tr>\n",
              "      <th>226</th>\n",
              "      <td>80</td>\n",
              "      <td>408</td>\n",
              "      <td>0</td>\n",
              "      <td>0</td>\n",
              "      <td>322.3</td>\n",
              "      <td>113</td>\n",
              "      <td>222.0</td>\n",
              "      <td>95</td>\n",
              "      <td>162.8</td>\n",
              "      <td>123</td>\n",
              "      <td>6.7</td>\n",
              "      <td>8</td>\n",
              "      <td>0</td>\n",
              "    </tr>\n",
              "    <tr>\n",
              "      <th>552</th>\n",
              "      <td>112</td>\n",
              "      <td>415</td>\n",
              "      <td>0</td>\n",
              "      <td>0</td>\n",
              "      <td>266.0</td>\n",
              "      <td>97</td>\n",
              "      <td>214.6</td>\n",
              "      <td>94</td>\n",
              "      <td>306.2</td>\n",
              "      <td>100</td>\n",
              "      <td>14.2</td>\n",
              "      <td>2</td>\n",
              "      <td>2</td>\n",
              "    </tr>\n",
              "  </tbody>\n",
              "</table>\n",
              "<p>860 rows × 13 columns</p>\n",
              "</div>"
            ],
            "text/plain": [
              "     Account length  Area code  ...  Total intl calls  Customer service calls\n",
              "0               117        408  ...                 4                       1\n",
              "3               111        415  ...                 6                       2\n",
              "4                49        510  ...                 1                       1\n",
              "5                36        408  ...                 6                       0\n",
              "6                65        415  ...                 5                       3\n",
              "..              ...        ...  ...               ...                     ...\n",
              "593             128        408  ...                 7                       1\n",
              "500              58        415  ...                 2                       2\n",
              "1                65        415  ...                 6                       4\n",
              "226              80        408  ...                 8                       0\n",
              "552             112        415  ...                 2                       2\n",
              "\n",
              "[860 rows x 13 columns]"
            ]
          },
          "metadata": {},
          "execution_count": 56
        }
      ]
    },
    {
      "cell_type": "code",
      "metadata": {
        "id": "IqWRp_oMSzOk"
      },
      "source": [
        "from sklearn.model_selection import train_test_split\n",
        "X_train, X_test, Y_train, Y_test = train_test_split(X, Y, test_size = 1/3, random_state = 0 )"
      ],
      "execution_count": null,
      "outputs": []
    },
    {
      "cell_type": "markdown",
      "metadata": {
        "id": "D-XQ3H3NS1UN"
      },
      "source": [
        "**Logistic regression model**"
      ]
    },
    {
      "cell_type": "code",
      "metadata": {
        "id": "BzMVUr9GS2UJ"
      },
      "source": [
        "class MyLogitRegression() :\n",
        "    learning_rate = 0.01\n",
        "    iterations = 1000\n",
        "    # Function for model training    \n",
        "    def fit( self, X, Y ) :        \n",
        "        # no_of_training_examples, no_of_features        \n",
        "        self.m, self.n = X.shape        \n",
        "        # weight initialization        \n",
        "        self.W = np.zeros( self.n )        \n",
        "        self.b = 0        \n",
        "        self.X = X        \n",
        "        self.Y = Y\n",
        "          \n",
        "        # gradient descent learning\n",
        "                  \n",
        "        for i in range( self.iterations ) :            \n",
        "            self.update_weights()            \n",
        "        return self\n",
        "      \n",
        "    # Helper function to update weights in gradient descent\n",
        "      \n",
        "    def update_weights( self ) :           \n",
        "        A = 1 / ( 1 + np.exp( - ( self.X.dot( self.W ) + self.b ) ) )\n",
        "          \n",
        "        # calculate gradients        \n",
        "        tmp = ( A - self.Y.T )        \n",
        "        tmp = np.reshape( tmp, self.m )        \n",
        "        dW = np.dot( self.X.T, tmp ) / self.m         \n",
        "        db = np.sum( tmp ) / self.m \n",
        "          \n",
        "        # update weights    \n",
        "        self.W = self.W - self.learning_rate * dW    \n",
        "        self.b = self.b - self.learning_rate * db\n",
        "          \n",
        "        return self\n",
        "      \n",
        "    # Hypothetical function  h( x ) \n",
        "      \n",
        "    def predict( self, X ) :    \n",
        "        Z = 1 / ( 1 + np.exp( - ( X.dot( self.W ) + self.b ) ) )        \n",
        "        Y = np.where( Z > 0.5, 1, 0 )        \n",
        "        return Y"
      ],
      "execution_count": null,
      "outputs": []
    },
    {
      "cell_type": "code",
      "metadata": {
        "colab": {
          "base_uri": "https://localhost:8080/"
        },
        "id": "yatt6K7NS5El",
        "outputId": "a4404f79-856a-41df-be33-abe69c82e92a"
      },
      "source": [
        " mymodel = MyLogitRegression()\n",
        " mymodel.fit( X_train, Y_train ) "
      ],
      "execution_count": null,
      "outputs": [
        {
          "output_type": "execute_result",
          "data": {
            "text/plain": [
              "<__main__.MyLogitRegression at 0x7f8474abb950>"
            ]
          },
          "metadata": {},
          "execution_count": 59
        }
      ]
    },
    {
      "cell_type": "code",
      "metadata": {
        "id": "IT1CS3FeS7IC"
      },
      "source": [
        "Y_pred = mymodel.predict( X_test )    "
      ],
      "execution_count": null,
      "outputs": []
    },
    {
      "cell_type": "code",
      "metadata": {
        "colab": {
          "base_uri": "https://localhost:8080/"
        },
        "id": "42xCrn5ja2e7",
        "outputId": "eb53f0a2-58f0-4003-ea91-d3b50b72e8a2"
      },
      "source": [
        "from sklearn import metrics\n",
        "print(metrics.classification_report(Y_pred, Y_test))"
      ],
      "execution_count": null,
      "outputs": [
        {
          "output_type": "stream",
          "name": "stdout",
          "text": [
            "              precision    recall  f1-score   support\n",
            "\n",
            "           0       0.48      0.80      0.60       119\n",
            "           1       0.73      0.39      0.51       168\n",
            "\n",
            "    accuracy                           0.56       287\n",
            "   macro avg       0.61      0.59      0.55       287\n",
            "weighted avg       0.63      0.56      0.54       287\n",
            "\n"
          ]
        }
      ]
    },
    {
      "cell_type": "markdown",
      "metadata": {
        "id": "8iCnM2lRWoag"
      },
      "source": [
        "# 6. Implement  a  binomial  logistic  regression  learning  model  for  asuitable data set, where input attributes are inR2. Compute theConfusion Matrix of your model for the test data. Compute thefollowing measures for your learning model: (i)Recall (ii)Precision(iii) Accuracy (iv) F-measure."
      ]
    },
    {
      "cell_type": "code",
      "metadata": {
        "colab": {
          "base_uri": "https://localhost:8080/",
          "height": 423
        },
        "id": "1u-Wnb0yWsAm",
        "outputId": "f64a88f7-2c0f-4cef-8cb0-3e3b9095334f"
      },
      "source": [
        "df = pd.read_csv(\"/content/drive/MyDrive/Datasets/titanic.csv\", sep = ',')\n",
        "df"
      ],
      "execution_count": null,
      "outputs": [
        {
          "output_type": "execute_result",
          "data": {
            "text/html": [
              "<div>\n",
              "<style scoped>\n",
              "    .dataframe tbody tr th:only-of-type {\n",
              "        vertical-align: middle;\n",
              "    }\n",
              "\n",
              "    .dataframe tbody tr th {\n",
              "        vertical-align: top;\n",
              "    }\n",
              "\n",
              "    .dataframe thead th {\n",
              "        text-align: right;\n",
              "    }\n",
              "</style>\n",
              "<table border=\"1\" class=\"dataframe\">\n",
              "  <thead>\n",
              "    <tr style=\"text-align: right;\">\n",
              "      <th></th>\n",
              "      <th>PassengerId</th>\n",
              "      <th>Survived</th>\n",
              "      <th>Pclass</th>\n",
              "      <th>Name</th>\n",
              "      <th>Sex</th>\n",
              "      <th>Age</th>\n",
              "      <th>SibSp</th>\n",
              "      <th>Parch</th>\n",
              "      <th>Ticket</th>\n",
              "      <th>Fare</th>\n",
              "      <th>Cabin</th>\n",
              "      <th>Embarked</th>\n",
              "    </tr>\n",
              "  </thead>\n",
              "  <tbody>\n",
              "    <tr>\n",
              "      <th>0</th>\n",
              "      <td>1</td>\n",
              "      <td>0</td>\n",
              "      <td>3</td>\n",
              "      <td>Braund, Mr. Owen Harris</td>\n",
              "      <td>male</td>\n",
              "      <td>22.0</td>\n",
              "      <td>1</td>\n",
              "      <td>0</td>\n",
              "      <td>A/5 21171</td>\n",
              "      <td>7.2500</td>\n",
              "      <td>NaN</td>\n",
              "      <td>S</td>\n",
              "    </tr>\n",
              "    <tr>\n",
              "      <th>1</th>\n",
              "      <td>2</td>\n",
              "      <td>1</td>\n",
              "      <td>1</td>\n",
              "      <td>Cumings, Mrs. John Bradley (Florence Briggs Th...</td>\n",
              "      <td>female</td>\n",
              "      <td>38.0</td>\n",
              "      <td>1</td>\n",
              "      <td>0</td>\n",
              "      <td>PC 17599</td>\n",
              "      <td>71.2833</td>\n",
              "      <td>C85</td>\n",
              "      <td>C</td>\n",
              "    </tr>\n",
              "    <tr>\n",
              "      <th>2</th>\n",
              "      <td>3</td>\n",
              "      <td>1</td>\n",
              "      <td>3</td>\n",
              "      <td>Heikkinen, Miss. Laina</td>\n",
              "      <td>female</td>\n",
              "      <td>26.0</td>\n",
              "      <td>0</td>\n",
              "      <td>0</td>\n",
              "      <td>STON/O2. 3101282</td>\n",
              "      <td>7.9250</td>\n",
              "      <td>NaN</td>\n",
              "      <td>S</td>\n",
              "    </tr>\n",
              "    <tr>\n",
              "      <th>3</th>\n",
              "      <td>4</td>\n",
              "      <td>1</td>\n",
              "      <td>1</td>\n",
              "      <td>Futrelle, Mrs. Jacques Heath (Lily May Peel)</td>\n",
              "      <td>female</td>\n",
              "      <td>35.0</td>\n",
              "      <td>1</td>\n",
              "      <td>0</td>\n",
              "      <td>113803</td>\n",
              "      <td>53.1000</td>\n",
              "      <td>C123</td>\n",
              "      <td>S</td>\n",
              "    </tr>\n",
              "    <tr>\n",
              "      <th>4</th>\n",
              "      <td>5</td>\n",
              "      <td>0</td>\n",
              "      <td>3</td>\n",
              "      <td>Allen, Mr. William Henry</td>\n",
              "      <td>male</td>\n",
              "      <td>35.0</td>\n",
              "      <td>0</td>\n",
              "      <td>0</td>\n",
              "      <td>373450</td>\n",
              "      <td>8.0500</td>\n",
              "      <td>NaN</td>\n",
              "      <td>S</td>\n",
              "    </tr>\n",
              "    <tr>\n",
              "      <th>...</th>\n",
              "      <td>...</td>\n",
              "      <td>...</td>\n",
              "      <td>...</td>\n",
              "      <td>...</td>\n",
              "      <td>...</td>\n",
              "      <td>...</td>\n",
              "      <td>...</td>\n",
              "      <td>...</td>\n",
              "      <td>...</td>\n",
              "      <td>...</td>\n",
              "      <td>...</td>\n",
              "      <td>...</td>\n",
              "    </tr>\n",
              "    <tr>\n",
              "      <th>886</th>\n",
              "      <td>887</td>\n",
              "      <td>0</td>\n",
              "      <td>2</td>\n",
              "      <td>Montvila, Rev. Juozas</td>\n",
              "      <td>male</td>\n",
              "      <td>27.0</td>\n",
              "      <td>0</td>\n",
              "      <td>0</td>\n",
              "      <td>211536</td>\n",
              "      <td>13.0000</td>\n",
              "      <td>NaN</td>\n",
              "      <td>S</td>\n",
              "    </tr>\n",
              "    <tr>\n",
              "      <th>887</th>\n",
              "      <td>888</td>\n",
              "      <td>1</td>\n",
              "      <td>1</td>\n",
              "      <td>Graham, Miss. Margaret Edith</td>\n",
              "      <td>female</td>\n",
              "      <td>19.0</td>\n",
              "      <td>0</td>\n",
              "      <td>0</td>\n",
              "      <td>112053</td>\n",
              "      <td>30.0000</td>\n",
              "      <td>B42</td>\n",
              "      <td>S</td>\n",
              "    </tr>\n",
              "    <tr>\n",
              "      <th>888</th>\n",
              "      <td>889</td>\n",
              "      <td>0</td>\n",
              "      <td>3</td>\n",
              "      <td>Johnston, Miss. Catherine Helen \"Carrie\"</td>\n",
              "      <td>female</td>\n",
              "      <td>NaN</td>\n",
              "      <td>1</td>\n",
              "      <td>2</td>\n",
              "      <td>W./C. 6607</td>\n",
              "      <td>23.4500</td>\n",
              "      <td>NaN</td>\n",
              "      <td>S</td>\n",
              "    </tr>\n",
              "    <tr>\n",
              "      <th>889</th>\n",
              "      <td>890</td>\n",
              "      <td>1</td>\n",
              "      <td>1</td>\n",
              "      <td>Behr, Mr. Karl Howell</td>\n",
              "      <td>male</td>\n",
              "      <td>26.0</td>\n",
              "      <td>0</td>\n",
              "      <td>0</td>\n",
              "      <td>111369</td>\n",
              "      <td>30.0000</td>\n",
              "      <td>C148</td>\n",
              "      <td>C</td>\n",
              "    </tr>\n",
              "    <tr>\n",
              "      <th>890</th>\n",
              "      <td>891</td>\n",
              "      <td>0</td>\n",
              "      <td>3</td>\n",
              "      <td>Dooley, Mr. Patrick</td>\n",
              "      <td>male</td>\n",
              "      <td>32.0</td>\n",
              "      <td>0</td>\n",
              "      <td>0</td>\n",
              "      <td>370376</td>\n",
              "      <td>7.7500</td>\n",
              "      <td>NaN</td>\n",
              "      <td>Q</td>\n",
              "    </tr>\n",
              "  </tbody>\n",
              "</table>\n",
              "<p>891 rows × 12 columns</p>\n",
              "</div>"
            ],
            "text/plain": [
              "     PassengerId  Survived  Pclass  ...     Fare Cabin  Embarked\n",
              "0              1         0       3  ...   7.2500   NaN         S\n",
              "1              2         1       1  ...  71.2833   C85         C\n",
              "2              3         1       3  ...   7.9250   NaN         S\n",
              "3              4         1       1  ...  53.1000  C123         S\n",
              "4              5         0       3  ...   8.0500   NaN         S\n",
              "..           ...       ...     ...  ...      ...   ...       ...\n",
              "886          887         0       2  ...  13.0000   NaN         S\n",
              "887          888         1       1  ...  30.0000   B42         S\n",
              "888          889         0       3  ...  23.4500   NaN         S\n",
              "889          890         1       1  ...  30.0000  C148         C\n",
              "890          891         0       3  ...   7.7500   NaN         Q\n",
              "\n",
              "[891 rows x 12 columns]"
            ]
          },
          "metadata": {},
          "execution_count": 64
        }
      ]
    },
    {
      "cell_type": "code",
      "metadata": {
        "colab": {
          "base_uri": "https://localhost:8080/"
        },
        "id": "DAeTS0HJWyiC",
        "outputId": "9d83d1aa-0310-4d91-e614-f3ebb6f91286"
      },
      "source": [
        "# Count of Missing Values\n",
        "df.isnull().sum()"
      ],
      "execution_count": null,
      "outputs": [
        {
          "output_type": "execute_result",
          "data": {
            "text/plain": [
              "PassengerId      0\n",
              "Survived         0\n",
              "Pclass           0\n",
              "Name             0\n",
              "Sex              0\n",
              "Age            177\n",
              "SibSp            0\n",
              "Parch            0\n",
              "Ticket           0\n",
              "Fare             0\n",
              "Cabin          687\n",
              "Embarked         2\n",
              "dtype: int64"
            ]
          },
          "metadata": {},
          "execution_count": 65
        }
      ]
    },
    {
      "cell_type": "code",
      "metadata": {
        "id": "Vt7_3-4FW0cf"
      },
      "source": [
        "df.dropna(inplace=True)"
      ],
      "execution_count": null,
      "outputs": []
    },
    {
      "cell_type": "code",
      "metadata": {
        "id": "Zbg8P7oPW2HW"
      },
      "source": [
        "# target column is 'Survived\n",
        "X = df.drop(['PassengerId','Survived','Name','Sex','Ticket','Cabin','Embarked'], axis = 1)\n",
        "Y = df['Survived']\n"
      ],
      "execution_count": null,
      "outputs": []
    },
    {
      "cell_type": "code",
      "metadata": {
        "colab": {
          "base_uri": "https://localhost:8080/",
          "height": 423
        },
        "id": "ozjR08eaW39U",
        "outputId": "7ecd8322-fd55-4926-8003-cb1a905493e9"
      },
      "source": [
        "X"
      ],
      "execution_count": null,
      "outputs": [
        {
          "output_type": "execute_result",
          "data": {
            "text/html": [
              "<div>\n",
              "<style scoped>\n",
              "    .dataframe tbody tr th:only-of-type {\n",
              "        vertical-align: middle;\n",
              "    }\n",
              "\n",
              "    .dataframe tbody tr th {\n",
              "        vertical-align: top;\n",
              "    }\n",
              "\n",
              "    .dataframe thead th {\n",
              "        text-align: right;\n",
              "    }\n",
              "</style>\n",
              "<table border=\"1\" class=\"dataframe\">\n",
              "  <thead>\n",
              "    <tr style=\"text-align: right;\">\n",
              "      <th></th>\n",
              "      <th>Pclass</th>\n",
              "      <th>Age</th>\n",
              "      <th>SibSp</th>\n",
              "      <th>Parch</th>\n",
              "      <th>Fare</th>\n",
              "    </tr>\n",
              "  </thead>\n",
              "  <tbody>\n",
              "    <tr>\n",
              "      <th>1</th>\n",
              "      <td>1</td>\n",
              "      <td>38.0</td>\n",
              "      <td>1</td>\n",
              "      <td>0</td>\n",
              "      <td>71.2833</td>\n",
              "    </tr>\n",
              "    <tr>\n",
              "      <th>3</th>\n",
              "      <td>1</td>\n",
              "      <td>35.0</td>\n",
              "      <td>1</td>\n",
              "      <td>0</td>\n",
              "      <td>53.1000</td>\n",
              "    </tr>\n",
              "    <tr>\n",
              "      <th>6</th>\n",
              "      <td>1</td>\n",
              "      <td>54.0</td>\n",
              "      <td>0</td>\n",
              "      <td>0</td>\n",
              "      <td>51.8625</td>\n",
              "    </tr>\n",
              "    <tr>\n",
              "      <th>10</th>\n",
              "      <td>3</td>\n",
              "      <td>4.0</td>\n",
              "      <td>1</td>\n",
              "      <td>1</td>\n",
              "      <td>16.7000</td>\n",
              "    </tr>\n",
              "    <tr>\n",
              "      <th>11</th>\n",
              "      <td>1</td>\n",
              "      <td>58.0</td>\n",
              "      <td>0</td>\n",
              "      <td>0</td>\n",
              "      <td>26.5500</td>\n",
              "    </tr>\n",
              "    <tr>\n",
              "      <th>...</th>\n",
              "      <td>...</td>\n",
              "      <td>...</td>\n",
              "      <td>...</td>\n",
              "      <td>...</td>\n",
              "      <td>...</td>\n",
              "    </tr>\n",
              "    <tr>\n",
              "      <th>871</th>\n",
              "      <td>1</td>\n",
              "      <td>47.0</td>\n",
              "      <td>1</td>\n",
              "      <td>1</td>\n",
              "      <td>52.5542</td>\n",
              "    </tr>\n",
              "    <tr>\n",
              "      <th>872</th>\n",
              "      <td>1</td>\n",
              "      <td>33.0</td>\n",
              "      <td>0</td>\n",
              "      <td>0</td>\n",
              "      <td>5.0000</td>\n",
              "    </tr>\n",
              "    <tr>\n",
              "      <th>879</th>\n",
              "      <td>1</td>\n",
              "      <td>56.0</td>\n",
              "      <td>0</td>\n",
              "      <td>1</td>\n",
              "      <td>83.1583</td>\n",
              "    </tr>\n",
              "    <tr>\n",
              "      <th>887</th>\n",
              "      <td>1</td>\n",
              "      <td>19.0</td>\n",
              "      <td>0</td>\n",
              "      <td>0</td>\n",
              "      <td>30.0000</td>\n",
              "    </tr>\n",
              "    <tr>\n",
              "      <th>889</th>\n",
              "      <td>1</td>\n",
              "      <td>26.0</td>\n",
              "      <td>0</td>\n",
              "      <td>0</td>\n",
              "      <td>30.0000</td>\n",
              "    </tr>\n",
              "  </tbody>\n",
              "</table>\n",
              "<p>183 rows × 5 columns</p>\n",
              "</div>"
            ],
            "text/plain": [
              "     Pclass   Age  SibSp  Parch     Fare\n",
              "1         1  38.0      1      0  71.2833\n",
              "3         1  35.0      1      0  53.1000\n",
              "6         1  54.0      0      0  51.8625\n",
              "10        3   4.0      1      1  16.7000\n",
              "11        1  58.0      0      0  26.5500\n",
              "..      ...   ...    ...    ...      ...\n",
              "871       1  47.0      1      1  52.5542\n",
              "872       1  33.0      0      0   5.0000\n",
              "879       1  56.0      0      1  83.1583\n",
              "887       1  19.0      0      0  30.0000\n",
              "889       1  26.0      0      0  30.0000\n",
              "\n",
              "[183 rows x 5 columns]"
            ]
          },
          "metadata": {},
          "execution_count": 68
        }
      ]
    },
    {
      "cell_type": "code",
      "metadata": {
        "colab": {
          "base_uri": "https://localhost:8080/"
        },
        "id": "o9ngQtAhW6cm",
        "outputId": "cfdce913-1d49-4f69-f0e3-2ff29f29bfc9"
      },
      "source": [
        "Y"
      ],
      "execution_count": null,
      "outputs": [
        {
          "output_type": "execute_result",
          "data": {
            "text/plain": [
              "1      1\n",
              "3      1\n",
              "6      0\n",
              "10     1\n",
              "11     1\n",
              "      ..\n",
              "871    1\n",
              "872    0\n",
              "879    1\n",
              "887    1\n",
              "889    1\n",
              "Name: Survived, Length: 183, dtype: int64"
            ]
          },
          "metadata": {},
          "execution_count": 69
        }
      ]
    },
    {
      "cell_type": "code",
      "metadata": {
        "id": "qK_L1S4AW-vy"
      },
      "source": [
        "from sklearn.model_selection import train_test_split\n",
        "X_train, X_test, Y_train, Y_test = train_test_split(X, Y, test_size = 0.33, random_state = 5)"
      ],
      "execution_count": null,
      "outputs": []
    },
    {
      "cell_type": "code",
      "metadata": {
        "id": "N5QX1KGEXA_a"
      },
      "source": [
        "from sklearn.linear_model import LogisticRegression\n",
        "logit_model = LogisticRegression(C = 10, max_iter=100, solver='liblinear', tol=0.001,random_state=0)\n"
      ],
      "execution_count": null,
      "outputs": []
    },
    {
      "cell_type": "code",
      "metadata": {
        "colab": {
          "base_uri": "https://localhost:8080/"
        },
        "id": "ci4DrdbhXC6b",
        "outputId": "1f28bee3-ad97-424c-dd41-50b8ea5bfa7f"
      },
      "source": [
        "logit_model.fit(X_train, Y_train)"
      ],
      "execution_count": null,
      "outputs": [
        {
          "output_type": "execute_result",
          "data": {
            "text/plain": [
              "LogisticRegression(C=10, random_state=0, solver='liblinear', tol=0.001)"
            ]
          },
          "metadata": {},
          "execution_count": 72
        }
      ]
    },
    {
      "cell_type": "code",
      "metadata": {
        "id": "fZ_JDAh5XEgp"
      },
      "source": [
        "predictions = logit_model.predict(X_test)"
      ],
      "execution_count": null,
      "outputs": []
    },
    {
      "cell_type": "code",
      "metadata": {
        "colab": {
          "base_uri": "https://localhost:8080/",
          "height": 282
        },
        "id": "VfaiEw35XGDv",
        "outputId": "c060dcc4-79bd-4cc9-900e-afca4b1c71be"
      },
      "source": [
        "# heatmap of test dataset\n",
        "from sklearn.metrics import confusion_matrix, classification_report\n",
        "sns.heatmap(confusion_matrix(Y_test, predictions), annot = True, fmt='0.0f')\n"
      ],
      "execution_count": null,
      "outputs": [
        {
          "output_type": "execute_result",
          "data": {
            "text/plain": [
              "<matplotlib.axes._subplots.AxesSubplot at 0x7f8474b0ac50>"
            ]
          },
          "metadata": {},
          "execution_count": 74
        },
        {
          "output_type": "display_data",
          "data": {
            "image/png": "[encoded data removed]",
            "text/plain": [
              "<Figure size 432x288 with 2 Axes>"
            ]
          },
          "metadata": {
            "needs_background": "light"
          }
        }
      ]
    },
    {
      "cell_type": "code",
      "metadata": {
        "colab": {
          "base_uri": "https://localhost:8080/"
        },
        "id": "Adkuvlk4XRmm",
        "outputId": "d2fc4b2d-b7a9-4a97-fc84-41a74951da13"
      },
      "source": [
        "# Accuracy\n",
        "logit_model.score(X_test, Y_test)"
      ],
      "execution_count": null,
      "outputs": [
        {
          "output_type": "execute_result",
          "data": {
            "text/plain": [
              "0.6229508196721312"
            ]
          },
          "metadata": {},
          "execution_count": 75
        }
      ]
    },
    {
      "cell_type": "code",
      "metadata": {
        "colab": {
          "base_uri": "https://localhost:8080/"
        },
        "id": "RUnjXxjyXTQ1",
        "outputId": "3b231b75-fef1-42d2-db9d-a45398bd8751"
      },
      "source": [
        "# recall , precession , f1-score\n",
        "print(classification_report(Y_test, predictions))\n"
      ],
      "execution_count": null,
      "outputs": [
        {
          "output_type": "stream",
          "name": "stdout",
          "text": [
            "              precision    recall  f1-score   support\n",
            "\n",
            "           0       0.67      0.16      0.26        25\n",
            "           1       0.62      0.94      0.75        36\n",
            "\n",
            "    accuracy                           0.62        61\n",
            "   macro avg       0.64      0.55      0.50        61\n",
            "weighted avg       0.64      0.62      0.55        61\n",
            "\n"
          ]
        }
      ]
    },
    {
      "cell_type": "markdown",
      "metadata": {
        "id": "MGvdXYbZreFs"
      },
      "source": [
        "#8. Consider a data set with a minimum of four classes. Use sklearn logistic regression classifier with ‘One Vs One’ strategy and conduct the experiment E1. Train the sklearn classifier with ‘one vs rest’ strategy and conduct the experiment E2. Generate the classfication report for each of the experiment E1 and E2 and conclude which strategy works better for the dataset chosen by you."
      ]
    },
    {
      "cell_type": "code",
      "metadata": {
        "id": "IkaBQCTZ9T7T"
      },
      "source": [
        "import io\n",
        "D=pd.read_csv(\"/content/drive/MyDrive/Datasets/cardio_train.csv\",sep=';')"
      ],
      "execution_count": null,
      "outputs": []
    },
    {
      "cell_type": "code",
      "metadata": {
        "colab": {
          "base_uri": "https://localhost:8080/",
          "height": 206
        },
        "id": "kB-92vwl9T7T",
        "outputId": "ce84821e-e28c-4554-b72b-90b5a890a72b"
      },
      "source": [
        "D.head()"
      ],
      "execution_count": null,
      "outputs": [
        {
          "output_type": "execute_result",
          "data": {
            "text/html": [
              "<div>\n",
              "<style scoped>\n",
              "    .dataframe tbody tr th:only-of-type {\n",
              "        vertical-align: middle;\n",
              "    }\n",
              "\n",
              "    .dataframe tbody tr th {\n",
              "        vertical-align: top;\n",
              "    }\n",
              "\n",
              "    .dataframe thead th {\n",
              "        text-align: right;\n",
              "    }\n",
              "</style>\n",
              "<table border=\"1\" class=\"dataframe\">\n",
              "  <thead>\n",
              "    <tr style=\"text-align: right;\">\n",
              "      <th></th>\n",
              "      <th>id</th>\n",
              "      <th>age</th>\n",
              "      <th>gender</th>\n",
              "      <th>height</th>\n",
              "      <th>weight</th>\n",
              "      <th>ap_hi</th>\n",
              "      <th>ap_lo</th>\n",
              "      <th>cholesterol</th>\n",
              "      <th>gluc</th>\n",
              "      <th>smoke</th>\n",
              "      <th>alco</th>\n",
              "      <th>active</th>\n",
              "      <th>cardio</th>\n",
              "    </tr>\n",
              "  </thead>\n",
              "  <tbody>\n",
              "    <tr>\n",
              "      <th>0</th>\n",
              "      <td>0</td>\n",
              "      <td>18393</td>\n",
              "      <td>2</td>\n",
              "      <td>168</td>\n",
              "      <td>62.0</td>\n",
              "      <td>110</td>\n",
              "      <td>80</td>\n",
              "      <td>1</td>\n",
              "      <td>1</td>\n",
              "      <td>0</td>\n",
              "      <td>0</td>\n",
              "      <td>1</td>\n",
              "      <td>0</td>\n",
              "    </tr>\n",
              "    <tr>\n",
              "      <th>1</th>\n",
              "      <td>1</td>\n",
              "      <td>20228</td>\n",
              "      <td>1</td>\n",
              "      <td>156</td>\n",
              "      <td>85.0</td>\n",
              "      <td>140</td>\n",
              "      <td>90</td>\n",
              "      <td>3</td>\n",
              "      <td>1</td>\n",
              "      <td>0</td>\n",
              "      <td>0</td>\n",
              "      <td>1</td>\n",
              "      <td>1</td>\n",
              "    </tr>\n",
              "    <tr>\n",
              "      <th>2</th>\n",
              "      <td>2</td>\n",
              "      <td>18857</td>\n",
              "      <td>1</td>\n",
              "      <td>165</td>\n",
              "      <td>64.0</td>\n",
              "      <td>130</td>\n",
              "      <td>70</td>\n",
              "      <td>3</td>\n",
              "      <td>1</td>\n",
              "      <td>0</td>\n",
              "      <td>0</td>\n",
              "      <td>0</td>\n",
              "      <td>1</td>\n",
              "    </tr>\n",
              "    <tr>\n",
              "      <th>3</th>\n",
              "      <td>3</td>\n",
              "      <td>17623</td>\n",
              "      <td>2</td>\n",
              "      <td>169</td>\n",
              "      <td>82.0</td>\n",
              "      <td>150</td>\n",
              "      <td>100</td>\n",
              "      <td>1</td>\n",
              "      <td>1</td>\n",
              "      <td>0</td>\n",
              "      <td>0</td>\n",
              "      <td>1</td>\n",
              "      <td>1</td>\n",
              "    </tr>\n",
              "    <tr>\n",
              "      <th>4</th>\n",
              "      <td>4</td>\n",
              "      <td>17474</td>\n",
              "      <td>1</td>\n",
              "      <td>156</td>\n",
              "      <td>56.0</td>\n",
              "      <td>100</td>\n",
              "      <td>60</td>\n",
              "      <td>1</td>\n",
              "      <td>1</td>\n",
              "      <td>0</td>\n",
              "      <td>0</td>\n",
              "      <td>0</td>\n",
              "      <td>0</td>\n",
              "    </tr>\n",
              "  </tbody>\n",
              "</table>\n",
              "</div>"
            ],
            "text/plain": [
              "   id    age  gender  height  weight  ...  gluc  smoke  alco  active  cardio\n",
              "0   0  18393       2     168    62.0  ...     1      0     0       1       0\n",
              "1   1  20228       1     156    85.0  ...     1      0     0       1       1\n",
              "2   2  18857       1     165    64.0  ...     1      0     0       0       1\n",
              "3   3  17623       2     169    82.0  ...     1      0     0       1       1\n",
              "4   4  17474       1     156    56.0  ...     1      0     0       0       0\n",
              "\n",
              "[5 rows x 13 columns]"
            ]
          },
          "metadata": {},
          "execution_count": 79
        }
      ]
    },
    {
      "cell_type": "code",
      "metadata": {
        "colab": {
          "base_uri": "https://localhost:8080/"
        },
        "id": "ZGYoxVaP9T7U",
        "outputId": "f12fcc09-3c02-43f9-9e52-d3ed60108da3"
      },
      "source": [
        "D.isnull().sum()"
      ],
      "execution_count": null,
      "outputs": [
        {
          "output_type": "execute_result",
          "data": {
            "text/plain": [
              "id             0\n",
              "age            0\n",
              "gender         0\n",
              "height         0\n",
              "weight         0\n",
              "ap_hi          0\n",
              "ap_lo          0\n",
              "cholesterol    0\n",
              "gluc           0\n",
              "smoke          0\n",
              "alco           0\n",
              "active         0\n",
              "cardio         0\n",
              "dtype: int64"
            ]
          },
          "metadata": {},
          "execution_count": 80
        }
      ]
    },
    {
      "cell_type": "code",
      "metadata": {
        "id": "W-VAjTkijnPj",
        "colab": {
          "base_uri": "https://localhost:8080/",
          "height": 500
        },
        "outputId": "2ed081c7-662e-41a0-8322-299bf0458c80"
      },
      "source": [
        "plt.figure(figsize=(8,8))\n",
        "sns.distplot(D['cardio'], color='green')\n",
        "plt.show()"
      ],
      "execution_count": null,
      "outputs": [
        {
          "output_type": "display_data",
          "data": {
            "image/png": "[encoded data removed]",
            "text/plain": [
              "<Figure size 576x576 with 1 Axes>"
            ]
          },
          "metadata": {
            "needs_background": "light"
          }
        }
      ]
    },
    {
      "cell_type": "markdown",
      "metadata": {
        "id": "LTCWd-gNcrkx"
      },
      "source": [
        "The target column 'Stream' contains 6 classes. Hence, the distribution plot shows the density for each of them in a kind of bell shaped plot."
      ]
    },
    {
      "cell_type": "code",
      "metadata": {
        "colab": {
          "base_uri": "https://localhost:8080/",
          "height": 299
        },
        "id": "Wp20T5WVj0nW",
        "outputId": "29e6f252-a0d5-4b96-c94f-371759de6867"
      },
      "source": [
        "sns.boxplot(x=D['cardio'],orient='h',color='palegreen')"
      ],
      "execution_count": null,
      "outputs": [
        {
          "output_type": "execute_result",
          "data": {
            "text/plain": [
              "<matplotlib.axes._subplots.AxesSubplot at 0x7f847109ee50>"
            ]
          },
          "metadata": {},
          "execution_count": 82
        },
        {
          "output_type": "display_data",
          "data": {
            "image/png": "[encoded data removed]",
            "text/plain": [
              "<Figure size 432x288 with 1 Axes>"
            ]
          },
          "metadata": {
            "needs_background": "light"
          }
        }
      ]
    },
    {
      "cell_type": "code",
      "metadata": {
        "colab": {
          "base_uri": "https://localhost:8080/"
        },
        "id": "ZPPw0yHXj0nW",
        "outputId": "67111062-8c2d-4038-ce04-cdd98d229830"
      },
      "source": [
        "Q1 = D['cardio'].quantile(0.25)\n",
        "Q3 = D['cardio'].quantile(0.75)\n",
        "iqr = Q3 - Q1\n",
        "print(iqr)"
      ],
      "execution_count": null,
      "outputs": [
        {
          "output_type": "stream",
          "name": "stdout",
          "text": [
            "1.0\n"
          ]
        }
      ]
    },
    {
      "cell_type": "code",
      "metadata": {
        "colab": {
          "base_uri": "https://localhost:8080/"
        },
        "id": "RlRSeZbsj0nX",
        "outputId": "6d4fed54-a6f5-46c5-bb6d-82d0d8c67875"
      },
      "source": [
        "upper_limit = Q3 + 1.5 * iqr\n",
        "lower_limit = Q1 - 1.5 * iqr\n",
        "print(upper_limit,lower_limit)"
      ],
      "execution_count": null,
      "outputs": [
        {
          "output_type": "stream",
          "name": "stdout",
          "text": [
            "2.5 -1.5\n"
          ]
        }
      ]
    },
    {
      "cell_type": "code",
      "metadata": {
        "colab": {
          "base_uri": "https://localhost:8080/",
          "height": 50
        },
        "id": "SL35S68Tj0nX",
        "outputId": "39bef07e-6434-45b2-b79f-ecf92c03a88a"
      },
      "source": [
        "D[D['cardio'] > upper_limit]"
      ],
      "execution_count": null,
      "outputs": [
        {
          "output_type": "execute_result",
          "data": {
            "text/html": [
              "<div>\n",
              "<style scoped>\n",
              "    .dataframe tbody tr th:only-of-type {\n",
              "        vertical-align: middle;\n",
              "    }\n",
              "\n",
              "    .dataframe tbody tr th {\n",
              "        vertical-align: top;\n",
              "    }\n",
              "\n",
              "    .dataframe thead th {\n",
              "        text-align: right;\n",
              "    }\n",
              "</style>\n",
              "<table border=\"1\" class=\"dataframe\">\n",
              "  <thead>\n",
              "    <tr style=\"text-align: right;\">\n",
              "      <th></th>\n",
              "      <th>id</th>\n",
              "      <th>age</th>\n",
              "      <th>gender</th>\n",
              "      <th>height</th>\n",
              "      <th>weight</th>\n",
              "      <th>ap_hi</th>\n",
              "      <th>ap_lo</th>\n",
              "      <th>cholesterol</th>\n",
              "      <th>gluc</th>\n",
              "      <th>smoke</th>\n",
              "      <th>alco</th>\n",
              "      <th>active</th>\n",
              "      <th>cardio</th>\n",
              "    </tr>\n",
              "  </thead>\n",
              "  <tbody>\n",
              "  </tbody>\n",
              "</table>\n",
              "</div>"
            ],
            "text/plain": [
              "Empty DataFrame\n",
              "Columns: [id, age, gender, height, weight, ap_hi, ap_lo, cholesterol, gluc, smoke, alco, active, cardio]\n",
              "Index: []"
            ]
          },
          "metadata": {},
          "execution_count": 85
        }
      ]
    },
    {
      "cell_type": "code",
      "metadata": {
        "colab": {
          "base_uri": "https://localhost:8080/",
          "height": 50
        },
        "id": "PUvtowPfj0nX",
        "outputId": "fe081e66-fd1d-449e-be9f-41a6fb318384"
      },
      "source": [
        "D[D['cardio']<lower_limit]"
      ],
      "execution_count": null,
      "outputs": [
        {
          "output_type": "execute_result",
          "data": {
            "text/html": [
              "<div>\n",
              "<style scoped>\n",
              "    .dataframe tbody tr th:only-of-type {\n",
              "        vertical-align: middle;\n",
              "    }\n",
              "\n",
              "    .dataframe tbody tr th {\n",
              "        vertical-align: top;\n",
              "    }\n",
              "\n",
              "    .dataframe thead th {\n",
              "        text-align: right;\n",
              "    }\n",
              "</style>\n",
              "<table border=\"1\" class=\"dataframe\">\n",
              "  <thead>\n",
              "    <tr style=\"text-align: right;\">\n",
              "      <th></th>\n",
              "      <th>id</th>\n",
              "      <th>age</th>\n",
              "      <th>gender</th>\n",
              "      <th>height</th>\n",
              "      <th>weight</th>\n",
              "      <th>ap_hi</th>\n",
              "      <th>ap_lo</th>\n",
              "      <th>cholesterol</th>\n",
              "      <th>gluc</th>\n",
              "      <th>smoke</th>\n",
              "      <th>alco</th>\n",
              "      <th>active</th>\n",
              "      <th>cardio</th>\n",
              "    </tr>\n",
              "  </thead>\n",
              "  <tbody>\n",
              "  </tbody>\n",
              "</table>\n",
              "</div>"
            ],
            "text/plain": [
              "Empty DataFrame\n",
              "Columns: [id, age, gender, height, weight, ap_hi, ap_lo, cholesterol, gluc, smoke, alco, active, cardio]\n",
              "Index: []"
            ]
          },
          "metadata": {},
          "execution_count": 86
        }
      ]
    },
    {
      "cell_type": "markdown",
      "metadata": {
        "id": "4Fku6LhLj0nY"
      },
      "source": [
        "From the box plot and the results above we can see that there are no rows having target column ('Stream') values above the upper limit or below the lower limit, showing that there are no outliers present. But we can still do outlier capping which will have no effect on the data set."
      ]
    },
    {
      "cell_type": "code",
      "metadata": {
        "id": "zQFzO8jUj0nY"
      },
      "source": [
        "newDF=D.copy()\n",
        "newDF['cardio']=np.where(\n",
        "    newDF['cardio']>upper_limit,\n",
        "    upper_limit,\n",
        "    np.where(\n",
        "        newDF['cardio']<lower_limit,\n",
        "        lower_limit,\n",
        "        newDF['cardio']\n",
        "    )\n",
        ")"
      ],
      "execution_count": null,
      "outputs": []
    },
    {
      "cell_type": "markdown",
      "metadata": {
        "id": "sieWLVVsCyQK"
      },
      "source": [
        "No categorical or object data types are present. So, we don't have to do any kind of conversion from categorical or object to numerical data type."
      ]
    },
    {
      "cell_type": "code",
      "metadata": {
        "colab": {
          "base_uri": "https://localhost:8080/",
          "height": 722
        },
        "id": "xoKtd65pt2WU",
        "outputId": "aa36f26a-a5c0-4a3e-e37a-1269e00d9488"
      },
      "source": [
        "import seaborn as sns\n",
        "plt.figure(figsize=(12,12))\n",
        "sns.heatmap(newDF.corr('pearson'),annot=True)"
      ],
      "execution_count": null,
      "outputs": [
        {
          "output_type": "execute_result",
          "data": {
            "text/plain": [
              "<matplotlib.axes._subplots.AxesSubplot at 0x7f84710823d0>"
            ]
          },
          "metadata": {},
          "execution_count": 88
        },
        {
          "output_type": "display_data",
          "data": {
            "image/png": "[encoded data removed]",
            "text/plain": [
              "<Figure size 864x864 with 2 Axes>"
            ]
          },
          "metadata": {
            "needs_background": "light"
          }
        }
      ]
    },
    {
      "cell_type": "code",
      "metadata": {
        "id": "uomIaKQDt2WU"
      },
      "source": [
        "X=newDF.drop(['height','alco','cardio'],axis=1)\n",
        "Y=newDF['cardio']"
      ],
      "execution_count": null,
      "outputs": []
    },
    {
      "cell_type": "code",
      "metadata": {
        "colab": {
          "base_uri": "https://localhost:8080/",
          "height": 423
        },
        "id": "m5riv2rrt2WU",
        "outputId": "2a2beedc-44f3-4152-a7df-89aa1ad75cdf"
      },
      "source": [
        "X"
      ],
      "execution_count": null,
      "outputs": [
        {
          "output_type": "execute_result",
          "data": {
            "text/html": [
              "<div>\n",
              "<style scoped>\n",
              "    .dataframe tbody tr th:only-of-type {\n",
              "        vertical-align: middle;\n",
              "    }\n",
              "\n",
              "    .dataframe tbody tr th {\n",
              "        vertical-align: top;\n",
              "    }\n",
              "\n",
              "    .dataframe thead th {\n",
              "        text-align: right;\n",
              "    }\n",
              "</style>\n",
              "<table border=\"1\" class=\"dataframe\">\n",
              "  <thead>\n",
              "    <tr style=\"text-align: right;\">\n",
              "      <th></th>\n",
              "      <th>id</th>\n",
              "      <th>age</th>\n",
              "      <th>gender</th>\n",
              "      <th>weight</th>\n",
              "      <th>ap_hi</th>\n",
              "      <th>ap_lo</th>\n",
              "      <th>cholesterol</th>\n",
              "      <th>gluc</th>\n",
              "      <th>smoke</th>\n",
              "      <th>active</th>\n",
              "    </tr>\n",
              "  </thead>\n",
              "  <tbody>\n",
              "    <tr>\n",
              "      <th>0</th>\n",
              "      <td>0</td>\n",
              "      <td>18393</td>\n",
              "      <td>2</td>\n",
              "      <td>62.0</td>\n",
              "      <td>110</td>\n",
              "      <td>80</td>\n",
              "      <td>1</td>\n",
              "      <td>1</td>\n",
              "      <td>0</td>\n",
              "      <td>1</td>\n",
              "    </tr>\n",
              "    <tr>\n",
              "      <th>1</th>\n",
              "      <td>1</td>\n",
              "      <td>20228</td>\n",
              "      <td>1</td>\n",
              "      <td>85.0</td>\n",
              "      <td>140</td>\n",
              "      <td>90</td>\n",
              "      <td>3</td>\n",
              "      <td>1</td>\n",
              "      <td>0</td>\n",
              "      <td>1</td>\n",
              "    </tr>\n",
              "    <tr>\n",
              "      <th>2</th>\n",
              "      <td>2</td>\n",
              "      <td>18857</td>\n",
              "      <td>1</td>\n",
              "      <td>64.0</td>\n",
              "      <td>130</td>\n",
              "      <td>70</td>\n",
              "      <td>3</td>\n",
              "      <td>1</td>\n",
              "      <td>0</td>\n",
              "      <td>0</td>\n",
              "    </tr>\n",
              "    <tr>\n",
              "      <th>3</th>\n",
              "      <td>3</td>\n",
              "      <td>17623</td>\n",
              "      <td>2</td>\n",
              "      <td>82.0</td>\n",
              "      <td>150</td>\n",
              "      <td>100</td>\n",
              "      <td>1</td>\n",
              "      <td>1</td>\n",
              "      <td>0</td>\n",
              "      <td>1</td>\n",
              "    </tr>\n",
              "    <tr>\n",
              "      <th>4</th>\n",
              "      <td>4</td>\n",
              "      <td>17474</td>\n",
              "      <td>1</td>\n",
              "      <td>56.0</td>\n",
              "      <td>100</td>\n",
              "      <td>60</td>\n",
              "      <td>1</td>\n",
              "      <td>1</td>\n",
              "      <td>0</td>\n",
              "      <td>0</td>\n",
              "    </tr>\n",
              "    <tr>\n",
              "      <th>...</th>\n",
              "      <td>...</td>\n",
              "      <td>...</td>\n",
              "      <td>...</td>\n",
              "      <td>...</td>\n",
              "      <td>...</td>\n",
              "      <td>...</td>\n",
              "      <td>...</td>\n",
              "      <td>...</td>\n",
              "      <td>...</td>\n",
              "      <td>...</td>\n",
              "    </tr>\n",
              "    <tr>\n",
              "      <th>69995</th>\n",
              "      <td>99993</td>\n",
              "      <td>19240</td>\n",
              "      <td>2</td>\n",
              "      <td>76.0</td>\n",
              "      <td>120</td>\n",
              "      <td>80</td>\n",
              "      <td>1</td>\n",
              "      <td>1</td>\n",
              "      <td>1</td>\n",
              "      <td>1</td>\n",
              "    </tr>\n",
              "    <tr>\n",
              "      <th>69996</th>\n",
              "      <td>99995</td>\n",
              "      <td>22601</td>\n",
              "      <td>1</td>\n",
              "      <td>126.0</td>\n",
              "      <td>140</td>\n",
              "      <td>90</td>\n",
              "      <td>2</td>\n",
              "      <td>2</td>\n",
              "      <td>0</td>\n",
              "      <td>1</td>\n",
              "    </tr>\n",
              "    <tr>\n",
              "      <th>69997</th>\n",
              "      <td>99996</td>\n",
              "      <td>19066</td>\n",
              "      <td>2</td>\n",
              "      <td>105.0</td>\n",
              "      <td>180</td>\n",
              "      <td>90</td>\n",
              "      <td>3</td>\n",
              "      <td>1</td>\n",
              "      <td>0</td>\n",
              "      <td>0</td>\n",
              "    </tr>\n",
              "    <tr>\n",
              "      <th>69998</th>\n",
              "      <td>99998</td>\n",
              "      <td>22431</td>\n",
              "      <td>1</td>\n",
              "      <td>72.0</td>\n",
              "      <td>135</td>\n",
              "      <td>80</td>\n",
              "      <td>1</td>\n",
              "      <td>2</td>\n",
              "      <td>0</td>\n",
              "      <td>0</td>\n",
              "    </tr>\n",
              "    <tr>\n",
              "      <th>69999</th>\n",
              "      <td>99999</td>\n",
              "      <td>20540</td>\n",
              "      <td>1</td>\n",
              "      <td>72.0</td>\n",
              "      <td>120</td>\n",
              "      <td>80</td>\n",
              "      <td>2</td>\n",
              "      <td>1</td>\n",
              "      <td>0</td>\n",
              "      <td>1</td>\n",
              "    </tr>\n",
              "  </tbody>\n",
              "</table>\n",
              "<p>70000 rows × 10 columns</p>\n",
              "</div>"
            ],
            "text/plain": [
              "          id    age  gender  weight  ...  cholesterol  gluc  smoke  active\n",
              "0          0  18393       2    62.0  ...            1     1      0       1\n",
              "1          1  20228       1    85.0  ...            3     1      0       1\n",
              "2          2  18857       1    64.0  ...            3     1      0       0\n",
              "3          3  17623       2    82.0  ...            1     1      0       1\n",
              "4          4  17474       1    56.0  ...            1     1      0       0\n",
              "...      ...    ...     ...     ...  ...          ...   ...    ...     ...\n",
              "69995  99993  19240       2    76.0  ...            1     1      1       1\n",
              "69996  99995  22601       1   126.0  ...            2     2      0       1\n",
              "69997  99996  19066       2   105.0  ...            3     1      0       0\n",
              "69998  99998  22431       1    72.0  ...            1     2      0       0\n",
              "69999  99999  20540       1    72.0  ...            2     1      0       1\n",
              "\n",
              "[70000 rows x 10 columns]"
            ]
          },
          "metadata": {},
          "execution_count": 90
        }
      ]
    },
    {
      "cell_type": "code",
      "metadata": {
        "colab": {
          "base_uri": "https://localhost:8080/"
        },
        "id": "WGHb9kiAv-6l",
        "outputId": "d3fd454c-7610-4e94-bda2-48b2bc62ccbd"
      },
      "source": [
        "Y.head()"
      ],
      "execution_count": null,
      "outputs": [
        {
          "output_type": "execute_result",
          "data": {
            "text/plain": [
              "0    0.0\n",
              "1    1.0\n",
              "2    1.0\n",
              "3    1.0\n",
              "4    0.0\n",
              "Name: cardio, dtype: float64"
            ]
          },
          "metadata": {},
          "execution_count": 91
        }
      ]
    },
    {
      "cell_type": "markdown",
      "metadata": {
        "id": "i-uQIjZdGx3e"
      },
      "source": [
        "Splitting the data into training and test data in the ratio of 80:20."
      ]
    },
    {
      "cell_type": "code",
      "metadata": {
        "id": "YzzMro8Tt2WU"
      },
      "source": [
        "from sklearn.model_selection import train_test_split\n",
        "X_train, X_test, Y_train, Y_test=train_test_split(X, Y , test_size=0.2,random_state=3,shuffle=True)"
      ],
      "execution_count": null,
      "outputs": []
    },
    {
      "cell_type": "markdown",
      "metadata": {
        "id": "MbWFxvCPG4e2"
      },
      "source": [
        "Standardizing the training and test data."
      ]
    },
    {
      "cell_type": "code",
      "metadata": {
        "id": "qyvOQE-OlgEO"
      },
      "source": [
        "from imblearn.over_sampling import SMOTE\n",
        "sm=SMOTE(random_state=42)\n",
        "X_train, Y_train=sm.fit_resample(X_train, Y_train)"
      ],
      "execution_count": null,
      "outputs": []
    },
    {
      "cell_type": "code",
      "metadata": {
        "id": "tXUPx4JklgEO"
      },
      "source": [
        "X_Full=np.hstack((X_train,Y_train.values.reshape(-1,1)))"
      ],
      "execution_count": null,
      "outputs": []
    },
    {
      "cell_type": "code",
      "metadata": {
        "id": "oZaQOil6t2WV"
      },
      "source": [
        "from sklearn.preprocessing import MinMaxScaler\n",
        "scaler=MinMaxScaler(feature_range=(0,1))\n",
        "X_train=scaler.fit_transform(X_train)\n",
        "X_test=scaler.transform(X_test)"
      ],
      "execution_count": null,
      "outputs": []
    },
    {
      "cell_type": "code",
      "metadata": {
        "id": "ZDn42nNbt2WV"
      },
      "source": [
        "from sklearn.tree import DecisionTreeClassifier\n",
        "from sklearn.linear_model import LogisticRegression\n",
        "from sklearn.multiclass import OneVsOneClassifier, OneVsRestClassifier\n",
        "from sklearn import metrics\n",
        "from sklearn.utils import shuffle"
      ],
      "execution_count": null,
      "outputs": []
    },
    {
      "cell_type": "markdown",
      "metadata": {
        "id": "3rDtWCVU-qEf"
      },
      "source": [
        "ONE V ONE"
      ]
    },
    {
      "cell_type": "code",
      "metadata": {
        "id": "K3g2LyHDzwCt",
        "colab": {
          "base_uri": "https://localhost:8080/"
        },
        "outputId": "496a8cf0-74d8-4a00-a142-7cb594b44dc8"
      },
      "source": [
        "model=LogisticRegression()\n",
        "ovo=OneVsOneClassifier(model)\n",
        "ovo.fit(X_train, Y_train.values.ravel())"
      ],
      "execution_count": null,
      "outputs": [
        {
          "output_type": "execute_result",
          "data": {
            "text/plain": [
              "OneVsOneClassifier(estimator=LogisticRegression())"
            ]
          },
          "metadata": {},
          "execution_count": 97
        }
      ]
    },
    {
      "cell_type": "code",
      "metadata": {
        "id": "YMgk8ZrzmAp9",
        "colab": {
          "base_uri": "https://localhost:8080/"
        },
        "outputId": "fca7aa92-429e-49c2-c73a-c9e70d06ecf6"
      },
      "source": [
        "ovo_test_pred=ovo.predict(X_test)\n",
        "print(metrics.classification_report(ovo_test_pred, Y_test))"
      ],
      "execution_count": null,
      "outputs": [
        {
          "output_type": "stream",
          "name": "stdout",
          "text": [
            "              precision    recall  f1-score   support\n",
            "\n",
            "         0.0       0.67      0.64      0.65      7389\n",
            "         1.0       0.62      0.65      0.63      6611\n",
            "\n",
            "    accuracy                           0.64     14000\n",
            "   macro avg       0.64      0.64      0.64     14000\n",
            "weighted avg       0.64      0.64      0.64     14000\n",
            "\n"
          ]
        }
      ]
    },
    {
      "cell_type": "code",
      "metadata": {
        "id": "Wvoz4wlOmVIh",
        "colab": {
          "base_uri": "https://localhost:8080/",
          "height": 282
        },
        "outputId": "bd9cea62-ac42-4392-98df-1a6b4990fcf7"
      },
      "source": [
        "sns.heatmap(metrics.confusion_matrix(Y_test, ovo_test_pred), annot=True, fmt='0.0f')"
      ],
      "execution_count": null,
      "outputs": [
        {
          "output_type": "execute_result",
          "data": {
            "text/plain": [
              "<matplotlib.axes._subplots.AxesSubplot at 0x7f846bd036d0>"
            ]
          },
          "metadata": {},
          "execution_count": 99
        },
        {
          "output_type": "display_data",
          "data": {
            "image/png": "[encoded data removed]",
            "text/plain": [
              "<Figure size 432x288 with 2 Axes>"
            ]
          },
          "metadata": {
            "needs_background": "light"
          }
        }
      ]
    },
    {
      "cell_type": "code",
      "metadata": {
        "id": "QBtPB0fpmIkc",
        "colab": {
          "base_uri": "https://localhost:8080/"
        },
        "outputId": "2fb29c26-41bb-470b-f0be-4666bf3e227d"
      },
      "source": [
        "ovo_train_pred=ovo.predict(X_train)\n",
        "print(metrics.classification_report(ovo_train_pred, Y_train))"
      ],
      "execution_count": null,
      "outputs": [
        {
          "output_type": "stream",
          "name": "stdout",
          "text": [
            "              precision    recall  f1-score   support\n",
            "\n",
            "         0.0       0.68      0.64      0.66     29768\n",
            "         1.0       0.62      0.66      0.64     26344\n",
            "\n",
            "    accuracy                           0.65     56112\n",
            "   macro avg       0.65      0.65      0.65     56112\n",
            "weighted avg       0.65      0.65      0.65     56112\n",
            "\n"
          ]
        }
      ]
    },
    {
      "cell_type": "code",
      "metadata": {
        "id": "AImGV9fgmerT",
        "colab": {
          "base_uri": "https://localhost:8080/",
          "height": 282
        },
        "outputId": "e9e8eeba-d48b-4102-884d-91829742dd51"
      },
      "source": [
        "sns.heatmap(metrics.confusion_matrix(Y_train, ovo_train_pred), annot=True, fmt='0.0f')"
      ],
      "execution_count": null,
      "outputs": [
        {
          "output_type": "execute_result",
          "data": {
            "text/plain": [
              "<matplotlib.axes._subplots.AxesSubplot at 0x7f846bc91e90>"
            ]
          },
          "metadata": {},
          "execution_count": 101
        },
        {
          "output_type": "display_data",
          "data": {
            "image/png": "[encoded data removed]",
            "text/plain": [
              "<Figure size 432x288 with 2 Axes>"
            ]
          },
          "metadata": {
            "needs_background": "light"
          }
        }
      ]
    },
    {
      "cell_type": "markdown",
      "metadata": {
        "id": "HOscV3590SDK"
      },
      "source": [
        "One vs Rest Classifier -"
      ]
    },
    {
      "cell_type": "code",
      "metadata": {
        "id": "GmN2FNV20RZY",
        "colab": {
          "base_uri": "https://localhost:8080/"
        },
        "outputId": "e685aae7-3e82-4c1f-a5ea-fc03363020e6"
      },
      "source": [
        "ovr=OneVsRestClassifier(model)\n",
        "ovr.fit(X_train, Y_train.values.ravel())"
      ],
      "execution_count": null,
      "outputs": [
        {
          "output_type": "execute_result",
          "data": {
            "text/plain": [
              "OneVsRestClassifier(estimator=LogisticRegression())"
            ]
          },
          "metadata": {},
          "execution_count": 102
        }
      ]
    },
    {
      "cell_type": "code",
      "metadata": {
        "id": "ZZ9ujtzZml-Y",
        "colab": {
          "base_uri": "https://localhost:8080/"
        },
        "outputId": "8c014df5-cc46-4470-f64d-6c7b0b86f29f"
      },
      "source": [
        "ovr_test_pred=ovr.predict(X_test)\n",
        "print(metrics.classification_report(ovr_test_pred, Y_test))"
      ],
      "execution_count": null,
      "outputs": [
        {
          "output_type": "stream",
          "name": "stdout",
          "text": [
            "              precision    recall  f1-score   support\n",
            "\n",
            "         0.0       0.67      0.64      0.65      7389\n",
            "         1.0       0.62      0.65      0.63      6611\n",
            "\n",
            "    accuracy                           0.64     14000\n",
            "   macro avg       0.64      0.64      0.64     14000\n",
            "weighted avg       0.64      0.64      0.64     14000\n",
            "\n"
          ]
        }
      ]
    },
    {
      "cell_type": "code",
      "metadata": {
        "id": "OoQd5XNqmpTc",
        "colab": {
          "base_uri": "https://localhost:8080/",
          "height": 282
        },
        "outputId": "3f51232c-2f45-442a-fbd9-189f4bbf4901"
      },
      "source": [
        "sns.heatmap(metrics.confusion_matrix(Y_test, ovr_test_pred), annot=True, fmt='0.0f')"
      ],
      "execution_count": null,
      "outputs": [
        {
          "output_type": "execute_result",
          "data": {
            "text/plain": [
              "<matplotlib.axes._subplots.AxesSubplot at 0x7f8474a84c50>"
            ]
          },
          "metadata": {},
          "execution_count": 104
        },
        {
          "output_type": "display_data",
          "data": {
            "image/png": "[encoded data removed]",
            "text/plain": [
              "<Figure size 432x288 with 2 Axes>"
            ]
          },
          "metadata": {
            "needs_background": "light"
          }
        }
      ]
    },
    {
      "cell_type": "code",
      "metadata": {
        "id": "YMIJRHHxmxn4",
        "colab": {
          "base_uri": "https://localhost:8080/"
        },
        "outputId": "203a4845-58c4-4897-a69d-f972bba053f9"
      },
      "source": [
        "ovr_train_pred=ovr.predict(X_train)\n",
        "print(metrics.classification_report(ovr_train_pred, Y_train))"
      ],
      "execution_count": null,
      "outputs": [
        {
          "output_type": "stream",
          "name": "stdout",
          "text": [
            "              precision    recall  f1-score   support\n",
            "\n",
            "         0.0       0.68      0.64      0.66     29768\n",
            "         1.0       0.62      0.66      0.64     26344\n",
            "\n",
            "    accuracy                           0.65     56112\n",
            "   macro avg       0.65      0.65      0.65     56112\n",
            "weighted avg       0.65      0.65      0.65     56112\n",
            "\n"
          ]
        }
      ]
    },
    {
      "cell_type": "code",
      "metadata": {
        "id": "ygcT6mkdmtL9",
        "colab": {
          "base_uri": "https://localhost:8080/",
          "height": 282
        },
        "outputId": "9049f152-c334-46a9-a180-559873951f46"
      },
      "source": [
        "sns.heatmap(metrics.confusion_matrix(Y_train, ovo_train_pred), annot=True, fmt='0.0f')"
      ],
      "execution_count": null,
      "outputs": [
        {
          "output_type": "execute_result",
          "data": {
            "text/plain": [
              "<matplotlib.axes._subplots.AxesSubplot at 0x7f84715ea9d0>"
            ]
          },
          "metadata": {},
          "execution_count": 106
        },
        {
          "output_type": "display_data",
          "data": {
            "image/png": "[encoded data removed]",
            "text/plain": [
              "<Figure size 432x288 with 2 Axes>"
            ]
          },
          "metadata": {
            "needs_background": "light"
          }
        }
      ]
    }
  ]
}