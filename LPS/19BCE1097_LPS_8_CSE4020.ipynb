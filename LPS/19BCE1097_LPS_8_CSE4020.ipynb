{
  "nbformat": 4,
  "nbformat_minor": 0,
  "metadata": {
    "colab": {
      "name": "19BCE1097 - LPS 8 - CSE4020.ipynb",
      "provenance": []
    },
    "kernelspec": {
      "name": "python3",
      "display_name": "Python 3"
    },
    "language_info": {
      "name": "python"
    }
  },
  "cells": [
    {
      "cell_type": "markdown",
      "metadata": {
        "id": "5CEgFP1C1ubZ"
      },
      "source": [
        "## **Name: Yash Vardhan Sharma**\n",
        "## **Registration Number: 19BCE1097**\n",
        "\n",
        "Code of Academic Integrity\n",
        "\n",
        "* I affirm that\n",
        "* This work is my own original work and is not a borrowed work,\n",
        "\n",
        "*   This work is my own original work and is not a borrowed work, either from other students or from assignments for other courses.\n",
        "\n",
        "*   I have not given or received any unauthorized help on this as\u0002signment.\n",
        "\n",
        "*   This submission is free from Plagiarism, Fabrication of facts, Unauthorized assistance, collusion\n",
        "\n",
        "*   This submission gives proper credit to sources and references, acknowledges the contributions and ideas of others relevant to this academic work.\n",
        "\n",
        "*   This submission was prepared by me fully adhering to the rules that govern this assignment regarding resource material, elec\u0002tronic aids, copying, collaborating with others, or engaging in any other behavior that subverts the purpose of the assignment and the directions of the teacher.\n"
      ]
    },
    {
      "cell_type": "markdown",
      "metadata": {
        "id": "vVZi2k531wj2"
      },
      "source": [
        "# **Lab Practice Sheet 8**"
      ]
    },
    {
      "cell_type": "markdown",
      "metadata": {
        "id": "dS9kEEZfTCe1"
      },
      "source": [
        "## 1. Train a SVM model with a dataset (with two classes) which is not linerly separable with the following kernals\n",
        "\n",
        "* Linear kernel\n",
        "* Polynomial Kernel of degree k. choose a k of your choice.\n",
        "* RBF(Gaussian Kernel)\n",
        "* Sigmoid\n",
        "\n",
        "## Based on the output of your experiment, conclude which kernel makes the SVM model learns better. Identify the data points which are support vectors with all the above four kernels.\n",
        "\n"
      ]
    },
    {
      "cell_type": "code",
      "metadata": {
        "id": "TsMJmhbwTDqb"
      },
      "source": [
        "import pandas as pd\n",
        "import numpy as np\n",
        "import matplotlib.pyplot as plt\n",
        "%matplotlib inline"
      ],
      "execution_count": null,
      "outputs": []
    },
    {
      "cell_type": "code",
      "metadata": {
        "id": "WXTvNm-QaCCN"
      },
      "source": [
        "bankdata = pd.read_csv(\"/content/drive/MyDrive/Datasets/bill_authentication.csv\")"
      ],
      "execution_count": null,
      "outputs": []
    },
    {
      "cell_type": "code",
      "metadata": {
        "colab": {
          "base_uri": "https://localhost:8080/"
        },
        "id": "lnVwtEItaGli",
        "outputId": "c9164e20-7d9c-45bd-c003-614186bf9d27"
      },
      "source": [
        "bankdata.shape"
      ],
      "execution_count": null,
      "outputs": [
        {
          "output_type": "execute_result",
          "data": {
            "text/plain": [
              "(1372, 5)"
            ]
          },
          "metadata": {},
          "execution_count": 17
        }
      ]
    },
    {
      "cell_type": "code",
      "metadata": {
        "colab": {
          "base_uri": "https://localhost:8080/",
          "height": 206
        },
        "id": "ZbfOBEFQaKU-",
        "outputId": "20a912e5-0931-4be9-cc8c-1d92a7f1e985"
      },
      "source": [
        "bankdata.head()"
      ],
      "execution_count": null,
      "outputs": [
        {
          "output_type": "execute_result",
          "data": {
            "text/html": [
              "<div>\n",
              "<style scoped>\n",
              "    .dataframe tbody tr th:only-of-type {\n",
              "        vertical-align: middle;\n",
              "    }\n",
              "\n",
              "    .dataframe tbody tr th {\n",
              "        vertical-align: top;\n",
              "    }\n",
              "\n",
              "    .dataframe thead th {\n",
              "        text-align: right;\n",
              "    }\n",
              "</style>\n",
              "<table border=\"1\" class=\"dataframe\">\n",
              "  <thead>\n",
              "    <tr style=\"text-align: right;\">\n",
              "      <th></th>\n",
              "      <th>Variance</th>\n",
              "      <th>Skewness</th>\n",
              "      <th>Curtosis</th>\n",
              "      <th>Entropy</th>\n",
              "      <th>Class</th>\n",
              "    </tr>\n",
              "  </thead>\n",
              "  <tbody>\n",
              "    <tr>\n",
              "      <th>0</th>\n",
              "      <td>3.62160</td>\n",
              "      <td>8.6661</td>\n",
              "      <td>-2.8073</td>\n",
              "      <td>-0.44699</td>\n",
              "      <td>0</td>\n",
              "    </tr>\n",
              "    <tr>\n",
              "      <th>1</th>\n",
              "      <td>4.54590</td>\n",
              "      <td>8.1674</td>\n",
              "      <td>-2.4586</td>\n",
              "      <td>-1.46210</td>\n",
              "      <td>0</td>\n",
              "    </tr>\n",
              "    <tr>\n",
              "      <th>2</th>\n",
              "      <td>3.86600</td>\n",
              "      <td>-2.6383</td>\n",
              "      <td>1.9242</td>\n",
              "      <td>0.10645</td>\n",
              "      <td>0</td>\n",
              "    </tr>\n",
              "    <tr>\n",
              "      <th>3</th>\n",
              "      <td>3.45660</td>\n",
              "      <td>9.5228</td>\n",
              "      <td>-4.0112</td>\n",
              "      <td>-3.59440</td>\n",
              "      <td>0</td>\n",
              "    </tr>\n",
              "    <tr>\n",
              "      <th>4</th>\n",
              "      <td>0.32924</td>\n",
              "      <td>-4.4552</td>\n",
              "      <td>4.5718</td>\n",
              "      <td>-0.98880</td>\n",
              "      <td>0</td>\n",
              "    </tr>\n",
              "  </tbody>\n",
              "</table>\n",
              "</div>"
            ],
            "text/plain": [
              "   Variance  Skewness  Curtosis  Entropy  Class\n",
              "0   3.62160    8.6661   -2.8073 -0.44699      0\n",
              "1   4.54590    8.1674   -2.4586 -1.46210      0\n",
              "2   3.86600   -2.6383    1.9242  0.10645      0\n",
              "3   3.45660    9.5228   -4.0112 -3.59440      0\n",
              "4   0.32924   -4.4552    4.5718 -0.98880      0"
            ]
          },
          "metadata": {},
          "execution_count": 18
        }
      ]
    },
    {
      "cell_type": "code",
      "metadata": {
        "id": "jVYxAmbHaMZk"
      },
      "source": [
        "X = bankdata.drop('Class', axis=1)\n",
        "y = bankdata['Class']"
      ],
      "execution_count": null,
      "outputs": []
    },
    {
      "cell_type": "code",
      "metadata": {
        "id": "kYSAyApYac69"
      },
      "source": [
        "from sklearn.model_selection import train_test_split\n",
        "X_train, X_test, y_train, y_test = train_test_split(X, y, test_size = 0.20)"
      ],
      "execution_count": null,
      "outputs": []
    },
    {
      "cell_type": "code",
      "metadata": {
        "colab": {
          "base_uri": "https://localhost:8080/"
        },
        "id": "TtZe8JQRa29F",
        "outputId": "2947a18b-e04a-44cd-ea83-f5af0ca29586"
      },
      "source": [
        "bankdata.Class.value_counts()"
      ],
      "execution_count": null,
      "outputs": [
        {
          "output_type": "execute_result",
          "data": {
            "text/plain": [
              "0    762\n",
              "1    610\n",
              "Name: Class, dtype: int64"
            ]
          },
          "metadata": {},
          "execution_count": 25
        }
      ]
    },
    {
      "cell_type": "markdown",
      "metadata": {
        "id": "wRN4aDtqbKxw"
      },
      "source": [
        "### Kernel = Linear"
      ]
    },
    {
      "cell_type": "code",
      "metadata": {
        "colab": {
          "base_uri": "https://localhost:8080/"
        },
        "id": "t9pJZ1z7aeBN",
        "outputId": "d11b956a-8632-4b3e-cc14-a6a49dc6f653"
      },
      "source": [
        "from sklearn.svm import SVC\n",
        "svclassifier = SVC(kernel='linear')\n",
        "svclassifier.fit(X_train, y_train)"
      ],
      "execution_count": null,
      "outputs": [
        {
          "output_type": "execute_result",
          "data": {
            "text/plain": [
              "SVC(kernel='linear')"
            ]
          },
          "metadata": {},
          "execution_count": 21
        }
      ]
    },
    {
      "cell_type": "code",
      "metadata": {
        "colab": {
          "base_uri": "https://localhost:8080/"
        },
        "id": "bmYp3ledaiz9",
        "outputId": "8c972d3c-c04b-4fd2-fd28-0b0facc20816"
      },
      "source": [
        "y_pred = svclassifier.predict(X_test)\n",
        "y_pred"
      ],
      "execution_count": null,
      "outputs": [
        {
          "output_type": "execute_result",
          "data": {
            "text/plain": [
              "array([0, 0, 0, 0, 0, 0, 1, 1, 1, 0, 0, 0, 1, 0, 0, 0, 0, 1, 1, 0, 1, 0,\n",
              "       0, 1, 0, 1, 0, 1, 0, 0, 1, 1, 0, 0, 0, 1, 1, 0, 1, 0, 1, 1, 1, 1,\n",
              "       0, 1, 0, 0, 0, 0, 0, 0, 1, 0, 1, 1, 0, 0, 0, 1, 1, 0, 0, 1, 0, 1,\n",
              "       0, 1, 0, 0, 0, 0, 1, 0, 0, 1, 0, 1, 0, 1, 1, 1, 0, 0, 0, 1, 1, 1,\n",
              "       0, 0, 0, 0, 0, 1, 1, 1, 0, 1, 0, 0, 1, 0, 0, 1, 0, 1, 0, 0, 0, 0,\n",
              "       0, 0, 0, 0, 0, 1, 0, 1, 1, 0, 1, 1, 0, 1, 0, 1, 0, 1, 0, 1, 1, 0,\n",
              "       0, 1, 0, 1, 1, 0, 1, 1, 0, 0, 0, 0, 1, 0, 0, 0, 1, 1, 0, 0, 1, 0,\n",
              "       0, 1, 0, 0, 1, 1, 0, 1, 1, 0, 0, 0, 0, 1, 0, 0, 1, 1, 0, 0, 1, 0,\n",
              "       0, 0, 0, 1, 0, 0, 0, 1, 0, 1, 0, 1, 1, 1, 0, 0, 1, 0, 0, 1, 0, 1,\n",
              "       1, 0, 1, 1, 0, 1, 0, 0, 0, 0, 0, 1, 0, 0, 0, 0, 0, 1, 1, 0, 1, 1,\n",
              "       0, 0, 0, 0, 0, 0, 1, 0, 1, 1, 0, 1, 1, 0, 1, 0, 0, 0, 0, 1, 1, 0,\n",
              "       0, 1, 1, 0, 0, 0, 0, 0, 1, 0, 1, 1, 1, 1, 1, 1, 1, 0, 1, 1, 0, 0,\n",
              "       1, 1, 1, 0, 0, 1, 0, 0, 0, 1, 1])"
            ]
          },
          "metadata": {},
          "execution_count": 22
        }
      ]
    },
    {
      "cell_type": "code",
      "metadata": {
        "colab": {
          "base_uri": "https://localhost:8080/"
        },
        "id": "amf2PbFSak-1",
        "outputId": "68444127-448c-40cd-b59c-9dad150b9607"
      },
      "source": [
        "svclassifier.support_"
      ],
      "execution_count": null,
      "outputs": [
        {
          "output_type": "execute_result",
          "data": {
            "text/plain": [
              "array([   4,   37,   72,   94,  115,  121,  213,  247,  250,  288,  292,\n",
              "        492,  579,  600,  835,  963,  965,  987, 1049, 1088,   82,   86,\n",
              "        228,  271,  281,  412,  440,  501,  537,  614,  641,  644,  742,\n",
              "        745,  873,  906, 1052, 1094], dtype=int32)"
            ]
          },
          "metadata": {},
          "execution_count": 23
        }
      ]
    },
    {
      "cell_type": "code",
      "metadata": {
        "colab": {
          "base_uri": "https://localhost:8080/"
        },
        "id": "rTeyl6Coa1wJ",
        "outputId": "88ef359c-fe2d-4674-e684-08fa3e6bbfc3"
      },
      "source": [
        "svclassifier.n_support_"
      ],
      "execution_count": null,
      "outputs": [
        {
          "output_type": "execute_result",
          "data": {
            "text/plain": [
              "array([20, 18], dtype=int32)"
            ]
          },
          "metadata": {},
          "execution_count": 24
        }
      ]
    },
    {
      "cell_type": "code",
      "metadata": {
        "colab": {
          "base_uri": "https://localhost:8080/"
        },
        "id": "wF9-d3Ija4nf",
        "outputId": "43ba81c7-6b39-4fa7-b19b-342b4f4acf9f"
      },
      "source": [
        "from sklearn.metrics import classification_report, confusion_matrix\n",
        "print(confusion_matrix(y_test,y_pred))\n",
        "print(classification_report(y_test,y_pred))"
      ],
      "execution_count": null,
      "outputs": [
        {
          "output_type": "stream",
          "name": "stdout",
          "text": [
            "[[158   1]\n",
            " [  1 115]]\n",
            "              precision    recall  f1-score   support\n",
            "\n",
            "           0       0.99      0.99      0.99       159\n",
            "           1       0.99      0.99      0.99       116\n",
            "\n",
            "    accuracy                           0.99       275\n",
            "   macro avg       0.99      0.99      0.99       275\n",
            "weighted avg       0.99      0.99      0.99       275\n",
            "\n"
          ]
        }
      ]
    },
    {
      "cell_type": "markdown",
      "metadata": {
        "id": "JitKPVKYbQfb"
      },
      "source": [
        "### Kernel = Polynomial with degree k=2"
      ]
    },
    {
      "cell_type": "code",
      "metadata": {
        "colab": {
          "base_uri": "https://localhost:8080/"
        },
        "id": "p878z9yia59u",
        "outputId": "87031128-0192-4aee-fbc1-4aa0575bd9d8"
      },
      "source": [
        "from sklearn.svm import SVC\n",
        "svclassifier = SVC(kernel='poly', degree=2)\n",
        "svclassifier.fit(X_train, y_train)"
      ],
      "execution_count": null,
      "outputs": [
        {
          "output_type": "execute_result",
          "data": {
            "text/plain": [
              "SVC(degree=2, kernel='poly')"
            ]
          },
          "metadata": {},
          "execution_count": 40
        }
      ]
    },
    {
      "cell_type": "code",
      "metadata": {
        "colab": {
          "base_uri": "https://localhost:8080/"
        },
        "id": "8CWIOBVRbEvP",
        "outputId": "f1ae3730-b068-40bc-fd87-5f7576523c32"
      },
      "source": [
        "y_pred = svclassifier.predict(X_test)\n",
        "y_pred"
      ],
      "execution_count": null,
      "outputs": [
        {
          "output_type": "execute_result",
          "data": {
            "text/plain": [
              "array([0, 0, 0, 0, 0, 0, 1, 1, 1, 0, 0, 0, 1, 0, 0, 0, 0, 1, 1, 0, 1, 0,\n",
              "       0, 1, 0, 1, 0, 1, 0, 0, 1, 1, 0, 0, 0, 1, 1, 0, 1, 0, 1, 1, 1, 1,\n",
              "       1, 1, 0, 0, 0, 0, 0, 0, 1, 0, 1, 1, 0, 0, 0, 1, 1, 0, 1, 1, 0, 1,\n",
              "       0, 1, 0, 0, 0, 0, 1, 0, 0, 1, 0, 1, 0, 1, 1, 1, 0, 0, 0, 1, 1, 1,\n",
              "       1, 0, 0, 0, 0, 1, 1, 1, 0, 1, 0, 0, 1, 1, 0, 1, 0, 1, 0, 0, 0, 0,\n",
              "       0, 0, 0, 0, 0, 1, 0, 1, 1, 0, 1, 1, 0, 1, 0, 1, 0, 1, 0, 1, 1, 0,\n",
              "       0, 1, 0, 1, 1, 0, 1, 1, 0, 0, 0, 0, 1, 0, 0, 0, 1, 1, 0, 0, 1, 0,\n",
              "       0, 1, 0, 0, 1, 1, 0, 1, 1, 0, 0, 0, 0, 1, 0, 0, 1, 1, 0, 0, 1, 0,\n",
              "       0, 0, 1, 1, 0, 0, 0, 1, 0, 1, 0, 1, 1, 1, 0, 1, 1, 0, 0, 1, 0, 1,\n",
              "       1, 0, 1, 1, 0, 1, 0, 1, 0, 0, 0, 1, 0, 0, 0, 0, 0, 1, 1, 0, 1, 1,\n",
              "       0, 0, 0, 1, 0, 0, 1, 0, 1, 1, 0, 1, 1, 0, 1, 0, 0, 0, 0, 1, 1, 1,\n",
              "       0, 1, 1, 0, 0, 0, 0, 0, 1, 0, 1, 1, 1, 1, 1, 1, 1, 0, 1, 1, 0, 0,\n",
              "       1, 1, 1, 0, 0, 1, 0, 0, 0, 1, 1])"
            ]
          },
          "metadata": {},
          "execution_count": 41
        }
      ]
    },
    {
      "cell_type": "code",
      "metadata": {
        "colab": {
          "base_uri": "https://localhost:8080/"
        },
        "id": "ZeyCHygFbEvQ",
        "outputId": "4665c41f-fb64-42bf-ae85-26e99f936264"
      },
      "source": [
        "svclassifier.support_"
      ],
      "execution_count": null,
      "outputs": [
        {
          "output_type": "execute_result",
          "data": {
            "text/plain": [
              "array([   3,    4,    9,   10,   17,   20,   30,   34,   37,   39,   40,\n",
              "         59,   64,   68,   72,   85,   88,   94,   98,  102,  105,  115,\n",
              "        116,  121,  122,  129,  153,  158,  160,  166,  177,  195,  213,\n",
              "        217,  219,  220,  229,  232,  247,  250,  255,  259,  269,  279,\n",
              "        288,  291,  292,  303,  312,  327,  332,  341,  343,  358,  360,\n",
              "        361,  364,  366,  369,  375,  391,  398,  400,  409,  411,  434,\n",
              "        437,  439,  458,  479,  484,  487,  492,  494,  496,  500,  504,\n",
              "        508,  519,  523,  535,  540,  543,  550,  564,  565,  567,  570,\n",
              "        572,  579,  587,  600,  611,  617,  648,  661,  673,  676,  677,\n",
              "        712,  733,  737,  766,  768,  769,  772,  774,  776,  784,  788,\n",
              "        789,  790,  793,  806,  809,  835,  853,  862,  865,  866,  870,\n",
              "        898,  902,  910,  913,  919,  920,  926,  940,  963,  965,  966,\n",
              "        973,  978,  987, 1010, 1015, 1026, 1044, 1049, 1065, 1088, 1095,\n",
              "          0,   12,   13,   16,   27,   53,   55,   60,   65,   66,   73,\n",
              "         78,   91,   92,  100,  113,  138,  140,  146,  149,  152,  157,\n",
              "        162,  172,  183,  187,  190,  192,  201,  225,  231,  243,  256,\n",
              "        266,  273,  290,  302,  305,  310,  316,  317,  319,  324,  333,\n",
              "        334,  335,  368,  371,  381,  397,  414,  418,  433,  441,  445,\n",
              "        449,  464,  472,  475,  488,  498,  515,  526,  527,  553,  576,\n",
              "        580,  597,  599,  621,  635,  645,  654,  665,  668,  670,  680,\n",
              "        685,  688,  689,  695,  696,  698,  705,  713,  719,  721,  724,\n",
              "        728,  739,  746,  756,  758,  761,  773,  780,  782,  785,  800,\n",
              "        812,  815,  816,  817,  818,  820,  825,  826,  827,  831,  843,\n",
              "        857,  876,  882,  885,  895,  912,  923,  928,  929,  931,  941,\n",
              "        948,  967,  975,  976, 1006, 1013, 1014, 1019, 1020, 1024, 1025,\n",
              "       1031, 1033, 1039, 1041, 1045, 1054, 1056, 1074, 1079, 1083, 1086],\n",
              "      dtype=int32)"
            ]
          },
          "metadata": {},
          "execution_count": 42
        }
      ]
    },
    {
      "cell_type": "code",
      "metadata": {
        "colab": {
          "base_uri": "https://localhost:8080/"
        },
        "id": "KGQd0FifbEvR",
        "outputId": "986f8a3d-bcb1-40bd-bee3-fbf1c416714b"
      },
      "source": [
        "svclassifier.n_support_"
      ],
      "execution_count": null,
      "outputs": [
        {
          "output_type": "execute_result",
          "data": {
            "text/plain": [
              "array([143, 143], dtype=int32)"
            ]
          },
          "metadata": {},
          "execution_count": 43
        }
      ]
    },
    {
      "cell_type": "code",
      "metadata": {
        "colab": {
          "base_uri": "https://localhost:8080/"
        },
        "id": "a-hFVMh-bEvS",
        "outputId": "a5827baa-a2aa-4920-e211-d90549d6ff75"
      },
      "source": [
        "from sklearn.metrics import classification_report, confusion_matrix\n",
        "print(confusion_matrix(y_test,y_pred))\n",
        "print(classification_report(y_test,y_pred))"
      ],
      "execution_count": null,
      "outputs": [
        {
          "output_type": "stream",
          "name": "stdout",
          "text": [
            "[[150   9]\n",
            " [  0 116]]\n",
            "              precision    recall  f1-score   support\n",
            "\n",
            "           0       1.00      0.94      0.97       159\n",
            "           1       0.93      1.00      0.96       116\n",
            "\n",
            "    accuracy                           0.97       275\n",
            "   macro avg       0.96      0.97      0.97       275\n",
            "weighted avg       0.97      0.97      0.97       275\n",
            "\n"
          ]
        }
      ]
    },
    {
      "cell_type": "markdown",
      "metadata": {
        "id": "nuzcMmyJcGF_"
      },
      "source": [
        "### Kernel = RBF(Gaussian Kernel)"
      ]
    },
    {
      "cell_type": "code",
      "metadata": {
        "colab": {
          "base_uri": "https://localhost:8080/"
        },
        "id": "PFJ4T0XybEvT",
        "outputId": "63700a40-1710-447a-d853-c78788f5e81a"
      },
      "source": [
        "from sklearn.svm import SVC\n",
        "svclassifier = SVC(kernel='rbf')\n",
        "svclassifier.fit(X_train, y_train)"
      ],
      "execution_count": null,
      "outputs": [
        {
          "output_type": "execute_result",
          "data": {
            "text/plain": [
              "SVC()"
            ]
          },
          "metadata": {},
          "execution_count": 45
        }
      ]
    },
    {
      "cell_type": "code",
      "metadata": {
        "colab": {
          "base_uri": "https://localhost:8080/"
        },
        "id": "14dBfEVDbGuG",
        "outputId": "122de62a-981e-4bfd-841e-63438166fceb"
      },
      "source": [
        "y_pred = svclassifier.predict(X_test)\n",
        "y_pred"
      ],
      "execution_count": null,
      "outputs": [
        {
          "output_type": "execute_result",
          "data": {
            "text/plain": [
              "array([0, 0, 0, 0, 0, 0, 1, 1, 1, 0, 0, 0, 1, 0, 0, 0, 0, 1, 1, 0, 1, 0,\n",
              "       0, 1, 0, 1, 0, 1, 0, 0, 1, 1, 0, 0, 0, 1, 1, 0, 1, 0, 1, 1, 1, 1,\n",
              "       0, 1, 0, 0, 0, 0, 0, 0, 1, 0, 1, 1, 0, 0, 0, 1, 1, 0, 1, 1, 0, 1,\n",
              "       0, 1, 0, 0, 0, 0, 1, 0, 0, 1, 0, 1, 0, 1, 1, 1, 0, 0, 0, 1, 1, 1,\n",
              "       0, 0, 0, 0, 0, 1, 1, 1, 0, 1, 0, 0, 1, 0, 0, 1, 0, 1, 0, 0, 0, 0,\n",
              "       0, 0, 0, 0, 0, 1, 0, 1, 1, 0, 1, 1, 0, 1, 0, 1, 0, 1, 0, 1, 1, 0,\n",
              "       0, 1, 0, 1, 1, 0, 1, 1, 0, 0, 0, 0, 1, 0, 0, 0, 1, 1, 0, 0, 1, 0,\n",
              "       0, 1, 0, 0, 1, 1, 0, 1, 1, 0, 0, 0, 0, 1, 0, 0, 1, 1, 0, 0, 1, 0,\n",
              "       0, 0, 0, 1, 0, 0, 0, 1, 0, 1, 0, 1, 1, 1, 0, 1, 0, 0, 0, 1, 0, 1,\n",
              "       1, 0, 1, 1, 0, 1, 0, 0, 0, 0, 0, 1, 0, 0, 0, 0, 0, 1, 1, 0, 1, 1,\n",
              "       0, 0, 0, 0, 0, 0, 1, 0, 1, 1, 0, 1, 1, 0, 1, 0, 0, 0, 0, 1, 1, 0,\n",
              "       0, 1, 1, 0, 0, 0, 0, 0, 1, 0, 1, 1, 1, 1, 1, 1, 1, 0, 1, 1, 0, 0,\n",
              "       1, 1, 1, 0, 0, 1, 0, 0, 0, 1, 1])"
            ]
          },
          "metadata": {},
          "execution_count": 46
        }
      ]
    },
    {
      "cell_type": "code",
      "metadata": {
        "colab": {
          "base_uri": "https://localhost:8080/"
        },
        "id": "BRnj5_wgbGuG",
        "outputId": "9be2a5fa-6ce5-40e6-c1cd-1e7a05ae40c6"
      },
      "source": [
        "svclassifier.support_"
      ],
      "execution_count": null,
      "outputs": [
        {
          "output_type": "execute_result",
          "data": {
            "text/plain": [
              "array([   4,   10,   17,   30,   37,   72,   94,  103,  115,  121,  213,\n",
              "        232,  247,  250,  279,  288,  291,  292,  294,  343,  434,  460,\n",
              "        492,  496,  535,  544,  579,  587,  600,  766,  776,  784,  790,\n",
              "        809,  835,  866,  888,  902,  963,  965,  987, 1049, 1063, 1088,\n",
              "         13,   60,   67,   80,   82,   92,   99,  196,  203,  228,  241,\n",
              "        246,  273,  276,  281,  301,  308,  357,  412,  440,  449,  456,\n",
              "        461,  501,  537,  548,  571,  602,  635,  641,  728,  761,  781,\n",
              "        794,  816,  817,  818,  859,  873,  883,  885,  930,  989, 1052,\n",
              "       1077, 1086, 1087], dtype=int32)"
            ]
          },
          "metadata": {},
          "execution_count": 47
        }
      ]
    },
    {
      "cell_type": "code",
      "metadata": {
        "colab": {
          "base_uri": "https://localhost:8080/"
        },
        "id": "vJvvYr6EbGuH",
        "outputId": "af0a17b1-7e55-4e40-c2dc-583c96f43823"
      },
      "source": [
        "svclassifier.n_support_"
      ],
      "execution_count": null,
      "outputs": [
        {
          "output_type": "execute_result",
          "data": {
            "text/plain": [
              "array([44, 47], dtype=int32)"
            ]
          },
          "metadata": {},
          "execution_count": 48
        }
      ]
    },
    {
      "cell_type": "code",
      "metadata": {
        "colab": {
          "base_uri": "https://localhost:8080/"
        },
        "id": "eOiZfdm7bGuI",
        "outputId": "ff6255e9-f597-43d0-b6cd-ed41675d48b2"
      },
      "source": [
        "from sklearn.metrics import classification_report, confusion_matrix\n",
        "print(confusion_matrix(y_test,y_pred))\n",
        "print(classification_report(y_test,y_pred))"
      ],
      "execution_count": null,
      "outputs": [
        {
          "output_type": "stream",
          "name": "stdout",
          "text": [
            "[[158   1]\n",
            " [  0 116]]\n",
            "              precision    recall  f1-score   support\n",
            "\n",
            "           0       1.00      0.99      1.00       159\n",
            "           1       0.99      1.00      1.00       116\n",
            "\n",
            "    accuracy                           1.00       275\n",
            "   macro avg       1.00      1.00      1.00       275\n",
            "weighted avg       1.00      1.00      1.00       275\n",
            "\n"
          ]
        }
      ]
    },
    {
      "cell_type": "code",
      "metadata": {
        "colab": {
          "base_uri": "https://localhost:8080/"
        },
        "id": "fytrhXRVbGuJ",
        "outputId": "283352d4-42c4-46d7-d245-944e7b173f3e"
      },
      "source": [
        "from sklearn.svm import SVC\n",
        "svclassifier = SVC(kernel='poly', degree=2)\n",
        "svclassifier.fit(X_train, y_train)"
      ],
      "execution_count": null,
      "outputs": [
        {
          "output_type": "execute_result",
          "data": {
            "text/plain": [
              "SVC(degree=2, kernel='poly')"
            ]
          },
          "metadata": {},
          "execution_count": 27
        }
      ]
    },
    {
      "cell_type": "markdown",
      "metadata": {
        "id": "GjJJ9cr_cZlP"
      },
      "source": [
        "### Kernel = Sigmoid"
      ]
    },
    {
      "cell_type": "code",
      "metadata": {
        "colab": {
          "base_uri": "https://localhost:8080/"
        },
        "id": "TNkbMUUVbHgf",
        "outputId": "eb1a873e-326e-48f9-af0c-5e304264c0e3"
      },
      "source": [
        "from sklearn.svm import SVC\n",
        "svclassifier = SVC(kernel='sigmoid')\n",
        "svclassifier.fit(X_train, y_train)"
      ],
      "execution_count": null,
      "outputs": [
        {
          "output_type": "execute_result",
          "data": {
            "text/plain": [
              "SVC(kernel='sigmoid')"
            ]
          },
          "metadata": {},
          "execution_count": 51
        }
      ]
    },
    {
      "cell_type": "code",
      "metadata": {
        "colab": {
          "base_uri": "https://localhost:8080/"
        },
        "id": "szbNUWzSbHgf",
        "outputId": "045cb75b-f10f-445f-ed18-2540e19774c3"
      },
      "source": [
        "y_pred = svclassifier.predict(X_test)\n",
        "y_pred"
      ],
      "execution_count": null,
      "outputs": [
        {
          "output_type": "execute_result",
          "data": {
            "text/plain": [
              "array([1, 0, 0, 1, 0, 0, 1, 1, 0, 0, 1, 0, 0, 1, 1, 1, 0, 1, 1, 0, 0, 0,\n",
              "       0, 1, 0, 1, 0, 1, 0, 0, 0, 1, 0, 0, 0, 0, 1, 0, 0, 0, 0, 1, 1, 1,\n",
              "       0, 0, 1, 0, 0, 1, 0, 0, 0, 1, 0, 1, 0, 0, 0, 1, 0, 0, 0, 1, 1, 1,\n",
              "       0, 1, 0, 0, 0, 0, 1, 0, 0, 0, 0, 0, 0, 0, 1, 1, 1, 0, 1, 1, 1, 1,\n",
              "       1, 0, 0, 0, 0, 0, 1, 1, 1, 1, 1, 1, 0, 0, 0, 1, 0, 0, 0, 0, 0, 0,\n",
              "       0, 0, 0, 1, 0, 1, 0, 1, 1, 0, 0, 1, 0, 1, 0, 0, 0, 0, 0, 0, 1, 0,\n",
              "       1, 1, 0, 1, 0, 0, 1, 1, 1, 1, 0, 1, 1, 0, 0, 0, 0, 0, 0, 0, 0, 0,\n",
              "       1, 1, 0, 0, 0, 1, 1, 0, 1, 0, 0, 1, 0, 0, 0, 0, 1, 0, 1, 1, 1, 1,\n",
              "       0, 1, 1, 0, 1, 0, 0, 1, 0, 0, 0, 0, 1, 1, 1, 1, 1, 0, 0, 0, 0, 0,\n",
              "       1, 0, 1, 1, 0, 0, 0, 0, 0, 0, 0, 1, 0, 1, 0, 0, 0, 1, 1, 0, 1, 1,\n",
              "       1, 0, 0, 0, 0, 1, 0, 0, 1, 1, 1, 0, 1, 0, 1, 1, 1, 1, 1, 1, 0, 1,\n",
              "       0, 1, 0, 0, 1, 1, 0, 0, 1, 1, 1, 0, 1, 0, 1, 1, 1, 0, 1, 1, 0, 1,\n",
              "       1, 1, 0, 0, 0, 1, 0, 0, 0, 1, 1])"
            ]
          },
          "metadata": {},
          "execution_count": 52
        }
      ]
    },
    {
      "cell_type": "code",
      "metadata": {
        "colab": {
          "base_uri": "https://localhost:8080/"
        },
        "id": "4ShahfHtbHgf",
        "outputId": "cfd5d2c4-c710-4c48-be9f-049afb035cc4"
      },
      "source": [
        "svclassifier.support_"
      ],
      "execution_count": null,
      "outputs": [
        {
          "output_type": "execute_result",
          "data": {
            "text/plain": [
              "array([   2,    3,   24,   30,   34,   37,   47,   58,   64,   68,   72,\n",
              "         76,   79,   88,   90,   94,   98,  103,  104,  106,  114,  115,\n",
              "        116,  121,  131,  132,  141,  150,  151,  154,  160,  165,  173,\n",
              "        174,  177,  180,  193,  195,  199,  210,  213,  224,  226,  232,\n",
              "        247,  249,  250,  254,  259,  263,  265,  269,  285,  291,  292,\n",
              "        300,  303,  312,  313,  320,  323,  332,  336,  341,  343,  358,\n",
              "        360,  361,  365,  375,  398,  399,  406,  408,  411,  413,  419,\n",
              "        423,  424,  425,  429,  430,  437,  444,  460,  473,  478,  484,\n",
              "        485,  486,  487,  492,  494,  495,  497,  500,  502,  503,  504,\n",
              "        505,  508,  514,  523,  535,  536,  540,  541,  543,  546,  567,\n",
              "        569,  579,  587,  596,  600,  604,  605,  611,  617,  648,  650,\n",
              "        671,  673,  674,  676,  691,  700,  701,  712,  715,  716,  725,\n",
              "        733,  737,  760,  769,  774,  775,  776,  779,  789,  793,  795,\n",
              "        798,  801,  802,  809,  810,  813,  835,  846,  848,  853,  864,\n",
              "        865,  888,  892,  898,  910,  911,  915,  916,  917,  919,  920,\n",
              "        922,  927,  940,  951,  963,  965,  966,  970,  973,  978,  979,\n",
              "        982,  987,  993, 1002, 1004, 1011, 1012, 1015, 1023, 1026, 1027,\n",
              "       1040, 1049, 1065, 1072, 1085, 1088,   19,   56,   66,   73,   78,\n",
              "         82,   83,   86,   93,  108,  111,  113,  124,  128,  133,  138,\n",
              "        147,  148,  155,  156,  157,  161,  169,  175,  192,  198,  205,\n",
              "        206,  208,  214,  216,  236,  238,  248,  256,  258,  264,  266,\n",
              "        270,  271,  280,  296,  298,  302,  304,  306,  308,  316,  318,\n",
              "        347,  356,  359,  368,  372,  379,  386,  388,  393,  395,  405,\n",
              "        410,  412,  415,  417,  426,  432,  440,  443,  446,  450,  455,\n",
              "        461,  471,  475,  477,  491,  501,  506,  507,  510,  511,  513,\n",
              "        517,  521,  524,  526,  527,  538,  539,  553,  554,  573,  577,\n",
              "        582,  583,  592,  597,  614,  621,  624,  625,  629,  632,  636,\n",
              "        637,  639,  641,  644,  646,  653,  654,  656,  657,  663,  683,\n",
              "        685,  689,  694,  695,  698,  707,  711,  719,  726,  729,  731,\n",
              "        732,  740,  741,  742,  745,  746,  751,  759,  771,  777,  786,\n",
              "        787,  797,  805,  817,  823,  827,  841,  843,  854,  855,  857,\n",
              "        859,  867,  873,  876,  878,  883,  885,  889,  893,  895,  900,\n",
              "        905,  906,  907,  908,  923,  928,  943,  945,  954,  959,  968,\n",
              "        974,  995,  996,  997, 1006, 1009, 1020, 1022, 1029, 1030, 1048,\n",
              "       1050, 1052, 1061, 1064, 1066, 1069, 1071, 1074, 1076, 1090, 1094],\n",
              "      dtype=int32)"
            ]
          },
          "metadata": {},
          "execution_count": 53
        }
      ]
    },
    {
      "cell_type": "code",
      "metadata": {
        "colab": {
          "base_uri": "https://localhost:8080/"
        },
        "id": "jCuvdZG4bHgf",
        "outputId": "c9033d35-3ff7-48bc-888e-63464f1fe24c"
      },
      "source": [
        "svclassifier.n_support_"
      ],
      "execution_count": null,
      "outputs": [
        {
          "output_type": "execute_result",
          "data": {
            "text/plain": [
              "array([193, 192], dtype=int32)"
            ]
          },
          "metadata": {},
          "execution_count": 54
        }
      ]
    },
    {
      "cell_type": "code",
      "metadata": {
        "colab": {
          "base_uri": "https://localhost:8080/"
        },
        "id": "6VR3FCjdbHgf",
        "outputId": "1a3ed28a-6e5a-4ca3-c917-8dce746bf79f"
      },
      "source": [
        "from sklearn.metrics import classification_report, confusion_matrix\n",
        "print(confusion_matrix(y_test,y_pred))\n",
        "print(classification_report(y_test,y_pred))"
      ],
      "execution_count": null,
      "outputs": [
        {
          "output_type": "stream",
          "name": "stdout",
          "text": [
            "[[113  46]\n",
            " [ 43  73]]\n",
            "              precision    recall  f1-score   support\n",
            "\n",
            "           0       0.72      0.71      0.72       159\n",
            "           1       0.61      0.63      0.62       116\n",
            "\n",
            "    accuracy                           0.68       275\n",
            "   macro avg       0.67      0.67      0.67       275\n",
            "weighted avg       0.68      0.68      0.68       275\n",
            "\n"
          ]
        }
      ]
    },
    {
      "cell_type": "markdown",
      "metadata": {
        "id": "-dWB_7FPfCk7"
      },
      "source": [
        "### Based on all the kernels, **RBF** having the highest accuracy is the best kernel model for this dataset."
      ]
    },
    {
      "cell_type": "markdown",
      "metadata": {
        "id": "YhkNhpsihQn3"
      },
      "source": [
        "## 2. Train a SVM model with a dataset (with two classes) which is linerly separable with the following kernals\n",
        "\n",
        "\n",
        "* Linear kernel\n",
        "* Polynomial Kernel of degree k. choose a k of your choice.\n",
        "* RBF(Gaussian Kernel)\n",
        "* Sigmoid\n",
        "\n",
        "## Based on the output of your experiment, observe the performance of polynomial kernel, RBF kernel , sigmoid kernel on the linear separable data and record your observations.\n",
        "\n",
        "\n"
      ]
    },
    {
      "cell_type": "code",
      "metadata": {
        "id": "v_Q8tvG9hQn4"
      },
      "source": [
        "import pandas as pd\n",
        "import numpy as np\n",
        "import matplotlib.pyplot as plt\n",
        "%matplotlib inline"
      ],
      "execution_count": null,
      "outputs": []
    },
    {
      "cell_type": "code",
      "metadata": {
        "id": "gJZPLkrVhQn4"
      },
      "source": [
        "bankdata = pd.read_csv(\"/content/drive/MyDrive/Datasets/bill_authentication.csv\")"
      ],
      "execution_count": null,
      "outputs": []
    },
    {
      "cell_type": "code",
      "metadata": {
        "colab": {
          "base_uri": "https://localhost:8080/"
        },
        "id": "nouPuxr4hQn5",
        "outputId": "7561ca73-1d12-41b2-8310-b7f984b19329"
      },
      "source": [
        "bankdata.shape"
      ],
      "execution_count": null,
      "outputs": [
        {
          "output_type": "execute_result",
          "data": {
            "text/plain": [
              "(1372, 5)"
            ]
          },
          "metadata": {},
          "execution_count": 58
        }
      ]
    },
    {
      "cell_type": "code",
      "metadata": {
        "colab": {
          "base_uri": "https://localhost:8080/",
          "height": 206
        },
        "id": "CpivWhenhQn5",
        "outputId": "c7fd32c8-a282-4323-ec84-4f64534960bf"
      },
      "source": [
        "bankdata.head()"
      ],
      "execution_count": null,
      "outputs": [
        {
          "output_type": "execute_result",
          "data": {
            "text/html": [
              "<div>\n",
              "<style scoped>\n",
              "    .dataframe tbody tr th:only-of-type {\n",
              "        vertical-align: middle;\n",
              "    }\n",
              "\n",
              "    .dataframe tbody tr th {\n",
              "        vertical-align: top;\n",
              "    }\n",
              "\n",
              "    .dataframe thead th {\n",
              "        text-align: right;\n",
              "    }\n",
              "</style>\n",
              "<table border=\"1\" class=\"dataframe\">\n",
              "  <thead>\n",
              "    <tr style=\"text-align: right;\">\n",
              "      <th></th>\n",
              "      <th>Variance</th>\n",
              "      <th>Skewness</th>\n",
              "      <th>Curtosis</th>\n",
              "      <th>Entropy</th>\n",
              "      <th>Class</th>\n",
              "    </tr>\n",
              "  </thead>\n",
              "  <tbody>\n",
              "    <tr>\n",
              "      <th>0</th>\n",
              "      <td>3.62160</td>\n",
              "      <td>8.6661</td>\n",
              "      <td>-2.8073</td>\n",
              "      <td>-0.44699</td>\n",
              "      <td>0</td>\n",
              "    </tr>\n",
              "    <tr>\n",
              "      <th>1</th>\n",
              "      <td>4.54590</td>\n",
              "      <td>8.1674</td>\n",
              "      <td>-2.4586</td>\n",
              "      <td>-1.46210</td>\n",
              "      <td>0</td>\n",
              "    </tr>\n",
              "    <tr>\n",
              "      <th>2</th>\n",
              "      <td>3.86600</td>\n",
              "      <td>-2.6383</td>\n",
              "      <td>1.9242</td>\n",
              "      <td>0.10645</td>\n",
              "      <td>0</td>\n",
              "    </tr>\n",
              "    <tr>\n",
              "      <th>3</th>\n",
              "      <td>3.45660</td>\n",
              "      <td>9.5228</td>\n",
              "      <td>-4.0112</td>\n",
              "      <td>-3.59440</td>\n",
              "      <td>0</td>\n",
              "    </tr>\n",
              "    <tr>\n",
              "      <th>4</th>\n",
              "      <td>0.32924</td>\n",
              "      <td>-4.4552</td>\n",
              "      <td>4.5718</td>\n",
              "      <td>-0.98880</td>\n",
              "      <td>0</td>\n",
              "    </tr>\n",
              "  </tbody>\n",
              "</table>\n",
              "</div>"
            ],
            "text/plain": [
              "   Variance  Skewness  Curtosis  Entropy  Class\n",
              "0   3.62160    8.6661   -2.8073 -0.44699      0\n",
              "1   4.54590    8.1674   -2.4586 -1.46210      0\n",
              "2   3.86600   -2.6383    1.9242  0.10645      0\n",
              "3   3.45660    9.5228   -4.0112 -3.59440      0\n",
              "4   0.32924   -4.4552    4.5718 -0.98880      0"
            ]
          },
          "metadata": {},
          "execution_count": 59
        }
      ]
    },
    {
      "cell_type": "code",
      "metadata": {
        "id": "CI0k0_oThQn6"
      },
      "source": [
        "X = bankdata.drop('Class', axis=1)\n",
        "y = bankdata['Class']"
      ],
      "execution_count": null,
      "outputs": []
    },
    {
      "cell_type": "code",
      "metadata": {
        "id": "D05gh1wphQn6"
      },
      "source": [
        "from sklearn.model_selection import train_test_split\n",
        "X_train, X_test, y_train, y_test = train_test_split(X, y, test_size = 0.20)"
      ],
      "execution_count": null,
      "outputs": []
    },
    {
      "cell_type": "code",
      "metadata": {
        "colab": {
          "base_uri": "https://localhost:8080/"
        },
        "id": "nwtSYcfVhQn6",
        "outputId": "61d18c20-ae0e-4950-e62c-896ba2a09ef1"
      },
      "source": [
        "bankdata.Class.value_counts()"
      ],
      "execution_count": null,
      "outputs": [
        {
          "output_type": "execute_result",
          "data": {
            "text/plain": [
              "0    762\n",
              "1    610\n",
              "Name: Class, dtype: int64"
            ]
          },
          "metadata": {},
          "execution_count": 62
        }
      ]
    },
    {
      "cell_type": "markdown",
      "metadata": {
        "id": "4ai9yDnehQn7"
      },
      "source": [
        "### Kernel = Linear"
      ]
    },
    {
      "cell_type": "code",
      "metadata": {
        "colab": {
          "base_uri": "https://localhost:8080/"
        },
        "id": "D0a9UDAahQn7",
        "outputId": "116ad88f-d789-496a-9eb9-93b3b9901453"
      },
      "source": [
        "from sklearn.svm import SVC\n",
        "svclassifier = SVC(kernel='linear')\n",
        "svclassifier.fit(X_train, y_train)"
      ],
      "execution_count": null,
      "outputs": [
        {
          "output_type": "execute_result",
          "data": {
            "text/plain": [
              "SVC(kernel='linear')"
            ]
          },
          "metadata": {},
          "execution_count": 63
        }
      ]
    },
    {
      "cell_type": "code",
      "metadata": {
        "colab": {
          "base_uri": "https://localhost:8080/"
        },
        "id": "zwzDkrcAhQn8",
        "outputId": "1b7a3062-94ea-493d-a8df-0f08e13dbbaf"
      },
      "source": [
        "y_pred = svclassifier.predict(X_test)\n",
        "y_pred"
      ],
      "execution_count": null,
      "outputs": [
        {
          "output_type": "execute_result",
          "data": {
            "text/plain": [
              "array([0, 0, 0, 0, 0, 0, 0, 1, 1, 1, 1, 0, 1, 1, 0, 1, 0, 1, 0, 1, 0, 0,\n",
              "       0, 0, 1, 0, 1, 1, 1, 0, 0, 1, 0, 1, 1, 1, 0, 1, 0, 0, 0, 1, 1, 0,\n",
              "       0, 0, 1, 0, 0, 0, 1, 1, 1, 1, 0, 0, 0, 1, 0, 0, 0, 0, 1, 0, 0, 0,\n",
              "       0, 0, 1, 0, 1, 0, 0, 1, 1, 0, 0, 1, 1, 1, 1, 0, 0, 0, 1, 0, 0, 0,\n",
              "       1, 1, 1, 0, 0, 1, 0, 0, 0, 1, 0, 0, 0, 1, 1, 0, 0, 0, 1, 1, 0, 0,\n",
              "       1, 1, 0, 1, 0, 0, 0, 0, 0, 0, 1, 1, 0, 1, 0, 0, 1, 1, 0, 1, 0, 0,\n",
              "       1, 0, 0, 0, 0, 0, 1, 0, 1, 0, 0, 0, 0, 0, 0, 0, 0, 1, 0, 1, 0, 0,\n",
              "       0, 0, 1, 0, 0, 1, 0, 1, 0, 0, 0, 1, 1, 0, 0, 0, 1, 1, 1, 1, 1, 0,\n",
              "       0, 1, 0, 0, 1, 0, 0, 1, 0, 0, 0, 1, 0, 0, 0, 1, 1, 1, 1, 1, 0, 1,\n",
              "       1, 1, 1, 0, 0, 0, 1, 0, 1, 0, 1, 0, 1, 1, 1, 0, 0, 1, 1, 1, 0, 0,\n",
              "       0, 0, 1, 1, 0, 1, 0, 1, 0, 1, 0, 0, 1, 0, 1, 0, 0, 1, 0, 0, 0, 0,\n",
              "       1, 0, 1, 1, 1, 1, 0, 1, 0, 0, 1, 0, 1, 0, 1, 0, 0, 0, 0, 0, 0, 0,\n",
              "       1, 0, 0, 1, 1, 1, 0, 0, 1, 1, 1])"
            ]
          },
          "metadata": {},
          "execution_count": 64
        }
      ]
    },
    {
      "cell_type": "code",
      "metadata": {
        "colab": {
          "base_uri": "https://localhost:8080/"
        },
        "id": "gUy5N5_KhQn8",
        "outputId": "da13450f-afe7-45a3-a7a7-2a2d102db4f5"
      },
      "source": [
        "svclassifier.support_"
      ],
      "execution_count": null,
      "outputs": [
        {
          "output_type": "execute_result",
          "data": {
            "text/plain": [
              "array([  17,   98,  151,  190,  361,  477,  482,  632,  734,  754,  846,\n",
              "        849,  956,  968,  980, 1070,  128,  141,  200,  357,  406,  479,\n",
              "        560,  740,  789,  851,  852,  895,  992, 1034, 1089], dtype=int32)"
            ]
          },
          "metadata": {},
          "execution_count": 65
        }
      ]
    },
    {
      "cell_type": "code",
      "metadata": {
        "colab": {
          "base_uri": "https://localhost:8080/"
        },
        "id": "sgRWfLgZhQn8",
        "outputId": "7e15b281-69dc-4798-fbdb-3e736e20f6e9"
      },
      "source": [
        "svclassifier.n_support_"
      ],
      "execution_count": null,
      "outputs": [
        {
          "output_type": "execute_result",
          "data": {
            "text/plain": [
              "array([16, 15], dtype=int32)"
            ]
          },
          "metadata": {},
          "execution_count": 66
        }
      ]
    },
    {
      "cell_type": "code",
      "metadata": {
        "colab": {
          "base_uri": "https://localhost:8080/"
        },
        "id": "P4TqCUgLhQn9",
        "outputId": "bd4ddd6d-ba30-443f-f515-f720aeb7691d"
      },
      "source": [
        "from sklearn.metrics import classification_report, confusion_matrix\n",
        "print(confusion_matrix(y_test,y_pred))\n",
        "print(classification_report(y_test,y_pred))"
      ],
      "execution_count": null,
      "outputs": [
        {
          "output_type": "stream",
          "name": "stdout",
          "text": [
            "[[157   3]\n",
            " [  3 112]]\n",
            "              precision    recall  f1-score   support\n",
            "\n",
            "           0       0.98      0.98      0.98       160\n",
            "           1       0.97      0.97      0.97       115\n",
            "\n",
            "    accuracy                           0.98       275\n",
            "   macro avg       0.98      0.98      0.98       275\n",
            "weighted avg       0.98      0.98      0.98       275\n",
            "\n"
          ]
        }
      ]
    },
    {
      "cell_type": "markdown",
      "metadata": {
        "id": "2pLeMyM8hQn9"
      },
      "source": [
        "### Kernel = Polynomial with degree k=2"
      ]
    },
    {
      "cell_type": "code",
      "metadata": {
        "colab": {
          "base_uri": "https://localhost:8080/"
        },
        "id": "l6GHAqfbhQn-",
        "outputId": "11a62f9b-fb21-47d5-f0e8-6759ef4bcd7f"
      },
      "source": [
        "from sklearn.svm import SVC\n",
        "svclassifier = SVC(kernel='poly', degree=2)\n",
        "svclassifier.fit(X_train, y_train)"
      ],
      "execution_count": null,
      "outputs": [
        {
          "output_type": "execute_result",
          "data": {
            "text/plain": [
              "SVC(degree=2, kernel='poly')"
            ]
          },
          "metadata": {},
          "execution_count": 68
        }
      ]
    },
    {
      "cell_type": "code",
      "metadata": {
        "colab": {
          "base_uri": "https://localhost:8080/"
        },
        "id": "CZBbc5PghQn-",
        "outputId": "bf61292e-b853-4913-f7f9-c46f44111fd9"
      },
      "source": [
        "y_pred = svclassifier.predict(X_test)\n",
        "y_pred"
      ],
      "execution_count": null,
      "outputs": [
        {
          "output_type": "execute_result",
          "data": {
            "text/plain": [
              "array([0, 0, 0, 0, 0, 0, 0, 1, 1, 1, 1, 0, 1, 1, 0, 1, 0, 1, 0, 1, 0, 0,\n",
              "       0, 0, 1, 0, 1, 1, 1, 0, 0, 1, 0, 1, 1, 1, 0, 1, 0, 0, 0, 1, 1, 0,\n",
              "       0, 0, 1, 0, 0, 0, 1, 1, 1, 1, 0, 0, 0, 1, 0, 0, 0, 0, 1, 0, 1, 1,\n",
              "       0, 0, 1, 0, 1, 0, 0, 1, 1, 0, 0, 1, 1, 1, 1, 0, 0, 0, 1, 0, 0, 0,\n",
              "       1, 1, 1, 0, 0, 1, 0, 0, 0, 1, 0, 0, 0, 1, 1, 1, 0, 0, 1, 1, 0, 0,\n",
              "       1, 1, 0, 1, 0, 0, 0, 0, 0, 0, 1, 1, 0, 1, 0, 1, 1, 1, 0, 1, 0, 0,\n",
              "       1, 0, 0, 1, 0, 0, 1, 0, 1, 0, 0, 0, 0, 0, 0, 0, 0, 1, 0, 1, 0, 0,\n",
              "       0, 0, 1, 1, 0, 1, 0, 1, 0, 0, 0, 1, 1, 0, 0, 0, 1, 1, 1, 1, 1, 0,\n",
              "       0, 1, 0, 1, 1, 0, 0, 1, 0, 0, 0, 1, 0, 0, 0, 1, 1, 1, 1, 1, 0, 1,\n",
              "       1, 1, 1, 0, 0, 0, 1, 0, 1, 0, 1, 0, 1, 1, 1, 0, 1, 1, 1, 1, 0, 0,\n",
              "       0, 0, 1, 1, 0, 1, 0, 1, 0, 1, 0, 0, 1, 0, 1, 0, 0, 1, 0, 0, 1, 0,\n",
              "       1, 0, 1, 1, 1, 1, 0, 1, 1, 0, 1, 0, 1, 0, 1, 0, 0, 0, 0, 0, 0, 0,\n",
              "       1, 0, 0, 1, 1, 1, 0, 0, 1, 1, 1])"
            ]
          },
          "metadata": {},
          "execution_count": 69
        }
      ]
    },
    {
      "cell_type": "code",
      "metadata": {
        "colab": {
          "base_uri": "https://localhost:8080/"
        },
        "id": "k3KXiuerhQn-",
        "outputId": "c5239922-bdf6-4e9f-a36f-1726abd311ba"
      },
      "source": [
        "svclassifier.support_"
      ],
      "execution_count": null,
      "outputs": [
        {
          "output_type": "execute_result",
          "data": {
            "text/plain": [
              "array([   2,   13,   16,   17,   27,   29,   35,   38,   50,   57,   58,\n",
              "         63,   77,   78,   81,   92,   93,   95,   98,  101,  110,  122,\n",
              "        148,  151,  152,  190,  193,  204,  205,  209,  218,  232,  252,\n",
              "        260,  266,  273,  284,  297,  306,  311,  316,  319,  322,  324,\n",
              "        337,  338,  347,  355,  358,  361,  376,  381,  389,  394,  396,\n",
              "        398,  404,  405,  410,  413,  423,  433,  442,  447,  465,  477,\n",
              "        482,  497,  503,  505,  507,  519,  525,  542,  543,  556,  567,\n",
              "        570,  590,  591,  614,  615,  617,  632,  635,  645,  658,  665,\n",
              "        674,  675,  677,  680,  687,  718,  734,  739,  747,  754,  781,\n",
              "        793,  797,  820,  823,  835,  846,  849,  871,  873,  875,  876,\n",
              "        878,  879,  880,  885,  887,  888,  892,  901,  905,  911,  912,\n",
              "        920,  929,  931,  932,  937,  949,  956,  958,  959,  965,  968,\n",
              "        979,  980,  990,  997, 1012, 1013, 1045, 1070, 1074, 1076, 1077,\n",
              "       1092,    0,    1,    3,    5,   10,   19,   20,   23,   24,   32,\n",
              "         45,   48,   53,   54,   61,   65,   74,   82,  103,  139,  150,\n",
              "        154,  168,  172,  173,  177,  181,  187,  196,  208,  213,  221,\n",
              "        224,  225,  230,  234,  237,  244,  274,  275,  280,  300,  307,\n",
              "        312,  317,  326,  333,  335,  340,  341,  345,  351,  370,  374,\n",
              "        380,  387,  390,  399,  422,  424,  426,  437,  444,  455,  458,\n",
              "        460,  462,  467,  468,  469,  472,  474,  480,  488,  495,  511,\n",
              "        538,  539,  544,  551,  562,  564,  571,  584,  586,  599,  606,\n",
              "        612,  624,  631,  648,  654,  668,  679,  688,  689,  701,  704,\n",
              "        706,  725,  728,  738,  748,  751,  757,  764,  768,  769,  771,\n",
              "        772,  779,  780,  787,  801,  802,  804,  811,  815,  826,  838,\n",
              "        841,  842,  848,  853,  855,  863,  910,  933,  951,  953,  963,\n",
              "        964,  969,  984, 1002, 1006, 1008, 1029, 1036, 1043, 1056, 1062,\n",
              "       1082, 1085], dtype=int32)"
            ]
          },
          "metadata": {},
          "execution_count": 70
        }
      ]
    },
    {
      "cell_type": "code",
      "metadata": {
        "colab": {
          "base_uri": "https://localhost:8080/"
        },
        "id": "oOX-rsZchQn_",
        "outputId": "45755b63-48e3-41a6-82aa-34966566342c"
      },
      "source": [
        "svclassifier.n_support_"
      ],
      "execution_count": null,
      "outputs": [
        {
          "output_type": "execute_result",
          "data": {
            "text/plain": [
              "array([144, 144], dtype=int32)"
            ]
          },
          "metadata": {},
          "execution_count": 71
        }
      ]
    },
    {
      "cell_type": "code",
      "metadata": {
        "colab": {
          "base_uri": "https://localhost:8080/"
        },
        "id": "L79OgozMhQn_",
        "outputId": "f9a5a415-0efc-4d85-a67d-5c62d41bef3b"
      },
      "source": [
        "from sklearn.metrics import classification_report, confusion_matrix\n",
        "print(confusion_matrix(y_test,y_pred))\n",
        "print(classification_report(y_test,y_pred))"
      ],
      "execution_count": null,
      "outputs": [
        {
          "output_type": "stream",
          "name": "stdout",
          "text": [
            "[[150  10]\n",
            " [  0 115]]\n",
            "              precision    recall  f1-score   support\n",
            "\n",
            "           0       1.00      0.94      0.97       160\n",
            "           1       0.92      1.00      0.96       115\n",
            "\n",
            "    accuracy                           0.96       275\n",
            "   macro avg       0.96      0.97      0.96       275\n",
            "weighted avg       0.97      0.96      0.96       275\n",
            "\n"
          ]
        }
      ]
    },
    {
      "cell_type": "markdown",
      "metadata": {
        "id": "refw51kchQoA"
      },
      "source": [
        "### Kernel = RBF(Gaussian Kernel)"
      ]
    },
    {
      "cell_type": "code",
      "metadata": {
        "colab": {
          "base_uri": "https://localhost:8080/"
        },
        "id": "e4E4ftO-hQoA",
        "outputId": "f180311c-a6cb-4cdd-b930-7d0f5dcaa6ba"
      },
      "source": [
        "from sklearn.svm import SVC\n",
        "svclassifier = SVC(kernel='rbf')\n",
        "svclassifier.fit(X_train, y_train)"
      ],
      "execution_count": null,
      "outputs": [
        {
          "output_type": "execute_result",
          "data": {
            "text/plain": [
              "SVC()"
            ]
          },
          "metadata": {},
          "execution_count": 73
        }
      ]
    },
    {
      "cell_type": "code",
      "metadata": {
        "colab": {
          "base_uri": "https://localhost:8080/"
        },
        "id": "9gQLIRkQhQoB",
        "outputId": "cb9706ab-7328-46b1-a751-00861786d988"
      },
      "source": [
        "y_pred = svclassifier.predict(X_test)\n",
        "y_pred"
      ],
      "execution_count": null,
      "outputs": [
        {
          "output_type": "execute_result",
          "data": {
            "text/plain": [
              "array([0, 0, 0, 0, 0, 0, 0, 1, 1, 1, 1, 0, 1, 1, 0, 1, 0, 1, 0, 1, 0, 0,\n",
              "       0, 0, 1, 0, 1, 1, 1, 0, 0, 1, 0, 1, 1, 1, 0, 1, 0, 0, 0, 1, 1, 0,\n",
              "       0, 0, 1, 0, 0, 0, 1, 1, 1, 1, 0, 0, 0, 1, 0, 0, 0, 0, 1, 0, 0, 0,\n",
              "       0, 0, 1, 0, 1, 0, 0, 1, 1, 0, 0, 1, 1, 1, 1, 0, 0, 0, 1, 0, 0, 0,\n",
              "       1, 1, 1, 0, 0, 1, 0, 0, 0, 1, 0, 0, 0, 1, 1, 1, 0, 0, 1, 1, 0, 0,\n",
              "       1, 1, 0, 0, 0, 0, 0, 0, 0, 0, 1, 1, 0, 1, 0, 1, 1, 1, 0, 1, 0, 0,\n",
              "       1, 0, 0, 1, 0, 0, 1, 0, 1, 0, 0, 0, 0, 0, 0, 0, 0, 0, 0, 1, 0, 0,\n",
              "       0, 0, 1, 0, 0, 1, 0, 1, 0, 0, 0, 1, 1, 0, 0, 0, 1, 1, 1, 1, 1, 0,\n",
              "       0, 1, 0, 0, 1, 0, 0, 1, 0, 0, 0, 1, 0, 0, 0, 1, 1, 1, 1, 1, 0, 1,\n",
              "       1, 1, 1, 0, 0, 0, 1, 0, 1, 0, 1, 0, 1, 1, 1, 0, 0, 1, 1, 1, 0, 0,\n",
              "       0, 0, 1, 1, 0, 1, 0, 1, 0, 1, 0, 0, 1, 0, 1, 0, 0, 1, 0, 0, 1, 0,\n",
              "       1, 0, 1, 1, 1, 1, 0, 1, 0, 0, 1, 0, 1, 0, 1, 0, 0, 0, 0, 0, 0, 0,\n",
              "       0, 0, 0, 1, 1, 1, 0, 0, 1, 1, 1])"
            ]
          },
          "metadata": {},
          "execution_count": 74
        }
      ]
    },
    {
      "cell_type": "code",
      "metadata": {
        "colab": {
          "base_uri": "https://localhost:8080/"
        },
        "id": "7CkAJjikhQoB",
        "outputId": "6a0a865b-af06-4d96-d1db-92c8416661a7"
      },
      "source": [
        "svclassifier.support_"
      ],
      "execution_count": null,
      "outputs": [
        {
          "output_type": "execute_result",
          "data": {
            "text/plain": [
              "array([  13,   17,   57,   92,   98,  110,  151,  159,  161,  190,  204,\n",
              "        297,  319,  342,  361,  376,  381,  397,  465,  477,  482,  505,\n",
              "        507,  519,  543,  607,  617,  632,  665,  734,  754,  846,  849,\n",
              "        871,  873,  875,  879,  901,  912,  929,  956,  968,  980, 1070,\n",
              "       1076,   43,   46,   70,   74,  128,  156,  169,  176,  237,  251,\n",
              "        303,  307,  328,  345,  415,  438,  449,  469,  479,  529,  531,\n",
              "        560,  631,  706,  743,  769,  771,  780,  788,  813,  833,  851,\n",
              "        895,  904,  910,  925,  951,  961,  963, 1027, 1034], dtype=int32)"
            ]
          },
          "metadata": {},
          "execution_count": 75
        }
      ]
    },
    {
      "cell_type": "code",
      "metadata": {
        "colab": {
          "base_uri": "https://localhost:8080/"
        },
        "id": "AxJlx1ouhQoB",
        "outputId": "3dc73d0a-b5c2-4a8e-806f-1af1985e6ca3"
      },
      "source": [
        "svclassifier.n_support_"
      ],
      "execution_count": null,
      "outputs": [
        {
          "output_type": "execute_result",
          "data": {
            "text/plain": [
              "array([45, 41], dtype=int32)"
            ]
          },
          "metadata": {},
          "execution_count": 76
        }
      ]
    },
    {
      "cell_type": "code",
      "metadata": {
        "colab": {
          "base_uri": "https://localhost:8080/"
        },
        "id": "7-jdf0b9hQoC",
        "outputId": "1036523d-992a-4b45-f3a6-8d5fe899d8a7"
      },
      "source": [
        "from sklearn.metrics import classification_report, confusion_matrix\n",
        "print(confusion_matrix(y_test,y_pred))\n",
        "print(classification_report(y_test,y_pred))"
      ],
      "execution_count": null,
      "outputs": [
        {
          "output_type": "stream",
          "name": "stdout",
          "text": [
            "[[159   1]\n",
            " [  0 115]]\n",
            "              precision    recall  f1-score   support\n",
            "\n",
            "           0       1.00      0.99      1.00       160\n",
            "           1       0.99      1.00      1.00       115\n",
            "\n",
            "    accuracy                           1.00       275\n",
            "   macro avg       1.00      1.00      1.00       275\n",
            "weighted avg       1.00      1.00      1.00       275\n",
            "\n"
          ]
        }
      ]
    },
    {
      "cell_type": "code",
      "metadata": {
        "colab": {
          "base_uri": "https://localhost:8080/"
        },
        "id": "2i02F-MlhQoC",
        "outputId": "55b653a0-16b4-4d2d-ad1d-c1cc813be095"
      },
      "source": [
        "from sklearn.svm import SVC\n",
        "svclassifier = SVC(kernel='poly', degree=2)\n",
        "svclassifier.fit(X_train, y_train)"
      ],
      "execution_count": null,
      "outputs": [
        {
          "output_type": "execute_result",
          "data": {
            "text/plain": [
              "SVC(degree=2, kernel='poly')"
            ]
          },
          "metadata": {},
          "execution_count": 78
        }
      ]
    },
    {
      "cell_type": "markdown",
      "metadata": {
        "id": "0GZOiBQwhQoD"
      },
      "source": [
        "### Kernel = Sigmoid"
      ]
    },
    {
      "cell_type": "code",
      "metadata": {
        "colab": {
          "base_uri": "https://localhost:8080/"
        },
        "id": "tA77mrFWhQoD",
        "outputId": "004471bc-7a83-4a88-e8b0-071b5467ad41"
      },
      "source": [
        "from sklearn.svm import SVC\n",
        "svclassifier = SVC(kernel='sigmoid')\n",
        "svclassifier.fit(X_train, y_train)"
      ],
      "execution_count": null,
      "outputs": [
        {
          "output_type": "execute_result",
          "data": {
            "text/plain": [
              "SVC(kernel='sigmoid')"
            ]
          },
          "metadata": {},
          "execution_count": 79
        }
      ]
    },
    {
      "cell_type": "code",
      "metadata": {
        "colab": {
          "base_uri": "https://localhost:8080/"
        },
        "id": "9ERlyKmzhQoE",
        "outputId": "69b39cc7-6e90-4681-9d08-d3c2ad3e0630"
      },
      "source": [
        "y_pred = svclassifier.predict(X_test)\n",
        "y_pred"
      ],
      "execution_count": null,
      "outputs": [
        {
          "output_type": "execute_result",
          "data": {
            "text/plain": [
              "array([0, 1, 0, 1, 0, 0, 0, 0, 0, 1, 1, 0, 1, 1, 0, 1, 0, 1, 0, 0, 0, 0,\n",
              "       0, 0, 1, 0, 1, 1, 1, 0, 0, 1, 1, 1, 1, 0, 0, 0, 0, 0, 1, 1, 0, 0,\n",
              "       1, 0, 1, 1, 0, 0, 1, 1, 0, 0, 0, 0, 0, 1, 0, 0, 0, 0, 1, 0, 1, 1,\n",
              "       0, 0, 0, 0, 0, 1, 0, 1, 1, 0, 1, 0, 1, 0, 1, 0, 1, 0, 1, 0, 0, 0,\n",
              "       1, 0, 0, 0, 0, 1, 0, 0, 0, 1, 0, 0, 0, 0, 0, 1, 0, 0, 0, 1, 0, 1,\n",
              "       1, 1, 1, 1, 1, 1, 0, 0, 0, 1, 1, 0, 0, 1, 0, 0, 1, 0, 1, 1, 0, 0,\n",
              "       1, 0, 0, 0, 0, 1, 0, 0, 1, 0, 0, 0, 0, 0, 0, 0, 1, 1, 1, 1, 1, 0,\n",
              "       0, 0, 1, 1, 0, 1, 0, 1, 1, 1, 0, 0, 0, 1, 0, 0, 1, 1, 0, 1, 0, 1,\n",
              "       0, 1, 0, 0, 0, 0, 0, 1, 0, 0, 0, 0, 1, 0, 1, 1, 1, 0, 1, 1, 1, 1,\n",
              "       0, 0, 1, 0, 1, 1, 0, 1, 0, 0, 1, 0, 1, 1, 1, 0, 1, 0, 1, 0, 0, 1,\n",
              "       0, 0, 0, 0, 0, 1, 0, 0, 0, 1, 0, 0, 1, 1, 1, 0, 1, 0, 0, 0, 0, 1,\n",
              "       1, 0, 1, 1, 1, 1, 0, 0, 1, 0, 1, 0, 1, 0, 0, 0, 0, 0, 1, 0, 0, 0,\n",
              "       1, 0, 0, 1, 1, 1, 0, 0, 1, 0, 1])"
            ]
          },
          "metadata": {},
          "execution_count": 80
        }
      ]
    },
    {
      "cell_type": "code",
      "metadata": {
        "colab": {
          "base_uri": "https://localhost:8080/"
        },
        "id": "yD5S15iJhQoE",
        "outputId": "ade00e54-7980-4d7a-be24-ba6922a88ebc"
      },
      "source": [
        "svclassifier.support_"
      ],
      "execution_count": null,
      "outputs": [
        {
          "output_type": "execute_result",
          "data": {
            "text/plain": [
              "array([   2,   13,   16,   17,   28,   29,   38,   50,   55,   57,   58,\n",
              "         63,   66,   71,   76,   77,   78,   81,   89,   96,   98,  108,\n",
              "        110,  113,  121,  122,  126,  127,  136,  138,  148,  151,  152,\n",
              "        158,  163,  170,  175,  183,  195,  202,  204,  215,  222,  223,\n",
              "        226,  232,  233,  236,  246,  252,  258,  266,  268,  271,  273,\n",
              "        278,  287,  293,  295,  297,  302,  305,  319,  324,  337,  338,\n",
              "        339,  347,  356,  365,  376,  381,  382,  388,  389,  396,  398,\n",
              "        404,  410,  418,  440,  441,  442,  447,  448,  465,  477,  482,\n",
              "        487,  497,  498,  505,  509,  524,  528,  542,  543,  545,  547,\n",
              "        548,  554,  557,  561,  567,  575,  583,  600,  614,  615,  618,\n",
              "        625,  632,  640,  662,  672,  676,  684,  685,  686,  692,  702,\n",
              "        705,  708,  721,  726,  730,  733,  734,  739,  741,  749,  754,\n",
              "        759,  760,  765,  774,  793,  797,  805,  808,  823,  830,  846,\n",
              "        849,  861,  864,  871,  876,  879,  884,  885,  886,  892,  901,\n",
              "        905,  911,  912,  919,  931,  932,  940,  943,  956,  958,  962,\n",
              "        968,  971,  979,  980,  983,  985,  987,  990,  997, 1004, 1012,\n",
              "       1013, 1016, 1026, 1041, 1045, 1053, 1063, 1067, 1069, 1070, 1073,\n",
              "       1074, 1077, 1083, 1092,    3,    4,    5,    7,   10,   12,   15,\n",
              "         18,   21,   22,   25,   39,   41,   42,   45,   49,   53,   60,\n",
              "         67,   72,   74,   82,   83,   88,   97,  107,  118,  124,  128,\n",
              "        130,  135,  137,  141,  142,  143,  145,  155,  165,  167,  169,\n",
              "        177,  178,  181,  198,  200,  201,  211,  220,  221,  224,  229,\n",
              "        238,  251,  261,  269,  279,  285,  286,  304,  309,  310,  317,\n",
              "        325,  329,  335,  352,  354,  357,  369,  370,  385,  387,  390,\n",
              "        392,  406,  414,  416,  419,  422,  427,  428,  436,  443,  444,\n",
              "        446,  454,  459,  460,  471,  475,  479,  490,  495,  504,  516,\n",
              "        523,  529,  537,  571,  577,  580,  581,  582,  586,  587,  589,\n",
              "        623,  624,  628,  630,  633,  636,  637,  644,  657,  663,  678,\n",
              "        690,  696,  698,  699,  707,  713,  717,  719,  728,  731,  740,\n",
              "        742,  757,  758,  768,  771,  779,  784,  789,  791,  794,  802,\n",
              "        806,  809,  818,  837,  842,  843,  844,  845,  851,  852,  853,\n",
              "        855,  857,  862,  868,  883,  889,  891,  898,  909,  910,  924,\n",
              "        930,  938,  942,  952,  966,  969,  970,  973,  984,  992, 1001,\n",
              "       1006, 1009, 1011, 1018, 1024, 1025, 1034, 1035, 1037, 1048, 1054,\n",
              "       1055, 1059, 1065, 1079, 1080, 1085, 1089, 1090, 1091], dtype=int32)"
            ]
          },
          "metadata": {},
          "execution_count": 81
        }
      ]
    },
    {
      "cell_type": "code",
      "metadata": {
        "colab": {
          "base_uri": "https://localhost:8080/"
        },
        "id": "y-tEeS8nhQoF",
        "outputId": "a2e38c65-7895-4c14-aeb1-5d487d473fcd"
      },
      "source": [
        "svclassifier.n_support_"
      ],
      "execution_count": null,
      "outputs": [
        {
          "output_type": "execute_result",
          "data": {
            "text/plain": [
              "array([191, 192], dtype=int32)"
            ]
          },
          "metadata": {},
          "execution_count": 82
        }
      ]
    },
    {
      "cell_type": "code",
      "metadata": {
        "colab": {
          "base_uri": "https://localhost:8080/"
        },
        "id": "gJ12FCFihQoF",
        "outputId": "7f704e12-aa0c-4729-b934-33c7651a8457"
      },
      "source": [
        "from sklearn.metrics import classification_report, confusion_matrix\n",
        "print(confusion_matrix(y_test,y_pred))\n",
        "print(classification_report(y_test,y_pred))"
      ],
      "execution_count": null,
      "outputs": [
        {
          "output_type": "stream",
          "name": "stdout",
          "text": [
            "[[117  43]\n",
            " [ 43  72]]\n",
            "              precision    recall  f1-score   support\n",
            "\n",
            "           0       0.73      0.73      0.73       160\n",
            "           1       0.63      0.63      0.63       115\n",
            "\n",
            "    accuracy                           0.69       275\n",
            "   macro avg       0.68      0.68      0.68       275\n",
            "weighted avg       0.69      0.69      0.69       275\n",
            "\n"
          ]
        }
      ]
    },
    {
      "cell_type": "markdown",
      "metadata": {
        "id": "ekr74xXLhQoF"
      },
      "source": [
        "### Based on all the kernels, **RBF** having the highest accuracy is the best kernel model for this dataset."
      ]
    },
    {
      "cell_type": "markdown",
      "metadata": {
        "id": "MW0P4-Lei1Q1"
      },
      "source": [
        "## 3. Consider a 2-class dataset with two input variable. Plot the scatter plot of the dataset. Train the SVM-svc model with the dataset and compute the plane that separates the data. Print the equation of the hyperplane. Also draw the Maximum Margine Hyperplane with the support vectors plotted."
      ]
    },
    {
      "cell_type": "code",
      "metadata": {
        "id": "prLZJ4QMjGuB"
      },
      "source": [
        "import random\n",
        "import numpy as np\n",
        "import pandas as pd\n",
        "import matplotlib.pyplot as plt\n",
        "\n",
        "def generate_random_dataset(size):\n",
        "  \n",
        "    x = []\n",
        "    y = []\n",
        "    target = []    \n",
        "    for i in range(size):\n",
        "        # class zero\n",
        "        x.append(np.round(random.uniform(0, 2.5), 1))\n",
        "        y.append(np.round(random.uniform(0, 20), 1))\n",
        "        target.append(0)        \n",
        "        # class one\n",
        "        x.append(np.round(random.uniform(1, 5), 2))\n",
        "        y.append(np.round(random.uniform(20, 25), 2))\n",
        "        target.append(1)        \n",
        "        x.append(np.round(random.uniform(3, 5), 2))\n",
        "        y.append(np.round(random.uniform(5, 25), 2))\n",
        "        target.append(1)    \n",
        "    df_x = pd.DataFrame(data=x)\n",
        "    df_y = pd.DataFrame(data=y)\n",
        "    df_target = pd.DataFrame(data=target)\n",
        "    data_frame = pd.concat([df_x, df_y], ignore_index=True, axis=1)\n",
        "    data_frame = pd.concat([data_frame, df_target], ignore_index=True, axis=1)    \n",
        "    data_frame.columns = ['x', 'y', 'target']\n",
        "    return data_frame"
      ],
      "execution_count": null,
      "outputs": []
    },
    {
      "cell_type": "code",
      "metadata": {
        "colab": {
          "base_uri": "https://localhost:8080/",
          "height": 428
        },
        "id": "TnTL8IODjOQm",
        "outputId": "8892299f-b285-4ad0-8683-37270052fbcd"
      },
      "source": [
        "# Generate dataset\n",
        "size = 100\n",
        "dataset = generate_random_dataset(size)\n",
        "features = dataset[['x', 'y']]\n",
        "label = dataset['target']\n",
        "# Hold out 20% of the dataset for training\n",
        "test_size = int(np.round(size * 0.2, 0))\n",
        "# Split dataset into training and testing sets\n",
        "x_train = features[:-test_size].values\n",
        "y_train = label[:-test_size].values\n",
        "x_test = features[-test_size:].values\n",
        "y_test = label[-test_size:].values\n",
        "# Plotting the training set\n",
        "fig, ax = plt.subplots(figsize=(12, 7))\n",
        "# removing to and right border\n",
        "#ax.spines['top'].set_visible(False)\n",
        "#ax.spines['left'].set_visible(False)\n",
        "#ax.spines['right'].set_visible(False)\n",
        "# adding major gridlines\n",
        "ax.grid(color='blue', linestyle='-', linewidth=0.25, alpha=0.5)\n",
        "ax.scatter(features[:-test_size]['x'], features[:-test_size]['y'], color=\"#7D9658\")\n",
        "\n",
        "plt.show()"
      ],
      "execution_count": null,
      "outputs": [
        {
          "output_type": "display_data",
          "data": {
            "image/png": "[encoded data removed]",
            "text/plain": [
              "<Figure size 864x504 with 1 Axes>"
            ]
          },
          "metadata": {
            "needs_background": "light"
          }
        }
      ]
    },
    {
      "cell_type": "code",
      "metadata": {
        "colab": {
          "base_uri": "https://localhost:8080/",
          "height": 423
        },
        "id": "gycbLErAjRsR",
        "outputId": "1c4dbf7e-6ee9-4cd9-9a4a-3217a03fdf55"
      },
      "source": [
        "dataset"
      ],
      "execution_count": null,
      "outputs": [
        {
          "output_type": "execute_result",
          "data": {
            "text/html": [
              "<div>\n",
              "<style scoped>\n",
              "    .dataframe tbody tr th:only-of-type {\n",
              "        vertical-align: middle;\n",
              "    }\n",
              "\n",
              "    .dataframe tbody tr th {\n",
              "        vertical-align: top;\n",
              "    }\n",
              "\n",
              "    .dataframe thead th {\n",
              "        text-align: right;\n",
              "    }\n",
              "</style>\n",
              "<table border=\"1\" class=\"dataframe\">\n",
              "  <thead>\n",
              "    <tr style=\"text-align: right;\">\n",
              "      <th></th>\n",
              "      <th>x</th>\n",
              "      <th>y</th>\n",
              "      <th>target</th>\n",
              "    </tr>\n",
              "  </thead>\n",
              "  <tbody>\n",
              "    <tr>\n",
              "      <th>0</th>\n",
              "      <td>2.40</td>\n",
              "      <td>2.40</td>\n",
              "      <td>0</td>\n",
              "    </tr>\n",
              "    <tr>\n",
              "      <th>1</th>\n",
              "      <td>1.83</td>\n",
              "      <td>21.80</td>\n",
              "      <td>1</td>\n",
              "    </tr>\n",
              "    <tr>\n",
              "      <th>2</th>\n",
              "      <td>4.42</td>\n",
              "      <td>21.64</td>\n",
              "      <td>1</td>\n",
              "    </tr>\n",
              "    <tr>\n",
              "      <th>3</th>\n",
              "      <td>1.30</td>\n",
              "      <td>1.20</td>\n",
              "      <td>0</td>\n",
              "    </tr>\n",
              "    <tr>\n",
              "      <th>4</th>\n",
              "      <td>3.33</td>\n",
              "      <td>24.41</td>\n",
              "      <td>1</td>\n",
              "    </tr>\n",
              "    <tr>\n",
              "      <th>...</th>\n",
              "      <td>...</td>\n",
              "      <td>...</td>\n",
              "      <td>...</td>\n",
              "    </tr>\n",
              "    <tr>\n",
              "      <th>295</th>\n",
              "      <td>1.47</td>\n",
              "      <td>21.39</td>\n",
              "      <td>1</td>\n",
              "    </tr>\n",
              "    <tr>\n",
              "      <th>296</th>\n",
              "      <td>3.75</td>\n",
              "      <td>11.22</td>\n",
              "      <td>1</td>\n",
              "    </tr>\n",
              "    <tr>\n",
              "      <th>297</th>\n",
              "      <td>0.70</td>\n",
              "      <td>4.90</td>\n",
              "      <td>0</td>\n",
              "    </tr>\n",
              "    <tr>\n",
              "      <th>298</th>\n",
              "      <td>3.03</td>\n",
              "      <td>21.42</td>\n",
              "      <td>1</td>\n",
              "    </tr>\n",
              "    <tr>\n",
              "      <th>299</th>\n",
              "      <td>4.49</td>\n",
              "      <td>11.51</td>\n",
              "      <td>1</td>\n",
              "    </tr>\n",
              "  </tbody>\n",
              "</table>\n",
              "<p>300 rows × 3 columns</p>\n",
              "</div>"
            ],
            "text/plain": [
              "        x      y  target\n",
              "0    2.40   2.40       0\n",
              "1    1.83  21.80       1\n",
              "2    4.42  21.64       1\n",
              "3    1.30   1.20       0\n",
              "4    3.33  24.41       1\n",
              "..    ...    ...     ...\n",
              "295  1.47  21.39       1\n",
              "296  3.75  11.22       1\n",
              "297  0.70   4.90       0\n",
              "298  3.03  21.42       1\n",
              "299  4.49  11.51       1\n",
              "\n",
              "[300 rows x 3 columns]"
            ]
          },
          "metadata": {},
          "execution_count": 157
        }
      ]
    },
    {
      "cell_type": "code",
      "metadata": {
        "colab": {
          "base_uri": "https://localhost:8080/"
        },
        "id": "GbyvPVo6jtKL",
        "outputId": "c2af38fe-20d0-4d3f-df3d-6cebc014255a"
      },
      "source": [
        "from sklearn import svm\n",
        "model = svm.SVC(kernel='linear')\n",
        "model.fit(x_train, y_train) "
      ],
      "execution_count": null,
      "outputs": [
        {
          "output_type": "execute_result",
          "data": {
            "text/plain": [
              "SVC(kernel='linear')"
            ]
          },
          "metadata": {},
          "execution_count": 158
        }
      ]
    },
    {
      "cell_type": "code",
      "metadata": {
        "colab": {
          "base_uri": "https://localhost:8080/"
        },
        "id": "g29ika09jv37",
        "outputId": "c5a205e7-71d5-4bac-d79f-89eed629741d"
      },
      "source": [
        "#who all are the support vectors from the dataset(whose alpha values are grater than zero)\n",
        "model.support_vectors_"
      ],
      "execution_count": null,
      "outputs": [
        {
          "output_type": "execute_result",
          "data": {
            "text/plain": [
              "array([[ 1.3 , 18.6 ],\n",
              "       [ 1.5 , 19.4 ],\n",
              "       [ 2.4 , 17.9 ],\n",
              "       [ 2.2 , 14.6 ],\n",
              "       [ 2.3 , 15.6 ],\n",
              "       [ 1.7 , 15.4 ],\n",
              "       [ 2.5 ,  9.8 ],\n",
              "       [ 1.6 , 18.6 ],\n",
              "       [ 2.4 ,  9.  ],\n",
              "       [ 1.7 , 15.  ],\n",
              "       [ 1.6 , 15.1 ],\n",
              "       [ 2.4 , 17.7 ],\n",
              "       [ 2.1 , 14.7 ],\n",
              "       [ 2.5 ,  9.4 ],\n",
              "       [ 1.5 , 16.8 ],\n",
              "       [ 3.14,  8.43],\n",
              "       [ 3.13,  5.74],\n",
              "       [ 1.34, 21.08],\n",
              "       [ 3.3 ,  6.24],\n",
              "       [ 3.42,  6.08],\n",
              "       [ 3.47,  6.34],\n",
              "       [ 1.17, 22.35],\n",
              "       [ 1.07, 24.5 ],\n",
              "       [ 1.2 , 21.34],\n",
              "       [ 1.01, 24.07],\n",
              "       [ 3.23,  8.87],\n",
              "       [ 1.27, 21.44],\n",
              "       [ 1.52, 20.8 ],\n",
              "       [ 1.66, 20.62]])"
            ]
          },
          "metadata": {},
          "execution_count": 159
        }
      ]
    },
    {
      "cell_type": "code",
      "metadata": {
        "colab": {
          "base_uri": "https://localhost:8080/"
        },
        "id": "9_ceXj6Bj0XY",
        "outputId": "6c9df331-53bd-41c8-ae86-ffc6543e4e76"
      },
      "source": [
        "#Gives number of support vectors\n",
        "model.n_support_"
      ],
      "execution_count": null,
      "outputs": [
        {
          "output_type": "execute_result",
          "data": {
            "text/plain": [
              "array([15, 14], dtype=int32)"
            ]
          },
          "metadata": {},
          "execution_count": 160
        }
      ]
    },
    {
      "cell_type": "code",
      "metadata": {
        "colab": {
          "base_uri": "https://localhost:8080/"
        },
        "id": "Z_5mN0Yaj2LL",
        "outputId": "3658382c-052a-4de3-f86e-f23a730f6b75"
      },
      "source": [
        "#Index of the support vectors from the dataset\n",
        "model.support_"
      ],
      "execution_count": null,
      "outputs": [
        {
          "output_type": "execute_result",
          "data": {
            "text/plain": [
              "array([ 30,  75,  81,  96,  99, 102, 135, 144, 198, 210, 222, 231, 243,\n",
              "       273, 276,  53,  62,  79,  95,  98, 104, 109, 115, 166, 181, 206,\n",
              "       220, 253, 259], dtype=int32)"
            ]
          },
          "metadata": {},
          "execution_count": 161
        }
      ]
    },
    {
      "cell_type": "code",
      "metadata": {
        "colab": {
          "base_uri": "https://localhost:8080/",
          "height": 428
        },
        "id": "k-axs009j3lu",
        "outputId": "f81d6e62-cd53-4183-d31a-b6e13055ecdc"
      },
      "source": [
        "fig, ax = plt.subplots(figsize=(12, 7))\n",
        "ax.spines['top'].set_visible(False)\n",
        "ax.spines['left'].set_visible(False)\n",
        "ax.spines['right'].set_visible(False)\n",
        "# Create grid to evaluate model\n",
        "xx = np.linspace(-1, max(features['x']) + 1, len(x_train))\n",
        "yy = np.linspace(0, max(features['y']) + 1, len(y_train))\n",
        "YY, XX = np.meshgrid(yy, xx)\n",
        "xy = np.vstack([XX.ravel(), YY.ravel()]).T\n",
        "train_size = len(features[:-test_size]['x'])\n",
        "# Assigning different colors to the classes\n",
        "colors = y_train\n",
        "colors = np.where(colors == 1, '#8C7298', '#4786D1')\n",
        "# Plot the dataset\n",
        "ax.scatter(features[:-test_size]['x'], features[:-test_size]['y'], c=colors)\n",
        "# Get the separating hyperplane\n",
        "Z = model.decision_function(xy).reshape(XX.shape)\n",
        "# Draw the decision boundary and margins\n",
        "ax.contour(XX, YY, Z, colors='k', levels=[-1, 0, 1], alpha=0.5, linestyles=['--', '-', '--'])\n",
        "# Highlight support vectors with a circle around them\n",
        "ax.scatter(model.support_vectors_[:, 0], model.support_vectors_[:, 1], s=0, linewidth=1, facecolors='none', edgecolors='k')\n",
        "plt.show()"
      ],
      "execution_count": null,
      "outputs": [
        {
          "output_type": "display_data",
          "data": {
            "image/png": "[encoded data removed]",
            "text/plain": [
              "<Figure size 864x504 with 1 Axes>"
            ]
          },
          "metadata": {
            "needs_background": "light"
          }
        }
      ]
    },
    {
      "cell_type": "code",
      "metadata": {
        "id": "KGPoSa39j9GC"
      },
      "source": [
        "w = model.coef_ \n",
        "b = model.intercept_ "
      ],
      "execution_count": null,
      "outputs": []
    },
    {
      "cell_type": "code",
      "metadata": {
        "colab": {
          "base_uri": "https://localhost:8080/"
        },
        "id": "6PaMb05n3_LS",
        "outputId": "8c9de721-3da5-4640-fdf9-ec9482ac3f95"
      },
      "source": [
        "w,b"
      ],
      "execution_count": null,
      "outputs": [
        {
          "output_type": "execute_result",
          "data": {
            "text/plain": [
              "(array([[2.46038497, 0.32267914]]), array([-9.80910172]))"
            ]
          },
          "metadata": {},
          "execution_count": 165
        }
      ]
    },
    {
      "cell_type": "code",
      "metadata": {
        "colab": {
          "base_uri": "https://localhost:8080/",
          "height": 35
        },
        "id": "JO3gXwCL4Iyx",
        "outputId": "2ae4baa9-494d-4ade-83d0-223979197ed5"
      },
      "source": [
        "equation = '('+str(w[0][0])+')x + ' + '('+str(w[0][1])+')y + ' + str(b)\n",
        "equation"
      ],
      "execution_count": null,
      "outputs": [
        {
          "output_type": "execute_result",
          "data": {
            "application/vnd.google.colaboratory.intrinsic+json": {
              "type": "string"
            },
            "text/plain": [
              "'(2.4603849671986513)x + (0.32267913827923067)y + [-9.80910172]'"
            ]
          },
          "metadata": {},
          "execution_count": 173
        }
      ]
    },
    {
      "cell_type": "markdown",
      "metadata": {
        "id": "8QscYUdIlvAz"
      },
      "source": [
        "## 6. There are 15 parameters in `sklearn Support Vector Classifier' (https:scikit-learn.orgstablemodulesgeneratedsklearn.svm.SVC.html). Understand the interpretation of different values that can be as- signed to each of the 15 parameters. Conduct the experiment with P1 where P1 is a 15-tuple ( a set of 15 values with a value for each parameter). Choose another set of 15-values, P2, for the parameters of the logistic regression classifier such that, values of none of the 15 paramemters are same. Consider a 2-class dataset. Classify the data using sklearn SVM-svc with P1 and P2 separately. Illustrate the impact of the change in the values of the parameter, as reflected in the output of your experiment."
      ]
    },
    {
      "cell_type": "code",
      "metadata": {
        "id": "24pZbrRqzocD"
      },
      "source": [
        "import random\n",
        "import numpy as np\n",
        "import pandas as pd\n",
        "import matplotlib.pyplot as plt\n",
        "%matplotlib inline\n",
        "\n",
        "def generate_random_dataset(size):\n",
        "  \n",
        "    x = []\n",
        "    y = []\n",
        "    target = []    \n",
        "    for i in range(size):\n",
        "        # class zero\n",
        "        x.append(np.round(random.uniform(0, 2.5), 1))\n",
        "        y.append(np.round(random.uniform(0, 20), 1))\n",
        "        target.append(0)        \n",
        "        # class one\n",
        "        x.append(np.round(random.uniform(1, 5), 2))\n",
        "        y.append(np.round(random.uniform(20, 25), 2))\n",
        "        target.append(1)        \n",
        "        x.append(np.round(random.uniform(3, 5), 2))\n",
        "        y.append(np.round(random.uniform(5, 25), 2))\n",
        "        target.append(1)    \n",
        "    df_x = pd.DataFrame(data=x)\n",
        "    df_y = pd.DataFrame(data=y)\n",
        "    df_target = pd.DataFrame(data=target)\n",
        "    data_frame = pd.concat([df_x, df_y], ignore_index=True, axis=1)\n",
        "    data_frame = pd.concat([data_frame, df_target], ignore_index=True, axis=1)    \n",
        "    data_frame.columns = ['x', 'y', 'target']\n",
        "    return data_frame"
      ],
      "execution_count": null,
      "outputs": []
    },
    {
      "cell_type": "code",
      "metadata": {
        "colab": {
          "base_uri": "https://localhost:8080/",
          "height": 428
        },
        "id": "9Wkm7E5vab8L",
        "outputId": "e3f2399e-e2bf-463f-d1fe-68608e1e9462"
      },
      "source": [
        "# Generate dataset\n",
        "size = 100\n",
        "dataset = generate_random_dataset(size)\n",
        "features = dataset[['x', 'y']]\n",
        "label = dataset['target']\n",
        "# Hold out 20% of the dataset for training\n",
        "test_size = int(np.round(size * 0.2, 0))\n",
        "# Split dataset into training and testing sets\n",
        "x_train = features[:-test_size].values\n",
        "y_train = label[:-test_size].values\n",
        "x_test = features[-test_size:].values\n",
        "y_test = label[-test_size:].values\n",
        "# Plotting the training set\n",
        "fig, ax = plt.subplots(figsize=(12, 7))\n",
        "# removing to and right border\n",
        "#ax.spines['top'].set_visible(False)\n",
        "#ax.spines['left'].set_visible(False)\n",
        "#ax.spines['right'].set_visible(False)\n",
        "# adding major gridlines\n",
        "ax.grid(color='blue', linestyle='-', linewidth=0.25, alpha=0.5)\n",
        "ax.scatter(features[:-test_size]['x'], features[:-test_size]['y'], color=\"#8C7298\")\n",
        "\n",
        "plt.show()"
      ],
      "execution_count": null,
      "outputs": [
        {
          "output_type": "display_data",
          "data": {
            "image/png": "[encoded data removed]",
            "text/plain": [
              "<Figure size 864x504 with 1 Axes>"
            ]
          },
          "metadata": {
            "needs_background": "light"
          }
        }
      ]
    },
    {
      "cell_type": "code",
      "metadata": {
        "colab": {
          "base_uri": "https://localhost:8080/",
          "height": 423
        },
        "id": "GUu_KXxSz9qI",
        "outputId": "93777efe-fa8c-4e21-f2bf-4b2928d69abd"
      },
      "source": [
        "dataset"
      ],
      "execution_count": null,
      "outputs": [
        {
          "output_type": "execute_result",
          "data": {
            "text/html": [
              "<div>\n",
              "<style scoped>\n",
              "    .dataframe tbody tr th:only-of-type {\n",
              "        vertical-align: middle;\n",
              "    }\n",
              "\n",
              "    .dataframe tbody tr th {\n",
              "        vertical-align: top;\n",
              "    }\n",
              "\n",
              "    .dataframe thead th {\n",
              "        text-align: right;\n",
              "    }\n",
              "</style>\n",
              "<table border=\"1\" class=\"dataframe\">\n",
              "  <thead>\n",
              "    <tr style=\"text-align: right;\">\n",
              "      <th></th>\n",
              "      <th>x</th>\n",
              "      <th>y</th>\n",
              "      <th>target</th>\n",
              "    </tr>\n",
              "  </thead>\n",
              "  <tbody>\n",
              "    <tr>\n",
              "      <th>0</th>\n",
              "      <td>0.10</td>\n",
              "      <td>0.20</td>\n",
              "      <td>0</td>\n",
              "    </tr>\n",
              "    <tr>\n",
              "      <th>1</th>\n",
              "      <td>1.32</td>\n",
              "      <td>20.73</td>\n",
              "      <td>1</td>\n",
              "    </tr>\n",
              "    <tr>\n",
              "      <th>2</th>\n",
              "      <td>4.53</td>\n",
              "      <td>8.08</td>\n",
              "      <td>1</td>\n",
              "    </tr>\n",
              "    <tr>\n",
              "      <th>3</th>\n",
              "      <td>1.20</td>\n",
              "      <td>12.30</td>\n",
              "      <td>0</td>\n",
              "    </tr>\n",
              "    <tr>\n",
              "      <th>4</th>\n",
              "      <td>4.66</td>\n",
              "      <td>22.45</td>\n",
              "      <td>1</td>\n",
              "    </tr>\n",
              "    <tr>\n",
              "      <th>...</th>\n",
              "      <td>...</td>\n",
              "      <td>...</td>\n",
              "      <td>...</td>\n",
              "    </tr>\n",
              "    <tr>\n",
              "      <th>295</th>\n",
              "      <td>4.29</td>\n",
              "      <td>20.35</td>\n",
              "      <td>1</td>\n",
              "    </tr>\n",
              "    <tr>\n",
              "      <th>296</th>\n",
              "      <td>4.39</td>\n",
              "      <td>8.08</td>\n",
              "      <td>1</td>\n",
              "    </tr>\n",
              "    <tr>\n",
              "      <th>297</th>\n",
              "      <td>0.20</td>\n",
              "      <td>3.00</td>\n",
              "      <td>0</td>\n",
              "    </tr>\n",
              "    <tr>\n",
              "      <th>298</th>\n",
              "      <td>1.45</td>\n",
              "      <td>20.36</td>\n",
              "      <td>1</td>\n",
              "    </tr>\n",
              "    <tr>\n",
              "      <th>299</th>\n",
              "      <td>3.18</td>\n",
              "      <td>14.14</td>\n",
              "      <td>1</td>\n",
              "    </tr>\n",
              "  </tbody>\n",
              "</table>\n",
              "<p>300 rows × 3 columns</p>\n",
              "</div>"
            ],
            "text/plain": [
              "        x      y  target\n",
              "0    0.10   0.20       0\n",
              "1    1.32  20.73       1\n",
              "2    4.53   8.08       1\n",
              "3    1.20  12.30       0\n",
              "4    4.66  22.45       1\n",
              "..    ...    ...     ...\n",
              "295  4.29  20.35       1\n",
              "296  4.39   8.08       1\n",
              "297  0.20   3.00       0\n",
              "298  1.45  20.36       1\n",
              "299  3.18  14.14       1\n",
              "\n",
              "[300 rows x 3 columns]"
            ]
          },
          "metadata": {},
          "execution_count": 139
        }
      ]
    },
    {
      "cell_type": "code",
      "metadata": {
        "id": "LwiZrvU9rI7c"
      },
      "source": [
        "from sklearn import svm\n",
        "from sklearn.metrics import accuracy_score\n",
        "\n",
        "def SVM_self(C, kernel, degree, gamma, coef0, shrinking, probability, tol, cache_size, class_weight, verbose, max_iter, decision_function_shape, break_ties, random_state):\n",
        "\n",
        " \n",
        "    model = svm.SVC(C=C, kernel=kernel, degree=degree, gamma=gamma, coef0=coef0, \n",
        "                    shrinking=shrinking, probability=probability, tol=tol, cache_size=cache_size, \n",
        "                    class_weight=class_weight, verbose=verbose, max_iter=max_iter, \n",
        "                    decision_function_shape=decision_function_shape, break_ties=break_ties, random_state=random_state)\n",
        "    \n",
        "    model.fit(x_train, y_train) \n",
        "    model.support_vectors_\n",
        "    model.n_support_\n",
        "    model.support_\n",
        " \n",
        "    fig, ax = plt.subplots(figsize=(12, 7))\n",
        "    ax.spines['top'].set_visible(False)\n",
        "    ax.spines['left'].set_visible(False)\n",
        "    ax.spines['right'].set_visible(False)\n",
        "    # Create grid to evaluate model\n",
        "    xx = np.linspace(-1, max(features['x']) + 1, len(x_train))\n",
        "    yy = np.linspace(0, max(features['y']) + 1, len(y_train))\n",
        "    YY, XX = np.meshgrid(yy, xx)\n",
        "    xy = np.vstack([XX.ravel(), YY.ravel()]).T\n",
        "    train_size = len(features[:-test_size]['x'])\n",
        "    # Assigning different colors to the classes\n",
        "    colors = y_train\n",
        "    colors = np.where(colors == 1, '#8C7298', '#4786D1')\n",
        "    # Plot the dataset\n",
        "    ax.scatter(features[:-test_size]['x'], features[:-test_size]['y'], c=colors)\n",
        "    # Get the separating hyperplane\n",
        "    Z = model.decision_function(xy).reshape(XX.shape)\n",
        "    # Draw the decision boundary and margins\n",
        "    ax.contour(XX, YY, Z, colors='k', levels=[-1, 0, 1], alpha=0.5, linestyles=['--', '-', '--'])\n",
        "    # Highlight support vectors with a circle around them\n",
        "    ax.scatter(model.support_vectors_[:, 0], model.support_vectors_[:, 1], s=0, linewidth=1, facecolors='none', edgecolors='k')\n",
        "    plt.show()\n",
        "\n",
        "\n",
        "    predictions_poly = model.predict(x_test)\n",
        "    accuracy_poly = accuracy_score(y_test, predictions_poly)\n",
        "    print(\"Accuracy : \" + str(accuracy_poly))\n",
        "    predictions_poly"
      ],
      "execution_count": null,
      "outputs": []
    },
    {
      "cell_type": "code",
      "metadata": {
        "colab": {
          "base_uri": "https://localhost:8080/",
          "height": 446
        },
        "id": "UU-LnjCTzYjD",
        "outputId": "cbc1b160-bd29-4b37-a992-87a55b0b704b"
      },
      "source": [
        "SVM_self(C=1.0, kernel='rbf', degree=3, gamma='scale', coef0=0.0, shrinking=True, probability=False, tol=0.001, cache_size=200, class_weight=None, verbose=False, max_iter=- 1, decision_function_shape='ovr', break_ties=False, random_state=None)"
      ],
      "execution_count": null,
      "outputs": [
        {
          "output_type": "display_data",
          "data": {
            "image/png": "[encoded data removed]",
            "text/plain": [
              "<Figure size 864x504 with 1 Axes>"
            ]
          },
          "metadata": {
            "needs_background": "light"
          }
        },
        {
          "output_type": "stream",
          "name": "stdout",
          "text": [
            "Accuracy : 1.0\n"
          ]
        }
      ]
    },
    {
      "cell_type": "code",
      "metadata": {
        "colab": {
          "base_uri": "https://localhost:8080/",
          "height": 446
        },
        "id": "CM1D1yDH0QAr",
        "outputId": "b6d3887e-eed5-4428-c003-1dd5b01f24af"
      },
      "source": [
        "SVM_self(C=1.0, kernel='poly', degree=2, gamma='auto', coef0=0.1, shrinking=False, probability=True, tol=0.002, cache_size=300, class_weight=None, verbose=False, max_iter=- 1, decision_function_shape='ovr', break_ties=True, random_state=None)"
      ],
      "execution_count": null,
      "outputs": [
        {
          "output_type": "display_data",
          "data": {
            "image/png": "[encoded data removed]",
            "text/plain": [
              "<Figure size 864x504 with 1 Axes>"
            ]
          },
          "metadata": {
            "needs_background": "light"
          }
        },
        {
          "output_type": "stream",
          "name": "stdout",
          "text": [
            "Accuracy : 0.9\n"
          ]
        }
      ]
    },
    {
      "cell_type": "markdown",
      "metadata": {
        "id": "esNrxLt-ojyb"
      },
      "source": [
        "## 9. In the lab session, we projected the two concentric circles (using 'make circles') with two different classes onto a 3-dimensional space and computed the hyper plane that separates the classes using the code written for that purpose. Consider the dataset D related to those concentric circles (the dataset whose scatter plot is those two concentric circles), with two classes and train a non-linear svm (Sklearn SVM-svc) to compute the hyperplane that separates the classes."
      ]
    },
    {
      "cell_type": "code",
      "metadata": {
        "colab": {
          "base_uri": "https://localhost:8080/",
          "height": 265
        },
        "id": "J3bLAhR4owN6",
        "outputId": "db6dfb5c-3189-417a-e829-7d304023ae4e"
      },
      "source": [
        "import numpy as np \n",
        "import matplotlib.pyplot as plt\n",
        "%matplotlib inline\n",
        "from sklearn.datasets import make_circles \n",
        "from mpl_toolkits.mplot3d import Axes3D\n",
        "import warnings\n",
        "warnings.filterwarnings(\"ignore\") \n",
        "\n",
        "# generating data \n",
        "X, Y = make_circles(n_samples = 500, noise = 0.02) \n",
        "\n",
        "# visualizing data \n",
        "plt.scatter(X[:, 0], X[:, 1], c = Y, marker = '.') \n",
        "plt.show() "
      ],
      "execution_count": null,
      "outputs": [
        {
          "output_type": "display_data",
          "data": {
            "image/png": "[encoded data removed]",
            "text/plain": [
              "<Figure size 432x288 with 1 Axes>"
            ]
          },
          "metadata": {
            "needs_background": "light"
          }
        }
      ]
    },
    {
      "cell_type": "code",
      "metadata": {
        "colab": {
          "base_uri": "https://localhost:8080/",
          "height": 248
        },
        "id": "auEwTqswox4f",
        "outputId": "9f7009ea-9513-470c-d7af-0276b725c08c"
      },
      "source": [
        "# adding a new dimension to X \n",
        "X1 = X[:, 0].reshape((-1, 1)) \n",
        "X2 = X[:, 1].reshape((-1, 1)) \n",
        "X3 = (X1**2 + X2**2) \n",
        "X = np.hstack((X, X3)) \n",
        "  \n",
        "# visualizing data in higher dimension \n",
        "fig = plt.figure() \n",
        "axes = fig.add_subplot(111, projection = '3d') \n",
        "axes.scatter(X1, X2, X1**2 + X2**2, c = Y, depthshade = True) \n",
        "plt.show() "
      ],
      "execution_count": null,
      "outputs": [
        {
          "output_type": "display_data",
          "data": {
            "image/png": "[encoded data removed]",
            "text/plain": [
              "<Figure size 432x288 with 1 Axes>"
            ]
          },
          "metadata": {
            "needs_background": "light"
          }
        }
      ]
    },
    {
      "cell_type": "code",
      "metadata": {
        "colab": {
          "base_uri": "https://localhost:8080/",
          "height": 248
        },
        "id": "h9Gvs86xozSO",
        "outputId": "18957764-c4af-41bf-f1db-7268db6d2299"
      },
      "source": [
        "from sklearn import svm \n",
        "svc = svm.SVC(kernel = 'poly', degree = 2) \n",
        "svc.fit(X, Y) \n",
        "w = svc.dual_coef_\n",
        "b = svc.intercept_ \n",
        "  \n",
        "# plotting the separating hyperplane \n",
        "x1 = X[:, 0].reshape((-1, 1)) \n",
        "x2 = X[:, 1].reshape((-1, 1)) \n",
        "x1, x2 = np.meshgrid(x1, x2) \n",
        "x3 = -(w[0][0]*x1 + w[0][1]*x2 + b) / w[0][2] \n",
        "\n",
        "  \n",
        "fig = plt.figure() \n",
        "axes2 = fig.add_subplot(111, projection = '3d') \n",
        "axes2.scatter(X1, X2, X1**2 + X2**2, c = Y, depthshade = True) \n",
        "axes1 = fig.gca(projection = '3d') \n",
        "axes1.plot_surface(x1, x2, x3, alpha = 0.01) \n",
        "plt.show() "
      ],
      "execution_count": null,
      "outputs": [
        {
          "output_type": "display_data",
          "data": {
            "image/png": "[encoded data removed]",
            "text/plain": [
              "<Figure size 432x288 with 1 Axes>"
            ]
          },
          "metadata": {
            "needs_background": "light"
          }
        }
      ]
    },
    {
      "cell_type": "code",
      "metadata": {
        "colab": {
          "base_uri": "https://localhost:8080/"
        },
        "id": "5OOVbbnao34k",
        "outputId": "b5713eab-a6bb-4037-d9c2-cff7a66e142a"
      },
      "source": [
        "w,b"
      ],
      "execution_count": null,
      "outputs": [
        {
          "output_type": "execute_result",
          "data": {
            "text/plain": [
              "(array([[-1.        , -0.00329433, -1.        , -0.90274339, -1.        ,\n",
              "         -0.25289869, -1.        , -1.        , -1.        , -1.        ,\n",
              "         -1.        , -1.        , -0.70806017, -1.        , -1.        ,\n",
              "         -1.        , -0.82188793, -1.        , -1.        , -1.        ,\n",
              "         -0.07283289,  1.        ,  1.        ,  1.        ,  1.        ,\n",
              "          1.        ,  1.        ,  1.        ,  1.        ,  1.        ,\n",
              "          1.        ,  1.        ,  0.7617174 ,  1.        ,  1.        ,\n",
              "          1.        ,  1.        ,  1.        ,  1.        ]]),\n",
              " array([3.67142295]))"
            ]
          },
          "metadata": {},
          "execution_count": 119
        }
      ]
    },
    {
      "cell_type": "code",
      "metadata": {
        "colab": {
          "base_uri": "https://localhost:8080/"
        },
        "id": "PMPwnfnSqIIR",
        "outputId": "e8baf179-c90d-47b5-86d9-0a67914b0186"
      },
      "source": [
        "support_vector = svc.support_vectors_\n",
        "support_vector.shape"
      ],
      "execution_count": null,
      "outputs": [
        {
          "output_type": "execute_result",
          "data": {
            "text/plain": [
              "(39, 3)"
            ]
          },
          "metadata": {},
          "execution_count": 120
        }
      ]
    },
    {
      "cell_type": "code",
      "metadata": {
        "colab": {
          "base_uri": "https://localhost:8080/"
        },
        "id": "N1fJluXqqJQC",
        "outputId": "87ae0b96-95cf-4161-9506-b49ce13050e3"
      },
      "source": [
        "support_vector[1:10,]"
      ],
      "execution_count": null,
      "outputs": [
        {
          "output_type": "execute_result",
          "data": {
            "text/plain": [
              "array([[ 0.91529929, -0.33614896,  0.95076892],\n",
              "       [-0.90825599, -0.31448761,  0.92383141],\n",
              "       [-0.51731813,  0.81957377,  0.93931921],\n",
              "       [ 0.88881218,  0.37212124,  0.92846131],\n",
              "       [-0.0919435 , -0.96283145,  0.93549801],\n",
              "       [ 0.66414439,  0.69685497,  0.92669462],\n",
              "       [ 0.9213067 , -0.3182356 ,  0.95007994],\n",
              "       [-0.04722002,  0.95425864,  0.91283928],\n",
              "       [ 0.70458863, -0.6636788 ,  0.93691469]])"
            ]
          },
          "metadata": {},
          "execution_count": 121
        }
      ]
    },
    {
      "cell_type": "code",
      "metadata": {
        "colab": {
          "base_uri": "https://localhost:8080/"
        },
        "id": "HscQyMQVqLAe",
        "outputId": "8327bf2f-9d72-4e5c-c4c8-330bae7eecc1"
      },
      "source": [
        "svc.n_support_"
      ],
      "execution_count": null,
      "outputs": [
        {
          "output_type": "execute_result",
          "data": {
            "text/plain": [
              "array([21, 18], dtype=int32)"
            ]
          },
          "metadata": {},
          "execution_count": 122
        }
      ]
    }
  ]
}