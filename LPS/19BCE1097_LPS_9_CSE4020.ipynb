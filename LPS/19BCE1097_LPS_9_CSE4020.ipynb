{
  "nbformat": 4,
  "nbformat_minor": 0,
  "metadata": {
    "colab": {
      "name": "19BCE1097 - LPS 9 - CSE4020.ipynb",
      "provenance": [],
      "collapsed_sections": [
        "QgR2AaEK_Eez",
        "sdc3QpwNitqu"
      ]
    },
    "kernelspec": {
      "name": "python3",
      "display_name": "Python 3"
    },
    "language_info": {
      "name": "python"
    }
  },
  "cells": [
    {
      "cell_type": "markdown",
      "metadata": {
        "id": "q4u_B2AbCBEn"
      },
      "source": [
        "### 19BCE1160_LPS9_CSE4020\n",
        "\n",
        "# **Lab Practice Sheet 9**\n",
        "## **Perceptron & Multi-layer Perceptron**\n",
        "\n",
        "### Name: Yash Vardhan Sharma\n",
        "### Reg. No.: 19BCE1097\n",
        "### Faculty:  Dr L Jeganathan\n",
        "\n",
        "## **Code of Academic Integrity**\n",
        "I affirm that\n",
        "* This work is my own original work and is not a borrowed work,\n",
        "either from other students or from assignments for other courses.\n",
        "* I have not given or received any unauthorized help on this as\u0002signment.\n",
        "* This submission is free from\n",
        "<ul>\n",
        "  <li>Plagiarism</li>\n",
        "  <li>Fabrication of facts</li>\n",
        "  <li>Unauthorized assistance</li>\n",
        "  <li>Collusion</li>\n",
        "</ul>\n",
        "* This submission gives proper credit to sources and references,\n",
        "acknowledges the contributions and ideas of others relevant to\n",
        "this academic work.\n",
        "* This submission was prepared by me fully adhering to the rules\n",
        "that govern this assignment regarding resource material, elec\u0002tronic aids, copying, collaborating with others, or engaging in\n",
        "any other behavior that subverts the purpose of the assignment\n",
        "and the directions of the teacher."
      ]
    },
    {
      "cell_type": "markdown",
      "metadata": {
        "id": "0o_8I8tMgH2h"
      },
      "source": [
        "### Importing"
      ]
    },
    {
      "cell_type": "code",
      "metadata": {
        "id": "8j1rXB2tgHEv"
      },
      "source": [
        "import numpy as np\n",
        "import pandas as pd\n",
        "import matplotlib.pyplot as plt\n",
        "import warnings\n",
        "warnings.filterwarnings(\"ignore\")\n",
        "import seaborn as sns \n",
        "from sklearn import metrics"
      ],
      "execution_count": null,
      "outputs": []
    },
    {
      "cell_type": "markdown",
      "metadata": {
        "id": "cY2ygSrWkDQ8"
      },
      "source": [
        "### 1. Train a SKlearn MLP classifier model with a 2-class dataset of your choice. Conduct four different experiments with the activation functions as: linear, relu, sigmoid and Tanh respectively. \n",
        "### Based on the output of your experiments, conclude which activa\u0002tion function makes the MLP classifier learns better."
      ]
    },
    {
      "cell_type": "code",
      "metadata": {
        "id": "ejqEyr0kkC-n"
      },
      "source": [
        "# Location of dataset\n",
        "url = \"https://archive.ics.uci.edu/ml/machine-learning-databases/iris/iris.data\"\n",
        "# Assign colum names to the dataset\n",
        "names = ['sepal-length', 'sepal-width', 'petal-length', 'petal-width', 'Class']\n",
        "# Read dataset to pandas dataframe\n",
        "irisdata = pd.read_csv(url, names=names)"
      ],
      "execution_count": null,
      "outputs": []
    },
    {
      "cell_type": "code",
      "metadata": {
        "colab": {
          "base_uri": "https://localhost:8080/",
          "height": 206
        },
        "id": "fd2GIK0TkC2a",
        "outputId": "b1ad50c4-346e-4a4b-ce09-cb1dde485c7a"
      },
      "source": [
        "irisdata.head()"
      ],
      "execution_count": null,
      "outputs": [
        {
          "output_type": "execute_result",
          "data": {
            "text/html": [
              "<div>\n",
              "<style scoped>\n",
              "    .dataframe tbody tr th:only-of-type {\n",
              "        vertical-align: middle;\n",
              "    }\n",
              "\n",
              "    .dataframe tbody tr th {\n",
              "        vertical-align: top;\n",
              "    }\n",
              "\n",
              "    .dataframe thead th {\n",
              "        text-align: right;\n",
              "    }\n",
              "</style>\n",
              "<table border=\"1\" class=\"dataframe\">\n",
              "  <thead>\n",
              "    <tr style=\"text-align: right;\">\n",
              "      <th></th>\n",
              "      <th>sepal-length</th>\n",
              "      <th>sepal-width</th>\n",
              "      <th>petal-length</th>\n",
              "      <th>petal-width</th>\n",
              "      <th>Class</th>\n",
              "    </tr>\n",
              "  </thead>\n",
              "  <tbody>\n",
              "    <tr>\n",
              "      <th>0</th>\n",
              "      <td>5.1</td>\n",
              "      <td>3.5</td>\n",
              "      <td>1.4</td>\n",
              "      <td>0.2</td>\n",
              "      <td>Iris-setosa</td>\n",
              "    </tr>\n",
              "    <tr>\n",
              "      <th>1</th>\n",
              "      <td>4.9</td>\n",
              "      <td>3.0</td>\n",
              "      <td>1.4</td>\n",
              "      <td>0.2</td>\n",
              "      <td>Iris-setosa</td>\n",
              "    </tr>\n",
              "    <tr>\n",
              "      <th>2</th>\n",
              "      <td>4.7</td>\n",
              "      <td>3.2</td>\n",
              "      <td>1.3</td>\n",
              "      <td>0.2</td>\n",
              "      <td>Iris-setosa</td>\n",
              "    </tr>\n",
              "    <tr>\n",
              "      <th>3</th>\n",
              "      <td>4.6</td>\n",
              "      <td>3.1</td>\n",
              "      <td>1.5</td>\n",
              "      <td>0.2</td>\n",
              "      <td>Iris-setosa</td>\n",
              "    </tr>\n",
              "    <tr>\n",
              "      <th>4</th>\n",
              "      <td>5.0</td>\n",
              "      <td>3.6</td>\n",
              "      <td>1.4</td>\n",
              "      <td>0.2</td>\n",
              "      <td>Iris-setosa</td>\n",
              "    </tr>\n",
              "  </tbody>\n",
              "</table>\n",
              "</div>"
            ],
            "text/plain": [
              "   sepal-length  sepal-width  petal-length  petal-width        Class\n",
              "0           5.1          3.5           1.4          0.2  Iris-setosa\n",
              "1           4.9          3.0           1.4          0.2  Iris-setosa\n",
              "2           4.7          3.2           1.3          0.2  Iris-setosa\n",
              "3           4.6          3.1           1.5          0.2  Iris-setosa\n",
              "4           5.0          3.6           1.4          0.2  Iris-setosa"
            ]
          },
          "metadata": {},
          "execution_count": 119
        }
      ]
    },
    {
      "cell_type": "code",
      "metadata": {
        "id": "CKQhpgJMkY7N"
      },
      "source": [
        "# Assign data from first four columns to X variable (feature vector)\n",
        "X = irisdata.iloc[:, 0:4]\n",
        "# Assign data from first fifth columns to y variable (label vector)\n",
        "y = irisdata.select_dtypes(include=[object])"
      ],
      "execution_count": null,
      "outputs": []
    },
    {
      "cell_type": "code",
      "metadata": {
        "colab": {
          "base_uri": "https://localhost:8080/"
        },
        "id": "2TUGLOAakY3a",
        "outputId": "5935b7ce-d5a0-403a-e3bc-467322c9fbba"
      },
      "source": [
        "y.Class.unique()"
      ],
      "execution_count": null,
      "outputs": [
        {
          "output_type": "execute_result",
          "data": {
            "text/plain": [
              "array(['Iris-setosa', 'Iris-versicolor', 'Iris-virginica'], dtype=object)"
            ]
          },
          "metadata": {},
          "execution_count": 121
        }
      ]
    },
    {
      "cell_type": "code",
      "metadata": {
        "colab": {
          "base_uri": "https://localhost:8080/"
        },
        "id": "N6zZacJ4kYyS",
        "outputId": "88925f37-1699-4e54-c3b9-f8bbe90ac8b0"
      },
      "source": [
        "from sklearn import preprocessing\n",
        "le = preprocessing.LabelEncoder()\n",
        "y = y.apply(le.fit_transform)\n",
        "y.Class.unique()"
      ],
      "execution_count": null,
      "outputs": [
        {
          "output_type": "execute_result",
          "data": {
            "text/plain": [
              "array([0, 1, 2])"
            ]
          },
          "metadata": {},
          "execution_count": 122
        }
      ]
    },
    {
      "cell_type": "code",
      "metadata": {
        "id": "GpFXJuYZkYtz"
      },
      "source": [
        "from sklearn.model_selection import train_test_split\n",
        "X_train, X_test, y_train, y_test = train_test_split(X, y, test_size = 0.20, random_state=43)"
      ],
      "execution_count": null,
      "outputs": []
    },
    {
      "cell_type": "code",
      "metadata": {
        "id": "IqqDLKt7kz0R"
      },
      "source": [
        "from sklearn.preprocessing import StandardScaler\n",
        "scaler = StandardScaler()\n",
        "scaler.fit(X_train)\n",
        "X_train = scaler.transform(X_train)\n",
        "X_test = scaler.transform(X_test)"
      ],
      "execution_count": null,
      "outputs": []
    },
    {
      "cell_type": "markdown",
      "metadata": {
        "id": "hKD8STNfk3lC"
      },
      "source": [
        "#### 1. Linear"
      ]
    },
    {
      "cell_type": "code",
      "metadata": {
        "colab": {
          "base_uri": "https://localhost:8080/"
        },
        "id": "NF6Yy2NSkzwL",
        "outputId": "0245b15f-6b83-40f8-f0f3-d6b013bedc05"
      },
      "source": [
        "from sklearn.neural_network import MLPClassifier\n",
        "mlp = MLPClassifier(hidden_layer_sizes=(10, 10, 10), activation='identity', solver='sgd', max_iter=1000)\n",
        "mlp.fit(X_train, y_train.values.ravel())"
      ],
      "execution_count": null,
      "outputs": [
        {
          "output_type": "execute_result",
          "data": {
            "text/plain": [
              "MLPClassifier(activation='identity', hidden_layer_sizes=(10, 10, 10),\n",
              "              max_iter=1000, solver='sgd')"
            ]
          },
          "metadata": {},
          "execution_count": 125
        }
      ]
    },
    {
      "cell_type": "code",
      "metadata": {
        "id": "mHJk7jyVlfhT"
      },
      "source": [
        "predictions = mlp.predict(X_test)"
      ],
      "execution_count": null,
      "outputs": []
    },
    {
      "cell_type": "code",
      "metadata": {
        "colab": {
          "base_uri": "https://localhost:8080/"
        },
        "id": "kf7PuKtnlfhU",
        "outputId": "bb3a55cd-b9d9-4fdc-9613-4bea50f7d94f"
      },
      "source": [
        "from sklearn.metrics import classification_report, confusion_matrix\n",
        "print(confusion_matrix(y_test,predictions))\n",
        "print(classification_report(y_test,predictions))"
      ],
      "execution_count": null,
      "outputs": [
        {
          "output_type": "stream",
          "name": "stdout",
          "text": [
            "[[13  0  0]\n",
            " [ 0  8  0]\n",
            " [ 0  1  8]]\n",
            "              precision    recall  f1-score   support\n",
            "\n",
            "           0       1.00      1.00      1.00        13\n",
            "           1       0.89      1.00      0.94         8\n",
            "           2       1.00      0.89      0.94         9\n",
            "\n",
            "    accuracy                           0.97        30\n",
            "   macro avg       0.96      0.96      0.96        30\n",
            "weighted avg       0.97      0.97      0.97        30\n",
            "\n"
          ]
        }
      ]
    },
    {
      "cell_type": "markdown",
      "metadata": {
        "id": "ktfk8JkmlkGj"
      },
      "source": [
        "#### 2. Relu"
      ]
    },
    {
      "cell_type": "code",
      "metadata": {
        "colab": {
          "base_uri": "https://localhost:8080/"
        },
        "id": "8eNw4rsFls3D",
        "outputId": "71afa0f7-73da-40c5-bb0a-7c281f875a67"
      },
      "source": [
        "from sklearn.neural_network import MLPClassifier\n",
        "mlp = MLPClassifier(hidden_layer_sizes=(10, 10, 10), activation='relu', solver='sgd', max_iter=1000)\n",
        "mlp.fit(X_train, y_train.values.ravel())"
      ],
      "execution_count": null,
      "outputs": [
        {
          "output_type": "execute_result",
          "data": {
            "text/plain": [
              "MLPClassifier(hidden_layer_sizes=(10, 10, 10), max_iter=1000, solver='sgd')"
            ]
          },
          "metadata": {},
          "execution_count": 128
        }
      ]
    },
    {
      "cell_type": "code",
      "metadata": {
        "id": "_gxU7VhIls3E"
      },
      "source": [
        "predictions = mlp.predict(X_test)"
      ],
      "execution_count": null,
      "outputs": []
    },
    {
      "cell_type": "code",
      "metadata": {
        "colab": {
          "base_uri": "https://localhost:8080/"
        },
        "id": "ABGC6_6Qls3E",
        "outputId": "bd20a216-66ea-43d0-fc7b-e3e955720a66"
      },
      "source": [
        "from sklearn.metrics import classification_report, confusion_matrix\n",
        "print(confusion_matrix(y_test,predictions))\n",
        "print(classification_report(y_test,predictions))"
      ],
      "execution_count": null,
      "outputs": [
        {
          "output_type": "stream",
          "name": "stdout",
          "text": [
            "[[13  0  0]\n",
            " [ 0  8  0]\n",
            " [ 0  1  8]]\n",
            "              precision    recall  f1-score   support\n",
            "\n",
            "           0       1.00      1.00      1.00        13\n",
            "           1       0.89      1.00      0.94         8\n",
            "           2       1.00      0.89      0.94         9\n",
            "\n",
            "    accuracy                           0.97        30\n",
            "   macro avg       0.96      0.96      0.96        30\n",
            "weighted avg       0.97      0.97      0.97        30\n",
            "\n"
          ]
        }
      ]
    },
    {
      "cell_type": "markdown",
      "metadata": {
        "id": "nrlkKpmFltzy"
      },
      "source": [
        "#### 3. Sigmoid"
      ]
    },
    {
      "cell_type": "code",
      "metadata": {
        "colab": {
          "base_uri": "https://localhost:8080/"
        },
        "id": "GYuLv_Anltzy",
        "outputId": "b9f8f85c-c446-4d76-aefd-426e4e1c8295"
      },
      "source": [
        "from sklearn.neural_network import MLPClassifier\n",
        "mlp = MLPClassifier(hidden_layer_sizes=(10, 10, 10), activation='logistic', solver='sgd', max_iter=1000)\n",
        "mlp.fit(X_train, y_train.values.ravel())"
      ],
      "execution_count": null,
      "outputs": [
        {
          "output_type": "execute_result",
          "data": {
            "text/plain": [
              "MLPClassifier(activation='logistic', hidden_layer_sizes=(10, 10, 10),\n",
              "              max_iter=1000, solver='sgd')"
            ]
          },
          "metadata": {},
          "execution_count": 131
        }
      ]
    },
    {
      "cell_type": "code",
      "metadata": {
        "id": "hzrwQijAltzy"
      },
      "source": [
        "predictions = mlp.predict(X_test)"
      ],
      "execution_count": null,
      "outputs": []
    },
    {
      "cell_type": "code",
      "metadata": {
        "colab": {
          "base_uri": "https://localhost:8080/"
        },
        "id": "5uSS_g3-ltzy",
        "outputId": "5692523f-2e26-49d8-d099-75fe90a25fc2"
      },
      "source": [
        "from sklearn.metrics import classification_report, confusion_matrix\n",
        "print(confusion_matrix(y_test,predictions))\n",
        "print(classification_report(y_test,predictions))"
      ],
      "execution_count": null,
      "outputs": [
        {
          "output_type": "stream",
          "name": "stdout",
          "text": [
            "[[ 0 13  0]\n",
            " [ 0  8  0]\n",
            " [ 0  9  0]]\n",
            "              precision    recall  f1-score   support\n",
            "\n",
            "           0       0.00      0.00      0.00        13\n",
            "           1       0.27      1.00      0.42         8\n",
            "           2       0.00      0.00      0.00         9\n",
            "\n",
            "    accuracy                           0.27        30\n",
            "   macro avg       0.09      0.33      0.14        30\n",
            "weighted avg       0.07      0.27      0.11        30\n",
            "\n"
          ]
        }
      ]
    },
    {
      "cell_type": "markdown",
      "metadata": {
        "id": "tQTfUAJQluvS"
      },
      "source": [
        "#### 4. Tanh"
      ]
    },
    {
      "cell_type": "code",
      "metadata": {
        "colab": {
          "base_uri": "https://localhost:8080/"
        },
        "id": "hNC1weFvluvS",
        "outputId": "538ab06c-a235-45f8-850e-a0832be220be"
      },
      "source": [
        "from sklearn.neural_network import MLPClassifier\n",
        "mlp = MLPClassifier(hidden_layer_sizes=(10, 10, 10), activation='tanh', solver='sgd', max_iter=1000)\n",
        "mlp.fit(X_train, y_train.values.ravel())"
      ],
      "execution_count": null,
      "outputs": [
        {
          "output_type": "execute_result",
          "data": {
            "text/plain": [
              "MLPClassifier(activation='tanh', hidden_layer_sizes=(10, 10, 10), max_iter=1000,\n",
              "              solver='sgd')"
            ]
          },
          "metadata": {},
          "execution_count": 134
        }
      ]
    },
    {
      "cell_type": "code",
      "metadata": {
        "id": "eijiLy7KluvT"
      },
      "source": [
        "predictions = mlp.predict(X_test)"
      ],
      "execution_count": null,
      "outputs": []
    },
    {
      "cell_type": "code",
      "metadata": {
        "colab": {
          "base_uri": "https://localhost:8080/"
        },
        "id": "Meuo2-HnluvT",
        "outputId": "8f51f9c0-c37d-4afc-f4c3-40b7d19b8373"
      },
      "source": [
        "from sklearn.metrics import classification_report, confusion_matrix\n",
        "print(confusion_matrix(y_test,predictions))\n",
        "print(classification_report(y_test,predictions))"
      ],
      "execution_count": null,
      "outputs": [
        {
          "output_type": "stream",
          "name": "stdout",
          "text": [
            "[[13  0  0]\n",
            " [ 0  8  0]\n",
            " [ 0  1  8]]\n",
            "              precision    recall  f1-score   support\n",
            "\n",
            "           0       1.00      1.00      1.00        13\n",
            "           1       0.89      1.00      0.94         8\n",
            "           2       1.00      0.89      0.94         9\n",
            "\n",
            "    accuracy                           0.97        30\n",
            "   macro avg       0.96      0.96      0.96        30\n",
            "weighted avg       0.97      0.97      0.97        30\n",
            "\n"
          ]
        }
      ]
    },
    {
      "cell_type": "code",
      "metadata": {
        "id": "qKIqz8QxljxJ"
      },
      "source": [
        ""
      ],
      "execution_count": null,
      "outputs": []
    },
    {
      "cell_type": "markdown",
      "metadata": {
        "id": "g-PTdyXxfIjx"
      },
      "source": [
        "### 3. Train a Perceptron model with a linear dataset (with two classes) which and train a MLP model for the same data set and record your observations on the best model for the chosen data set with appropriate justification.\n"
      ]
    },
    {
      "cell_type": "code",
      "metadata": {
        "id": "8nNRvT7ef44_"
      },
      "source": [
        "# Location of dataset\n",
        "url = \"https://archive.ics.uci.edu/ml/machine-learning-databases/iris/iris.data\"\n",
        "# Assign colum names to the dataset\n",
        "names = ['sepal-length', 'sepal-width', 'petal-length', 'petal-width', 'Class']\n",
        "# Read dataset to pandas dataframe\n",
        "irisdata = pd.read_csv(url, names=names)"
      ],
      "execution_count": null,
      "outputs": []
    },
    {
      "cell_type": "code",
      "metadata": {
        "colab": {
          "base_uri": "https://localhost:8080/",
          "height": 206
        },
        "id": "Q2jTVAB9f_GY",
        "outputId": "ce0c86aa-925b-4940-ff01-734d964d65a0"
      },
      "source": [
        "irisdata.head()"
      ],
      "execution_count": null,
      "outputs": [
        {
          "output_type": "execute_result",
          "data": {
            "text/html": [
              "<div>\n",
              "<style scoped>\n",
              "    .dataframe tbody tr th:only-of-type {\n",
              "        vertical-align: middle;\n",
              "    }\n",
              "\n",
              "    .dataframe tbody tr th {\n",
              "        vertical-align: top;\n",
              "    }\n",
              "\n",
              "    .dataframe thead th {\n",
              "        text-align: right;\n",
              "    }\n",
              "</style>\n",
              "<table border=\"1\" class=\"dataframe\">\n",
              "  <thead>\n",
              "    <tr style=\"text-align: right;\">\n",
              "      <th></th>\n",
              "      <th>sepal-length</th>\n",
              "      <th>sepal-width</th>\n",
              "      <th>petal-length</th>\n",
              "      <th>petal-width</th>\n",
              "      <th>Class</th>\n",
              "    </tr>\n",
              "  </thead>\n",
              "  <tbody>\n",
              "    <tr>\n",
              "      <th>0</th>\n",
              "      <td>5.1</td>\n",
              "      <td>3.5</td>\n",
              "      <td>1.4</td>\n",
              "      <td>0.2</td>\n",
              "      <td>Iris-setosa</td>\n",
              "    </tr>\n",
              "    <tr>\n",
              "      <th>1</th>\n",
              "      <td>4.9</td>\n",
              "      <td>3.0</td>\n",
              "      <td>1.4</td>\n",
              "      <td>0.2</td>\n",
              "      <td>Iris-setosa</td>\n",
              "    </tr>\n",
              "    <tr>\n",
              "      <th>2</th>\n",
              "      <td>4.7</td>\n",
              "      <td>3.2</td>\n",
              "      <td>1.3</td>\n",
              "      <td>0.2</td>\n",
              "      <td>Iris-setosa</td>\n",
              "    </tr>\n",
              "    <tr>\n",
              "      <th>3</th>\n",
              "      <td>4.6</td>\n",
              "      <td>3.1</td>\n",
              "      <td>1.5</td>\n",
              "      <td>0.2</td>\n",
              "      <td>Iris-setosa</td>\n",
              "    </tr>\n",
              "    <tr>\n",
              "      <th>4</th>\n",
              "      <td>5.0</td>\n",
              "      <td>3.6</td>\n",
              "      <td>1.4</td>\n",
              "      <td>0.2</td>\n",
              "      <td>Iris-setosa</td>\n",
              "    </tr>\n",
              "  </tbody>\n",
              "</table>\n",
              "</div>"
            ],
            "text/plain": [
              "   sepal-length  sepal-width  petal-length  petal-width        Class\n",
              "0           5.1          3.5           1.4          0.2  Iris-setosa\n",
              "1           4.9          3.0           1.4          0.2  Iris-setosa\n",
              "2           4.7          3.2           1.3          0.2  Iris-setosa\n",
              "3           4.6          3.1           1.5          0.2  Iris-setosa\n",
              "4           5.0          3.6           1.4          0.2  Iris-setosa"
            ]
          },
          "metadata": {},
          "execution_count": 138
        }
      ]
    },
    {
      "cell_type": "markdown",
      "metadata": {
        "id": "ht17qe4vg7HI"
      },
      "source": [
        "#### Preprocessing"
      ]
    },
    {
      "cell_type": "code",
      "metadata": {
        "id": "qI6k8Y-0gCF5"
      },
      "source": [
        "#  Assign data from first four columns to X variable (feature vector)\n",
        "X = irisdata.iloc[:, 0:4]\n",
        "# Assign data from first fifth columns to y variable (label vector)\n",
        "y = irisdata.select_dtypes(include=[object])"
      ],
      "execution_count": null,
      "outputs": []
    },
    {
      "cell_type": "code",
      "metadata": {
        "colab": {
          "base_uri": "https://localhost:8080/"
        },
        "id": "DKzgVhzXhATB",
        "outputId": "0c461268-3356-40fb-f95f-42cc0edc1c7f"
      },
      "source": [
        "y.Class.unique()"
      ],
      "execution_count": null,
      "outputs": [
        {
          "output_type": "execute_result",
          "data": {
            "text/plain": [
              "array(['Iris-setosa', 'Iris-versicolor', 'Iris-virginica'], dtype=object)"
            ]
          },
          "metadata": {},
          "execution_count": 140
        }
      ]
    },
    {
      "cell_type": "code",
      "metadata": {
        "colab": {
          "base_uri": "https://localhost:8080/"
        },
        "id": "tvnh2KTMhDcp",
        "outputId": "3c36bc32-56a7-4795-c09f-da793130c215"
      },
      "source": [
        "from sklearn import preprocessing\n",
        "le = preprocessing.LabelEncoder()\n",
        "y = y.apply(le.fit_transform)\n",
        "y.Class.unique()"
      ],
      "execution_count": null,
      "outputs": [
        {
          "output_type": "execute_result",
          "data": {
            "text/plain": [
              "array([0, 1, 2])"
            ]
          },
          "metadata": {},
          "execution_count": 141
        }
      ]
    },
    {
      "cell_type": "code",
      "metadata": {
        "id": "6z6tfd35hKBJ"
      },
      "source": [
        "from sklearn.model_selection import train_test_split\n",
        "X_train, X_test, y_train, y_test = train_test_split(X, y, test_size = 0.20, random_state=43)"
      ],
      "execution_count": null,
      "outputs": []
    },
    {
      "cell_type": "code",
      "metadata": {
        "id": "094dT-V4hNT4"
      },
      "source": [
        "from sklearn.preprocessing import StandardScaler\n",
        "scaler = StandardScaler()\n",
        "scaler.fit(X_train)\n",
        "X_train = scaler.transform(X_train)\n",
        "X_test = scaler.transform(X_test)"
      ],
      "execution_count": null,
      "outputs": []
    },
    {
      "cell_type": "markdown",
      "metadata": {
        "id": "hhe1UlTmhVxo"
      },
      "source": [
        "#### Perceptron"
      ]
    },
    {
      "cell_type": "code",
      "metadata": {
        "id": "imNtF8zphhQK"
      },
      "source": [
        "from sklearn.linear_model import Perceptron\n",
        "from sklearn.model_selection import GridSearchCV\n",
        "from sklearn.model_selection import RepeatedStratifiedKFold"
      ],
      "execution_count": null,
      "outputs": []
    },
    {
      "cell_type": "code",
      "metadata": {
        "id": "xg3SBNnshknp",
        "colab": {
          "base_uri": "https://localhost:8080/"
        },
        "outputId": "affc55f3-6356-4026-e66c-7579307959ae"
      },
      "source": [
        "# define model\n",
        "model = Perceptron(eta0=0.0001)\n",
        "# define model evaluation method\n",
        "cv = RepeatedStratifiedKFold(n_splits=10, n_repeats=3, random_state=1)\n",
        "# define grid\n",
        "grid = dict()\n",
        "grid['max_iter'] = [1, 10, 100, 1000, 10000]\n",
        "# define search\n",
        "search = GridSearchCV(model, grid, scoring='accuracy', cv=cv, n_jobs=-1)\n",
        "# perform the search\n",
        "results = search.fit(X_train, y_train.values.ravel())\n",
        "# summarize\n",
        "print('Mean Accuracy: %.3f' % results.best_score_)\n",
        "print('Config: %s' % results.best_params_)\n",
        "# summarize all\n",
        "means = results.cv_results_['mean_test_score']\n",
        "params = results.cv_results_['params']\n",
        "for mean, param in zip(means, params):\n",
        "    print(\">%.3f with: %r\" % (mean, param))"
      ],
      "execution_count": null,
      "outputs": [
        {
          "output_type": "stream",
          "name": "stdout",
          "text": [
            "Mean Accuracy: 0.842\n",
            "Config: {'max_iter': 10}\n",
            ">0.800 with: {'max_iter': 1}\n",
            ">0.842 with: {'max_iter': 10}\n",
            ">0.842 with: {'max_iter': 100}\n",
            ">0.842 with: {'max_iter': 1000}\n",
            ">0.842 with: {'max_iter': 10000}\n"
          ]
        }
      ]
    },
    {
      "cell_type": "markdown",
      "metadata": {
        "id": "vXGLatFGhdQL"
      },
      "source": [
        "#### MLP"
      ]
    },
    {
      "cell_type": "code",
      "metadata": {
        "colab": {
          "base_uri": "https://localhost:8080/"
        },
        "id": "JEpSmQ0phPi5",
        "outputId": "9aec987a-b175-4999-f439-aaed61e6b88d"
      },
      "source": [
        "from sklearn.neural_network import MLPClassifier\n",
        "mlp = MLPClassifier(hidden_layer_sizes=(10, 10, 10), activation='relu', solver='sgd', max_iter=1000)\n",
        "mlp.fit(X_train, y_train.values.ravel())"
      ],
      "execution_count": null,
      "outputs": [
        {
          "output_type": "execute_result",
          "data": {
            "text/plain": [
              "MLPClassifier(hidden_layer_sizes=(10, 10, 10), max_iter=1000, solver='sgd')"
            ]
          },
          "metadata": {},
          "execution_count": 146
        }
      ]
    },
    {
      "cell_type": "code",
      "metadata": {
        "id": "ClSP-P9EhSJh"
      },
      "source": [
        "predictions = mlp.predict(X_test)"
      ],
      "execution_count": null,
      "outputs": []
    },
    {
      "cell_type": "code",
      "metadata": {
        "colab": {
          "base_uri": "https://localhost:8080/"
        },
        "id": "XZgRgrs9hTzB",
        "outputId": "1115ac3b-c2a7-4759-ca1b-4015aaf42492"
      },
      "source": [
        "from sklearn.metrics import classification_report, confusion_matrix\n",
        "cm = confusion_matrix(y_test,predictions)\n",
        "print(classification_report(y_test,predictions))"
      ],
      "execution_count": null,
      "outputs": [
        {
          "output_type": "stream",
          "name": "stdout",
          "text": [
            "              precision    recall  f1-score   support\n",
            "\n",
            "           0       1.00      1.00      1.00        13\n",
            "           1       0.89      1.00      0.94         8\n",
            "           2       1.00      0.89      0.94         9\n",
            "\n",
            "    accuracy                           0.97        30\n",
            "   macro avg       0.96      0.96      0.96        30\n",
            "weighted avg       0.97      0.97      0.97        30\n",
            "\n"
          ]
        }
      ]
    },
    {
      "cell_type": "code",
      "metadata": {
        "id": "VdfHaJB_QDrW"
      },
      "source": [
        "def accuracy(confusion_matrix):\n",
        "   diagonal_sum = confusion_matrix.trace()\n",
        "   sum_of_all_elements = confusion_matrix.sum()\n",
        "   return diagonal_sum / sum_of_all_elements"
      ],
      "execution_count": null,
      "outputs": []
    },
    {
      "cell_type": "code",
      "metadata": {
        "colab": {
          "base_uri": "https://localhost:8080/"
        },
        "id": "G00t58EIQHP8",
        "outputId": "c122fde6-a8f4-4c37-94bc-6d71fc92c1b7"
      },
      "source": [
        "#Printing the accuracy\n",
        "print(\"Accuracy of MLPClassifier : \", accuracy(cm))"
      ],
      "execution_count": null,
      "outputs": [
        {
          "output_type": "stream",
          "name": "stdout",
          "text": [
            "Accuracy of MLPClassifier :  0.9666666666666667\n"
          ]
        }
      ]
    },
    {
      "cell_type": "markdown",
      "metadata": {
        "id": "QgR2AaEK_Eez"
      },
      "source": [
        "### 5. Generate a dataset governed by the equation y = 2x1^2 + 3x2 using ‘gen regression symbolic’. Train a Perceptron model with different hypothesis (all the possible 2^3 polynimials of degree 2 in two variables) with the generated datset, to compute the equation that relates x1, x2 and y. That is, you have to run eight experiments in the perceptron model with the different hypothesis (each hypothesis is a polynomial of degree in two variables). Compare the output of your experiments with the original equation : y = 2x1^2 + 3x2 and decide which hypothesis had made the perceptron model to learn better\n"
      ]
    },
    {
      "cell_type": "code",
      "metadata": {
        "id": "i8xRovbkDyNk"
      },
      "source": [
        "from sklearn.neural_network import MLPRegressor\n",
        "from sklearn.model_selection import train_test_split"
      ],
      "execution_count": null,
      "outputs": []
    },
    {
      "cell_type": "code",
      "metadata": {
        "id": "nHm7Rw0F_YUR"
      },
      "source": [
        "# Defining gen_regression_symbolic\n",
        "def symbolize(s):\n",
        "    \"\"\"\n",
        "    Converts a a string (equation) to a SymPy symbol object\n",
        "    \"\"\"\n",
        "    from sympy import sympify\n",
        "    s1=s.replace('.','*')\n",
        "    s2=s1.replace('^','**')\n",
        "    s3=sympify(s2)\n",
        "    \n",
        "    return(s3)\n",
        "def eval_multinomial(s,vals=None,symbolic_eval=False):\n",
        "    \"\"\"\n",
        "    Evaluates polynomial at vals.\n",
        "    vals can be simple list, dictionary, or tuple of values.\n",
        "    vals can also contain symbols instead of real values provided those symbols have been declared before using SymPy\n",
        "    \"\"\"\n",
        "    from sympy import Symbol\n",
        "    sym_s=symbolize(s)\n",
        "    sym_set=sym_s.atoms(Symbol)\n",
        "    sym_lst=[]\n",
        "    for s in sym_set:\n",
        "        sym_lst.append(str(s))\n",
        "    sym_lst.sort()\n",
        "    if symbolic_eval==False and len(sym_set)!=len(vals):\n",
        "        print(\"Length of the input values did not match number of variables and symbolic evaluation is not selected\")\n",
        "        return None\n",
        "    else:\n",
        "        if type(vals)==list:\n",
        "            sub=list(zip(sym_lst,vals))\n",
        "        elif type(vals)==dict:\n",
        "            l=list(vals.keys())\n",
        "            l.sort()\n",
        "            lst=[]\n",
        "            for i in l:\n",
        "                lst.append(vals[i])\n",
        "            sub=list(zip(sym_lst,lst))\n",
        "        elif type(vals)==tuple:\n",
        "            sub=list(zip(sym_lst,list(vals)))\n",
        "        result=sym_s.subs(sub)\n",
        "    \n",
        "    return result\n",
        "def flip(y,p):\n",
        "    import numpy as np\n",
        "    lst=[]\n",
        "    for i in range(len(y)):\n",
        "        f=np.random.choice([1,0],p=[p,1-p])\n",
        "        lst.append(f)\n",
        "    lst=np.array(lst)\n",
        "    return np.array(np.logical_xor(y,lst),dtype=int)\n",
        "def gen_regression_symbolic(m=None,n_samples=100,n_features=2,noise=0.0,noise_dist='normal'):\n",
        "    \"\"\"\n",
        "    Generates regression sample based on a symbolic expression. Calculates the output of the symbolic expression \n",
        "    at randomly generated (drawn from a Gaussian distribution) points\n",
        "    m: The symbolic expression. Needs x1, x2, etc as variables and regular python arithmatic symbols to be used.\n",
        "    n_samples: Number of samples to be generated\n",
        "    n_features: Number of variables. This is automatically inferred from the symbolic expression. So this is ignored \n",
        "                in case a symbolic expression is supplied. However if no symbolic expression is supplied then a \n",
        "                default simple polynomial can be invoked to generate regression samples with n_features.\n",
        "    noise: Magnitude of Gaussian noise to be introduced (added to the output).\n",
        "    noise_dist: Type of the probability distribution of the noise signal. \n",
        "    Currently supports: Normal, Uniform, t, Beta, Gamma, Poission, Laplace\n",
        "\n",
        "    Returns a numpy ndarray with dimension (n_samples,n_features+1). Last column is the response vector.\n",
        "    \"\"\"\n",
        "    \n",
        "    import numpy as np\n",
        "    from sympy import Symbol,sympify\n",
        "    \n",
        "    if m==None:\n",
        "        m=''\n",
        "        for i in range(1,n_features+1):\n",
        "            c='x'+str(i)\n",
        "            c+=np.random.choice(['+','-'],p=[0.5,0.5])\n",
        "            m+=c\n",
        "        m=m[:-1]\n",
        "    sym_m=sympify(m)\n",
        "    n_features=len(sym_m.atoms(Symbol))\n",
        "    evals=[]\n",
        "    lst_features=[]\n",
        "    \n",
        "    for i in range(n_features):\n",
        "        lst_features.append(np.random.normal(scale=5,size=n_samples))\n",
        "    lst_features=np.array(lst_features)\n",
        "    lst_features=lst_features.T\n",
        "    lst_features=lst_features.reshape(n_samples,n_features)\n",
        "    \n",
        "    for i in range(n_samples):\n",
        "        evals.append(eval_multinomial(m,vals=list(lst_features[i])))\n",
        "    \n",
        "    evals=np.array(evals)\n",
        "    evals=evals.reshape(n_samples,1)\n",
        "    \n",
        "    if noise_dist=='normal':\n",
        "        noise_sample=noise*np.random.normal(loc=0,scale=1.0,size=n_samples)\n",
        "    elif noise_dist=='uniform':\n",
        "        noise_sample=noise*np.random.uniform(low=0,high=1.0,size=n_samples)\n",
        "    elif noise_dist=='beta':\n",
        "        noise_sample=noise*np.random.beta(a=0.5,b=1.0,size=n_samples)\n",
        "    elif noise_dist=='Gamma':\n",
        "        noise_sample=noise*np.random.gamma(shape=1.0,scale=1.0,size=n_samples)\n",
        "    elif noise_dist=='laplace':\n",
        "        noise_sample=noise*np.random.laplace(loc=0.0,scale=1.0,size=n_samples)\n",
        "        \n",
        "    noise_sample=noise_sample.reshape(n_samples,1)\n",
        "    evals=evals+noise_sample\n",
        "        \n",
        "    x=np.hstack((lst_features,evals))\n",
        "    \n",
        "    return (x)"
      ],
      "execution_count": null,
      "outputs": []
    },
    {
      "cell_type": "code",
      "metadata": {
        "id": "qNV8Ou9CLiMr"
      },
      "source": [
        "def MLPRegression(df):\n",
        "    X = df.iloc[:, :-1]\n",
        "    y = df.iloc[:, -1]\n",
        "    X_train, X_test, y_train, y_test = train_test_split(X, y, test_size = 0.20)\n",
        "    classifier = MLPRegressor(hidden_layer_sizes=1, alpha=0.1,max_iter=500,activation = 'logistic',solver='adam',random_state=43)\n",
        "\n",
        "    #Fitting the training data to the network\n",
        "    classifier.fit(X_train, y_train)\n",
        "\n",
        "    #Predicting y for X_val\n",
        "    y_pred = classifier.predict(X_test)\n",
        "\n",
        "    print(\"R2 score: \", metrics.r2_score(y_test, y_pred))"
      ],
      "execution_count": null,
      "outputs": []
    },
    {
      "cell_type": "code",
      "metadata": {
        "colab": {
          "base_uri": "https://localhost:8080/"
        },
        "id": "dyDQOAUx_YIp",
        "outputId": "fbba648d-bb50-4ca9-a42c-41ca33353166"
      },
      "source": [
        "x = gen_regression_symbolic(m='2*x1^2 + 3*x2', n_samples=500, noise=0.1, n_features=2)\n",
        "df = pd.DataFrame(x, columns = ['x1'] + ['x2'] + ['y'])\n",
        "MLPRegression(df)"
      ],
      "execution_count": null,
      "outputs": [
        {
          "output_type": "stream",
          "name": "stdout",
          "text": [
            "R2 score:  -0.46778908767578153\n"
          ]
        }
      ]
    },
    {
      "cell_type": "code",
      "metadata": {
        "colab": {
          "base_uri": "https://localhost:8080/"
        },
        "id": "HrU96xb7BA9K",
        "outputId": "e0105d2d-07f7-4dbd-8db7-b5eb6dfd7c69"
      },
      "source": [
        "x = gen_regression_symbolic(m='2*x1^2 + 3*x2^2', n_samples=500, noise=0.1, n_features=2)\n",
        "df1 = pd.DataFrame(x, columns = ['x1'] + ['x2'] + ['y'])\n",
        "MLPRegression(df1)"
      ],
      "execution_count": null,
      "outputs": [
        {
          "output_type": "stream",
          "name": "stdout",
          "text": [
            "R2 score:  -1.162512794137811\n"
          ]
        }
      ]
    },
    {
      "cell_type": "code",
      "metadata": {
        "colab": {
          "base_uri": "https://localhost:8080/"
        },
        "id": "8EQHEilcBAxe",
        "outputId": "7b4cfce8-05d5-4969-bb11-88f8bf1241ea"
      },
      "source": [
        "x = gen_regression_symbolic(m='2*x1^2 + x2', n_samples=500, noise=0.1, n_features=2)\n",
        "df2 = pd.DataFrame(x, columns = ['x1'] + ['x2'] + ['y'])\n",
        "MLPRegression(df2)"
      ],
      "execution_count": null,
      "outputs": [
        {
          "output_type": "stream",
          "name": "stdout",
          "text": [
            "R2 score:  -0.6209948216005128\n"
          ]
        }
      ]
    },
    {
      "cell_type": "code",
      "metadata": {
        "colab": {
          "base_uri": "https://localhost:8080/"
        },
        "id": "YULn2YcxBAuG",
        "outputId": "714816a9-9dd4-48ac-a45d-3b6a76aed53d"
      },
      "source": [
        "x = gen_regression_symbolic(m='x1^2 + 3*x2', n_samples=500, noise=0.1, n_features=2)\n",
        "df3 = pd.DataFrame(x, columns = ['x1'] + ['x2'] + ['y'])\n",
        "MLPRegression(df3)"
      ],
      "execution_count": null,
      "outputs": [
        {
          "output_type": "stream",
          "name": "stdout",
          "text": [
            "R2 score:  -0.2210266293124723\n"
          ]
        }
      ]
    },
    {
      "cell_type": "code",
      "metadata": {
        "colab": {
          "base_uri": "https://localhost:8080/"
        },
        "id": "l2L4_K8XBAoX",
        "outputId": "f5f0e390-0a7e-416a-82d7-92c5e69a93ef"
      },
      "source": [
        "x = gen_regression_symbolic(m='x1 + 3*x2^2', n_samples=500, noise=0.1, n_features=2)\n",
        "df4 = pd.DataFrame(x, columns = ['x1'] + ['x2'] + ['y'])\n",
        "MLPRegression(df4)"
      ],
      "execution_count": null,
      "outputs": [
        {
          "output_type": "stream",
          "name": "stdout",
          "text": [
            "R2 score:  -0.635688151637056\n"
          ]
        }
      ]
    },
    {
      "cell_type": "code",
      "metadata": {
        "colab": {
          "base_uri": "https://localhost:8080/"
        },
        "id": "XD0yDes-BAlZ",
        "outputId": "4acd9106-09a0-49cb-abb8-036a19bf8f90"
      },
      "source": [
        "x = gen_regression_symbolic(m='2*x1 + x2^2', n_samples=500, noise=0.1, n_features=2)\n",
        "df5 = pd.DataFrame(x, columns = ['x1'] + ['x2'] + ['y'])\n",
        "MLPRegression(df5)"
      ],
      "execution_count": null,
      "outputs": [
        {
          "output_type": "stream",
          "name": "stdout",
          "text": [
            "R2 score:  -0.4386519814382466\n"
          ]
        }
      ]
    },
    {
      "cell_type": "code",
      "metadata": {
        "colab": {
          "base_uri": "https://localhost:8080/"
        },
        "id": "656V_N0oDCZs",
        "outputId": "035720ab-38d8-476e-bc2a-fa07eae0a31d"
      },
      "source": [
        "x = gen_regression_symbolic(m='4*x1^2 + 7*x2', n_samples=500, noise=0.1, n_features=2)\n",
        "df6 = pd.DataFrame(x, columns = ['x1'] + ['x2'] + ['y'])\n",
        "MLPRegression(df6)"
      ],
      "execution_count": null,
      "outputs": [
        {
          "output_type": "stream",
          "name": "stdout",
          "text": [
            "R2 score:  -0.4221731985783346\n"
          ]
        }
      ]
    },
    {
      "cell_type": "code",
      "metadata": {
        "colab": {
          "base_uri": "https://localhost:8080/"
        },
        "id": "ymg1SuchDCfB",
        "outputId": "d4bc7575-5ffe-4da5-8ac2-69bb58c1d531"
      },
      "source": [
        "x = gen_regression_symbolic(m='7*x1^2 + 3*x2', n_samples=500, noise=0.1, n_features=2)\n",
        "df7 = pd.DataFrame(x, columns = ['x1'] + ['x2'] + ['y'])\n",
        "MLPRegression(df7)"
      ],
      "execution_count": null,
      "outputs": [
        {
          "output_type": "stream",
          "name": "stdout",
          "text": [
            "R2 score:  -0.3280979131562709\n"
          ]
        }
      ]
    },
    {
      "cell_type": "code",
      "metadata": {
        "colab": {
          "base_uri": "https://localhost:8080/"
        },
        "id": "GqAVDFN6DEdR",
        "outputId": "c79bfe65-2e52-46f6-ab29-e30cdbf0a42e"
      },
      "source": [
        "x = gen_regression_symbolic(m='x1 + 7*x2^2', n_samples=500, noise=0.1, n_features=2)\n",
        "df8 = pd.DataFrame(x, columns = ['x1'] + ['x2'] + ['y'])\n",
        "MLPRegression(df8)"
      ],
      "execution_count": null,
      "outputs": [
        {
          "output_type": "stream",
          "name": "stdout",
          "text": [
            "R2 score:  -0.8391882500254857\n"
          ]
        }
      ]
    },
    {
      "cell_type": "markdown",
      "metadata": {
        "id": "dyt7W2Lz7QX0"
      },
      "source": [
        "### 6. There are 23 parameters in ‘sklearn MLP classifier’ (https:scikit-learn.orgstablemodulesgeneratedsklearn.neural network.MLPClassifier.html). Understand the interpretation of different values that can be as\u0002signed to each of the 23 parameters. Conduct the experiment with P1 where P1 is a 23-tuple ( a set of 23 values with a value for each parameter). Choose another set of 23-values, P2, for the parameters of the MLP classifier such that, values of none of the 23 paramemters are same. Consider a 2-class data set. Classify the data using sklearn MLP classifier with P1 and P2 separately. Illustrate the impact of the change in the values of the parameter, as reflected in the output of your experiment.\n"
      ]
    },
    {
      "cell_type": "code",
      "metadata": {
        "id": "mYaUKMgB8yY0"
      },
      "source": [
        "from sklearn import preprocessing\n",
        "from sklearn.model_selection import train_test_split\n",
        "from sklearn.preprocessing import StandardScaler\n",
        "from sklearn.neural_network import MLPClassifier\n",
        "from sklearn.metrics import classification_report, confusion_matrix\n",
        "\n",
        "def MLP(df, p1, p2, p3, act, solve, alpha, batch, learn, rate, power, itr, shufle, rand, total, verb, warm, mom, n_mom, stop, val, beta1, beta2, epsl, nitr, fun):\n",
        "    X = df.iloc[:, :-1]\n",
        "    y = df.iloc[:, -1]\n",
        "    X_train, X_test, y_train, y_test = train_test_split(X, y, test_size = 0.20, random_state=43)\n",
        "\n",
        "    scaler = StandardScaler()\n",
        "    scaler.fit(X_train)\n",
        "\n",
        "    X_train = scaler.transform(X_train)\n",
        "    X_test = scaler.transform(X_test)\n",
        "\n",
        "    mlp = MLPClassifier(hidden_layer_sizes=(p1, p2, p3), activation=act,\n",
        "                        solver=solve, alpha=alpha, batch_size=batch, \n",
        "                        learning_rate = learn, learning_rate_init=rate, \n",
        "                        power_t=power, max_iter=itr, shuffle=shufle, random_state=rand,\n",
        "                        tol = total, verbose=verb, warm_start=warm, momentum=mom,\n",
        "                        nesterovs_momentum=n_mom, early_stopping=stop, \n",
        "                        validation_fraction=val, beta_1=beta1, beta_2=beta2, \n",
        "                        epsilon=epsl, n_iter_no_change=10, max_fun=fun)\n",
        "    mlp.fit(X_train, y_train.values.ravel())\n",
        "\n",
        "    y_preds = mlp.predict(X_test)\n",
        "\n",
        "    def accuracy(confusion_matrix):\n",
        "        diagonal_sum = confusion_matrix.trace()\n",
        "        sum_of_all_elements = confusion_matrix.sum()\n",
        "        return diagonal_sum / sum_of_all_elements\n",
        "\n",
        "    cm = confusion_matrix(y_test, y_preds)\n",
        "    print(\"Accuracy of MLPClassifier : \", accuracy(cm))\n",
        "    print(\"\\n\")\n",
        "    sns.heatmap(cm, annot = True) \n",
        "    print(classification_report(y_test,y_preds))"
      ],
      "execution_count": null,
      "outputs": []
    },
    {
      "cell_type": "code",
      "metadata": {
        "colab": {
          "base_uri": "https://localhost:8080/",
          "height": 206
        },
        "id": "GElSxH-17Y7v",
        "outputId": "748485c5-0bdf-4416-b3a4-b6f657a4312c"
      },
      "source": [
        "df = pd.read_csv(\"https://raw.githubusercontent.com/Apoorv-17/Datasets/main/diabetes.csv\")\n",
        "df.head()"
      ],
      "execution_count": null,
      "outputs": [
        {
          "output_type": "execute_result",
          "data": {
            "text/html": [
              "<div>\n",
              "<style scoped>\n",
              "    .dataframe tbody tr th:only-of-type {\n",
              "        vertical-align: middle;\n",
              "    }\n",
              "\n",
              "    .dataframe tbody tr th {\n",
              "        vertical-align: top;\n",
              "    }\n",
              "\n",
              "    .dataframe thead th {\n",
              "        text-align: right;\n",
              "    }\n",
              "</style>\n",
              "<table border=\"1\" class=\"dataframe\">\n",
              "  <thead>\n",
              "    <tr style=\"text-align: right;\">\n",
              "      <th></th>\n",
              "      <th>Pregnancies</th>\n",
              "      <th>Glucose</th>\n",
              "      <th>BloodPressure</th>\n",
              "      <th>SkinThickness</th>\n",
              "      <th>Insulin</th>\n",
              "      <th>BMI</th>\n",
              "      <th>DiabetesPedigreeFunction</th>\n",
              "      <th>Age</th>\n",
              "      <th>Outcome</th>\n",
              "    </tr>\n",
              "  </thead>\n",
              "  <tbody>\n",
              "    <tr>\n",
              "      <th>0</th>\n",
              "      <td>6</td>\n",
              "      <td>148</td>\n",
              "      <td>72</td>\n",
              "      <td>35</td>\n",
              "      <td>0</td>\n",
              "      <td>33.6</td>\n",
              "      <td>0.627</td>\n",
              "      <td>50</td>\n",
              "      <td>1</td>\n",
              "    </tr>\n",
              "    <tr>\n",
              "      <th>1</th>\n",
              "      <td>1</td>\n",
              "      <td>85</td>\n",
              "      <td>66</td>\n",
              "      <td>29</td>\n",
              "      <td>0</td>\n",
              "      <td>26.6</td>\n",
              "      <td>0.351</td>\n",
              "      <td>31</td>\n",
              "      <td>0</td>\n",
              "    </tr>\n",
              "    <tr>\n",
              "      <th>2</th>\n",
              "      <td>8</td>\n",
              "      <td>183</td>\n",
              "      <td>64</td>\n",
              "      <td>0</td>\n",
              "      <td>0</td>\n",
              "      <td>23.3</td>\n",
              "      <td>0.672</td>\n",
              "      <td>32</td>\n",
              "      <td>1</td>\n",
              "    </tr>\n",
              "    <tr>\n",
              "      <th>3</th>\n",
              "      <td>1</td>\n",
              "      <td>89</td>\n",
              "      <td>66</td>\n",
              "      <td>23</td>\n",
              "      <td>94</td>\n",
              "      <td>28.1</td>\n",
              "      <td>0.167</td>\n",
              "      <td>21</td>\n",
              "      <td>0</td>\n",
              "    </tr>\n",
              "    <tr>\n",
              "      <th>4</th>\n",
              "      <td>0</td>\n",
              "      <td>137</td>\n",
              "      <td>40</td>\n",
              "      <td>35</td>\n",
              "      <td>168</td>\n",
              "      <td>43.1</td>\n",
              "      <td>2.288</td>\n",
              "      <td>33</td>\n",
              "      <td>1</td>\n",
              "    </tr>\n",
              "  </tbody>\n",
              "</table>\n",
              "</div>"
            ],
            "text/plain": [
              "   Pregnancies  Glucose  BloodPressure  ...  DiabetesPedigreeFunction  Age  Outcome\n",
              "0            6      148             72  ...                     0.627   50        1\n",
              "1            1       85             66  ...                     0.351   31        0\n",
              "2            8      183             64  ...                     0.672   32        1\n",
              "3            1       89             66  ...                     0.167   21        0\n",
              "4            0      137             40  ...                     2.288   33        1\n",
              "\n",
              "[5 rows x 9 columns]"
            ]
          },
          "metadata": {},
          "execution_count": 106
        }
      ]
    },
    {
      "cell_type": "markdown",
      "metadata": {
        "id": "VBY9Uhl_io5D"
      },
      "source": [
        "#### 1st Parameters P1"
      ]
    },
    {
      "cell_type": "code",
      "metadata": {
        "colab": {
          "base_uri": "https://localhost:8080/",
          "height": 474
        },
        "id": "0BNNJMvb9yvf",
        "outputId": "dc4cbd7f-35d4-4ba6-a7b0-7e6da4a98b89"
      },
      "source": [
        "MLP(df, 10, 10, 10, 'relu', 'adam', 0.0001, 'auto', 'constant', 0.001, 0.5, 200, True, None, 1e-4, False, False, 0.9, True, False, 0.1, 0.9, 0.999, 1e-8, 10, 15000)"
      ],
      "execution_count": null,
      "outputs": [
        {
          "output_type": "stream",
          "name": "stdout",
          "text": [
            "Accuracy of MLPClassifier :  0.7272727272727273\n",
            "\n",
            "\n",
            "              precision    recall  f1-score   support\n",
            "\n",
            "           0       0.76      0.85      0.80       100\n",
            "           1       0.64      0.50      0.56        54\n",
            "\n",
            "    accuracy                           0.73       154\n",
            "   macro avg       0.70      0.68      0.68       154\n",
            "weighted avg       0.72      0.73      0.72       154\n",
            "\n"
          ]
        },
        {
          "output_type": "display_data",
          "data": {
            "image/png": "[encoded data removed]",
            "text/plain": [
              "<Figure size 432x288 with 2 Axes>"
            ]
          },
          "metadata": {
            "needs_background": "light"
          }
        }
      ]
    },
    {
      "cell_type": "markdown",
      "metadata": {
        "id": "sdc3QpwNitqu"
      },
      "source": [
        "#### 2nd Parameters P2"
      ]
    },
    {
      "cell_type": "code",
      "metadata": {
        "id": "JtVhmow9CcTi",
        "colab": {
          "base_uri": "https://localhost:8080/"
        },
        "outputId": "3d787940-a2c7-42b6-ef53-a678d868a8da"
      },
      "source": [
        "MLP(df, 100, 100, 100, 'logistic', 'sgd', 0.001, 10, 'adaptive', 0.01, 0.05, 10, False, 43, 1e-6, True, True, 0.1, False, True, 0.01, 0.7, 0.99, 1e-6, 100, 1500)"
      ],
      "execution_count": null,
      "outputs": [
        {
          "output_type": "stream",
          "name": "stdout",
          "text": [
            "Iteration 1, loss = 0.66239452\n",
            "Validation score: 0.714286\n",
            "Iteration 2, loss = 0.65304165\n",
            "Validation score: 0.714286\n",
            "Iteration 3, loss = 0.65299309\n",
            "Validation score: 0.714286\n",
            "Iteration 4, loss = 0.65298570\n",
            "Validation score: 0.714286\n",
            "Iteration 5, loss = 0.65297883\n",
            "Validation score: 0.714286\n",
            "Iteration 6, loss = 0.65297198\n",
            "Validation score: 0.714286\n",
            "Iteration 7, loss = 0.65296515\n",
            "Validation score: 0.714286\n",
            "Iteration 8, loss = 0.65295833\n",
            "Validation score: 0.714286\n",
            "Iteration 9, loss = 0.65295153\n",
            "Validation score: 0.714286\n",
            "Iteration 10, loss = 0.65294474\n",
            "Validation score: 0.714286\n",
            "Accuracy of MLPClassifier :  0.6493506493506493\n",
            "\n",
            "\n",
            "              precision    recall  f1-score   support\n",
            "\n",
            "           0       0.65      1.00      0.79       100\n",
            "           1       0.00      0.00      0.00        54\n",
            "\n",
            "    accuracy                           0.65       154\n",
            "   macro avg       0.32      0.50      0.39       154\n",
            "weighted avg       0.42      0.65      0.51       154\n",
            "\n"
          ]
        },
        {
          "output_type": "display_data",
          "data": {
            "image/png": "[encoded data removed]",
            "text/plain": [
              "<Figure size 432x288 with 2 Axes>"
            ]
          },
          "metadata": {
            "needs_background": "light"
          }
        }
      ]
    },
    {
      "cell_type": "markdown",
      "metadata": {
        "id": "910G40nnjHfw"
      },
      "source": [
        "Infernce:\n"
      ]
    },
    {
      "cell_type": "code",
      "metadata": {
        "id": "4W02VQIIvMiQ"
      },
      "source": [
        ""
      ],
      "execution_count": null,
      "outputs": []
    },
    {
      "cell_type": "markdown",
      "metadata": {
        "id": "njbPyqxQRaTp"
      },
      "source": [
        "### 7. Consider a multivariate multi-class data set. Train Sklearn MLP classifier with your data set with three hidden layers, such that the each hidden layer can have a maximum of 100 perceptrons in each layer. Conduct a sequence of experiments to find the optimum number of perceptrons in each hidden layers, which trains the classifier well."
      ]
    },
    {
      "cell_type": "code",
      "metadata": {
        "colab": {
          "base_uri": "https://localhost:8080/",
          "height": 423
        },
        "id": "-8Ss6SErRmHV",
        "outputId": "b99999df-02dc-45b1-abad-fc70511f14af"
      },
      "source": [
        "diabetes = pd.read_csv(\"https://raw.githubusercontent.com/Apoorv-17/Datasets/main/diabetes.csv\", sep = ',')\n",
        "diabetes"
      ],
      "execution_count": null,
      "outputs": [
        {
          "output_type": "execute_result",
          "data": {
            "text/html": [
              "<div>\n",
              "<style scoped>\n",
              "    .dataframe tbody tr th:only-of-type {\n",
              "        vertical-align: middle;\n",
              "    }\n",
              "\n",
              "    .dataframe tbody tr th {\n",
              "        vertical-align: top;\n",
              "    }\n",
              "\n",
              "    .dataframe thead th {\n",
              "        text-align: right;\n",
              "    }\n",
              "</style>\n",
              "<table border=\"1\" class=\"dataframe\">\n",
              "  <thead>\n",
              "    <tr style=\"text-align: right;\">\n",
              "      <th></th>\n",
              "      <th>Pregnancies</th>\n",
              "      <th>Glucose</th>\n",
              "      <th>BloodPressure</th>\n",
              "      <th>SkinThickness</th>\n",
              "      <th>Insulin</th>\n",
              "      <th>BMI</th>\n",
              "      <th>DiabetesPedigreeFunction</th>\n",
              "      <th>Age</th>\n",
              "      <th>Outcome</th>\n",
              "    </tr>\n",
              "  </thead>\n",
              "  <tbody>\n",
              "    <tr>\n",
              "      <th>0</th>\n",
              "      <td>6</td>\n",
              "      <td>148</td>\n",
              "      <td>72</td>\n",
              "      <td>35</td>\n",
              "      <td>0</td>\n",
              "      <td>33.6</td>\n",
              "      <td>0.627</td>\n",
              "      <td>50</td>\n",
              "      <td>1</td>\n",
              "    </tr>\n",
              "    <tr>\n",
              "      <th>1</th>\n",
              "      <td>1</td>\n",
              "      <td>85</td>\n",
              "      <td>66</td>\n",
              "      <td>29</td>\n",
              "      <td>0</td>\n",
              "      <td>26.6</td>\n",
              "      <td>0.351</td>\n",
              "      <td>31</td>\n",
              "      <td>0</td>\n",
              "    </tr>\n",
              "    <tr>\n",
              "      <th>2</th>\n",
              "      <td>8</td>\n",
              "      <td>183</td>\n",
              "      <td>64</td>\n",
              "      <td>0</td>\n",
              "      <td>0</td>\n",
              "      <td>23.3</td>\n",
              "      <td>0.672</td>\n",
              "      <td>32</td>\n",
              "      <td>1</td>\n",
              "    </tr>\n",
              "    <tr>\n",
              "      <th>3</th>\n",
              "      <td>1</td>\n",
              "      <td>89</td>\n",
              "      <td>66</td>\n",
              "      <td>23</td>\n",
              "      <td>94</td>\n",
              "      <td>28.1</td>\n",
              "      <td>0.167</td>\n",
              "      <td>21</td>\n",
              "      <td>0</td>\n",
              "    </tr>\n",
              "    <tr>\n",
              "      <th>4</th>\n",
              "      <td>0</td>\n",
              "      <td>137</td>\n",
              "      <td>40</td>\n",
              "      <td>35</td>\n",
              "      <td>168</td>\n",
              "      <td>43.1</td>\n",
              "      <td>2.288</td>\n",
              "      <td>33</td>\n",
              "      <td>1</td>\n",
              "    </tr>\n",
              "    <tr>\n",
              "      <th>...</th>\n",
              "      <td>...</td>\n",
              "      <td>...</td>\n",
              "      <td>...</td>\n",
              "      <td>...</td>\n",
              "      <td>...</td>\n",
              "      <td>...</td>\n",
              "      <td>...</td>\n",
              "      <td>...</td>\n",
              "      <td>...</td>\n",
              "    </tr>\n",
              "    <tr>\n",
              "      <th>763</th>\n",
              "      <td>10</td>\n",
              "      <td>101</td>\n",
              "      <td>76</td>\n",
              "      <td>48</td>\n",
              "      <td>180</td>\n",
              "      <td>32.9</td>\n",
              "      <td>0.171</td>\n",
              "      <td>63</td>\n",
              "      <td>0</td>\n",
              "    </tr>\n",
              "    <tr>\n",
              "      <th>764</th>\n",
              "      <td>2</td>\n",
              "      <td>122</td>\n",
              "      <td>70</td>\n",
              "      <td>27</td>\n",
              "      <td>0</td>\n",
              "      <td>36.8</td>\n",
              "      <td>0.340</td>\n",
              "      <td>27</td>\n",
              "      <td>0</td>\n",
              "    </tr>\n",
              "    <tr>\n",
              "      <th>765</th>\n",
              "      <td>5</td>\n",
              "      <td>121</td>\n",
              "      <td>72</td>\n",
              "      <td>23</td>\n",
              "      <td>112</td>\n",
              "      <td>26.2</td>\n",
              "      <td>0.245</td>\n",
              "      <td>30</td>\n",
              "      <td>0</td>\n",
              "    </tr>\n",
              "    <tr>\n",
              "      <th>766</th>\n",
              "      <td>1</td>\n",
              "      <td>126</td>\n",
              "      <td>60</td>\n",
              "      <td>0</td>\n",
              "      <td>0</td>\n",
              "      <td>30.1</td>\n",
              "      <td>0.349</td>\n",
              "      <td>47</td>\n",
              "      <td>1</td>\n",
              "    </tr>\n",
              "    <tr>\n",
              "      <th>767</th>\n",
              "      <td>1</td>\n",
              "      <td>93</td>\n",
              "      <td>70</td>\n",
              "      <td>31</td>\n",
              "      <td>0</td>\n",
              "      <td>30.4</td>\n",
              "      <td>0.315</td>\n",
              "      <td>23</td>\n",
              "      <td>0</td>\n",
              "    </tr>\n",
              "  </tbody>\n",
              "</table>\n",
              "<p>768 rows × 9 columns</p>\n",
              "</div>"
            ],
            "text/plain": [
              "     Pregnancies  Glucose  ...  Age  Outcome\n",
              "0              6      148  ...   50        1\n",
              "1              1       85  ...   31        0\n",
              "2              8      183  ...   32        1\n",
              "3              1       89  ...   21        0\n",
              "4              0      137  ...   33        1\n",
              "..           ...      ...  ...  ...      ...\n",
              "763           10      101  ...   63        0\n",
              "764            2      122  ...   27        0\n",
              "765            5      121  ...   30        0\n",
              "766            1      126  ...   47        1\n",
              "767            1       93  ...   23        0\n",
              "\n",
              "[768 rows x 9 columns]"
            ]
          },
          "metadata": {},
          "execution_count": 109
        }
      ]
    },
    {
      "cell_type": "code",
      "metadata": {
        "id": "NFh1tL3_R5Ac"
      },
      "source": [
        "# Resample uses bootstrapping method to regenerate samples by randomly selecting data for each class.\n",
        "from sklearn.utils import resample\n",
        "df_0 = diabetes[diabetes['Outcome'] == 0]\n",
        "df_1 = diabetes[diabetes['Outcome'] == 1]\n",
        "\n",
        "# Apply resample\n",
        "df_1_upsample = resample(df_1, n_samples = 500, replace = True, random_state= 123)\n",
        "\n",
        "df = pd.concat([df_0,df_1_upsample])"
      ],
      "execution_count": null,
      "outputs": []
    },
    {
      "cell_type": "code",
      "metadata": {
        "id": "SzYx1_Y-SVZN"
      },
      "source": [
        "from sklearn.model_selection import train_test_split\n",
        "from sklearn.neural_network import MLPClassifier\n",
        "from sklearn.metrics import confusion_matrix\n",
        "from sklearn.metrics import classification_report\n",
        "\n",
        "\n",
        "def accuracy(confusion_matrix):\n",
        "   diagonal_sum = confusion_matrix.trace()\n",
        "   sum_of_all_elements = confusion_matrix.sum()\n",
        "   return diagonal_sum / sum_of_all_elements\n",
        "\n",
        "def MLPCliassification(df, h1, h2, h3):\n",
        "    X = df.iloc[:, :-1]\n",
        "    y = df.iloc[:, -1]\n",
        "\n",
        "    X_train, X_test, Y_train, Y_test = train_test_split(X, y, test_size = 0.20)\n",
        "\n",
        "    #Initializing the MLPClassifier\n",
        "    classifier = MLPClassifier(hidden_layer_sizes=(h1,h2,h3),\n",
        "                               alpha=0.1,\n",
        "                               max_iter=500,\n",
        "                               activation = 'relu',\n",
        "                               solver='adam',\n",
        "                               random_state=43)\n",
        "    #Fitting the training data to the network\n",
        "    classifier.fit(X_train, Y_train)\n",
        "\n",
        "    #Predicting y for X_val\n",
        "    y_pred = classifier.predict(X_test)\n",
        "\n",
        "    #Comparing the predictions against the actual observations in y_val\n",
        "    cm = confusion_matrix(y_pred, Y_test)\n",
        "\n",
        "    #Printing the accuracy\n",
        "    print(\"Accuracy of MLPClassifier : \", accuracy(cm))\n",
        "    print(\"\\n\")\n",
        "\n",
        "    sns.heatmap(confusion_matrix(Y_test, y_pred), annot = True) \n",
        "\n",
        "    print(classification_report(Y_test, y_pred))"
      ],
      "execution_count": null,
      "outputs": []
    },
    {
      "cell_type": "code",
      "metadata": {
        "colab": {
          "base_uri": "https://localhost:8080/",
          "height": 474
        },
        "id": "Tsyf_gzOTy5E",
        "outputId": "debcb4d1-e5b1-4819-b0e9-647084e2d3fa"
      },
      "source": [
        "MLPCliassification(df, 100,100,50)"
      ],
      "execution_count": null,
      "outputs": [
        {
          "output_type": "stream",
          "name": "stdout",
          "text": [
            "Accuracy of MLPClassifier :  0.755\n",
            "\n",
            "\n",
            "              precision    recall  f1-score   support\n",
            "\n",
            "           0       0.74      0.77      0.75        98\n",
            "           1       0.77      0.75      0.76       102\n",
            "\n",
            "    accuracy                           0.76       200\n",
            "   macro avg       0.76      0.76      0.75       200\n",
            "weighted avg       0.76      0.76      0.76       200\n",
            "\n"
          ]
        },
        {
          "output_type": "display_data",
          "data": {
            "image/png": "[encoded data removed]",
            "text/plain": [
              "<Figure size 432x288 with 2 Axes>"
            ]
          },
          "metadata": {
            "needs_background": "light"
          }
        }
      ]
    },
    {
      "cell_type": "code",
      "metadata": {
        "colab": {
          "base_uri": "https://localhost:8080/",
          "height": 474
        },
        "id": "-RvnT8s8T7-b",
        "outputId": "69d73b9b-3897-4a53-fbd9-6202106262bf"
      },
      "source": [
        "MLPCliassification(df, 100, 50, 50)"
      ],
      "execution_count": null,
      "outputs": [
        {
          "output_type": "stream",
          "name": "stdout",
          "text": [
            "Accuracy of MLPClassifier :  0.705\n",
            "\n",
            "\n",
            "              precision    recall  f1-score   support\n",
            "\n",
            "           0       0.81      0.55      0.66       103\n",
            "           1       0.65      0.87      0.74        97\n",
            "\n",
            "    accuracy                           0.70       200\n",
            "   macro avg       0.73      0.71      0.70       200\n",
            "weighted avg       0.73      0.70      0.70       200\n",
            "\n"
          ]
        },
        {
          "output_type": "display_data",
          "data": {
            "image/png": "[encoded data removed]",
            "text/plain": [
              "<Figure size 432x288 with 2 Axes>"
            ]
          },
          "metadata": {
            "needs_background": "light"
          }
        }
      ]
    },
    {
      "cell_type": "code",
      "metadata": {
        "colab": {
          "base_uri": "https://localhost:8080/",
          "height": 478
        },
        "id": "yJtzyxb0UKSz",
        "outputId": "9686d43a-704c-420b-bc6d-bad6ca23163e"
      },
      "source": [
        "MLPCliassification(df, 60,60,60)"
      ],
      "execution_count": null,
      "outputs": [
        {
          "output_type": "stream",
          "name": "stdout",
          "text": [
            "Accuracy of MLPClassifier :  0.72\n",
            "\n",
            "\n",
            "              precision    recall  f1-score   support\n",
            "\n",
            "           0       0.67      0.88      0.76       102\n",
            "           1       0.82      0.55      0.66        98\n",
            "\n",
            "    accuracy                           0.72       200\n",
            "   macro avg       0.74      0.72      0.71       200\n",
            "weighted avg       0.74      0.72      0.71       200\n",
            "\n"
          ]
        },
        {
          "output_type": "display_data",
          "data": {
            "image/png": "[encoded data removed]",
            "text/plain": [
              "<Figure size 432x288 with 2 Axes>"
            ]
          },
          "metadata": {
            "needs_background": "light"
          }
        }
      ]
    },
    {
      "cell_type": "code",
      "metadata": {
        "colab": {
          "base_uri": "https://localhost:8080/",
          "height": 474
        },
        "id": "-tsT6fcAUeb0",
        "outputId": "997240a3-3af2-4980-878c-3dc58e270400"
      },
      "source": [
        "MLPCliassification(df, 50, 50, 50)"
      ],
      "execution_count": null,
      "outputs": [
        {
          "output_type": "stream",
          "name": "stdout",
          "text": [
            "Accuracy of MLPClassifier :  0.725\n",
            "\n",
            "\n",
            "              precision    recall  f1-score   support\n",
            "\n",
            "           0       0.71      0.81      0.76       106\n",
            "           1       0.75      0.63      0.68        94\n",
            "\n",
            "    accuracy                           0.73       200\n",
            "   macro avg       0.73      0.72      0.72       200\n",
            "weighted avg       0.73      0.72      0.72       200\n",
            "\n"
          ]
        },
        {
          "output_type": "display_data",
          "data": {
            "image/png": "[encoded data removed]",
            "text/plain": [
              "<Figure size 432x288 with 2 Axes>"
            ]
          },
          "metadata": {
            "needs_background": "light"
          }
        }
      ]
    },
    {
      "cell_type": "code",
      "metadata": {
        "colab": {
          "base_uri": "https://localhost:8080/",
          "height": 478
        },
        "id": "HqEiAnIcUegP",
        "outputId": "3c2890ae-e2f4-4d27-9a73-0e01cae28ff7"
      },
      "source": [
        "MLPCliassification(df, 30,25,25)"
      ],
      "execution_count": null,
      "outputs": [
        {
          "output_type": "stream",
          "name": "stdout",
          "text": [
            "Accuracy of MLPClassifier :  0.695\n",
            "\n",
            "\n",
            "              precision    recall  f1-score   support\n",
            "\n",
            "           0       0.69      0.71      0.70        99\n",
            "           1       0.70      0.68      0.69       101\n",
            "\n",
            "    accuracy                           0.69       200\n",
            "   macro avg       0.70      0.70      0.69       200\n",
            "weighted avg       0.70      0.69      0.69       200\n",
            "\n"
          ]
        },
        {
          "output_type": "display_data",
          "data": {
            "image/png": "[encoded data removed]",
            "text/plain": [
              "<Figure size 432x288 with 2 Axes>"
            ]
          },
          "metadata": {
            "needs_background": "light"
          }
        }
      ]
    },
    {
      "cell_type": "code",
      "metadata": {
        "id": "z1eo2Bd_Uxlq"
      },
      "source": [
        ""
      ],
      "execution_count": null,
      "outputs": []
    }
  ]
}