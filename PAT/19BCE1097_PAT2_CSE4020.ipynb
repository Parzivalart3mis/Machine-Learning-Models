{
  "nbformat": 4,
  "nbformat_minor": 0,
  "metadata": {
    "colab": {
      "name": "19BCE1097 - PAT2 - CSE4020.ipynb",
      "provenance": [],
      "collapsed_sections": []
    },
    "kernelspec": {
      "name": "python3",
      "display_name": "Python 3"
    },
    "language_info": {
      "name": "python"
    }
  },
  "cells": [
    {
      "cell_type": "markdown",
      "metadata": {
        "id": "qfHkFayISrTa"
      },
      "source": [
        "Code of Academic Integrity\n",
        "* I affirm that\n",
        "* This work is my own original work and is not a borrowed work,\n",
        "\n",
        "*   This work is my own original work and is not a borrowed work, either from other students or from assignments for other courses.\n",
        "\n",
        "*   I have not given or received any unauthorized help on this as\u0002signment.\n",
        "\n",
        "*   This submission is free from Plagiarism, Fabrication of facts, Unauthorized assistance, collusion\n",
        "\n",
        "*   This submission gives proper credit to sources and references, acknowledges the contributions and ideas of others relevant to this academic work.\n",
        "\n",
        "*   This submission was prepared by me fully adhering to the rules that govern this assignment regarding resource material, elec\u0002tronic aids, copying, collaborating with others, or engaging in any other behavior that subverts the purpose of the assignment and the directions of the teacher.\n",
        "\n"
      ]
    },
    {
      "cell_type": "markdown",
      "metadata": {
        "id": "sOoYPBEQWlJd"
      },
      "source": [
        "# **PAT 2**\n",
        "\n",
        "\n",
        "### Question"
      ]
    },
    {
      "cell_type": "code",
      "metadata": {
        "id": "bOzBhn7oX6oB"
      },
      "source": [
        "import pandas as pd\n",
        "import numpy as np\n",
        "import matplotlib.pyplot as plt\n",
        "import seaborn as sns\n",
        "from sklearn.impute import SimpleImputer\n",
        "from sklearn.preprocessing import LabelEncoder"
      ],
      "execution_count": null,
      "outputs": []
    },
    {
      "cell_type": "code",
      "metadata": {
        "colab": {
          "base_uri": "https://localhost:8080/"
        },
        "id": "zYcJKd9Wnz8G",
        "outputId": "8cbd40c6-13f7-45a5-ed26-6705fcbf36a6"
      },
      "source": [
        "from google.colab import drive\n",
        "drive.mount('/content/drive')"
      ],
      "execution_count": null,
      "outputs": [
        {
          "output_type": "stream",
          "name": "stdout",
          "text": [
            "Mounted at /content/drive\n"
          ]
        }
      ]
    },
    {
      "cell_type": "code",
      "metadata": {
        "id": "2neqTLi4SXIx"
      },
      "source": [
        "from sklearn.model_selection import train_test_split\n",
        "from sklearn.model_selection import cross_val_score\n",
        "from sklearn.metrics import mean_absolute_error as mae\n",
        "from sklearn.metrics import mean_squared_error\n",
        "from sklearn.utils import shuffle\n",
        "from sklearn.preprocessing import MinMaxScaler\n",
        "from sklearn.datasets import make_regression"
      ],
      "execution_count": null,
      "outputs": []
    },
    {
      "cell_type": "markdown",
      "metadata": {
        "id": "T_T-7lNUZ4A1"
      },
      "source": [
        "## Pulling the Dataset"
      ]
    },
    {
      "cell_type": "code",
      "metadata": {
        "id": "ePDOFiRhZ8Uc"
      },
      "source": [
        "df = pd.read_csv(\"/content/drive/MyDrive/Datasets/D.csv\", na_values=[\" \",\"?\",\"??\",\"???\",\"-\"], index_col='S.no')"
      ],
      "execution_count": null,
      "outputs": []
    },
    {
      "cell_type": "markdown",
      "metadata": {
        "id": "i9A-Q43WyMc2"
      },
      "source": [
        "## 1. Data Preprocessing"
      ]
    },
    {
      "cell_type": "markdown",
      "metadata": {
        "id": "x3tSBmjxafgy"
      },
      "source": [
        "### (a) Check the dimension and display the first 15 records of the dataset"
      ]
    },
    {
      "cell_type": "code",
      "metadata": {
        "colab": {
          "base_uri": "https://localhost:8080/"
        },
        "id": "GPb5Ao5rKqpM",
        "outputId": "a32fc76e-9045-41dc-972a-0451d82896ce"
      },
      "source": [
        "df.shape"
      ],
      "execution_count": null,
      "outputs": [
        {
          "output_type": "execute_result",
          "data": {
            "text/plain": [
              "(600, 13)"
            ]
          },
          "metadata": {},
          "execution_count": 6
        }
      ]
    },
    {
      "cell_type": "code",
      "metadata": {
        "colab": {
          "base_uri": "https://localhost:8080/"
        },
        "id": "7ezi06kcK8kk",
        "outputId": "876a2323-1ad7-4ee2-cfa0-b051993040e5"
      },
      "source": [
        "df.ndim"
      ],
      "execution_count": null,
      "outputs": [
        {
          "output_type": "execute_result",
          "data": {
            "text/plain": [
              "2"
            ]
          },
          "metadata": {},
          "execution_count": 7
        }
      ]
    },
    {
      "cell_type": "code",
      "metadata": {
        "colab": {
          "base_uri": "https://localhost:8080/",
          "height": 571
        },
        "id": "EdgfbGUVa3wl",
        "outputId": "8a64ccef-a781-4fca-9695-888d012692ed"
      },
      "source": [
        "df.head(15)"
      ],
      "execution_count": null,
      "outputs": [
        {
          "output_type": "execute_result",
          "data": {
            "text/html": [
              "<div>\n",
              "<style scoped>\n",
              "    .dataframe tbody tr th:only-of-type {\n",
              "        vertical-align: middle;\n",
              "    }\n",
              "\n",
              "    .dataframe tbody tr th {\n",
              "        vertical-align: top;\n",
              "    }\n",
              "\n",
              "    .dataframe thead th {\n",
              "        text-align: right;\n",
              "    }\n",
              "</style>\n",
              "<table border=\"1\" class=\"dataframe\">\n",
              "  <thead>\n",
              "    <tr style=\"text-align: right;\">\n",
              "      <th></th>\n",
              "      <th>A1</th>\n",
              "      <th>A2</th>\n",
              "      <th>A3</th>\n",
              "      <th>A4</th>\n",
              "      <th>A5</th>\n",
              "      <th>A6</th>\n",
              "      <th>A7</th>\n",
              "      <th>A8</th>\n",
              "      <th>A9</th>\n",
              "      <th>A10</th>\n",
              "      <th>A11</th>\n",
              "      <th>A12</th>\n",
              "      <th>Target</th>\n",
              "    </tr>\n",
              "    <tr>\n",
              "      <th>S.no</th>\n",
              "      <th></th>\n",
              "      <th></th>\n",
              "      <th></th>\n",
              "      <th></th>\n",
              "      <th></th>\n",
              "      <th></th>\n",
              "      <th></th>\n",
              "      <th></th>\n",
              "      <th></th>\n",
              "      <th></th>\n",
              "      <th></th>\n",
              "      <th></th>\n",
              "      <th></th>\n",
              "    </tr>\n",
              "  </thead>\n",
              "  <tbody>\n",
              "    <tr>\n",
              "      <th>1</th>\n",
              "      <td>7420</td>\n",
              "      <td>4.0</td>\n",
              "      <td>2.0</td>\n",
              "      <td>3.0</td>\n",
              "      <td>1.0</td>\n",
              "      <td>2</td>\n",
              "      <td>2</td>\n",
              "      <td>no</td>\n",
              "      <td>1</td>\n",
              "      <td>2</td>\n",
              "      <td>yes</td>\n",
              "      <td>full</td>\n",
              "      <td>13300000</td>\n",
              "    </tr>\n",
              "    <tr>\n",
              "      <th>2</th>\n",
              "      <td>8960</td>\n",
              "      <td>4.0</td>\n",
              "      <td>4.0</td>\n",
              "      <td>4.0</td>\n",
              "      <td>1.0</td>\n",
              "      <td>2</td>\n",
              "      <td>2</td>\n",
              "      <td>no</td>\n",
              "      <td>1</td>\n",
              "      <td>3</td>\n",
              "      <td>no</td>\n",
              "      <td>full</td>\n",
              "      <td>12250000</td>\n",
              "    </tr>\n",
              "    <tr>\n",
              "      <th>3</th>\n",
              "      <td>9960</td>\n",
              "      <td>3.0</td>\n",
              "      <td>2.0</td>\n",
              "      <td>2.0</td>\n",
              "      <td>1.0</td>\n",
              "      <td>2</td>\n",
              "      <td>1</td>\n",
              "      <td>no</td>\n",
              "      <td>2</td>\n",
              "      <td>2</td>\n",
              "      <td>yes</td>\n",
              "      <td>semi</td>\n",
              "      <td>12250000</td>\n",
              "    </tr>\n",
              "    <tr>\n",
              "      <th>4</th>\n",
              "      <td>7500</td>\n",
              "      <td>4.0</td>\n",
              "      <td>2.0</td>\n",
              "      <td>2.0</td>\n",
              "      <td>1.0</td>\n",
              "      <td>2</td>\n",
              "      <td>1</td>\n",
              "      <td>no</td>\n",
              "      <td>1</td>\n",
              "      <td>3</td>\n",
              "      <td>yes</td>\n",
              "      <td>full</td>\n",
              "      <td>12215000</td>\n",
              "    </tr>\n",
              "    <tr>\n",
              "      <th>5</th>\n",
              "      <td>7420</td>\n",
              "      <td>4.0</td>\n",
              "      <td>1.0</td>\n",
              "      <td>2.0</td>\n",
              "      <td>1.0</td>\n",
              "      <td>1</td>\n",
              "      <td>1</td>\n",
              "      <td>no</td>\n",
              "      <td>1</td>\n",
              "      <td>2</td>\n",
              "      <td>no</td>\n",
              "      <td>full</td>\n",
              "      <td>11410000</td>\n",
              "    </tr>\n",
              "    <tr>\n",
              "      <th>6</th>\n",
              "      <td>7500</td>\n",
              "      <td>3.0</td>\n",
              "      <td>3.0</td>\n",
              "      <td>1.0</td>\n",
              "      <td>1.0</td>\n",
              "      <td>2</td>\n",
              "      <td>1</td>\n",
              "      <td>no</td>\n",
              "      <td>1</td>\n",
              "      <td>2</td>\n",
              "      <td>yes</td>\n",
              "      <td>semi</td>\n",
              "      <td>10850000</td>\n",
              "    </tr>\n",
              "    <tr>\n",
              "      <th>7</th>\n",
              "      <td>8580</td>\n",
              "      <td>4.0</td>\n",
              "      <td>3.0</td>\n",
              "      <td>4.0</td>\n",
              "      <td>1.0</td>\n",
              "      <td>2</td>\n",
              "      <td>2</td>\n",
              "      <td>no</td>\n",
              "      <td>1</td>\n",
              "      <td>2</td>\n",
              "      <td>yes</td>\n",
              "      <td>semi</td>\n",
              "      <td>10150000</td>\n",
              "    </tr>\n",
              "    <tr>\n",
              "      <th>8</th>\n",
              "      <td>162000</td>\n",
              "      <td>5.0</td>\n",
              "      <td>3.0</td>\n",
              "      <td>2.0</td>\n",
              "      <td>1.0</td>\n",
              "      <td>2</td>\n",
              "      <td>2</td>\n",
              "      <td>no</td>\n",
              "      <td>2</td>\n",
              "      <td>0</td>\n",
              "      <td>no</td>\n",
              "      <td>empty</td>\n",
              "      <td>10150000</td>\n",
              "    </tr>\n",
              "    <tr>\n",
              "      <th>9</th>\n",
              "      <td>8100</td>\n",
              "      <td>4.0</td>\n",
              "      <td>1.0</td>\n",
              "      <td>2.0</td>\n",
              "      <td>1.0</td>\n",
              "      <td>1</td>\n",
              "      <td>1</td>\n",
              "      <td>no</td>\n",
              "      <td>1</td>\n",
              "      <td>2</td>\n",
              "      <td>yes</td>\n",
              "      <td>full</td>\n",
              "      <td>9870000</td>\n",
              "    </tr>\n",
              "    <tr>\n",
              "      <th>10</th>\n",
              "      <td>5750</td>\n",
              "      <td>3.0</td>\n",
              "      <td>2.0</td>\n",
              "      <td>4.0</td>\n",
              "      <td>1.0</td>\n",
              "      <td>1</td>\n",
              "      <td>2</td>\n",
              "      <td>no</td>\n",
              "      <td>1</td>\n",
              "      <td>1</td>\n",
              "      <td>yes</td>\n",
              "      <td>empty</td>\n",
              "      <td>9800000</td>\n",
              "    </tr>\n",
              "    <tr>\n",
              "      <th>11</th>\n",
              "      <td>13200</td>\n",
              "      <td>3.0</td>\n",
              "      <td>1.0</td>\n",
              "      <td>2.0</td>\n",
              "      <td>1.0</td>\n",
              "      <td>2</td>\n",
              "      <td>1</td>\n",
              "      <td>no</td>\n",
              "      <td>1</td>\n",
              "      <td>2</td>\n",
              "      <td>yes</td>\n",
              "      <td>full</td>\n",
              "      <td>9800000</td>\n",
              "    </tr>\n",
              "    <tr>\n",
              "      <th>12</th>\n",
              "      <td>6000</td>\n",
              "      <td>4.0</td>\n",
              "      <td>3.0</td>\n",
              "      <td>2.0</td>\n",
              "      <td>1.0</td>\n",
              "      <td>1</td>\n",
              "      <td>1</td>\n",
              "      <td>yes</td>\n",
              "      <td>2</td>\n",
              "      <td>2</td>\n",
              "      <td>no</td>\n",
              "      <td>semi</td>\n",
              "      <td>9681000</td>\n",
              "    </tr>\n",
              "    <tr>\n",
              "      <th>13</th>\n",
              "      <td>6550</td>\n",
              "      <td>4.0</td>\n",
              "      <td>2.0</td>\n",
              "      <td>2.0</td>\n",
              "      <td>1.0</td>\n",
              "      <td>2</td>\n",
              "      <td>2</td>\n",
              "      <td>no</td>\n",
              "      <td>1</td>\n",
              "      <td>1</td>\n",
              "      <td>yes</td>\n",
              "      <td>semi</td>\n",
              "      <td>9310000</td>\n",
              "    </tr>\n",
              "    <tr>\n",
              "      <th>14</th>\n",
              "      <td>3500</td>\n",
              "      <td>NaN</td>\n",
              "      <td>2.0</td>\n",
              "      <td>2.0</td>\n",
              "      <td>1.0</td>\n",
              "      <td>2</td>\n",
              "      <td>2</td>\n",
              "      <td>yes</td>\n",
              "      <td>2</td>\n",
              "      <td>2</td>\n",
              "      <td>no</td>\n",
              "      <td>NaN</td>\n",
              "      <td>9240000</td>\n",
              "    </tr>\n",
              "    <tr>\n",
              "      <th>15</th>\n",
              "      <td>7800</td>\n",
              "      <td>3.0</td>\n",
              "      <td>2.0</td>\n",
              "      <td>2.0</td>\n",
              "      <td>1.0</td>\n",
              "      <td>2</td>\n",
              "      <td>2</td>\n",
              "      <td>no</td>\n",
              "      <td>2</td>\n",
              "      <td>0</td>\n",
              "      <td>yes</td>\n",
              "      <td>semi</td>\n",
              "      <td>9240000</td>\n",
              "    </tr>\n",
              "  </tbody>\n",
              "</table>\n",
              "</div>"
            ],
            "text/plain": [
              "          A1   A2   A3   A4   A5  A6 A7   A8  A9  A10  A11    A12    Target\n",
              "S.no                                                                       \n",
              "1       7420  4.0  2.0  3.0  1.0   2  2   no   1    2  yes   full  13300000\n",
              "2       8960  4.0  4.0  4.0  1.0   2  2   no   1    3   no   full  12250000\n",
              "3       9960  3.0  2.0  2.0  1.0   2  1   no   2    2  yes   semi  12250000\n",
              "4       7500  4.0  2.0  2.0  1.0   2  1   no   1    3  yes   full  12215000\n",
              "5       7420  4.0  1.0  2.0  1.0   1  1   no   1    2   no   full  11410000\n",
              "6       7500  3.0  3.0  1.0  1.0   2  1   no   1    2  yes   semi  10850000\n",
              "7       8580  4.0  3.0  4.0  1.0   2  2   no   1    2  yes   semi  10150000\n",
              "8     162000  5.0  3.0  2.0  1.0   2  2   no   2    0   no  empty  10150000\n",
              "9       8100  4.0  1.0  2.0  1.0   1  1   no   1    2  yes   full   9870000\n",
              "10      5750  3.0  2.0  4.0  1.0   1  2   no   1    1  yes  empty   9800000\n",
              "11     13200  3.0  1.0  2.0  1.0   2  1   no   1    2  yes   full   9800000\n",
              "12      6000  4.0  3.0  2.0  1.0   1  1  yes   2    2   no   semi   9681000\n",
              "13      6550  4.0  2.0  2.0  1.0   2  2   no   1    1  yes   semi   9310000\n",
              "14      3500  NaN  2.0  2.0  1.0   2  2  yes   2    2   no    NaN   9240000\n",
              "15      7800  3.0  2.0  2.0  1.0   2  2   no   2    0  yes   semi   9240000"
            ]
          },
          "metadata": {},
          "execution_count": 8
        }
      ]
    },
    {
      "cell_type": "markdown",
      "metadata": {
        "id": "EEwEHsT6bEEu"
      },
      "source": [
        "### (b) Identify the attribres which are categorical and continous"
      ]
    },
    {
      "cell_type": "code",
      "metadata": {
        "id": "3DjEWkE4GLaJ"
      },
      "source": [
        "def uprint(df, name):\n",
        "  print(\"column name: \", name ,df[name].unique())"
      ],
      "execution_count": null,
      "outputs": []
    },
    {
      "cell_type": "code",
      "metadata": {
        "colab": {
          "base_uri": "https://localhost:8080/"
        },
        "id": "3cK7nGGWGVN7",
        "outputId": "778b9ec3-e8b9-4e77-f06b-cccfca77e723"
      },
      "source": [
        "df.columns"
      ],
      "execution_count": null,
      "outputs": [
        {
          "output_type": "execute_result",
          "data": {
            "text/plain": [
              "Index(['A1', 'A2', 'A3', 'A4', 'A5', 'A6', 'A7', 'A8', 'A9', 'A10', 'A11',\n",
              "       'A12', 'Target'],\n",
              "      dtype='object')"
            ]
          },
          "metadata": {},
          "execution_count": 10
        }
      ]
    },
    {
      "cell_type": "code",
      "metadata": {
        "colab": {
          "base_uri": "https://localhost:8080/"
        },
        "id": "1HYtc1swGZGo",
        "outputId": "e7fe0717-1f65-4091-df48-88b712a545ae"
      },
      "source": [
        "for column in df.columns:\n",
        "  uprint(df, column)"
      ],
      "execution_count": null,
      "outputs": [
        {
          "output_type": "stream",
          "name": "stdout",
          "text": [
            "column name:  A1 [  7420   8960   9960   7500   8580 162000   8100   5750  13200   6000\n",
            "   6550   3500   7800   6600   8500   4600   6420   4320   7155   8050\n",
            "   4560   8800   6540   8875   7950   5500   7475   7000   4880   5960\n",
            "   6840   7482   9000   6360   6480   4300   7440   6325   5150  11440\n",
            "   7680   8880   6240  11175   7700  12090   4000   5020   4040   4260\n",
            "   6500   5700  10500   3760   8250   6670   3960   7410   5000   6750\n",
            "   4800   7200   4100   6400   6350   4500   5450   3240   6615   8372\n",
            "   9620   6800   8000   6900   3700   7020   7231   6254   7320   6525\n",
            "  15600   7160  11460   5828   5200   5400   4640   5800   6660   4700\n",
            "   5136   4400   3300   3650   6100   2817   7980   3150   6210   6825\n",
            "   6710   6450  10269   8400   5300   3800   9800   8520   6050   7085\n",
            "   3180   3410   3000  11410   5720   3540   7600  10700   8150   4410\n",
            "   7686   2800   5948   4200   4520   4095   4120   4770   6300   2970\n",
            "   6720   4646  12900   3420   4995   4350   4160   6040   6862   4815\n",
            "   9166   6321  10240   6440   5170   3630   9667   3745   3880   5680\n",
            "   2870   5010   4510   3840   3640   2550   5320   5360   3520   4990\n",
            "   3510   3450   9860   5885   3162   3750   3968   4900   2880   4920\n",
            "   4950   3900   1905   4075   4032  10360   3400   2175   4360   7770\n",
            "   6650   2787   5040   5850   2610   2953   2747   2325   4079   2145\n",
            "   4840   4080   4046   4632   5985   6060   3600   3680   5600   5900\n",
            "   4992   4340   3460   4050   7260   3290   3816   8080   3780   7152\n",
            "   3850   2015   2176   3350   4820   5830   2856   2520   6930   3480\n",
            "   6020   3584   3120   5640   4280   3570   4130   2850   2275   4240\n",
            "   2135   3036   3990   7424   7350   3512   9500   5880  12944   3060\n",
            "   3185   1950   4785   4960   4750   3720   3100   2700  21450   4775\n",
            "   2500   3792   3930   4370   2684   3986      0   3069   5495   2398\n",
            "   2160   3090   2835   5076   4352   3660   3040   2640   2650   3934\n",
            "   2000   2430   2910   3210   3635   2475   3264   1836   3970   2400\n",
            "   3360   1700   3649   2990   3620]\n",
            "column name:  A2 [  4.   3.   5.  nan   2.   6.  60.   1. 100.]\n",
            "column name:  A3 [ 2.  4.  1.  3. nan -1.]\n",
            "column name:  A4 [ 3.  4.  2.  1. nan]\n",
            "column name:  A5 [ 1.  2. nan]\n",
            "column name:  A6 [2 1]\n",
            "column name:  A7 ['2' '1' 'two']\n",
            "column name:  A8 ['no' 'yes']\n",
            "column name:  A9 [1 2]\n",
            "column name:  A10 [2 3 0 1]\n",
            "column name:  A11 ['yes' 'no']\n",
            "column name:  A12 ['full' 'semi' 'empty' nan]\n",
            "column name:  Target [13300000 12250000 12215000 11410000 10850000 10150000  9870000  9800000\n",
            "  9681000  9310000  9240000  9100000  8960000  8890000  8855000  8750000\n",
            "  8680000  8645000  8575000  8540000  8463000  8400000  8295000  8190000\n",
            "  8120000  8080940  8043000  7980000  7962500  7910000  7875000  7840000\n",
            "  7700000  7560000  7525000  7490000  7455000  7420000  7350000  7343000\n",
            "  7245000  7210000  7140000  7070000  7035000  7000000  6930000  6895000\n",
            "  6860000  6790000  6755000  6720000  6685000  6650000  6629000  6615000\n",
            "  6580000  6510000  6475000  6440000  6419000  6405000  6300000  6293000\n",
            "  6265000  6230000  6195000  6160000  6125000  6107500  6090000  6083000\n",
            "  6020000  5950000  5943000  5880000  5873000  5866000  5810000  5803000\n",
            "  5775000  5740000  5652500  5600000  5565000  5530000  5523000  5495000\n",
            "  5460000  5425000  5390000  5383000  5320000  5285000  5250000  5243000\n",
            "  5229000  5215000  5145000  5110000  5075000  5040000  5033000  5005000\n",
            "  4970000  4956000  4935000  4907000  4900000  4893000  4865000  4830000\n",
            "  4795000  4767000  4760000  4753000  4690000  4655000  4620000  4613000\n",
            "  4585000  4550000  4543000  4515000  4480000  4473000  4445000  4410000\n",
            "  4403000  4382000  4375000  4340000  4319000  4305000  4277000  4270000\n",
            "  4235000  4200000  4193000  4165000  4130000  4123000  4098500  4095000\n",
            "  4060000  4025000  4007500  3990000  3920000  3885000  3850000  3836000\n",
            "  3815000  3780000  3773000  3745000  3710000  3703000  3675000  3640000\n",
            "  3633000  3605000  3570000  3535000  3500000  3493000  3465000  3430000\n",
            "  3423000  3395000  3360000  3353000  3332000  3325000  3290000  3255000\n",
            "  3234000  3220000  3150000  3143000  3129000  3118850  3115000  3087000\n",
            "  3080000  3045000  3010000  3003000  2975000  2961000  2940000  2870000\n",
            "  2852500  2835000  2800000  2730000  2695000  2660000  2653000  2604000\n",
            "  2590000  2520000  2485000  2450000  2408000  2380000  2345000  2310000\n",
            "  2275000  2240000  2233000  2135000  2100000  1960000  1890000  1855000\n",
            "  1820000  1767150  1750000]\n"
          ]
        }
      ]
    },
    {
      "cell_type": "code",
      "metadata": {
        "colab": {
          "base_uri": "https://localhost:8080/"
        },
        "id": "fD1rVqz_bFfC",
        "outputId": "b53753fd-00d0-4efb-f0d3-bd467828427c"
      },
      "source": [
        "df.dtypes"
      ],
      "execution_count": null,
      "outputs": [
        {
          "output_type": "execute_result",
          "data": {
            "text/plain": [
              "A1          int64\n",
              "A2        float64\n",
              "A3        float64\n",
              "A4        float64\n",
              "A5        float64\n",
              "A6          int64\n",
              "A7         object\n",
              "A8         object\n",
              "A9          int64\n",
              "A10         int64\n",
              "A11        object\n",
              "A12        object\n",
              "Target      int64\n",
              "dtype: object"
            ]
          },
          "metadata": {},
          "execution_count": 12
        }
      ]
    },
    {
      "cell_type": "markdown",
      "metadata": {
        "id": "IRdXpirXFOL-"
      },
      "source": [
        "Here, Columns S.no, A1 and Target are continuous all other columns i.e. columns A2 - A12 are all categorical."
      ]
    },
    {
      "cell_type": "code",
      "metadata": {
        "id": "dL60xDIcbkPt"
      },
      "source": [
        ""
      ],
      "execution_count": null,
      "outputs": []
    },
    {
      "cell_type": "markdown",
      "metadata": {
        "id": "QG1jrSsSdvCj"
      },
      "source": [
        "### (c) Make the scatter plot for any two input attributes vs output attribute and write down your inferences hased on the scatterplots "
      ]
    },
    {
      "cell_type": "code",
      "metadata": {
        "colab": {
          "base_uri": "https://localhost:8080/",
          "height": 294
        },
        "id": "c07r75cidxsL",
        "outputId": "a48d2552-50e4-4636-abef-d7f712ed62d2"
      },
      "source": [
        "plt.scatter(df.A1, df.Target)"
      ],
      "execution_count": null,
      "outputs": [
        {
          "output_type": "execute_result",
          "data": {
            "text/plain": [
              "<matplotlib.collections.PathCollection at 0x7f716a589410>"
            ]
          },
          "metadata": {},
          "execution_count": 13
        },
        {
          "output_type": "display_data",
          "data": {
            "image/png": "[encoded data removed]",
            "text/plain": [
              "<Figure size 432x288 with 1 Axes>"
            ]
          },
          "metadata": {
            "needs_background": "light"
          }
        }
      ]
    },
    {
      "cell_type": "markdown",
      "metadata": {
        "id": "oaJkUixgTzY5"
      },
      "source": [
        "Inference: Here one value of A1 that is near 160000 is an outlier."
      ]
    },
    {
      "cell_type": "code",
      "metadata": {
        "colab": {
          "base_uri": "https://localhost:8080/",
          "height": 294
        },
        "id": "nHjCncM5TYZp",
        "outputId": "1b2605ae-039d-468f-990a-5e7775ad8a89"
      },
      "source": [
        "plt.scatter(df.A2, df.Target)"
      ],
      "execution_count": null,
      "outputs": [
        {
          "output_type": "execute_result",
          "data": {
            "text/plain": [
              "<matplotlib.collections.PathCollection at 0x7f716a508d90>"
            ]
          },
          "metadata": {},
          "execution_count": 14
        },
        {
          "output_type": "display_data",
          "data": {
            "image/png": "[encoded data removed]",
            "text/plain": [
              "<Figure size 432x288 with 1 Axes>"
            ]
          },
          "metadata": {
            "needs_background": "light"
          }
        }
      ]
    },
    {
      "cell_type": "markdown",
      "metadata": {
        "id": "CNrIIOcFT5oW"
      },
      "source": [
        "Inference: Here two values of of A2 i.e. 60 and 100 are outliers."
      ]
    },
    {
      "cell_type": "markdown",
      "metadata": {
        "id": "9Zex1H3aeD_M"
      },
      "source": [
        "### (d) Identify the NAN values in each of the input, output the number of NaN values in each of the input attributes"
      ]
    },
    {
      "cell_type": "code",
      "metadata": {
        "colab": {
          "base_uri": "https://localhost:8080/",
          "height": 475
        },
        "id": "m25zrmAreGQ7",
        "outputId": "d265f19b-cc2d-410e-a923-93efc70b67e5"
      },
      "source": [
        "pd.isna(df)"
      ],
      "execution_count": null,
      "outputs": [
        {
          "output_type": "execute_result",
          "data": {
            "text/html": [
              "<div>\n",
              "<style scoped>\n",
              "    .dataframe tbody tr th:only-of-type {\n",
              "        vertical-align: middle;\n",
              "    }\n",
              "\n",
              "    .dataframe tbody tr th {\n",
              "        vertical-align: top;\n",
              "    }\n",
              "\n",
              "    .dataframe thead th {\n",
              "        text-align: right;\n",
              "    }\n",
              "</style>\n",
              "<table border=\"1\" class=\"dataframe\">\n",
              "  <thead>\n",
              "    <tr style=\"text-align: right;\">\n",
              "      <th></th>\n",
              "      <th>A1</th>\n",
              "      <th>A2</th>\n",
              "      <th>A3</th>\n",
              "      <th>A4</th>\n",
              "      <th>A5</th>\n",
              "      <th>A6</th>\n",
              "      <th>A7</th>\n",
              "      <th>A8</th>\n",
              "      <th>A9</th>\n",
              "      <th>A10</th>\n",
              "      <th>A11</th>\n",
              "      <th>A12</th>\n",
              "      <th>Target</th>\n",
              "    </tr>\n",
              "    <tr>\n",
              "      <th>S.no</th>\n",
              "      <th></th>\n",
              "      <th></th>\n",
              "      <th></th>\n",
              "      <th></th>\n",
              "      <th></th>\n",
              "      <th></th>\n",
              "      <th></th>\n",
              "      <th></th>\n",
              "      <th></th>\n",
              "      <th></th>\n",
              "      <th></th>\n",
              "      <th></th>\n",
              "      <th></th>\n",
              "    </tr>\n",
              "  </thead>\n",
              "  <tbody>\n",
              "    <tr>\n",
              "      <th>1</th>\n",
              "      <td>False</td>\n",
              "      <td>False</td>\n",
              "      <td>False</td>\n",
              "      <td>False</td>\n",
              "      <td>False</td>\n",
              "      <td>False</td>\n",
              "      <td>False</td>\n",
              "      <td>False</td>\n",
              "      <td>False</td>\n",
              "      <td>False</td>\n",
              "      <td>False</td>\n",
              "      <td>False</td>\n",
              "      <td>False</td>\n",
              "    </tr>\n",
              "    <tr>\n",
              "      <th>2</th>\n",
              "      <td>False</td>\n",
              "      <td>False</td>\n",
              "      <td>False</td>\n",
              "      <td>False</td>\n",
              "      <td>False</td>\n",
              "      <td>False</td>\n",
              "      <td>False</td>\n",
              "      <td>False</td>\n",
              "      <td>False</td>\n",
              "      <td>False</td>\n",
              "      <td>False</td>\n",
              "      <td>False</td>\n",
              "      <td>False</td>\n",
              "    </tr>\n",
              "    <tr>\n",
              "      <th>3</th>\n",
              "      <td>False</td>\n",
              "      <td>False</td>\n",
              "      <td>False</td>\n",
              "      <td>False</td>\n",
              "      <td>False</td>\n",
              "      <td>False</td>\n",
              "      <td>False</td>\n",
              "      <td>False</td>\n",
              "      <td>False</td>\n",
              "      <td>False</td>\n",
              "      <td>False</td>\n",
              "      <td>False</td>\n",
              "      <td>False</td>\n",
              "    </tr>\n",
              "    <tr>\n",
              "      <th>4</th>\n",
              "      <td>False</td>\n",
              "      <td>False</td>\n",
              "      <td>False</td>\n",
              "      <td>False</td>\n",
              "      <td>False</td>\n",
              "      <td>False</td>\n",
              "      <td>False</td>\n",
              "      <td>False</td>\n",
              "      <td>False</td>\n",
              "      <td>False</td>\n",
              "      <td>False</td>\n",
              "      <td>False</td>\n",
              "      <td>False</td>\n",
              "    </tr>\n",
              "    <tr>\n",
              "      <th>5</th>\n",
              "      <td>False</td>\n",
              "      <td>False</td>\n",
              "      <td>False</td>\n",
              "      <td>False</td>\n",
              "      <td>False</td>\n",
              "      <td>False</td>\n",
              "      <td>False</td>\n",
              "      <td>False</td>\n",
              "      <td>False</td>\n",
              "      <td>False</td>\n",
              "      <td>False</td>\n",
              "      <td>False</td>\n",
              "      <td>False</td>\n",
              "    </tr>\n",
              "    <tr>\n",
              "      <th>...</th>\n",
              "      <td>...</td>\n",
              "      <td>...</td>\n",
              "      <td>...</td>\n",
              "      <td>...</td>\n",
              "      <td>...</td>\n",
              "      <td>...</td>\n",
              "      <td>...</td>\n",
              "      <td>...</td>\n",
              "      <td>...</td>\n",
              "      <td>...</td>\n",
              "      <td>...</td>\n",
              "      <td>...</td>\n",
              "      <td>...</td>\n",
              "    </tr>\n",
              "    <tr>\n",
              "      <th>596</th>\n",
              "      <td>False</td>\n",
              "      <td>False</td>\n",
              "      <td>False</td>\n",
              "      <td>False</td>\n",
              "      <td>False</td>\n",
              "      <td>False</td>\n",
              "      <td>False</td>\n",
              "      <td>False</td>\n",
              "      <td>False</td>\n",
              "      <td>False</td>\n",
              "      <td>False</td>\n",
              "      <td>False</td>\n",
              "      <td>False</td>\n",
              "    </tr>\n",
              "    <tr>\n",
              "      <th>597</th>\n",
              "      <td>False</td>\n",
              "      <td>False</td>\n",
              "      <td>False</td>\n",
              "      <td>False</td>\n",
              "      <td>False</td>\n",
              "      <td>False</td>\n",
              "      <td>False</td>\n",
              "      <td>False</td>\n",
              "      <td>False</td>\n",
              "      <td>False</td>\n",
              "      <td>False</td>\n",
              "      <td>False</td>\n",
              "      <td>False</td>\n",
              "    </tr>\n",
              "    <tr>\n",
              "      <th>598</th>\n",
              "      <td>False</td>\n",
              "      <td>False</td>\n",
              "      <td>False</td>\n",
              "      <td>False</td>\n",
              "      <td>False</td>\n",
              "      <td>False</td>\n",
              "      <td>False</td>\n",
              "      <td>False</td>\n",
              "      <td>False</td>\n",
              "      <td>False</td>\n",
              "      <td>False</td>\n",
              "      <td>False</td>\n",
              "      <td>False</td>\n",
              "    </tr>\n",
              "    <tr>\n",
              "      <th>599</th>\n",
              "      <td>False</td>\n",
              "      <td>False</td>\n",
              "      <td>False</td>\n",
              "      <td>False</td>\n",
              "      <td>False</td>\n",
              "      <td>False</td>\n",
              "      <td>False</td>\n",
              "      <td>False</td>\n",
              "      <td>False</td>\n",
              "      <td>False</td>\n",
              "      <td>False</td>\n",
              "      <td>False</td>\n",
              "      <td>False</td>\n",
              "    </tr>\n",
              "    <tr>\n",
              "      <th>600</th>\n",
              "      <td>False</td>\n",
              "      <td>False</td>\n",
              "      <td>False</td>\n",
              "      <td>False</td>\n",
              "      <td>False</td>\n",
              "      <td>False</td>\n",
              "      <td>False</td>\n",
              "      <td>False</td>\n",
              "      <td>False</td>\n",
              "      <td>False</td>\n",
              "      <td>False</td>\n",
              "      <td>False</td>\n",
              "      <td>False</td>\n",
              "    </tr>\n",
              "  </tbody>\n",
              "</table>\n",
              "<p>600 rows × 13 columns</p>\n",
              "</div>"
            ],
            "text/plain": [
              "         A1     A2     A3     A4     A5  ...     A9    A10    A11    A12  Target\n",
              "S.no                                     ...                                    \n",
              "1     False  False  False  False  False  ...  False  False  False  False   False\n",
              "2     False  False  False  False  False  ...  False  False  False  False   False\n",
              "3     False  False  False  False  False  ...  False  False  False  False   False\n",
              "4     False  False  False  False  False  ...  False  False  False  False   False\n",
              "5     False  False  False  False  False  ...  False  False  False  False   False\n",
              "...     ...    ...    ...    ...    ...  ...    ...    ...    ...    ...     ...\n",
              "596   False  False  False  False  False  ...  False  False  False  False   False\n",
              "597   False  False  False  False  False  ...  False  False  False  False   False\n",
              "598   False  False  False  False  False  ...  False  False  False  False   False\n",
              "599   False  False  False  False  False  ...  False  False  False  False   False\n",
              "600   False  False  False  False  False  ...  False  False  False  False   False\n",
              "\n",
              "[600 rows x 13 columns]"
            ]
          },
          "metadata": {},
          "execution_count": 15
        }
      ]
    },
    {
      "cell_type": "code",
      "metadata": {
        "colab": {
          "base_uri": "https://localhost:8080/"
        },
        "id": "X5bdLpciIXcX",
        "outputId": "eaf926d6-699c-43f9-c3c4-26c42262aef4"
      },
      "source": [
        "pd.isna(df).sum()"
      ],
      "execution_count": null,
      "outputs": [
        {
          "output_type": "execute_result",
          "data": {
            "text/plain": [
              "A1        0\n",
              "A2        4\n",
              "A3        2\n",
              "A4        2\n",
              "A5        2\n",
              "A6        0\n",
              "A7        0\n",
              "A8        0\n",
              "A9        0\n",
              "A10       0\n",
              "A11       0\n",
              "A12       3\n",
              "Target    0\n",
              "dtype: int64"
            ]
          },
          "metadata": {},
          "execution_count": 16
        }
      ]
    },
    {
      "cell_type": "markdown",
      "metadata": {
        "id": "yy_t1K_hIcG3"
      },
      "source": [
        "Inference: The values which were nan were ?, ??, ???, \" \", -, and were converted to nan values while reading the csv file"
      ]
    },
    {
      "cell_type": "markdown",
      "metadata": {
        "id": "HErfpDUtfABL"
      },
      "source": [
        "### (e) Do the imputations be replacing all the NaN values in an attribute with the mean of all the values of that attribute or mode of all the values of that attribute. "
      ]
    },
    {
      "cell_type": "code",
      "metadata": {
        "id": "Bncs6p4RJKb_"
      },
      "source": [
        "def meanchange(df, name):\n",
        "  mean_imputer = SimpleImputer(missing_values=np.nan, strategy='mean')\n",
        "  df[name] = mean_imputer.fit_transform(df[name].values.reshape(-1,1))[:,0]\n",
        "  return df\n",
        "def modechange(df, name):\n",
        "  mode_imputer = SimpleImputer(missing_values=np.nan, strategy='most_frequent')\n",
        "  df[name] = mode_imputer.fit_transform(df[name].values.reshape(-1,1))[:,0]\n",
        "  return df"
      ],
      "execution_count": null,
      "outputs": []
    },
    {
      "cell_type": "code",
      "metadata": {
        "id": "i1xtukJMIrkk"
      },
      "source": [
        "names = ['A2', 'A3', 'A4', 'A5', 'A12']\n",
        "for name in names:\n",
        "  df = modechange(df, name)"
      ],
      "execution_count": null,
      "outputs": []
    },
    {
      "cell_type": "code",
      "metadata": {
        "colab": {
          "base_uri": "https://localhost:8080/"
        },
        "id": "izNcieopJ9Rj",
        "outputId": "354fcbed-2ba1-4182-970e-29eb2f141f8b"
      },
      "source": [
        "pd.isna(df).sum()"
      ],
      "execution_count": null,
      "outputs": [
        {
          "output_type": "execute_result",
          "data": {
            "text/plain": [
              "A1        0\n",
              "A2        0\n",
              "A3        0\n",
              "A4        0\n",
              "A5        0\n",
              "A6        0\n",
              "A7        0\n",
              "A8        0\n",
              "A9        0\n",
              "A10       0\n",
              "A11       0\n",
              "A12       0\n",
              "Target    0\n",
              "dtype: int64"
            ]
          },
          "metadata": {},
          "execution_count": 19
        }
      ]
    },
    {
      "cell_type": "markdown",
      "metadata": {
        "id": "sHHapXucgrKf"
      },
      "source": [
        "### (f) Identify the outliers in each of the attribute and replace the outlares wing the capping process"
      ]
    },
    {
      "cell_type": "code",
      "metadata": {
        "id": "5WMclwmHYb03"
      },
      "source": [
        "def remove_outlier(df, cname):\n",
        "    Q1 = df[cname].quantile(0.25)\n",
        "    Q3 = df[cname].quantile(0.75)\n",
        "    iqr = Q3-Q1\n",
        "    upper_limit = Q3 + 1.5 * iqr\n",
        "    lower_limit = Q1 - 1.5 * iqr\n",
        "    df[cname]=np.where(\n",
        "        df[cname]>upper_limit,\n",
        "        upper_limit,\n",
        "        np.where(\n",
        "            df[cname]<lower_limit,\n",
        "            lower_limit,\n",
        "            df[cname]\n",
        "        )\n",
        "    )\n",
        "    print(df[cname].skew())\n",
        "    return df"
      ],
      "execution_count": null,
      "outputs": []
    },
    {
      "cell_type": "code",
      "metadata": {
        "colab": {
          "base_uri": "https://localhost:8080/"
        },
        "id": "tzNdAoHrZv17",
        "outputId": "d6a1df43-3042-4358-dc97-99a8022ee247"
      },
      "source": [
        "df.columns"
      ],
      "execution_count": null,
      "outputs": [
        {
          "output_type": "execute_result",
          "data": {
            "text/plain": [
              "Index(['A1', 'A2', 'A3', 'A4', 'A5', 'A6', 'A7', 'A8', 'A9', 'A10', 'A11',\n",
              "       'A12', 'Target'],\n",
              "      dtype='object')"
            ]
          },
          "metadata": {},
          "execution_count": 21
        }
      ]
    },
    {
      "cell_type": "code",
      "metadata": {
        "colab": {
          "base_uri": "https://localhost:8080/"
        },
        "id": "HleStZPeZRWn",
        "outputId": "217f90e0-d7d2-44fc-ca98-67060ddb67e3"
      },
      "source": [
        "colummns = ['A1', 'Target']\n",
        "for columns in colummns:\n",
        "  df = remove_outlier(df, columns)"
      ],
      "execution_count": null,
      "outputs": [
        {
          "output_type": "stream",
          "name": "stdout",
          "text": [
            "0.7869643682416831\n",
            "0.8590869778786708\n"
          ]
        }
      ]
    },
    {
      "cell_type": "code",
      "metadata": {
        "colab": {
          "base_uri": "https://localhost:8080/"
        },
        "id": "uCSO9rP0MOdu",
        "outputId": "07a4e150-632a-46c0-ec34-7204d3f9f5e5"
      },
      "source": [
        "for column in df.columns:\n",
        "  uprint(df, column)"
      ],
      "execution_count": null,
      "outputs": [
        {
          "output_type": "stream",
          "name": "stdout",
          "text": [
            "column name:  A1 [ 7420.  8960.  9960.  7500.  8580. 10650.  8100.  5750.  6000.  6550.\n",
            "  3500.  7800.  6600.  8500.  4600.  6420.  4320.  7155.  8050.  4560.\n",
            "  8800.  6540.  8875.  7950.  5500.  7475.  7000.  4880.  5960.  6840.\n",
            "  7482.  9000.  6360.  6480.  4300.  7440.  6325.  5150.  7680.  8880.\n",
            "  6240.  7700.  4000.  5020.  4040.  4260.  6500.  5700. 10500.  3760.\n",
            "  8250.  6670.  3960.  7410.  5000.  6750.  4800.  7200.  4100.  6400.\n",
            "  6350.  4500.  5450.  3240.  6615.  8372.  9620.  6800.  8000.  6900.\n",
            "  3700.  7020.  7231.  6254.  7320.  6525.  7160.  5828.  5200.  5400.\n",
            "  4640.  5800.  6660.  4700.  5136.  4400.  3300.  3650.  6100.  2817.\n",
            "  7980.  3150.  6210.  6825.  6710.  6450. 10269.  8400.  5300.  3800.\n",
            "  9800.  8520.  6050.  7085.  3180.  3410.  3000.  5720.  3540.  7600.\n",
            "  8150.  4410.  7686.  2800.  5948.  4200.  4520.  4095.  4120.  4770.\n",
            "  6300.  2970.  6720.  4646.  3420.  4995.  4350.  4160.  6040.  6862.\n",
            "  4815.  9166.  6321. 10240.  6440.  5170.  3630.  9667.  3745.  3880.\n",
            "  5680.  2870.  5010.  4510.  3840.  3640.  2550.  5320.  5360.  3520.\n",
            "  4990.  3510.  3450.  9860.  5885.  3162.  3750.  3968.  4900.  2880.\n",
            "  4920.  4950.  3900.  1905.  4075.  4032. 10360.  3400.  2175.  4360.\n",
            "  7770.  6650.  2787.  5040.  5850.  2610.  2953.  2747.  2325.  4079.\n",
            "  2145.  4840.  4080.  4046.  4632.  5985.  6060.  3600.  3680.  5600.\n",
            "  5900.  4992.  4340.  3460.  4050.  7260.  3290.  3816.  8080.  3780.\n",
            "  7152.  3850.  2015.  2176.  3350.  4820.  5830.  2856.  2520.  6930.\n",
            "  3480.  6020.  3584.  3120.  5640.  4280.  3570.  4130.  2850.  2275.\n",
            "  4240.  2135.  3036.  3990.  7424.  7350.  3512.  9500.  5880.  3060.\n",
            "  3185.  1950.  4785.  4960.  4750.  3720.  3100.  2700.  4775.  2500.\n",
            "  3792.  3930.  4370.  2684.  3986.     0.  3069.  5495.  2398.  2160.\n",
            "  3090.  2835.  5076.  4352.  3660.  3040.  2640.  2650.  3934.  2000.\n",
            "  2430.  2910.  3210.  3635.  2475.  3264.  1836.  3970.  2400.  3360.\n",
            "  1700.  3649.  2990.  3620.]\n",
            "column name:  A2 [  4.   3.   5.   2.   6.  60.   1. 100.]\n",
            "column name:  A3 [ 2.  4.  1.  3. -1.]\n",
            "column name:  A4 [3. 4. 2. 1.]\n",
            "column name:  A5 [1. 2.]\n",
            "column name:  A6 [2 1]\n",
            "column name:  A7 ['2' '1' 'two']\n",
            "column name:  A8 ['no' 'yes']\n",
            "column name:  A9 [1 2]\n",
            "column name:  A10 [2 3 0 1]\n",
            "column name:  A11 ['yes' 'no']\n",
            "column name:  A12 ['full' 'semi' 'empty']\n",
            "column name:  Target [9664375. 9310000. 9240000. 9100000. 8960000. 8890000. 8855000. 8750000.\n",
            " 8680000. 8645000. 8575000. 8540000. 8463000. 8400000. 8295000. 8190000.\n",
            " 8120000. 8080940. 8043000. 7980000. 7962500. 7910000. 7875000. 7840000.\n",
            " 7700000. 7560000. 7525000. 7490000. 7455000. 7420000. 7350000. 7343000.\n",
            " 7245000. 7210000. 7140000. 7070000. 7035000. 7000000. 6930000. 6895000.\n",
            " 6860000. 6790000. 6755000. 6720000. 6685000. 6650000. 6629000. 6615000.\n",
            " 6580000. 6510000. 6475000. 6440000. 6419000. 6405000. 6300000. 6293000.\n",
            " 6265000. 6230000. 6195000. 6160000. 6125000. 6107500. 6090000. 6083000.\n",
            " 6020000. 5950000. 5943000. 5880000. 5873000. 5866000. 5810000. 5803000.\n",
            " 5775000. 5740000. 5652500. 5600000. 5565000. 5530000. 5523000. 5495000.\n",
            " 5460000. 5425000. 5390000. 5383000. 5320000. 5285000. 5250000. 5243000.\n",
            " 5229000. 5215000. 5145000. 5110000. 5075000. 5040000. 5033000. 5005000.\n",
            " 4970000. 4956000. 4935000. 4907000. 4900000. 4893000. 4865000. 4830000.\n",
            " 4795000. 4767000. 4760000. 4753000. 4690000. 4655000. 4620000. 4613000.\n",
            " 4585000. 4550000. 4543000. 4515000. 4480000. 4473000. 4445000. 4410000.\n",
            " 4403000. 4382000. 4375000. 4340000. 4319000. 4305000. 4277000. 4270000.\n",
            " 4235000. 4200000. 4193000. 4165000. 4130000. 4123000. 4098500. 4095000.\n",
            " 4060000. 4025000. 4007500. 3990000. 3920000. 3885000. 3850000. 3836000.\n",
            " 3815000. 3780000. 3773000. 3745000. 3710000. 3703000. 3675000. 3640000.\n",
            " 3633000. 3605000. 3570000. 3535000. 3500000. 3493000. 3465000. 3430000.\n",
            " 3423000. 3395000. 3360000. 3353000. 3332000. 3325000. 3290000. 3255000.\n",
            " 3234000. 3220000. 3150000. 3143000. 3129000. 3118850. 3115000. 3087000.\n",
            " 3080000. 3045000. 3010000. 3003000. 2975000. 2961000. 2940000. 2870000.\n",
            " 2852500. 2835000. 2800000. 2730000. 2695000. 2660000. 2653000. 2604000.\n",
            " 2590000. 2520000. 2485000. 2450000. 2408000. 2380000. 2345000. 2310000.\n",
            " 2275000. 2240000. 2233000. 2135000. 2100000. 1960000. 1890000. 1855000.\n",
            " 1820000. 1767150. 1750000.]\n"
          ]
        }
      ]
    },
    {
      "cell_type": "markdown",
      "metadata": {
        "id": "McYZG9YAiSo6"
      },
      "source": [
        "### (g) Identify the attributes which have ordinal values and encode them appropriately."
      ]
    },
    {
      "cell_type": "code",
      "metadata": {
        "id": "sEe1epYNb1GJ"
      },
      "source": [
        "def LEncoder(df, cname):\n",
        "  le_encoder = LabelEncoder()\n",
        "  le_encoder.fit(df[cname].drop_duplicates())\n",
        "  df[cname] = le_encoder.transform(df[cname])\n",
        "  return df"
      ],
      "execution_count": null,
      "outputs": []
    },
    {
      "cell_type": "code",
      "metadata": {
        "id": "PYHiVU94M2tf"
      },
      "source": [
        "df.loc[df.A7 == 'two', 'A7'] = 2"
      ],
      "execution_count": null,
      "outputs": []
    },
    {
      "cell_type": "code",
      "metadata": {
        "colab": {
          "base_uri": "https://localhost:8080/"
        },
        "id": "5BLTWYFLNPo8",
        "outputId": "1898b494-8791-4cee-9bbf-cd43923f0ac2"
      },
      "source": [
        "df.A7.unique()"
      ],
      "execution_count": null,
      "outputs": [
        {
          "output_type": "execute_result",
          "data": {
            "text/plain": [
              "array(['2', '1', 2], dtype=object)"
            ]
          },
          "metadata": {},
          "execution_count": 26
        }
      ]
    },
    {
      "cell_type": "code",
      "metadata": {
        "id": "ZSka7AFOiSNP"
      },
      "source": [
        "columns = ['A2','A8','A11','A12']\n",
        "for column in columns:\n",
        "  df = LEncoder(df, column)"
      ],
      "execution_count": null,
      "outputs": []
    },
    {
      "cell_type": "code",
      "metadata": {
        "id": "hnfS_tojNlum"
      },
      "source": [
        "df.A7 = df.A7.astype(int)"
      ],
      "execution_count": null,
      "outputs": []
    },
    {
      "cell_type": "code",
      "metadata": {
        "colab": {
          "base_uri": "https://localhost:8080/"
        },
        "id": "vLKSj2GyN83O",
        "outputId": "3e20a7ba-4da4-41f8-ccbd-5ee2b388a16f"
      },
      "source": [
        "for column in df.columns:\n",
        "  uprint(df, column)"
      ],
      "execution_count": null,
      "outputs": [
        {
          "output_type": "stream",
          "name": "stdout",
          "text": [
            "column name:  A1 [ 7420.  8960.  9960.  7500.  8580. 10650.  8100.  5750.  6000.  6550.\n",
            "  3500.  7800.  6600.  8500.  4600.  6420.  4320.  7155.  8050.  4560.\n",
            "  8800.  6540.  8875.  7950.  5500.  7475.  7000.  4880.  5960.  6840.\n",
            "  7482.  9000.  6360.  6480.  4300.  7440.  6325.  5150.  7680.  8880.\n",
            "  6240.  7700.  4000.  5020.  4040.  4260.  6500.  5700. 10500.  3760.\n",
            "  8250.  6670.  3960.  7410.  5000.  6750.  4800.  7200.  4100.  6400.\n",
            "  6350.  4500.  5450.  3240.  6615.  8372.  9620.  6800.  8000.  6900.\n",
            "  3700.  7020.  7231.  6254.  7320.  6525.  7160.  5828.  5200.  5400.\n",
            "  4640.  5800.  6660.  4700.  5136.  4400.  3300.  3650.  6100.  2817.\n",
            "  7980.  3150.  6210.  6825.  6710.  6450. 10269.  8400.  5300.  3800.\n",
            "  9800.  8520.  6050.  7085.  3180.  3410.  3000.  5720.  3540.  7600.\n",
            "  8150.  4410.  7686.  2800.  5948.  4200.  4520.  4095.  4120.  4770.\n",
            "  6300.  2970.  6720.  4646.  3420.  4995.  4350.  4160.  6040.  6862.\n",
            "  4815.  9166.  6321. 10240.  6440.  5170.  3630.  9667.  3745.  3880.\n",
            "  5680.  2870.  5010.  4510.  3840.  3640.  2550.  5320.  5360.  3520.\n",
            "  4990.  3510.  3450.  9860.  5885.  3162.  3750.  3968.  4900.  2880.\n",
            "  4920.  4950.  3900.  1905.  4075.  4032. 10360.  3400.  2175.  4360.\n",
            "  7770.  6650.  2787.  5040.  5850.  2610.  2953.  2747.  2325.  4079.\n",
            "  2145.  4840.  4080.  4046.  4632.  5985.  6060.  3600.  3680.  5600.\n",
            "  5900.  4992.  4340.  3460.  4050.  7260.  3290.  3816.  8080.  3780.\n",
            "  7152.  3850.  2015.  2176.  3350.  4820.  5830.  2856.  2520.  6930.\n",
            "  3480.  6020.  3584.  3120.  5640.  4280.  3570.  4130.  2850.  2275.\n",
            "  4240.  2135.  3036.  3990.  7424.  7350.  3512.  9500.  5880.  3060.\n",
            "  3185.  1950.  4785.  4960.  4750.  3720.  3100.  2700.  4775.  2500.\n",
            "  3792.  3930.  4370.  2684.  3986.     0.  3069.  5495.  2398.  2160.\n",
            "  3090.  2835.  5076.  4352.  3660.  3040.  2640.  2650.  3934.  2000.\n",
            "  2430.  2910.  3210.  3635.  2475.  3264.  1836.  3970.  2400.  3360.\n",
            "  1700.  3649.  2990.  3620.]\n",
            "column name:  A2 [3 2 4 1 5 6 0 7]\n",
            "column name:  A3 [ 2.  4.  1.  3. -1.]\n",
            "column name:  A4 [3. 4. 2. 1.]\n",
            "column name:  A5 [1. 2.]\n",
            "column name:  A6 [2 1]\n",
            "column name:  A7 [2 1]\n",
            "column name:  A8 [0 1]\n",
            "column name:  A9 [1 2]\n",
            "column name:  A10 [2 3 0 1]\n",
            "column name:  A11 [1 0]\n",
            "column name:  A12 [1 2 0]\n",
            "column name:  Target [9664375. 9310000. 9240000. 9100000. 8960000. 8890000. 8855000. 8750000.\n",
            " 8680000. 8645000. 8575000. 8540000. 8463000. 8400000. 8295000. 8190000.\n",
            " 8120000. 8080940. 8043000. 7980000. 7962500. 7910000. 7875000. 7840000.\n",
            " 7700000. 7560000. 7525000. 7490000. 7455000. 7420000. 7350000. 7343000.\n",
            " 7245000. 7210000. 7140000. 7070000. 7035000. 7000000. 6930000. 6895000.\n",
            " 6860000. 6790000. 6755000. 6720000. 6685000. 6650000. 6629000. 6615000.\n",
            " 6580000. 6510000. 6475000. 6440000. 6419000. 6405000. 6300000. 6293000.\n",
            " 6265000. 6230000. 6195000. 6160000. 6125000. 6107500. 6090000. 6083000.\n",
            " 6020000. 5950000. 5943000. 5880000. 5873000. 5866000. 5810000. 5803000.\n",
            " 5775000. 5740000. 5652500. 5600000. 5565000. 5530000. 5523000. 5495000.\n",
            " 5460000. 5425000. 5390000. 5383000. 5320000. 5285000. 5250000. 5243000.\n",
            " 5229000. 5215000. 5145000. 5110000. 5075000. 5040000. 5033000. 5005000.\n",
            " 4970000. 4956000. 4935000. 4907000. 4900000. 4893000. 4865000. 4830000.\n",
            " 4795000. 4767000. 4760000. 4753000. 4690000. 4655000. 4620000. 4613000.\n",
            " 4585000. 4550000. 4543000. 4515000. 4480000. 4473000. 4445000. 4410000.\n",
            " 4403000. 4382000. 4375000. 4340000. 4319000. 4305000. 4277000. 4270000.\n",
            " 4235000. 4200000. 4193000. 4165000. 4130000. 4123000. 4098500. 4095000.\n",
            " 4060000. 4025000. 4007500. 3990000. 3920000. 3885000. 3850000. 3836000.\n",
            " 3815000. 3780000. 3773000. 3745000. 3710000. 3703000. 3675000. 3640000.\n",
            " 3633000. 3605000. 3570000. 3535000. 3500000. 3493000. 3465000. 3430000.\n",
            " 3423000. 3395000. 3360000. 3353000. 3332000. 3325000. 3290000. 3255000.\n",
            " 3234000. 3220000. 3150000. 3143000. 3129000. 3118850. 3115000. 3087000.\n",
            " 3080000. 3045000. 3010000. 3003000. 2975000. 2961000. 2940000. 2870000.\n",
            " 2852500. 2835000. 2800000. 2730000. 2695000. 2660000. 2653000. 2604000.\n",
            " 2590000. 2520000. 2485000. 2450000. 2408000. 2380000. 2345000. 2310000.\n",
            " 2275000. 2240000. 2233000. 2135000. 2100000. 1960000. 1890000. 1855000.\n",
            " 1820000. 1767150. 1750000.]\n"
          ]
        }
      ]
    },
    {
      "cell_type": "markdown",
      "metadata": {
        "id": "lvmBThnTMyab"
      },
      "source": [
        "A7 has 'two' changing it"
      ]
    },
    {
      "cell_type": "markdown",
      "metadata": {
        "id": "MW64Gb6ekE8V"
      },
      "source": [
        "## 2. Training the models"
      ]
    },
    {
      "cell_type": "code",
      "metadata": {
        "id": "90kEH4lqfqlR"
      },
      "source": [
        "class sgd_regressor:\n",
        "\n",
        "  def __init__(self,X):    \n",
        "    self.W = np.random.randn(X.shape[1],1)    \n",
        "    \n",
        "\n",
        "  def fit(self,X, y, learning_rate=0.1, numEpochs=2000):\n",
        "    num_of_samples = len(X)\n",
        "    xbShuffled, yShuffled = shuffle(X, y)\n",
        "    for epoch in range(numEpochs):\n",
        "      \n",
        "      for i in range(num_of_samples):        \n",
        "        X = xbShuffled[i:i+1]\n",
        "        yi = yShuffled[i:i+1]\n",
        "        \n",
        "        delta = X.T.dot(X.dot(self.W)-yi.reshape(-1,1))\n",
        "                \n",
        "        self.W = self.W - learning_rate * delta\n",
        "      learning_rate = learning_rate/1.02\n",
        "    return self.W\n",
        "    \n",
        "  def predict(self,X,W):\n",
        "    return X.dot(W)\n",
        "\n",
        "  def measure(self,y_predict,y_actual):\n",
        "    return np.sqrt(mean_squared_error(y_predict, y_actual))"
      ],
      "execution_count": null,
      "outputs": []
    },
    {
      "cell_type": "code",
      "metadata": {
        "id": "gT2NYM_Bmdui"
      },
      "source": [
        "def StoicGradientfunc(D, col, target, pre_arr):\n",
        "  X_traind, X_testd, y_traind, y_testd = train_test_split(np.asarray(D[col]),D[target], test_size=0.25, random_state=4)\n",
        "  \n",
        "  scaler = MinMaxScaler(feature_range=(0,1))\n",
        "  X_train = scaler.fit_transform(X_traind)\n",
        "  X_test = scaler.transform(X_testd)\n",
        "  \n",
        "  X_train_b = np.asarray(X_train)\n",
        "  Y_train = np.asarray(y_traind)\n",
        "  X_test_b = np.asarray(X_test)\n",
        "  sgd = sgd_regressor(X_train_b)\n",
        "  \n",
        "  w = sgd.fit(X_train_b,Y_train)\n",
        "  predicted_train =sgd.predict(X_train_b,w)\n",
        "  rmse_train = sgd.measure(predicted_train,Y_train)\n",
        "  predicted_test =sgd.predict(X_test_b,w)\n",
        "  predict = sgd.predict(pre_arr, w)\n",
        "  rmse_test = sgd.measure(predicted_test,y_testd)\n",
        "  return(rmse_train, rmse_test, predict)"
      ],
      "execution_count": null,
      "outputs": []
    },
    {
      "cell_type": "markdown",
      "metadata": {
        "id": "MZN3xQQrkctB"
      },
      "source": [
        "### (a) With 75% of the dataset. Train a multiple lanear regression model with a polynomial of degree 1 (with all the terms) by considering all the input features of the dataset and recite the following experiments El, E2, E3\n"
      ]
    },
    {
      "cell_type": "code",
      "metadata": {
        "id": "jW9A8FQPPmjS"
      },
      "source": [
        "predict_arr = pd.DataFrame([[3452,3,2,3,1,2,0,1,1,0,0,2],\n",
        "                            [1343,2,4,4,2,2,0,1,1,0,0,2],\n",
        "                            [5623,1,1,2,3,2,0,1,1,0,0,2],\n",
        "                            [6321,7,3,1,2,0,1,1,0,0,2,3],\n",
        "                            [8341,3,1,1,2,0,1,1,0,0,2,1],\n",
        "                            [7321,5,3,2,2,0,1,1,0,0,2,1],\n",
        "                            [9531,3,4,3,2,0,1,1,0,0,2,1],\n",
        "                            [3563,6,2,4,2,0,1,1,0,0,2,1],\n",
        "                            [1234,2,1,1,2,0,1,1,0,0,2,3],\n",
        "                            [5321,5,1,2,1,0,1,1,0,0,2,1]])"
      ],
      "execution_count": null,
      "outputs": []
    },
    {
      "cell_type": "code",
      "metadata": {
        "colab": {
          "base_uri": "https://localhost:8080/"
        },
        "id": "WsJvdNVVfNj6",
        "outputId": "dd705196-c9a5-41f7-d1ed-b4f599b798d2"
      },
      "source": [
        "df.columns"
      ],
      "execution_count": null,
      "outputs": [
        {
          "output_type": "execute_result",
          "data": {
            "text/plain": [
              "Index(['A1', 'A2', 'A3', 'A4', 'A5', 'A6', 'A7', 'A8', 'A9', 'A10', 'A11',\n",
              "       'A12', 'Target'],\n",
              "      dtype='object')"
            ]
          },
          "metadata": {},
          "execution_count": 33
        }
      ]
    },
    {
      "cell_type": "code",
      "metadata": {
        "colab": {
          "base_uri": "https://localhost:8080/"
        },
        "id": "jeiVm4Rgkevp",
        "outputId": "3f30d4fd-4f87-41ef-99eb-9b1eb026190f"
      },
      "source": [
        "col = ['A1', 'A2', 'A3', 'A4', 'A5', 'A6', 'A7', 'A8', 'A9', 'A10', 'A11', 'A12',]\n",
        "kd, ld, E1 = StoicGradientfunc(df, col, 'Target' , predict_arr)\n",
        "print('Training Mean Absolute Error', kd)\n",
        "print('Test Mean Absolute Error', ld)\n",
        "print('Predicted value is: \\n', E1)"
      ],
      "execution_count": null,
      "outputs": [
        {
          "output_type": "stream",
          "name": "stdout",
          "text": [
            "Training Mean Absolute Error 1010340.8238909416\n",
            "Test Mean Absolute Error 1176203.9180383815\n",
            "Predicted value is: \n",
            "               0\n",
            "0  1.133057e+10\n",
            "1  4.431896e+09\n",
            "2  1.843566e+10\n",
            "3  2.074111e+10\n",
            "4  2.734503e+10\n",
            "5  2.401719e+10\n",
            "6  3.126518e+10\n",
            "7  1.169978e+10\n",
            "8  4.056046e+09\n",
            "9  1.745159e+10\n"
          ]
        }
      ]
    },
    {
      "cell_type": "markdown",
      "metadata": {
        "id": "rx54iL-jsI3c"
      },
      "source": [
        "### (b) Batch Gradient Descent"
      ]
    },
    {
      "cell_type": "code",
      "metadata": {
        "id": "uLWEkpeBkLjU"
      },
      "source": [
        "class batch_regressor:\n",
        "\n",
        "  def __init__(self,X):    \n",
        "    self.W = np.random.randn(X.shape[1],1)    \n",
        "    \n",
        "\n",
        "  def fit(self,X, y, learning_rate=0.1, numEpochs=2000):\n",
        "    num_of_samples = len(X)    \n",
        "    for epoch in range(numEpochs):      \n",
        "      X, y = shuffle(X, y)\n",
        "      delta = (X.T.dot(X.dot(self.W)-y.reshape(-1,1))/num_of_samples)        \n",
        "      self.W = self.W - learning_rate * delta\n",
        "      learning_rate = learning_rate/1.02\n",
        "    \n",
        "    return self.W\n",
        "    \n",
        "  def predict(self,X,W):\n",
        "    return X.dot(W)\n",
        "\n",
        "  def measure(self,y_predict,y_actual):\n",
        "    return np.sqrt(mean_squared_error(y_predict, y_actual))"
      ],
      "execution_count": null,
      "outputs": []
    },
    {
      "cell_type": "code",
      "metadata": {
        "id": "r5_1FdLusHiE"
      },
      "source": [
        "def batch_gradient(D, col, target, pre_arr):\n",
        "  X_traind, X_testd, y_traind, y_testd = train_test_split(np.asarray(D[col]),D[target], test_size=0.25, random_state=4)\n",
        "  \n",
        "  scaler = MinMaxScaler(feature_range=(0,1))\n",
        "  X_train = scaler.fit_transform(X_traind)\n",
        "  X_test = scaler.transform(X_testd)\n",
        "  \n",
        "  X_train_b = np.asarray(X_train)\n",
        "  Y_train = np.asarray(y_traind)\n",
        "  X_test_b = np.asarray(X_test)\n",
        "  bgd = batch_regressor(X_train_b)\n",
        "  \n",
        "  w = bgd.fit(X_train_b,Y_train)\n",
        "  predicted_train =bgd.predict(X_train_b,w)\n",
        "  rmse_train = bgd.measure(predicted_train,Y_train)\n",
        "  predicted_test =bgd.predict(X_test_b,w)\n",
        "  rmse_test = bgd.measure(predicted_test,y_testd)\n",
        "  print('SDE train Error', rmse_train)\n",
        "  print('SDE test Error', rmse_test)\n",
        "  per = (rmse_train+rmse_test)/2\n",
        "  print('Performane', per)\n",
        "  print('Prediction: \\n',bgd.predict(pre_arr,w))\n",
        "  print('\\n')\n",
        "  return(bgd.predict(pre_arr,w))"
      ],
      "execution_count": null,
      "outputs": []
    },
    {
      "cell_type": "code",
      "metadata": {
        "colab": {
          "base_uri": "https://localhost:8080/"
        },
        "id": "3n6iy8iHkf0I",
        "outputId": "07508e8c-63d0-4c0f-ba0d-0854fb70c50a"
      },
      "source": [
        "col = ['A1', 'A2', 'A3', 'A4', 'A5', 'A6', 'A7', 'A8', 'A9', 'A10', 'A11', 'A12',]\n",
        "E2 = np.array(batch_gradient(df, col, 'Target' , predict_arr))"
      ],
      "execution_count": null,
      "outputs": [
        {
          "output_type": "stream",
          "name": "stdout",
          "text": [
            "SDE train Error 1391587.1055696737\n",
            "SDE test Error 1500005.3100854615\n",
            "Performane 1445796.2078275676\n",
            "Prediction: \n",
            "               0\n",
            "0  6.916546e+09\n",
            "1  2.703666e+09\n",
            "2  1.125159e+10\n",
            "3  1.265835e+10\n",
            "4  1.668703e+10\n",
            "5  1.465462e+10\n",
            "6  1.907431e+10\n",
            "7  7.143299e+09\n",
            "8  2.479235e+09\n",
            "9  1.065266e+10\n",
            "\n",
            "\n"
          ]
        }
      ]
    },
    {
      "cell_type": "markdown",
      "metadata": {
        "id": "na1F-FVyscNm"
      },
      "source": [
        "### (c) Mini-batch gradient descent"
      ]
    },
    {
      "cell_type": "code",
      "metadata": {
        "id": "4e5zv_hbsb2g"
      },
      "source": [
        "class mini_batch_regressor:\n",
        "\n",
        "  def __init__(self,X):    \n",
        "    self.W = np.random.randn(X.shape[1],1)    \n",
        "    \n",
        "\n",
        "  def fit(self,X, y, learning_rate=0.1, numEpochs=2000, batchsize=200):    \n",
        "    num_of_samples = len(X)\n",
        "    \n",
        "    for epoch in range(numEpochs):\n",
        "      xbShuffled, yShuffled = shuffle(X, y)\n",
        "      for i in range(0,num_of_samples,batchsize):        \n",
        "        X = xbShuffled[i:i+batchsize]\n",
        "        y = yShuffled[i:i+batchsize]\n",
        "        if len(X)<batchsize:\n",
        "          break        \n",
        "        delta = 1/batchsize*X.T.dot(X.dot(self.W)-y.reshape(-1,1))                        \n",
        "              \n",
        "        self.W = self.W - learning_rate * delta    \n",
        "      learning_rate = learning_rate/1.02  \n",
        "    return self.W\n",
        "    \n",
        "  def predict(self,X,W):\n",
        "    return X.dot(W)\n",
        "\n",
        "  def measure(self,y_predict,y_actual):\n",
        "    return np.sqrt(mean_squared_error(y_predict, y_actual))"
      ],
      "execution_count": null,
      "outputs": []
    },
    {
      "cell_type": "code",
      "metadata": {
        "id": "fsXQxVHzl9oS"
      },
      "source": [
        "def minibatch_gradient(D, col, target, pre_arr):\n",
        "  X_traind, X_testd, y_traind, y_testd = train_test_split(np.asarray(D[col]),D[target], test_size=0.25, random_state=4)\n",
        "\n",
        "  scaler = MinMaxScaler(feature_range=(0,1))\n",
        "  X_train = scaler.fit_transform(X_traind)\n",
        "  X_test = scaler.transform(X_testd)\n",
        "\n",
        "  X_train_b = np.asarray(X_train)\n",
        "  Y_train = np.asarray(y_traind)\n",
        "  X_test_b = np.asarray(X_test)\n",
        "  mgd = mini_batch_regressor(X_train_b)\n",
        "\n",
        "  w = mgd.fit(X_train_b,Y_train)\n",
        "  predicted_train =mgd.predict(X_train_b,w)\n",
        "  rmse_train = mgd.measure(predicted_train,Y_train)\n",
        "  predicted_test =mgd.predict(X_test_b,w)\n",
        "  rmse_test = mgd.measure(predicted_test,y_testd)\n",
        "  print('SDE train Error', rmse_train)\n",
        "  print('SDE test Error', rmse_test)\n",
        "  per = (rmse_train+rmse_test)/2\n",
        "  print('Performane', per)\n",
        "  print('Prediction: \\n',mgd.predict(pre_arr,w))\n",
        "  print('\\n')\n",
        "  return(mgd.predict(pre_arr,w))"
      ],
      "execution_count": null,
      "outputs": []
    },
    {
      "cell_type": "code",
      "metadata": {
        "colab": {
          "base_uri": "https://localhost:8080/"
        },
        "id": "OOuyJWNlmR4Y",
        "outputId": "e02b053d-808c-4e1e-8bfc-6083f7ef1362"
      },
      "source": [
        "col = ['A1', 'A2', 'A3', 'A4', 'A5', 'A6', 'A7', 'A8', 'A9', 'A10', 'A11', 'A12',]\n",
        "E3 = np.array(minibatch_gradient(df, col, 'Target' , predict_arr))"
      ],
      "execution_count": null,
      "outputs": [
        {
          "output_type": "stream",
          "name": "stdout",
          "text": [
            "SDE train Error 3325503.857597593\n",
            "SDE test Error 3338726.7473603343\n",
            "Performane 3332115.3024789635\n",
            "Prediction: \n",
            "               0\n",
            "0  1.512043e+09\n",
            "1  5.923461e+08\n",
            "2  2.458724e+09\n",
            "3  2.765082e+09\n",
            "4  3.644092e+09\n",
            "5  3.200419e+09\n",
            "6  4.165302e+09\n",
            "7  1.560387e+09\n",
            "8  5.424784e+08\n",
            "9  2.326496e+09\n",
            "\n",
            "\n"
          ]
        }
      ]
    },
    {
      "cell_type": "markdown",
      "metadata": {
        "id": "I2un5l8-snbu"
      },
      "source": [
        "### (d) quartile and stufff"
      ]
    },
    {
      "cell_type": "code",
      "metadata": {
        "id": "EXi-DxXXso40"
      },
      "source": [
        "D = df.copy()"
      ],
      "execution_count": null,
      "outputs": []
    },
    {
      "cell_type": "code",
      "metadata": {
        "id": "40Ptk2tsnsM2"
      },
      "source": [
        "iq1 = df['Target'].quantile(0.25)\n",
        "iq2 = df['Target'].quantile(0.5)\n",
        "iq3 = df['Target'].quantile(0.75)"
      ],
      "execution_count": null,
      "outputs": []
    },
    {
      "cell_type": "code",
      "metadata": {
        "id": "A_Mcv_rzqnyk"
      },
      "source": [
        "#df.loc[boolean_condition, column_name] = new_value\n",
        "D.loc[df.Target <= iq1, 'Target'] = 'Label A'\n",
        "D.loc[np.logical_and(df.Target > iq1 , df.Target <= iq2), 'Target'] = 'Label B'\n",
        "D.loc[np.logical_and(df.Target > iq2 , df.Target <= iq3), 'Target'] = 'Label C'\n",
        "D.loc[df.Target >= iq3 , 'Target'] = 'Label D'"
      ],
      "execution_count": null,
      "outputs": []
    },
    {
      "cell_type": "code",
      "metadata": {
        "colab": {
          "base_uri": "https://localhost:8080/",
          "height": 455
        },
        "id": "6x3lhYxkpggW",
        "outputId": "757996c8-27a4-49bf-a0e0-b7e1c774e779"
      },
      "source": [
        "D"
      ],
      "execution_count": null,
      "outputs": [
        {
          "output_type": "execute_result",
          "data": {
            "text/html": [
              "<div>\n",
              "<style scoped>\n",
              "    .dataframe tbody tr th:only-of-type {\n",
              "        vertical-align: middle;\n",
              "    }\n",
              "\n",
              "    .dataframe tbody tr th {\n",
              "        vertical-align: top;\n",
              "    }\n",
              "\n",
              "    .dataframe thead th {\n",
              "        text-align: right;\n",
              "    }\n",
              "</style>\n",
              "<table border=\"1\" class=\"dataframe\">\n",
              "  <thead>\n",
              "    <tr style=\"text-align: right;\">\n",
              "      <th></th>\n",
              "      <th>A1</th>\n",
              "      <th>A2</th>\n",
              "      <th>A3</th>\n",
              "      <th>A4</th>\n",
              "      <th>A5</th>\n",
              "      <th>A6</th>\n",
              "      <th>A7</th>\n",
              "      <th>A8</th>\n",
              "      <th>A9</th>\n",
              "      <th>A10</th>\n",
              "      <th>A11</th>\n",
              "      <th>A12</th>\n",
              "      <th>Target</th>\n",
              "    </tr>\n",
              "    <tr>\n",
              "      <th>S.no</th>\n",
              "      <th></th>\n",
              "      <th></th>\n",
              "      <th></th>\n",
              "      <th></th>\n",
              "      <th></th>\n",
              "      <th></th>\n",
              "      <th></th>\n",
              "      <th></th>\n",
              "      <th></th>\n",
              "      <th></th>\n",
              "      <th></th>\n",
              "      <th></th>\n",
              "      <th></th>\n",
              "    </tr>\n",
              "  </thead>\n",
              "  <tbody>\n",
              "    <tr>\n",
              "      <th>1</th>\n",
              "      <td>7420.0</td>\n",
              "      <td>3</td>\n",
              "      <td>2.0</td>\n",
              "      <td>3.0</td>\n",
              "      <td>1.0</td>\n",
              "      <td>2</td>\n",
              "      <td>2</td>\n",
              "      <td>0</td>\n",
              "      <td>1</td>\n",
              "      <td>2</td>\n",
              "      <td>1</td>\n",
              "      <td>1</td>\n",
              "      <td>Label D</td>\n",
              "    </tr>\n",
              "    <tr>\n",
              "      <th>2</th>\n",
              "      <td>8960.0</td>\n",
              "      <td>3</td>\n",
              "      <td>4.0</td>\n",
              "      <td>4.0</td>\n",
              "      <td>1.0</td>\n",
              "      <td>2</td>\n",
              "      <td>2</td>\n",
              "      <td>0</td>\n",
              "      <td>1</td>\n",
              "      <td>3</td>\n",
              "      <td>0</td>\n",
              "      <td>1</td>\n",
              "      <td>Label D</td>\n",
              "    </tr>\n",
              "    <tr>\n",
              "      <th>3</th>\n",
              "      <td>9960.0</td>\n",
              "      <td>2</td>\n",
              "      <td>2.0</td>\n",
              "      <td>2.0</td>\n",
              "      <td>1.0</td>\n",
              "      <td>2</td>\n",
              "      <td>1</td>\n",
              "      <td>0</td>\n",
              "      <td>2</td>\n",
              "      <td>2</td>\n",
              "      <td>1</td>\n",
              "      <td>2</td>\n",
              "      <td>Label D</td>\n",
              "    </tr>\n",
              "    <tr>\n",
              "      <th>4</th>\n",
              "      <td>7500.0</td>\n",
              "      <td>3</td>\n",
              "      <td>2.0</td>\n",
              "      <td>2.0</td>\n",
              "      <td>1.0</td>\n",
              "      <td>2</td>\n",
              "      <td>1</td>\n",
              "      <td>0</td>\n",
              "      <td>1</td>\n",
              "      <td>3</td>\n",
              "      <td>1</td>\n",
              "      <td>1</td>\n",
              "      <td>Label D</td>\n",
              "    </tr>\n",
              "    <tr>\n",
              "      <th>5</th>\n",
              "      <td>7420.0</td>\n",
              "      <td>3</td>\n",
              "      <td>1.0</td>\n",
              "      <td>2.0</td>\n",
              "      <td>1.0</td>\n",
              "      <td>1</td>\n",
              "      <td>1</td>\n",
              "      <td>0</td>\n",
              "      <td>1</td>\n",
              "      <td>2</td>\n",
              "      <td>0</td>\n",
              "      <td>1</td>\n",
              "      <td>Label D</td>\n",
              "    </tr>\n",
              "    <tr>\n",
              "      <th>...</th>\n",
              "      <td>...</td>\n",
              "      <td>...</td>\n",
              "      <td>...</td>\n",
              "      <td>...</td>\n",
              "      <td>...</td>\n",
              "      <td>...</td>\n",
              "      <td>...</td>\n",
              "      <td>...</td>\n",
              "      <td>...</td>\n",
              "      <td>...</td>\n",
              "      <td>...</td>\n",
              "      <td>...</td>\n",
              "      <td>...</td>\n",
              "    </tr>\n",
              "    <tr>\n",
              "      <th>596</th>\n",
              "      <td>6600.0</td>\n",
              "      <td>2</td>\n",
              "      <td>2.0</td>\n",
              "      <td>1.0</td>\n",
              "      <td>1.0</td>\n",
              "      <td>2</td>\n",
              "      <td>1</td>\n",
              "      <td>0</td>\n",
              "      <td>1</td>\n",
              "      <td>0</td>\n",
              "      <td>1</td>\n",
              "      <td>0</td>\n",
              "      <td>Label D</td>\n",
              "    </tr>\n",
              "    <tr>\n",
              "      <th>597</th>\n",
              "      <td>5500.0</td>\n",
              "      <td>2</td>\n",
              "      <td>1.0</td>\n",
              "      <td>3.0</td>\n",
              "      <td>1.0</td>\n",
              "      <td>2</td>\n",
              "      <td>2</td>\n",
              "      <td>0</td>\n",
              "      <td>2</td>\n",
              "      <td>1</td>\n",
              "      <td>1</td>\n",
              "      <td>0</td>\n",
              "      <td>Label D</td>\n",
              "    </tr>\n",
              "    <tr>\n",
              "      <th>598</th>\n",
              "      <td>6600.0</td>\n",
              "      <td>3</td>\n",
              "      <td>2.0</td>\n",
              "      <td>1.0</td>\n",
              "      <td>1.0</td>\n",
              "      <td>2</td>\n",
              "      <td>1</td>\n",
              "      <td>0</td>\n",
              "      <td>2</td>\n",
              "      <td>0</td>\n",
              "      <td>1</td>\n",
              "      <td>2</td>\n",
              "      <td>Label C</td>\n",
              "    </tr>\n",
              "    <tr>\n",
              "      <th>599</th>\n",
              "      <td>5136.0</td>\n",
              "      <td>2</td>\n",
              "      <td>1.0</td>\n",
              "      <td>2.0</td>\n",
              "      <td>1.0</td>\n",
              "      <td>1</td>\n",
              "      <td>1</td>\n",
              "      <td>0</td>\n",
              "      <td>1</td>\n",
              "      <td>0</td>\n",
              "      <td>1</td>\n",
              "      <td>0</td>\n",
              "      <td>Label C</td>\n",
              "    </tr>\n",
              "    <tr>\n",
              "      <th>600</th>\n",
              "      <td>4400.0</td>\n",
              "      <td>3</td>\n",
              "      <td>1.0</td>\n",
              "      <td>2.0</td>\n",
              "      <td>1.0</td>\n",
              "      <td>2</td>\n",
              "      <td>2</td>\n",
              "      <td>0</td>\n",
              "      <td>1</td>\n",
              "      <td>2</td>\n",
              "      <td>1</td>\n",
              "      <td>2</td>\n",
              "      <td>Label C</td>\n",
              "    </tr>\n",
              "  </tbody>\n",
              "</table>\n",
              "<p>600 rows × 13 columns</p>\n",
              "</div>"
            ],
            "text/plain": [
              "          A1  A2   A3   A4   A5  A6  A7  A8  A9  A10  A11  A12   Target\n",
              "S.no                                                                   \n",
              "1     7420.0   3  2.0  3.0  1.0   2   2   0   1    2    1    1  Label D\n",
              "2     8960.0   3  4.0  4.0  1.0   2   2   0   1    3    0    1  Label D\n",
              "3     9960.0   2  2.0  2.0  1.0   2   1   0   2    2    1    2  Label D\n",
              "4     7500.0   3  2.0  2.0  1.0   2   1   0   1    3    1    1  Label D\n",
              "5     7420.0   3  1.0  2.0  1.0   1   1   0   1    2    0    1  Label D\n",
              "...      ...  ..  ...  ...  ...  ..  ..  ..  ..  ...  ...  ...      ...\n",
              "596   6600.0   2  2.0  1.0  1.0   2   1   0   1    0    1    0  Label D\n",
              "597   5500.0   2  1.0  3.0  1.0   2   2   0   2    1    1    0  Label D\n",
              "598   6600.0   3  2.0  1.0  1.0   2   1   0   2    0    1    2  Label C\n",
              "599   5136.0   2  1.0  2.0  1.0   1   1   0   1    0    1    0  Label C\n",
              "600   4400.0   3  1.0  2.0  1.0   2   2   0   1    2    1    2  Label C\n",
              "\n",
              "[600 rows x 13 columns]"
            ]
          },
          "metadata": {},
          "execution_count": 44
        }
      ]
    },
    {
      "cell_type": "code",
      "metadata": {
        "colab": {
          "base_uri": "https://localhost:8080/"
        },
        "id": "PNbiwJH0VX2L",
        "outputId": "1725b092-4bc4-4a4a-ca84-37d002e2eed6"
      },
      "source": [
        "E4 = np.array(D['Target'])\n",
        "E4"
      ],
      "execution_count": null,
      "outputs": [
        {
          "output_type": "execute_result",
          "data": {
            "text/plain": [
              "array(['Label D', 'Label D', 'Label D', 'Label D', 'Label D', 'Label D',\n",
              "       'Label D', 'Label D', 'Label D', 'Label D', 'Label D', 'Label D',\n",
              "       'Label D', 'Label D', 'Label D', 'Label D', 'Label D', 'Label D',\n",
              "       'Label D', 'Label D', 'Label D', 'Label D', 'Label D', 'Label D',\n",
              "       'Label D', 'Label D', 'Label D', 'Label D', 'Label D', 'Label D',\n",
              "       'Label D', 'Label D', 'Label D', 'Label D', 'Label D', 'Label D',\n",
              "       'Label D', 'Label D', 'Label D', 'Label D', 'Label D', 'Label D',\n",
              "       'Label D', 'Label D', 'Label D', 'Label D', 'Label D', 'Label D',\n",
              "       'Label D', 'Label D', 'Label D', 'Label D', 'Label D', 'Label D',\n",
              "       'Label D', 'Label D', 'Label D', 'Label D', 'Label D', 'Label D',\n",
              "       'Label D', 'Label D', 'Label D', 'Label D', 'Label D', 'Label D',\n",
              "       'Label D', 'Label D', 'Label D', 'Label D', 'Label D', 'Label D',\n",
              "       'Label D', 'Label D', 'Label D', 'Label D', 'Label D', 'Label D',\n",
              "       'Label D', 'Label D', 'Label D', 'Label D', 'Label D', 'Label D',\n",
              "       'Label D', 'Label D', 'Label D', 'Label D', 'Label D', 'Label D',\n",
              "       'Label D', 'Label D', 'Label D', 'Label D', 'Label D', 'Label D',\n",
              "       'Label D', 'Label D', 'Label D', 'Label D', 'Label D', 'Label D',\n",
              "       'Label D', 'Label D', 'Label D', 'Label D', 'Label D', 'Label D',\n",
              "       'Label D', 'Label D', 'Label D', 'Label D', 'Label D', 'Label D',\n",
              "       'Label D', 'Label D', 'Label D', 'Label D', 'Label D', 'Label D',\n",
              "       'Label D', 'Label D', 'Label D', 'Label D', 'Label D', 'Label C',\n",
              "       'Label C', 'Label C', 'Label C', 'Label C', 'Label C', 'Label C',\n",
              "       'Label C', 'Label C', 'Label C', 'Label C', 'Label C', 'Label C',\n",
              "       'Label C', 'Label C', 'Label C', 'Label C', 'Label C', 'Label C',\n",
              "       'Label C', 'Label C', 'Label C', 'Label C', 'Label C', 'Label C',\n",
              "       'Label C', 'Label C', 'Label C', 'Label C', 'Label C', 'Label C',\n",
              "       'Label C', 'Label C', 'Label C', 'Label C', 'Label C', 'Label C',\n",
              "       'Label C', 'Label C', 'Label C', 'Label C', 'Label C', 'Label C',\n",
              "       'Label C', 'Label C', 'Label C', 'Label C', 'Label C', 'Label C',\n",
              "       'Label C', 'Label C', 'Label C', 'Label C', 'Label C', 'Label C',\n",
              "       'Label C', 'Label C', 'Label C', 'Label C', 'Label C', 'Label C',\n",
              "       'Label C', 'Label C', 'Label C', 'Label C', 'Label C', 'Label C',\n",
              "       'Label C', 'Label C', 'Label C', 'Label C', 'Label C', 'Label C',\n",
              "       'Label C', 'Label C', 'Label C', 'Label C', 'Label C', 'Label C',\n",
              "       'Label C', 'Label C', 'Label C', 'Label C', 'Label C', 'Label C',\n",
              "       'Label C', 'Label C', 'Label C', 'Label C', 'Label C', 'Label C',\n",
              "       'Label C', 'Label C', 'Label C', 'Label C', 'Label C', 'Label C',\n",
              "       'Label C', 'Label C', 'Label C', 'Label C', 'Label C', 'Label C',\n",
              "       'Label C', 'Label C', 'Label C', 'Label C', 'Label C', 'Label C',\n",
              "       'Label C', 'Label C', 'Label C', 'Label C', 'Label C', 'Label C',\n",
              "       'Label C', 'Label C', 'Label C', 'Label C', 'Label C', 'Label C',\n",
              "       'Label C', 'Label C', 'Label C', 'Label C', 'Label C', 'Label C',\n",
              "       'Label C', 'Label C', 'Label C', 'Label C', 'Label C', 'Label C',\n",
              "       'Label C', 'Label C', 'Label C', 'Label C', 'Label C', 'Label B',\n",
              "       'Label B', 'Label B', 'Label B', 'Label B', 'Label B', 'Label B',\n",
              "       'Label B', 'Label B', 'Label B', 'Label B', 'Label B', 'Label B',\n",
              "       'Label B', 'Label B', 'Label B', 'Label B', 'Label B', 'Label B',\n",
              "       'Label B', 'Label B', 'Label B', 'Label B', 'Label B', 'Label B',\n",
              "       'Label B', 'Label B', 'Label B', 'Label B', 'Label B', 'Label B',\n",
              "       'Label B', 'Label B', 'Label B', 'Label B', 'Label B', 'Label B',\n",
              "       'Label B', 'Label B', 'Label B', 'Label B', 'Label B', 'Label B',\n",
              "       'Label B', 'Label B', 'Label B', 'Label B', 'Label B', 'Label B',\n",
              "       'Label B', 'Label B', 'Label B', 'Label B', 'Label B', 'Label B',\n",
              "       'Label B', 'Label B', 'Label B', 'Label B', 'Label B', 'Label B',\n",
              "       'Label B', 'Label B', 'Label B', 'Label B', 'Label B', 'Label B',\n",
              "       'Label B', 'Label B', 'Label B', 'Label B', 'Label B', 'Label B',\n",
              "       'Label B', 'Label B', 'Label B', 'Label B', 'Label B', 'Label B',\n",
              "       'Label B', 'Label B', 'Label B', 'Label B', 'Label B', 'Label B',\n",
              "       'Label B', 'Label B', 'Label B', 'Label B', 'Label B', 'Label B',\n",
              "       'Label B', 'Label B', 'Label B', 'Label B', 'Label B', 'Label B',\n",
              "       'Label B', 'Label B', 'Label B', 'Label B', 'Label B', 'Label B',\n",
              "       'Label B', 'Label B', 'Label B', 'Label B', 'Label B', 'Label B',\n",
              "       'Label B', 'Label B', 'Label B', 'Label B', 'Label B', 'Label B',\n",
              "       'Label B', 'Label B', 'Label B', 'Label B', 'Label B', 'Label B',\n",
              "       'Label B', 'Label B', 'Label B', 'Label B', 'Label B', 'Label B',\n",
              "       'Label B', 'Label B', 'Label B', 'Label B', 'Label B', 'Label B',\n",
              "       'Label B', 'Label B', 'Label B', 'Label B', 'Label B', 'Label B',\n",
              "       'Label B', 'Label B', 'Label B', 'Label A', 'Label A', 'Label A',\n",
              "       'Label A', 'Label A', 'Label A', 'Label A', 'Label A', 'Label A',\n",
              "       'Label A', 'Label A', 'Label A', 'Label A', 'Label A', 'Label A',\n",
              "       'Label A', 'Label A', 'Label A', 'Label A', 'Label A', 'Label A',\n",
              "       'Label A', 'Label A', 'Label A', 'Label A', 'Label A', 'Label A',\n",
              "       'Label A', 'Label A', 'Label A', 'Label A', 'Label A', 'Label A',\n",
              "       'Label A', 'Label A', 'Label A', 'Label A', 'Label A', 'Label A',\n",
              "       'Label A', 'Label A', 'Label A', 'Label A', 'Label A', 'Label A',\n",
              "       'Label A', 'Label A', 'Label A', 'Label A', 'Label A', 'Label A',\n",
              "       'Label A', 'Label A', 'Label A', 'Label A', 'Label A', 'Label A',\n",
              "       'Label A', 'Label A', 'Label A', 'Label A', 'Label A', 'Label A',\n",
              "       'Label A', 'Label A', 'Label A', 'Label A', 'Label A', 'Label A',\n",
              "       'Label A', 'Label A', 'Label A', 'Label A', 'Label A', 'Label A',\n",
              "       'Label A', 'Label A', 'Label A', 'Label A', 'Label A', 'Label A',\n",
              "       'Label A', 'Label A', 'Label A', 'Label A', 'Label A', 'Label A',\n",
              "       'Label A', 'Label A', 'Label A', 'Label A', 'Label A', 'Label A',\n",
              "       'Label A', 'Label A', 'Label A', 'Label A', 'Label A', 'Label A',\n",
              "       'Label A', 'Label A', 'Label A', 'Label A', 'Label A', 'Label A',\n",
              "       'Label A', 'Label A', 'Label A', 'Label A', 'Label A', 'Label A',\n",
              "       'Label A', 'Label A', 'Label A', 'Label A', 'Label A', 'Label A',\n",
              "       'Label A', 'Label A', 'Label A', 'Label A', 'Label A', 'Label A',\n",
              "       'Label A', 'Label A', 'Label A', 'Label A', 'Label A', 'Label A',\n",
              "       'Label A', 'Label A', 'Label A', 'Label A', 'Label A', 'Label A',\n",
              "       'Label A', 'Label A', 'Label A', 'Label A', 'Label A', 'Label D',\n",
              "       'Label D', 'Label D', 'Label D', 'Label D', 'Label D', 'Label D',\n",
              "       'Label D', 'Label D', 'Label D', 'Label D', 'Label A', 'Label A',\n",
              "       'Label A', 'Label A', 'Label A', 'Label A', 'Label A', 'Label A',\n",
              "       'Label A', 'Label A', 'Label A', 'Label B', 'Label B', 'Label B',\n",
              "       'Label B', 'Label B', 'Label B', 'Label B', 'Label C', 'Label C',\n",
              "       'Label C', 'Label C', 'Label C', 'Label C', 'Label C', 'Label C',\n",
              "       'Label C', 'Label D', 'Label D', 'Label D', 'Label D', 'Label D',\n",
              "       'Label D', 'Label D', 'Label D', 'Label D', 'Label D', 'Label D',\n",
              "       'Label D', 'Label D', 'Label D', 'Label C', 'Label C', 'Label C'],\n",
              "      dtype=object)"
            ]
          },
          "metadata": {},
          "execution_count": 45
        }
      ]
    },
    {
      "cell_type": "markdown",
      "metadata": {
        "id": "mtsIq0UJT0h8"
      },
      "source": [
        "### (e)"
      ]
    },
    {
      "cell_type": "code",
      "metadata": {
        "id": "nKUjhAnkS3Pc"
      },
      "source": [
        "X=D.drop(['Target'], axis=1)"
      ],
      "execution_count": null,
      "outputs": []
    },
    {
      "cell_type": "code",
      "metadata": {
        "id": "EtB0O0hBS5JA"
      },
      "source": [
        "Y=D['Target']"
      ],
      "execution_count": null,
      "outputs": []
    },
    {
      "cell_type": "code",
      "metadata": {
        "id": "flxqJPTsMXaZ"
      },
      "source": [
        "from sklearn.model_selection import train_test_split\n",
        "X_train, X_test, Y_train, Y_test=train_test_split(X, Y, test_size=0.25,random_state=5)"
      ],
      "execution_count": null,
      "outputs": []
    },
    {
      "cell_type": "code",
      "metadata": {
        "id": "CW31LHA7LtJj"
      },
      "source": [
        "from sklearn.linear_model import LogisticRegression\n",
        "logit_model=LogisticRegression(C=10, max_iter=100, solver='liblinear',tol=0.001,random_state=0)"
      ],
      "execution_count": null,
      "outputs": []
    },
    {
      "cell_type": "code",
      "metadata": {
        "colab": {
          "base_uri": "https://localhost:8080/"
        },
        "id": "-04PGyfWMXjS",
        "outputId": "d6421d74-0986-4da3-dfdd-df09012e5971"
      },
      "source": [
        "logit_model.fit(X_train, Y_train)"
      ],
      "execution_count": null,
      "outputs": [
        {
          "output_type": "execute_result",
          "data": {
            "text/plain": [
              "LogisticRegression(C=10, random_state=0, solver='liblinear', tol=0.001)"
            ]
          },
          "metadata": {},
          "execution_count": 50
        }
      ]
    },
    {
      "cell_type": "code",
      "metadata": {
        "colab": {
          "base_uri": "https://localhost:8080/"
        },
        "id": "v73VtT9pNJoL",
        "outputId": "83374ebf-ef29-418a-a8ea-02a8262f1152"
      },
      "source": [
        "logit_model.score(X_test, Y_test)"
      ],
      "execution_count": null,
      "outputs": [
        {
          "output_type": "execute_result",
          "data": {
            "text/plain": [
              "0.31333333333333335"
            ]
          },
          "metadata": {},
          "execution_count": 51
        }
      ]
    },
    {
      "cell_type": "code",
      "metadata": {
        "id": "_c9BzUuiO9ZS"
      },
      "source": [
        "predictions=logit_model.predict(X_test)"
      ],
      "execution_count": null,
      "outputs": []
    },
    {
      "cell_type": "code",
      "metadata": {
        "colab": {
          "base_uri": "https://localhost:8080/"
        },
        "id": "BdXagM3IN4p1",
        "outputId": "a99d7068-2ac5-4bd7-c71f-1417f7b28d0e"
      },
      "source": [
        "from sklearn.metrics import confusion_matrix, classification_report\n",
        "confusion_matrix(Y_test, predictions)"
      ],
      "execution_count": null,
      "outputs": [
        {
          "output_type": "execute_result",
          "data": {
            "text/plain": [
              "array([[ 0,  0, 42,  3],\n",
              "       [ 0,  0, 37,  3],\n",
              "       [ 0,  0, 19, 14],\n",
              "       [ 0,  0,  4, 28]])"
            ]
          },
          "metadata": {},
          "execution_count": 53
        }
      ]
    },
    {
      "cell_type": "code",
      "metadata": {
        "colab": {
          "base_uri": "https://localhost:8080/"
        },
        "id": "eQc0bUWPNJyv",
        "outputId": "4fb5bc8b-412b-49ee-9ed6-61d8a52663e9"
      },
      "source": [
        "print(classification_report(Y_test, predictions))"
      ],
      "execution_count": null,
      "outputs": [
        {
          "output_type": "stream",
          "name": "stdout",
          "text": [
            "              precision    recall  f1-score   support\n",
            "\n",
            "     Label A       0.00      0.00      0.00        45\n",
            "     Label B       0.00      0.00      0.00        40\n",
            "     Label C       0.19      0.58      0.28        33\n",
            "     Label D       0.58      0.88      0.70        32\n",
            "\n",
            "    accuracy                           0.31       150\n",
            "   macro avg       0.19      0.36      0.25       150\n",
            "weighted avg       0.17      0.31      0.21       150\n",
            "\n"
          ]
        },
        {
          "output_type": "stream",
          "name": "stderr",
          "text": [
            "/usr/local/lib/python3.7/dist-packages/sklearn/metrics/_classification.py:1308: UndefinedMetricWarning: Precision and F-score are ill-defined and being set to 0.0 in labels with no predicted samples. Use `zero_division` parameter to control this behavior.\n",
            "  _warn_prf(average, modifier, msg_start, len(result))\n",
            "/usr/local/lib/python3.7/dist-packages/sklearn/metrics/_classification.py:1308: UndefinedMetricWarning: Precision and F-score are ill-defined and being set to 0.0 in labels with no predicted samples. Use `zero_division` parameter to control this behavior.\n",
            "  _warn_prf(average, modifier, msg_start, len(result))\n",
            "/usr/local/lib/python3.7/dist-packages/sklearn/metrics/_classification.py:1308: UndefinedMetricWarning: Precision and F-score are ill-defined and being set to 0.0 in labels with no predicted samples. Use `zero_division` parameter to control this behavior.\n",
            "  _warn_prf(average, modifier, msg_start, len(result))\n"
          ]
        }
      ]
    },
    {
      "cell_type": "code",
      "metadata": {
        "colab": {
          "base_uri": "https://localhost:8080/"
        },
        "id": "rLmy9gYcTr_Q",
        "outputId": "6aa8949c-e23c-45a8-a856-a296e3c6560d"
      },
      "source": [
        "E5 = logit_model.predict(predict_arr)\n",
        "E5"
      ],
      "execution_count": null,
      "outputs": [
        {
          "output_type": "stream",
          "name": "stderr",
          "text": [
            "/usr/local/lib/python3.7/dist-packages/sklearn/base.py:446: UserWarning: X does not have valid feature names, but LogisticRegression was fitted with feature names\n",
            "  \"X does not have valid feature names, but\"\n"
          ]
        },
        {
          "output_type": "execute_result",
          "data": {
            "text/plain": [
              "array(['Label D', 'Label C', 'Label C', 'Label D', 'Label D', 'Label D',\n",
              "       'Label D', 'Label D', 'Label C', 'Label D'], dtype=object)"
            ]
          },
          "metadata": {},
          "execution_count": 55
        }
      ]
    },
    {
      "cell_type": "markdown",
      "metadata": {
        "id": "juz4qUCET9nU"
      },
      "source": [
        "### (vi)"
      ]
    },
    {
      "cell_type": "code",
      "metadata": {
        "id": "mdvGbsEcNJ6O"
      },
      "source": [
        "from sklearn.tree import DecisionTreeClassifier \n",
        "# maximum depth of decision trees is 9\n",
        "clf_tree=DecisionTreeClassifier(criterion=\"entropy\", random_state=0,max_depth=9)"
      ],
      "execution_count": null,
      "outputs": []
    },
    {
      "cell_type": "code",
      "metadata": {
        "id": "N40jvEB9NKAy",
        "colab": {
          "base_uri": "https://localhost:8080/"
        },
        "outputId": "4224d981-8f7a-4544-d1c0-55a51fe8537c"
      },
      "source": [
        "clf_tree.fit(X_train, Y_train)"
      ],
      "execution_count": null,
      "outputs": [
        {
          "output_type": "execute_result",
          "data": {
            "text/plain": [
              "DecisionTreeClassifier(criterion='entropy', max_depth=9, random_state=0)"
            ]
          },
          "metadata": {},
          "execution_count": 57
        }
      ]
    },
    {
      "cell_type": "code",
      "metadata": {
        "id": "tz8PREgwMXms"
      },
      "source": [
        "Y_Pred=clf_tree.predict(X_test)"
      ],
      "execution_count": null,
      "outputs": []
    },
    {
      "cell_type": "code",
      "metadata": {
        "id": "0KYuHf2DP2lc"
      },
      "source": [
        "from sklearn.metrics import accuracy_score,confusion_matrix,classification_report \n",
        "report=classification_report(Y_Pred, Y_test)"
      ],
      "execution_count": null,
      "outputs": []
    },
    {
      "cell_type": "code",
      "metadata": {
        "colab": {
          "base_uri": "https://localhost:8080/"
        },
        "id": "qa0Z9odGQAYu",
        "outputId": "0b54de47-97f9-40ad-979a-e162f1f48666"
      },
      "source": [
        "print(report)"
      ],
      "execution_count": null,
      "outputs": [
        {
          "output_type": "stream",
          "name": "stdout",
          "text": [
            "              precision    recall  f1-score   support\n",
            "\n",
            "     Label A       0.78      0.70      0.74        50\n",
            "     Label B       0.35      0.39      0.37        36\n",
            "     Label C       0.33      0.41      0.37        27\n",
            "     Label D       0.75      0.65      0.70        37\n",
            "\n",
            "    accuracy                           0.56       150\n",
            "   macro avg       0.55      0.54      0.54       150\n",
            "weighted avg       0.59      0.56      0.57       150\n",
            "\n"
          ]
        }
      ]
    },
    {
      "cell_type": "code",
      "metadata": {
        "colab": {
          "base_uri": "https://localhost:8080/"
        },
        "id": "eXsuWhixQDc9",
        "outputId": "ff03eb59-39f3-4da3-c9ac-28c8777f3e00"
      },
      "source": [
        "clf_tree.score(X_test, Y_test)"
      ],
      "execution_count": null,
      "outputs": [
        {
          "output_type": "execute_result",
          "data": {
            "text/plain": [
              "0.56"
            ]
          },
          "metadata": {},
          "execution_count": 61
        }
      ]
    },
    {
      "cell_type": "code",
      "metadata": {
        "colab": {
          "base_uri": "https://localhost:8080/"
        },
        "id": "KQOyG2GqTgXk",
        "outputId": "1033ec36-466c-4644-c024-d1379ea2dc99"
      },
      "source": [
        "E6 = clf_tree.predict(predict_arr)\n",
        "E6"
      ],
      "execution_count": null,
      "outputs": [
        {
          "output_type": "stream",
          "name": "stderr",
          "text": [
            "/usr/local/lib/python3.7/dist-packages/sklearn/base.py:446: UserWarning: X does not have valid feature names, but DecisionTreeClassifier was fitted with feature names\n",
            "  \"X does not have valid feature names, but\"\n"
          ]
        },
        {
          "output_type": "execute_result",
          "data": {
            "text/plain": [
              "array(['Label B', 'Label B', 'Label C', 'Label C', 'Label C', 'Label D',\n",
              "       'Label D', 'Label C', 'Label C', 'Label A'], dtype=object)"
            ]
          },
          "metadata": {},
          "execution_count": 62
        }
      ]
    },
    {
      "cell_type": "markdown",
      "metadata": {
        "id": "fwtpkDB4UCGh"
      },
      "source": [
        "### (vii) Create a new data frame D2 based on the outputs of E1, E2,E3,E4,E5,E6,E7."
      ]
    },
    {
      "cell_type": "code",
      "metadata": {
        "id": "SNR3H58FUEOd",
        "colab": {
          "base_uri": "https://localhost:8080/",
          "height": 363
        },
        "outputId": "33ebe517-9f5b-4a92-9222-15e971854cdd"
      },
      "source": [
        "D2s1 = predict_arr.rename(columns = {0: 'A1', 1: 'A2',2: 'A3',3: 'A4',4: 'A5',5: 'A6',6: 'A7',7: 'A8',8: 'A9',9: 'A10',10: 'A11',11: 'A12'}, inplace = False)\n",
        "D2s1"
      ],
      "execution_count": null,
      "outputs": [
        {
          "output_type": "execute_result",
          "data": {
            "text/html": [
              "<div>\n",
              "<style scoped>\n",
              "    .dataframe tbody tr th:only-of-type {\n",
              "        vertical-align: middle;\n",
              "    }\n",
              "\n",
              "    .dataframe tbody tr th {\n",
              "        vertical-align: top;\n",
              "    }\n",
              "\n",
              "    .dataframe thead th {\n",
              "        text-align: right;\n",
              "    }\n",
              "</style>\n",
              "<table border=\"1\" class=\"dataframe\">\n",
              "  <thead>\n",
              "    <tr style=\"text-align: right;\">\n",
              "      <th></th>\n",
              "      <th>A1</th>\n",
              "      <th>A2</th>\n",
              "      <th>A3</th>\n",
              "      <th>A4</th>\n",
              "      <th>A5</th>\n",
              "      <th>A6</th>\n",
              "      <th>A7</th>\n",
              "      <th>A8</th>\n",
              "      <th>A9</th>\n",
              "      <th>A10</th>\n",
              "      <th>A11</th>\n",
              "      <th>A12</th>\n",
              "    </tr>\n",
              "  </thead>\n",
              "  <tbody>\n",
              "    <tr>\n",
              "      <th>0</th>\n",
              "      <td>3452</td>\n",
              "      <td>3</td>\n",
              "      <td>2</td>\n",
              "      <td>3</td>\n",
              "      <td>1</td>\n",
              "      <td>2</td>\n",
              "      <td>0</td>\n",
              "      <td>1</td>\n",
              "      <td>1</td>\n",
              "      <td>0</td>\n",
              "      <td>0</td>\n",
              "      <td>2</td>\n",
              "    </tr>\n",
              "    <tr>\n",
              "      <th>1</th>\n",
              "      <td>1343</td>\n",
              "      <td>2</td>\n",
              "      <td>4</td>\n",
              "      <td>4</td>\n",
              "      <td>2</td>\n",
              "      <td>2</td>\n",
              "      <td>0</td>\n",
              "      <td>1</td>\n",
              "      <td>1</td>\n",
              "      <td>0</td>\n",
              "      <td>0</td>\n",
              "      <td>2</td>\n",
              "    </tr>\n",
              "    <tr>\n",
              "      <th>2</th>\n",
              "      <td>5623</td>\n",
              "      <td>1</td>\n",
              "      <td>1</td>\n",
              "      <td>2</td>\n",
              "      <td>3</td>\n",
              "      <td>2</td>\n",
              "      <td>0</td>\n",
              "      <td>1</td>\n",
              "      <td>1</td>\n",
              "      <td>0</td>\n",
              "      <td>0</td>\n",
              "      <td>2</td>\n",
              "    </tr>\n",
              "    <tr>\n",
              "      <th>3</th>\n",
              "      <td>6321</td>\n",
              "      <td>7</td>\n",
              "      <td>3</td>\n",
              "      <td>1</td>\n",
              "      <td>2</td>\n",
              "      <td>0</td>\n",
              "      <td>1</td>\n",
              "      <td>1</td>\n",
              "      <td>0</td>\n",
              "      <td>0</td>\n",
              "      <td>2</td>\n",
              "      <td>3</td>\n",
              "    </tr>\n",
              "    <tr>\n",
              "      <th>4</th>\n",
              "      <td>8341</td>\n",
              "      <td>3</td>\n",
              "      <td>1</td>\n",
              "      <td>1</td>\n",
              "      <td>2</td>\n",
              "      <td>0</td>\n",
              "      <td>1</td>\n",
              "      <td>1</td>\n",
              "      <td>0</td>\n",
              "      <td>0</td>\n",
              "      <td>2</td>\n",
              "      <td>1</td>\n",
              "    </tr>\n",
              "    <tr>\n",
              "      <th>5</th>\n",
              "      <td>7321</td>\n",
              "      <td>5</td>\n",
              "      <td>3</td>\n",
              "      <td>2</td>\n",
              "      <td>2</td>\n",
              "      <td>0</td>\n",
              "      <td>1</td>\n",
              "      <td>1</td>\n",
              "      <td>0</td>\n",
              "      <td>0</td>\n",
              "      <td>2</td>\n",
              "      <td>1</td>\n",
              "    </tr>\n",
              "    <tr>\n",
              "      <th>6</th>\n",
              "      <td>9531</td>\n",
              "      <td>3</td>\n",
              "      <td>4</td>\n",
              "      <td>3</td>\n",
              "      <td>2</td>\n",
              "      <td>0</td>\n",
              "      <td>1</td>\n",
              "      <td>1</td>\n",
              "      <td>0</td>\n",
              "      <td>0</td>\n",
              "      <td>2</td>\n",
              "      <td>1</td>\n",
              "    </tr>\n",
              "    <tr>\n",
              "      <th>7</th>\n",
              "      <td>3563</td>\n",
              "      <td>6</td>\n",
              "      <td>2</td>\n",
              "      <td>4</td>\n",
              "      <td>2</td>\n",
              "      <td>0</td>\n",
              "      <td>1</td>\n",
              "      <td>1</td>\n",
              "      <td>0</td>\n",
              "      <td>0</td>\n",
              "      <td>2</td>\n",
              "      <td>1</td>\n",
              "    </tr>\n",
              "    <tr>\n",
              "      <th>8</th>\n",
              "      <td>1234</td>\n",
              "      <td>2</td>\n",
              "      <td>1</td>\n",
              "      <td>1</td>\n",
              "      <td>2</td>\n",
              "      <td>0</td>\n",
              "      <td>1</td>\n",
              "      <td>1</td>\n",
              "      <td>0</td>\n",
              "      <td>0</td>\n",
              "      <td>2</td>\n",
              "      <td>3</td>\n",
              "    </tr>\n",
              "    <tr>\n",
              "      <th>9</th>\n",
              "      <td>5321</td>\n",
              "      <td>5</td>\n",
              "      <td>1</td>\n",
              "      <td>2</td>\n",
              "      <td>1</td>\n",
              "      <td>0</td>\n",
              "      <td>1</td>\n",
              "      <td>1</td>\n",
              "      <td>0</td>\n",
              "      <td>0</td>\n",
              "      <td>2</td>\n",
              "      <td>1</td>\n",
              "    </tr>\n",
              "  </tbody>\n",
              "</table>\n",
              "</div>"
            ],
            "text/plain": [
              "     A1  A2  A3  A4  A5  A6  A7  A8  A9  A10  A11  A12\n",
              "0  3452   3   2   3   1   2   0   1   1    0    0    2\n",
              "1  1343   2   4   4   2   2   0   1   1    0    0    2\n",
              "2  5623   1   1   2   3   2   0   1   1    0    0    2\n",
              "3  6321   7   3   1   2   0   1   1   0    0    2    3\n",
              "4  8341   3   1   1   2   0   1   1   0    0    2    1\n",
              "5  7321   5   3   2   2   0   1   1   0    0    2    1\n",
              "6  9531   3   4   3   2   0   1   1   0    0    2    1\n",
              "7  3563   6   2   4   2   0   1   1   0    0    2    1\n",
              "8  1234   2   1   1   2   0   1   1   0    0    2    3\n",
              "9  5321   5   1   2   1   0   1   1   0    0    2    1"
            ]
          },
          "metadata": {},
          "execution_count": 63
        }
      ]
    },
    {
      "cell_type": "code",
      "metadata": {
        "colab": {
          "base_uri": "https://localhost:8080/",
          "height": 556
        },
        "id": "FpB-iM2cXZdM",
        "outputId": "75c02761-66e6-42a6-8d6f-98a5ffafaef6"
      },
      "source": [
        "D2s1[\"E1\"]=E1\n",
        "D2s1[\"E2\"]=E2\n",
        "D2s1[\"E3\"]=E3\n",
        "D2s1[\"E5\"]=E5\n",
        "D2s1[\"E6\"]=E6\n",
        "D2s1"
      ],
      "execution_count": null,
      "outputs": [
        {
          "output_type": "execute_result",
          "data": {
            "text/html": [
              "<div>\n",
              "<style scoped>\n",
              "    .dataframe tbody tr th:only-of-type {\n",
              "        vertical-align: middle;\n",
              "    }\n",
              "\n",
              "    .dataframe tbody tr th {\n",
              "        vertical-align: top;\n",
              "    }\n",
              "\n",
              "    .dataframe thead th {\n",
              "        text-align: right;\n",
              "    }\n",
              "</style>\n",
              "<table border=\"1\" class=\"dataframe\">\n",
              "  <thead>\n",
              "    <tr style=\"text-align: right;\">\n",
              "      <th></th>\n",
              "      <th>A1</th>\n",
              "      <th>A2</th>\n",
              "      <th>A3</th>\n",
              "      <th>A4</th>\n",
              "      <th>A5</th>\n",
              "      <th>A6</th>\n",
              "      <th>A7</th>\n",
              "      <th>A8</th>\n",
              "      <th>A9</th>\n",
              "      <th>A10</th>\n",
              "      <th>A11</th>\n",
              "      <th>A12</th>\n",
              "      <th>E1</th>\n",
              "      <th>E2</th>\n",
              "      <th>E3</th>\n",
              "      <th>E5</th>\n",
              "      <th>E6</th>\n",
              "    </tr>\n",
              "  </thead>\n",
              "  <tbody>\n",
              "    <tr>\n",
              "      <th>0</th>\n",
              "      <td>3452</td>\n",
              "      <td>3</td>\n",
              "      <td>2</td>\n",
              "      <td>3</td>\n",
              "      <td>1</td>\n",
              "      <td>2</td>\n",
              "      <td>0</td>\n",
              "      <td>1</td>\n",
              "      <td>1</td>\n",
              "      <td>0</td>\n",
              "      <td>0</td>\n",
              "      <td>2</td>\n",
              "      <td>1.133057e+10</td>\n",
              "      <td>6.916546e+09</td>\n",
              "      <td>1.512043e+09</td>\n",
              "      <td>Label D</td>\n",
              "      <td>Label B</td>\n",
              "    </tr>\n",
              "    <tr>\n",
              "      <th>1</th>\n",
              "      <td>1343</td>\n",
              "      <td>2</td>\n",
              "      <td>4</td>\n",
              "      <td>4</td>\n",
              "      <td>2</td>\n",
              "      <td>2</td>\n",
              "      <td>0</td>\n",
              "      <td>1</td>\n",
              "      <td>1</td>\n",
              "      <td>0</td>\n",
              "      <td>0</td>\n",
              "      <td>2</td>\n",
              "      <td>4.431896e+09</td>\n",
              "      <td>2.703666e+09</td>\n",
              "      <td>5.923461e+08</td>\n",
              "      <td>Label C</td>\n",
              "      <td>Label B</td>\n",
              "    </tr>\n",
              "    <tr>\n",
              "      <th>2</th>\n",
              "      <td>5623</td>\n",
              "      <td>1</td>\n",
              "      <td>1</td>\n",
              "      <td>2</td>\n",
              "      <td>3</td>\n",
              "      <td>2</td>\n",
              "      <td>0</td>\n",
              "      <td>1</td>\n",
              "      <td>1</td>\n",
              "      <td>0</td>\n",
              "      <td>0</td>\n",
              "      <td>2</td>\n",
              "      <td>1.843566e+10</td>\n",
              "      <td>1.125159e+10</td>\n",
              "      <td>2.458724e+09</td>\n",
              "      <td>Label C</td>\n",
              "      <td>Label C</td>\n",
              "    </tr>\n",
              "    <tr>\n",
              "      <th>3</th>\n",
              "      <td>6321</td>\n",
              "      <td>7</td>\n",
              "      <td>3</td>\n",
              "      <td>1</td>\n",
              "      <td>2</td>\n",
              "      <td>0</td>\n",
              "      <td>1</td>\n",
              "      <td>1</td>\n",
              "      <td>0</td>\n",
              "      <td>0</td>\n",
              "      <td>2</td>\n",
              "      <td>3</td>\n",
              "      <td>2.074111e+10</td>\n",
              "      <td>1.265835e+10</td>\n",
              "      <td>2.765082e+09</td>\n",
              "      <td>Label D</td>\n",
              "      <td>Label C</td>\n",
              "    </tr>\n",
              "    <tr>\n",
              "      <th>4</th>\n",
              "      <td>8341</td>\n",
              "      <td>3</td>\n",
              "      <td>1</td>\n",
              "      <td>1</td>\n",
              "      <td>2</td>\n",
              "      <td>0</td>\n",
              "      <td>1</td>\n",
              "      <td>1</td>\n",
              "      <td>0</td>\n",
              "      <td>0</td>\n",
              "      <td>2</td>\n",
              "      <td>1</td>\n",
              "      <td>2.734503e+10</td>\n",
              "      <td>1.668703e+10</td>\n",
              "      <td>3.644092e+09</td>\n",
              "      <td>Label D</td>\n",
              "      <td>Label C</td>\n",
              "    </tr>\n",
              "    <tr>\n",
              "      <th>5</th>\n",
              "      <td>7321</td>\n",
              "      <td>5</td>\n",
              "      <td>3</td>\n",
              "      <td>2</td>\n",
              "      <td>2</td>\n",
              "      <td>0</td>\n",
              "      <td>1</td>\n",
              "      <td>1</td>\n",
              "      <td>0</td>\n",
              "      <td>0</td>\n",
              "      <td>2</td>\n",
              "      <td>1</td>\n",
              "      <td>2.401719e+10</td>\n",
              "      <td>1.465462e+10</td>\n",
              "      <td>3.200419e+09</td>\n",
              "      <td>Label D</td>\n",
              "      <td>Label D</td>\n",
              "    </tr>\n",
              "    <tr>\n",
              "      <th>6</th>\n",
              "      <td>9531</td>\n",
              "      <td>3</td>\n",
              "      <td>4</td>\n",
              "      <td>3</td>\n",
              "      <td>2</td>\n",
              "      <td>0</td>\n",
              "      <td>1</td>\n",
              "      <td>1</td>\n",
              "      <td>0</td>\n",
              "      <td>0</td>\n",
              "      <td>2</td>\n",
              "      <td>1</td>\n",
              "      <td>3.126518e+10</td>\n",
              "      <td>1.907431e+10</td>\n",
              "      <td>4.165302e+09</td>\n",
              "      <td>Label D</td>\n",
              "      <td>Label D</td>\n",
              "    </tr>\n",
              "    <tr>\n",
              "      <th>7</th>\n",
              "      <td>3563</td>\n",
              "      <td>6</td>\n",
              "      <td>2</td>\n",
              "      <td>4</td>\n",
              "      <td>2</td>\n",
              "      <td>0</td>\n",
              "      <td>1</td>\n",
              "      <td>1</td>\n",
              "      <td>0</td>\n",
              "      <td>0</td>\n",
              "      <td>2</td>\n",
              "      <td>1</td>\n",
              "      <td>1.169978e+10</td>\n",
              "      <td>7.143299e+09</td>\n",
              "      <td>1.560387e+09</td>\n",
              "      <td>Label D</td>\n",
              "      <td>Label C</td>\n",
              "    </tr>\n",
              "    <tr>\n",
              "      <th>8</th>\n",
              "      <td>1234</td>\n",
              "      <td>2</td>\n",
              "      <td>1</td>\n",
              "      <td>1</td>\n",
              "      <td>2</td>\n",
              "      <td>0</td>\n",
              "      <td>1</td>\n",
              "      <td>1</td>\n",
              "      <td>0</td>\n",
              "      <td>0</td>\n",
              "      <td>2</td>\n",
              "      <td>3</td>\n",
              "      <td>4.056046e+09</td>\n",
              "      <td>2.479235e+09</td>\n",
              "      <td>5.424784e+08</td>\n",
              "      <td>Label C</td>\n",
              "      <td>Label C</td>\n",
              "    </tr>\n",
              "    <tr>\n",
              "      <th>9</th>\n",
              "      <td>5321</td>\n",
              "      <td>5</td>\n",
              "      <td>1</td>\n",
              "      <td>2</td>\n",
              "      <td>1</td>\n",
              "      <td>0</td>\n",
              "      <td>1</td>\n",
              "      <td>1</td>\n",
              "      <td>0</td>\n",
              "      <td>0</td>\n",
              "      <td>2</td>\n",
              "      <td>1</td>\n",
              "      <td>1.745159e+10</td>\n",
              "      <td>1.065266e+10</td>\n",
              "      <td>2.326496e+09</td>\n",
              "      <td>Label D</td>\n",
              "      <td>Label A</td>\n",
              "    </tr>\n",
              "  </tbody>\n",
              "</table>\n",
              "</div>"
            ],
            "text/plain": [
              "     A1  A2  A3  A4  ...            E2            E3       E5       E6\n",
              "0  3452   3   2   3  ...  6.916546e+09  1.512043e+09  Label D  Label B\n",
              "1  1343   2   4   4  ...  2.703666e+09  5.923461e+08  Label C  Label B\n",
              "2  5623   1   1   2  ...  1.125159e+10  2.458724e+09  Label C  Label C\n",
              "3  6321   7   3   1  ...  1.265835e+10  2.765082e+09  Label D  Label C\n",
              "4  8341   3   1   1  ...  1.668703e+10  3.644092e+09  Label D  Label C\n",
              "5  7321   5   3   2  ...  1.465462e+10  3.200419e+09  Label D  Label D\n",
              "6  9531   3   4   3  ...  1.907431e+10  4.165302e+09  Label D  Label D\n",
              "7  3563   6   2   4  ...  7.143299e+09  1.560387e+09  Label D  Label C\n",
              "8  1234   2   1   1  ...  2.479235e+09  5.424784e+08  Label C  Label C\n",
              "9  5321   5   1   2  ...  1.065266e+10  2.326496e+09  Label D  Label A\n",
              "\n",
              "[10 rows x 17 columns]"
            ]
          },
          "metadata": {},
          "execution_count": 64
        }
      ]
    },
    {
      "cell_type": "code",
      "metadata": {
        "id": "DnQ4GPZyXdI5"
      },
      "source": [
        "D2=D2s1.copy()"
      ],
      "execution_count": null,
      "outputs": []
    },
    {
      "cell_type": "code",
      "metadata": {
        "colab": {
          "base_uri": "https://localhost:8080/",
          "height": 556
        },
        "id": "qByABUzJaEjM",
        "outputId": "5268715e-c736-4501-89d1-1939f9648677"
      },
      "source": [
        "D2"
      ],
      "execution_count": null,
      "outputs": [
        {
          "output_type": "execute_result",
          "data": {
            "text/html": [
              "<div>\n",
              "<style scoped>\n",
              "    .dataframe tbody tr th:only-of-type {\n",
              "        vertical-align: middle;\n",
              "    }\n",
              "\n",
              "    .dataframe tbody tr th {\n",
              "        vertical-align: top;\n",
              "    }\n",
              "\n",
              "    .dataframe thead th {\n",
              "        text-align: right;\n",
              "    }\n",
              "</style>\n",
              "<table border=\"1\" class=\"dataframe\">\n",
              "  <thead>\n",
              "    <tr style=\"text-align: right;\">\n",
              "      <th></th>\n",
              "      <th>A1</th>\n",
              "      <th>A2</th>\n",
              "      <th>A3</th>\n",
              "      <th>A4</th>\n",
              "      <th>A5</th>\n",
              "      <th>A6</th>\n",
              "      <th>A7</th>\n",
              "      <th>A8</th>\n",
              "      <th>A9</th>\n",
              "      <th>A10</th>\n",
              "      <th>A11</th>\n",
              "      <th>A12</th>\n",
              "      <th>E1</th>\n",
              "      <th>E2</th>\n",
              "      <th>E3</th>\n",
              "      <th>E5</th>\n",
              "      <th>E6</th>\n",
              "    </tr>\n",
              "  </thead>\n",
              "  <tbody>\n",
              "    <tr>\n",
              "      <th>0</th>\n",
              "      <td>3452</td>\n",
              "      <td>3</td>\n",
              "      <td>2</td>\n",
              "      <td>3</td>\n",
              "      <td>1</td>\n",
              "      <td>2</td>\n",
              "      <td>0</td>\n",
              "      <td>1</td>\n",
              "      <td>1</td>\n",
              "      <td>0</td>\n",
              "      <td>0</td>\n",
              "      <td>2</td>\n",
              "      <td>1.133057e+10</td>\n",
              "      <td>6.916546e+09</td>\n",
              "      <td>1.512043e+09</td>\n",
              "      <td>Label D</td>\n",
              "      <td>Label B</td>\n",
              "    </tr>\n",
              "    <tr>\n",
              "      <th>1</th>\n",
              "      <td>1343</td>\n",
              "      <td>2</td>\n",
              "      <td>4</td>\n",
              "      <td>4</td>\n",
              "      <td>2</td>\n",
              "      <td>2</td>\n",
              "      <td>0</td>\n",
              "      <td>1</td>\n",
              "      <td>1</td>\n",
              "      <td>0</td>\n",
              "      <td>0</td>\n",
              "      <td>2</td>\n",
              "      <td>4.431896e+09</td>\n",
              "      <td>2.703666e+09</td>\n",
              "      <td>5.923461e+08</td>\n",
              "      <td>Label C</td>\n",
              "      <td>Label B</td>\n",
              "    </tr>\n",
              "    <tr>\n",
              "      <th>2</th>\n",
              "      <td>5623</td>\n",
              "      <td>1</td>\n",
              "      <td>1</td>\n",
              "      <td>2</td>\n",
              "      <td>3</td>\n",
              "      <td>2</td>\n",
              "      <td>0</td>\n",
              "      <td>1</td>\n",
              "      <td>1</td>\n",
              "      <td>0</td>\n",
              "      <td>0</td>\n",
              "      <td>2</td>\n",
              "      <td>1.843566e+10</td>\n",
              "      <td>1.125159e+10</td>\n",
              "      <td>2.458724e+09</td>\n",
              "      <td>Label C</td>\n",
              "      <td>Label C</td>\n",
              "    </tr>\n",
              "    <tr>\n",
              "      <th>3</th>\n",
              "      <td>6321</td>\n",
              "      <td>7</td>\n",
              "      <td>3</td>\n",
              "      <td>1</td>\n",
              "      <td>2</td>\n",
              "      <td>0</td>\n",
              "      <td>1</td>\n",
              "      <td>1</td>\n",
              "      <td>0</td>\n",
              "      <td>0</td>\n",
              "      <td>2</td>\n",
              "      <td>3</td>\n",
              "      <td>2.074111e+10</td>\n",
              "      <td>1.265835e+10</td>\n",
              "      <td>2.765082e+09</td>\n",
              "      <td>Label D</td>\n",
              "      <td>Label C</td>\n",
              "    </tr>\n",
              "    <tr>\n",
              "      <th>4</th>\n",
              "      <td>8341</td>\n",
              "      <td>3</td>\n",
              "      <td>1</td>\n",
              "      <td>1</td>\n",
              "      <td>2</td>\n",
              "      <td>0</td>\n",
              "      <td>1</td>\n",
              "      <td>1</td>\n",
              "      <td>0</td>\n",
              "      <td>0</td>\n",
              "      <td>2</td>\n",
              "      <td>1</td>\n",
              "      <td>2.734503e+10</td>\n",
              "      <td>1.668703e+10</td>\n",
              "      <td>3.644092e+09</td>\n",
              "      <td>Label D</td>\n",
              "      <td>Label C</td>\n",
              "    </tr>\n",
              "    <tr>\n",
              "      <th>5</th>\n",
              "      <td>7321</td>\n",
              "      <td>5</td>\n",
              "      <td>3</td>\n",
              "      <td>2</td>\n",
              "      <td>2</td>\n",
              "      <td>0</td>\n",
              "      <td>1</td>\n",
              "      <td>1</td>\n",
              "      <td>0</td>\n",
              "      <td>0</td>\n",
              "      <td>2</td>\n",
              "      <td>1</td>\n",
              "      <td>2.401719e+10</td>\n",
              "      <td>1.465462e+10</td>\n",
              "      <td>3.200419e+09</td>\n",
              "      <td>Label D</td>\n",
              "      <td>Label D</td>\n",
              "    </tr>\n",
              "    <tr>\n",
              "      <th>6</th>\n",
              "      <td>9531</td>\n",
              "      <td>3</td>\n",
              "      <td>4</td>\n",
              "      <td>3</td>\n",
              "      <td>2</td>\n",
              "      <td>0</td>\n",
              "      <td>1</td>\n",
              "      <td>1</td>\n",
              "      <td>0</td>\n",
              "      <td>0</td>\n",
              "      <td>2</td>\n",
              "      <td>1</td>\n",
              "      <td>3.126518e+10</td>\n",
              "      <td>1.907431e+10</td>\n",
              "      <td>4.165302e+09</td>\n",
              "      <td>Label D</td>\n",
              "      <td>Label D</td>\n",
              "    </tr>\n",
              "    <tr>\n",
              "      <th>7</th>\n",
              "      <td>3563</td>\n",
              "      <td>6</td>\n",
              "      <td>2</td>\n",
              "      <td>4</td>\n",
              "      <td>2</td>\n",
              "      <td>0</td>\n",
              "      <td>1</td>\n",
              "      <td>1</td>\n",
              "      <td>0</td>\n",
              "      <td>0</td>\n",
              "      <td>2</td>\n",
              "      <td>1</td>\n",
              "      <td>1.169978e+10</td>\n",
              "      <td>7.143299e+09</td>\n",
              "      <td>1.560387e+09</td>\n",
              "      <td>Label D</td>\n",
              "      <td>Label C</td>\n",
              "    </tr>\n",
              "    <tr>\n",
              "      <th>8</th>\n",
              "      <td>1234</td>\n",
              "      <td>2</td>\n",
              "      <td>1</td>\n",
              "      <td>1</td>\n",
              "      <td>2</td>\n",
              "      <td>0</td>\n",
              "      <td>1</td>\n",
              "      <td>1</td>\n",
              "      <td>0</td>\n",
              "      <td>0</td>\n",
              "      <td>2</td>\n",
              "      <td>3</td>\n",
              "      <td>4.056046e+09</td>\n",
              "      <td>2.479235e+09</td>\n",
              "      <td>5.424784e+08</td>\n",
              "      <td>Label C</td>\n",
              "      <td>Label C</td>\n",
              "    </tr>\n",
              "    <tr>\n",
              "      <th>9</th>\n",
              "      <td>5321</td>\n",
              "      <td>5</td>\n",
              "      <td>1</td>\n",
              "      <td>2</td>\n",
              "      <td>1</td>\n",
              "      <td>0</td>\n",
              "      <td>1</td>\n",
              "      <td>1</td>\n",
              "      <td>0</td>\n",
              "      <td>0</td>\n",
              "      <td>2</td>\n",
              "      <td>1</td>\n",
              "      <td>1.745159e+10</td>\n",
              "      <td>1.065266e+10</td>\n",
              "      <td>2.326496e+09</td>\n",
              "      <td>Label D</td>\n",
              "      <td>Label A</td>\n",
              "    </tr>\n",
              "  </tbody>\n",
              "</table>\n",
              "</div>"
            ],
            "text/plain": [
              "     A1  A2  A3  A4  ...            E2            E3       E5       E6\n",
              "0  3452   3   2   3  ...  6.916546e+09  1.512043e+09  Label D  Label B\n",
              "1  1343   2   4   4  ...  2.703666e+09  5.923461e+08  Label C  Label B\n",
              "2  5623   1   1   2  ...  1.125159e+10  2.458724e+09  Label C  Label C\n",
              "3  6321   7   3   1  ...  1.265835e+10  2.765082e+09  Label D  Label C\n",
              "4  8341   3   1   1  ...  1.668703e+10  3.644092e+09  Label D  Label C\n",
              "5  7321   5   3   2  ...  1.465462e+10  3.200419e+09  Label D  Label D\n",
              "6  9531   3   4   3  ...  1.907431e+10  4.165302e+09  Label D  Label D\n",
              "7  3563   6   2   4  ...  7.143299e+09  1.560387e+09  Label D  Label C\n",
              "8  1234   2   1   1  ...  2.479235e+09  5.424784e+08  Label C  Label C\n",
              "9  5321   5   1   2  ...  1.065266e+10  2.326496e+09  Label D  Label A\n",
              "\n",
              "[10 rows x 17 columns]"
            ]
          },
          "metadata": {},
          "execution_count": 66
        }
      ]
    },
    {
      "cell_type": "code",
      "metadata": {
        "colab": {
          "base_uri": "https://localhost:8080/",
          "height": 556
        },
        "id": "8f5tSqNmaF-f",
        "outputId": "5fbd9cf5-0017-4949-8d26-68f9d534d598"
      },
      "source": [
        "D2.loc[D2.E1 <= iq1, 'E1'] = 'Label A'\n",
        "D2.loc[np.logical_and(D2.E1 > iq1 , D2.E1 <= iq2), 'E1'] = 'Label B'\n",
        "D2.loc[np.logical_and(D2.E1 > iq2 , D2.E1 <= iq3), 'E1'] = 'Label C'\n",
        "D2.loc[D2.E1 >= iq3 , 'E1'] = 'Label D'\n",
        "D2"
      ],
      "execution_count": null,
      "outputs": [
        {
          "output_type": "execute_result",
          "data": {
            "text/html": [
              "<div>\n",
              "<style scoped>\n",
              "    .dataframe tbody tr th:only-of-type {\n",
              "        vertical-align: middle;\n",
              "    }\n",
              "\n",
              "    .dataframe tbody tr th {\n",
              "        vertical-align: top;\n",
              "    }\n",
              "\n",
              "    .dataframe thead th {\n",
              "        text-align: right;\n",
              "    }\n",
              "</style>\n",
              "<table border=\"1\" class=\"dataframe\">\n",
              "  <thead>\n",
              "    <tr style=\"text-align: right;\">\n",
              "      <th></th>\n",
              "      <th>A1</th>\n",
              "      <th>A2</th>\n",
              "      <th>A3</th>\n",
              "      <th>A4</th>\n",
              "      <th>A5</th>\n",
              "      <th>A6</th>\n",
              "      <th>A7</th>\n",
              "      <th>A8</th>\n",
              "      <th>A9</th>\n",
              "      <th>A10</th>\n",
              "      <th>A11</th>\n",
              "      <th>A12</th>\n",
              "      <th>E1</th>\n",
              "      <th>E2</th>\n",
              "      <th>E3</th>\n",
              "      <th>E5</th>\n",
              "      <th>E6</th>\n",
              "    </tr>\n",
              "  </thead>\n",
              "  <tbody>\n",
              "    <tr>\n",
              "      <th>0</th>\n",
              "      <td>3452</td>\n",
              "      <td>3</td>\n",
              "      <td>2</td>\n",
              "      <td>3</td>\n",
              "      <td>1</td>\n",
              "      <td>2</td>\n",
              "      <td>0</td>\n",
              "      <td>1</td>\n",
              "      <td>1</td>\n",
              "      <td>0</td>\n",
              "      <td>0</td>\n",
              "      <td>2</td>\n",
              "      <td>Label D</td>\n",
              "      <td>6.916546e+09</td>\n",
              "      <td>1.512043e+09</td>\n",
              "      <td>Label D</td>\n",
              "      <td>Label B</td>\n",
              "    </tr>\n",
              "    <tr>\n",
              "      <th>1</th>\n",
              "      <td>1343</td>\n",
              "      <td>2</td>\n",
              "      <td>4</td>\n",
              "      <td>4</td>\n",
              "      <td>2</td>\n",
              "      <td>2</td>\n",
              "      <td>0</td>\n",
              "      <td>1</td>\n",
              "      <td>1</td>\n",
              "      <td>0</td>\n",
              "      <td>0</td>\n",
              "      <td>2</td>\n",
              "      <td>Label D</td>\n",
              "      <td>2.703666e+09</td>\n",
              "      <td>5.923461e+08</td>\n",
              "      <td>Label C</td>\n",
              "      <td>Label B</td>\n",
              "    </tr>\n",
              "    <tr>\n",
              "      <th>2</th>\n",
              "      <td>5623</td>\n",
              "      <td>1</td>\n",
              "      <td>1</td>\n",
              "      <td>2</td>\n",
              "      <td>3</td>\n",
              "      <td>2</td>\n",
              "      <td>0</td>\n",
              "      <td>1</td>\n",
              "      <td>1</td>\n",
              "      <td>0</td>\n",
              "      <td>0</td>\n",
              "      <td>2</td>\n",
              "      <td>Label D</td>\n",
              "      <td>1.125159e+10</td>\n",
              "      <td>2.458724e+09</td>\n",
              "      <td>Label C</td>\n",
              "      <td>Label C</td>\n",
              "    </tr>\n",
              "    <tr>\n",
              "      <th>3</th>\n",
              "      <td>6321</td>\n",
              "      <td>7</td>\n",
              "      <td>3</td>\n",
              "      <td>1</td>\n",
              "      <td>2</td>\n",
              "      <td>0</td>\n",
              "      <td>1</td>\n",
              "      <td>1</td>\n",
              "      <td>0</td>\n",
              "      <td>0</td>\n",
              "      <td>2</td>\n",
              "      <td>3</td>\n",
              "      <td>Label D</td>\n",
              "      <td>1.265835e+10</td>\n",
              "      <td>2.765082e+09</td>\n",
              "      <td>Label D</td>\n",
              "      <td>Label C</td>\n",
              "    </tr>\n",
              "    <tr>\n",
              "      <th>4</th>\n",
              "      <td>8341</td>\n",
              "      <td>3</td>\n",
              "      <td>1</td>\n",
              "      <td>1</td>\n",
              "      <td>2</td>\n",
              "      <td>0</td>\n",
              "      <td>1</td>\n",
              "      <td>1</td>\n",
              "      <td>0</td>\n",
              "      <td>0</td>\n",
              "      <td>2</td>\n",
              "      <td>1</td>\n",
              "      <td>Label D</td>\n",
              "      <td>1.668703e+10</td>\n",
              "      <td>3.644092e+09</td>\n",
              "      <td>Label D</td>\n",
              "      <td>Label C</td>\n",
              "    </tr>\n",
              "    <tr>\n",
              "      <th>5</th>\n",
              "      <td>7321</td>\n",
              "      <td>5</td>\n",
              "      <td>3</td>\n",
              "      <td>2</td>\n",
              "      <td>2</td>\n",
              "      <td>0</td>\n",
              "      <td>1</td>\n",
              "      <td>1</td>\n",
              "      <td>0</td>\n",
              "      <td>0</td>\n",
              "      <td>2</td>\n",
              "      <td>1</td>\n",
              "      <td>Label D</td>\n",
              "      <td>1.465462e+10</td>\n",
              "      <td>3.200419e+09</td>\n",
              "      <td>Label D</td>\n",
              "      <td>Label D</td>\n",
              "    </tr>\n",
              "    <tr>\n",
              "      <th>6</th>\n",
              "      <td>9531</td>\n",
              "      <td>3</td>\n",
              "      <td>4</td>\n",
              "      <td>3</td>\n",
              "      <td>2</td>\n",
              "      <td>0</td>\n",
              "      <td>1</td>\n",
              "      <td>1</td>\n",
              "      <td>0</td>\n",
              "      <td>0</td>\n",
              "      <td>2</td>\n",
              "      <td>1</td>\n",
              "      <td>Label D</td>\n",
              "      <td>1.907431e+10</td>\n",
              "      <td>4.165302e+09</td>\n",
              "      <td>Label D</td>\n",
              "      <td>Label D</td>\n",
              "    </tr>\n",
              "    <tr>\n",
              "      <th>7</th>\n",
              "      <td>3563</td>\n",
              "      <td>6</td>\n",
              "      <td>2</td>\n",
              "      <td>4</td>\n",
              "      <td>2</td>\n",
              "      <td>0</td>\n",
              "      <td>1</td>\n",
              "      <td>1</td>\n",
              "      <td>0</td>\n",
              "      <td>0</td>\n",
              "      <td>2</td>\n",
              "      <td>1</td>\n",
              "      <td>Label D</td>\n",
              "      <td>7.143299e+09</td>\n",
              "      <td>1.560387e+09</td>\n",
              "      <td>Label D</td>\n",
              "      <td>Label C</td>\n",
              "    </tr>\n",
              "    <tr>\n",
              "      <th>8</th>\n",
              "      <td>1234</td>\n",
              "      <td>2</td>\n",
              "      <td>1</td>\n",
              "      <td>1</td>\n",
              "      <td>2</td>\n",
              "      <td>0</td>\n",
              "      <td>1</td>\n",
              "      <td>1</td>\n",
              "      <td>0</td>\n",
              "      <td>0</td>\n",
              "      <td>2</td>\n",
              "      <td>3</td>\n",
              "      <td>Label D</td>\n",
              "      <td>2.479235e+09</td>\n",
              "      <td>5.424784e+08</td>\n",
              "      <td>Label C</td>\n",
              "      <td>Label C</td>\n",
              "    </tr>\n",
              "    <tr>\n",
              "      <th>9</th>\n",
              "      <td>5321</td>\n",
              "      <td>5</td>\n",
              "      <td>1</td>\n",
              "      <td>2</td>\n",
              "      <td>1</td>\n",
              "      <td>0</td>\n",
              "      <td>1</td>\n",
              "      <td>1</td>\n",
              "      <td>0</td>\n",
              "      <td>0</td>\n",
              "      <td>2</td>\n",
              "      <td>1</td>\n",
              "      <td>Label D</td>\n",
              "      <td>1.065266e+10</td>\n",
              "      <td>2.326496e+09</td>\n",
              "      <td>Label D</td>\n",
              "      <td>Label A</td>\n",
              "    </tr>\n",
              "  </tbody>\n",
              "</table>\n",
              "</div>"
            ],
            "text/plain": [
              "     A1  A2  A3  A4  A5  ...       E1            E2            E3       E5       E6\n",
              "0  3452   3   2   3   1  ...  Label D  6.916546e+09  1.512043e+09  Label D  Label B\n",
              "1  1343   2   4   4   2  ...  Label D  2.703666e+09  5.923461e+08  Label C  Label B\n",
              "2  5623   1   1   2   3  ...  Label D  1.125159e+10  2.458724e+09  Label C  Label C\n",
              "3  6321   7   3   1   2  ...  Label D  1.265835e+10  2.765082e+09  Label D  Label C\n",
              "4  8341   3   1   1   2  ...  Label D  1.668703e+10  3.644092e+09  Label D  Label C\n",
              "5  7321   5   3   2   2  ...  Label D  1.465462e+10  3.200419e+09  Label D  Label D\n",
              "6  9531   3   4   3   2  ...  Label D  1.907431e+10  4.165302e+09  Label D  Label D\n",
              "7  3563   6   2   4   2  ...  Label D  7.143299e+09  1.560387e+09  Label D  Label C\n",
              "8  1234   2   1   1   2  ...  Label D  2.479235e+09  5.424784e+08  Label C  Label C\n",
              "9  5321   5   1   2   1  ...  Label D  1.065266e+10  2.326496e+09  Label D  Label A\n",
              "\n",
              "[10 rows x 17 columns]"
            ]
          },
          "metadata": {},
          "execution_count": 67
        }
      ]
    },
    {
      "cell_type": "code",
      "metadata": {
        "colab": {
          "base_uri": "https://localhost:8080/",
          "height": 556
        },
        "id": "BFDCm3gtanKD",
        "outputId": "420ad293-74f0-4118-9bf7-7ae5614f9b3e"
      },
      "source": [
        "D2.loc[D2.E2 <= iq1, 'E2'] = 'Label A'\n",
        "D2.loc[np.logical_and(D2.E2 > iq1 , D2.E2 <= iq2), 'E2'] = 'Label B'\n",
        "D2.loc[np.logical_and(D2.E2 > iq2 , D2.E2 <= iq3), 'E2'] = 'Label C'\n",
        "D2.loc[D2.E2 >= iq3 , 'E2'] = 'Label D'\n",
        "D2"
      ],
      "execution_count": null,
      "outputs": [
        {
          "output_type": "execute_result",
          "data": {
            "text/html": [
              "<div>\n",
              "<style scoped>\n",
              "    .dataframe tbody tr th:only-of-type {\n",
              "        vertical-align: middle;\n",
              "    }\n",
              "\n",
              "    .dataframe tbody tr th {\n",
              "        vertical-align: top;\n",
              "    }\n",
              "\n",
              "    .dataframe thead th {\n",
              "        text-align: right;\n",
              "    }\n",
              "</style>\n",
              "<table border=\"1\" class=\"dataframe\">\n",
              "  <thead>\n",
              "    <tr style=\"text-align: right;\">\n",
              "      <th></th>\n",
              "      <th>A1</th>\n",
              "      <th>A2</th>\n",
              "      <th>A3</th>\n",
              "      <th>A4</th>\n",
              "      <th>A5</th>\n",
              "      <th>A6</th>\n",
              "      <th>A7</th>\n",
              "      <th>A8</th>\n",
              "      <th>A9</th>\n",
              "      <th>A10</th>\n",
              "      <th>A11</th>\n",
              "      <th>A12</th>\n",
              "      <th>E1</th>\n",
              "      <th>E2</th>\n",
              "      <th>E3</th>\n",
              "      <th>E5</th>\n",
              "      <th>E6</th>\n",
              "    </tr>\n",
              "  </thead>\n",
              "  <tbody>\n",
              "    <tr>\n",
              "      <th>0</th>\n",
              "      <td>3452</td>\n",
              "      <td>3</td>\n",
              "      <td>2</td>\n",
              "      <td>3</td>\n",
              "      <td>1</td>\n",
              "      <td>2</td>\n",
              "      <td>0</td>\n",
              "      <td>1</td>\n",
              "      <td>1</td>\n",
              "      <td>0</td>\n",
              "      <td>0</td>\n",
              "      <td>2</td>\n",
              "      <td>Label D</td>\n",
              "      <td>Label D</td>\n",
              "      <td>1.512043e+09</td>\n",
              "      <td>Label D</td>\n",
              "      <td>Label B</td>\n",
              "    </tr>\n",
              "    <tr>\n",
              "      <th>1</th>\n",
              "      <td>1343</td>\n",
              "      <td>2</td>\n",
              "      <td>4</td>\n",
              "      <td>4</td>\n",
              "      <td>2</td>\n",
              "      <td>2</td>\n",
              "      <td>0</td>\n",
              "      <td>1</td>\n",
              "      <td>1</td>\n",
              "      <td>0</td>\n",
              "      <td>0</td>\n",
              "      <td>2</td>\n",
              "      <td>Label D</td>\n",
              "      <td>Label D</td>\n",
              "      <td>5.923461e+08</td>\n",
              "      <td>Label C</td>\n",
              "      <td>Label B</td>\n",
              "    </tr>\n",
              "    <tr>\n",
              "      <th>2</th>\n",
              "      <td>5623</td>\n",
              "      <td>1</td>\n",
              "      <td>1</td>\n",
              "      <td>2</td>\n",
              "      <td>3</td>\n",
              "      <td>2</td>\n",
              "      <td>0</td>\n",
              "      <td>1</td>\n",
              "      <td>1</td>\n",
              "      <td>0</td>\n",
              "      <td>0</td>\n",
              "      <td>2</td>\n",
              "      <td>Label D</td>\n",
              "      <td>Label D</td>\n",
              "      <td>2.458724e+09</td>\n",
              "      <td>Label C</td>\n",
              "      <td>Label C</td>\n",
              "    </tr>\n",
              "    <tr>\n",
              "      <th>3</th>\n",
              "      <td>6321</td>\n",
              "      <td>7</td>\n",
              "      <td>3</td>\n",
              "      <td>1</td>\n",
              "      <td>2</td>\n",
              "      <td>0</td>\n",
              "      <td>1</td>\n",
              "      <td>1</td>\n",
              "      <td>0</td>\n",
              "      <td>0</td>\n",
              "      <td>2</td>\n",
              "      <td>3</td>\n",
              "      <td>Label D</td>\n",
              "      <td>Label D</td>\n",
              "      <td>2.765082e+09</td>\n",
              "      <td>Label D</td>\n",
              "      <td>Label C</td>\n",
              "    </tr>\n",
              "    <tr>\n",
              "      <th>4</th>\n",
              "      <td>8341</td>\n",
              "      <td>3</td>\n",
              "      <td>1</td>\n",
              "      <td>1</td>\n",
              "      <td>2</td>\n",
              "      <td>0</td>\n",
              "      <td>1</td>\n",
              "      <td>1</td>\n",
              "      <td>0</td>\n",
              "      <td>0</td>\n",
              "      <td>2</td>\n",
              "      <td>1</td>\n",
              "      <td>Label D</td>\n",
              "      <td>Label D</td>\n",
              "      <td>3.644092e+09</td>\n",
              "      <td>Label D</td>\n",
              "      <td>Label C</td>\n",
              "    </tr>\n",
              "    <tr>\n",
              "      <th>5</th>\n",
              "      <td>7321</td>\n",
              "      <td>5</td>\n",
              "      <td>3</td>\n",
              "      <td>2</td>\n",
              "      <td>2</td>\n",
              "      <td>0</td>\n",
              "      <td>1</td>\n",
              "      <td>1</td>\n",
              "      <td>0</td>\n",
              "      <td>0</td>\n",
              "      <td>2</td>\n",
              "      <td>1</td>\n",
              "      <td>Label D</td>\n",
              "      <td>Label D</td>\n",
              "      <td>3.200419e+09</td>\n",
              "      <td>Label D</td>\n",
              "      <td>Label D</td>\n",
              "    </tr>\n",
              "    <tr>\n",
              "      <th>6</th>\n",
              "      <td>9531</td>\n",
              "      <td>3</td>\n",
              "      <td>4</td>\n",
              "      <td>3</td>\n",
              "      <td>2</td>\n",
              "      <td>0</td>\n",
              "      <td>1</td>\n",
              "      <td>1</td>\n",
              "      <td>0</td>\n",
              "      <td>0</td>\n",
              "      <td>2</td>\n",
              "      <td>1</td>\n",
              "      <td>Label D</td>\n",
              "      <td>Label D</td>\n",
              "      <td>4.165302e+09</td>\n",
              "      <td>Label D</td>\n",
              "      <td>Label D</td>\n",
              "    </tr>\n",
              "    <tr>\n",
              "      <th>7</th>\n",
              "      <td>3563</td>\n",
              "      <td>6</td>\n",
              "      <td>2</td>\n",
              "      <td>4</td>\n",
              "      <td>2</td>\n",
              "      <td>0</td>\n",
              "      <td>1</td>\n",
              "      <td>1</td>\n",
              "      <td>0</td>\n",
              "      <td>0</td>\n",
              "      <td>2</td>\n",
              "      <td>1</td>\n",
              "      <td>Label D</td>\n",
              "      <td>Label D</td>\n",
              "      <td>1.560387e+09</td>\n",
              "      <td>Label D</td>\n",
              "      <td>Label C</td>\n",
              "    </tr>\n",
              "    <tr>\n",
              "      <th>8</th>\n",
              "      <td>1234</td>\n",
              "      <td>2</td>\n",
              "      <td>1</td>\n",
              "      <td>1</td>\n",
              "      <td>2</td>\n",
              "      <td>0</td>\n",
              "      <td>1</td>\n",
              "      <td>1</td>\n",
              "      <td>0</td>\n",
              "      <td>0</td>\n",
              "      <td>2</td>\n",
              "      <td>3</td>\n",
              "      <td>Label D</td>\n",
              "      <td>Label D</td>\n",
              "      <td>5.424784e+08</td>\n",
              "      <td>Label C</td>\n",
              "      <td>Label C</td>\n",
              "    </tr>\n",
              "    <tr>\n",
              "      <th>9</th>\n",
              "      <td>5321</td>\n",
              "      <td>5</td>\n",
              "      <td>1</td>\n",
              "      <td>2</td>\n",
              "      <td>1</td>\n",
              "      <td>0</td>\n",
              "      <td>1</td>\n",
              "      <td>1</td>\n",
              "      <td>0</td>\n",
              "      <td>0</td>\n",
              "      <td>2</td>\n",
              "      <td>1</td>\n",
              "      <td>Label D</td>\n",
              "      <td>Label D</td>\n",
              "      <td>2.326496e+09</td>\n",
              "      <td>Label D</td>\n",
              "      <td>Label A</td>\n",
              "    </tr>\n",
              "  </tbody>\n",
              "</table>\n",
              "</div>"
            ],
            "text/plain": [
              "     A1  A2  A3  A4  A5  ...       E1       E2            E3       E5       E6\n",
              "0  3452   3   2   3   1  ...  Label D  Label D  1.512043e+09  Label D  Label B\n",
              "1  1343   2   4   4   2  ...  Label D  Label D  5.923461e+08  Label C  Label B\n",
              "2  5623   1   1   2   3  ...  Label D  Label D  2.458724e+09  Label C  Label C\n",
              "3  6321   7   3   1   2  ...  Label D  Label D  2.765082e+09  Label D  Label C\n",
              "4  8341   3   1   1   2  ...  Label D  Label D  3.644092e+09  Label D  Label C\n",
              "5  7321   5   3   2   2  ...  Label D  Label D  3.200419e+09  Label D  Label D\n",
              "6  9531   3   4   3   2  ...  Label D  Label D  4.165302e+09  Label D  Label D\n",
              "7  3563   6   2   4   2  ...  Label D  Label D  1.560387e+09  Label D  Label C\n",
              "8  1234   2   1   1   2  ...  Label D  Label D  5.424784e+08  Label C  Label C\n",
              "9  5321   5   1   2   1  ...  Label D  Label D  2.326496e+09  Label D  Label A\n",
              "\n",
              "[10 rows x 17 columns]"
            ]
          },
          "metadata": {},
          "execution_count": 68
        }
      ]
    },
    {
      "cell_type": "code",
      "metadata": {
        "colab": {
          "base_uri": "https://localhost:8080/",
          "height": 556
        },
        "id": "Uk9Czl_4bdkT",
        "outputId": "1fbbdb1b-0aa6-4af5-af59-db81cb2841fe"
      },
      "source": [
        "D2.loc[D2.E3 <= iq1, 'E3'] = 'Label A'\n",
        "D2.loc[np.logical_and(D2.E3 > iq1 , D2.E3 <= iq2), 'E3'] = 'Label B'\n",
        "D2.loc[np.logical_and(D2.E3 > iq2 , D2.E3 <= iq3), 'E3'] = 'Label C'\n",
        "D2.loc[D2.E3 >= iq3 , 'E3'] = 'Label D'\n",
        "D2"
      ],
      "execution_count": null,
      "outputs": [
        {
          "output_type": "execute_result",
          "data": {
            "text/html": [
              "<div>\n",
              "<style scoped>\n",
              "    .dataframe tbody tr th:only-of-type {\n",
              "        vertical-align: middle;\n",
              "    }\n",
              "\n",
              "    .dataframe tbody tr th {\n",
              "        vertical-align: top;\n",
              "    }\n",
              "\n",
              "    .dataframe thead th {\n",
              "        text-align: right;\n",
              "    }\n",
              "</style>\n",
              "<table border=\"1\" class=\"dataframe\">\n",
              "  <thead>\n",
              "    <tr style=\"text-align: right;\">\n",
              "      <th></th>\n",
              "      <th>A1</th>\n",
              "      <th>A2</th>\n",
              "      <th>A3</th>\n",
              "      <th>A4</th>\n",
              "      <th>A5</th>\n",
              "      <th>A6</th>\n",
              "      <th>A7</th>\n",
              "      <th>A8</th>\n",
              "      <th>A9</th>\n",
              "      <th>A10</th>\n",
              "      <th>A11</th>\n",
              "      <th>A12</th>\n",
              "      <th>E1</th>\n",
              "      <th>E2</th>\n",
              "      <th>E3</th>\n",
              "      <th>E5</th>\n",
              "      <th>E6</th>\n",
              "    </tr>\n",
              "  </thead>\n",
              "  <tbody>\n",
              "    <tr>\n",
              "      <th>0</th>\n",
              "      <td>3452</td>\n",
              "      <td>3</td>\n",
              "      <td>2</td>\n",
              "      <td>3</td>\n",
              "      <td>1</td>\n",
              "      <td>2</td>\n",
              "      <td>0</td>\n",
              "      <td>1</td>\n",
              "      <td>1</td>\n",
              "      <td>0</td>\n",
              "      <td>0</td>\n",
              "      <td>2</td>\n",
              "      <td>Label D</td>\n",
              "      <td>Label D</td>\n",
              "      <td>Label D</td>\n",
              "      <td>Label D</td>\n",
              "      <td>Label B</td>\n",
              "    </tr>\n",
              "    <tr>\n",
              "      <th>1</th>\n",
              "      <td>1343</td>\n",
              "      <td>2</td>\n",
              "      <td>4</td>\n",
              "      <td>4</td>\n",
              "      <td>2</td>\n",
              "      <td>2</td>\n",
              "      <td>0</td>\n",
              "      <td>1</td>\n",
              "      <td>1</td>\n",
              "      <td>0</td>\n",
              "      <td>0</td>\n",
              "      <td>2</td>\n",
              "      <td>Label D</td>\n",
              "      <td>Label D</td>\n",
              "      <td>Label D</td>\n",
              "      <td>Label C</td>\n",
              "      <td>Label B</td>\n",
              "    </tr>\n",
              "    <tr>\n",
              "      <th>2</th>\n",
              "      <td>5623</td>\n",
              "      <td>1</td>\n",
              "      <td>1</td>\n",
              "      <td>2</td>\n",
              "      <td>3</td>\n",
              "      <td>2</td>\n",
              "      <td>0</td>\n",
              "      <td>1</td>\n",
              "      <td>1</td>\n",
              "      <td>0</td>\n",
              "      <td>0</td>\n",
              "      <td>2</td>\n",
              "      <td>Label D</td>\n",
              "      <td>Label D</td>\n",
              "      <td>Label D</td>\n",
              "      <td>Label C</td>\n",
              "      <td>Label C</td>\n",
              "    </tr>\n",
              "    <tr>\n",
              "      <th>3</th>\n",
              "      <td>6321</td>\n",
              "      <td>7</td>\n",
              "      <td>3</td>\n",
              "      <td>1</td>\n",
              "      <td>2</td>\n",
              "      <td>0</td>\n",
              "      <td>1</td>\n",
              "      <td>1</td>\n",
              "      <td>0</td>\n",
              "      <td>0</td>\n",
              "      <td>2</td>\n",
              "      <td>3</td>\n",
              "      <td>Label D</td>\n",
              "      <td>Label D</td>\n",
              "      <td>Label D</td>\n",
              "      <td>Label D</td>\n",
              "      <td>Label C</td>\n",
              "    </tr>\n",
              "    <tr>\n",
              "      <th>4</th>\n",
              "      <td>8341</td>\n",
              "      <td>3</td>\n",
              "      <td>1</td>\n",
              "      <td>1</td>\n",
              "      <td>2</td>\n",
              "      <td>0</td>\n",
              "      <td>1</td>\n",
              "      <td>1</td>\n",
              "      <td>0</td>\n",
              "      <td>0</td>\n",
              "      <td>2</td>\n",
              "      <td>1</td>\n",
              "      <td>Label D</td>\n",
              "      <td>Label D</td>\n",
              "      <td>Label D</td>\n",
              "      <td>Label D</td>\n",
              "      <td>Label C</td>\n",
              "    </tr>\n",
              "    <tr>\n",
              "      <th>5</th>\n",
              "      <td>7321</td>\n",
              "      <td>5</td>\n",
              "      <td>3</td>\n",
              "      <td>2</td>\n",
              "      <td>2</td>\n",
              "      <td>0</td>\n",
              "      <td>1</td>\n",
              "      <td>1</td>\n",
              "      <td>0</td>\n",
              "      <td>0</td>\n",
              "      <td>2</td>\n",
              "      <td>1</td>\n",
              "      <td>Label D</td>\n",
              "      <td>Label D</td>\n",
              "      <td>Label D</td>\n",
              "      <td>Label D</td>\n",
              "      <td>Label D</td>\n",
              "    </tr>\n",
              "    <tr>\n",
              "      <th>6</th>\n",
              "      <td>9531</td>\n",
              "      <td>3</td>\n",
              "      <td>4</td>\n",
              "      <td>3</td>\n",
              "      <td>2</td>\n",
              "      <td>0</td>\n",
              "      <td>1</td>\n",
              "      <td>1</td>\n",
              "      <td>0</td>\n",
              "      <td>0</td>\n",
              "      <td>2</td>\n",
              "      <td>1</td>\n",
              "      <td>Label D</td>\n",
              "      <td>Label D</td>\n",
              "      <td>Label D</td>\n",
              "      <td>Label D</td>\n",
              "      <td>Label D</td>\n",
              "    </tr>\n",
              "    <tr>\n",
              "      <th>7</th>\n",
              "      <td>3563</td>\n",
              "      <td>6</td>\n",
              "      <td>2</td>\n",
              "      <td>4</td>\n",
              "      <td>2</td>\n",
              "      <td>0</td>\n",
              "      <td>1</td>\n",
              "      <td>1</td>\n",
              "      <td>0</td>\n",
              "      <td>0</td>\n",
              "      <td>2</td>\n",
              "      <td>1</td>\n",
              "      <td>Label D</td>\n",
              "      <td>Label D</td>\n",
              "      <td>Label D</td>\n",
              "      <td>Label D</td>\n",
              "      <td>Label C</td>\n",
              "    </tr>\n",
              "    <tr>\n",
              "      <th>8</th>\n",
              "      <td>1234</td>\n",
              "      <td>2</td>\n",
              "      <td>1</td>\n",
              "      <td>1</td>\n",
              "      <td>2</td>\n",
              "      <td>0</td>\n",
              "      <td>1</td>\n",
              "      <td>1</td>\n",
              "      <td>0</td>\n",
              "      <td>0</td>\n",
              "      <td>2</td>\n",
              "      <td>3</td>\n",
              "      <td>Label D</td>\n",
              "      <td>Label D</td>\n",
              "      <td>Label D</td>\n",
              "      <td>Label C</td>\n",
              "      <td>Label C</td>\n",
              "    </tr>\n",
              "    <tr>\n",
              "      <th>9</th>\n",
              "      <td>5321</td>\n",
              "      <td>5</td>\n",
              "      <td>1</td>\n",
              "      <td>2</td>\n",
              "      <td>1</td>\n",
              "      <td>0</td>\n",
              "      <td>1</td>\n",
              "      <td>1</td>\n",
              "      <td>0</td>\n",
              "      <td>0</td>\n",
              "      <td>2</td>\n",
              "      <td>1</td>\n",
              "      <td>Label D</td>\n",
              "      <td>Label D</td>\n",
              "      <td>Label D</td>\n",
              "      <td>Label D</td>\n",
              "      <td>Label A</td>\n",
              "    </tr>\n",
              "  </tbody>\n",
              "</table>\n",
              "</div>"
            ],
            "text/plain": [
              "     A1  A2  A3  A4  A5  A6  ...  A12       E1       E2       E3       E5       E6\n",
              "0  3452   3   2   3   1   2  ...    2  Label D  Label D  Label D  Label D  Label B\n",
              "1  1343   2   4   4   2   2  ...    2  Label D  Label D  Label D  Label C  Label B\n",
              "2  5623   1   1   2   3   2  ...    2  Label D  Label D  Label D  Label C  Label C\n",
              "3  6321   7   3   1   2   0  ...    3  Label D  Label D  Label D  Label D  Label C\n",
              "4  8341   3   1   1   2   0  ...    1  Label D  Label D  Label D  Label D  Label C\n",
              "5  7321   5   3   2   2   0  ...    1  Label D  Label D  Label D  Label D  Label D\n",
              "6  9531   3   4   3   2   0  ...    1  Label D  Label D  Label D  Label D  Label D\n",
              "7  3563   6   2   4   2   0  ...    1  Label D  Label D  Label D  Label D  Label C\n",
              "8  1234   2   1   1   2   0  ...    3  Label D  Label D  Label D  Label C  Label C\n",
              "9  5321   5   1   2   1   0  ...    1  Label D  Label D  Label D  Label D  Label A\n",
              "\n",
              "[10 rows x 17 columns]"
            ]
          },
          "metadata": {},
          "execution_count": 69
        }
      ]
    },
    {
      "cell_type": "code",
      "metadata": {
        "colab": {
          "base_uri": "https://localhost:8080/",
          "height": 556
        },
        "id": "ynWWOKHlbeMW",
        "outputId": "afc6c4c6-2050-46b6-95f6-5901bd01482a"
      },
      "source": [
        "D2"
      ],
      "execution_count": null,
      "outputs": [
        {
          "output_type": "execute_result",
          "data": {
            "text/html": [
              "<div>\n",
              "<style scoped>\n",
              "    .dataframe tbody tr th:only-of-type {\n",
              "        vertical-align: middle;\n",
              "    }\n",
              "\n",
              "    .dataframe tbody tr th {\n",
              "        vertical-align: top;\n",
              "    }\n",
              "\n",
              "    .dataframe thead th {\n",
              "        text-align: right;\n",
              "    }\n",
              "</style>\n",
              "<table border=\"1\" class=\"dataframe\">\n",
              "  <thead>\n",
              "    <tr style=\"text-align: right;\">\n",
              "      <th></th>\n",
              "      <th>A1</th>\n",
              "      <th>A2</th>\n",
              "      <th>A3</th>\n",
              "      <th>A4</th>\n",
              "      <th>A5</th>\n",
              "      <th>A6</th>\n",
              "      <th>A7</th>\n",
              "      <th>A8</th>\n",
              "      <th>A9</th>\n",
              "      <th>A10</th>\n",
              "      <th>A11</th>\n",
              "      <th>A12</th>\n",
              "      <th>E1</th>\n",
              "      <th>E2</th>\n",
              "      <th>E3</th>\n",
              "      <th>E5</th>\n",
              "      <th>E6</th>\n",
              "    </tr>\n",
              "  </thead>\n",
              "  <tbody>\n",
              "    <tr>\n",
              "      <th>0</th>\n",
              "      <td>3452</td>\n",
              "      <td>3</td>\n",
              "      <td>2</td>\n",
              "      <td>3</td>\n",
              "      <td>1</td>\n",
              "      <td>2</td>\n",
              "      <td>0</td>\n",
              "      <td>1</td>\n",
              "      <td>1</td>\n",
              "      <td>0</td>\n",
              "      <td>0</td>\n",
              "      <td>2</td>\n",
              "      <td>Label D</td>\n",
              "      <td>Label D</td>\n",
              "      <td>Label D</td>\n",
              "      <td>Label D</td>\n",
              "      <td>Label B</td>\n",
              "    </tr>\n",
              "    <tr>\n",
              "      <th>1</th>\n",
              "      <td>1343</td>\n",
              "      <td>2</td>\n",
              "      <td>4</td>\n",
              "      <td>4</td>\n",
              "      <td>2</td>\n",
              "      <td>2</td>\n",
              "      <td>0</td>\n",
              "      <td>1</td>\n",
              "      <td>1</td>\n",
              "      <td>0</td>\n",
              "      <td>0</td>\n",
              "      <td>2</td>\n",
              "      <td>Label D</td>\n",
              "      <td>Label D</td>\n",
              "      <td>Label D</td>\n",
              "      <td>Label C</td>\n",
              "      <td>Label B</td>\n",
              "    </tr>\n",
              "    <tr>\n",
              "      <th>2</th>\n",
              "      <td>5623</td>\n",
              "      <td>1</td>\n",
              "      <td>1</td>\n",
              "      <td>2</td>\n",
              "      <td>3</td>\n",
              "      <td>2</td>\n",
              "      <td>0</td>\n",
              "      <td>1</td>\n",
              "      <td>1</td>\n",
              "      <td>0</td>\n",
              "      <td>0</td>\n",
              "      <td>2</td>\n",
              "      <td>Label D</td>\n",
              "      <td>Label D</td>\n",
              "      <td>Label D</td>\n",
              "      <td>Label C</td>\n",
              "      <td>Label C</td>\n",
              "    </tr>\n",
              "    <tr>\n",
              "      <th>3</th>\n",
              "      <td>6321</td>\n",
              "      <td>7</td>\n",
              "      <td>3</td>\n",
              "      <td>1</td>\n",
              "      <td>2</td>\n",
              "      <td>0</td>\n",
              "      <td>1</td>\n",
              "      <td>1</td>\n",
              "      <td>0</td>\n",
              "      <td>0</td>\n",
              "      <td>2</td>\n",
              "      <td>3</td>\n",
              "      <td>Label D</td>\n",
              "      <td>Label D</td>\n",
              "      <td>Label D</td>\n",
              "      <td>Label D</td>\n",
              "      <td>Label C</td>\n",
              "    </tr>\n",
              "    <tr>\n",
              "      <th>4</th>\n",
              "      <td>8341</td>\n",
              "      <td>3</td>\n",
              "      <td>1</td>\n",
              "      <td>1</td>\n",
              "      <td>2</td>\n",
              "      <td>0</td>\n",
              "      <td>1</td>\n",
              "      <td>1</td>\n",
              "      <td>0</td>\n",
              "      <td>0</td>\n",
              "      <td>2</td>\n",
              "      <td>1</td>\n",
              "      <td>Label D</td>\n",
              "      <td>Label D</td>\n",
              "      <td>Label D</td>\n",
              "      <td>Label D</td>\n",
              "      <td>Label C</td>\n",
              "    </tr>\n",
              "    <tr>\n",
              "      <th>5</th>\n",
              "      <td>7321</td>\n",
              "      <td>5</td>\n",
              "      <td>3</td>\n",
              "      <td>2</td>\n",
              "      <td>2</td>\n",
              "      <td>0</td>\n",
              "      <td>1</td>\n",
              "      <td>1</td>\n",
              "      <td>0</td>\n",
              "      <td>0</td>\n",
              "      <td>2</td>\n",
              "      <td>1</td>\n",
              "      <td>Label D</td>\n",
              "      <td>Label D</td>\n",
              "      <td>Label D</td>\n",
              "      <td>Label D</td>\n",
              "      <td>Label D</td>\n",
              "    </tr>\n",
              "    <tr>\n",
              "      <th>6</th>\n",
              "      <td>9531</td>\n",
              "      <td>3</td>\n",
              "      <td>4</td>\n",
              "      <td>3</td>\n",
              "      <td>2</td>\n",
              "      <td>0</td>\n",
              "      <td>1</td>\n",
              "      <td>1</td>\n",
              "      <td>0</td>\n",
              "      <td>0</td>\n",
              "      <td>2</td>\n",
              "      <td>1</td>\n",
              "      <td>Label D</td>\n",
              "      <td>Label D</td>\n",
              "      <td>Label D</td>\n",
              "      <td>Label D</td>\n",
              "      <td>Label D</td>\n",
              "    </tr>\n",
              "    <tr>\n",
              "      <th>7</th>\n",
              "      <td>3563</td>\n",
              "      <td>6</td>\n",
              "      <td>2</td>\n",
              "      <td>4</td>\n",
              "      <td>2</td>\n",
              "      <td>0</td>\n",
              "      <td>1</td>\n",
              "      <td>1</td>\n",
              "      <td>0</td>\n",
              "      <td>0</td>\n",
              "      <td>2</td>\n",
              "      <td>1</td>\n",
              "      <td>Label D</td>\n",
              "      <td>Label D</td>\n",
              "      <td>Label D</td>\n",
              "      <td>Label D</td>\n",
              "      <td>Label C</td>\n",
              "    </tr>\n",
              "    <tr>\n",
              "      <th>8</th>\n",
              "      <td>1234</td>\n",
              "      <td>2</td>\n",
              "      <td>1</td>\n",
              "      <td>1</td>\n",
              "      <td>2</td>\n",
              "      <td>0</td>\n",
              "      <td>1</td>\n",
              "      <td>1</td>\n",
              "      <td>0</td>\n",
              "      <td>0</td>\n",
              "      <td>2</td>\n",
              "      <td>3</td>\n",
              "      <td>Label D</td>\n",
              "      <td>Label D</td>\n",
              "      <td>Label D</td>\n",
              "      <td>Label C</td>\n",
              "      <td>Label C</td>\n",
              "    </tr>\n",
              "    <tr>\n",
              "      <th>9</th>\n",
              "      <td>5321</td>\n",
              "      <td>5</td>\n",
              "      <td>1</td>\n",
              "      <td>2</td>\n",
              "      <td>1</td>\n",
              "      <td>0</td>\n",
              "      <td>1</td>\n",
              "      <td>1</td>\n",
              "      <td>0</td>\n",
              "      <td>0</td>\n",
              "      <td>2</td>\n",
              "      <td>1</td>\n",
              "      <td>Label D</td>\n",
              "      <td>Label D</td>\n",
              "      <td>Label D</td>\n",
              "      <td>Label D</td>\n",
              "      <td>Label A</td>\n",
              "    </tr>\n",
              "  </tbody>\n",
              "</table>\n",
              "</div>"
            ],
            "text/plain": [
              "     A1  A2  A3  A4  A5  A6  ...  A12       E1       E2       E3       E5       E6\n",
              "0  3452   3   2   3   1   2  ...    2  Label D  Label D  Label D  Label D  Label B\n",
              "1  1343   2   4   4   2   2  ...    2  Label D  Label D  Label D  Label C  Label B\n",
              "2  5623   1   1   2   3   2  ...    2  Label D  Label D  Label D  Label C  Label C\n",
              "3  6321   7   3   1   2   0  ...    3  Label D  Label D  Label D  Label D  Label C\n",
              "4  8341   3   1   1   2   0  ...    1  Label D  Label D  Label D  Label D  Label C\n",
              "5  7321   5   3   2   2   0  ...    1  Label D  Label D  Label D  Label D  Label D\n",
              "6  9531   3   4   3   2   0  ...    1  Label D  Label D  Label D  Label D  Label D\n",
              "7  3563   6   2   4   2   0  ...    1  Label D  Label D  Label D  Label D  Label C\n",
              "8  1234   2   1   1   2   0  ...    3  Label D  Label D  Label D  Label C  Label C\n",
              "9  5321   5   1   2   1   0  ...    1  Label D  Label D  Label D  Label D  Label A\n",
              "\n",
              "[10 rows x 17 columns]"
            ]
          },
          "metadata": {},
          "execution_count": 70
        }
      ]
    },
    {
      "cell_type": "markdown",
      "metadata": {
        "id": "jq811RyncvfN"
      },
      "source": [
        "## 3. Inferences\n",
        "\n",
        "#### 1. Of the three regression learning models (in E1, E2, E3), which model is learning well with the dataset D."
      ]
    },
    {
      "cell_type": "markdown",
      "metadata": {
        "id": "nfIawRGzcyyX"
      },
      "source": [
        "-> Out of the three E1: 1099654.147, E2: 1487844.978, E3: 3365186.269\n",
        "Therefore, we can infer that E3 has the best performance out of the three. So, Mini-Batch Gradient Descent trained the best. "
      ]
    },
    {
      "cell_type": "markdown",
      "metadata": {
        "id": "ZgVLZTl5b4qI"
      },
      "source": [
        "#### 2. Of the two classification learning models (in E5,E6), which model performs better.\n"
      ]
    },
    {
      "cell_type": "markdown",
      "metadata": {
        "id": "t_mCKfPqc4df"
      },
      "source": [
        "-> Model Score: E5: 0.3133, E6: 0.5533\n",
        "Clearly we can infer that E6 has a higher score so tree based non-parametric learning model learns better."
      ]
    },
    {
      "cell_type": "markdown",
      "metadata": {
        "id": "TouL1KQpc43m"
      },
      "source": [
        "#### 3.For each of the ten data points in D2 (10 rows of D2), compute mode ( a statistical measure which returns the value that appears maximum number of times ) of the labels in the last five columns and print that ’mode’ as the new class of your input for that row. You will be adding one new column to D2 and print the computed ’mode’ in the new column for all the 10 inputs."
      ]
    },
    {
      "cell_type": "code",
      "metadata": {
        "id": "iilD71u0jyFe"
      },
      "source": [
        "import statistics"
      ],
      "execution_count": null,
      "outputs": []
    },
    {
      "cell_type": "code",
      "metadata": {
        "id": "SEa3awSSj5em"
      },
      "source": [
        "D2[\"Mode\"] = 0"
      ],
      "execution_count": null,
      "outputs": []
    },
    {
      "cell_type": "code",
      "metadata": {
        "id": "HToXHIltdD_5"
      },
      "source": [
        "for index, row in D2.iterrows():\n",
        "  D2['Mode'] = statistics.mode([row['E1'],row['E2'],row['E3'],row['E5'],row['E6']])"
      ],
      "execution_count": null,
      "outputs": []
    },
    {
      "cell_type": "code",
      "metadata": {
        "colab": {
          "base_uri": "https://localhost:8080/",
          "height": 556
        },
        "id": "Av5dpbV5jKoE",
        "outputId": "a4dca39e-28e7-431a-9783-b0fa18cd3b30"
      },
      "source": [
        "D2"
      ],
      "execution_count": null,
      "outputs": [
        {
          "output_type": "execute_result",
          "data": {
            "text/html": [
              "<div>\n",
              "<style scoped>\n",
              "    .dataframe tbody tr th:only-of-type {\n",
              "        vertical-align: middle;\n",
              "    }\n",
              "\n",
              "    .dataframe tbody tr th {\n",
              "        vertical-align: top;\n",
              "    }\n",
              "\n",
              "    .dataframe thead th {\n",
              "        text-align: right;\n",
              "    }\n",
              "</style>\n",
              "<table border=\"1\" class=\"dataframe\">\n",
              "  <thead>\n",
              "    <tr style=\"text-align: right;\">\n",
              "      <th></th>\n",
              "      <th>A1</th>\n",
              "      <th>A2</th>\n",
              "      <th>A3</th>\n",
              "      <th>A4</th>\n",
              "      <th>A5</th>\n",
              "      <th>A6</th>\n",
              "      <th>A7</th>\n",
              "      <th>A8</th>\n",
              "      <th>A9</th>\n",
              "      <th>A10</th>\n",
              "      <th>A11</th>\n",
              "      <th>A12</th>\n",
              "      <th>E1</th>\n",
              "      <th>E2</th>\n",
              "      <th>E3</th>\n",
              "      <th>E5</th>\n",
              "      <th>E6</th>\n",
              "      <th>Mode</th>\n",
              "    </tr>\n",
              "  </thead>\n",
              "  <tbody>\n",
              "    <tr>\n",
              "      <th>0</th>\n",
              "      <td>3452</td>\n",
              "      <td>3</td>\n",
              "      <td>2</td>\n",
              "      <td>3</td>\n",
              "      <td>1</td>\n",
              "      <td>2</td>\n",
              "      <td>0</td>\n",
              "      <td>1</td>\n",
              "      <td>1</td>\n",
              "      <td>0</td>\n",
              "      <td>0</td>\n",
              "      <td>2</td>\n",
              "      <td>Label D</td>\n",
              "      <td>Label D</td>\n",
              "      <td>Label D</td>\n",
              "      <td>Label D</td>\n",
              "      <td>Label B</td>\n",
              "      <td>Label D</td>\n",
              "    </tr>\n",
              "    <tr>\n",
              "      <th>1</th>\n",
              "      <td>1343</td>\n",
              "      <td>2</td>\n",
              "      <td>4</td>\n",
              "      <td>4</td>\n",
              "      <td>2</td>\n",
              "      <td>2</td>\n",
              "      <td>0</td>\n",
              "      <td>1</td>\n",
              "      <td>1</td>\n",
              "      <td>0</td>\n",
              "      <td>0</td>\n",
              "      <td>2</td>\n",
              "      <td>Label D</td>\n",
              "      <td>Label D</td>\n",
              "      <td>Label D</td>\n",
              "      <td>Label C</td>\n",
              "      <td>Label B</td>\n",
              "      <td>Label D</td>\n",
              "    </tr>\n",
              "    <tr>\n",
              "      <th>2</th>\n",
              "      <td>5623</td>\n",
              "      <td>1</td>\n",
              "      <td>1</td>\n",
              "      <td>2</td>\n",
              "      <td>3</td>\n",
              "      <td>2</td>\n",
              "      <td>0</td>\n",
              "      <td>1</td>\n",
              "      <td>1</td>\n",
              "      <td>0</td>\n",
              "      <td>0</td>\n",
              "      <td>2</td>\n",
              "      <td>Label D</td>\n",
              "      <td>Label D</td>\n",
              "      <td>Label D</td>\n",
              "      <td>Label C</td>\n",
              "      <td>Label C</td>\n",
              "      <td>Label D</td>\n",
              "    </tr>\n",
              "    <tr>\n",
              "      <th>3</th>\n",
              "      <td>6321</td>\n",
              "      <td>7</td>\n",
              "      <td>3</td>\n",
              "      <td>1</td>\n",
              "      <td>2</td>\n",
              "      <td>0</td>\n",
              "      <td>1</td>\n",
              "      <td>1</td>\n",
              "      <td>0</td>\n",
              "      <td>0</td>\n",
              "      <td>2</td>\n",
              "      <td>3</td>\n",
              "      <td>Label D</td>\n",
              "      <td>Label D</td>\n",
              "      <td>Label D</td>\n",
              "      <td>Label D</td>\n",
              "      <td>Label C</td>\n",
              "      <td>Label D</td>\n",
              "    </tr>\n",
              "    <tr>\n",
              "      <th>4</th>\n",
              "      <td>8341</td>\n",
              "      <td>3</td>\n",
              "      <td>1</td>\n",
              "      <td>1</td>\n",
              "      <td>2</td>\n",
              "      <td>0</td>\n",
              "      <td>1</td>\n",
              "      <td>1</td>\n",
              "      <td>0</td>\n",
              "      <td>0</td>\n",
              "      <td>2</td>\n",
              "      <td>1</td>\n",
              "      <td>Label D</td>\n",
              "      <td>Label D</td>\n",
              "      <td>Label D</td>\n",
              "      <td>Label D</td>\n",
              "      <td>Label C</td>\n",
              "      <td>Label D</td>\n",
              "    </tr>\n",
              "    <tr>\n",
              "      <th>5</th>\n",
              "      <td>7321</td>\n",
              "      <td>5</td>\n",
              "      <td>3</td>\n",
              "      <td>2</td>\n",
              "      <td>2</td>\n",
              "      <td>0</td>\n",
              "      <td>1</td>\n",
              "      <td>1</td>\n",
              "      <td>0</td>\n",
              "      <td>0</td>\n",
              "      <td>2</td>\n",
              "      <td>1</td>\n",
              "      <td>Label D</td>\n",
              "      <td>Label D</td>\n",
              "      <td>Label D</td>\n",
              "      <td>Label D</td>\n",
              "      <td>Label D</td>\n",
              "      <td>Label D</td>\n",
              "    </tr>\n",
              "    <tr>\n",
              "      <th>6</th>\n",
              "      <td>9531</td>\n",
              "      <td>3</td>\n",
              "      <td>4</td>\n",
              "      <td>3</td>\n",
              "      <td>2</td>\n",
              "      <td>0</td>\n",
              "      <td>1</td>\n",
              "      <td>1</td>\n",
              "      <td>0</td>\n",
              "      <td>0</td>\n",
              "      <td>2</td>\n",
              "      <td>1</td>\n",
              "      <td>Label D</td>\n",
              "      <td>Label D</td>\n",
              "      <td>Label D</td>\n",
              "      <td>Label D</td>\n",
              "      <td>Label D</td>\n",
              "      <td>Label D</td>\n",
              "    </tr>\n",
              "    <tr>\n",
              "      <th>7</th>\n",
              "      <td>3563</td>\n",
              "      <td>6</td>\n",
              "      <td>2</td>\n",
              "      <td>4</td>\n",
              "      <td>2</td>\n",
              "      <td>0</td>\n",
              "      <td>1</td>\n",
              "      <td>1</td>\n",
              "      <td>0</td>\n",
              "      <td>0</td>\n",
              "      <td>2</td>\n",
              "      <td>1</td>\n",
              "      <td>Label D</td>\n",
              "      <td>Label D</td>\n",
              "      <td>Label D</td>\n",
              "      <td>Label D</td>\n",
              "      <td>Label C</td>\n",
              "      <td>Label D</td>\n",
              "    </tr>\n",
              "    <tr>\n",
              "      <th>8</th>\n",
              "      <td>1234</td>\n",
              "      <td>2</td>\n",
              "      <td>1</td>\n",
              "      <td>1</td>\n",
              "      <td>2</td>\n",
              "      <td>0</td>\n",
              "      <td>1</td>\n",
              "      <td>1</td>\n",
              "      <td>0</td>\n",
              "      <td>0</td>\n",
              "      <td>2</td>\n",
              "      <td>3</td>\n",
              "      <td>Label D</td>\n",
              "      <td>Label D</td>\n",
              "      <td>Label D</td>\n",
              "      <td>Label C</td>\n",
              "      <td>Label C</td>\n",
              "      <td>Label D</td>\n",
              "    </tr>\n",
              "    <tr>\n",
              "      <th>9</th>\n",
              "      <td>5321</td>\n",
              "      <td>5</td>\n",
              "      <td>1</td>\n",
              "      <td>2</td>\n",
              "      <td>1</td>\n",
              "      <td>0</td>\n",
              "      <td>1</td>\n",
              "      <td>1</td>\n",
              "      <td>0</td>\n",
              "      <td>0</td>\n",
              "      <td>2</td>\n",
              "      <td>1</td>\n",
              "      <td>Label D</td>\n",
              "      <td>Label D</td>\n",
              "      <td>Label D</td>\n",
              "      <td>Label D</td>\n",
              "      <td>Label A</td>\n",
              "      <td>Label D</td>\n",
              "    </tr>\n",
              "  </tbody>\n",
              "</table>\n",
              "</div>"
            ],
            "text/plain": [
              "     A1  A2  A3  A4  A5  ...       E2       E3       E5       E6     Mode\n",
              "0  3452   3   2   3   1  ...  Label D  Label D  Label D  Label B  Label D\n",
              "1  1343   2   4   4   2  ...  Label D  Label D  Label C  Label B  Label D\n",
              "2  5623   1   1   2   3  ...  Label D  Label D  Label C  Label C  Label D\n",
              "3  6321   7   3   1   2  ...  Label D  Label D  Label D  Label C  Label D\n",
              "4  8341   3   1   1   2  ...  Label D  Label D  Label D  Label C  Label D\n",
              "5  7321   5   3   2   2  ...  Label D  Label D  Label D  Label D  Label D\n",
              "6  9531   3   4   3   2  ...  Label D  Label D  Label D  Label D  Label D\n",
              "7  3563   6   2   4   2  ...  Label D  Label D  Label D  Label C  Label D\n",
              "8  1234   2   1   1   2  ...  Label D  Label D  Label C  Label C  Label D\n",
              "9  5321   5   1   2   1  ...  Label D  Label D  Label D  Label A  Label D\n",
              "\n",
              "[10 rows x 18 columns]"
            ]
          },
          "metadata": {},
          "execution_count": 74
        }
      ]
    }
  ]
}