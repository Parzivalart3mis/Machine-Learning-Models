{
  "nbformat": 4,
  "nbformat_minor": 0,
  "metadata": {
    "colab": {
      "name": "19BCE1097_PAT3_CSE4020.ipynb",
      "provenance": [],
      "collapsed_sections": []
    },
    "kernelspec": {
      "name": "python3",
      "display_name": "Python 3"
    },
    "language_info": {
      "name": "python"
    }
  },
  "cells": [
    {
      "cell_type": "markdown",
      "metadata": {
        "id": "qfHkFayISrTa"
      },
      "source": [
        "Code of Academic Integrity\n",
        "* I affirm that\n",
        "* This work is my own original work and is not a borrowed work,\n",
        "\n",
        "*   This work is my own original work and is not a borrowed work, either from other students or from assignments for other courses.\n",
        "\n",
        "*   I have not given or received any unauthorized help on this as\u0002signment.\n",
        "\n",
        "*   This submission is free from Plagiarism, Fabrication of facts, Unauthorized assistance, collusion\n",
        "\n",
        "*   This submission gives proper credit to sources and references, acknowledges the contributions and ideas of others relevant to this academic work.\n",
        "\n",
        "*   This submission was prepared by me fully adhering to the rules that govern this assignment regarding resource material, elec\u0002tronic aids, copying, collaborating with others, or engaging in any other behavior that subverts the purpose of the assignment and the directions of the teacher.\n",
        "\n"
      ]
    },
    {
      "cell_type": "code",
      "metadata": {
        "colab": {
          "base_uri": "https://localhost:8080/"
        },
        "id": "-9QW0Jl9geQN",
        "outputId": "4e245da1-7184-47c2-c214-9368d0638d1c"
      },
      "source": [
        "from google.colab import drive\n",
        "drive.mount('/content/drive')"
      ],
      "execution_count": null,
      "outputs": [
        {
          "output_type": "stream",
          "name": "stdout",
          "text": [
            "Drive already mounted at /content/drive; to attempt to forcibly remount, call drive.mount(\"/content/drive\", force_remount=True).\n"
          ]
        }
      ]
    },
    {
      "cell_type": "markdown",
      "metadata": {
        "id": "sOoYPBEQWlJd"
      },
      "source": [
        "# **PAT 3**\n",
        "\n",
        "\n",
        "### Question"
      ]
    },
    {
      "cell_type": "code",
      "metadata": {
        "id": "K-YrgjYbM6sD"
      },
      "source": [
        "import numpy as np\n",
        "import pandas as pd\n",
        "import matplotlib.pyplot as plt\n",
        "from sklearn.impute import SimpleImputer\n",
        "import seaborn as sns\n",
        "import random\n",
        "from sklearn.model_selection import train_test_split\n",
        "from sklearn.datasets import make_regression\n",
        "from sklearn.model_selection import cross_val_score"
      ],
      "execution_count": null,
      "outputs": []
    },
    {
      "cell_type": "code",
      "metadata": {
        "id": "zWNb08cKM9pz"
      },
      "source": [
        "import warnings\n",
        "warnings.filterwarnings(\"ignore\")\n",
        "from sklearn.datasets import make_classification\n",
        "from imblearn.over_sampling import SMOTE\n",
        "from sklearn.preprocessing import MinMaxScaler\n",
        "from sklearn.metrics import confusion_matrix, classification_report\n",
        "from sklearn.preprocessing import StandardScaler, Normalizer\n",
        "from sklearn.preprocessing import LabelEncoder\n",
        "from sklearn.metrics import r2_score, mean_squared_error\n",
        "from sklearn.neighbors import NearestCentroid"
      ],
      "execution_count": null,
      "outputs": []
    },
    {
      "cell_type": "code",
      "metadata": {
        "id": "DXvgZRUGV4-O"
      },
      "source": [
        "from sklearn import svm\n",
        "from sklearn.cluster import KMeans\n",
        "from sklearn.metrics import silhouette_score\n",
        "import scipy.cluster.hierarchy as sch\n",
        "from sklearn.cluster import AgglomerativeClustering\n",
        "from sklearn.metrics import accuracy_score\n",
        "from sklearn.linear_model import LogisticRegression\n",
        "from sklearn.tree import DecisionTreeClassifier\n",
        "from sklearn.ensemble import RandomForestClassifier\n",
        "from sklearn.neural_network import MLPClassifier\n",
        "from sklearn.linear_model import LinearRegression\n",
        "from sklearn.linear_model import SGDRegressor"
      ],
      "execution_count": null,
      "outputs": []
    },
    {
      "cell_type": "code",
      "metadata": {
        "id": "ZJpzkA4Jd4RQ"
      },
      "source": [
        "#Import for decision tree\n",
        "from six import StringIO\n",
        "from IPython.display import Image\n",
        "from sklearn.tree import export_graphviz\n",
        "import pydotplus\n",
        "from scipy.stats import norm\n",
        "import statistics"
      ],
      "execution_count": null,
      "outputs": []
    },
    {
      "cell_type": "markdown",
      "metadata": {
        "id": "CnTQ0DvE_1h8"
      },
      "source": [
        "## Custom Functions"
      ]
    },
    {
      "cell_type": "code",
      "metadata": {
        "id": "nSCFNhisNeYk"
      },
      "source": [
        "def Supreme(X, Y, df, t_size =0.25,MLP_acti='relu' ,r_state=5, isLinearRegression=False, isSVM=False, isLogisticRegression=False, isGradientDescent=False, isDecisionTree=False, isRandomForest=False, isMultiLayerPerception=False, isKmeans = False, isAgglo = False, isRegression=False, isClassification=False, isClustering =False, isPlot = False, n_x = 'x', n_y = 'y', n_model='poly', n_degree =2, grad_iter = 2000, k =3, g_title='Title', g_xlabel='x-label', g_ylabel='y-label', error = 1):\n",
        "  X_train, X_test, Y_train, Y_test = train_test_split(X, Y, test_size = t_size, random_state = r_state)\n",
        "  if(isLinearRegression):\n",
        "    model = LinearRegression()\n",
        "  if(isSVM):\n",
        "    model = svm.SVC(kernel = n_model, degree= n_degree)\n",
        "  if(isLogisticRegression):\n",
        "    model = LogisticRegression(C = 10, max_iter=100, solver='liblinear',tol=0.001,random_state=0)\n",
        "  if(isDecisionTree):\n",
        "    model = DecisionTreeClassifier(criterion = \"entropy\", random_state = 0, max_depth = 9)\n",
        "  if(isRandomForest):\n",
        "    model = RandomForestClassifier(n_estimators=100,bootstrap=False)\n",
        "  if(isMultiLayerPerception):\n",
        "    scaler = StandardScaler()\n",
        "    scaler.fit(X_train)\n",
        "    X_train = scaler.transform(X_train)\n",
        "    X_test = scaler.transform(X_test)\n",
        "    model = MLPClassifier(hidden_layer_sizes=(10, 10, 10), activation=MLP_acti, solver='sgd', max_iter=1000)\n",
        "  if(isGradientDescent):\n",
        "    scaler = MinMaxScaler(feature_range=(0,1))\n",
        "    X_train = scaler.fit_transform(X_train)\n",
        "    X_test = scaler.transform(X_test)\n",
        "    model = SGDRegressor(max_iter= grad_iter, eta0=0.1,tol=0.001)\n",
        "  if(isKmeans):\n",
        "    model = KMeans(n_clusters = k, init = 'k-means++', max_iter= 300, n_init=10,random_state=0)\n",
        "    model.fit(X)\n",
        "    y_clusters = model.predict(X)\n",
        "  if(isAgglo):\n",
        "    model = hc = AgglomerativeClustering(n_clusters = k, affinity = 'euclidean', linkage ='ward')\n",
        "    model.fit(X)\n",
        "    y_clusters = model.fit_predict(X)\n",
        "  if(isClustering):\n",
        "    print(\"Clustering: \",y_clusters)\n",
        "    silhouette_avg = silhouette_score(X, y_clusters)\n",
        "    print(\"Silhoutte Score: \", silhouette_avg)\n",
        "    if(isPlot):\n",
        "      x_array = np.array(X)\n",
        "      plt.style.use(\"ggplot\")\n",
        "      plt.figure(figsize=(15,8))\n",
        "      plt.title(g_title)\n",
        "      plt.xlabel(g_xlabel)\n",
        "      plt.ylabel(g_ylabel)\n",
        "      for i in range(0, k):\n",
        "        sns.scatterplot( x = x_array[y_clusters == i,0], y = x_array[y_clusters == i,1], label = \"Cluster\"+str(i+1) , s = 70)\n",
        "      if(isKmeans):\n",
        "        sns.scatterplot(model.cluster_centers_[:,0],model.cluster_centers_[:,1],marker='x',color='black',label='Centroid',s=70)\n",
        "      if(isAgglo):\n",
        "        clf = NearestCentroid()\n",
        "        clf.fit(X, y_clusters)\n",
        "        print(clf.centroids_)\n",
        "        sns.scatterplot(clf.centroids_[:,0],clf.centroids_[:,1],marker='x',color='black',label='Centroid',s=70)\n",
        "      plt.show()\n",
        "    return(model, y_clusters)\n",
        "  model.fit(X_train, Y_train)\n",
        "  Y_Pred = model.predict(X_test)\n",
        "  Y_Pred_train = model.predict(X_train)\n",
        "  if(isClassification):\n",
        "    print(\"Model Score: \",model.score(X_test, Y_test))\n",
        "    sns.heatmap(confusion_matrix(Y_test, Y_Pred), annot = True, fmt='0.0f')\n",
        "    print(\"Accuracy: \",accuracy_score(Y_test, Y_Pred))\n",
        "    report = classification_report(Y_Pred, Y_test)\n",
        "    print(report)\n",
        "  if(isRegression):\n",
        "    rmse_mlreg = np.sqrt(mean_squared_error(Y_Pred, Y_test)**2)\n",
        "    print(\"Root mean squared error is: \", rmse_mlreg)\n",
        "    r2_score_mlreg_train = r2_score(Y_Pred_train, Y_train)\n",
        "    r2_score_mlreg_val = r2_score(Y_Pred, Y_test)\n",
        "    print('r2_ score for train dataset : ', r2_score_mlreg_train)\n",
        "    print('r2_ score for test dataset : ', r2_score_mlreg_val)\n",
        "  if(isSVM):\n",
        "    test_size = int(np.round(df.shape[0] *0.2,0)) + error\n",
        "    if(isPlot):\n",
        "      fig, ax = plt.subplots(figsize=(12, 7))# Removing to and right border\n",
        "      ax.spines['top'].set_visible(False)\n",
        "      ax.spines['left'].set_visible(False)\n",
        "      ax.spines['right'].set_visible(False)# Create grid to evaluate model\n",
        "      xx = np.linspace(-1, max(df[n_x]) + 1, len(X_train))\n",
        "      yy = np.linspace(0, max(df[n_y]) + 1, len(Y_train))\n",
        "      YY, XX = np.meshgrid(yy, xx)\n",
        "      xy = np.vstack([XX.ravel(), YY.ravel()]).T\n",
        "      train_size = len(df[:-test_size][n_x])# Assigning different colors to the classes\n",
        "      colors = Y_train\n",
        "      colors = np.where(colors == 1, '#8C7298', '#4786D1')# Plot the dataset\n",
        "      ax.scatter(df[:-test_size][n_x], df[:-test_size][n_y], c=colors)#Get the separating hyperplane\n",
        "      Z = model.decision_function(xy).reshape(XX.shape)\n",
        "      # Draw the decision boundary and margins\n",
        "      ax.contour(XX, YY, Z, colors='k', levels=[-1, 0, 1], alpha=0.5, linestyles=['--', '-', '--'])# Highlight support vectors with a circle around them\n",
        "      ax.scatter(model.support_vectors_[:, 0], model.support_vectors_[:, 1], s=100, linewidth=1, facecolors='none', edgecolors='k')\n",
        "      plt.show()\n",
        "  if(isDecisionTree):\n",
        "    if(isPlot):\n",
        "      dot_data = StringIO()\n",
        "      export_graphviz(model, out_file= dot_data, feature_names=list(X.columns), filled = True, rounded=True)\n",
        "      graph = pydotplus.graph_from_dot_data(dot_data.getvalue())\n",
        "      display(Image(graph.create_png()))\n",
        "  if(isLinearRegression):\n",
        "    print(\"Intercept: \", model.intercept_)\n",
        "    print(\"Slope: \", model.coef_)\n",
        "  return model"
      ],
      "execution_count": null,
      "outputs": []
    },
    {
      "cell_type": "code",
      "metadata": {
        "id": "3X_8lsZnuVmJ"
      },
      "source": [
        "def ElbowMethod(D, c_num):\n",
        "  wcss = []\n",
        "  for i in range(1, c_num):\n",
        "    kmeans = KMeans(n_clusters=i, init= 'k-means++', max_iter = 300, n_init= 10, random_state = 0)\n",
        "    kmeans.fit(D)\n",
        "    wcss.append(kmeans.inertia_)\n",
        "  print(\"Value of wcss: \", wcss)\n",
        "  # Plot visualization b/w WCSS and Number of CLusters(K)\n",
        "  plt.plot(range(1,c_num), wcss)\n",
        "  # to view the points clearly we add scatter plot in addition to line\n",
        "  plt.scatter(range(1,c_num), wcss, c = 'black', marker='o')\n",
        "  plt.xlabel(\"K - Number of Clusters\")\n",
        "  plt.ylabel(\"WCSS\")\n",
        "  plt.show()\n",
        "  return wcss"
      ],
      "execution_count": null,
      "outputs": []
    },
    {
      "cell_type": "code",
      "metadata": {
        "id": "nWcuTrhEawYh"
      },
      "source": [
        "def heatplot(df):\n",
        "  plt.figure(figsize=(12,8))\n",
        "  sns.heatmap(df.corr(), annot = True, cmap ='RdPu')\n",
        "  plt.show()"
      ],
      "execution_count": null,
      "outputs": []
    },
    {
      "cell_type": "code",
      "metadata": {
        "id": "xkUYkoNZsiQQ"
      },
      "source": [
        "def generate_random_dataset(size):\n",
        "  \"\"\" Generate a random dataset and that follows a quadratic distribution\n",
        "  \"\"\"\n",
        "  x = []\n",
        "  y = []\n",
        "  target = []\n",
        "  for i in range(size):\n",
        "  # class zero\n",
        "    x.append(np.round(random.uniform(0, 2.5), 1))\n",
        "    y.append(np.round(random.uniform(0, 20), 1))\n",
        "    target.append(0) # class one\n",
        "    x.append(np.round(random.uniform(1, 5), 2))\n",
        "    y.append(np.round(random.uniform(20, 25), 2))\n",
        "    target.append(1)\n",
        "    x.append(np.round(random.uniform(3, 5), 2))\n",
        "    y.append(np.round(random.uniform(5, 25), 2))\n",
        "    target.append(1)\n",
        "  df_x = pd.DataFrame(data=x)\n",
        "  df_y = pd.DataFrame(data=y)\n",
        "  df_target = pd.DataFrame(data=target)\n",
        "  data_frame = pd.concat([df_x, df_y], ignore_index=True, axis=1)\n",
        "  data_frame = pd.concat([data_frame, df_target], ignore_index=True, axis=1)\n",
        "  data_frame.columns = ['x', 'y', 'target']\n",
        "  return data_frame"
      ],
      "execution_count": null,
      "outputs": []
    },
    {
      "cell_type": "code",
      "metadata": {
        "id": "NbLncZmLAPCx"
      },
      "source": [
        "def meanchange(df, name):\n",
        "  mean_imputer = SimpleImputer(missing_values=np.nan, strategy='mean')\n",
        "  df[name] = mean_imputer.fit_transform(df[name].values.reshape(-1,1))[:,0]\n",
        "  return df\n",
        "def modechange(df, name):\n",
        "  mode_imputer = SimpleImputer(missing_values=np.nan, strategy='most_frequent')\n",
        "  df[name] = mode_imputer.fit_transform(df[name].values.reshape(-1,1))[:,0]\n",
        "  return df"
      ],
      "execution_count": null,
      "outputs": []
    },
    {
      "cell_type": "code",
      "metadata": {
        "id": "a_GXVoE_Ae5H"
      },
      "source": [
        "def remove_outlier(df, cname):\n",
        "    Q1 = df[cname].quantile(0.25)\n",
        "    Q3 = df[cname].quantile(0.75)\n",
        "    iqr = Q3-Q1\n",
        "    upper_limit = Q3 + 1.5 * iqr\n",
        "    lower_limit = Q1 - 1.5 * iqr\n",
        "    df[cname]=np.where(\n",
        "        df[cname]>upper_limit,\n",
        "        upper_limit,\n",
        "        np.where(\n",
        "            df[cname]<lower_limit,\n",
        "            lower_limit,\n",
        "            df[cname]\n",
        "        )\n",
        "    )\n",
        "    print(df[cname].skew())\n",
        "    return df"
      ],
      "execution_count": null,
      "outputs": []
    },
    {
      "cell_type": "code",
      "metadata": {
        "id": "GkhfmxHAAlQ8"
      },
      "source": [
        "def LEncoder(df, cname):\n",
        "  le_encoder = LabelEncoder()\n",
        "  le_encoder.fit(df[cname].drop_duplicates())\n",
        "  df[cname] = le_encoder.transform(df[cname])\n",
        "  return df"
      ],
      "execution_count": null,
      "outputs": []
    },
    {
      "cell_type": "markdown",
      "metadata": {
        "id": "T_T-7lNUZ4A1"
      },
      "source": [
        "## Pulling the Dataset"
      ]
    },
    {
      "cell_type": "code",
      "metadata": {
        "id": "ePDOFiRhZ8Uc"
      },
      "source": [
        "df = pd.read_csv(\"/content/drive/MyDrive/Datasets/CSE4020-PAT-3 Data.csv\", na_values=[\" \",\"?\",\"??\",\"???\",\"-\"])"
      ],
      "execution_count": null,
      "outputs": []
    },
    {
      "cell_type": "code",
      "metadata": {
        "colab": {
          "base_uri": "https://localhost:8080/"
        },
        "id": "q_wbiyr1B0Dz",
        "outputId": "6b75701c-9ac4-4e86-b815-184fbbfcdbe7"
      },
      "source": [
        "df.isna().sum()"
      ],
      "execution_count": null,
      "outputs": [
        {
          "output_type": "execute_result",
          "data": {
            "text/plain": [
              "A1     0\n",
              "A2     0\n",
              "A3     1\n",
              "A4     1\n",
              "A5     0\n",
              "A6     0\n",
              "A7     0\n",
              "A8     2\n",
              "A9     0\n",
              "A10    0\n",
              "A11    1\n",
              "A12    0\n",
              "A13    0\n",
              "A14    0\n",
              "A15    0\n",
              "A16    0\n",
              "dtype: int64"
            ]
          },
          "metadata": {},
          "execution_count": 15
        }
      ]
    },
    {
      "cell_type": "code",
      "metadata": {
        "id": "DQV5Jw_eG8pC",
        "colab": {
          "base_uri": "https://localhost:8080/",
          "height": 423
        },
        "outputId": "52e301e9-60c8-4ed2-a0d9-28a288968569"
      },
      "source": [
        "df"
      ],
      "execution_count": null,
      "outputs": [
        {
          "output_type": "execute_result",
          "data": {
            "text/html": [
              "<div>\n",
              "<style scoped>\n",
              "    .dataframe tbody tr th:only-of-type {\n",
              "        vertical-align: middle;\n",
              "    }\n",
              "\n",
              "    .dataframe tbody tr th {\n",
              "        vertical-align: top;\n",
              "    }\n",
              "\n",
              "    .dataframe thead th {\n",
              "        text-align: right;\n",
              "    }\n",
              "</style>\n",
              "<table border=\"1\" class=\"dataframe\">\n",
              "  <thead>\n",
              "    <tr style=\"text-align: right;\">\n",
              "      <th></th>\n",
              "      <th>A1</th>\n",
              "      <th>A2</th>\n",
              "      <th>A3</th>\n",
              "      <th>A4</th>\n",
              "      <th>A5</th>\n",
              "      <th>A6</th>\n",
              "      <th>A7</th>\n",
              "      <th>A8</th>\n",
              "      <th>A9</th>\n",
              "      <th>A10</th>\n",
              "      <th>A11</th>\n",
              "      <th>A12</th>\n",
              "      <th>A13</th>\n",
              "      <th>A14</th>\n",
              "      <th>A15</th>\n",
              "      <th>A16</th>\n",
              "    </tr>\n",
              "  </thead>\n",
              "  <tbody>\n",
              "    <tr>\n",
              "      <th>0</th>\n",
              "      <td>206979</td>\n",
              "      <td>1795.101</td>\n",
              "      <td>712.408675</td>\n",
              "      <td>379.011721</td>\n",
              "      <td>1.879648</td>\n",
              "      <td>84.673526</td>\n",
              "      <td>214037</td>\n",
              "      <td>513.355479</td>\n",
              "      <td>0.607021</td>\n",
              "      <td>0.967024</td>\n",
              "      <td>0.807158</td>\n",
              "      <td>0.720591</td>\n",
              "      <td>0.003442</td>\n",
              "      <td>0.000572</td>\n",
              "      <td>0.519252</td>\n",
              "      <td>0.976011</td>\n",
              "    </tr>\n",
              "    <tr>\n",
              "      <th>1</th>\n",
              "      <td>65881</td>\n",
              "      <td>1027.604</td>\n",
              "      <td>409.531317</td>\n",
              "      <td>207.223982</td>\n",
              "      <td>1.976274</td>\n",
              "      <td>0.862532</td>\n",
              "      <td>67226</td>\n",
              "      <td>289.624402</td>\n",
              "      <td>0.631988</td>\n",
              "      <td>0.979993</td>\n",
              "      <td>0.784004</td>\n",
              "      <td>0.707209</td>\n",
              "      <td>0.006216</td>\n",
              "      <td>0.000959</td>\n",
              "      <td>50.014515</td>\n",
              "      <td>0.988424</td>\n",
              "    </tr>\n",
              "    <tr>\n",
              "      <th>2</th>\n",
              "      <td>73884</td>\n",
              "      <td>1092.590</td>\n",
              "      <td>433.076159</td>\n",
              "      <td>220.136215</td>\n",
              "      <td>1.967310</td>\n",
              "      <td>0.861175</td>\n",
              "      <td>75689</td>\n",
              "      <td>NaN</td>\n",
              "      <td>0.632937</td>\n",
              "      <td>0.976152</td>\n",
              "      <td>0.777760</td>\n",
              "      <td>0.708216</td>\n",
              "      <td>0.005862</td>\n",
              "      <td>0.000910</td>\n",
              "      <td>0.501570</td>\n",
              "      <td>0.986745</td>\n",
              "    </tr>\n",
              "    <tr>\n",
              "      <th>3</th>\n",
              "      <td>71678</td>\n",
              "      <td>1054.534</td>\n",
              "      <td>422.650982</td>\n",
              "      <td>218.714063</td>\n",
              "      <td>1.932436</td>\n",
              "      <td>0.855694</td>\n",
              "      <td>73261</td>\n",
              "      <td>302.098103</td>\n",
              "      <td>0.633086</td>\n",
              "      <td>0.978392</td>\n",
              "      <td>0.809981</td>\n",
              "      <td>0.714770</td>\n",
              "      <td>0.005897</td>\n",
              "      <td>0.000949</td>\n",
              "      <td>0.510896</td>\n",
              "      <td>0.987273</td>\n",
              "    </tr>\n",
              "    <tr>\n",
              "      <th>4</th>\n",
              "      <td>74967</td>\n",
              "      <td>1059.749</td>\n",
              "      <td>414.629376</td>\n",
              "      <td>232.186792</td>\n",
              "      <td>1.785758</td>\n",
              "      <td>0.828502</td>\n",
              "      <td>75687</td>\n",
              "      <td>308.951370</td>\n",
              "      <td>0.633285</td>\n",
              "      <td>0.990487</td>\n",
              "      <td>0.838830</td>\n",
              "      <td>0.745127</td>\n",
              "      <td>0.005531</td>\n",
              "      <td>0.001052</td>\n",
              "      <td>0.555214</td>\n",
              "      <td>0.991477</td>\n",
              "    </tr>\n",
              "    <tr>\n",
              "      <th>...</th>\n",
              "      <td>...</td>\n",
              "      <td>...</td>\n",
              "      <td>...</td>\n",
              "      <td>...</td>\n",
              "      <td>...</td>\n",
              "      <td>...</td>\n",
              "      <td>...</td>\n",
              "      <td>...</td>\n",
              "      <td>...</td>\n",
              "      <td>...</td>\n",
              "      <td>...</td>\n",
              "      <td>...</td>\n",
              "      <td>...</td>\n",
              "      <td>...</td>\n",
              "      <td>...</td>\n",
              "      <td>...</td>\n",
              "    </tr>\n",
              "    <tr>\n",
              "      <th>1762</th>\n",
              "      <td>186509</td>\n",
              "      <td>1672.052</td>\n",
              "      <td>655.698756</td>\n",
              "      <td>366.117510</td>\n",
              "      <td>1.790952</td>\n",
              "      <td>0.829597</td>\n",
              "      <td>189519</td>\n",
              "      <td>487.309588</td>\n",
              "      <td>0.844016</td>\n",
              "      <td>0.984118</td>\n",
              "      <td>0.838321</td>\n",
              "      <td>0.743191</td>\n",
              "      <td>0.003516</td>\n",
              "      <td>0.000662</td>\n",
              "      <td>0.552333</td>\n",
              "      <td>0.989202</td>\n",
              "    </tr>\n",
              "    <tr>\n",
              "      <th>1763</th>\n",
              "      <td>186439</td>\n",
              "      <td>1663.337</td>\n",
              "      <td>627.810919</td>\n",
              "      <td>382.694747</td>\n",
              "      <td>1.640500</td>\n",
              "      <td>0.792732</td>\n",
              "      <td>188370</td>\n",
              "      <td>487.218131</td>\n",
              "      <td>0.848623</td>\n",
              "      <td>0.989749</td>\n",
              "      <td>0.846810</td>\n",
              "      <td>0.776059</td>\n",
              "      <td>0.003367</td>\n",
              "      <td>0.000753</td>\n",
              "      <td>0.602267</td>\n",
              "      <td>0.988020</td>\n",
              "    </tr>\n",
              "    <tr>\n",
              "      <th>1764</th>\n",
              "      <td>77815</td>\n",
              "      <td>1075.607</td>\n",
              "      <td>432.770170</td>\n",
              "      <td>230.696366</td>\n",
              "      <td>1.875930</td>\n",
              "      <td>0.846072</td>\n",
              "      <td>78443</td>\n",
              "      <td>314.765206</td>\n",
              "      <td>0.850251</td>\n",
              "      <td>0.991994</td>\n",
              "      <td>0.845213</td>\n",
              "      <td>0.727326</td>\n",
              "      <td>0.005562</td>\n",
              "      <td>0.000960</td>\n",
              "      <td>0.529004</td>\n",
              "      <td>0.992374</td>\n",
              "    </tr>\n",
              "    <tr>\n",
              "      <th>1765</th>\n",
              "      <td>162012</td>\n",
              "      <td>1528.138</td>\n",
              "      <td>588.943911</td>\n",
              "      <td>353.589588</td>\n",
              "      <td>1.665614</td>\n",
              "      <td>0.799716</td>\n",
              "      <td>163383</td>\n",
              "      <td>454.180675</td>\n",
              "      <td>0.852269</td>\n",
              "      <td>0.991609</td>\n",
              "      <td>0.871830</td>\n",
              "      <td>0.771178</td>\n",
              "      <td>0.003635</td>\n",
              "      <td>0.000793</td>\n",
              "      <td>0.594716</td>\n",
              "      <td>0.990567</td>\n",
              "    </tr>\n",
              "    <tr>\n",
              "      <th>1766</th>\n",
              "      <td>165366</td>\n",
              "      <td>1566.762</td>\n",
              "      <td>592.067214</td>\n",
              "      <td>360.194072</td>\n",
              "      <td>1.643745</td>\n",
              "      <td>0.793656</td>\n",
              "      <td>168206</td>\n",
              "      <td>458.857854</td>\n",
              "      <td>0.858420</td>\n",
              "      <td>0.983116</td>\n",
              "      <td>0.846545</td>\n",
              "      <td>0.775010</td>\n",
              "      <td>0.003580</td>\n",
              "      <td>0.000797</td>\n",
              "      <td>0.600640</td>\n",
              "      <td>0.987299</td>\n",
              "    </tr>\n",
              "  </tbody>\n",
              "</table>\n",
              "<p>1767 rows × 16 columns</p>\n",
              "</div>"
            ],
            "text/plain": [
              "          A1        A2          A3  ...       A14        A15       A16\n",
              "0     206979  1795.101  712.408675  ...  0.000572   0.519252  0.976011\n",
              "1      65881  1027.604  409.531317  ...  0.000959  50.014515  0.988424\n",
              "2      73884  1092.590  433.076159  ...  0.000910   0.501570  0.986745\n",
              "3      71678  1054.534  422.650982  ...  0.000949   0.510896  0.987273\n",
              "4      74967  1059.749  414.629376  ...  0.001052   0.555214  0.991477\n",
              "...      ...       ...         ...  ...       ...        ...       ...\n",
              "1762  186509  1672.052  655.698756  ...  0.000662   0.552333  0.989202\n",
              "1763  186439  1663.337  627.810919  ...  0.000753   0.602267  0.988020\n",
              "1764   77815  1075.607  432.770170  ...  0.000960   0.529004  0.992374\n",
              "1765  162012  1528.138  588.943911  ...  0.000793   0.594716  0.990567\n",
              "1766  165366  1566.762  592.067214  ...  0.000797   0.600640  0.987299\n",
              "\n",
              "[1767 rows x 16 columns]"
            ]
          },
          "metadata": {},
          "execution_count": 16
        }
      ]
    },
    {
      "cell_type": "markdown",
      "metadata": {
        "id": "i9A-Q43WyMc2"
      },
      "source": [
        "## 1. Data Preprocessing"
      ]
    },
    {
      "cell_type": "markdown",
      "metadata": {
        "id": "x3tSBmjxafgy"
      },
      "source": [
        "### (a) Identify the attributes which follow normal distribution"
      ]
    },
    {
      "cell_type": "code",
      "metadata": {
        "colab": {
          "base_uri": "https://localhost:8080/"
        },
        "id": "GPb5Ao5rKqpM",
        "outputId": "e99a26ed-0c0e-4c39-bfb5-6bf21eaa6a00"
      },
      "source": [
        "df.shape"
      ],
      "execution_count": null,
      "outputs": [
        {
          "output_type": "execute_result",
          "data": {
            "text/plain": [
              "(1767, 16)"
            ]
          },
          "metadata": {},
          "execution_count": 17
        }
      ]
    },
    {
      "cell_type": "code",
      "metadata": {
        "colab": {
          "base_uri": "https://localhost:8080/"
        },
        "id": "7ezi06kcK8kk",
        "outputId": "c3d8e28f-9e19-4186-e62e-296b44e9984f"
      },
      "source": [
        "df.ndim"
      ],
      "execution_count": null,
      "outputs": [
        {
          "output_type": "execute_result",
          "data": {
            "text/plain": [
              "2"
            ]
          },
          "metadata": {},
          "execution_count": 18
        }
      ]
    },
    {
      "cell_type": "code",
      "metadata": {
        "colab": {
          "base_uri": "https://localhost:8080/",
          "height": 520
        },
        "id": "EdgfbGUVa3wl",
        "outputId": "f6a1b92f-403c-452d-c3db-73cf99043002"
      },
      "source": [
        "df.head(15)"
      ],
      "execution_count": null,
      "outputs": [
        {
          "output_type": "execute_result",
          "data": {
            "text/html": [
              "<div>\n",
              "<style scoped>\n",
              "    .dataframe tbody tr th:only-of-type {\n",
              "        vertical-align: middle;\n",
              "    }\n",
              "\n",
              "    .dataframe tbody tr th {\n",
              "        vertical-align: top;\n",
              "    }\n",
              "\n",
              "    .dataframe thead th {\n",
              "        text-align: right;\n",
              "    }\n",
              "</style>\n",
              "<table border=\"1\" class=\"dataframe\">\n",
              "  <thead>\n",
              "    <tr style=\"text-align: right;\">\n",
              "      <th></th>\n",
              "      <th>A1</th>\n",
              "      <th>A2</th>\n",
              "      <th>A3</th>\n",
              "      <th>A4</th>\n",
              "      <th>A5</th>\n",
              "      <th>A6</th>\n",
              "      <th>A7</th>\n",
              "      <th>A8</th>\n",
              "      <th>A9</th>\n",
              "      <th>A10</th>\n",
              "      <th>A11</th>\n",
              "      <th>A12</th>\n",
              "      <th>A13</th>\n",
              "      <th>A14</th>\n",
              "      <th>A15</th>\n",
              "      <th>A16</th>\n",
              "    </tr>\n",
              "  </thead>\n",
              "  <tbody>\n",
              "    <tr>\n",
              "      <th>0</th>\n",
              "      <td>206979</td>\n",
              "      <td>1795.101</td>\n",
              "      <td>712.408675</td>\n",
              "      <td>379.011721</td>\n",
              "      <td>1.879648</td>\n",
              "      <td>84.673526</td>\n",
              "      <td>214037</td>\n",
              "      <td>513.355479</td>\n",
              "      <td>0.607021</td>\n",
              "      <td>0.967024</td>\n",
              "      <td>0.807158</td>\n",
              "      <td>0.720591</td>\n",
              "      <td>0.003442</td>\n",
              "      <td>0.000572</td>\n",
              "      <td>0.519252</td>\n",
              "      <td>0.976011</td>\n",
              "    </tr>\n",
              "    <tr>\n",
              "      <th>1</th>\n",
              "      <td>65881</td>\n",
              "      <td>1027.604</td>\n",
              "      <td>409.531317</td>\n",
              "      <td>207.223982</td>\n",
              "      <td>1.976274</td>\n",
              "      <td>0.862532</td>\n",
              "      <td>67226</td>\n",
              "      <td>289.624402</td>\n",
              "      <td>0.631988</td>\n",
              "      <td>0.979993</td>\n",
              "      <td>0.784004</td>\n",
              "      <td>0.707209</td>\n",
              "      <td>0.006216</td>\n",
              "      <td>0.000959</td>\n",
              "      <td>50.014515</td>\n",
              "      <td>0.988424</td>\n",
              "    </tr>\n",
              "    <tr>\n",
              "      <th>2</th>\n",
              "      <td>73884</td>\n",
              "      <td>1092.590</td>\n",
              "      <td>433.076159</td>\n",
              "      <td>220.136215</td>\n",
              "      <td>1.967310</td>\n",
              "      <td>0.861175</td>\n",
              "      <td>75689</td>\n",
              "      <td>NaN</td>\n",
              "      <td>0.632937</td>\n",
              "      <td>0.976152</td>\n",
              "      <td>0.777760</td>\n",
              "      <td>0.708216</td>\n",
              "      <td>0.005862</td>\n",
              "      <td>0.000910</td>\n",
              "      <td>0.501570</td>\n",
              "      <td>0.986745</td>\n",
              "    </tr>\n",
              "    <tr>\n",
              "      <th>3</th>\n",
              "      <td>71678</td>\n",
              "      <td>1054.534</td>\n",
              "      <td>422.650982</td>\n",
              "      <td>218.714063</td>\n",
              "      <td>1.932436</td>\n",
              "      <td>0.855694</td>\n",
              "      <td>73261</td>\n",
              "      <td>302.098103</td>\n",
              "      <td>0.633086</td>\n",
              "      <td>0.978392</td>\n",
              "      <td>0.809981</td>\n",
              "      <td>0.714770</td>\n",
              "      <td>0.005897</td>\n",
              "      <td>0.000949</td>\n",
              "      <td>0.510896</td>\n",
              "      <td>0.987273</td>\n",
              "    </tr>\n",
              "    <tr>\n",
              "      <th>4</th>\n",
              "      <td>74967</td>\n",
              "      <td>1059.749</td>\n",
              "      <td>414.629376</td>\n",
              "      <td>232.186792</td>\n",
              "      <td>1.785758</td>\n",
              "      <td>0.828502</td>\n",
              "      <td>75687</td>\n",
              "      <td>308.951370</td>\n",
              "      <td>0.633285</td>\n",
              "      <td>0.990487</td>\n",
              "      <td>0.838830</td>\n",
              "      <td>0.745127</td>\n",
              "      <td>0.005531</td>\n",
              "      <td>0.001052</td>\n",
              "      <td>0.555214</td>\n",
              "      <td>0.991477</td>\n",
              "    </tr>\n",
              "    <tr>\n",
              "      <th>5</th>\n",
              "      <td>74604</td>\n",
              "      <td>1089.456</td>\n",
              "      <td>421.210569</td>\n",
              "      <td>229.647581</td>\n",
              "      <td>1.834161</td>\n",
              "      <td>0.838300</td>\n",
              "      <td>77074</td>\n",
              "      <td>308.202471</td>\n",
              "      <td>0.640862</td>\n",
              "      <td>0.967953</td>\n",
              "      <td>0.789864</td>\n",
              "      <td>0.731706</td>\n",
              "      <td>0.005646</td>\n",
              "      <td>0.000998</td>\n",
              "      <td>0.535394</td>\n",
              "      <td>0.981999</td>\n",
              "    </tr>\n",
              "    <tr>\n",
              "      <th>6</th>\n",
              "      <td>67109</td>\n",
              "      <td>1017.317</td>\n",
              "      <td>NaN</td>\n",
              "      <td>218.458078</td>\n",
              "      <td>1.819502</td>\n",
              "      <td>0.835427</td>\n",
              "      <td>68530</td>\n",
              "      <td>292.311191</td>\n",
              "      <td>0.643398</td>\n",
              "      <td>0.979265</td>\n",
              "      <td>0.814851</td>\n",
              "      <td>0.735402</td>\n",
              "      <td>0.005923</td>\n",
              "      <td>0.001069</td>\n",
              "      <td>0.540816</td>\n",
              "      <td>0.984016</td>\n",
              "    </tr>\n",
              "    <tr>\n",
              "      <th>7</th>\n",
              "      <td>78675</td>\n",
              "      <td>1097.153</td>\n",
              "      <td>435.265432</td>\n",
              "      <td>233.328997</td>\n",
              "      <td>1.865458</td>\n",
              "      <td>0.844179</td>\n",
              "      <td>80325</td>\n",
              "      <td>316.499796</td>\n",
              "      <td>0.645385</td>\n",
              "      <td>0.979458</td>\n",
              "      <td>0.821320</td>\n",
              "      <td>0.727142</td>\n",
              "      <td>0.005532</td>\n",
              "      <td>0.000954</td>\n",
              "      <td>0.528736</td>\n",
              "      <td>0.986334</td>\n",
              "    </tr>\n",
              "    <tr>\n",
              "      <th>8</th>\n",
              "      <td>188980</td>\n",
              "      <td>1696.319</td>\n",
              "      <td>650.001991</td>\n",
              "      <td>374.729889</td>\n",
              "      <td>1.734588</td>\n",
              "      <td>0.817093</td>\n",
              "      <td>192822</td>\n",
              "      <td>490.527073</td>\n",
              "      <td>0.645609</td>\n",
              "      <td>0.980075</td>\n",
              "      <td>0.825298</td>\n",
              "      <td>0.754655</td>\n",
              "      <td>0.003440</td>\n",
              "      <td>0.000688</td>\n",
              "      <td>0.569504</td>\n",
              "      <td>0.987854</td>\n",
              "    </tr>\n",
              "    <tr>\n",
              "      <th>9</th>\n",
              "      <td>73020</td>\n",
              "      <td>1068.139</td>\n",
              "      <td>421.557452</td>\n",
              "      <td>221.260172</td>\n",
              "      <td>1.905257</td>\n",
              "      <td>0.851186</td>\n",
              "      <td>73700</td>\n",
              "      <td>304.913023</td>\n",
              "      <td>0.646996</td>\n",
              "      <td>0.990773</td>\n",
              "      <td>0.804259</td>\n",
              "      <td>0.723301</td>\n",
              "      <td>0.005773</td>\n",
              "      <td>0.000975</td>\n",
              "      <td>0.523165</td>\n",
              "      <td>0.996763</td>\n",
              "    </tr>\n",
              "    <tr>\n",
              "      <th>10</th>\n",
              "      <td>67194</td>\n",
              "      <td>1005.436</td>\n",
              "      <td>394.587499</td>\n",
              "      <td>218.724461</td>\n",
              "      <td>1.804039</td>\n",
              "      <td>0.832309</td>\n",
              "      <td>67865</td>\n",
              "      <td>292.496253</td>\n",
              "      <td>0.647634</td>\n",
              "      <td>0.990113</td>\n",
              "      <td>0.835279</td>\n",
              "      <td>0.741271</td>\n",
              "      <td>0.005872</td>\n",
              "      <td>0.001094</td>\n",
              "      <td>0.549483</td>\n",
              "      <td>0.991288</td>\n",
              "    </tr>\n",
              "    <tr>\n",
              "      <th>11</th>\n",
              "      <td>78992</td>\n",
              "      <td>1106.050</td>\n",
              "      <td>437.395668</td>\n",
              "      <td>232.027229</td>\n",
              "      <td>1.885105</td>\n",
              "      <td>0.847701</td>\n",
              "      <td>79915</td>\n",
              "      <td>317.136781</td>\n",
              "      <td>0.649872</td>\n",
              "      <td>0.988450</td>\n",
              "      <td>0.811416</td>\n",
              "      <td>0.725057</td>\n",
              "      <td>0.005537</td>\n",
              "      <td>0.000944</td>\n",
              "      <td>0.525708</td>\n",
              "      <td>0.991014</td>\n",
              "    </tr>\n",
              "    <tr>\n",
              "      <th>12</th>\n",
              "      <td>80291</td>\n",
              "      <td>1103.635</td>\n",
              "      <td>430.906827</td>\n",
              "      <td>239.302792</td>\n",
              "      <td>1.800676</td>\n",
              "      <td>0.831619</td>\n",
              "      <td>81330</td>\n",
              "      <td>319.733758</td>\n",
              "      <td>0.650108</td>\n",
              "      <td>0.987225</td>\n",
              "      <td>0.828373</td>\n",
              "      <td>0.742002</td>\n",
              "      <td>0.005367</td>\n",
              "      <td>0.001003</td>\n",
              "      <td>0.550567</td>\n",
              "      <td>0.991393</td>\n",
              "    </tr>\n",
              "    <tr>\n",
              "      <th>13</th>\n",
              "      <td>72900</td>\n",
              "      <td>1053.947</td>\n",
              "      <td>412.558658</td>\n",
              "      <td>228.073584</td>\n",
              "      <td>1.808884</td>\n",
              "      <td>0.833296</td>\n",
              "      <td>74237</td>\n",
              "      <td>304.662375</td>\n",
              "      <td>0.652758</td>\n",
              "      <td>0.981990</td>\n",
              "      <td>0.824707</td>\n",
              "      <td>0.738470</td>\n",
              "      <td>0.005659</td>\n",
              "      <td>0.001038</td>\n",
              "      <td>0.545339</td>\n",
              "      <td>0.986454</td>\n",
              "    </tr>\n",
              "    <tr>\n",
              "      <th>14</th>\n",
              "      <td>77939</td>\n",
              "      <td>1070.502</td>\n",
              "      <td>424.323535</td>\n",
              "      <td>236.126288</td>\n",
              "      <td>1.797019</td>\n",
              "      <td>0.830863</td>\n",
              "      <td>78917</td>\n",
              "      <td>315.015899</td>\n",
              "      <td>0.652837</td>\n",
              "      <td>0.987607</td>\n",
              "      <td>0.854653</td>\n",
              "      <td>0.742396</td>\n",
              "      <td>0.005444</td>\n",
              "      <td>0.001020</td>\n",
              "      <td>0.551151</td>\n",
              "      <td>0.990429</td>\n",
              "    </tr>\n",
              "  </tbody>\n",
              "</table>\n",
              "</div>"
            ],
            "text/plain": [
              "        A1        A2          A3  ...       A14        A15       A16\n",
              "0   206979  1795.101  712.408675  ...  0.000572   0.519252  0.976011\n",
              "1    65881  1027.604  409.531317  ...  0.000959  50.014515  0.988424\n",
              "2    73884  1092.590  433.076159  ...  0.000910   0.501570  0.986745\n",
              "3    71678  1054.534  422.650982  ...  0.000949   0.510896  0.987273\n",
              "4    74967  1059.749  414.629376  ...  0.001052   0.555214  0.991477\n",
              "5    74604  1089.456  421.210569  ...  0.000998   0.535394  0.981999\n",
              "6    67109  1017.317         NaN  ...  0.001069   0.540816  0.984016\n",
              "7    78675  1097.153  435.265432  ...  0.000954   0.528736  0.986334\n",
              "8   188980  1696.319  650.001991  ...  0.000688   0.569504  0.987854\n",
              "9    73020  1068.139  421.557452  ...  0.000975   0.523165  0.996763\n",
              "10   67194  1005.436  394.587499  ...  0.001094   0.549483  0.991288\n",
              "11   78992  1106.050  437.395668  ...  0.000944   0.525708  0.991014\n",
              "12   80291  1103.635  430.906827  ...  0.001003   0.550567  0.991393\n",
              "13   72900  1053.947  412.558658  ...  0.001038   0.545339  0.986454\n",
              "14   77939  1070.502  424.323535  ...  0.001020   0.551151  0.990429\n",
              "\n",
              "[15 rows x 16 columns]"
            ]
          },
          "metadata": {},
          "execution_count": 19
        }
      ]
    },
    {
      "cell_type": "code",
      "metadata": {
        "colab": {
          "base_uri": "https://localhost:8080/",
          "height": 576
        },
        "id": "kGruPNSb9NdW",
        "outputId": "cd8df2ff-5709-47c1-b313-414c5ac515fc"
      },
      "source": [
        "df.hist()"
      ],
      "execution_count": null,
      "outputs": [
        {
          "output_type": "execute_result",
          "data": {
            "text/plain": [
              "array([[<matplotlib.axes._subplots.AxesSubplot object at 0x7f2150296450>,\n",
              "        <matplotlib.axes._subplots.AxesSubplot object at 0x7f215025f510>,\n",
              "        <matplotlib.axes._subplots.AxesSubplot object at 0x7f2150217ad0>,\n",
              "        <matplotlib.axes._subplots.AxesSubplot object at 0x7f21501da110>],\n",
              "       [<matplotlib.axes._subplots.AxesSubplot object at 0x7f215018e710>,\n",
              "        <matplotlib.axes._subplots.AxesSubplot object at 0x7f2150146d10>,\n",
              "        <matplotlib.axes._subplots.AxesSubplot object at 0x7f2150107350>,\n",
              "        <matplotlib.axes._subplots.AxesSubplot object at 0x7f215013e950>],\n",
              "       [<matplotlib.axes._subplots.AxesSubplot object at 0x7f21500c7e10>,\n",
              "        <matplotlib.axes._subplots.AxesSubplot object at 0x7f2150088550>,\n",
              "        <matplotlib.axes._subplots.AxesSubplot object at 0x7f215006bb90>,\n",
              "        <matplotlib.axes._subplots.AxesSubplot object at 0x7f215002c1d0>],\n",
              "       [<matplotlib.axes._subplots.AxesSubplot object at 0x7f214ffe37d0>,\n",
              "        <matplotlib.axes._subplots.AxesSubplot object at 0x7f214ff98dd0>,\n",
              "        <matplotlib.axes._subplots.AxesSubplot object at 0x7f214ff5b410>,\n",
              "        <matplotlib.axes._subplots.AxesSubplot object at 0x7f214ff11a10>]],\n",
              "      dtype=object)"
            ]
          },
          "metadata": {},
          "execution_count": 20
        },
        {
          "output_type": "display_data",
          "data": {
            "image/png": "[encoded data removed]",
            "text/plain": [
              "<Figure size 432x288 with 16 Axes>"
            ]
          },
          "metadata": {
            "needs_background": "light"
          }
        }
      ]
    },
    {
      "cell_type": "markdown",
      "metadata": {
        "id": "odMsUb4p-Ba9"
      },
      "source": [
        "Inference: A5, A10, A11, A12, A14 and A16 are normal distribution."
      ]
    },
    {
      "cell_type": "markdown",
      "metadata": {
        "id": "Q0NT8ZBM-ujp"
      },
      "source": [
        "### (b) Do the imputation by replacing all the NaN values in an attribute with the mean of all the values of that attribute or mode of all the values of that attribute. After executing the imputation, confirm that the imputation gets reflected in the dataset with appropriate outputs."
      ]
    },
    {
      "cell_type": "code",
      "metadata": {
        "colab": {
          "base_uri": "https://localhost:8080/",
          "height": 423
        },
        "id": "DO3NNG8n-t6S",
        "outputId": "c1dfeec1-7f72-42df-f949-31ec657f0f8c"
      },
      "source": [
        "names = ['A1','A2','A3','A4','A5','A6','A7','A8','A9','A10','A11','A12','A13','A14','A15']\n",
        "for x in range(0, len(names)):\n",
        "  D = meanchange(df, names[x])\n",
        "D"
      ],
      "execution_count": null,
      "outputs": [
        {
          "output_type": "execute_result",
          "data": {
            "text/html": [
              "<div>\n",
              "<style scoped>\n",
              "    .dataframe tbody tr th:only-of-type {\n",
              "        vertical-align: middle;\n",
              "    }\n",
              "\n",
              "    .dataframe tbody tr th {\n",
              "        vertical-align: top;\n",
              "    }\n",
              "\n",
              "    .dataframe thead th {\n",
              "        text-align: right;\n",
              "    }\n",
              "</style>\n",
              "<table border=\"1\" class=\"dataframe\">\n",
              "  <thead>\n",
              "    <tr style=\"text-align: right;\">\n",
              "      <th></th>\n",
              "      <th>A1</th>\n",
              "      <th>A2</th>\n",
              "      <th>A3</th>\n",
              "      <th>A4</th>\n",
              "      <th>A5</th>\n",
              "      <th>A6</th>\n",
              "      <th>A7</th>\n",
              "      <th>A8</th>\n",
              "      <th>A9</th>\n",
              "      <th>A10</th>\n",
              "      <th>A11</th>\n",
              "      <th>A12</th>\n",
              "      <th>A13</th>\n",
              "      <th>A14</th>\n",
              "      <th>A15</th>\n",
              "      <th>A16</th>\n",
              "    </tr>\n",
              "  </thead>\n",
              "  <tbody>\n",
              "    <tr>\n",
              "      <th>0</th>\n",
              "      <td>206979.0</td>\n",
              "      <td>1795.101</td>\n",
              "      <td>712.408675</td>\n",
              "      <td>379.011721</td>\n",
              "      <td>1.879648</td>\n",
              "      <td>84.673526</td>\n",
              "      <td>214037.0</td>\n",
              "      <td>513.355479</td>\n",
              "      <td>0.607021</td>\n",
              "      <td>0.967024</td>\n",
              "      <td>0.807158</td>\n",
              "      <td>0.720591</td>\n",
              "      <td>0.003442</td>\n",
              "      <td>0.000572</td>\n",
              "      <td>0.519252</td>\n",
              "      <td>0.976011</td>\n",
              "    </tr>\n",
              "    <tr>\n",
              "      <th>1</th>\n",
              "      <td>65881.0</td>\n",
              "      <td>1027.604</td>\n",
              "      <td>409.531317</td>\n",
              "      <td>207.223982</td>\n",
              "      <td>1.976274</td>\n",
              "      <td>0.862532</td>\n",
              "      <td>67226.0</td>\n",
              "      <td>289.624402</td>\n",
              "      <td>0.631988</td>\n",
              "      <td>0.979993</td>\n",
              "      <td>0.784004</td>\n",
              "      <td>0.707209</td>\n",
              "      <td>0.006216</td>\n",
              "      <td>0.000959</td>\n",
              "      <td>50.014515</td>\n",
              "      <td>0.988424</td>\n",
              "    </tr>\n",
              "    <tr>\n",
              "      <th>2</th>\n",
              "      <td>73884.0</td>\n",
              "      <td>1092.590</td>\n",
              "      <td>433.076159</td>\n",
              "      <td>220.136215</td>\n",
              "      <td>1.967310</td>\n",
              "      <td>0.861175</td>\n",
              "      <td>75689.0</td>\n",
              "      <td>351.130807</td>\n",
              "      <td>0.632937</td>\n",
              "      <td>0.976152</td>\n",
              "      <td>0.777760</td>\n",
              "      <td>0.708216</td>\n",
              "      <td>0.005862</td>\n",
              "      <td>0.000910</td>\n",
              "      <td>0.501570</td>\n",
              "      <td>0.986745</td>\n",
              "    </tr>\n",
              "    <tr>\n",
              "      <th>3</th>\n",
              "      <td>71678.0</td>\n",
              "      <td>1054.534</td>\n",
              "      <td>422.650982</td>\n",
              "      <td>218.714063</td>\n",
              "      <td>1.932436</td>\n",
              "      <td>0.855694</td>\n",
              "      <td>73261.0</td>\n",
              "      <td>302.098103</td>\n",
              "      <td>0.633086</td>\n",
              "      <td>0.978392</td>\n",
              "      <td>0.809981</td>\n",
              "      <td>0.714770</td>\n",
              "      <td>0.005897</td>\n",
              "      <td>0.000949</td>\n",
              "      <td>0.510896</td>\n",
              "      <td>0.987273</td>\n",
              "    </tr>\n",
              "    <tr>\n",
              "      <th>4</th>\n",
              "      <td>74967.0</td>\n",
              "      <td>1059.749</td>\n",
              "      <td>414.629376</td>\n",
              "      <td>232.186792</td>\n",
              "      <td>1.785758</td>\n",
              "      <td>0.828502</td>\n",
              "      <td>75687.0</td>\n",
              "      <td>308.951370</td>\n",
              "      <td>0.633285</td>\n",
              "      <td>0.990487</td>\n",
              "      <td>0.838830</td>\n",
              "      <td>0.745127</td>\n",
              "      <td>0.005531</td>\n",
              "      <td>0.001052</td>\n",
              "      <td>0.555214</td>\n",
              "      <td>0.991477</td>\n",
              "    </tr>\n",
              "    <tr>\n",
              "      <th>...</th>\n",
              "      <td>...</td>\n",
              "      <td>...</td>\n",
              "      <td>...</td>\n",
              "      <td>...</td>\n",
              "      <td>...</td>\n",
              "      <td>...</td>\n",
              "      <td>...</td>\n",
              "      <td>...</td>\n",
              "      <td>...</td>\n",
              "      <td>...</td>\n",
              "      <td>...</td>\n",
              "      <td>...</td>\n",
              "      <td>...</td>\n",
              "      <td>...</td>\n",
              "      <td>...</td>\n",
              "      <td>...</td>\n",
              "    </tr>\n",
              "    <tr>\n",
              "      <th>1762</th>\n",
              "      <td>186509.0</td>\n",
              "      <td>1672.052</td>\n",
              "      <td>655.698756</td>\n",
              "      <td>366.117510</td>\n",
              "      <td>1.790952</td>\n",
              "      <td>0.829597</td>\n",
              "      <td>189519.0</td>\n",
              "      <td>487.309588</td>\n",
              "      <td>0.844016</td>\n",
              "      <td>0.984118</td>\n",
              "      <td>0.838321</td>\n",
              "      <td>0.743191</td>\n",
              "      <td>0.003516</td>\n",
              "      <td>0.000662</td>\n",
              "      <td>0.552333</td>\n",
              "      <td>0.989202</td>\n",
              "    </tr>\n",
              "    <tr>\n",
              "      <th>1763</th>\n",
              "      <td>186439.0</td>\n",
              "      <td>1663.337</td>\n",
              "      <td>627.810919</td>\n",
              "      <td>382.694747</td>\n",
              "      <td>1.640500</td>\n",
              "      <td>0.792732</td>\n",
              "      <td>188370.0</td>\n",
              "      <td>487.218131</td>\n",
              "      <td>0.848623</td>\n",
              "      <td>0.989749</td>\n",
              "      <td>0.846810</td>\n",
              "      <td>0.776059</td>\n",
              "      <td>0.003367</td>\n",
              "      <td>0.000753</td>\n",
              "      <td>0.602267</td>\n",
              "      <td>0.988020</td>\n",
              "    </tr>\n",
              "    <tr>\n",
              "      <th>1764</th>\n",
              "      <td>77815.0</td>\n",
              "      <td>1075.607</td>\n",
              "      <td>432.770170</td>\n",
              "      <td>230.696366</td>\n",
              "      <td>1.875930</td>\n",
              "      <td>0.846072</td>\n",
              "      <td>78443.0</td>\n",
              "      <td>314.765206</td>\n",
              "      <td>0.850251</td>\n",
              "      <td>0.991994</td>\n",
              "      <td>0.845213</td>\n",
              "      <td>0.727326</td>\n",
              "      <td>0.005562</td>\n",
              "      <td>0.000960</td>\n",
              "      <td>0.529004</td>\n",
              "      <td>0.992374</td>\n",
              "    </tr>\n",
              "    <tr>\n",
              "      <th>1765</th>\n",
              "      <td>162012.0</td>\n",
              "      <td>1528.138</td>\n",
              "      <td>588.943911</td>\n",
              "      <td>353.589588</td>\n",
              "      <td>1.665614</td>\n",
              "      <td>0.799716</td>\n",
              "      <td>163383.0</td>\n",
              "      <td>454.180675</td>\n",
              "      <td>0.852269</td>\n",
              "      <td>0.991609</td>\n",
              "      <td>0.871830</td>\n",
              "      <td>0.771178</td>\n",
              "      <td>0.003635</td>\n",
              "      <td>0.000793</td>\n",
              "      <td>0.594716</td>\n",
              "      <td>0.990567</td>\n",
              "    </tr>\n",
              "    <tr>\n",
              "      <th>1766</th>\n",
              "      <td>165366.0</td>\n",
              "      <td>1566.762</td>\n",
              "      <td>592.067214</td>\n",
              "      <td>360.194072</td>\n",
              "      <td>1.643745</td>\n",
              "      <td>0.793656</td>\n",
              "      <td>168206.0</td>\n",
              "      <td>458.857854</td>\n",
              "      <td>0.858420</td>\n",
              "      <td>0.983116</td>\n",
              "      <td>0.846545</td>\n",
              "      <td>0.775010</td>\n",
              "      <td>0.003580</td>\n",
              "      <td>0.000797</td>\n",
              "      <td>0.600640</td>\n",
              "      <td>0.987299</td>\n",
              "    </tr>\n",
              "  </tbody>\n",
              "</table>\n",
              "<p>1767 rows × 16 columns</p>\n",
              "</div>"
            ],
            "text/plain": [
              "            A1        A2          A3  ...       A14        A15       A16\n",
              "0     206979.0  1795.101  712.408675  ...  0.000572   0.519252  0.976011\n",
              "1      65881.0  1027.604  409.531317  ...  0.000959  50.014515  0.988424\n",
              "2      73884.0  1092.590  433.076159  ...  0.000910   0.501570  0.986745\n",
              "3      71678.0  1054.534  422.650982  ...  0.000949   0.510896  0.987273\n",
              "4      74967.0  1059.749  414.629376  ...  0.001052   0.555214  0.991477\n",
              "...        ...       ...         ...  ...       ...        ...       ...\n",
              "1762  186509.0  1672.052  655.698756  ...  0.000662   0.552333  0.989202\n",
              "1763  186439.0  1663.337  627.810919  ...  0.000753   0.602267  0.988020\n",
              "1764   77815.0  1075.607  432.770170  ...  0.000960   0.529004  0.992374\n",
              "1765  162012.0  1528.138  588.943911  ...  0.000793   0.594716  0.990567\n",
              "1766  165366.0  1566.762  592.067214  ...  0.000797   0.600640  0.987299\n",
              "\n",
              "[1767 rows x 16 columns]"
            ]
          },
          "metadata": {},
          "execution_count": 21
        }
      ]
    },
    {
      "cell_type": "markdown",
      "metadata": {
        "id": "QG1jrSsSdvCj"
      },
      "source": [
        "### (c) Identify the outliers in each of the attribute and replace the outliers using the ‘capping process’."
      ]
    },
    {
      "cell_type": "code",
      "metadata": {
        "colab": {
          "base_uri": "https://localhost:8080/"
        },
        "id": "yko6xOpiAhQv",
        "outputId": "dd1163b4-f985-467a-fb00-419232266361"
      },
      "source": [
        "D.isna().sum()"
      ],
      "execution_count": null,
      "outputs": [
        {
          "output_type": "execute_result",
          "data": {
            "text/plain": [
              "A1     0\n",
              "A2     0\n",
              "A3     0\n",
              "A4     0\n",
              "A5     0\n",
              "A6     0\n",
              "A7     0\n",
              "A8     0\n",
              "A9     0\n",
              "A10    0\n",
              "A11    0\n",
              "A12    0\n",
              "A13    0\n",
              "A14    0\n",
              "A15    0\n",
              "A16    0\n",
              "dtype: int64"
            ]
          },
          "metadata": {},
          "execution_count": 22
        }
      ]
    },
    {
      "cell_type": "code",
      "metadata": {
        "colab": {
          "base_uri": "https://localhost:8080/"
        },
        "id": "moZroBmAA2r7",
        "outputId": "13348a71-69da-47e2-ba6b-48cffaf09ee8"
      },
      "source": [
        "for columns in names:\n",
        "  D = remove_outlier(D, columns)"
      ],
      "execution_count": null,
      "outputs": [
        {
          "output_type": "stream",
          "name": "stdout",
          "text": [
            "1.088292734643435\n",
            "1.0013902698011823\n",
            "1.0493420127900392\n",
            "0.9581606329421872\n",
            "-0.3659709476522011\n",
            "-0.7426101057414974\n",
            "1.0922056622301268\n",
            "0.9805861666456038\n",
            "-0.6627971666478214\n",
            "-0.8973154770300109\n",
            "-0.021513460249742\n",
            "0.5790692957765631\n",
            "-0.7688324119154332\n",
            "-0.3012505140135855\n",
            "0.6383354940285465\n"
          ]
        }
      ]
    },
    {
      "cell_type": "code",
      "metadata": {
        "id": "wyuPAPMYA_n_"
      },
      "source": [
        ""
      ],
      "execution_count": null,
      "outputs": []
    },
    {
      "cell_type": "markdown",
      "metadata": {
        "id": "9Zex1H3aeD_M"
      },
      "source": [
        "### (d)  Scale the features of the dataset with standardisation scaler and a min-max normalization scalar"
      ]
    },
    {
      "cell_type": "code",
      "metadata": {
        "id": "M9x93p0tBFN6"
      },
      "source": [
        "scaler = StandardScaler()\n",
        "scaler.fit(D)\n",
        "Dl = scaler.transform(D)"
      ],
      "execution_count": null,
      "outputs": []
    },
    {
      "cell_type": "code",
      "metadata": {
        "colab": {
          "base_uri": "https://localhost:8080/"
        },
        "id": "jS4z39GMBlTK",
        "outputId": "5ea3ba44-aa00-4182-df30-dc6ca817011f"
      },
      "source": [
        "Dl"
      ],
      "execution_count": null,
      "outputs": [
        {
          "output_type": "execute_result",
          "data": {
            "text/plain": [
              "array([[ 2.17258371,  2.27395416,  2.69041523, ..., -2.34662743,\n",
              "        -1.6627154 , -3.30629514],\n",
              "       [-0.73930501, -0.63187408, -0.48708029, ..., -0.51397426,\n",
              "         2.4617052 , -0.56857059],\n",
              "       [-0.5741443 , -0.38582992, -0.24007064, ..., -0.79037988,\n",
              "        -2.07668373, -0.93891318],\n",
              "       ...,\n",
              "       [-0.49301888, -0.45012943, -0.24328078, ..., -0.50913709,\n",
              "        -1.43439365,  0.30266256],\n",
              "       [ 1.24458402,  1.26320281,  1.39514266, ..., -1.44020267,\n",
              "         0.10410355, -0.09584956],\n",
              "       [ 1.31380169,  1.40943754,  1.42790933, ..., -1.41970693,\n",
              "         0.24280898, -0.81659868]])"
            ]
          },
          "metadata": {},
          "execution_count": 25
        }
      ]
    },
    {
      "cell_type": "code",
      "metadata": {
        "id": "Qs6jVS6oBbZn"
      },
      "source": [
        "scaler = MinMaxScaler(feature_range=(0,1))\n",
        "Dl = scaler.fit_transform(D)"
      ],
      "execution_count": null,
      "outputs": []
    },
    {
      "cell_type": "code",
      "metadata": {
        "colab": {
          "base_uri": "https://localhost:8080/"
        },
        "id": "eSp4UbLFBsj6",
        "outputId": "857933ff-3879-4988-b5ab-d0eb03a750f5"
      },
      "source": [
        "Dl"
      ],
      "execution_count": null,
      "outputs": [
        {
          "output_type": "execute_result",
          "data": {
            "text/plain": [
              "array([[0.77219385, 0.84085898, 0.94299211, ..., 0.        , 0.13523864,\n",
              "        0.34367715],\n",
              "       [0.09744539, 0.19892439, 0.29023468, ..., 0.38282925, 1.        ,\n",
              "        0.69247153],\n",
              "       [0.13571675, 0.25327869, 0.34097822, ..., 0.32508992, 0.04844249,\n",
              "        0.64528876],\n",
              "       ...,\n",
              "       [0.15451528, 0.23907411, 0.34031876, ..., 0.3838397 , 0.18311053,\n",
              "        0.80346926],\n",
              "       [0.55715597, 0.61757109, 0.67690242, ..., 0.1893462 , 0.50568504,\n",
              "        0.75269761],\n",
              "       [0.57319523, 0.64987621, 0.68363372, ..., 0.19362762, 0.53476721,\n",
              "        0.660872  ]])"
            ]
          },
          "metadata": {},
          "execution_count": 27
        }
      ]
    },
    {
      "cell_type": "markdown",
      "metadata": {
        "id": "MW64Gb6ekE8V"
      },
      "source": [
        "## 2. Training the models"
      ]
    },
    {
      "cell_type": "markdown",
      "metadata": {
        "id": "MZN3xQQrkctB"
      },
      "source": [
        "### (a) With 75% of the dataset, Train a clustering model and concduct the following experiments"
      ]
    },
    {
      "cell_type": "markdown",
      "metadata": {
        "id": "r5JbbnYMCaj8"
      },
      "source": [
        "#### (i) Experiment 1 (E1): Train the K-means clustering model with the data set."
      ]
    },
    {
      "cell_type": "code",
      "metadata": {
        "id": "41UgASNhfvIH",
        "colab": {
          "base_uri": "https://localhost:8080/",
          "height": 327
        },
        "outputId": "6671cdf9-eff5-4d85-b7e9-f7eb45f1cb32"
      },
      "source": [
        "wcss = ElbowMethod(D, 16)"
      ],
      "execution_count": null,
      "outputs": [
        {
          "output_type": "stream",
          "name": "stdout",
          "text": [
            "Value of wcss:  [8404516845964.626, 670984061457.0364, 309062382358.683, 203126291450.3485, 139459237865.67517, 100958436937.71481, 78798167029.09567, 61492418372.50102, 46639657062.29703, 40414882595.47864, 34622499249.92219, 29428092554.615944, 25696543578.73893, 21977067733.532402, 19221698671.674816]\n"
          ]
        },
        {
          "output_type": "display_data",
          "data": {
            "image/png": "[encoded data removed]",
            "text/plain": [
              "<Figure size 432x288 with 1 Axes>"
            ]
          },
          "metadata": {
            "needs_background": "light"
          }
        }
      ]
    },
    {
      "cell_type": "markdown",
      "metadata": {
        "id": "U_Y3E8VfDaTg"
      },
      "source": [
        "Takin the value of k as 2."
      ]
    },
    {
      "cell_type": "code",
      "metadata": {
        "id": "7LZ1wjkaDPIi"
      },
      "source": [
        "k = 2"
      ],
      "execution_count": null,
      "outputs": []
    },
    {
      "cell_type": "code",
      "metadata": {
        "colab": {
          "base_uri": "https://localhost:8080/",
          "height": 552
        },
        "id": "wlopSlIFDc3A",
        "outputId": "b363c526-b2ca-470b-c121-663f1e7ef3b9"
      },
      "source": [
        "kmeans, y_clusters = Supreme(D, D, D, k = k,t_size=0.25, isClustering= True, isKmeans=True, isPlot=True)"
      ],
      "execution_count": null,
      "outputs": [
        {
          "output_type": "stream",
          "name": "stdout",
          "text": [
            "Clustering:  [1 0 0 ... 0 1 1]\n",
            "Silhoutte Score:  0.8720913266822289\n"
          ]
        },
        {
          "output_type": "display_data",
          "data": {
            "image/png": "[encoded data removed]",
            "text/plain": [
              "<Figure size 1080x576 with 1 Axes>"
            ]
          },
          "metadata": {}
        }
      ]
    },
    {
      "cell_type": "code",
      "metadata": {
        "colab": {
          "base_uri": "https://localhost:8080/"
        },
        "id": "7iphwTBWFAQs",
        "outputId": "8536d38d-ac24-48f4-de8c-cf3aee6a6fef"
      },
      "source": [
        "kmeans.cluster_centers_"
      ],
      "execution_count": null,
      "outputs": [
        {
          "output_type": "execute_result",
          "data": {
            "text/plain": [
              "array([[7.16791812e+04, 1.03089636e+03, 3.98502387e+02, 2.30947011e+02,\n",
              "        1.72766133e+00, 8.13430021e-01, 7.27758685e+04, 3.01866660e+02,\n",
              "        7.59707771e-01, 9.85068656e-01, 8.46419048e-01, 7.58038308e-01,\n",
              "        5.57966643e-03, 1.13808384e-03, 5.75196445e-01, 9.90656409e-01],\n",
              "       [1.73708006e+05, 1.58682284e+03, 5.93746342e+02, 3.74494358e+02,\n",
              "        1.58819411e+00, 7.74815052e-01, 1.76040635e+05, 4.69270023e+02,\n",
              "        7.76778814e-01, 9.86993270e-01, 8.64197076e-01, 7.91223648e-01,\n",
              "        3.44074409e-03, 8.43314090e-04, 6.26415131e-01, 9.91829684e-01]])"
            ]
          },
          "metadata": {},
          "execution_count": 31
        }
      ]
    },
    {
      "cell_type": "code",
      "metadata": {
        "colab": {
          "base_uri": "https://localhost:8080/"
        },
        "id": "G3W73tiMFDJU",
        "outputId": "69233b38-a577-4d98-c352-b54db6c7d7e7"
      },
      "source": [
        "(unique, counts) = np.unique(y_clusters, return_counts=True)\n",
        "frequencies = np.asarray((unique, counts)).T\n",
        "print(frequencies)"
      ],
      "execution_count": null,
      "outputs": [
        {
          "output_type": "stream",
          "name": "stdout",
          "text": [
            "[[   0 1247]\n",
            " [   1  520]]\n"
          ]
        }
      ]
    },
    {
      "cell_type": "markdown",
      "metadata": {
        "id": "rx54iL-jsI3c"
      },
      "source": [
        "#### (ii)  Experiment 2 (E2) - Generating the labeled dataset from the output of E1"
      ]
    },
    {
      "cell_type": "code",
      "metadata": {
        "id": "3KpIuQAQI9Yc"
      },
      "source": [
        "clusters_label = []"
      ],
      "execution_count": null,
      "outputs": []
    },
    {
      "cell_type": "code",
      "metadata": {
        "id": "iicVWWZhGmGj"
      },
      "source": [
        "for x in range(0, len(y_clusters)):\n",
        "  if(y_clusters[x]==0):\n",
        "    clusters_label.append('class A')\n",
        "  else:\n",
        "    clusters_label.append('class B')\n",
        "label = np.array(clusters_label)"
      ],
      "execution_count": null,
      "outputs": []
    },
    {
      "cell_type": "code",
      "metadata": {
        "colab": {
          "base_uri": "https://localhost:8080/"
        },
        "id": "_rWHSPWHJZB0",
        "outputId": "9770bf96-b730-4ad3-aa3b-9209ddc5d682"
      },
      "source": [
        "(unique, counts) = np.unique(label, return_counts=True)\n",
        "frequencies = np.asarray((unique, counts)).T\n",
        "print(frequencies)"
      ],
      "execution_count": null,
      "outputs": [
        {
          "output_type": "stream",
          "name": "stdout",
          "text": [
            "[['class A' '1247']\n",
            " ['class B' '520']]\n"
          ]
        }
      ]
    },
    {
      "cell_type": "code",
      "metadata": {
        "id": "XFrNNvDJJ_KN"
      },
      "source": [
        "D1 = D.copy()"
      ],
      "execution_count": null,
      "outputs": []
    },
    {
      "cell_type": "code",
      "metadata": {
        "colab": {
          "base_uri": "https://localhost:8080/",
          "height": 423
        },
        "id": "ywY_mcDXKVvg",
        "outputId": "bc5c6165-57e4-4f58-ea0a-6c55aa153464"
      },
      "source": [
        "D1['class'] = label.tolist()\n",
        "D1"
      ],
      "execution_count": null,
      "outputs": [
        {
          "output_type": "execute_result",
          "data": {
            "text/html": [
              "<div>\n",
              "<style scoped>\n",
              "    .dataframe tbody tr th:only-of-type {\n",
              "        vertical-align: middle;\n",
              "    }\n",
              "\n",
              "    .dataframe tbody tr th {\n",
              "        vertical-align: top;\n",
              "    }\n",
              "\n",
              "    .dataframe thead th {\n",
              "        text-align: right;\n",
              "    }\n",
              "</style>\n",
              "<table border=\"1\" class=\"dataframe\">\n",
              "  <thead>\n",
              "    <tr style=\"text-align: right;\">\n",
              "      <th></th>\n",
              "      <th>A1</th>\n",
              "      <th>A2</th>\n",
              "      <th>A3</th>\n",
              "      <th>A4</th>\n",
              "      <th>A5</th>\n",
              "      <th>A6</th>\n",
              "      <th>A7</th>\n",
              "      <th>A8</th>\n",
              "      <th>A9</th>\n",
              "      <th>A10</th>\n",
              "      <th>A11</th>\n",
              "      <th>A12</th>\n",
              "      <th>A13</th>\n",
              "      <th>A14</th>\n",
              "      <th>A15</th>\n",
              "      <th>A16</th>\n",
              "      <th>class</th>\n",
              "    </tr>\n",
              "  </thead>\n",
              "  <tbody>\n",
              "    <tr>\n",
              "      <th>0</th>\n",
              "      <td>206979.0</td>\n",
              "      <td>1795.101</td>\n",
              "      <td>712.408675</td>\n",
              "      <td>379.011721</td>\n",
              "      <td>1.879648</td>\n",
              "      <td>0.883830</td>\n",
              "      <td>214037.0</td>\n",
              "      <td>513.355479</td>\n",
              "      <td>0.654577</td>\n",
              "      <td>0.971411</td>\n",
              "      <td>0.807158</td>\n",
              "      <td>0.720591</td>\n",
              "      <td>0.003442</td>\n",
              "      <td>0.000631</td>\n",
              "      <td>0.519252</td>\n",
              "      <td>0.976011</td>\n",
              "      <td>class B</td>\n",
              "    </tr>\n",
              "    <tr>\n",
              "      <th>1</th>\n",
              "      <td>65881.0</td>\n",
              "      <td>1027.604</td>\n",
              "      <td>409.531317</td>\n",
              "      <td>207.223982</td>\n",
              "      <td>1.976274</td>\n",
              "      <td>0.862532</td>\n",
              "      <td>67226.0</td>\n",
              "      <td>289.624402</td>\n",
              "      <td>0.654577</td>\n",
              "      <td>0.979993</td>\n",
              "      <td>0.784004</td>\n",
              "      <td>0.707209</td>\n",
              "      <td>0.006216</td>\n",
              "      <td>0.000959</td>\n",
              "      <td>0.695413</td>\n",
              "      <td>0.988424</td>\n",
              "      <td>class A</td>\n",
              "    </tr>\n",
              "    <tr>\n",
              "      <th>2</th>\n",
              "      <td>73884.0</td>\n",
              "      <td>1092.590</td>\n",
              "      <td>433.076159</td>\n",
              "      <td>220.136215</td>\n",
              "      <td>1.967310</td>\n",
              "      <td>0.861175</td>\n",
              "      <td>75689.0</td>\n",
              "      <td>351.130807</td>\n",
              "      <td>0.654577</td>\n",
              "      <td>0.976152</td>\n",
              "      <td>0.782469</td>\n",
              "      <td>0.708216</td>\n",
              "      <td>0.005862</td>\n",
              "      <td>0.000910</td>\n",
              "      <td>0.501570</td>\n",
              "      <td>0.986745</td>\n",
              "      <td>class A</td>\n",
              "    </tr>\n",
              "    <tr>\n",
              "      <th>3</th>\n",
              "      <td>71678.0</td>\n",
              "      <td>1054.534</td>\n",
              "      <td>422.650982</td>\n",
              "      <td>218.714063</td>\n",
              "      <td>1.932436</td>\n",
              "      <td>0.855694</td>\n",
              "      <td>73261.0</td>\n",
              "      <td>302.098103</td>\n",
              "      <td>0.654577</td>\n",
              "      <td>0.978392</td>\n",
              "      <td>0.809981</td>\n",
              "      <td>0.714770</td>\n",
              "      <td>0.005897</td>\n",
              "      <td>0.000949</td>\n",
              "      <td>0.510896</td>\n",
              "      <td>0.987273</td>\n",
              "      <td>class A</td>\n",
              "    </tr>\n",
              "    <tr>\n",
              "      <th>4</th>\n",
              "      <td>74967.0</td>\n",
              "      <td>1059.749</td>\n",
              "      <td>414.629376</td>\n",
              "      <td>232.186792</td>\n",
              "      <td>1.785758</td>\n",
              "      <td>0.828502</td>\n",
              "      <td>75687.0</td>\n",
              "      <td>308.951370</td>\n",
              "      <td>0.654577</td>\n",
              "      <td>0.990487</td>\n",
              "      <td>0.838830</td>\n",
              "      <td>0.745127</td>\n",
              "      <td>0.005531</td>\n",
              "      <td>0.001052</td>\n",
              "      <td>0.555214</td>\n",
              "      <td>0.991477</td>\n",
              "      <td>class A</td>\n",
              "    </tr>\n",
              "    <tr>\n",
              "      <th>...</th>\n",
              "      <td>...</td>\n",
              "      <td>...</td>\n",
              "      <td>...</td>\n",
              "      <td>...</td>\n",
              "      <td>...</td>\n",
              "      <td>...</td>\n",
              "      <td>...</td>\n",
              "      <td>...</td>\n",
              "      <td>...</td>\n",
              "      <td>...</td>\n",
              "      <td>...</td>\n",
              "      <td>...</td>\n",
              "      <td>...</td>\n",
              "      <td>...</td>\n",
              "      <td>...</td>\n",
              "      <td>...</td>\n",
              "      <td>...</td>\n",
              "    </tr>\n",
              "    <tr>\n",
              "      <th>1762</th>\n",
              "      <td>186509.0</td>\n",
              "      <td>1672.052</td>\n",
              "      <td>655.698756</td>\n",
              "      <td>366.117510</td>\n",
              "      <td>1.790952</td>\n",
              "      <td>0.829597</td>\n",
              "      <td>189519.0</td>\n",
              "      <td>487.309588</td>\n",
              "      <td>0.844016</td>\n",
              "      <td>0.984118</td>\n",
              "      <td>0.838321</td>\n",
              "      <td>0.743191</td>\n",
              "      <td>0.003516</td>\n",
              "      <td>0.000662</td>\n",
              "      <td>0.552333</td>\n",
              "      <td>0.989202</td>\n",
              "      <td>class B</td>\n",
              "    </tr>\n",
              "    <tr>\n",
              "      <th>1763</th>\n",
              "      <td>186439.0</td>\n",
              "      <td>1663.337</td>\n",
              "      <td>627.810919</td>\n",
              "      <td>382.694747</td>\n",
              "      <td>1.640500</td>\n",
              "      <td>0.792732</td>\n",
              "      <td>188370.0</td>\n",
              "      <td>487.218131</td>\n",
              "      <td>0.848623</td>\n",
              "      <td>0.989749</td>\n",
              "      <td>0.846810</td>\n",
              "      <td>0.776059</td>\n",
              "      <td>0.003367</td>\n",
              "      <td>0.000753</td>\n",
              "      <td>0.602267</td>\n",
              "      <td>0.988020</td>\n",
              "      <td>class B</td>\n",
              "    </tr>\n",
              "    <tr>\n",
              "      <th>1764</th>\n",
              "      <td>77815.0</td>\n",
              "      <td>1075.607</td>\n",
              "      <td>432.770170</td>\n",
              "      <td>230.696366</td>\n",
              "      <td>1.875930</td>\n",
              "      <td>0.846072</td>\n",
              "      <td>78443.0</td>\n",
              "      <td>314.765206</td>\n",
              "      <td>0.850251</td>\n",
              "      <td>0.991994</td>\n",
              "      <td>0.845213</td>\n",
              "      <td>0.727326</td>\n",
              "      <td>0.005562</td>\n",
              "      <td>0.000960</td>\n",
              "      <td>0.529004</td>\n",
              "      <td>0.992374</td>\n",
              "      <td>class A</td>\n",
              "    </tr>\n",
              "    <tr>\n",
              "      <th>1765</th>\n",
              "      <td>162012.0</td>\n",
              "      <td>1528.138</td>\n",
              "      <td>588.943911</td>\n",
              "      <td>353.589588</td>\n",
              "      <td>1.665614</td>\n",
              "      <td>0.799716</td>\n",
              "      <td>163383.0</td>\n",
              "      <td>454.180675</td>\n",
              "      <td>0.852269</td>\n",
              "      <td>0.991609</td>\n",
              "      <td>0.871830</td>\n",
              "      <td>0.771178</td>\n",
              "      <td>0.003635</td>\n",
              "      <td>0.000793</td>\n",
              "      <td>0.594716</td>\n",
              "      <td>0.990567</td>\n",
              "      <td>class B</td>\n",
              "    </tr>\n",
              "    <tr>\n",
              "      <th>1766</th>\n",
              "      <td>165366.0</td>\n",
              "      <td>1566.762</td>\n",
              "      <td>592.067214</td>\n",
              "      <td>360.194072</td>\n",
              "      <td>1.643745</td>\n",
              "      <td>0.793656</td>\n",
              "      <td>168206.0</td>\n",
              "      <td>458.857854</td>\n",
              "      <td>0.858420</td>\n",
              "      <td>0.983116</td>\n",
              "      <td>0.846545</td>\n",
              "      <td>0.775010</td>\n",
              "      <td>0.003580</td>\n",
              "      <td>0.000797</td>\n",
              "      <td>0.600640</td>\n",
              "      <td>0.987299</td>\n",
              "      <td>class B</td>\n",
              "    </tr>\n",
              "  </tbody>\n",
              "</table>\n",
              "<p>1767 rows × 17 columns</p>\n",
              "</div>"
            ],
            "text/plain": [
              "            A1        A2          A3  ...       A15       A16    class\n",
              "0     206979.0  1795.101  712.408675  ...  0.519252  0.976011  class B\n",
              "1      65881.0  1027.604  409.531317  ...  0.695413  0.988424  class A\n",
              "2      73884.0  1092.590  433.076159  ...  0.501570  0.986745  class A\n",
              "3      71678.0  1054.534  422.650982  ...  0.510896  0.987273  class A\n",
              "4      74967.0  1059.749  414.629376  ...  0.555214  0.991477  class A\n",
              "...        ...       ...         ...  ...       ...       ...      ...\n",
              "1762  186509.0  1672.052  655.698756  ...  0.552333  0.989202  class B\n",
              "1763  186439.0  1663.337  627.810919  ...  0.602267  0.988020  class B\n",
              "1764   77815.0  1075.607  432.770170  ...  0.529004  0.992374  class A\n",
              "1765  162012.0  1528.138  588.943911  ...  0.594716  0.990567  class B\n",
              "1766  165366.0  1566.762  592.067214  ...  0.600640  0.987299  class B\n",
              "\n",
              "[1767 rows x 17 columns]"
            ]
          },
          "metadata": {},
          "execution_count": 37
        }
      ]
    },
    {
      "cell_type": "markdown",
      "metadata": {
        "id": "na1F-FVyscNm"
      },
      "source": [
        "#### (iii)  Experiment 3 (E3): Train the SVM classifier without doing any standardization/normalization procedure with the new data set D1 "
      ]
    },
    {
      "cell_type": "code",
      "metadata": {
        "colab": {
          "base_uri": "https://localhost:8080/",
          "height": 423
        },
        "id": "DFWJitovNSsp",
        "outputId": "38c13bc7-b67b-4af6-cc88-e8273b0d0d63"
      },
      "source": [
        "D1"
      ],
      "execution_count": null,
      "outputs": [
        {
          "output_type": "execute_result",
          "data": {
            "text/html": [
              "<div>\n",
              "<style scoped>\n",
              "    .dataframe tbody tr th:only-of-type {\n",
              "        vertical-align: middle;\n",
              "    }\n",
              "\n",
              "    .dataframe tbody tr th {\n",
              "        vertical-align: top;\n",
              "    }\n",
              "\n",
              "    .dataframe thead th {\n",
              "        text-align: right;\n",
              "    }\n",
              "</style>\n",
              "<table border=\"1\" class=\"dataframe\">\n",
              "  <thead>\n",
              "    <tr style=\"text-align: right;\">\n",
              "      <th></th>\n",
              "      <th>A1</th>\n",
              "      <th>A2</th>\n",
              "      <th>A3</th>\n",
              "      <th>A4</th>\n",
              "      <th>A5</th>\n",
              "      <th>A6</th>\n",
              "      <th>A7</th>\n",
              "      <th>A8</th>\n",
              "      <th>A9</th>\n",
              "      <th>A10</th>\n",
              "      <th>A11</th>\n",
              "      <th>A12</th>\n",
              "      <th>A13</th>\n",
              "      <th>A14</th>\n",
              "      <th>A15</th>\n",
              "      <th>A16</th>\n",
              "      <th>class</th>\n",
              "    </tr>\n",
              "  </thead>\n",
              "  <tbody>\n",
              "    <tr>\n",
              "      <th>0</th>\n",
              "      <td>206979.0</td>\n",
              "      <td>1795.101</td>\n",
              "      <td>712.408675</td>\n",
              "      <td>379.011721</td>\n",
              "      <td>1.879648</td>\n",
              "      <td>0.883830</td>\n",
              "      <td>214037.0</td>\n",
              "      <td>513.355479</td>\n",
              "      <td>0.654577</td>\n",
              "      <td>0.971411</td>\n",
              "      <td>0.807158</td>\n",
              "      <td>0.720591</td>\n",
              "      <td>0.003442</td>\n",
              "      <td>0.000631</td>\n",
              "      <td>0.519252</td>\n",
              "      <td>0.976011</td>\n",
              "      <td>class B</td>\n",
              "    </tr>\n",
              "    <tr>\n",
              "      <th>1</th>\n",
              "      <td>65881.0</td>\n",
              "      <td>1027.604</td>\n",
              "      <td>409.531317</td>\n",
              "      <td>207.223982</td>\n",
              "      <td>1.976274</td>\n",
              "      <td>0.862532</td>\n",
              "      <td>67226.0</td>\n",
              "      <td>289.624402</td>\n",
              "      <td>0.654577</td>\n",
              "      <td>0.979993</td>\n",
              "      <td>0.784004</td>\n",
              "      <td>0.707209</td>\n",
              "      <td>0.006216</td>\n",
              "      <td>0.000959</td>\n",
              "      <td>0.695413</td>\n",
              "      <td>0.988424</td>\n",
              "      <td>class A</td>\n",
              "    </tr>\n",
              "    <tr>\n",
              "      <th>2</th>\n",
              "      <td>73884.0</td>\n",
              "      <td>1092.590</td>\n",
              "      <td>433.076159</td>\n",
              "      <td>220.136215</td>\n",
              "      <td>1.967310</td>\n",
              "      <td>0.861175</td>\n",
              "      <td>75689.0</td>\n",
              "      <td>351.130807</td>\n",
              "      <td>0.654577</td>\n",
              "      <td>0.976152</td>\n",
              "      <td>0.782469</td>\n",
              "      <td>0.708216</td>\n",
              "      <td>0.005862</td>\n",
              "      <td>0.000910</td>\n",
              "      <td>0.501570</td>\n",
              "      <td>0.986745</td>\n",
              "      <td>class A</td>\n",
              "    </tr>\n",
              "    <tr>\n",
              "      <th>3</th>\n",
              "      <td>71678.0</td>\n",
              "      <td>1054.534</td>\n",
              "      <td>422.650982</td>\n",
              "      <td>218.714063</td>\n",
              "      <td>1.932436</td>\n",
              "      <td>0.855694</td>\n",
              "      <td>73261.0</td>\n",
              "      <td>302.098103</td>\n",
              "      <td>0.654577</td>\n",
              "      <td>0.978392</td>\n",
              "      <td>0.809981</td>\n",
              "      <td>0.714770</td>\n",
              "      <td>0.005897</td>\n",
              "      <td>0.000949</td>\n",
              "      <td>0.510896</td>\n",
              "      <td>0.987273</td>\n",
              "      <td>class A</td>\n",
              "    </tr>\n",
              "    <tr>\n",
              "      <th>4</th>\n",
              "      <td>74967.0</td>\n",
              "      <td>1059.749</td>\n",
              "      <td>414.629376</td>\n",
              "      <td>232.186792</td>\n",
              "      <td>1.785758</td>\n",
              "      <td>0.828502</td>\n",
              "      <td>75687.0</td>\n",
              "      <td>308.951370</td>\n",
              "      <td>0.654577</td>\n",
              "      <td>0.990487</td>\n",
              "      <td>0.838830</td>\n",
              "      <td>0.745127</td>\n",
              "      <td>0.005531</td>\n",
              "      <td>0.001052</td>\n",
              "      <td>0.555214</td>\n",
              "      <td>0.991477</td>\n",
              "      <td>class A</td>\n",
              "    </tr>\n",
              "    <tr>\n",
              "      <th>...</th>\n",
              "      <td>...</td>\n",
              "      <td>...</td>\n",
              "      <td>...</td>\n",
              "      <td>...</td>\n",
              "      <td>...</td>\n",
              "      <td>...</td>\n",
              "      <td>...</td>\n",
              "      <td>...</td>\n",
              "      <td>...</td>\n",
              "      <td>...</td>\n",
              "      <td>...</td>\n",
              "      <td>...</td>\n",
              "      <td>...</td>\n",
              "      <td>...</td>\n",
              "      <td>...</td>\n",
              "      <td>...</td>\n",
              "      <td>...</td>\n",
              "    </tr>\n",
              "    <tr>\n",
              "      <th>1762</th>\n",
              "      <td>186509.0</td>\n",
              "      <td>1672.052</td>\n",
              "      <td>655.698756</td>\n",
              "      <td>366.117510</td>\n",
              "      <td>1.790952</td>\n",
              "      <td>0.829597</td>\n",
              "      <td>189519.0</td>\n",
              "      <td>487.309588</td>\n",
              "      <td>0.844016</td>\n",
              "      <td>0.984118</td>\n",
              "      <td>0.838321</td>\n",
              "      <td>0.743191</td>\n",
              "      <td>0.003516</td>\n",
              "      <td>0.000662</td>\n",
              "      <td>0.552333</td>\n",
              "      <td>0.989202</td>\n",
              "      <td>class B</td>\n",
              "    </tr>\n",
              "    <tr>\n",
              "      <th>1763</th>\n",
              "      <td>186439.0</td>\n",
              "      <td>1663.337</td>\n",
              "      <td>627.810919</td>\n",
              "      <td>382.694747</td>\n",
              "      <td>1.640500</td>\n",
              "      <td>0.792732</td>\n",
              "      <td>188370.0</td>\n",
              "      <td>487.218131</td>\n",
              "      <td>0.848623</td>\n",
              "      <td>0.989749</td>\n",
              "      <td>0.846810</td>\n",
              "      <td>0.776059</td>\n",
              "      <td>0.003367</td>\n",
              "      <td>0.000753</td>\n",
              "      <td>0.602267</td>\n",
              "      <td>0.988020</td>\n",
              "      <td>class B</td>\n",
              "    </tr>\n",
              "    <tr>\n",
              "      <th>1764</th>\n",
              "      <td>77815.0</td>\n",
              "      <td>1075.607</td>\n",
              "      <td>432.770170</td>\n",
              "      <td>230.696366</td>\n",
              "      <td>1.875930</td>\n",
              "      <td>0.846072</td>\n",
              "      <td>78443.0</td>\n",
              "      <td>314.765206</td>\n",
              "      <td>0.850251</td>\n",
              "      <td>0.991994</td>\n",
              "      <td>0.845213</td>\n",
              "      <td>0.727326</td>\n",
              "      <td>0.005562</td>\n",
              "      <td>0.000960</td>\n",
              "      <td>0.529004</td>\n",
              "      <td>0.992374</td>\n",
              "      <td>class A</td>\n",
              "    </tr>\n",
              "    <tr>\n",
              "      <th>1765</th>\n",
              "      <td>162012.0</td>\n",
              "      <td>1528.138</td>\n",
              "      <td>588.943911</td>\n",
              "      <td>353.589588</td>\n",
              "      <td>1.665614</td>\n",
              "      <td>0.799716</td>\n",
              "      <td>163383.0</td>\n",
              "      <td>454.180675</td>\n",
              "      <td>0.852269</td>\n",
              "      <td>0.991609</td>\n",
              "      <td>0.871830</td>\n",
              "      <td>0.771178</td>\n",
              "      <td>0.003635</td>\n",
              "      <td>0.000793</td>\n",
              "      <td>0.594716</td>\n",
              "      <td>0.990567</td>\n",
              "      <td>class B</td>\n",
              "    </tr>\n",
              "    <tr>\n",
              "      <th>1766</th>\n",
              "      <td>165366.0</td>\n",
              "      <td>1566.762</td>\n",
              "      <td>592.067214</td>\n",
              "      <td>360.194072</td>\n",
              "      <td>1.643745</td>\n",
              "      <td>0.793656</td>\n",
              "      <td>168206.0</td>\n",
              "      <td>458.857854</td>\n",
              "      <td>0.858420</td>\n",
              "      <td>0.983116</td>\n",
              "      <td>0.846545</td>\n",
              "      <td>0.775010</td>\n",
              "      <td>0.003580</td>\n",
              "      <td>0.000797</td>\n",
              "      <td>0.600640</td>\n",
              "      <td>0.987299</td>\n",
              "      <td>class B</td>\n",
              "    </tr>\n",
              "  </tbody>\n",
              "</table>\n",
              "<p>1767 rows × 17 columns</p>\n",
              "</div>"
            ],
            "text/plain": [
              "            A1        A2          A3  ...       A15       A16    class\n",
              "0     206979.0  1795.101  712.408675  ...  0.519252  0.976011  class B\n",
              "1      65881.0  1027.604  409.531317  ...  0.695413  0.988424  class A\n",
              "2      73884.0  1092.590  433.076159  ...  0.501570  0.986745  class A\n",
              "3      71678.0  1054.534  422.650982  ...  0.510896  0.987273  class A\n",
              "4      74967.0  1059.749  414.629376  ...  0.555214  0.991477  class A\n",
              "...        ...       ...         ...  ...       ...       ...      ...\n",
              "1762  186509.0  1672.052  655.698756  ...  0.552333  0.989202  class B\n",
              "1763  186439.0  1663.337  627.810919  ...  0.602267  0.988020  class B\n",
              "1764   77815.0  1075.607  432.770170  ...  0.529004  0.992374  class A\n",
              "1765  162012.0  1528.138  588.943911  ...  0.594716  0.990567  class B\n",
              "1766  165366.0  1566.762  592.067214  ...  0.600640  0.987299  class B\n",
              "\n",
              "[1767 rows x 17 columns]"
            ]
          },
          "metadata": {},
          "execution_count": 38
        }
      ]
    },
    {
      "cell_type": "code",
      "metadata": {
        "id": "pUDu8mnQMEJv"
      },
      "source": [
        "pre_arr = [[206979.0,\t1795.101,\t712.408675,\t379.011721\t,1.879648\t,0.883830,214037.0\t,513.355479\t,0.654577\t,0.971411\t,0.807158\t,0.720591\t,0.003442\t,0.000631\t,0.519252\t,0.976011],[],[],[],[],[],[],[],[],[]]"
      ],
      "execution_count": null,
      "outputs": []
    },
    {
      "cell_type": "code",
      "metadata": {
        "id": "G4vtNL3nMwR8"
      },
      "source": [
        "for x in range(1, len(pre_arr)):\n",
        "  pre_arr[x] = np.random.uniform(0,10000, size=(16))"
      ],
      "execution_count": null,
      "outputs": []
    },
    {
      "cell_type": "code",
      "metadata": {
        "colab": {
          "base_uri": "https://localhost:8080/"
        },
        "id": "-M4l68JoM4le",
        "outputId": "4f08cd55-989f-4a16-86f3-801ef85c4197"
      },
      "source": [
        "pre_arr"
      ],
      "execution_count": null,
      "outputs": [
        {
          "output_type": "execute_result",
          "data": {
            "text/plain": [
              "[[206979.0,\n",
              "  1795.101,\n",
              "  712.408675,\n",
              "  379.011721,\n",
              "  1.879648,\n",
              "  0.88383,\n",
              "  214037.0,\n",
              "  513.355479,\n",
              "  0.654577,\n",
              "  0.971411,\n",
              "  0.807158,\n",
              "  0.720591,\n",
              "  0.003442,\n",
              "  0.000631,\n",
              "  0.519252,\n",
              "  0.976011],\n",
              " array([  60.36494497, 5288.76148171,  677.88599236, 9705.03804147,\n",
              "        5544.8854193 , 7063.17258227, 8337.21789479, 6685.11354071,\n",
              "         132.21262872, 7634.66380475, 5129.02525928, 9619.06472398,\n",
              "        3361.58641401, 3187.44123522,  770.28149818, 9915.1009605 ]),\n",
              " array([8100.07869132, 9152.74682355, 8236.67527011, 8742.19855355,\n",
              "        6306.96615663, 5882.33290631, 5191.98050637, 1691.22207217,\n",
              "        9634.12909361, 6965.77498198, 7693.94256399, 3120.64549484,\n",
              "        5979.48648296, 9937.16043051,  588.52897538, 7594.08128962]),\n",
              " array([1299.7517699 , 6705.46549548, 9105.25119528,  340.23009908,\n",
              "        6224.34983751, 4188.13818904, 3544.48063675, 5706.36621292,\n",
              "        2788.6601141 , 3250.76488826, 9024.05020684, 5631.08699507,\n",
              "         691.91542368,  623.58545873, 1120.17725508, 2001.05761291]),\n",
              " array([7932.90933915, 2241.07584448, 7777.89895706, 8737.40780959,\n",
              "        2423.45251581, 9387.58595077, 2363.08508278, 1118.63013679,\n",
              "        3476.20333192, 4118.15359498, 1870.04506269, 7237.62912698,\n",
              "        5345.01724527, 3235.15977413, 9557.83012649, 7755.06660002]),\n",
              " array([1107.10675719, 8971.23999256, 5029.90720157, 8308.35402958,\n",
              "        8036.43683775, 3921.03824362,  154.78967956, 4012.20874787,\n",
              "        3126.59534426, 6986.0905214 , 2184.2909052 , 8689.86621993,\n",
              "        1192.13964492, 4109.20015918, 4555.6511411 , 3421.59996325]),\n",
              " array([4955.92476502,  795.71862801, 4788.65499628, 8477.34475653,\n",
              "        8134.15354111, 9051.535735  , 4609.96547182,  902.45567741,\n",
              "        8645.16119229, 2148.14075303, 9812.87203403,  267.5416367 ,\n",
              "        6673.84429819, 8342.02281805, 3775.13553331, 6176.52633084]),\n",
              " array([1023.62110411, 5485.97003712,  882.70720103,  412.84798982,\n",
              "        9280.71903654, 7818.88997325, 7862.80233201, 5672.43671446,\n",
              "         989.52506782,  674.29725435, 1464.63209355, 4258.3696015 ,\n",
              "        3825.85165361, 5528.11232742,  704.75656902, 6285.81113875]),\n",
              " array([1049.85545174, 4593.05582324,  335.31508984, 2417.03411992,\n",
              "        2037.00942059, 8393.80598559, 6818.48564257, 2425.96817769,\n",
              "        6804.00812204, 7858.80698596, 4574.4834489 , 5738.47518575,\n",
              "        6245.8941184 , 4838.54434525, 7134.28662425, 4046.40676754]),\n",
              " array([3939.40838886, 8311.07608331, 6270.04929299, 5684.66565791,\n",
              "        3501.79480561, 7671.10549651, 3135.44698699, 5048.67407778,\n",
              "        8818.2447875 , 1296.04960779, 3782.38485797, 4054.07797274,\n",
              "        7926.64460487, 7943.91051569, 4649.94314799, 9177.86360048])]"
            ]
          },
          "metadata": {},
          "execution_count": 41
        }
      ]
    },
    {
      "cell_type": "code",
      "metadata": {
        "id": "s9z3SunoLGpD"
      },
      "source": [
        "X = D1.drop(['class'], axis =1)\n",
        "Y = D1['class']"
      ],
      "execution_count": null,
      "outputs": []
    },
    {
      "cell_type": "code",
      "metadata": {
        "colab": {
          "base_uri": "https://localhost:8080/",
          "height": 456
        },
        "id": "70yXLGLfKsk3",
        "outputId": "36a6f646-e3e4-435a-936c-71c9ee9352a8"
      },
      "source": [
        "svm_model = Supreme(X, Y, D1, isSVM= True, isClassification=True)"
      ],
      "execution_count": null,
      "outputs": [
        {
          "output_type": "stream",
          "name": "stdout",
          "text": [
            "Model Score:  0.997737556561086\n",
            "Accuracy:  0.997737556561086\n",
            "              precision    recall  f1-score   support\n",
            "\n",
            "     class A       1.00      1.00      1.00       307\n",
            "     class B       1.00      0.99      1.00       135\n",
            "\n",
            "    accuracy                           1.00       442\n",
            "   macro avg       1.00      1.00      1.00       442\n",
            "weighted avg       1.00      1.00      1.00       442\n",
            "\n"
          ]
        },
        {
          "output_type": "display_data",
          "data": {
            "image/png": "[encoded data removed]",
            "text/plain": [
              "<Figure size 432x288 with 2 Axes>"
            ]
          },
          "metadata": {}
        }
      ]
    },
    {
      "cell_type": "code",
      "metadata": {
        "colab": {
          "base_uri": "https://localhost:8080/"
        },
        "id": "xDp3P2H2L7br",
        "outputId": "5b9ef2ef-abce-4c63-b45f-529dd223d940"
      },
      "source": [
        "svm_model.support_vectors_"
      ],
      "execution_count": null,
      "outputs": [
        {
          "output_type": "execute_result",
          "data": {
            "text/plain": [
              "array([[8.16660000e+04, 1.10502100e+03, 4.40445261e+02, 2.39509259e+02,\n",
              "        1.83894879e+00, 8.39222019e-01, 8.30620000e+04, 3.22459890e+02,\n",
              "        7.75187470e-01, 9.83193277e-01, 8.40446524e-01, 7.32122509e-01,\n",
              "        5.39325131e-03, 9.55796550e-04, 5.36003369e-01, 9.85682746e-01],\n",
              "       [1.14004000e+05, 1.27935600e+03, 4.51361256e+02, 3.23747996e+02,\n",
              "        1.39417467e+00, 7.27065871e-01, 1.15298000e+05, 3.80991340e+02,\n",
              "        7.48986604e-01, 9.88776909e-01, 8.75280258e-01, 8.36755021e-01,\n",
              "        3.95917034e-03, 1.23978751e-03, 6.95413046e-01, 9.93342100e-01],\n",
              "       [8.14940000e+04, 1.09733600e+03, 4.28705735e+02, 2.46834724e+02,\n",
              "        1.73681291e+00, 8.17613643e-01, 8.37180000e+04, 3.22120138e+02,\n",
              "        7.53736589e-01, 9.73434626e-01, 8.50464607e-01, 7.51378189e-01,\n",
              "        5.26058034e-03, 1.03430293e-03, 5.64569182e-01, 9.80551044e-01],\n",
              "       [8.15850000e+04, 1.10198100e+03, 4.08063257e+02, 2.58616079e+02,\n",
              "        1.57787273e+00, 7.73525910e-01, 8.35000000e+04, 3.22299935e+02,\n",
              "        7.45647306e-01, 9.77065868e-01, 8.44251748e-01, 7.89828365e-01,\n",
              "        5.00169464e-03, 1.20068156e-03, 6.23828846e-01, 9.84322521e-01],\n",
              "       [1.26503000e+05, 1.32695900e+03, 4.75772459e+02, 3.39381887e+02,\n",
              "        1.40187935e+00, 7.27065871e-01, 1.28220000e+05, 4.01333555e+02,\n",
              "        7.71312725e-01, 9.86608953e-01, 9.02808585e-01, 8.36755021e-01,\n",
              "        3.76095791e-03, 1.17463498e-03, 6.95413046e-01, 9.97523155e-01],\n",
              "       [1.29807000e+05, 1.35631400e+03, 4.93241864e+02, 3.36464837e+02,\n",
              "        1.46595367e+00, 7.31212456e-01, 1.31148000e+05, 4.06540780e+02,\n",
              "        8.06314756e-01, 9.89774911e-01, 8.86722008e-01, 8.24221968e-01,\n",
              "        3.79980944e-03, 1.08172862e-03, 6.79341852e-01, 9.95883684e-01],\n",
              "       [1.30070000e+05, 1.36222800e+03, 4.86706230e+02, 3.43114783e+02,\n",
              "        1.41849391e+00, 7.27065871e-01, 1.31860000e+05, 4.06952414e+02,\n",
              "        7.51536933e-01, 9.86424996e-01, 8.80820470e-01, 8.36135618e-01,\n",
              "        3.74187922e-03, 1.12817488e-03, 6.95413046e-01, 9.91701393e-01],\n",
              "       [1.28118000e+05, 1.36013500e+03, 5.04024964e+02, 3.25678447e+02,\n",
              "        1.54761535e+00, 7.63205878e-01, 1.29274000e+05, 4.03887242e+02,\n",
              "        7.82247133e-01, 9.91057753e-01, 8.70273946e-01, 8.01323883e-01,\n",
              "        3.93406831e-03, 1.00058505e-03, 6.42119966e-01, 9.93754716e-01]])"
            ]
          },
          "metadata": {},
          "execution_count": 44
        }
      ]
    },
    {
      "cell_type": "code",
      "metadata": {
        "colab": {
          "base_uri": "https://localhost:8080/"
        },
        "id": "uddK_FryM95M",
        "outputId": "d936e544-cb4e-4eab-ae63-f4e76ff292c5"
      },
      "source": [
        "svm_model.predict(pre_arr)"
      ],
      "execution_count": null,
      "outputs": [
        {
          "output_type": "execute_result",
          "data": {
            "text/plain": [
              "array(['class B', 'class A', 'class A', 'class A', 'class A', 'class A',\n",
              "       'class A', 'class A', 'class A', 'class A'], dtype=object)"
            ]
          },
          "metadata": {},
          "execution_count": 45
        }
      ]
    },
    {
      "cell_type": "markdown",
      "metadata": {
        "id": "I2un5l8-snbu"
      },
      "source": [
        "### (iV)Experiment 4 (E4): Train the SVM classifier with the data set D1, as follows."
      ]
    },
    {
      "cell_type": "markdown",
      "metadata": {
        "id": "6Y8IC1I4PB7H"
      },
      "source": [
        "Inference: A5, A10, A11, A12, A14 and A16 are normal distribution."
      ]
    },
    {
      "cell_type": "code",
      "metadata": {
        "id": "dOaFFxp9Qbp1"
      },
      "source": [
        "D2 = D1.copy()"
      ],
      "execution_count": null,
      "outputs": []
    },
    {
      "cell_type": "code",
      "metadata": {
        "id": "k_qjp7BfO-TT"
      },
      "source": [
        "X = D2.drop(['A5', 'A10', 'A11', 'A12', 'A14', 'A16', 'class'], axis =1)\n",
        "normalizer = Normalizer().fit(X)\n",
        "X = normalizer.transform(X)"
      ],
      "execution_count": null,
      "outputs": []
    },
    {
      "cell_type": "code",
      "metadata": {
        "id": "oduqttfVR0DW"
      },
      "source": [
        "Y = D2[['A5', 'A10', 'A11', 'A12', 'A14', 'A16']]"
      ],
      "execution_count": null,
      "outputs": []
    },
    {
      "cell_type": "code",
      "metadata": {
        "id": "0Krw8AK8SdMF"
      },
      "source": [
        "scaler = StandardScaler()\n",
        "scaler.fit(Y)\n",
        "Y = scaler.transform(Y)"
      ],
      "execution_count": null,
      "outputs": []
    },
    {
      "cell_type": "code",
      "metadata": {
        "id": "2y3s6UmnUpO-"
      },
      "source": [
        "temp_X = pd.DataFrame(X, columns = ['A1','A2','A3', 'A4','A6','A7','A8','A9', 'A13','A15'])"
      ],
      "execution_count": null,
      "outputs": []
    },
    {
      "cell_type": "code",
      "metadata": {
        "id": "vSHAd1AcUzqK"
      },
      "source": [
        "temp_Y = pd.DataFrame(Y, columns = ['A5', 'A10', 'A11', 'A12', 'A14', 'A16'])"
      ],
      "execution_count": null,
      "outputs": []
    },
    {
      "cell_type": "code",
      "metadata": {
        "id": "JMBXNv9NS8Jp"
      },
      "source": [
        "temp = pd.concat([temp_X, temp_Y], axis=1, join='inner')"
      ],
      "execution_count": null,
      "outputs": []
    },
    {
      "cell_type": "code",
      "metadata": {
        "id": "9SE-Byl6T8z0"
      },
      "source": [
        "temp['class'] = label.tolist()"
      ],
      "execution_count": null,
      "outputs": []
    },
    {
      "cell_type": "code",
      "metadata": {
        "id": "AA3vXR1VVzOn"
      },
      "source": [
        "D2 = temp.copy()"
      ],
      "execution_count": null,
      "outputs": []
    },
    {
      "cell_type": "code",
      "metadata": {
        "colab": {
          "base_uri": "https://localhost:8080/",
          "height": 423
        },
        "id": "ghhdvzueV2X-",
        "outputId": "795d09b5-0275-4360-d560-1199a02e28e9"
      },
      "source": [
        "D2"
      ],
      "execution_count": null,
      "outputs": [
        {
          "output_type": "execute_result",
          "data": {
            "text/html": [
              "<div>\n",
              "<style scoped>\n",
              "    .dataframe tbody tr th:only-of-type {\n",
              "        vertical-align: middle;\n",
              "    }\n",
              "\n",
              "    .dataframe tbody tr th {\n",
              "        vertical-align: top;\n",
              "    }\n",
              "\n",
              "    .dataframe thead th {\n",
              "        text-align: right;\n",
              "    }\n",
              "</style>\n",
              "<table border=\"1\" class=\"dataframe\">\n",
              "  <thead>\n",
              "    <tr style=\"text-align: right;\">\n",
              "      <th></th>\n",
              "      <th>A1</th>\n",
              "      <th>A2</th>\n",
              "      <th>A3</th>\n",
              "      <th>A4</th>\n",
              "      <th>A6</th>\n",
              "      <th>A7</th>\n",
              "      <th>A8</th>\n",
              "      <th>A9</th>\n",
              "      <th>A13</th>\n",
              "      <th>A15</th>\n",
              "      <th>A5</th>\n",
              "      <th>A10</th>\n",
              "      <th>A11</th>\n",
              "      <th>A12</th>\n",
              "      <th>A14</th>\n",
              "      <th>A16</th>\n",
              "      <th>class</th>\n",
              "    </tr>\n",
              "  </thead>\n",
              "  <tbody>\n",
              "    <tr>\n",
              "      <th>0</th>\n",
              "      <td>0.695139</td>\n",
              "      <td>0.006029</td>\n",
              "      <td>0.002393</td>\n",
              "      <td>0.001273</td>\n",
              "      <td>0.000003</td>\n",
              "      <td>0.718843</td>\n",
              "      <td>0.001724</td>\n",
              "      <td>0.000002</td>\n",
              "      <td>1.155974e-08</td>\n",
              "      <td>0.000002</td>\n",
              "      <td>1.635380</td>\n",
              "      <td>-2.675296</td>\n",
              "      <td>-1.722521</td>\n",
              "      <td>-1.703097</td>\n",
              "      <td>-2.346627</td>\n",
              "      <td>-3.306295</td>\n",
              "      <td>class B</td>\n",
              "    </tr>\n",
              "    <tr>\n",
              "      <th>1</th>\n",
              "      <td>0.699873</td>\n",
              "      <td>0.010917</td>\n",
              "      <td>0.004351</td>\n",
              "      <td>0.002201</td>\n",
              "      <td>0.000009</td>\n",
              "      <td>0.714161</td>\n",
              "      <td>0.003077</td>\n",
              "      <td>0.000007</td>\n",
              "      <td>6.603676e-08</td>\n",
              "      <td>0.000007</td>\n",
              "      <td>2.454008</td>\n",
              "      <td>-1.061184</td>\n",
              "      <td>-2.618884</td>\n",
              "      <td>-2.185817</td>\n",
              "      <td>-0.513974</td>\n",
              "      <td>-0.568571</td>\n",
              "      <td>class A</td>\n",
              "    </tr>\n",
              "    <tr>\n",
              "      <th>2</th>\n",
              "      <td>0.698474</td>\n",
              "      <td>0.010329</td>\n",
              "      <td>0.004094</td>\n",
              "      <td>0.002081</td>\n",
              "      <td>0.000008</td>\n",
              "      <td>0.715538</td>\n",
              "      <td>0.003319</td>\n",
              "      <td>0.000006</td>\n",
              "      <td>5.541329e-08</td>\n",
              "      <td>0.000005</td>\n",
              "      <td>2.378065</td>\n",
              "      <td>-1.783498</td>\n",
              "      <td>-2.678313</td>\n",
              "      <td>-2.149492</td>\n",
              "      <td>-0.790380</td>\n",
              "      <td>-0.938913</td>\n",
              "      <td>class A</td>\n",
              "    </tr>\n",
              "    <tr>\n",
              "      <th>3</th>\n",
              "      <td>0.699295</td>\n",
              "      <td>0.010288</td>\n",
              "      <td>0.004123</td>\n",
              "      <td>0.002134</td>\n",
              "      <td>0.000008</td>\n",
              "      <td>0.714738</td>\n",
              "      <td>0.002947</td>\n",
              "      <td>0.000006</td>\n",
              "      <td>5.752681e-08</td>\n",
              "      <td>0.000005</td>\n",
              "      <td>2.082610</td>\n",
              "      <td>-1.362214</td>\n",
              "      <td>-1.613236</td>\n",
              "      <td>-1.913098</td>\n",
              "      <td>-0.568611</td>\n",
              "      <td>-0.822294</td>\n",
              "      <td>class A</td>\n",
              "    </tr>\n",
              "    <tr>\n",
              "      <th>4</th>\n",
              "      <td>0.703675</td>\n",
              "      <td>0.009947</td>\n",
              "      <td>0.003892</td>\n",
              "      <td>0.002179</td>\n",
              "      <td>0.000008</td>\n",
              "      <td>0.710433</td>\n",
              "      <td>0.002900</td>\n",
              "      <td>0.000006</td>\n",
              "      <td>5.191486e-08</td>\n",
              "      <td>0.000005</td>\n",
              "      <td>0.839926</td>\n",
              "      <td>0.912585</td>\n",
              "      <td>-0.496349</td>\n",
              "      <td>-0.818043</td>\n",
              "      <td>0.001994</td>\n",
              "      <td>0.104845</td>\n",
              "      <td>class A</td>\n",
              "    </tr>\n",
              "    <tr>\n",
              "      <th>...</th>\n",
              "      <td>...</td>\n",
              "      <td>...</td>\n",
              "      <td>...</td>\n",
              "      <td>...</td>\n",
              "      <td>...</td>\n",
              "      <td>...</td>\n",
              "      <td>...</td>\n",
              "      <td>...</td>\n",
              "      <td>...</td>\n",
              "      <td>...</td>\n",
              "      <td>...</td>\n",
              "      <td>...</td>\n",
              "      <td>...</td>\n",
              "      <td>...</td>\n",
              "      <td>...</td>\n",
              "      <td>...</td>\n",
              "      <td>...</td>\n",
              "    </tr>\n",
              "    <tr>\n",
              "      <th>1762</th>\n",
              "      <td>0.701406</td>\n",
              "      <td>0.006288</td>\n",
              "      <td>0.002466</td>\n",
              "      <td>0.001377</td>\n",
              "      <td>0.000003</td>\n",
              "      <td>0.712726</td>\n",
              "      <td>0.001833</td>\n",
              "      <td>0.000003</td>\n",
              "      <td>1.322131e-08</td>\n",
              "      <td>0.000002</td>\n",
              "      <td>0.883929</td>\n",
              "      <td>-0.285384</td>\n",
              "      <td>-0.516073</td>\n",
              "      <td>-0.887855</td>\n",
              "      <td>-2.173619</td>\n",
              "      <td>-0.396890</td>\n",
              "      <td>class B</td>\n",
              "    </tr>\n",
              "    <tr>\n",
              "      <th>1763</th>\n",
              "      <td>0.703437</td>\n",
              "      <td>0.006276</td>\n",
              "      <td>0.002369</td>\n",
              "      <td>0.001444</td>\n",
              "      <td>0.000003</td>\n",
              "      <td>0.710722</td>\n",
              "      <td>0.001838</td>\n",
              "      <td>0.000003</td>\n",
              "      <td>1.270517e-08</td>\n",
              "      <td>0.000002</td>\n",
              "      <td>-0.390718</td>\n",
              "      <td>0.773737</td>\n",
              "      <td>-0.187398</td>\n",
              "      <td>0.297761</td>\n",
              "      <td>-1.661343</td>\n",
              "      <td>-0.657725</td>\n",
              "      <td>class B</td>\n",
              "    </tr>\n",
              "    <tr>\n",
              "      <th>1764</th>\n",
              "      <td>0.704216</td>\n",
              "      <td>0.009734</td>\n",
              "      <td>0.003917</td>\n",
              "      <td>0.002088</td>\n",
              "      <td>0.000008</td>\n",
              "      <td>0.709899</td>\n",
              "      <td>0.002849</td>\n",
              "      <td>0.000008</td>\n",
              "      <td>5.033112e-08</td>\n",
              "      <td>0.000005</td>\n",
              "      <td>1.603877</td>\n",
              "      <td>1.196032</td>\n",
              "      <td>-0.249253</td>\n",
              "      <td>-1.460140</td>\n",
              "      <td>-0.509137</td>\n",
              "      <td>0.302663</td>\n",
              "      <td>class A</td>\n",
              "    </tr>\n",
              "    <tr>\n",
              "      <th>1765</th>\n",
              "      <td>0.704101</td>\n",
              "      <td>0.006641</td>\n",
              "      <td>0.002560</td>\n",
              "      <td>0.001537</td>\n",
              "      <td>0.000003</td>\n",
              "      <td>0.710060</td>\n",
              "      <td>0.001974</td>\n",
              "      <td>0.000004</td>\n",
              "      <td>1.579846e-08</td>\n",
              "      <td>0.000003</td>\n",
              "      <td>-0.177949</td>\n",
              "      <td>1.123525</td>\n",
              "      <td>0.781228</td>\n",
              "      <td>0.121706</td>\n",
              "      <td>-1.440203</td>\n",
              "      <td>-0.095850</td>\n",
              "      <td>class B</td>\n",
              "    </tr>\n",
              "    <tr>\n",
              "      <th>1766</th>\n",
              "      <td>0.701041</td>\n",
              "      <td>0.006642</td>\n",
              "      <td>0.002510</td>\n",
              "      <td>0.001527</td>\n",
              "      <td>0.000003</td>\n",
              "      <td>0.713081</td>\n",
              "      <td>0.001945</td>\n",
              "      <td>0.000004</td>\n",
              "      <td>1.517827e-08</td>\n",
              "      <td>0.000003</td>\n",
              "      <td>-0.363230</td>\n",
              "      <td>-0.473793</td>\n",
              "      <td>-0.197671</td>\n",
              "      <td>0.259922</td>\n",
              "      <td>-1.419707</td>\n",
              "      <td>-0.816599</td>\n",
              "      <td>class B</td>\n",
              "    </tr>\n",
              "  </tbody>\n",
              "</table>\n",
              "<p>1767 rows × 17 columns</p>\n",
              "</div>"
            ],
            "text/plain": [
              "            A1        A2        A3  ...       A14       A16    class\n",
              "0     0.695139  0.006029  0.002393  ... -2.346627 -3.306295  class B\n",
              "1     0.699873  0.010917  0.004351  ... -0.513974 -0.568571  class A\n",
              "2     0.698474  0.010329  0.004094  ... -0.790380 -0.938913  class A\n",
              "3     0.699295  0.010288  0.004123  ... -0.568611 -0.822294  class A\n",
              "4     0.703675  0.009947  0.003892  ...  0.001994  0.104845  class A\n",
              "...        ...       ...       ...  ...       ...       ...      ...\n",
              "1762  0.701406  0.006288  0.002466  ... -2.173619 -0.396890  class B\n",
              "1763  0.703437  0.006276  0.002369  ... -1.661343 -0.657725  class B\n",
              "1764  0.704216  0.009734  0.003917  ... -0.509137  0.302663  class A\n",
              "1765  0.704101  0.006641  0.002560  ... -1.440203 -0.095850  class B\n",
              "1766  0.701041  0.006642  0.002510  ... -1.419707 -0.816599  class B\n",
              "\n",
              "[1767 rows x 17 columns]"
            ]
          },
          "metadata": {},
          "execution_count": 55
        }
      ]
    },
    {
      "cell_type": "code",
      "metadata": {
        "colab": {
          "base_uri": "https://localhost:8080/",
          "height": 423
        },
        "id": "u5335ZKnW1Sb",
        "outputId": "f9f81f3a-db88-4416-e04c-ebaeeb8d4450"
      },
      "source": [
        "D2 = LEncoder(D2, 'class')\n",
        "D2"
      ],
      "execution_count": null,
      "outputs": [
        {
          "output_type": "execute_result",
          "data": {
            "text/html": [
              "<div>\n",
              "<style scoped>\n",
              "    .dataframe tbody tr th:only-of-type {\n",
              "        vertical-align: middle;\n",
              "    }\n",
              "\n",
              "    .dataframe tbody tr th {\n",
              "        vertical-align: top;\n",
              "    }\n",
              "\n",
              "    .dataframe thead th {\n",
              "        text-align: right;\n",
              "    }\n",
              "</style>\n",
              "<table border=\"1\" class=\"dataframe\">\n",
              "  <thead>\n",
              "    <tr style=\"text-align: right;\">\n",
              "      <th></th>\n",
              "      <th>A1</th>\n",
              "      <th>A2</th>\n",
              "      <th>A3</th>\n",
              "      <th>A4</th>\n",
              "      <th>A6</th>\n",
              "      <th>A7</th>\n",
              "      <th>A8</th>\n",
              "      <th>A9</th>\n",
              "      <th>A13</th>\n",
              "      <th>A15</th>\n",
              "      <th>A5</th>\n",
              "      <th>A10</th>\n",
              "      <th>A11</th>\n",
              "      <th>A12</th>\n",
              "      <th>A14</th>\n",
              "      <th>A16</th>\n",
              "      <th>class</th>\n",
              "    </tr>\n",
              "  </thead>\n",
              "  <tbody>\n",
              "    <tr>\n",
              "      <th>0</th>\n",
              "      <td>0.695139</td>\n",
              "      <td>0.006029</td>\n",
              "      <td>0.002393</td>\n",
              "      <td>0.001273</td>\n",
              "      <td>0.000003</td>\n",
              "      <td>0.718843</td>\n",
              "      <td>0.001724</td>\n",
              "      <td>0.000002</td>\n",
              "      <td>1.155974e-08</td>\n",
              "      <td>0.000002</td>\n",
              "      <td>1.635380</td>\n",
              "      <td>-2.675296</td>\n",
              "      <td>-1.722521</td>\n",
              "      <td>-1.703097</td>\n",
              "      <td>-2.346627</td>\n",
              "      <td>-3.306295</td>\n",
              "      <td>1</td>\n",
              "    </tr>\n",
              "    <tr>\n",
              "      <th>1</th>\n",
              "      <td>0.699873</td>\n",
              "      <td>0.010917</td>\n",
              "      <td>0.004351</td>\n",
              "      <td>0.002201</td>\n",
              "      <td>0.000009</td>\n",
              "      <td>0.714161</td>\n",
              "      <td>0.003077</td>\n",
              "      <td>0.000007</td>\n",
              "      <td>6.603676e-08</td>\n",
              "      <td>0.000007</td>\n",
              "      <td>2.454008</td>\n",
              "      <td>-1.061184</td>\n",
              "      <td>-2.618884</td>\n",
              "      <td>-2.185817</td>\n",
              "      <td>-0.513974</td>\n",
              "      <td>-0.568571</td>\n",
              "      <td>0</td>\n",
              "    </tr>\n",
              "    <tr>\n",
              "      <th>2</th>\n",
              "      <td>0.698474</td>\n",
              "      <td>0.010329</td>\n",
              "      <td>0.004094</td>\n",
              "      <td>0.002081</td>\n",
              "      <td>0.000008</td>\n",
              "      <td>0.715538</td>\n",
              "      <td>0.003319</td>\n",
              "      <td>0.000006</td>\n",
              "      <td>5.541329e-08</td>\n",
              "      <td>0.000005</td>\n",
              "      <td>2.378065</td>\n",
              "      <td>-1.783498</td>\n",
              "      <td>-2.678313</td>\n",
              "      <td>-2.149492</td>\n",
              "      <td>-0.790380</td>\n",
              "      <td>-0.938913</td>\n",
              "      <td>0</td>\n",
              "    </tr>\n",
              "    <tr>\n",
              "      <th>3</th>\n",
              "      <td>0.699295</td>\n",
              "      <td>0.010288</td>\n",
              "      <td>0.004123</td>\n",
              "      <td>0.002134</td>\n",
              "      <td>0.000008</td>\n",
              "      <td>0.714738</td>\n",
              "      <td>0.002947</td>\n",
              "      <td>0.000006</td>\n",
              "      <td>5.752681e-08</td>\n",
              "      <td>0.000005</td>\n",
              "      <td>2.082610</td>\n",
              "      <td>-1.362214</td>\n",
              "      <td>-1.613236</td>\n",
              "      <td>-1.913098</td>\n",
              "      <td>-0.568611</td>\n",
              "      <td>-0.822294</td>\n",
              "      <td>0</td>\n",
              "    </tr>\n",
              "    <tr>\n",
              "      <th>4</th>\n",
              "      <td>0.703675</td>\n",
              "      <td>0.009947</td>\n",
              "      <td>0.003892</td>\n",
              "      <td>0.002179</td>\n",
              "      <td>0.000008</td>\n",
              "      <td>0.710433</td>\n",
              "      <td>0.002900</td>\n",
              "      <td>0.000006</td>\n",
              "      <td>5.191486e-08</td>\n",
              "      <td>0.000005</td>\n",
              "      <td>0.839926</td>\n",
              "      <td>0.912585</td>\n",
              "      <td>-0.496349</td>\n",
              "      <td>-0.818043</td>\n",
              "      <td>0.001994</td>\n",
              "      <td>0.104845</td>\n",
              "      <td>0</td>\n",
              "    </tr>\n",
              "    <tr>\n",
              "      <th>...</th>\n",
              "      <td>...</td>\n",
              "      <td>...</td>\n",
              "      <td>...</td>\n",
              "      <td>...</td>\n",
              "      <td>...</td>\n",
              "      <td>...</td>\n",
              "      <td>...</td>\n",
              "      <td>...</td>\n",
              "      <td>...</td>\n",
              "      <td>...</td>\n",
              "      <td>...</td>\n",
              "      <td>...</td>\n",
              "      <td>...</td>\n",
              "      <td>...</td>\n",
              "      <td>...</td>\n",
              "      <td>...</td>\n",
              "      <td>...</td>\n",
              "    </tr>\n",
              "    <tr>\n",
              "      <th>1762</th>\n",
              "      <td>0.701406</td>\n",
              "      <td>0.006288</td>\n",
              "      <td>0.002466</td>\n",
              "      <td>0.001377</td>\n",
              "      <td>0.000003</td>\n",
              "      <td>0.712726</td>\n",
              "      <td>0.001833</td>\n",
              "      <td>0.000003</td>\n",
              "      <td>1.322131e-08</td>\n",
              "      <td>0.000002</td>\n",
              "      <td>0.883929</td>\n",
              "      <td>-0.285384</td>\n",
              "      <td>-0.516073</td>\n",
              "      <td>-0.887855</td>\n",
              "      <td>-2.173619</td>\n",
              "      <td>-0.396890</td>\n",
              "      <td>1</td>\n",
              "    </tr>\n",
              "    <tr>\n",
              "      <th>1763</th>\n",
              "      <td>0.703437</td>\n",
              "      <td>0.006276</td>\n",
              "      <td>0.002369</td>\n",
              "      <td>0.001444</td>\n",
              "      <td>0.000003</td>\n",
              "      <td>0.710722</td>\n",
              "      <td>0.001838</td>\n",
              "      <td>0.000003</td>\n",
              "      <td>1.270517e-08</td>\n",
              "      <td>0.000002</td>\n",
              "      <td>-0.390718</td>\n",
              "      <td>0.773737</td>\n",
              "      <td>-0.187398</td>\n",
              "      <td>0.297761</td>\n",
              "      <td>-1.661343</td>\n",
              "      <td>-0.657725</td>\n",
              "      <td>1</td>\n",
              "    </tr>\n",
              "    <tr>\n",
              "      <th>1764</th>\n",
              "      <td>0.704216</td>\n",
              "      <td>0.009734</td>\n",
              "      <td>0.003917</td>\n",
              "      <td>0.002088</td>\n",
              "      <td>0.000008</td>\n",
              "      <td>0.709899</td>\n",
              "      <td>0.002849</td>\n",
              "      <td>0.000008</td>\n",
              "      <td>5.033112e-08</td>\n",
              "      <td>0.000005</td>\n",
              "      <td>1.603877</td>\n",
              "      <td>1.196032</td>\n",
              "      <td>-0.249253</td>\n",
              "      <td>-1.460140</td>\n",
              "      <td>-0.509137</td>\n",
              "      <td>0.302663</td>\n",
              "      <td>0</td>\n",
              "    </tr>\n",
              "    <tr>\n",
              "      <th>1765</th>\n",
              "      <td>0.704101</td>\n",
              "      <td>0.006641</td>\n",
              "      <td>0.002560</td>\n",
              "      <td>0.001537</td>\n",
              "      <td>0.000003</td>\n",
              "      <td>0.710060</td>\n",
              "      <td>0.001974</td>\n",
              "      <td>0.000004</td>\n",
              "      <td>1.579846e-08</td>\n",
              "      <td>0.000003</td>\n",
              "      <td>-0.177949</td>\n",
              "      <td>1.123525</td>\n",
              "      <td>0.781228</td>\n",
              "      <td>0.121706</td>\n",
              "      <td>-1.440203</td>\n",
              "      <td>-0.095850</td>\n",
              "      <td>1</td>\n",
              "    </tr>\n",
              "    <tr>\n",
              "      <th>1766</th>\n",
              "      <td>0.701041</td>\n",
              "      <td>0.006642</td>\n",
              "      <td>0.002510</td>\n",
              "      <td>0.001527</td>\n",
              "      <td>0.000003</td>\n",
              "      <td>0.713081</td>\n",
              "      <td>0.001945</td>\n",
              "      <td>0.000004</td>\n",
              "      <td>1.517827e-08</td>\n",
              "      <td>0.000003</td>\n",
              "      <td>-0.363230</td>\n",
              "      <td>-0.473793</td>\n",
              "      <td>-0.197671</td>\n",
              "      <td>0.259922</td>\n",
              "      <td>-1.419707</td>\n",
              "      <td>-0.816599</td>\n",
              "      <td>1</td>\n",
              "    </tr>\n",
              "  </tbody>\n",
              "</table>\n",
              "<p>1767 rows × 17 columns</p>\n",
              "</div>"
            ],
            "text/plain": [
              "            A1        A2        A3  ...       A14       A16  class\n",
              "0     0.695139  0.006029  0.002393  ... -2.346627 -3.306295      1\n",
              "1     0.699873  0.010917  0.004351  ... -0.513974 -0.568571      0\n",
              "2     0.698474  0.010329  0.004094  ... -0.790380 -0.938913      0\n",
              "3     0.699295  0.010288  0.004123  ... -0.568611 -0.822294      0\n",
              "4     0.703675  0.009947  0.003892  ...  0.001994  0.104845      0\n",
              "...        ...       ...       ...  ...       ...       ...    ...\n",
              "1762  0.701406  0.006288  0.002466  ... -2.173619 -0.396890      1\n",
              "1763  0.703437  0.006276  0.002369  ... -1.661343 -0.657725      1\n",
              "1764  0.704216  0.009734  0.003917  ... -0.509137  0.302663      0\n",
              "1765  0.704101  0.006641  0.002560  ... -1.440203 -0.095850      1\n",
              "1766  0.701041  0.006642  0.002510  ... -1.419707 -0.816599      1\n",
              "\n",
              "[1767 rows x 17 columns]"
            ]
          },
          "metadata": {},
          "execution_count": 56
        }
      ]
    },
    {
      "cell_type": "code",
      "metadata": {
        "id": "2US7ZdpgWAl0"
      },
      "source": [
        "# Resample uses bootstrapping method to regenerate samples by randomly selecting data for each class.\n",
        "from sklearn.utils import resample\n",
        "df_0 = D2[D2['class'] == 0]\n",
        "df_1 = D2[D2['class'] == 1]\n",
        "\n",
        "# Apply resample\n",
        "df_1_upsample = resample(df_1, n_samples = 1247, replace = True, random_state= 123)\n",
        "\n",
        "D2 = pd.concat([df_0,df_1_upsample])"
      ],
      "execution_count": null,
      "outputs": []
    },
    {
      "cell_type": "code",
      "metadata": {
        "colab": {
          "base_uri": "https://localhost:8080/",
          "height": 423
        },
        "id": "EgKyczm6XRYP",
        "outputId": "c5523a58-8bf4-490a-9bd7-54ae988dfaa2"
      },
      "source": [
        "D2"
      ],
      "execution_count": null,
      "outputs": [
        {
          "output_type": "execute_result",
          "data": {
            "text/html": [
              "<div>\n",
              "<style scoped>\n",
              "    .dataframe tbody tr th:only-of-type {\n",
              "        vertical-align: middle;\n",
              "    }\n",
              "\n",
              "    .dataframe tbody tr th {\n",
              "        vertical-align: top;\n",
              "    }\n",
              "\n",
              "    .dataframe thead th {\n",
              "        text-align: right;\n",
              "    }\n",
              "</style>\n",
              "<table border=\"1\" class=\"dataframe\">\n",
              "  <thead>\n",
              "    <tr style=\"text-align: right;\">\n",
              "      <th></th>\n",
              "      <th>A1</th>\n",
              "      <th>A2</th>\n",
              "      <th>A3</th>\n",
              "      <th>A4</th>\n",
              "      <th>A6</th>\n",
              "      <th>A7</th>\n",
              "      <th>A8</th>\n",
              "      <th>A9</th>\n",
              "      <th>A13</th>\n",
              "      <th>A15</th>\n",
              "      <th>A5</th>\n",
              "      <th>A10</th>\n",
              "      <th>A11</th>\n",
              "      <th>A12</th>\n",
              "      <th>A14</th>\n",
              "      <th>A16</th>\n",
              "      <th>class</th>\n",
              "    </tr>\n",
              "  </thead>\n",
              "  <tbody>\n",
              "    <tr>\n",
              "      <th>1</th>\n",
              "      <td>0.699873</td>\n",
              "      <td>0.010917</td>\n",
              "      <td>0.004351</td>\n",
              "      <td>0.002201</td>\n",
              "      <td>0.000009</td>\n",
              "      <td>0.714161</td>\n",
              "      <td>0.003077</td>\n",
              "      <td>0.000007</td>\n",
              "      <td>6.603676e-08</td>\n",
              "      <td>0.000007</td>\n",
              "      <td>2.454008</td>\n",
              "      <td>-1.061184</td>\n",
              "      <td>-2.618884</td>\n",
              "      <td>-2.185817</td>\n",
              "      <td>-0.513974</td>\n",
              "      <td>-0.568571</td>\n",
              "      <td>0</td>\n",
              "    </tr>\n",
              "    <tr>\n",
              "      <th>2</th>\n",
              "      <td>0.698474</td>\n",
              "      <td>0.010329</td>\n",
              "      <td>0.004094</td>\n",
              "      <td>0.002081</td>\n",
              "      <td>0.000008</td>\n",
              "      <td>0.715538</td>\n",
              "      <td>0.003319</td>\n",
              "      <td>0.000006</td>\n",
              "      <td>5.541329e-08</td>\n",
              "      <td>0.000005</td>\n",
              "      <td>2.378065</td>\n",
              "      <td>-1.783498</td>\n",
              "      <td>-2.678313</td>\n",
              "      <td>-2.149492</td>\n",
              "      <td>-0.790380</td>\n",
              "      <td>-0.938913</td>\n",
              "      <td>0</td>\n",
              "    </tr>\n",
              "    <tr>\n",
              "      <th>3</th>\n",
              "      <td>0.699295</td>\n",
              "      <td>0.010288</td>\n",
              "      <td>0.004123</td>\n",
              "      <td>0.002134</td>\n",
              "      <td>0.000008</td>\n",
              "      <td>0.714738</td>\n",
              "      <td>0.002947</td>\n",
              "      <td>0.000006</td>\n",
              "      <td>5.752681e-08</td>\n",
              "      <td>0.000005</td>\n",
              "      <td>2.082610</td>\n",
              "      <td>-1.362214</td>\n",
              "      <td>-1.613236</td>\n",
              "      <td>-1.913098</td>\n",
              "      <td>-0.568611</td>\n",
              "      <td>-0.822294</td>\n",
              "      <td>0</td>\n",
              "    </tr>\n",
              "    <tr>\n",
              "      <th>4</th>\n",
              "      <td>0.703675</td>\n",
              "      <td>0.009947</td>\n",
              "      <td>0.003892</td>\n",
              "      <td>0.002179</td>\n",
              "      <td>0.000008</td>\n",
              "      <td>0.710433</td>\n",
              "      <td>0.002900</td>\n",
              "      <td>0.000006</td>\n",
              "      <td>5.191486e-08</td>\n",
              "      <td>0.000005</td>\n",
              "      <td>0.839926</td>\n",
              "      <td>0.912585</td>\n",
              "      <td>-0.496349</td>\n",
              "      <td>-0.818043</td>\n",
              "      <td>0.001994</td>\n",
              "      <td>0.104845</td>\n",
              "      <td>0</td>\n",
              "    </tr>\n",
              "    <tr>\n",
              "      <th>5</th>\n",
              "      <td>0.695454</td>\n",
              "      <td>0.010156</td>\n",
              "      <td>0.003926</td>\n",
              "      <td>0.002141</td>\n",
              "      <td>0.000008</td>\n",
              "      <td>0.718479</td>\n",
              "      <td>0.002873</td>\n",
              "      <td>0.000006</td>\n",
              "      <td>5.263122e-08</td>\n",
              "      <td>0.000005</td>\n",
              "      <td>1.250003</td>\n",
              "      <td>-2.675296</td>\n",
              "      <td>-2.392014</td>\n",
              "      <td>-1.302145</td>\n",
              "      <td>-0.295747</td>\n",
              "      <td>-1.985532</td>\n",
              "      <td>0</td>\n",
              "    </tr>\n",
              "    <tr>\n",
              "      <th>...</th>\n",
              "      <td>...</td>\n",
              "      <td>...</td>\n",
              "      <td>...</td>\n",
              "      <td>...</td>\n",
              "      <td>...</td>\n",
              "      <td>...</td>\n",
              "      <td>...</td>\n",
              "      <td>...</td>\n",
              "      <td>...</td>\n",
              "      <td>...</td>\n",
              "      <td>...</td>\n",
              "      <td>...</td>\n",
              "      <td>...</td>\n",
              "      <td>...</td>\n",
              "      <td>...</td>\n",
              "      <td>...</td>\n",
              "      <td>...</td>\n",
              "    </tr>\n",
              "    <tr>\n",
              "      <th>1223</th>\n",
              "      <td>0.702163</td>\n",
              "      <td>0.006946</td>\n",
              "      <td>0.002637</td>\n",
              "      <td>0.001581</td>\n",
              "      <td>0.000004</td>\n",
              "      <td>0.711973</td>\n",
              "      <td>0.002035</td>\n",
              "      <td>0.000004</td>\n",
              "      <td>1.739341e-08</td>\n",
              "      <td>0.000003</td>\n",
              "      <td>-0.158805</td>\n",
              "      <td>0.110138</td>\n",
              "      <td>-0.171364</td>\n",
              "      <td>0.143971</td>\n",
              "      <td>-1.279697</td>\n",
              "      <td>0.550844</td>\n",
              "      <td>1</td>\n",
              "    </tr>\n",
              "    <tr>\n",
              "      <th>432</th>\n",
              "      <td>0.700551</td>\n",
              "      <td>0.006907</td>\n",
              "      <td>0.002586</td>\n",
              "      <td>0.001622</td>\n",
              "      <td>0.000004</td>\n",
              "      <td>0.713559</td>\n",
              "      <td>0.002034</td>\n",
              "      <td>0.000003</td>\n",
              "      <td>1.712333e-08</td>\n",
              "      <td>0.000003</td>\n",
              "      <td>-0.784061</td>\n",
              "      <td>-0.726858</td>\n",
              "      <td>0.166518</td>\n",
              "      <td>0.680342</td>\n",
              "      <td>-1.000365</td>\n",
              "      <td>-0.997759</td>\n",
              "      <td>1</td>\n",
              "    </tr>\n",
              "    <tr>\n",
              "      <th>16</th>\n",
              "      <td>0.700825</td>\n",
              "      <td>0.006899</td>\n",
              "      <td>0.002579</td>\n",
              "      <td>0.001584</td>\n",
              "      <td>0.000004</td>\n",
              "      <td>0.713291</td>\n",
              "      <td>0.002006</td>\n",
              "      <td>0.000003</td>\n",
              "      <td>1.658854e-08</td>\n",
              "      <td>0.000003</td>\n",
              "      <td>-0.500649</td>\n",
              "      <td>-0.585396</td>\n",
              "      <td>-0.671342</td>\n",
              "      <td>0.363689</td>\n",
              "      <td>-1.228786</td>\n",
              "      <td>-1.361822</td>\n",
              "      <td>1</td>\n",
              "    </tr>\n",
              "    <tr>\n",
              "      <th>1198</th>\n",
              "      <td>0.701414</td>\n",
              "      <td>0.006456</td>\n",
              "      <td>0.002477</td>\n",
              "      <td>0.001441</td>\n",
              "      <td>0.000003</td>\n",
              "      <td>0.712717</td>\n",
              "      <td>0.001876</td>\n",
              "      <td>0.000003</td>\n",
              "      <td>1.392424e-08</td>\n",
              "      <td>0.000002</td>\n",
              "      <td>0.279545</td>\n",
              "      <td>-0.281126</td>\n",
              "      <td>-0.692318</td>\n",
              "      <td>-0.372371</td>\n",
              "      <td>-1.863326</td>\n",
              "      <td>-0.953845</td>\n",
              "      <td>1</td>\n",
              "    </tr>\n",
              "    <tr>\n",
              "      <th>1232</th>\n",
              "      <td>0.701961</td>\n",
              "      <td>0.005888</td>\n",
              "      <td>0.002229</td>\n",
              "      <td>0.001362</td>\n",
              "      <td>0.000003</td>\n",
              "      <td>0.712184</td>\n",
              "      <td>0.001733</td>\n",
              "      <td>0.000003</td>\n",
              "      <td>1.066777e-08</td>\n",
              "      <td>0.000002</td>\n",
              "      <td>-0.424224</td>\n",
              "      <td>0.001837</td>\n",
              "      <td>0.127390</td>\n",
              "      <td>0.348078</td>\n",
              "      <td>-1.872561</td>\n",
              "      <td>-0.400899</td>\n",
              "      <td>1</td>\n",
              "    </tr>\n",
              "  </tbody>\n",
              "</table>\n",
              "<p>2494 rows × 17 columns</p>\n",
              "</div>"
            ],
            "text/plain": [
              "            A1        A2        A3  ...       A14       A16  class\n",
              "1     0.699873  0.010917  0.004351  ... -0.513974 -0.568571      0\n",
              "2     0.698474  0.010329  0.004094  ... -0.790380 -0.938913      0\n",
              "3     0.699295  0.010288  0.004123  ... -0.568611 -0.822294      0\n",
              "4     0.703675  0.009947  0.003892  ...  0.001994  0.104845      0\n",
              "5     0.695454  0.010156  0.003926  ... -0.295747 -1.985532      0\n",
              "...        ...       ...       ...  ...       ...       ...    ...\n",
              "1223  0.702163  0.006946  0.002637  ... -1.279697  0.550844      1\n",
              "432   0.700551  0.006907  0.002586  ... -1.000365 -0.997759      1\n",
              "16    0.700825  0.006899  0.002579  ... -1.228786 -1.361822      1\n",
              "1198  0.701414  0.006456  0.002477  ... -1.863326 -0.953845      1\n",
              "1232  0.701961  0.005888  0.002229  ... -1.872561 -0.400899      1\n",
              "\n",
              "[2494 rows x 17 columns]"
            ]
          },
          "metadata": {},
          "execution_count": 58
        }
      ]
    },
    {
      "cell_type": "code",
      "metadata": {
        "colab": {
          "base_uri": "https://localhost:8080/"
        },
        "id": "3x2WsLALXdMJ",
        "outputId": "c26f8543-a85c-48ac-994c-5e3090cd0446"
      },
      "source": [
        "(unique, counts) = np.unique(D2['class'], return_counts=True)\n",
        "frequencies = np.asarray((unique, counts)).T\n",
        "print(frequencies)"
      ],
      "execution_count": null,
      "outputs": [
        {
          "output_type": "stream",
          "name": "stdout",
          "text": [
            "[[   0 1247]\n",
            " [   1 1247]]\n"
          ]
        }
      ]
    },
    {
      "cell_type": "code",
      "metadata": {
        "id": "8W29kRTEX1Mx"
      },
      "source": [
        "X = D2.drop(['class'], axis =1)\n",
        "Y = D2['class']"
      ],
      "execution_count": null,
      "outputs": []
    },
    {
      "cell_type": "code",
      "metadata": {
        "colab": {
          "base_uri": "https://localhost:8080/",
          "height": 456
        },
        "id": "X6c6ZHNRXq5J",
        "outputId": "7a779bba-3c34-440c-ecc0-3b4df5a19638"
      },
      "source": [
        "stand_svm_model = Supreme(X, Y, D2, isSVM= True, isClassification= True)"
      ],
      "execution_count": null,
      "outputs": [
        {
          "output_type": "stream",
          "name": "stdout",
          "text": [
            "Model Score:  0.9983974358974359\n",
            "Accuracy:  0.9983974358974359\n",
            "              precision    recall  f1-score   support\n",
            "\n",
            "           0       1.00      1.00      1.00       312\n",
            "           1       1.00      1.00      1.00       312\n",
            "\n",
            "    accuracy                           1.00       624\n",
            "   macro avg       1.00      1.00      1.00       624\n",
            "weighted avg       1.00      1.00      1.00       624\n",
            "\n"
          ]
        },
        {
          "output_type": "display_data",
          "data": {
            "image/png": "[encoded data removed]",
            "text/plain": [
              "<Figure size 432x288 with 2 Axes>"
            ]
          },
          "metadata": {}
        }
      ]
    },
    {
      "cell_type": "code",
      "metadata": {
        "colab": {
          "base_uri": "https://localhost:8080/"
        },
        "id": "K02gpMSgYOsN",
        "outputId": "59895d57-ee64-4288-ff41-564eff02f38c"
      },
      "source": [
        "stand_svm_model.predict(pre_arr)"
      ],
      "execution_count": null,
      "outputs": [
        {
          "output_type": "execute_result",
          "data": {
            "text/plain": [
              "array([0, 0, 0, 0, 0, 0, 0, 1, 0, 0])"
            ]
          },
          "metadata": {},
          "execution_count": 62
        }
      ]
    },
    {
      "cell_type": "code",
      "metadata": {
        "id": "XMmZTw40YOit"
      },
      "source": [
        ""
      ],
      "execution_count": null,
      "outputs": []
    },
    {
      "cell_type": "markdown",
      "metadata": {
        "id": "juz4qUCET9nU"
      },
      "source": [
        "#### (vi) Experiment 5 (E5): Train the Multi-layer Perceptron model with the data set D1"
      ]
    },
    {
      "cell_type": "code",
      "metadata": {
        "id": "QjZ7wJd3ZEzT"
      },
      "source": [
        "X = D1.drop(['class'], axis =1)\n",
        "Y = D1['class']"
      ],
      "execution_count": null,
      "outputs": []
    },
    {
      "cell_type": "code",
      "metadata": {
        "colab": {
          "base_uri": "https://localhost:8080/",
          "height": 456
        },
        "id": "HZ5PdStgYjes",
        "outputId": "3d6a3b7a-2247-43ea-e058-245846cf4247"
      },
      "source": [
        "mlp_linear = Supreme(X, Y, D1, MLP_acti='identity', isMultiLayerPerception=True, isClassification=True)"
      ],
      "execution_count": null,
      "outputs": [
        {
          "output_type": "stream",
          "name": "stdout",
          "text": [
            "Model Score:  0.997737556561086\n",
            "Accuracy:  0.997737556561086\n",
            "              precision    recall  f1-score   support\n",
            "\n",
            "     class A       1.00      1.00      1.00       307\n",
            "     class B       1.00      0.99      1.00       135\n",
            "\n",
            "    accuracy                           1.00       442\n",
            "   macro avg       1.00      1.00      1.00       442\n",
            "weighted avg       1.00      1.00      1.00       442\n",
            "\n"
          ]
        },
        {
          "output_type": "display_data",
          "data": {
            "image/png": "[encoded data removed]",
            "text/plain": [
              "<Figure size 432x288 with 2 Axes>"
            ]
          },
          "metadata": {}
        }
      ]
    },
    {
      "cell_type": "code",
      "metadata": {
        "colab": {
          "base_uri": "https://localhost:8080/",
          "height": 456
        },
        "id": "sX7e3kOBZUJv",
        "outputId": "4a3260c6-d04f-47a9-97df-146b7c56a3c4"
      },
      "source": [
        "mlp_relu = Supreme(X, Y, D1, MLP_acti='relu', isMultiLayerPerception=True, isClassification=True)"
      ],
      "execution_count": null,
      "outputs": [
        {
          "output_type": "stream",
          "name": "stdout",
          "text": [
            "Model Score:  1.0\n",
            "Accuracy:  1.0\n",
            "              precision    recall  f1-score   support\n",
            "\n",
            "     class A       1.00      1.00      1.00       308\n",
            "     class B       1.00      1.00      1.00       134\n",
            "\n",
            "    accuracy                           1.00       442\n",
            "   macro avg       1.00      1.00      1.00       442\n",
            "weighted avg       1.00      1.00      1.00       442\n",
            "\n"
          ]
        },
        {
          "output_type": "display_data",
          "data": {
            "image/png": "[encoded data removed]",
            "text/plain": [
              "<Figure size 432x288 with 2 Axes>"
            ]
          },
          "metadata": {}
        }
      ]
    },
    {
      "cell_type": "code",
      "metadata": {
        "colab": {
          "base_uri": "https://localhost:8080/",
          "height": 456
        },
        "id": "JAES_BUIZXyh",
        "outputId": "d2da40d0-94cd-45b0-bc8b-cebd61b3bdc3"
      },
      "source": [
        "mlp_sigmoid = Supreme(X, Y, D1, MLP_acti='logistic', isMultiLayerPerception=True, isClassification=True)"
      ],
      "execution_count": null,
      "outputs": [
        {
          "output_type": "stream",
          "name": "stdout",
          "text": [
            "Model Score:  0.6968325791855203\n",
            "Accuracy:  0.6968325791855203\n",
            "              precision    recall  f1-score   support\n",
            "\n",
            "     class A       1.00      0.70      0.82       442\n",
            "     class B       0.00      0.00      0.00         0\n",
            "\n",
            "    accuracy                           0.70       442\n",
            "   macro avg       0.50      0.35      0.41       442\n",
            "weighted avg       1.00      0.70      0.82       442\n",
            "\n"
          ]
        },
        {
          "output_type": "display_data",
          "data": {
            "image/png": "[encoded data removed]",
            "text/plain": [
              "<Figure size 432x288 with 2 Axes>"
            ]
          },
          "metadata": {}
        }
      ]
    },
    {
      "cell_type": "code",
      "metadata": {
        "colab": {
          "base_uri": "https://localhost:8080/",
          "height": 456
        },
        "id": "zs3U7u6lZdhe",
        "outputId": "1626bba6-8cae-4338-dc7b-7c3026049417"
      },
      "source": [
        "mlp_tanh = Supreme(X, Y, D1, MLP_acti='tanh', isMultiLayerPerception=True, isClassification=True)"
      ],
      "execution_count": null,
      "outputs": [
        {
          "output_type": "stream",
          "name": "stdout",
          "text": [
            "Model Score:  0.997737556561086\n",
            "Accuracy:  0.997737556561086\n",
            "              precision    recall  f1-score   support\n",
            "\n",
            "     class A       1.00      1.00      1.00       307\n",
            "     class B       1.00      0.99      1.00       135\n",
            "\n",
            "    accuracy                           1.00       442\n",
            "   macro avg       1.00      1.00      1.00       442\n",
            "weighted avg       1.00      1.00      1.00       442\n",
            "\n"
          ]
        },
        {
          "output_type": "display_data",
          "data": {
            "image/png": "[encoded data removed]",
            "text/plain": [
              "<Figure size 432x288 with 2 Axes>"
            ]
          },
          "metadata": {}
        }
      ]
    },
    {
      "cell_type": "markdown",
      "metadata": {
        "id": "x3fRjSDTZvmZ"
      },
      "source": [
        "Relu has the highest accuracy which is 1."
      ]
    },
    {
      "cell_type": "code",
      "metadata": {
        "colab": {
          "base_uri": "https://localhost:8080/"
        },
        "id": "EcsYD-87ZtJV",
        "outputId": "9347a9ce-70e0-4857-c360-0684aafefc84"
      },
      "source": [
        "mlp_relu.predict(pre_arr)"
      ],
      "execution_count": null,
      "outputs": [
        {
          "output_type": "execute_result",
          "data": {
            "text/plain": [
              "array(['class B', 'class B', 'class B', 'class B', 'class B', 'class B',\n",
              "       'class B', 'class B', 'class B', 'class B'], dtype='<U7')"
            ]
          },
          "metadata": {},
          "execution_count": 68
        }
      ]
    },
    {
      "cell_type": "markdown",
      "metadata": {
        "id": "bMYxpd5iaPjH"
      },
      "source": [
        "## 3. Inference"
      ]
    },
    {
      "cell_type": "markdown",
      "metadata": {
        "id": "riGYR5W0bAMh"
      },
      "source": [
        "1. "
      ]
    },
    {
      "cell_type": "code",
      "metadata": {
        "colab": {
          "base_uri": "https://localhost:8080/"
        },
        "id": "QENBO78vaQKL",
        "outputId": "d150922e-e2ca-4167-ba63-f4585d8fde42"
      },
      "source": [
        "wcss"
      ],
      "execution_count": null,
      "outputs": [
        {
          "output_type": "execute_result",
          "data": {
            "text/plain": [
              "[8404516845964.626,\n",
              " 670984061457.0364,\n",
              " 309062382358.683,\n",
              " 203126291450.3485,\n",
              " 139459237865.67517,\n",
              " 100958436937.71481,\n",
              " 78798167029.09567,\n",
              " 61492418372.50102,\n",
              " 46639657062.29703,\n",
              " 40414882595.47864,\n",
              " 34622499249.92219,\n",
              " 29428092554.615944,\n",
              " 25696543578.73893,\n",
              " 21977067733.532402,\n",
              " 19221698671.674816]"
            ]
          },
          "metadata": {},
          "execution_count": 69
        }
      ]
    },
    {
      "cell_type": "code",
      "metadata": {
        "id": "pugCAcOubLlg"
      },
      "source": [
        "wcss_2 = kmeans.inertia_"
      ],
      "execution_count": null,
      "outputs": []
    },
    {
      "cell_type": "code",
      "metadata": {
        "colab": {
          "base_uri": "https://localhost:8080/"
        },
        "id": "GR2fopZRbM92",
        "outputId": "95755956-f650-4d38-cb01-82f51445115e"
      },
      "source": [
        "wcss_2"
      ],
      "execution_count": null,
      "outputs": [
        {
          "output_type": "execute_result",
          "data": {
            "text/plain": [
              "670984061457.0364"
            ]
          },
          "metadata": {},
          "execution_count": 71
        }
      ]
    },
    {
      "cell_type": "markdown",
      "metadata": {
        "id": "9vlw-nMPbBHA"
      },
      "source": [
        "2. "
      ]
    },
    {
      "cell_type": "markdown",
      "metadata": {
        "id": "cG7riJMgbXdP"
      },
      "source": [
        "E3:Accuracy:  0.997737556561086\n",
        "\n",
        "E4:Accuracy:  0.990506329113924\n",
        "\n",
        "E5: Accuracy: 0.71 \n",
        "\n",
        "Hence the order of accuracy: E3 > E4 > E5"
      ]
    },
    {
      "cell_type": "markdown",
      "metadata": {
        "id": "c4ghJquzbinV"
      },
      "source": [
        "3. "
      ]
    },
    {
      "cell_type": "markdown",
      "metadata": {
        "id": "Ro68sm9Xbjf_"
      },
      "source": [
        ""
      ]
    },
    {
      "cell_type": "code",
      "metadata": {
        "colab": {
          "base_uri": "https://localhost:8080/"
        },
        "id": "RglsTAM_aXzv",
        "outputId": "edb7253b-bf46-4cdd-8f7e-1f59a30f7d74"
      },
      "source": [
        "svm_model.support_vectors_"
      ],
      "execution_count": null,
      "outputs": [
        {
          "output_type": "execute_result",
          "data": {
            "text/plain": [
              "array([[8.16660000e+04, 1.10502100e+03, 4.40445261e+02, 2.39509259e+02,\n",
              "        1.83894879e+00, 8.39222019e-01, 8.30620000e+04, 3.22459890e+02,\n",
              "        7.75187470e-01, 9.83193277e-01, 8.40446524e-01, 7.32122509e-01,\n",
              "        5.39325131e-03, 9.55796550e-04, 5.36003369e-01, 9.85682746e-01],\n",
              "       [1.14004000e+05, 1.27935600e+03, 4.51361256e+02, 3.23747996e+02,\n",
              "        1.39417467e+00, 7.27065871e-01, 1.15298000e+05, 3.80991340e+02,\n",
              "        7.48986604e-01, 9.88776909e-01, 8.75280258e-01, 8.36755021e-01,\n",
              "        3.95917034e-03, 1.23978751e-03, 6.95413046e-01, 9.93342100e-01],\n",
              "       [8.14940000e+04, 1.09733600e+03, 4.28705735e+02, 2.46834724e+02,\n",
              "        1.73681291e+00, 8.17613643e-01, 8.37180000e+04, 3.22120138e+02,\n",
              "        7.53736589e-01, 9.73434626e-01, 8.50464607e-01, 7.51378189e-01,\n",
              "        5.26058034e-03, 1.03430293e-03, 5.64569182e-01, 9.80551044e-01],\n",
              "       [8.15850000e+04, 1.10198100e+03, 4.08063257e+02, 2.58616079e+02,\n",
              "        1.57787273e+00, 7.73525910e-01, 8.35000000e+04, 3.22299935e+02,\n",
              "        7.45647306e-01, 9.77065868e-01, 8.44251748e-01, 7.89828365e-01,\n",
              "        5.00169464e-03, 1.20068156e-03, 6.23828846e-01, 9.84322521e-01],\n",
              "       [1.26503000e+05, 1.32695900e+03, 4.75772459e+02, 3.39381887e+02,\n",
              "        1.40187935e+00, 7.27065871e-01, 1.28220000e+05, 4.01333555e+02,\n",
              "        7.71312725e-01, 9.86608953e-01, 9.02808585e-01, 8.36755021e-01,\n",
              "        3.76095791e-03, 1.17463498e-03, 6.95413046e-01, 9.97523155e-01],\n",
              "       [1.29807000e+05, 1.35631400e+03, 4.93241864e+02, 3.36464837e+02,\n",
              "        1.46595367e+00, 7.31212456e-01, 1.31148000e+05, 4.06540780e+02,\n",
              "        8.06314756e-01, 9.89774911e-01, 8.86722008e-01, 8.24221968e-01,\n",
              "        3.79980944e-03, 1.08172862e-03, 6.79341852e-01, 9.95883684e-01],\n",
              "       [1.30070000e+05, 1.36222800e+03, 4.86706230e+02, 3.43114783e+02,\n",
              "        1.41849391e+00, 7.27065871e-01, 1.31860000e+05, 4.06952414e+02,\n",
              "        7.51536933e-01, 9.86424996e-01, 8.80820470e-01, 8.36135618e-01,\n",
              "        3.74187922e-03, 1.12817488e-03, 6.95413046e-01, 9.91701393e-01],\n",
              "       [1.28118000e+05, 1.36013500e+03, 5.04024964e+02, 3.25678447e+02,\n",
              "        1.54761535e+00, 7.63205878e-01, 1.29274000e+05, 4.03887242e+02,\n",
              "        7.82247133e-01, 9.91057753e-01, 8.70273946e-01, 8.01323883e-01,\n",
              "        3.93406831e-03, 1.00058505e-03, 6.42119966e-01, 9.93754716e-01]])"
            ]
          },
          "metadata": {},
          "execution_count": 72
        }
      ]
    },
    {
      "cell_type": "code",
      "metadata": {
        "colab": {
          "base_uri": "https://localhost:8080/"
        },
        "id": "9OhwefCYbsRQ",
        "outputId": "4b21dfc4-6aa6-4fdf-d62c-c49a3cb57315"
      },
      "source": [
        "stand_svm_model.support_vectors_"
      ],
      "execution_count": null,
      "outputs": [
        {
          "output_type": "execute_result",
          "data": {
            "text/plain": [
              "array([[ 7.00193663e-01,  9.68366950e-03,  3.88177884e-03,\n",
              "         2.02501784e-03,  7.41205597e-06,  7.13868438e-01,\n",
              "         2.78305558e-03,  6.18119726e-06,  4.81646132e-08,\n",
              "         4.46578333e-06,  1.95107664e+00, -9.01077960e-01,\n",
              "        -1.41121002e+00, -1.83431519e+00, -8.24150718e-01,\n",
              "        -1.24969341e+00],\n",
              "       [ 6.99369076e-01,  9.65513125e-03,  3.81950415e-03,\n",
              "         2.10883747e-03,  7.40736360e-06,  7.14676659e-01,\n",
              "         2.81267104e-03,  6.68740750e-06,  4.85201238e-08,\n",
              "         4.81776100e-06,  1.05538679e+00, -1.32670748e+00,\n",
              "        -5.45118073e-01, -1.13294573e+00, -3.38351585e-01,\n",
              "        -1.94728251e+00],\n",
              "       [ 7.03943891e-01,  9.48361279e-03,  3.50758636e-03,\n",
              "         2.31927822e-03,  6.77374273e-06,  7.10174122e-01,\n",
              "         2.84479920e-03,  6.55185022e-06,  4.49909745e-08,\n",
              "         5.93938619e-06, -1.47633527e+00,  1.05177258e+00,\n",
              "         1.41058680e+00,  1.55969513e+00,  1.55359427e+00,\n",
              "         8.40875994e-01],\n",
              "       [ 6.99541294e-01,  9.41329477e-03,  3.50851742e-03,\n",
              "         2.26686378e-03,  6.74940306e-06,  7.14512452e-01,\n",
              "         2.80647358e-03,  6.71016387e-06,  4.43515419e-08,\n",
              "         5.65813208e-06, -1.17659387e+00, -1.23907650e+00,\n",
              "         9.92223219e-01,  1.15788801e+00,  1.20050163e+00,\n",
              "        -1.51702501e-01],\n",
              "       [ 7.02775500e-01,  9.76263024e-03,  3.95280461e-03,\n",
              "         2.03630756e-03,  7.62531798e-06,  7.11325210e-01,\n",
              "         2.82148255e-03,  7.14856576e-06,  5.00399353e-08,\n",
              "         4.53285731e-06,  2.15654296e+00,  4.41152288e-01,\n",
              "        -1.05625906e+00, -1.94834454e+00, -8.40370520e-01,\n",
              "        -4.36590698e-01],\n",
              "       [ 7.04905397e-01,  9.56375620e-03,  3.86951252e-03,\n",
              "         2.02190391e-03,  7.41323604e-06,  7.09217915e-01,\n",
              "         2.79347697e-03,  6.78838017e-06,  4.77281560e-08,\n",
              "         4.53134274e-06,  1.92469020e+00,  1.55811462e+00,\n",
              "        -3.72060151e-01, -1.65518046e+00, -7.33966452e-01,\n",
              "         1.41321448e+00],\n",
              "       [ 6.99085025e-01,  9.75529776e-03,  3.88743817e-03,\n",
              "         2.01179736e-03,  7.42779551e-06,  7.14953198e-01,\n",
              "         2.77968398e-03,  5.76313055e-06,  4.82707697e-08,\n",
              "         4.43827888e-06,  2.08163277e+00, -1.47262199e+00,\n",
              "        -1.94826806e+00, -1.90325177e+00, -8.62476881e-01,\n",
              "        -6.68963528e-01],\n",
              "       [ 7.03041578e-01,  1.00368112e-02,  3.64710185e-03,\n",
              "         2.50770669e-03,  7.39628907e-06,  7.11057737e-01,\n",
              "         3.01762746e-03,  7.74044698e-06,  5.27724186e-08,\n",
              "         6.96426968e-06, -1.96775264e+00,  5.81430499e-01,\n",
              "         1.56802291e+00,  2.14993069e+00,  2.44050205e+00,\n",
              "         1.02515198e+00],\n",
              "       [ 7.00859070e-01,  9.52714899e-03,  3.79749070e-03,\n",
              "         2.05385729e-03,  7.25914333e-06,  7.13217678e-01,\n",
              "         2.77513220e-03,  7.07481093e-06,  4.67619438e-08,\n",
              "         4.60893359e-06,  1.37534694e+00, -5.57282673e-01,\n",
              "        -5.51096675e-01, -1.33554408e+00, -5.47191236e-01,\n",
              "        -7.90723577e-01],\n",
              "       [ 7.01637109e-01,  9.45394373e-03,  3.63617873e-03,\n",
              "         2.14848330e-03,  6.95902651e-06,  7.12453820e-01,\n",
              "         2.77594071e-03,  6.57258983e-06,  4.47023521e-08,\n",
              "         5.02721702e-06,  4.93206392e-02, -1.53731871e-01,\n",
              "        -2.78872753e-02, -1.58059962e-01,  1.92506740e-01,\n",
              "        -1.01986642e+00],\n",
              "       [ 7.00275354e-01,  9.74708536e-03,  3.59710679e-03,\n",
              "         2.24813380e-03,  7.02766921e-06,  7.13788066e-01,\n",
              "         2.83315536e-03,  6.76659923e-06,  4.62430328e-08,\n",
              "         5.58464969e-06, -7.33495412e-01, -8.58780525e-01,\n",
              "        -6.88919563e-01,  7.14828915e-01,  9.37058091e-01,\n",
              "         3.47985943e-01],\n",
              "       [ 7.02145360e-01,  1.04964650e-02,  4.26216865e-03,\n",
              "         2.15652635e-03,  8.74931795e-06,  7.11933868e-01,\n",
              "         3.01136331e-03,  8.15499838e-06,  6.15733469e-08,\n",
              "         5.06353962e-06,  2.45511700e+00,  1.15816258e-01,\n",
              "        -1.52173905e+00, -2.21021215e+00, -6.59581416e-01,\n",
              "        -9.70898660e-01],\n",
              "       [ 7.01048453e-01,  9.48587249e-03,  3.78093049e-03,\n",
              "         2.05602815e-03,  7.20416450e-06,  7.13032187e-01,\n",
              "         2.76810431e-03,  6.65447036e-06,  4.62974859e-08,\n",
              "         4.60123347e-06,  1.29056857e+00, -4.59247937e-01,\n",
              "        -4.33766879e-01, -1.28713467e+00, -5.32827691e-01,\n",
              "        -1.17310104e+00],\n",
              "       [ 6.99516165e-01,  1.03208905e-02,  4.18881355e-03,\n",
              "         2.08598595e-03,  8.40015084e-06,  7.14520881e-01,\n",
              "         2.93725812e-03,  7.73202349e-06,  5.80055606e-08,\n",
              "         4.76297739e-06,  2.64381942e+00, -1.24786323e+00,\n",
              "        -2.02388743e+00, -2.40205760e+00, -8.82743066e-01,\n",
              "        -8.00026400e-01],\n",
              "       [ 7.03390051e-01,  1.12296740e-02,  3.93286402e-03,\n",
              "         2.95133411e-03,  9.41079624e-06,  7.10690200e-01,\n",
              "         3.40470490e-03,  9.58401530e-06,  7.23711245e-08,\n",
              "         9.00109707e-06, -2.52946148e+00,  7.69822468e-01,\n",
              "         2.15227242e+00,  2.48723902e+00,  2.44050205e+00,\n",
              "         1.69614896e+00],\n",
              "       [ 6.99105011e-01,  9.74727530e-03,  3.88461315e-03,\n",
              "         2.09215654e-03,  7.56472605e-06,  7.14933364e-01,\n",
              "         2.82694894e-03,  6.81747715e-06,  4.98871571e-08,\n",
              "         4.75470714e-06,  1.44138939e+00, -1.46226205e+00,\n",
              "        -8.31454100e-01, -1.44558963e+00, -5.02049670e-01,\n",
              "        -1.69465614e+00],\n",
              "       [ 7.04111231e-01,  7.61618602e-03,  2.56248374e-03,\n",
              "         2.11301419e-03,  4.37424377e-06,  7.10037283e-01,\n",
              "         2.32241756e-03,  4.49007576e-06,  2.18952077e-08,\n",
              "         4.18381099e-06, -2.52946148e+00,  1.13202811e+00,\n",
              "         2.55741659e+00,  2.48723902e+00,  2.44050205e+00,\n",
              "         1.13159556e+00],\n",
              "       [ 6.98817484e-01,  9.43903401e-03,  3.49527167e-03,\n",
              "         2.21517972e-03,  6.62564724e-06,  7.15220444e-01,\n",
              "         2.76066470e-03,  6.38685266e-06,  4.28420870e-08,\n",
              "         5.34341490e-06, -9.21310725e-01, -1.61169445e+00,\n",
              "        -2.86450402e-01,  7.94469404e-01,  8.32881105e-01,\n",
              "        -1.47310108e+00],\n",
              "       [ 7.03168096e-01,  9.31482762e-03,  3.54649064e-03,\n",
              "         2.19966007e-03,  6.78562065e-06,  7.10944935e-01,\n",
              "         2.78295601e-03,  7.04231486e-06,  4.36297842e-08,\n",
              "         5.32670261e-06, -6.29719184e-01,  6.44406317e-01,\n",
              "         1.13520055e+00,  6.09727863e-01,  7.15533944e-01,\n",
              "         3.94869129e-01],\n",
              "       [ 7.02334652e-01,  9.79078721e-03,  3.61380566e-03,\n",
              "         2.36844103e-03,  7.18393106e-06,  7.11760495e-01,\n",
              "         2.91642204e-03,  7.55198551e-06,  4.89403673e-08,\n",
              "         6.19466294e-06, -1.36234226e+00,  2.11019458e-01,\n",
              "         9.31819600e-01,  1.41470327e+00,  1.64500219e+00,\n",
              "         6.04243157e-01],\n",
              "       [ 7.04231998e-01,  9.32422522e-03,  3.52368142e-03,\n",
              "         2.24960083e-03,  6.78428254e-06,  7.09890816e-01,\n",
              "         2.81130714e-03,  6.96431960e-06,  4.41033521e-08,\n",
              "         5.61066107e-06, -1.01886097e+00,  1.20250592e+00,\n",
              "         1.76352733e+00,  1.08319561e+00,  1.11109421e+00,\n",
              "         1.33272715e+00],\n",
              "       [ 7.03642027e-01,  1.17544011e-02,  4.30648054e-03,\n",
              "         2.97697866e-03,  1.03887522e-05,  7.10429111e-01,\n",
              "         3.57787991e-03,  1.11054613e-05,  8.74501075e-08,\n",
              "         9.86270786e-06, -2.03352258e+00,  9.04942312e-01,\n",
              "         2.43043169e+00,  2.27289356e+00,  2.44050205e+00,\n",
              "         1.65642290e+00],\n",
              "       [ 7.02481631e-01,  9.81525569e-03,  3.91702049e-03,\n",
              "         2.05659207e-03,  7.58347989e-06,  7.11614837e-01,\n",
              "         2.82307381e-03,  6.72668944e-06,  4.96844224e-08,\n",
              "         4.62841351e-06,  1.84692157e+00,  2.87853865e-01,\n",
              "        -1.36194640e+00, -1.69846463e+00, -6.87630294e-01,\n",
              "        -3.69051265e-01],\n",
              "       [ 7.03341437e-01,  9.43773816e-03,  3.55147522e-03,\n",
              "         2.20032542e-03,  6.78987495e-06,  7.10771800e-01,\n",
              "         2.78321408e-03,  6.43202045e-06,  4.36776724e-08,\n",
              "         5.31242179e-06, -6.14656986e-01,  7.35587550e-01,\n",
              "         2.58795322e-01,  5.72620325e-01,  6.88687604e-01,\n",
              "         6.19749541e-02],\n",
              "       [ 7.01567836e-01,  9.51342171e-03,  3.51203784e-03,\n",
              "         2.31935948e-03,  6.79744278e-06,  7.12521064e-01,\n",
              "         2.84359849e-03,  7.38461366e-06,  4.53154479e-08,\n",
              "         5.93437430e-06, -1.46052375e+00, -1.89498008e-01,\n",
              "         1.16662916e+00,  1.51028000e+00,  1.53794278e+00,\n",
              "         3.70167638e-01],\n",
              "       [ 7.04292506e-01,  9.41704513e-03,  3.55372591e-03,\n",
              "         2.20106809e-03,  6.80315456e-06,  7.09829656e-01,\n",
              "         2.78756045e-03,  6.59764969e-06,  4.37236353e-08,\n",
              "         5.33170527e-06, -6.10607866e-01,  1.23461476e+00,\n",
              "         5.09318394e-01,  5.98834992e-01,  7.08305757e-01,\n",
              "         5.32497057e-01],\n",
              "       [ 7.02168294e-01,  9.57051468e-03,  3.81400599e-03,\n",
              "         2.03570585e-03,  7.27812139e-06,  7.11928162e-01,\n",
              "         2.77390201e-03,  6.53167656e-06,  4.67488631e-08,\n",
              "         4.55250451e-06,  1.58375445e+00,  1.23361586e-01,\n",
              "        -8.72708657e-01, -1.46132763e+00, -6.35015490e-01,\n",
              "         5.75891330e-03],\n",
              "       [ 7.02157063e-01,  9.40584274e-03,  3.72592384e-03,\n",
              "         2.08546396e-03,  7.13141077e-06,  7.11941755e-01,\n",
              "         2.77373866e-03,  6.95811265e-06,  4.56653084e-08,\n",
              "         4.76924707e-06,  8.47198868e-01,  1.16852894e-01,\n",
              "         2.57133115e-01, -8.42694607e-01, -2.56620267e-01,\n",
              "        -1.91147246e-01],\n",
              "       [ 7.03507967e-01,  9.24085735e-03,  3.49155075e-03,\n",
              "         2.23684318e-03,  6.65811863e-06,  7.10609728e-01,\n",
              "         2.78695954e-03,  6.85920953e-06,  4.30359635e-08,\n",
              "         5.52467584e-06, -1.06487073e+00,  8.22111799e-01,\n",
              "         1.78318512e+00,  1.09649518e+00,  1.06740726e+00,\n",
              "         7.72894923e-01],\n",
              "       [ 7.03686203e-01,  9.72179547e-03,  3.66869241e-03,\n",
              "         2.20876274e-03,  7.20379925e-06,  7.10425783e-01,\n",
              "         2.84315616e-03,  7.12232999e-06,  4.70375333e-08,\n",
              "         5.41864998e-06, -2.17282519e-01,  9.17510153e-01,\n",
              "        -2.91248271e-01,  2.58779642e-01,  6.06176637e-01,\n",
              "         1.44747757e+00],\n",
              "       [ 7.03898707e-01,  7.47277719e-03,  2.76918560e-03,\n",
              "         1.78932420e-03,  4.19316279e-06,  7.10249937e-01,\n",
              "         2.21901456e-03,  4.29777819e-06,  2.16143368e-08,\n",
              "         3.52789939e-06, -1.17765618e+00,  1.01990710e+00,\n",
              "         7.20979975e-01,  1.20914342e+00, -2.83044977e-01,\n",
              "         6.07185719e-01],\n",
              "       [ 7.00812534e-01,  7.32491868e-03,  2.69383013e-03,\n",
              "         1.70821623e-03,  3.95324850e-06,  7.13297554e-01,\n",
              "         2.13588464e-03,  3.46122995e-06,  1.96522352e-08,\n",
              "         3.21409551e-06, -9.28837852e-01, -5.90249929e-01,\n",
              "        -4.83204094e-01,  9.04558109e-01, -6.37187291e-01,\n",
              "         8.46364023e-02],\n",
              "       [ 7.04039667e-01,  7.29747805e-03,  2.74601755e-03,\n",
              "         1.71839736e-03,  4.09048571e-06,  7.10112456e-01,\n",
              "         2.16817046e-03,  4.14126364e-06,  2.04543545e-08,\n",
              "         3.26933806e-06, -7.50697636e-01,  1.09332960e+00,\n",
              "         7.58627904e-01,  7.85115193e-01, -6.48391014e-01,\n",
              "         1.15327885e+00],\n",
              "       [ 6.99659781e-01,  6.09373470e-03,  2.44012172e-03,\n",
              "         1.27089274e-03,  2.92188430e-06,  7.14442747e-01,\n",
              "         1.74617479e-03,  2.78367409e-06,  1.19372140e-08,\n",
              "         1.75279385e-06,  1.97729877e+00, -1.18991869e+00,\n",
              "        -1.59637096e+00, -1.88279552e+00, -2.34662743e+00,\n",
              "        -1.71410115e+00],\n",
              "       [ 7.00812534e-01,  7.32491868e-03,  2.69383013e-03,\n",
              "         1.70821623e-03,  3.95324850e-06,  7.13297554e-01,\n",
              "         2.13588464e-03,  3.46122995e-06,  1.96522352e-08,\n",
              "         3.21409551e-06, -9.28837852e-01, -5.90249929e-01,\n",
              "        -4.83204094e-01,  9.04558109e-01, -6.37187291e-01,\n",
              "         8.46364023e-02],\n",
              "       [ 7.02833641e-01,  7.36252899e-03,  2.79073534e-03,\n",
              "         1.73388510e-03,  4.19600202e-06,  7.11305194e-01,\n",
              "         2.18906975e-03,  4.36423363e-06,  2.12629074e-08,\n",
              "         3.29487112e-06, -6.53128251e-01,  4.61754769e-01,\n",
              "         8.07118908e-01,  5.98872847e-01, -6.91877424e-01,\n",
              "        -1.47992042e-01],\n",
              "       [ 7.04039667e-01,  7.29747805e-03,  2.74601755e-03,\n",
              "         1.71839736e-03,  4.09048571e-06,  7.10112456e-01,\n",
              "         2.16817046e-03,  4.14126364e-06,  2.04543545e-08,\n",
              "         3.26933806e-06, -7.50697636e-01,  1.09332960e+00,\n",
              "         7.58627904e-01,  7.85115193e-01, -6.48391014e-01,\n",
              "         1.15327885e+00],\n",
              "       [ 7.04039667e-01,  7.29747805e-03,  2.74601755e-03,\n",
              "         1.71839736e-03,  4.09048571e-06,  7.10112456e-01,\n",
              "         2.16817046e-03,  4.14126364e-06,  2.04543545e-08,\n",
              "         3.26933806e-06, -7.50697636e-01,  1.09332960e+00,\n",
              "         7.58627904e-01,  7.85115193e-01, -6.48391014e-01,\n",
              "         1.15327885e+00],\n",
              "       [ 7.00812534e-01,  7.32491868e-03,  2.69383013e-03,\n",
              "         1.70821623e-03,  3.95324850e-06,  7.13297554e-01,\n",
              "         2.13588464e-03,  3.46122995e-06,  1.96522352e-08,\n",
              "         3.21409551e-06, -9.28837852e-01, -5.90249929e-01,\n",
              "        -4.83204094e-01,  9.04558109e-01, -6.37187291e-01,\n",
              "         8.46364023e-02],\n",
              "       [ 6.97500750e-01,  6.74725484e-03,  2.61531386e-03,\n",
              "         1.46460815e-03,  3.51292037e-06,  7.16543388e-01,\n",
              "         1.94052583e-03,  3.36631636e-06,  1.58987578e-08,\n",
              "         2.33440004e-06,  8.39222519e-01, -2.29660157e+00,\n",
              "        -1.36606577e+00, -9.31338309e-01, -1.95360250e+00,\n",
              "        -1.74477837e+00],\n",
              "       [ 7.01706407e-01,  6.16190115e-03,  2.48712771e-03,\n",
              "         1.28609755e-03,  3.01780918e-06,  7.12431863e-01,\n",
              "         1.77484753e-03,  2.76338521e-06,  1.24968104e-08,\n",
              "         1.79548782e-06,  2.09463970e+00, -1.29728537e-01,\n",
              "        -1.27073376e+00, -1.95480957e+00, -2.34662743e+00,\n",
              "        -1.36676079e+00],\n",
              "       [ 7.02600580e-01,  6.99734944e-03,  2.71611944e-03,\n",
              "         1.54844644e-03,  3.83131781e-06,  7.11540242e-01,\n",
              "         2.04248472e-03,  3.63191169e-06,  1.80276605e-08,\n",
              "         2.63705335e-06,  5.71658429e-01,  3.38759840e-01,\n",
              "        -4.15768641e-01, -5.70593236e-01, -1.61063409e+00,\n",
              "         2.00487974e-01],\n",
              "       [ 7.02833641e-01,  7.36252899e-03,  2.79073534e-03,\n",
              "         1.73388510e-03,  4.19600202e-06,  7.11305194e-01,\n",
              "         2.18906975e-03,  4.36423363e-06,  2.12629074e-08,\n",
              "         3.29487112e-06, -6.53128251e-01,  4.61754769e-01,\n",
              "         8.07118908e-01,  5.98872847e-01, -6.91877424e-01,\n",
              "        -1.47992042e-01],\n",
              "       [ 7.02685575e-01,  6.52936163e-03,  2.20656975e-03,\n",
              "         1.78002237e-03,  3.17312618e-06,  7.11462162e-01,\n",
              "         1.97602470e-03,  3.55279282e-06,  1.37047212e-08,\n",
              "         3.03498408e-06, -2.52946148e+00,  3.81610833e-01,\n",
              "         2.02461354e+00,  2.48723902e+00,  1.08429427e+00,\n",
              "         6.89167741e-01],\n",
              "       [ 6.99659781e-01,  6.09373470e-03,  2.44012172e-03,\n",
              "         1.27089274e-03,  2.92188430e-06,  7.14442747e-01,\n",
              "         1.74617479e-03,  2.78367409e-06,  1.19372140e-08,\n",
              "         1.75279385e-06,  1.97729877e+00, -1.18991869e+00,\n",
              "        -1.59637096e+00, -1.88279552e+00, -2.34662743e+00,\n",
              "        -1.71410115e+00],\n",
              "       [ 7.01554232e-01,  7.05867974e-03,  2.73186112e-03,\n",
              "         1.54860385e-03,  3.87197568e-06,  7.12571242e-01,\n",
              "         2.04898496e-03,  3.79628913e-06,  1.83022103e-08,\n",
              "         2.64403060e-06,  6.56268150e-01, -2.06129659e-01,\n",
              "        -7.75078705e-01, -6.41069217e-01, -1.62395181e+00,\n",
              "         3.04284356e-01],\n",
              "       [ 7.01554232e-01,  7.05867974e-03,  2.73186112e-03,\n",
              "         1.54860385e-03,  3.87197568e-06,  7.12571242e-01,\n",
              "         2.04898496e-03,  3.79628913e-06,  1.83022103e-08,\n",
              "         2.64403060e-06,  6.56268150e-01, -2.06129659e-01,\n",
              "        -7.75078705e-01, -6.41069217e-01, -1.62395181e+00,\n",
              "         3.04284356e-01],\n",
              "       [ 7.02685575e-01,  6.52936163e-03,  2.20656975e-03,\n",
              "         1.78002237e-03,  3.17312618e-06,  7.11462162e-01,\n",
              "         1.97602470e-03,  3.55279282e-06,  1.37047212e-08,\n",
              "         3.03498408e-06, -2.52946148e+00,  3.81610833e-01,\n",
              "         2.02461354e+00,  2.48723902e+00,  1.08429427e+00,\n",
              "         6.89167741e-01],\n",
              "       [ 7.01706407e-01,  6.16190115e-03,  2.48712771e-03,\n",
              "         1.28609755e-03,  3.01780918e-06,  7.12431863e-01,\n",
              "         1.77484753e-03,  2.76338521e-06,  1.24968104e-08,\n",
              "         1.79548782e-06,  2.09463970e+00, -1.29728537e-01,\n",
              "        -1.27073376e+00, -1.95480957e+00, -2.34662743e+00,\n",
              "        -1.36676079e+00],\n",
              "       [ 7.02685575e-01,  6.52936163e-03,  2.20656975e-03,\n",
              "         1.78002237e-03,  3.17312618e-06,  7.11462162e-01,\n",
              "         1.97602470e-03,  3.55279282e-06,  1.37047212e-08,\n",
              "         3.03498408e-06, -2.52946148e+00,  3.81610833e-01,\n",
              "         2.02461354e+00,  2.48723902e+00,  1.08429427e+00,\n",
              "         6.89167741e-01],\n",
              "       [ 7.02685575e-01,  6.52936163e-03,  2.20656975e-03,\n",
              "         1.78002237e-03,  3.17312618e-06,  7.11462162e-01,\n",
              "         1.97602470e-03,  3.55279282e-06,  1.37047212e-08,\n",
              "         3.03498408e-06, -2.52946148e+00,  3.81610833e-01,\n",
              "         2.02461354e+00,  2.48723902e+00,  1.08429427e+00,\n",
              "         6.89167741e-01],\n",
              "       [ 6.93853852e-01,  7.33605744e-03,  2.71732658e-03,\n",
              "         1.67944644e-03,  3.95095485e-06,  7.20068309e-01,\n",
              "         2.10712695e-03,  3.85662909e-06,  1.96823574e-08,\n",
              "         3.02204558e-06, -5.81435497e-01, -2.67529635e+00,\n",
              "        -1.44809609e+00,  2.75485561e-01, -9.91945941e-01,\n",
              "        -3.98978658e+00],\n",
              "       [ 6.97500750e-01,  6.74725484e-03,  2.61531386e-03,\n",
              "         1.46460815e-03,  3.51292037e-06,  7.16543388e-01,\n",
              "         1.94052583e-03,  3.36631636e-06,  1.58987578e-08,\n",
              "         2.33440004e-06,  8.39222519e-01, -2.29660157e+00,\n",
              "        -1.36606577e+00, -9.31338309e-01, -1.95360250e+00,\n",
              "        -1.74477837e+00],\n",
              "       [ 7.02685575e-01,  6.52936163e-03,  2.20656975e-03,\n",
              "         1.78002237e-03,  3.17312618e-06,  7.11462162e-01,\n",
              "         1.97602470e-03,  3.55279282e-06,  1.37047212e-08,\n",
              "         3.03498408e-06, -2.52946148e+00,  3.81610833e-01,\n",
              "         2.02461354e+00,  2.48723902e+00,  1.08429427e+00,\n",
              "         6.89167741e-01],\n",
              "       [ 7.02600580e-01,  6.99734944e-03,  2.71611944e-03,\n",
              "         1.54844644e-03,  3.83131781e-06,  7.11540242e-01,\n",
              "         2.04248472e-03,  3.63191169e-06,  1.80276605e-08,\n",
              "         2.63705335e-06,  5.71658429e-01,  3.38759840e-01,\n",
              "        -4.15768641e-01, -5.70593236e-01, -1.61063409e+00,\n",
              "         2.00487974e-01],\n",
              "       [ 7.02685575e-01,  6.52936163e-03,  2.20656975e-03,\n",
              "         1.78002237e-03,  3.17312618e-06,  7.11462162e-01,\n",
              "         1.97602470e-03,  3.55279282e-06,  1.37047212e-08,\n",
              "         3.03498408e-06, -2.52946148e+00,  3.81610833e-01,\n",
              "         2.02461354e+00,  2.48723902e+00,  1.08429427e+00,\n",
              "         6.89167741e-01],\n",
              "       [ 7.01706407e-01,  6.16190115e-03,  2.48712771e-03,\n",
              "         1.28609755e-03,  3.01780918e-06,  7.12431863e-01,\n",
              "         1.77484753e-03,  2.76338521e-06,  1.24968104e-08,\n",
              "         1.79548782e-06,  2.09463970e+00, -1.29728537e-01,\n",
              "        -1.27073376e+00, -1.95480957e+00, -2.34662743e+00,\n",
              "        -1.36676079e+00],\n",
              "       [ 7.02685575e-01,  6.52936163e-03,  2.20656975e-03,\n",
              "         1.78002237e-03,  3.17312618e-06,  7.11462162e-01,\n",
              "         1.97602470e-03,  3.55279282e-06,  1.37047212e-08,\n",
              "         3.03498408e-06, -2.52946148e+00,  3.81610833e-01,\n",
              "         2.02461354e+00,  2.48723902e+00,  1.08429427e+00,\n",
              "         6.89167741e-01],\n",
              "       [ 6.98770602e-01,  6.06752018e-03,  2.36578667e-03,\n",
              "         1.26086519e-03,  2.77557667e-06,  7.15313026e-01,\n",
              "         1.70835238e-03,  2.41924748e-06,  1.11058326e-08,\n",
              "         1.71046393e-06,  1.60718420e+00, -1.64780599e+00,\n",
              "        -2.67831326e+00, -1.64840154e+00, -2.34662743e+00,\n",
              "        -2.78218903e+00],\n",
              "       [ 7.03898707e-01,  7.47277719e-03,  2.76918560e-03,\n",
              "         1.78932420e-03,  4.19316279e-06,  7.10249937e-01,\n",
              "         2.21901456e-03,  4.29777819e-06,  2.16143368e-08,\n",
              "         3.52789939e-06, -1.17765618e+00,  1.01990710e+00,\n",
              "         7.20979975e-01,  1.20914342e+00, -2.83044977e-01,\n",
              "         6.07185719e-01]])"
            ]
          },
          "metadata": {},
          "execution_count": 73
        }
      ]
    },
    {
      "cell_type": "markdown",
      "metadata": {
        "id": "9AMecMZvbv2f"
      },
      "source": [
        "4. "
      ]
    },
    {
      "cell_type": "code",
      "metadata": {
        "colab": {
          "base_uri": "https://localhost:8080/"
        },
        "id": "TuIKjSc0eNuD",
        "outputId": "9b9ce5ad-2e7d-418a-c237-8237dc8cac9d"
      },
      "source": [
        "svm_model.predict(svm_model.support_vectors_)"
      ],
      "execution_count": null,
      "outputs": [
        {
          "output_type": "execute_result",
          "data": {
            "text/plain": [
              "array(['class A', 'class B', 'class A', 'class A', 'class B', 'class B',\n",
              "       'class B', 'class B'], dtype=object)"
            ]
          },
          "metadata": {},
          "execution_count": 74
        }
      ]
    },
    {
      "cell_type": "markdown",
      "metadata": {
        "id": "PhEfSiA_b94E"
      },
      "source": [
        "No, all the support vectors does belongs to one Class."
      ]
    },
    {
      "cell_type": "markdown",
      "metadata": {
        "id": "yLbf0M5ccB3H"
      },
      "source": [
        "5. "
      ]
    },
    {
      "cell_type": "code",
      "metadata": {
        "colab": {
          "base_uri": "https://localhost:8080/"
        },
        "id": "Cd7WLotzevJJ",
        "outputId": "7fb63599-a516-477f-e753-c35feedacbf0"
      },
      "source": [
        "stand_svm_model.predict(stand_svm_model.support_vectors_)"
      ],
      "execution_count": null,
      "outputs": [
        {
          "output_type": "execute_result",
          "data": {
            "text/plain": [
              "array([0, 0, 0, 0, 0, 0, 0, 0, 0, 0, 0, 0, 0, 0, 0, 0, 0, 0, 0, 0, 0, 0,\n",
              "       0, 0, 0, 0, 0, 0, 0, 0, 1, 1, 1, 1, 1, 1, 1, 1, 1, 1, 1, 1, 1, 1,\n",
              "       1, 1, 1, 1, 1, 1, 1, 1, 1, 1, 1, 1, 1, 1, 1, 1])"
            ]
          },
          "metadata": {},
          "execution_count": 75
        }
      ]
    },
    {
      "cell_type": "markdown",
      "metadata": {
        "id": "ZVGYy4i0cCtg"
      },
      "source": [
        "No, all the support vectors does belongs to one Class."
      ]
    },
    {
      "cell_type": "markdown",
      "metadata": {
        "id": "b5lgQ4sxcGOH"
      },
      "source": [
        "6. "
      ]
    },
    {
      "cell_type": "code",
      "metadata": {
        "colab": {
          "base_uri": "https://localhost:8080/"
        },
        "id": "re4cvs16fOZa",
        "outputId": "fe5f8207-85eb-44b0-a2c0-fc1e0fb39e84"
      },
      "source": [
        "kmeans.cluster_centers_"
      ],
      "execution_count": null,
      "outputs": [
        {
          "output_type": "execute_result",
          "data": {
            "text/plain": [
              "array([[7.16791812e+04, 1.03089636e+03, 3.98502387e+02, 2.30947011e+02,\n",
              "        1.72766133e+00, 8.13430021e-01, 7.27758685e+04, 3.01866660e+02,\n",
              "        7.59707771e-01, 9.85068656e-01, 8.46419048e-01, 7.58038308e-01,\n",
              "        5.57966643e-03, 1.13808384e-03, 5.75196445e-01, 9.90656409e-01],\n",
              "       [1.73708006e+05, 1.58682284e+03, 5.93746342e+02, 3.74494358e+02,\n",
              "        1.58819411e+00, 7.74815052e-01, 1.76040635e+05, 4.69270023e+02,\n",
              "        7.76778814e-01, 9.86993270e-01, 8.64197076e-01, 7.91223648e-01,\n",
              "        3.44074409e-03, 8.43314090e-04, 6.26415131e-01, 9.91829684e-01]])"
            ]
          },
          "metadata": {},
          "execution_count": 76
        }
      ]
    },
    {
      "cell_type": "markdown",
      "metadata": {
        "id": "g2yqMdV0cIEI"
      },
      "source": [
        "No there are no cluster_centers in experiment E1 which are the support vectors in the experiment E3 or in the Experiment E4."
      ]
    },
    {
      "cell_type": "markdown",
      "metadata": {
        "id": "lY5w8JkgcIiX"
      },
      "source": [
        "7."
      ]
    },
    {
      "cell_type": "markdown",
      "metadata": {
        "id": "CzO2CgNCcJWl"
      },
      "source": [
        "* E3 - SVM without standardization - 0.997\n",
        "* Experiment 4 (SVM with standaridzation and balancing)-  0.99705\n",
        "* E5 - MLP with linear 0.9977\n",
        "* Experiment 5 (MLP with sigmoid as activation function0.6968325791855203\n",
        "* Experiment 5 (MLP with tanh as activation function- .9977\n",
        "* Experiment 5 (MLP with ReLu as activation function - 1\n"
      ]
    },
    {
      "cell_type": "markdown",
      "metadata": {
        "id": "xgjVNbf_dD52"
      },
      "source": [
        "In E5 is the best model with an accuracy score of 1 others accuracy can be inferered easily from above table."
      ]
    }
  ]
}