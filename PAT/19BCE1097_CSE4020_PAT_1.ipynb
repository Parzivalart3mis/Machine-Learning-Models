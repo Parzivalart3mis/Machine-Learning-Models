{
  "nbformat": 4,
  "nbformat_minor": 0,
  "metadata": {
    "colab": {
      "name": "19BCE1097 - CSE4020 PAT 1.ipynb",
      "provenance": []
    },
    "kernelspec": {
      "name": "python3",
      "display_name": "Python 3"
    },
    "language_info": {
      "name": "python"
    }
  },
  "cells": [
    {
      "cell_type": "markdown",
      "metadata": {
        "id": "Yb4QGGPraH-y"
      },
      "source": [
        "# **PAT 1**\n",
        "### **Name -** Yash Vardhan Sharma\n",
        "### **Reg. No. -** 19BCE1097\n",
        "### **Professor -** Dr. L Jeganathan"
      ]
    },
    {
      "cell_type": "markdown",
      "metadata": {
        "id": "SL9m2kFVaDiT"
      },
      "source": [
        "## **Code of Academic Integrity**\n",
        "I affirm that\n",
        "* This work is my own original work and is not a borrowed work,\n",
        "either from other students or from assignments for other courses.\n",
        "* I have not given or received any unauthorized help on this as\u0002signment.\n",
        "* This submission is free from\n",
        "<ul>\n",
        "  <li>Plagiarism</li>\n",
        "  <li>Fabrication of facts</li>\n",
        "  <li>Unauthorized assistance</li>\n",
        "  <li>Collusion</li>\n",
        "</ul>\n",
        "* This submission gives proper credit to sources and references,\n",
        "acknowledges the contributions and ideas of others relevant to\n",
        "this academic work.\n",
        "* This submission was prepared by me fully adhering to the rules\n",
        "that govern this assignment regarding resource material, elec\u0002tronic aids, copying, collaborating with others, or engaging in\n",
        "any other behavior that subverts the purpose of the assignment\n",
        "and the directions of the teacher."
      ]
    },
    {
      "cell_type": "markdown",
      "metadata": {
        "id": "qby32qH0yc96"
      },
      "source": [
        "# **1**"
      ]
    },
    {
      "cell_type": "code",
      "metadata": {
        "id": "uwVf_vkuZ73O"
      },
      "source": [
        "#importing all the required libraries.\n",
        "import warnings\n",
        "warnings.filterwarnings('ignore')\n",
        "\n",
        "import matplotlib.pyplot as plt\n",
        "%matplotlib inline\n",
        "import pandas as pd\n",
        "import numpy as np\n",
        "import seaborn as sns\n",
        "\n",
        "from sklearn.linear_model import LinearRegression as LR\n",
        "from sklearn.model_selection import train_test_split\n",
        "from sklearn.model_selection import cross_val_score\n",
        "from sklearn.metrics import mean_absolute_error as mae\n",
        "from sklearn.metrics import mean_squared_error"
      ],
      "execution_count": null,
      "outputs": []
    },
    {
      "cell_type": "code",
      "metadata": {
        "id": "vmao308Walwt"
      },
      "source": [
        "from sympy import sympify, Symbol\n",
        "import numpy as np\n",
        "\n",
        "def symbolize(s):\n",
        "    \"\"\"\n",
        "    Converts a a string (equation) to a SymPy symbol object\n",
        "    \"\"\"\n",
        "    s1=s.replace('.','*')\n",
        "    s2=s1.replace('^','**')\n",
        "    s3=sympify(s2)\n",
        "    \n",
        "    return(s3)\n",
        "\n",
        "def eval_multinomial(s,vals=None,symbolic_eval=False):\n",
        "    \"\"\"\n",
        "    Evaluates polynomial at vals.\n",
        "    vals can be simple list, dictionary, or tuple of values.\n",
        "    vals can also contain symbols instead of real values provided those symbols have been declared before using SymPy\n",
        "    \"\"\"\n",
        "    sym_s=symbolize(s)\n",
        "    sym_set=sym_s.atoms(Symbol)\n",
        "    sym_lst=[]\n",
        "    for s in sym_set:\n",
        "        sym_lst.append(str(s))\n",
        "    sym_lst.sort()\n",
        "    if symbolic_eval==False and len(sym_set)!=len(vals):\n",
        "        print(\"Length of the input values did not match number of variables and symbolic evaluation is not selected\")\n",
        "        return None\n",
        "    else:\n",
        "        if type(vals)==list:\n",
        "            sub=list(zip(sym_lst,vals))\n",
        "        elif type(vals)==dict:\n",
        "            l=list(vals.keys())\n",
        "            l.sort()\n",
        "            lst=[]\n",
        "            for i in l:\n",
        "                lst.append(vals[i])\n",
        "            sub=list(zip(sym_lst,lst))\n",
        "        elif type(vals)==tuple:\n",
        "            sub=list(zip(sym_lst,list(vals)))\n",
        "        result=sym_s.subs(sub)\n",
        "    \n",
        "    return result\n",
        "\n",
        "def flip(y,p):\n",
        "    \"\"\"\n",
        "    Flips random bit (used to make a classification problem haredr)\n",
        "    \"\"\"\n",
        "    lst=[]\n",
        "    for i in range(len(y)):\n",
        "        f=np.random.choice([1,0],p=[p,1-p])\n",
        "        lst.append(f)\n",
        "    lst=np.array(lst)\n",
        "    return np.array(np.logical_xor(y,lst),dtype=int)\n",
        "\n",
        "\n",
        "def gen_classification_symbolic(m=None,n_samples=100,n_features=2,flip_y=0.0):\n",
        "    \"\"\"\n",
        "    Generates classification sample based on a symbolic expression.\n",
        "    Calculates the output of the symbolic expression at randomly generated (Gaussian distribution) points and\n",
        "    assigns binary classification based on sign.\n",
        "    m: The symbolic expression. Needs x1, x2, etc as variables and regular python arithmatic symbols to be used.\n",
        "    n_samples: Number of samples to be generated\n",
        "    n_features: Number of variables. This is automatically inferred from the symbolic expression. So this is ignored \n",
        "                in case a symbolic expression is supplied. However if no symbolic expression is supplied then a \n",
        "                default simple polynomial can be invoked to generate classification samples with n_features.\n",
        "    flip_y: Probability of flipping the classification labels randomly. A higher value introduces more noise and make\n",
        "            the classification problem harder.\n",
        "    Returns a numpy ndarray with dimension (n_samples,n_features+1). Last column is the response vector.\n",
        "    \"\"\"\n",
        "    \n",
        "    if m==None:\n",
        "        m=''\n",
        "        for i in range(1,n_features+1):\n",
        "            c='x'+str(i)\n",
        "            c+=np.random.choice(['+','-'],p=[0.5,0.5])\n",
        "            m+=c\n",
        "        m=m[:-1]\n",
        "    sym_m=sympify(m)\n",
        "    n_features=len(sym_m.atoms(Symbol))\n",
        "    evals=[]\n",
        "    lst_features=[]\n",
        "    for i in range(n_features):\n",
        "        lst_features.append(np.random.normal(scale=5,size=n_samples))\n",
        "    lst_features=np.array(lst_features)\n",
        "    lst_features=lst_features.T\n",
        "    for i in range(n_samples):\n",
        "        evals.append(eval_multinomial(m,vals=list(lst_features[i])))\n",
        "    \n",
        "    evals=np.array(evals)\n",
        "    evals_binary=evals>0\n",
        "    evals_binary=evals_binary.flatten()\n",
        "    evals_binary=np.array(evals_binary,dtype=int)\n",
        "    evals_binary=flip(evals_binary,p=flip_y)\n",
        "    evals_binary=evals_binary.reshape(n_samples,1)\n",
        "    \n",
        "    lst_features=lst_features.reshape(n_samples,n_features)\n",
        "    x=np.hstack((lst_features,evals_binary))\n",
        "    \n",
        "    return (x)\n",
        "\n",
        "\n",
        "def gen_regression_symbolic(m=None,n_samples=100,n_features=2,noise=0.0,noise_dist='normal'):\n",
        "    \"\"\"\n",
        "    Generates regression sample based on a symbolic expression. Calculates the output of the symbolic expression \n",
        "    at randomly generated (drawn from a Gaussian distribution) points\n",
        "    m: The symbolic expression. Needs x1, x2, etc as variables and regular python arithmatic symbols to be used.\n",
        "    n_samples: Number of samples to be generated\n",
        "    n_features: Number of variables. This is automatically inferred from the symbolic expression. So this is ignored \n",
        "                in case a symbolic expression is supplied. However if no symbolic expression is supplied then a \n",
        "                default simple polynomial can be invoked to generate regression samples with n_features.\n",
        "    noise: Magnitude of Gaussian noise to be introduced (added to the output).\n",
        "    noise_dist: Type of the probability distribution of the noise signal. \n",
        "    Currently supports: Normal, Uniform, t, Beta, Gamma, Poission, Laplace\n",
        "\n",
        "    Returns a numpy ndarray with dimension (n_samples,n_features+1). Last column is the response vector.\n",
        "    \"\"\"\n",
        "    \n",
        "    if m==None:\n",
        "        m=''\n",
        "        for i in range(1,n_features+1):\n",
        "            c='x'+str(i)\n",
        "            c+=np.random.choice(['+','-'],p=[0.5,0.5])\n",
        "            m+=c\n",
        "        m=m[:-1]\n",
        "    \n",
        "    sym_m=sympify(m)\n",
        "    n_features=len(sym_m.atoms(Symbol))\n",
        "    evals=[]\n",
        "    lst_features=[]\n",
        "    \n",
        "    for i in range(n_features):\n",
        "        lst_features.append(np.random.normal(scale=5,size=n_samples))\n",
        "    lst_features=np.array(lst_features)\n",
        "    lst_features=lst_features.T\n",
        "    lst_features=lst_features.reshape(n_samples,n_features)\n",
        "    \n",
        "    for i in range(n_samples):\n",
        "        evals.append(eval_multinomial(m,vals=list(lst_features[i])))\n",
        "    \n",
        "    evals=np.array(evals)\n",
        "    evals=evals.reshape(n_samples,1)\n",
        "    \n",
        "    if noise_dist=='normal':\n",
        "        noise_sample=noise*np.random.normal(loc=0,scale=1.0,size=n_samples)\n",
        "    elif noise_dist=='uniform':\n",
        "        noise_sample=noise*np.random.uniform(low=0,high=1.0,size=n_samples)\n",
        "    elif noise_dist=='beta':\n",
        "        noise_sample=noise*np.random.beta(a=0.5,b=1.0,size=n_samples)\n",
        "    elif noise_dist=='Gamma':\n",
        "        noise_sample=noise*np.random.gamma(shape=1.0,scale=1.0,size=n_samples)\n",
        "    elif noise_dist=='laplace':\n",
        "        noise_sample=noise*np.random.laplace(loc=0.0,scale=1.0,size=n_samples)\n",
        "        \n",
        "    noise_sample=noise_sample.reshape(n_samples,1)\n",
        "    evals=evals+noise_sample\n",
        "        \n",
        "    x=np.hstack((lst_features,evals))\n",
        "    \n",
        "    return (x)"
      ],
      "execution_count": null,
      "outputs": []
    },
    {
      "cell_type": "code",
      "metadata": {
        "colab": {
          "base_uri": "https://localhost:8080/"
        },
        "id": "uLKRRS-gbX_q",
        "outputId": "82af5824-3140-4d3d-f70f-4a400623d8ee"
      },
      "source": [
        "x = gen_regression_symbolic(m='8*(x1) + 3.5*(x2) + 9', n_samples=1000, noise=0.1, n_features=2)\n",
        "D = pd.DataFrame(x, columns = ['x1'] + ['x2'] + ['r'])\n",
        "D"
      ],
      "execution_count": null,
      "outputs": [
        {
          "output_type": "execute_result",
          "data": {
            "text/html": [
              "<div>\n",
              "<style scoped>\n",
              "    .dataframe tbody tr th:only-of-type {\n",
              "        vertical-align: middle;\n",
              "    }\n",
              "\n",
              "    .dataframe tbody tr th {\n",
              "        vertical-align: top;\n",
              "    }\n",
              "\n",
              "    .dataframe thead th {\n",
              "        text-align: right;\n",
              "    }\n",
              "</style>\n",
              "<table border=\"1\" class=\"dataframe\">\n",
              "  <thead>\n",
              "    <tr style=\"text-align: right;\">\n",
              "      <th></th>\n",
              "      <th>x1</th>\n",
              "      <th>x2</th>\n",
              "      <th>r</th>\n",
              "    </tr>\n",
              "  </thead>\n",
              "  <tbody>\n",
              "    <tr>\n",
              "      <th>0</th>\n",
              "      <td>0.886207</td>\n",
              "      <td>0.597989</td>\n",
              "      <td>25.1298817607415</td>\n",
              "    </tr>\n",
              "    <tr>\n",
              "      <th>1</th>\n",
              "      <td>-2.59665</td>\n",
              "      <td>1.49055</td>\n",
              "      <td>10.6407700536397</td>\n",
              "    </tr>\n",
              "    <tr>\n",
              "      <th>2</th>\n",
              "      <td>-2.8019</td>\n",
              "      <td>-12.1548</td>\n",
              "      <td>-195.949532928569</td>\n",
              "    </tr>\n",
              "    <tr>\n",
              "      <th>3</th>\n",
              "      <td>-3.3236</td>\n",
              "      <td>2.54858</td>\n",
              "      <td>20.6546801814512</td>\n",
              "    </tr>\n",
              "    <tr>\n",
              "      <th>4</th>\n",
              "      <td>-2.34028</td>\n",
              "      <td>-2.52087</td>\n",
              "      <td>-47.4038479303094</td>\n",
              "    </tr>\n",
              "    <tr>\n",
              "      <th>...</th>\n",
              "      <td>...</td>\n",
              "      <td>...</td>\n",
              "      <td>...</td>\n",
              "    </tr>\n",
              "    <tr>\n",
              "      <th>995</th>\n",
              "      <td>-0.499636</td>\n",
              "      <td>1.04442</td>\n",
              "      <td>20.5485339614135</td>\n",
              "    </tr>\n",
              "    <tr>\n",
              "      <th>996</th>\n",
              "      <td>-1.8709</td>\n",
              "      <td>-1.44194</td>\n",
              "      <td>-27.4609641578335</td>\n",
              "    </tr>\n",
              "    <tr>\n",
              "      <th>997</th>\n",
              "      <td>1.75326</td>\n",
              "      <td>5.90331</td>\n",
              "      <td>111.327344336814</td>\n",
              "    </tr>\n",
              "    <tr>\n",
              "      <th>998</th>\n",
              "      <td>-14.5227</td>\n",
              "      <td>0.580894</td>\n",
              "      <td>-98.3494768887116</td>\n",
              "    </tr>\n",
              "    <tr>\n",
              "      <th>999</th>\n",
              "      <td>0.0276458</td>\n",
              "      <td>5.3226</td>\n",
              "      <td>88.8477608126738</td>\n",
              "    </tr>\n",
              "  </tbody>\n",
              "</table>\n",
              "<p>1000 rows × 3 columns</p>\n",
              "</div>"
            ],
            "text/plain": [
              "            x1        x2                  r\n",
              "0     0.886207  0.597989   25.1298817607415\n",
              "1     -2.59665   1.49055   10.6407700536397\n",
              "2      -2.8019  -12.1548  -195.949532928569\n",
              "3      -3.3236   2.54858   20.6546801814512\n",
              "4     -2.34028  -2.52087  -47.4038479303094\n",
              "..         ...       ...                ...\n",
              "995  -0.499636   1.04442   20.5485339614135\n",
              "996    -1.8709  -1.44194  -27.4609641578335\n",
              "997    1.75326   5.90331   111.327344336814\n",
              "998   -14.5227  0.580894  -98.3494768887116\n",
              "999  0.0276458    5.3226   88.8477608126738\n",
              "\n",
              "[1000 rows x 3 columns]"
            ]
          },
          "metadata": {},
          "execution_count": 47
        }
      ]
    },
    {
      "cell_type": "markdown",
      "metadata": {
        "id": "0lMJoXt2yi8f"
      },
      "source": [
        "a."
      ]
    },
    {
      "cell_type": "code",
      "metadata": {
        "colab": {
          "base_uri": "https://localhost:8080/"
        },
        "id": "cVucJ0Ubbsa3",
        "outputId": "7335b6a0-cac5-4890-fe18-1f01538ab168"
      },
      "source": [
        "D.shape"
      ],
      "execution_count": null,
      "outputs": [
        {
          "output_type": "execute_result",
          "data": {
            "text/plain": [
              "(1000, 3)"
            ]
          },
          "metadata": {},
          "execution_count": 48
        }
      ]
    },
    {
      "cell_type": "code",
      "metadata": {
        "id": "zdDx2j6fcx5A"
      },
      "source": [
        "D = D.astype(float)"
      ],
      "execution_count": null,
      "outputs": []
    },
    {
      "cell_type": "code",
      "metadata": {
        "colab": {
          "base_uri": "https://localhost:8080/",
          "height": 511
        },
        "id": "-H8Wwzkbbxs-",
        "outputId": "f7bb286b-c66b-474d-c380-1c9db92eb153"
      },
      "source": [
        "D.tail(15)"
      ],
      "execution_count": null,
      "outputs": [
        {
          "output_type": "execute_result",
          "data": {
            "text/html": [
              "<div>\n",
              "<style scoped>\n",
              "    .dataframe tbody tr th:only-of-type {\n",
              "        vertical-align: middle;\n",
              "    }\n",
              "\n",
              "    .dataframe tbody tr th {\n",
              "        vertical-align: top;\n",
              "    }\n",
              "\n",
              "    .dataframe thead th {\n",
              "        text-align: right;\n",
              "    }\n",
              "</style>\n",
              "<table border=\"1\" class=\"dataframe\">\n",
              "  <thead>\n",
              "    <tr style=\"text-align: right;\">\n",
              "      <th></th>\n",
              "      <th>x1</th>\n",
              "      <th>x2</th>\n",
              "      <th>r</th>\n",
              "    </tr>\n",
              "  </thead>\n",
              "  <tbody>\n",
              "    <tr>\n",
              "      <th>985</th>\n",
              "      <td>4.401132</td>\n",
              "      <td>-9.428903</td>\n",
              "      <td>-97.227248</td>\n",
              "    </tr>\n",
              "    <tr>\n",
              "      <th>986</th>\n",
              "      <td>4.627598</td>\n",
              "      <td>2.856208</td>\n",
              "      <td>88.840934</td>\n",
              "    </tr>\n",
              "    <tr>\n",
              "      <th>987</th>\n",
              "      <td>-11.080259</td>\n",
              "      <td>-0.832465</td>\n",
              "      <td>-92.258490</td>\n",
              "    </tr>\n",
              "    <tr>\n",
              "      <th>988</th>\n",
              "      <td>-3.596485</td>\n",
              "      <td>5.024977</td>\n",
              "      <td>55.548472</td>\n",
              "    </tr>\n",
              "    <tr>\n",
              "      <th>989</th>\n",
              "      <td>-1.543871</td>\n",
              "      <td>-0.810643</td>\n",
              "      <td>-15.611499</td>\n",
              "    </tr>\n",
              "    <tr>\n",
              "      <th>990</th>\n",
              "      <td>-5.115337</td>\n",
              "      <td>-7.770761</td>\n",
              "      <td>-148.329964</td>\n",
              "    </tr>\n",
              "    <tr>\n",
              "      <th>991</th>\n",
              "      <td>2.781809</td>\n",
              "      <td>-1.649717</td>\n",
              "      <td>6.475178</td>\n",
              "    </tr>\n",
              "    <tr>\n",
              "      <th>992</th>\n",
              "      <td>2.178232</td>\n",
              "      <td>-7.542222</td>\n",
              "      <td>-86.758389</td>\n",
              "    </tr>\n",
              "    <tr>\n",
              "      <th>993</th>\n",
              "      <td>-2.054930</td>\n",
              "      <td>2.515333</td>\n",
              "      <td>30.331409</td>\n",
              "    </tr>\n",
              "    <tr>\n",
              "      <th>994</th>\n",
              "      <td>8.223743</td>\n",
              "      <td>-6.940949</td>\n",
              "      <td>-29.295616</td>\n",
              "    </tr>\n",
              "    <tr>\n",
              "      <th>995</th>\n",
              "      <td>-0.499636</td>\n",
              "      <td>1.044425</td>\n",
              "      <td>20.548534</td>\n",
              "    </tr>\n",
              "    <tr>\n",
              "      <th>996</th>\n",
              "      <td>-1.870897</td>\n",
              "      <td>-1.441939</td>\n",
              "      <td>-27.460964</td>\n",
              "    </tr>\n",
              "    <tr>\n",
              "      <th>997</th>\n",
              "      <td>1.753264</td>\n",
              "      <td>5.903305</td>\n",
              "      <td>111.327344</td>\n",
              "    </tr>\n",
              "    <tr>\n",
              "      <th>998</th>\n",
              "      <td>-14.522701</td>\n",
              "      <td>0.580894</td>\n",
              "      <td>-98.349477</td>\n",
              "    </tr>\n",
              "    <tr>\n",
              "      <th>999</th>\n",
              "      <td>0.027646</td>\n",
              "      <td>5.322601</td>\n",
              "      <td>88.847761</td>\n",
              "    </tr>\n",
              "  </tbody>\n",
              "</table>\n",
              "</div>"
            ],
            "text/plain": [
              "            x1        x2           r\n",
              "985   4.401132 -9.428903  -97.227248\n",
              "986   4.627598  2.856208   88.840934\n",
              "987 -11.080259 -0.832465  -92.258490\n",
              "988  -3.596485  5.024977   55.548472\n",
              "989  -1.543871 -0.810643  -15.611499\n",
              "990  -5.115337 -7.770761 -148.329964\n",
              "991   2.781809 -1.649717    6.475178\n",
              "992   2.178232 -7.542222  -86.758389\n",
              "993  -2.054930  2.515333   30.331409\n",
              "994   8.223743 -6.940949  -29.295616\n",
              "995  -0.499636  1.044425   20.548534\n",
              "996  -1.870897 -1.441939  -27.460964\n",
              "997   1.753264  5.903305  111.327344\n",
              "998 -14.522701  0.580894  -98.349477\n",
              "999   0.027646  5.322601   88.847761"
            ]
          },
          "metadata": {},
          "execution_count": 51
        }
      ]
    },
    {
      "cell_type": "markdown",
      "metadata": {
        "id": "1h_Kfi0Gyqjm"
      },
      "source": [
        "b."
      ]
    },
    {
      "cell_type": "code",
      "metadata": {
        "colab": {
          "base_uri": "https://localhost:8080/"
        },
        "id": "oPkhdI7Hb0zg",
        "outputId": "d89cd048-d673-40c2-9dbb-25a65a6f1d11"
      },
      "source": [
        "D.info()"
      ],
      "execution_count": null,
      "outputs": [
        {
          "output_type": "stream",
          "name": "stdout",
          "text": [
            "<class 'pandas.core.frame.DataFrame'>\n",
            "RangeIndex: 1000 entries, 0 to 999\n",
            "Data columns (total 3 columns):\n",
            " #   Column  Non-Null Count  Dtype  \n",
            "---  ------  --------------  -----  \n",
            " 0   x1      1000 non-null   float64\n",
            " 1   x2      1000 non-null   float64\n",
            " 2   r       1000 non-null   float64\n",
            "dtypes: float64(3)\n",
            "memory usage: 23.6 KB\n"
          ]
        }
      ]
    },
    {
      "cell_type": "code",
      "metadata": {
        "colab": {
          "base_uri": "https://localhost:8080/",
          "height": 234
        },
        "id": "kBD7Yy3Hb_bo",
        "outputId": "30df2e27-8c2e-4040-c3f5-653eb008dec8"
      },
      "source": [
        "D.agg({\n",
        "    \"x1\": [\"min\",\"max\", \"median\",\"skew\",\"mean\", \"count\"],\n",
        "    \"x2\": [\"min\",\"max\", \"median\",\"skew\",\"mean\", \"count\"],\n",
        "    \"r\": [\"min\",\"max\", \"median\",\"skew\",\"mean\", \"count\"]\n",
        "})"
      ],
      "execution_count": null,
      "outputs": [
        {
          "output_type": "execute_result",
          "data": {
            "text/html": [
              "<div>\n",
              "<style scoped>\n",
              "    .dataframe tbody tr th:only-of-type {\n",
              "        vertical-align: middle;\n",
              "    }\n",
              "\n",
              "    .dataframe tbody tr th {\n",
              "        vertical-align: top;\n",
              "    }\n",
              "\n",
              "    .dataframe thead th {\n",
              "        text-align: right;\n",
              "    }\n",
              "</style>\n",
              "<table border=\"1\" class=\"dataframe\">\n",
              "  <thead>\n",
              "    <tr style=\"text-align: right;\">\n",
              "      <th></th>\n",
              "      <th>x1</th>\n",
              "      <th>x2</th>\n",
              "      <th>r</th>\n",
              "    </tr>\n",
              "  </thead>\n",
              "  <tbody>\n",
              "    <tr>\n",
              "      <th>min</th>\n",
              "      <td>-16.737896</td>\n",
              "      <td>-16.351828</td>\n",
              "      <td>-285.748033</td>\n",
              "    </tr>\n",
              "    <tr>\n",
              "      <th>max</th>\n",
              "      <td>16.808828</td>\n",
              "      <td>17.163857</td>\n",
              "      <td>282.978886</td>\n",
              "    </tr>\n",
              "    <tr>\n",
              "      <th>median</th>\n",
              "      <td>-0.116719</td>\n",
              "      <td>-0.023124</td>\n",
              "      <td>7.723970</td>\n",
              "    </tr>\n",
              "    <tr>\n",
              "      <th>skew</th>\n",
              "      <td>-0.139704</td>\n",
              "      <td>0.062084</td>\n",
              "      <td>-0.030964</td>\n",
              "    </tr>\n",
              "    <tr>\n",
              "      <th>mean</th>\n",
              "      <td>-0.193566</td>\n",
              "      <td>-0.059355</td>\n",
              "      <td>6.558508</td>\n",
              "    </tr>\n",
              "    <tr>\n",
              "      <th>count</th>\n",
              "      <td>1000.000000</td>\n",
              "      <td>1000.000000</td>\n",
              "      <td>1000.000000</td>\n",
              "    </tr>\n",
              "  </tbody>\n",
              "</table>\n",
              "</div>"
            ],
            "text/plain": [
              "                 x1           x2            r\n",
              "min      -16.737896   -16.351828  -285.748033\n",
              "max       16.808828    17.163857   282.978886\n",
              "median    -0.116719    -0.023124     7.723970\n",
              "skew      -0.139704     0.062084    -0.030964\n",
              "mean      -0.193566    -0.059355     6.558508\n",
              "count   1000.000000  1000.000000  1000.000000"
            ]
          },
          "metadata": {},
          "execution_count": 55
        }
      ]
    },
    {
      "cell_type": "markdown",
      "metadata": {
        "id": "KzDSIe67ytWN"
      },
      "source": [
        "c."
      ]
    },
    {
      "cell_type": "code",
      "metadata": {
        "colab": {
          "base_uri": "https://localhost:8080/",
          "height": 295
        },
        "id": "gSW4nIhBcLzS",
        "outputId": "9695109d-1a22-4d19-8f4a-2da90c4d00d9"
      },
      "source": [
        "D.describe()"
      ],
      "execution_count": null,
      "outputs": [
        {
          "output_type": "execute_result",
          "data": {
            "text/html": [
              "<div>\n",
              "<style scoped>\n",
              "    .dataframe tbody tr th:only-of-type {\n",
              "        vertical-align: middle;\n",
              "    }\n",
              "\n",
              "    .dataframe tbody tr th {\n",
              "        vertical-align: top;\n",
              "    }\n",
              "\n",
              "    .dataframe thead th {\n",
              "        text-align: right;\n",
              "    }\n",
              "</style>\n",
              "<table border=\"1\" class=\"dataframe\">\n",
              "  <thead>\n",
              "    <tr style=\"text-align: right;\">\n",
              "      <th></th>\n",
              "      <th>x1</th>\n",
              "      <th>x2</th>\n",
              "      <th>r</th>\n",
              "    </tr>\n",
              "  </thead>\n",
              "  <tbody>\n",
              "    <tr>\n",
              "      <th>count</th>\n",
              "      <td>1000.000000</td>\n",
              "      <td>1000.000000</td>\n",
              "      <td>1000.000000</td>\n",
              "    </tr>\n",
              "    <tr>\n",
              "      <th>mean</th>\n",
              "      <td>-0.193566</td>\n",
              "      <td>-0.059355</td>\n",
              "      <td>6.558508</td>\n",
              "    </tr>\n",
              "    <tr>\n",
              "      <th>std</th>\n",
              "      <td>5.195361</td>\n",
              "      <td>5.084306</td>\n",
              "      <td>86.486040</td>\n",
              "    </tr>\n",
              "    <tr>\n",
              "      <th>min</th>\n",
              "      <td>-16.737896</td>\n",
              "      <td>-16.351828</td>\n",
              "      <td>-285.748033</td>\n",
              "    </tr>\n",
              "    <tr>\n",
              "      <th>25%</th>\n",
              "      <td>-3.630911</td>\n",
              "      <td>-3.612519</td>\n",
              "      <td>-54.122637</td>\n",
              "    </tr>\n",
              "    <tr>\n",
              "      <th>50%</th>\n",
              "      <td>-0.116719</td>\n",
              "      <td>-0.023124</td>\n",
              "      <td>7.723970</td>\n",
              "    </tr>\n",
              "    <tr>\n",
              "      <th>75%</th>\n",
              "      <td>3.318518</td>\n",
              "      <td>3.163659</td>\n",
              "      <td>65.086899</td>\n",
              "    </tr>\n",
              "    <tr>\n",
              "      <th>max</th>\n",
              "      <td>16.808828</td>\n",
              "      <td>17.163857</td>\n",
              "      <td>282.978886</td>\n",
              "    </tr>\n",
              "  </tbody>\n",
              "</table>\n",
              "</div>"
            ],
            "text/plain": [
              "                x1           x2            r\n",
              "count  1000.000000  1000.000000  1000.000000\n",
              "mean     -0.193566    -0.059355     6.558508\n",
              "std       5.195361     5.084306    86.486040\n",
              "min     -16.737896   -16.351828  -285.748033\n",
              "25%      -3.630911    -3.612519   -54.122637\n",
              "50%      -0.116719    -0.023124     7.723970\n",
              "75%       3.318518     3.163659    65.086899\n",
              "max      16.808828    17.163857   282.978886"
            ]
          },
          "metadata": {},
          "execution_count": 58
        }
      ]
    },
    {
      "cell_type": "markdown",
      "metadata": {
        "id": "7ahzQfM5yvK5"
      },
      "source": [
        "d."
      ]
    },
    {
      "cell_type": "code",
      "metadata": {
        "colab": {
          "base_uri": "https://localhost:8080/",
          "height": 417
        },
        "id": "lQnRYeeLdZii",
        "outputId": "7bbf2dc8-b960-41a3-8736-f96cd207fb8d"
      },
      "source": [
        "D1 = D.iloc[:int(D.shape[0])-int(D.shape[0]/4),:int(D.shape[1]/2)]\n",
        "D1"
      ],
      "execution_count": null,
      "outputs": [
        {
          "output_type": "execute_result",
          "data": {
            "text/html": [
              "<div>\n",
              "<style scoped>\n",
              "    .dataframe tbody tr th:only-of-type {\n",
              "        vertical-align: middle;\n",
              "    }\n",
              "\n",
              "    .dataframe tbody tr th {\n",
              "        vertical-align: top;\n",
              "    }\n",
              "\n",
              "    .dataframe thead th {\n",
              "        text-align: right;\n",
              "    }\n",
              "</style>\n",
              "<table border=\"1\" class=\"dataframe\">\n",
              "  <thead>\n",
              "    <tr style=\"text-align: right;\">\n",
              "      <th></th>\n",
              "      <th>x1</th>\n",
              "    </tr>\n",
              "  </thead>\n",
              "  <tbody>\n",
              "    <tr>\n",
              "      <th>0</th>\n",
              "      <td>0.886207</td>\n",
              "    </tr>\n",
              "    <tr>\n",
              "      <th>1</th>\n",
              "      <td>-2.596650</td>\n",
              "    </tr>\n",
              "    <tr>\n",
              "      <th>2</th>\n",
              "      <td>-2.801903</td>\n",
              "    </tr>\n",
              "    <tr>\n",
              "      <th>3</th>\n",
              "      <td>-3.323604</td>\n",
              "    </tr>\n",
              "    <tr>\n",
              "      <th>4</th>\n",
              "      <td>-2.340281</td>\n",
              "    </tr>\n",
              "    <tr>\n",
              "      <th>...</th>\n",
              "      <td>...</td>\n",
              "    </tr>\n",
              "    <tr>\n",
              "      <th>745</th>\n",
              "      <td>1.042036</td>\n",
              "    </tr>\n",
              "    <tr>\n",
              "      <th>746</th>\n",
              "      <td>1.350388</td>\n",
              "    </tr>\n",
              "    <tr>\n",
              "      <th>747</th>\n",
              "      <td>3.433457</td>\n",
              "    </tr>\n",
              "    <tr>\n",
              "      <th>748</th>\n",
              "      <td>-1.034521</td>\n",
              "    </tr>\n",
              "    <tr>\n",
              "      <th>749</th>\n",
              "      <td>7.026882</td>\n",
              "    </tr>\n",
              "  </tbody>\n",
              "</table>\n",
              "<p>750 rows × 1 columns</p>\n",
              "</div>"
            ],
            "text/plain": [
              "           x1\n",
              "0    0.886207\n",
              "1   -2.596650\n",
              "2   -2.801903\n",
              "3   -3.323604\n",
              "4   -2.340281\n",
              "..        ...\n",
              "745  1.042036\n",
              "746  1.350388\n",
              "747  3.433457\n",
              "748 -1.034521\n",
              "749  7.026882\n",
              "\n",
              "[750 rows x 1 columns]"
            ]
          },
          "metadata": {},
          "execution_count": 63
        }
      ]
    },
    {
      "cell_type": "markdown",
      "metadata": {
        "id": "JhgvZKQ1ywsd"
      },
      "source": [
        "e."
      ]
    },
    {
      "cell_type": "code",
      "metadata": {
        "colab": {
          "base_uri": "https://localhost:8080/",
          "height": 417
        },
        "id": "Fp3YFB5oe2lZ",
        "outputId": "51ef56c0-af0e-47c3-e376-15fd1cc237bd"
      },
      "source": [
        "D2 = D1\n",
        "for i in range(0, D1.shape[0]):\n",
        "    for j in range(0, D1.shape[1]):\n",
        "        if(i>j):\n",
        "            D2.iat[i, j] = 0;\n",
        "        else:\n",
        "            D2.iat[i, j] = D1.iat[i, j];\n",
        "\n",
        "D2"
      ],
      "execution_count": null,
      "outputs": [
        {
          "output_type": "execute_result",
          "data": {
            "text/html": [
              "<div>\n",
              "<style scoped>\n",
              "    .dataframe tbody tr th:only-of-type {\n",
              "        vertical-align: middle;\n",
              "    }\n",
              "\n",
              "    .dataframe tbody tr th {\n",
              "        vertical-align: top;\n",
              "    }\n",
              "\n",
              "    .dataframe thead th {\n",
              "        text-align: right;\n",
              "    }\n",
              "</style>\n",
              "<table border=\"1\" class=\"dataframe\">\n",
              "  <thead>\n",
              "    <tr style=\"text-align: right;\">\n",
              "      <th></th>\n",
              "      <th>x1</th>\n",
              "    </tr>\n",
              "  </thead>\n",
              "  <tbody>\n",
              "    <tr>\n",
              "      <th>0</th>\n",
              "      <td>0.886207</td>\n",
              "    </tr>\n",
              "    <tr>\n",
              "      <th>1</th>\n",
              "      <td>0.000000</td>\n",
              "    </tr>\n",
              "    <tr>\n",
              "      <th>2</th>\n",
              "      <td>0.000000</td>\n",
              "    </tr>\n",
              "    <tr>\n",
              "      <th>3</th>\n",
              "      <td>0.000000</td>\n",
              "    </tr>\n",
              "    <tr>\n",
              "      <th>4</th>\n",
              "      <td>0.000000</td>\n",
              "    </tr>\n",
              "    <tr>\n",
              "      <th>...</th>\n",
              "      <td>...</td>\n",
              "    </tr>\n",
              "    <tr>\n",
              "      <th>745</th>\n",
              "      <td>0.000000</td>\n",
              "    </tr>\n",
              "    <tr>\n",
              "      <th>746</th>\n",
              "      <td>0.000000</td>\n",
              "    </tr>\n",
              "    <tr>\n",
              "      <th>747</th>\n",
              "      <td>0.000000</td>\n",
              "    </tr>\n",
              "    <tr>\n",
              "      <th>748</th>\n",
              "      <td>0.000000</td>\n",
              "    </tr>\n",
              "    <tr>\n",
              "      <th>749</th>\n",
              "      <td>0.000000</td>\n",
              "    </tr>\n",
              "  </tbody>\n",
              "</table>\n",
              "<p>750 rows × 1 columns</p>\n",
              "</div>"
            ],
            "text/plain": [
              "           x1\n",
              "0    0.886207\n",
              "1    0.000000\n",
              "2    0.000000\n",
              "3    0.000000\n",
              "4    0.000000\n",
              "..        ...\n",
              "745  0.000000\n",
              "746  0.000000\n",
              "747  0.000000\n",
              "748  0.000000\n",
              "749  0.000000\n",
              "\n",
              "[750 rows x 1 columns]"
            ]
          },
          "metadata": {},
          "execution_count": 65
        }
      ]
    },
    {
      "cell_type": "markdown",
      "metadata": {
        "id": "UU0-GY4ayynU"
      },
      "source": [
        "f."
      ]
    },
    {
      "cell_type": "code",
      "metadata": {
        "colab": {
          "base_uri": "https://localhost:8080/",
          "height": 295
        },
        "id": "QREEnH81gTcJ",
        "outputId": "a20609df-61ab-4b46-b776-303e61501417"
      },
      "source": [
        "plt.bar(D['r'],D['x1'])\n",
        "plt.bar(D['r'],D['x2'])\n",
        "plt.xlabel('r')\n",
        "plt.ylabel(\"x1 and x2\")\n",
        "plt.title('Categories Bar Plot')\n",
        "plt.show()"
      ],
      "execution_count": null,
      "outputs": [
        {
          "output_type": "display_data",
          "data": {
            "image/png": "[encoded data removed]",
            "text/plain": [
              "<Figure size 432x288 with 1 Axes>"
            ]
          },
          "metadata": {
            "needs_background": "light"
          }
        }
      ]
    },
    {
      "cell_type": "markdown",
      "metadata": {
        "id": "4DIjFPvXy0x2"
      },
      "source": [
        "g."
      ]
    },
    {
      "cell_type": "code",
      "metadata": {
        "colab": {
          "base_uri": "https://localhost:8080/",
          "height": 417
        },
        "id": "DeSy0WiCiUGe",
        "outputId": "67e90b18-7900-4698-d9c3-eac11f1cbd75"
      },
      "source": [
        "test_size = int(1000*(1/5))\n",
        "test_df = D.iloc[-test_size:]\n",
        "test_df"
      ],
      "execution_count": null,
      "outputs": [
        {
          "output_type": "execute_result",
          "data": {
            "text/html": [
              "<div>\n",
              "<style scoped>\n",
              "    .dataframe tbody tr th:only-of-type {\n",
              "        vertical-align: middle;\n",
              "    }\n",
              "\n",
              "    .dataframe tbody tr th {\n",
              "        vertical-align: top;\n",
              "    }\n",
              "\n",
              "    .dataframe thead th {\n",
              "        text-align: right;\n",
              "    }\n",
              "</style>\n",
              "<table border=\"1\" class=\"dataframe\">\n",
              "  <thead>\n",
              "    <tr style=\"text-align: right;\">\n",
              "      <th></th>\n",
              "      <th>x1</th>\n",
              "      <th>x2</th>\n",
              "      <th>r</th>\n",
              "    </tr>\n",
              "  </thead>\n",
              "  <tbody>\n",
              "    <tr>\n",
              "      <th>800</th>\n",
              "      <td>1.709875</td>\n",
              "      <td>2.582602</td>\n",
              "      <td>61.432580</td>\n",
              "    </tr>\n",
              "    <tr>\n",
              "      <th>801</th>\n",
              "      <td>1.874679</td>\n",
              "      <td>1.900640</td>\n",
              "      <td>52.347495</td>\n",
              "    </tr>\n",
              "    <tr>\n",
              "      <th>802</th>\n",
              "      <td>3.265437</td>\n",
              "      <td>4.731167</td>\n",
              "      <td>105.993550</td>\n",
              "    </tr>\n",
              "    <tr>\n",
              "      <th>803</th>\n",
              "      <td>-0.217827</td>\n",
              "      <td>2.677000</td>\n",
              "      <td>47.345443</td>\n",
              "    </tr>\n",
              "    <tr>\n",
              "      <th>804</th>\n",
              "      <td>-11.994625</td>\n",
              "      <td>-9.078921</td>\n",
              "      <td>-223.245487</td>\n",
              "    </tr>\n",
              "    <tr>\n",
              "      <th>...</th>\n",
              "      <td>...</td>\n",
              "      <td>...</td>\n",
              "      <td>...</td>\n",
              "    </tr>\n",
              "    <tr>\n",
              "      <th>995</th>\n",
              "      <td>-0.499636</td>\n",
              "      <td>1.044425</td>\n",
              "      <td>20.548534</td>\n",
              "    </tr>\n",
              "    <tr>\n",
              "      <th>996</th>\n",
              "      <td>-1.870897</td>\n",
              "      <td>-1.441939</td>\n",
              "      <td>-27.460964</td>\n",
              "    </tr>\n",
              "    <tr>\n",
              "      <th>997</th>\n",
              "      <td>1.753264</td>\n",
              "      <td>5.903305</td>\n",
              "      <td>111.327344</td>\n",
              "    </tr>\n",
              "    <tr>\n",
              "      <th>998</th>\n",
              "      <td>-14.522701</td>\n",
              "      <td>0.580894</td>\n",
              "      <td>-98.349477</td>\n",
              "    </tr>\n",
              "    <tr>\n",
              "      <th>999</th>\n",
              "      <td>0.027646</td>\n",
              "      <td>5.322601</td>\n",
              "      <td>88.847761</td>\n",
              "    </tr>\n",
              "  </tbody>\n",
              "</table>\n",
              "<p>200 rows × 3 columns</p>\n",
              "</div>"
            ],
            "text/plain": [
              "            x1        x2           r\n",
              "800   1.709875  2.582602   61.432580\n",
              "801   1.874679  1.900640   52.347495\n",
              "802   3.265437  4.731167  105.993550\n",
              "803  -0.217827  2.677000   47.345443\n",
              "804 -11.994625 -9.078921 -223.245487\n",
              "..         ...       ...         ...\n",
              "995  -0.499636  1.044425   20.548534\n",
              "996  -1.870897 -1.441939  -27.460964\n",
              "997   1.753264  5.903305  111.327344\n",
              "998 -14.522701  0.580894  -98.349477\n",
              "999   0.027646  5.322601   88.847761\n",
              "\n",
              "[200 rows x 3 columns]"
            ]
          },
          "metadata": {},
          "execution_count": 74
        }
      ]
    },
    {
      "cell_type": "code",
      "metadata": {
        "colab": {
          "base_uri": "https://localhost:8080/",
          "height": 417
        },
        "id": "m6yOG2nYj45e",
        "outputId": "cc7c5916-fad3-4780-e3f6-567a5a486376"
      },
      "source": [
        "train_size = int(1000*(4/5))\n",
        "train_df = D.iloc[:train_size]\n",
        "train_df"
      ],
      "execution_count": null,
      "outputs": [
        {
          "output_type": "execute_result",
          "data": {
            "text/html": [
              "<div>\n",
              "<style scoped>\n",
              "    .dataframe tbody tr th:only-of-type {\n",
              "        vertical-align: middle;\n",
              "    }\n",
              "\n",
              "    .dataframe tbody tr th {\n",
              "        vertical-align: top;\n",
              "    }\n",
              "\n",
              "    .dataframe thead th {\n",
              "        text-align: right;\n",
              "    }\n",
              "</style>\n",
              "<table border=\"1\" class=\"dataframe\">\n",
              "  <thead>\n",
              "    <tr style=\"text-align: right;\">\n",
              "      <th></th>\n",
              "      <th>x1</th>\n",
              "      <th>x2</th>\n",
              "      <th>r</th>\n",
              "    </tr>\n",
              "  </thead>\n",
              "  <tbody>\n",
              "    <tr>\n",
              "      <th>0</th>\n",
              "      <td>0.886207</td>\n",
              "      <td>0.597989</td>\n",
              "      <td>25.129882</td>\n",
              "    </tr>\n",
              "    <tr>\n",
              "      <th>1</th>\n",
              "      <td>0.000000</td>\n",
              "      <td>1.490552</td>\n",
              "      <td>10.640770</td>\n",
              "    </tr>\n",
              "    <tr>\n",
              "      <th>2</th>\n",
              "      <td>0.000000</td>\n",
              "      <td>-12.154795</td>\n",
              "      <td>-195.949533</td>\n",
              "    </tr>\n",
              "    <tr>\n",
              "      <th>3</th>\n",
              "      <td>0.000000</td>\n",
              "      <td>2.548575</td>\n",
              "      <td>20.654680</td>\n",
              "    </tr>\n",
              "    <tr>\n",
              "      <th>4</th>\n",
              "      <td>0.000000</td>\n",
              "      <td>-2.520874</td>\n",
              "      <td>-47.403848</td>\n",
              "    </tr>\n",
              "    <tr>\n",
              "      <th>...</th>\n",
              "      <td>...</td>\n",
              "      <td>...</td>\n",
              "      <td>...</td>\n",
              "    </tr>\n",
              "    <tr>\n",
              "      <th>795</th>\n",
              "      <td>-0.518946</td>\n",
              "      <td>3.626591</td>\n",
              "      <td>59.179711</td>\n",
              "    </tr>\n",
              "    <tr>\n",
              "      <th>796</th>\n",
              "      <td>4.047868</td>\n",
              "      <td>4.964055</td>\n",
              "      <td>115.893482</td>\n",
              "    </tr>\n",
              "    <tr>\n",
              "      <th>797</th>\n",
              "      <td>-0.736922</td>\n",
              "      <td>-7.905896</td>\n",
              "      <td>-115.477924</td>\n",
              "    </tr>\n",
              "    <tr>\n",
              "      <th>798</th>\n",
              "      <td>9.033125</td>\n",
              "      <td>1.593845</td>\n",
              "      <td>105.227314</td>\n",
              "    </tr>\n",
              "    <tr>\n",
              "      <th>799</th>\n",
              "      <td>-3.119114</td>\n",
              "      <td>1.123762</td>\n",
              "      <td>0.960180</td>\n",
              "    </tr>\n",
              "  </tbody>\n",
              "</table>\n",
              "<p>800 rows × 3 columns</p>\n",
              "</div>"
            ],
            "text/plain": [
              "           x1         x2           r\n",
              "0    0.886207   0.597989   25.129882\n",
              "1    0.000000   1.490552   10.640770\n",
              "2    0.000000 -12.154795 -195.949533\n",
              "3    0.000000   2.548575   20.654680\n",
              "4    0.000000  -2.520874  -47.403848\n",
              "..        ...        ...         ...\n",
              "795 -0.518946   3.626591   59.179711\n",
              "796  4.047868   4.964055  115.893482\n",
              "797 -0.736922  -7.905896 -115.477924\n",
              "798  9.033125   1.593845  105.227314\n",
              "799 -3.119114   1.123762    0.960180\n",
              "\n",
              "[800 rows x 3 columns]"
            ]
          },
          "metadata": {},
          "execution_count": 75
        }
      ]
    },
    {
      "cell_type": "markdown",
      "metadata": {
        "id": "B_ysvTwHkQXU"
      },
      "source": [
        "# 2"
      ]
    },
    {
      "cell_type": "code",
      "metadata": {
        "id": "aJ-x761OkECt"
      },
      "source": [
        "class LR_Norm_Eqn:\n",
        "  def __init__(self,m):\n",
        "    # number of attributes 'm' is passed as an argument\n",
        "    self.weights = np.zeros([m,1])\n",
        "  def predict(self, D, R): # retruns predicted 'r'\n",
        "    temp = np.dot(D, self.weights)\n",
        "    return temp\n",
        "  def measure(self, predicted, actual): # returns mean squared error\n",
        "    temp = predicted- actual\n",
        "    m = len(predicted) # number of records\n",
        "    return (np.sum(np.power(temp, 2))) / (m)\n",
        "  def fit(self,D,R):\n",
        "    D_transpose = np.transpose(D)\n",
        "    D_trans_dot_D_Inv = np.linalg.inv(D_transpose.dot(D))\n",
        "    5\n",
        "    D_trans_R = D_transpose.dot(R)\n",
        "    self.weights = D_trans_dot_D_Inv.dot(D_trans_R)\n",
        "    return self.weights"
      ],
      "execution_count": null,
      "outputs": []
    },
    {
      "cell_type": "markdown",
      "metadata": {
        "id": "xCOy-txMy5YZ"
      },
      "source": [
        "a."
      ]
    },
    {
      "cell_type": "code",
      "metadata": {
        "colab": {
          "base_uri": "https://localhost:8080/",
          "height": 203
        },
        "id": "QQ6RSvcqlCVF",
        "outputId": "0d9a0851-7c47-4ebb-ea09-48d2e11bcc66"
      },
      "source": [
        "D2 = D.copy()\n",
        "D2.insert(2,\"x1^2\",D2['x1']**2)\n",
        "D2.insert(3,\"x2^2\",D2['x2']**2)\n",
        "D2.insert(4,\"x1*x2\",D2['x1']*D2['x2'])\n",
        "D2.head()"
      ],
      "execution_count": null,
      "outputs": [
        {
          "output_type": "execute_result",
          "data": {
            "text/html": [
              "<div>\n",
              "<style scoped>\n",
              "    .dataframe tbody tr th:only-of-type {\n",
              "        vertical-align: middle;\n",
              "    }\n",
              "\n",
              "    .dataframe tbody tr th {\n",
              "        vertical-align: top;\n",
              "    }\n",
              "\n",
              "    .dataframe thead th {\n",
              "        text-align: right;\n",
              "    }\n",
              "</style>\n",
              "<table border=\"1\" class=\"dataframe\">\n",
              "  <thead>\n",
              "    <tr style=\"text-align: right;\">\n",
              "      <th></th>\n",
              "      <th>x1</th>\n",
              "      <th>x2</th>\n",
              "      <th>x1^2</th>\n",
              "      <th>x2^2</th>\n",
              "      <th>x1*x2</th>\n",
              "      <th>r</th>\n",
              "    </tr>\n",
              "  </thead>\n",
              "  <tbody>\n",
              "    <tr>\n",
              "      <th>0</th>\n",
              "      <td>0.886207</td>\n",
              "      <td>0.597989</td>\n",
              "      <td>0.785363</td>\n",
              "      <td>0.357591</td>\n",
              "      <td>0.529942</td>\n",
              "      <td>25.129882</td>\n",
              "    </tr>\n",
              "    <tr>\n",
              "      <th>1</th>\n",
              "      <td>0.000000</td>\n",
              "      <td>1.490552</td>\n",
              "      <td>0.000000</td>\n",
              "      <td>2.221746</td>\n",
              "      <td>0.000000</td>\n",
              "      <td>10.640770</td>\n",
              "    </tr>\n",
              "    <tr>\n",
              "      <th>2</th>\n",
              "      <td>0.000000</td>\n",
              "      <td>-12.154795</td>\n",
              "      <td>0.000000</td>\n",
              "      <td>147.739051</td>\n",
              "      <td>-0.000000</td>\n",
              "      <td>-195.949533</td>\n",
              "    </tr>\n",
              "    <tr>\n",
              "      <th>3</th>\n",
              "      <td>0.000000</td>\n",
              "      <td>2.548575</td>\n",
              "      <td>0.000000</td>\n",
              "      <td>6.495236</td>\n",
              "      <td>0.000000</td>\n",
              "      <td>20.654680</td>\n",
              "    </tr>\n",
              "    <tr>\n",
              "      <th>4</th>\n",
              "      <td>0.000000</td>\n",
              "      <td>-2.520874</td>\n",
              "      <td>0.000000</td>\n",
              "      <td>6.354807</td>\n",
              "      <td>-0.000000</td>\n",
              "      <td>-47.403848</td>\n",
              "    </tr>\n",
              "  </tbody>\n",
              "</table>\n",
              "</div>"
            ],
            "text/plain": [
              "         x1         x2      x1^2        x2^2     x1*x2           r\n",
              "0  0.886207   0.597989  0.785363    0.357591  0.529942   25.129882\n",
              "1  0.000000   1.490552  0.000000    2.221746  0.000000   10.640770\n",
              "2  0.000000 -12.154795  0.000000  147.739051 -0.000000 -195.949533\n",
              "3  0.000000   2.548575  0.000000    6.495236  0.000000   20.654680\n",
              "4  0.000000  -2.520874  0.000000    6.354807 -0.000000  -47.403848"
            ]
          },
          "metadata": {},
          "execution_count": 174
        }
      ]
    },
    {
      "cell_type": "code",
      "metadata": {
        "id": "tJJe4Tq4lNIS"
      },
      "source": [
        "test_size = 200\n",
        "test2 = D2.iloc[-test_size:]\n",
        "train2 = D2.iloc[:-test_size]\n",
        "train_data2 = np.asarray(train2)\n",
        "test_data2 = np.asarray(test2)\n",
        "X2 = train_data2[:,:-1] \n",
        "r2 = train_data2[:,-1:] \n",
        "test_X2 = test_data2[:,:-1]\n",
        "test_r2 = test_data2[:,-1:]\n",
        "ones2 = np.ones((len(X2),1))\n",
        "Dmat2 = np.hstack((ones2,X2))\n",
        "ones2 = np.ones((len(test_X2),1))\n",
        "test_Dmat2 = np.hstack((ones2,test_X2))"
      ],
      "execution_count": null,
      "outputs": []
    },
    {
      "cell_type": "code",
      "metadata": {
        "colab": {
          "base_uri": "https://localhost:8080/"
        },
        "id": "MPVP5TpNnBL4",
        "outputId": "fdb58547-110c-4fcd-b882-c78b9a5efb4b"
      },
      "source": [
        "length2 = Dmat2.shape[1]\n",
        "lin = LR_Norm_Eqn(length2)\n",
        "print('Weights are ',lin.fit(Dmat2,r2))"
      ],
      "execution_count": null,
      "outputs": [
        {
          "output_type": "stream",
          "name": "stdout",
          "text": [
            "Weights are  [[ 7.44047584e+00]\n",
            " [ 7.99119499e+00]\n",
            " [ 1.50000897e+01]\n",
            " [ 3.00028555e-02]\n",
            " [-1.00705264e-02]\n",
            " [-3.64260577e-03]]\n"
          ]
        }
      ]
    },
    {
      "cell_type": "code",
      "metadata": {
        "colab": {
          "base_uri": "https://localhost:8080/"
        },
        "id": "aSEBFL9UnJu1",
        "outputId": "5f98593e-aa4c-4406-b988-072c193e46a4"
      },
      "source": [
        "predicted2 = lin.predict(Dmat2,r2)\n",
        "test_predicted2 = lin.predict(test_Dmat2,test_r2)\n",
        "print(\"Error with train data: \",lin.measure(predicted2,r2))\n",
        "print(\"Error with test data: \",lin.measure(test_predicted2,test_r2))"
      ],
      "execution_count": null,
      "outputs": [
        {
          "output_type": "stream",
          "name": "stdout",
          "text": [
            "Error with train data:  1572.8849716689072\n",
            "Error with test data:  2.4552236553599895\n"
          ]
        }
      ]
    },
    {
      "cell_type": "code",
      "metadata": {
        "colab": {
          "base_uri": "https://localhost:8080/"
        },
        "id": "1K1aWFRNnQOP",
        "outputId": "3241841c-c065-4c31-90cd-66b223684907"
      },
      "source": [
        "# Predict an unknown value \n",
        "predict_unknown2 = lin.predict(18, 18)\n",
        "predict_unknown2"
      ],
      "execution_count": null,
      "outputs": [
        {
          "output_type": "execute_result",
          "data": {
            "text/plain": [
              "array([[ 1.33928565e+02],\n",
              "       [ 1.43841510e+02],\n",
              "       [ 2.70001614e+02],\n",
              "       [ 5.40051400e-01],\n",
              "       [-1.81269475e-01],\n",
              "       [-6.55669038e-02]])"
            ]
          },
          "metadata": {},
          "execution_count": 178
        }
      ]
    },
    {
      "cell_type": "code",
      "metadata": {
        "colab": {
          "base_uri": "https://localhost:8080/"
        },
        "id": "C3SMjet1piI5",
        "outputId": "088fd0a4-9faa-4c9c-beec-8c169ec262c9"
      },
      "source": [
        "y0 = predict_unknown2[0]*18 + predict_unknown2[1]*18*18 + predict_unknown2[2]*18*18*18 + predict_unknown2[3]*18*18 + predict_unknown2[4]*18\n",
        "y0"
      ],
      "execution_count": null,
      "outputs": [
        {
          "output_type": "execute_result",
          "data": {
            "text/plain": [
              "array([1623836.49146394])"
            ]
          },
          "metadata": {},
          "execution_count": 179
        }
      ]
    },
    {
      "cell_type": "markdown",
      "metadata": {
        "id": "NcCWidpSoZTe"
      },
      "source": [
        "b."
      ]
    },
    {
      "cell_type": "code",
      "metadata": {
        "colab": {
          "base_uri": "https://localhost:8080/",
          "height": 223
        },
        "id": "Emr_t3ZWnVNm",
        "outputId": "88eaf4ca-4145-4be3-a69c-4222fe59b93f"
      },
      "source": [
        "D3 = D.copy()\n",
        "D3.insert(2,\"x1^3\",D3['x1']**3)\n",
        "D3.insert(3,\"x2^3\",D3['x2']**3)\n",
        "D3.insert(4,\"x1*x2\",D3['x1']*D3['x2'])\n",
        "D3.head()"
      ],
      "execution_count": null,
      "outputs": [
        {
          "output_type": "execute_result",
          "data": {
            "text/html": [
              "<div>\n",
              "<style scoped>\n",
              "    .dataframe tbody tr th:only-of-type {\n",
              "        vertical-align: middle;\n",
              "    }\n",
              "\n",
              "    .dataframe tbody tr th {\n",
              "        vertical-align: top;\n",
              "    }\n",
              "\n",
              "    .dataframe thead th {\n",
              "        text-align: right;\n",
              "    }\n",
              "</style>\n",
              "<table border=\"1\" class=\"dataframe\">\n",
              "  <thead>\n",
              "    <tr style=\"text-align: right;\">\n",
              "      <th></th>\n",
              "      <th>x1</th>\n",
              "      <th>x2</th>\n",
              "      <th>x1^3</th>\n",
              "      <th>x2^3</th>\n",
              "      <th>x1*x2</th>\n",
              "      <th>r</th>\n",
              "    </tr>\n",
              "  </thead>\n",
              "  <tbody>\n",
              "    <tr>\n",
              "      <th>0</th>\n",
              "      <td>0.886207</td>\n",
              "      <td>0.597989</td>\n",
              "      <td>0.695994</td>\n",
              "      <td>0.213835</td>\n",
              "      <td>0.529942</td>\n",
              "      <td>25.129882</td>\n",
              "    </tr>\n",
              "    <tr>\n",
              "      <th>1</th>\n",
              "      <td>0.000000</td>\n",
              "      <td>1.490552</td>\n",
              "      <td>0.000000</td>\n",
              "      <td>3.311629</td>\n",
              "      <td>0.000000</td>\n",
              "      <td>10.640770</td>\n",
              "    </tr>\n",
              "    <tr>\n",
              "      <th>2</th>\n",
              "      <td>0.000000</td>\n",
              "      <td>-12.154795</td>\n",
              "      <td>0.000000</td>\n",
              "      <td>-1795.737943</td>\n",
              "      <td>-0.000000</td>\n",
              "      <td>-195.949533</td>\n",
              "    </tr>\n",
              "    <tr>\n",
              "      <th>3</th>\n",
              "      <td>0.000000</td>\n",
              "      <td>2.548575</td>\n",
              "      <td>0.000000</td>\n",
              "      <td>16.553598</td>\n",
              "      <td>0.000000</td>\n",
              "      <td>20.654680</td>\n",
              "    </tr>\n",
              "    <tr>\n",
              "      <th>4</th>\n",
              "      <td>0.000000</td>\n",
              "      <td>-2.520874</td>\n",
              "      <td>0.000000</td>\n",
              "      <td>-16.019669</td>\n",
              "      <td>-0.000000</td>\n",
              "      <td>-47.403848</td>\n",
              "    </tr>\n",
              "  </tbody>\n",
              "</table>\n",
              "</div>"
            ],
            "text/plain": [
              "         x1         x2      x1^3         x2^3     x1*x2           r\n",
              "0  0.886207   0.597989  0.695994     0.213835  0.529942   25.129882\n",
              "1  0.000000   1.490552  0.000000     3.311629  0.000000   10.640770\n",
              "2  0.000000 -12.154795  0.000000 -1795.737943 -0.000000 -195.949533\n",
              "3  0.000000   2.548575  0.000000    16.553598  0.000000   20.654680\n",
              "4  0.000000  -2.520874  0.000000   -16.019669 -0.000000  -47.403848"
            ]
          },
          "metadata": {},
          "execution_count": 180
        }
      ]
    },
    {
      "cell_type": "code",
      "metadata": {
        "id": "6Uo_uWajo0qX"
      },
      "source": [
        "test_size = 200\n",
        "test3 = D3.iloc[-test_size:]\n",
        "train3 = D3.iloc[:-test_size]\n",
        "train_data3 = np.asarray(train3)\n",
        "test_data3 = np.asarray(test3)\n",
        "X3 = train_data3[:,:-1] \n",
        "r3 = train_data3[:,-1:] \n",
        "test_X3 = test_data3[:,:-1]\n",
        "test_r3 = test_data3[:,-1:]\n",
        "ones3 = np.ones((len(X3),1))\n",
        "Dmat3 = np.hstack((ones3,X3))\n",
        "ones3 = np.ones((len(test_X3),1))\n",
        "test_Dmat3 = np.hstack((ones3,test_X3))"
      ],
      "execution_count": null,
      "outputs": []
    },
    {
      "cell_type": "code",
      "metadata": {
        "colab": {
          "base_uri": "https://localhost:8080/"
        },
        "id": "7fJ8WRwEpIrw",
        "outputId": "cde09702-c90d-4f50-a990-b808e3fe9349"
      },
      "source": [
        "length3 = Dmat3.shape[1]\n",
        "lin = LR_Norm_Eqn(length3)\n",
        "print('Weights are ',lin.fit(Dmat3,r3))"
      ],
      "execution_count": null,
      "outputs": [
        {
          "output_type": "stream",
          "name": "stdout",
          "text": [
            "Weights are  [[ 7.16349216e+00]\n",
            " [ 7.98155968e+00]\n",
            " [ 1.45891937e+01]\n",
            " [ 1.35960550e-03]\n",
            " [ 5.48553709e-03]\n",
            " [-6.01001870e-03]]\n"
          ]
        }
      ]
    },
    {
      "cell_type": "code",
      "metadata": {
        "colab": {
          "base_uri": "https://localhost:8080/"
        },
        "id": "GwpQwBtFpVo0",
        "outputId": "9ad1e49c-dd94-432e-b46e-2924da4659f7"
      },
      "source": [
        "predicted3 = lin.predict(Dmat3,r3)\n",
        "test_predicted3= lin.predict(test_Dmat3,test_r3)\n",
        "print(\"Error with train data: \",lin.measure(predicted3,r3))\n",
        "print(\"Error with test data: \",lin.measure(test_predicted3,test_r3))"
      ],
      "execution_count": null,
      "outputs": [
        {
          "output_type": "stream",
          "name": "stdout",
          "text": [
            "Error with train data:  1571.0097851427915\n",
            "Error with test data:  9.649814928889226\n"
          ]
        }
      ]
    },
    {
      "cell_type": "code",
      "metadata": {
        "colab": {
          "base_uri": "https://localhost:8080/"
        },
        "id": "hRqAP_QcpWu3",
        "outputId": "efbcea4d-ef50-46fe-af17-c41ae3f8c456"
      },
      "source": [
        "# Predict an unknown value \n",
        "predict_unknown = lin.predict(18, 18)\n",
        "predict_unknown"
      ],
      "execution_count": null,
      "outputs": [
        {
          "output_type": "execute_result",
          "data": {
            "text/plain": [
              "array([[ 1.28942859e+02],\n",
              "       [ 1.43668074e+02],\n",
              "       [ 2.62605487e+02],\n",
              "       [ 2.44728990e-02],\n",
              "       [ 9.87396677e-02],\n",
              "       [-1.08180337e-01]])"
            ]
          },
          "metadata": {},
          "execution_count": 184
        }
      ]
    },
    {
      "cell_type": "code",
      "metadata": {
        "colab": {
          "base_uri": "https://localhost:8080/"
        },
        "id": "ylDKNvOKplRY",
        "outputId": "de64471e-418a-4ba5-a9e9-6a0ca8b2bc38"
      },
      "source": [
        "y0 = predict_unknown[0]*18 + predict_unknown[1]*18*18 + predict_unknown[2]*18*18*18 + predict_unknown[3]*18*18 + predict_unknown[4]*18\n",
        "y0"
      ],
      "execution_count": null,
      "outputs": [
        {
          "output_type": "execute_result",
          "data": {
            "text/plain": [
              "array([1580394.33488522])"
            ]
          },
          "metadata": {},
          "execution_count": 185
        }
      ]
    },
    {
      "cell_type": "markdown",
      "metadata": {
        "id": "R12qE-v4po3k"
      },
      "source": [
        "c."
      ]
    },
    {
      "cell_type": "code",
      "metadata": {
        "colab": {
          "base_uri": "https://localhost:8080/",
          "height": 203
        },
        "id": "k3zZrxcypnO4",
        "outputId": "4afd0724-f3de-4651-a54f-58ccc4dafc8f"
      },
      "source": [
        "D4 = D.copy()\n",
        "D4.insert(2,\"x1^2\",D4['x1']**2)\n",
        "D4.insert(3,\"x2^2\",D4['x2']**2)\n",
        "D4.insert(4,\"x1*x2\",D4['x1']*D4['x2'])\n",
        "D4.head()"
      ],
      "execution_count": null,
      "outputs": [
        {
          "output_type": "execute_result",
          "data": {
            "text/html": [
              "<div>\n",
              "<style scoped>\n",
              "    .dataframe tbody tr th:only-of-type {\n",
              "        vertical-align: middle;\n",
              "    }\n",
              "\n",
              "    .dataframe tbody tr th {\n",
              "        vertical-align: top;\n",
              "    }\n",
              "\n",
              "    .dataframe thead th {\n",
              "        text-align: right;\n",
              "    }\n",
              "</style>\n",
              "<table border=\"1\" class=\"dataframe\">\n",
              "  <thead>\n",
              "    <tr style=\"text-align: right;\">\n",
              "      <th></th>\n",
              "      <th>x1</th>\n",
              "      <th>x2</th>\n",
              "      <th>x1^2</th>\n",
              "      <th>x2^2</th>\n",
              "      <th>x1*x2</th>\n",
              "      <th>r</th>\n",
              "    </tr>\n",
              "  </thead>\n",
              "  <tbody>\n",
              "    <tr>\n",
              "      <th>0</th>\n",
              "      <td>0.886207</td>\n",
              "      <td>0.597989</td>\n",
              "      <td>0.785363</td>\n",
              "      <td>0.357591</td>\n",
              "      <td>0.529942</td>\n",
              "      <td>25.129882</td>\n",
              "    </tr>\n",
              "    <tr>\n",
              "      <th>1</th>\n",
              "      <td>0.000000</td>\n",
              "      <td>1.490552</td>\n",
              "      <td>0.000000</td>\n",
              "      <td>2.221746</td>\n",
              "      <td>0.000000</td>\n",
              "      <td>10.640770</td>\n",
              "    </tr>\n",
              "    <tr>\n",
              "      <th>2</th>\n",
              "      <td>0.000000</td>\n",
              "      <td>-12.154795</td>\n",
              "      <td>0.000000</td>\n",
              "      <td>147.739051</td>\n",
              "      <td>-0.000000</td>\n",
              "      <td>-195.949533</td>\n",
              "    </tr>\n",
              "    <tr>\n",
              "      <th>3</th>\n",
              "      <td>0.000000</td>\n",
              "      <td>2.548575</td>\n",
              "      <td>0.000000</td>\n",
              "      <td>6.495236</td>\n",
              "      <td>0.000000</td>\n",
              "      <td>20.654680</td>\n",
              "    </tr>\n",
              "    <tr>\n",
              "      <th>4</th>\n",
              "      <td>0.000000</td>\n",
              "      <td>-2.520874</td>\n",
              "      <td>0.000000</td>\n",
              "      <td>6.354807</td>\n",
              "      <td>-0.000000</td>\n",
              "      <td>-47.403848</td>\n",
              "    </tr>\n",
              "  </tbody>\n",
              "</table>\n",
              "</div>"
            ],
            "text/plain": [
              "         x1         x2      x1^2        x2^2     x1*x2           r\n",
              "0  0.886207   0.597989  0.785363    0.357591  0.529942   25.129882\n",
              "1  0.000000   1.490552  0.000000    2.221746  0.000000   10.640770\n",
              "2  0.000000 -12.154795  0.000000  147.739051 -0.000000 -195.949533\n",
              "3  0.000000   2.548575  0.000000    6.495236  0.000000   20.654680\n",
              "4  0.000000  -2.520874  0.000000    6.354807 -0.000000  -47.403848"
            ]
          },
          "metadata": {},
          "execution_count": 186
        }
      ]
    },
    {
      "cell_type": "code",
      "metadata": {
        "id": "t88UFoGDp08X"
      },
      "source": [
        "test_size = 800\n",
        "test4 = D4.iloc[test_size:]\n",
        "train4 = D4.iloc[:test_size]\n",
        "train_data4 = np.asarray(train4)\n",
        "test_data4 = np.asarray(test4)\n",
        "X4 = train_data4[:,:-1] \n",
        "r4 = train_data4[:,-1:] \n",
        "test_X4 = test_data4[:,:-1]\n",
        "test_r4 = test_data4[:,-1:]\n",
        "ones4 = np.ones((len(X4),1))\n",
        "Dmat4 = np.hstack((ones4,X4))\n",
        "ones4 = np.ones((len(test_X4),1))\n",
        "test_Dmat4 = np.hstack((ones4,test_X4))"
      ],
      "execution_count": null,
      "outputs": []
    },
    {
      "cell_type": "code",
      "metadata": {
        "colab": {
          "base_uri": "https://localhost:8080/"
        },
        "id": "-66d3RojqFqt",
        "outputId": "8bb0eaf0-d1a3-4f05-cd4d-efa8a99f8dc6"
      },
      "source": [
        "length4 = Dmat4.shape[1]\n",
        "lin = LR_Norm_Eqn(length4)\n",
        "print('Weights are ',lin.fit(Dmat4,r4))"
      ],
      "execution_count": null,
      "outputs": [
        {
          "output_type": "stream",
          "name": "stdout",
          "text": [
            "Weights are  [[ 7.44047584e+00]\n",
            " [ 7.99119499e+00]\n",
            " [ 1.50000897e+01]\n",
            " [ 3.00028555e-02]\n",
            " [-1.00705264e-02]\n",
            " [-3.64260577e-03]]\n"
          ]
        }
      ]
    },
    {
      "cell_type": "code",
      "metadata": {
        "colab": {
          "base_uri": "https://localhost:8080/"
        },
        "id": "X9fjs-jcqJCq",
        "outputId": "0b4fe83e-7eaf-4251-f7ac-d1a90a6cea8a"
      },
      "source": [
        "predicted4 = lin.predict(Dmat4,r4)\n",
        "test_predicted4 = lin.predict(test_Dmat4,test_r4)\n",
        "print(\"Error with train data: \",lin.measure(predicted4,r4))\n",
        "print(\"Error with test data: \",lin.measure(test_predicted4,test_r4))"
      ],
      "execution_count": null,
      "outputs": [
        {
          "output_type": "stream",
          "name": "stdout",
          "text": [
            "Error with train data:  1572.8849716689072\n",
            "Error with test data:  2.4552236553599895\n"
          ]
        }
      ]
    },
    {
      "cell_type": "code",
      "metadata": {
        "colab": {
          "base_uri": "https://localhost:8080/"
        },
        "id": "PA1Atx3rqMn5",
        "outputId": "c0de35b0-5529-438a-a4a7-ed505d8f3b1e"
      },
      "source": [
        "# Predict an unknown value \n",
        "predict_unknown = lin.predict(18, 18)\n",
        "predict_unknown"
      ],
      "execution_count": null,
      "outputs": [
        {
          "output_type": "execute_result",
          "data": {
            "text/plain": [
              "array([[ 1.33928565e+02],\n",
              "       [ 1.43841510e+02],\n",
              "       [ 2.70001614e+02],\n",
              "       [ 5.40051400e-01],\n",
              "       [-1.81269475e-01],\n",
              "       [-6.55669038e-02]])"
            ]
          },
          "metadata": {},
          "execution_count": 190
        }
      ]
    },
    {
      "cell_type": "code",
      "metadata": {
        "colab": {
          "base_uri": "https://localhost:8080/"
        },
        "id": "9mH-6JLjqkBd",
        "outputId": "422e2013-8dc5-4c6b-fb94-89a9f8fa469c"
      },
      "source": [
        "y0 = predict_unknown[0]*18 + predict_unknown[1]*18*18 + predict_unknown[2]*18*18*18 + predict_unknown[3]*18*18 + predict_unknown[4]*18\n",
        "y0"
      ],
      "execution_count": null,
      "outputs": [
        {
          "output_type": "execute_result",
          "data": {
            "text/plain": [
              "array([1623836.49146394])"
            ]
          },
          "metadata": {},
          "execution_count": 191
        }
      ]
    },
    {
      "cell_type": "markdown",
      "metadata": {
        "id": "0L08zJroq83U"
      },
      "source": [
        "d."
      ]
    },
    {
      "cell_type": "code",
      "metadata": {
        "colab": {
          "base_uri": "https://localhost:8080/",
          "height": 223
        },
        "id": "s6-XPWhdqla_",
        "outputId": "df9b3d8a-e4dc-4edd-8886-988bea93617f"
      },
      "source": [
        "D5 = D.copy()\n",
        "D5.insert(2,\"x1^3\",D5['x1']**3)\n",
        "D5.insert(3,\"x2^3\",D5['x2']**3)\n",
        "D5.insert(4,\"x1*x2\",D5['x1']*D5['x2'])\n",
        "D5.head()"
      ],
      "execution_count": null,
      "outputs": [
        {
          "output_type": "execute_result",
          "data": {
            "text/html": [
              "<div>\n",
              "<style scoped>\n",
              "    .dataframe tbody tr th:only-of-type {\n",
              "        vertical-align: middle;\n",
              "    }\n",
              "\n",
              "    .dataframe tbody tr th {\n",
              "        vertical-align: top;\n",
              "    }\n",
              "\n",
              "    .dataframe thead th {\n",
              "        text-align: right;\n",
              "    }\n",
              "</style>\n",
              "<table border=\"1\" class=\"dataframe\">\n",
              "  <thead>\n",
              "    <tr style=\"text-align: right;\">\n",
              "      <th></th>\n",
              "      <th>x1</th>\n",
              "      <th>x2</th>\n",
              "      <th>x1^3</th>\n",
              "      <th>x2^3</th>\n",
              "      <th>x1*x2</th>\n",
              "      <th>r</th>\n",
              "    </tr>\n",
              "  </thead>\n",
              "  <tbody>\n",
              "    <tr>\n",
              "      <th>0</th>\n",
              "      <td>0.886207</td>\n",
              "      <td>0.597989</td>\n",
              "      <td>0.695994</td>\n",
              "      <td>0.213835</td>\n",
              "      <td>0.529942</td>\n",
              "      <td>25.129882</td>\n",
              "    </tr>\n",
              "    <tr>\n",
              "      <th>1</th>\n",
              "      <td>0.000000</td>\n",
              "      <td>1.490552</td>\n",
              "      <td>0.000000</td>\n",
              "      <td>3.311629</td>\n",
              "      <td>0.000000</td>\n",
              "      <td>10.640770</td>\n",
              "    </tr>\n",
              "    <tr>\n",
              "      <th>2</th>\n",
              "      <td>0.000000</td>\n",
              "      <td>-12.154795</td>\n",
              "      <td>0.000000</td>\n",
              "      <td>-1795.737943</td>\n",
              "      <td>-0.000000</td>\n",
              "      <td>-195.949533</td>\n",
              "    </tr>\n",
              "    <tr>\n",
              "      <th>3</th>\n",
              "      <td>0.000000</td>\n",
              "      <td>2.548575</td>\n",
              "      <td>0.000000</td>\n",
              "      <td>16.553598</td>\n",
              "      <td>0.000000</td>\n",
              "      <td>20.654680</td>\n",
              "    </tr>\n",
              "    <tr>\n",
              "      <th>4</th>\n",
              "      <td>0.000000</td>\n",
              "      <td>-2.520874</td>\n",
              "      <td>0.000000</td>\n",
              "      <td>-16.019669</td>\n",
              "      <td>-0.000000</td>\n",
              "      <td>-47.403848</td>\n",
              "    </tr>\n",
              "  </tbody>\n",
              "</table>\n",
              "</div>"
            ],
            "text/plain": [
              "         x1         x2      x1^3         x2^3     x1*x2           r\n",
              "0  0.886207   0.597989  0.695994     0.213835  0.529942   25.129882\n",
              "1  0.000000   1.490552  0.000000     3.311629  0.000000   10.640770\n",
              "2  0.000000 -12.154795  0.000000 -1795.737943 -0.000000 -195.949533\n",
              "3  0.000000   2.548575  0.000000    16.553598  0.000000   20.654680\n",
              "4  0.000000  -2.520874  0.000000   -16.019669 -0.000000  -47.403848"
            ]
          },
          "metadata": {},
          "execution_count": 192
        }
      ]
    },
    {
      "cell_type": "code",
      "metadata": {
        "id": "9qCUQaDWq4cy"
      },
      "source": [
        "test_size = 800\n",
        "test5 = D5.iloc[test_size:]\n",
        "train5 = D5.iloc[:test_size]\n",
        "train_data5 = np.asarray(train5)\n",
        "test_data5 = np.asarray(test5)\n",
        "X5 = train_data5[:,:-1] \n",
        "r5 = train_data5[:,-1:] \n",
        "test_X5 = test_data5[:,:-1]\n",
        "test_r5 = test_data5[:,-1:]\n",
        "ones5 = np.ones((len(X5),1))\n",
        "Dmat5 = np.hstack((ones5,X5))\n",
        "ones5 = np.ones((len(test_X5),1))\n",
        "test_Dmat5 = np.hstack((ones5,test_X5))"
      ],
      "execution_count": null,
      "outputs": []
    },
    {
      "cell_type": "code",
      "metadata": {
        "colab": {
          "base_uri": "https://localhost:8080/"
        },
        "id": "AoeGqCh3rbKN",
        "outputId": "a7898552-c22b-46e4-ea30-6f2e75458833"
      },
      "source": [
        "length5 = Dmat5.shape[1]\n",
        "lin = LR_Norm_Eqn(length5)\n",
        "print('Weights are ',lin.fit(Dmat5,r5))"
      ],
      "execution_count": null,
      "outputs": [
        {
          "output_type": "stream",
          "name": "stdout",
          "text": [
            "Weights are  [[ 7.16349216e+00]\n",
            " [ 7.98155968e+00]\n",
            " [ 1.45891937e+01]\n",
            " [ 1.35960550e-03]\n",
            " [ 5.48553709e-03]\n",
            " [-6.01001870e-03]]\n"
          ]
        }
      ]
    },
    {
      "cell_type": "code",
      "metadata": {
        "colab": {
          "base_uri": "https://localhost:8080/"
        },
        "id": "tmW8KPoirvvJ",
        "outputId": "dcba610c-d586-43ca-e63a-a571fb9ce3cb"
      },
      "source": [
        "predicted5 = lin.predict(Dmat5,r5)\n",
        "test_predicted5 = lin.predict(test_Dmat5,test_r5)\n",
        "print(\"Error with train data: \",lin.measure(predicted5,r5))\n",
        "print(\"Error with test data: \",lin.measure(test_predicted5,test_r5))"
      ],
      "execution_count": null,
      "outputs": [
        {
          "output_type": "stream",
          "name": "stdout",
          "text": [
            "Error with train data:  1571.0097851427915\n",
            "Error with test data:  9.649814928889226\n"
          ]
        }
      ]
    },
    {
      "cell_type": "code",
      "metadata": {
        "colab": {
          "base_uri": "https://localhost:8080/"
        },
        "id": "qBSmfr09r1fk",
        "outputId": "c713a469-ba2b-42bf-a049-52e8d3c32f5c"
      },
      "source": [
        "# Predict an unknown value \n",
        "predict_unknown = lin.predict(18, 18)\n",
        "predict_unknown"
      ],
      "execution_count": null,
      "outputs": [
        {
          "output_type": "execute_result",
          "data": {
            "text/plain": [
              "array([[ 1.28942859e+02],\n",
              "       [ 1.43668074e+02],\n",
              "       [ 2.62605487e+02],\n",
              "       [ 2.44728990e-02],\n",
              "       [ 9.87396677e-02],\n",
              "       [-1.08180337e-01]])"
            ]
          },
          "metadata": {},
          "execution_count": 196
        }
      ]
    },
    {
      "cell_type": "code",
      "metadata": {
        "colab": {
          "base_uri": "https://localhost:8080/"
        },
        "id": "RKMurJ8er6xk",
        "outputId": "50f3054c-61d5-4155-dc43-1ddbbf165cef"
      },
      "source": [
        "y0 = predict_unknown[0]*18 + predict_unknown[1]*18*18 + predict_unknown[2]*18*18*18 + predict_unknown[3]*18*18 + predict_unknown[4]*18\n",
        "y0"
      ],
      "execution_count": null,
      "outputs": [
        {
          "output_type": "execute_result",
          "data": {
            "text/plain": [
              "array([1580394.33488522])"
            ]
          },
          "metadata": {},
          "execution_count": 197
        }
      ]
    },
    {
      "cell_type": "markdown",
      "metadata": {
        "id": "xPlWylsxsBwb"
      },
      "source": [
        "# 3."
      ]
    },
    {
      "cell_type": "markdown",
      "metadata": {
        "id": "DLszhRRMy9vp"
      },
      "source": [
        "a."
      ]
    },
    {
      "cell_type": "code",
      "metadata": {
        "colab": {
          "base_uri": "https://localhost:8080/",
          "height": 100
        },
        "id": "dBncXcpPr-UZ",
        "outputId": "1f4b7f9b-c175-4bcc-ce5c-1ddaf9d9e283"
      },
      "source": [
        "X = D2[['x1','x2','x1^2','x2^2','x1*x2']]\n",
        "y = D2['r']\n",
        "from sklearn.linear_model import LinearRegression\n",
        "regressor = LinearRegression()\n",
        "regressor.fit(X, y)\n",
        "\n",
        "coeff_D2 = pd.DataFrame(regressor.coef_, X.columns, columns=['Coefficient'])\n",
        "coeff_D2=coeff_D2.T\n",
        "coeff_D2['noise'] = 1.0\n",
        "coeff_D2['bias'] = 1.11\n",
        "coeff_D2"
      ],
      "execution_count": null,
      "outputs": [
        {
          "output_type": "execute_result",
          "data": {
            "text/html": [
              "<div>\n",
              "<style scoped>\n",
              "    .dataframe tbody tr th:only-of-type {\n",
              "        vertical-align: middle;\n",
              "    }\n",
              "\n",
              "    .dataframe tbody tr th {\n",
              "        vertical-align: top;\n",
              "    }\n",
              "\n",
              "    .dataframe thead th {\n",
              "        text-align: right;\n",
              "    }\n",
              "</style>\n",
              "<table border=\"1\" class=\"dataframe\">\n",
              "  <thead>\n",
              "    <tr style=\"text-align: right;\">\n",
              "      <th></th>\n",
              "      <th>x1</th>\n",
              "      <th>x2</th>\n",
              "      <th>x1^2</th>\n",
              "      <th>x2^2</th>\n",
              "      <th>x1*x2</th>\n",
              "      <th>noise</th>\n",
              "      <th>bias</th>\n",
              "    </tr>\n",
              "  </thead>\n",
              "  <tbody>\n",
              "    <tr>\n",
              "      <th>Coefficient</th>\n",
              "      <td>8.011739</td>\n",
              "      <td>14.996124</td>\n",
              "      <td>0.020536</td>\n",
              "      <td>-0.006555</td>\n",
              "      <td>-0.002897</td>\n",
              "      <td>1.0</td>\n",
              "      <td>1.11</td>\n",
              "    </tr>\n",
              "  </tbody>\n",
              "</table>\n",
              "</div>"
            ],
            "text/plain": [
              "                   x1         x2      x1^2      x2^2     x1*x2  noise  bias\n",
              "Coefficient  8.011739  14.996124  0.020536 -0.006555 -0.002897    1.0  1.11"
            ]
          },
          "metadata": {},
          "execution_count": 198
        }
      ]
    },
    {
      "cell_type": "code",
      "metadata": {
        "colab": {
          "base_uri": "https://localhost:8080/",
          "height": 100
        },
        "id": "1QlLOC2Pt1xI",
        "outputId": "1d9bbfe3-4dd0-4f79-dc75-a18c4037671f"
      },
      "source": [
        "X = D3[['x1','x2','x1^3','x2^3','x1*x2']]\n",
        "y = D3['r']\n",
        "from sklearn.linear_model import LinearRegression\n",
        "regressor = LinearRegression()\n",
        "regressor.fit(X, y)\n",
        "\n",
        "coeff_D3 = pd.DataFrame(regressor.coef_, X.columns, columns=['Coefficient'])\n",
        "coeff_D3=coeff_D3.T\n",
        "coeff_D3['noise'] = 1.0\n",
        "coeff_D3['bias'] = 1.11\n",
        "coeff_D3"
      ],
      "execution_count": null,
      "outputs": [
        {
          "output_type": "execute_result",
          "data": {
            "text/html": [
              "<div>\n",
              "<style scoped>\n",
              "    .dataframe tbody tr th:only-of-type {\n",
              "        vertical-align: middle;\n",
              "    }\n",
              "\n",
              "    .dataframe tbody tr th {\n",
              "        vertical-align: top;\n",
              "    }\n",
              "\n",
              "    .dataframe thead th {\n",
              "        text-align: right;\n",
              "    }\n",
              "</style>\n",
              "<table border=\"1\" class=\"dataframe\">\n",
              "  <thead>\n",
              "    <tr style=\"text-align: right;\">\n",
              "      <th></th>\n",
              "      <th>x1</th>\n",
              "      <th>x2</th>\n",
              "      <th>x1^3</th>\n",
              "      <th>x2^3</th>\n",
              "      <th>x1*x2</th>\n",
              "      <th>noise</th>\n",
              "      <th>bias</th>\n",
              "    </tr>\n",
              "  </thead>\n",
              "  <tbody>\n",
              "    <tr>\n",
              "      <th>Coefficient</th>\n",
              "      <td>8.022799</td>\n",
              "      <td>14.728667</td>\n",
              "      <td>-0.000316</td>\n",
              "      <td>0.003495</td>\n",
              "      <td>0.015568</td>\n",
              "      <td>1.0</td>\n",
              "      <td>1.11</td>\n",
              "    </tr>\n",
              "  </tbody>\n",
              "</table>\n",
              "</div>"
            ],
            "text/plain": [
              "                   x1         x2      x1^3      x2^3     x1*x2  noise  bias\n",
              "Coefficient  8.022799  14.728667 -0.000316  0.003495  0.015568    1.0  1.11"
            ]
          },
          "metadata": {},
          "execution_count": 199
        }
      ]
    },
    {
      "cell_type": "code",
      "metadata": {
        "colab": {
          "base_uri": "https://localhost:8080/",
          "height": 100
        },
        "id": "iKwQ382XueO9",
        "outputId": "2b944486-65d2-4a72-de97-4e62cbf3da77"
      },
      "source": [
        "X = D4[['x1','x2','x1^2','x2^2','x1*x2']]\n",
        "y = D4['r']\n",
        "from sklearn.linear_model import LinearRegression\n",
        "regressor = LinearRegression()\n",
        "regressor.fit(X, y)\n",
        "\n",
        "coeff_D4 = pd.DataFrame(regressor.coef_, X.columns, columns=['Coefficient'])\n",
        "coeff_D4=coeff_D4.T\n",
        "coeff_D4['noise'] = 1.0\n",
        "coeff_D4['bias'] = 1.11\n",
        "coeff_D4"
      ],
      "execution_count": null,
      "outputs": [
        {
          "output_type": "execute_result",
          "data": {
            "text/html": [
              "<div>\n",
              "<style scoped>\n",
              "    .dataframe tbody tr th:only-of-type {\n",
              "        vertical-align: middle;\n",
              "    }\n",
              "\n",
              "    .dataframe tbody tr th {\n",
              "        vertical-align: top;\n",
              "    }\n",
              "\n",
              "    .dataframe thead th {\n",
              "        text-align: right;\n",
              "    }\n",
              "</style>\n",
              "<table border=\"1\" class=\"dataframe\">\n",
              "  <thead>\n",
              "    <tr style=\"text-align: right;\">\n",
              "      <th></th>\n",
              "      <th>x1</th>\n",
              "      <th>x2</th>\n",
              "      <th>x1^2</th>\n",
              "      <th>x2^2</th>\n",
              "      <th>x1*x2</th>\n",
              "      <th>noise</th>\n",
              "      <th>bias</th>\n",
              "    </tr>\n",
              "  </thead>\n",
              "  <tbody>\n",
              "    <tr>\n",
              "      <th>Coefficient</th>\n",
              "      <td>8.011739</td>\n",
              "      <td>14.996124</td>\n",
              "      <td>0.020536</td>\n",
              "      <td>-0.006555</td>\n",
              "      <td>-0.002897</td>\n",
              "      <td>1.0</td>\n",
              "      <td>1.11</td>\n",
              "    </tr>\n",
              "  </tbody>\n",
              "</table>\n",
              "</div>"
            ],
            "text/plain": [
              "                   x1         x2      x1^2      x2^2     x1*x2  noise  bias\n",
              "Coefficient  8.011739  14.996124  0.020536 -0.006555 -0.002897    1.0  1.11"
            ]
          },
          "metadata": {},
          "execution_count": 200
        }
      ]
    },
    {
      "cell_type": "code",
      "metadata": {
        "colab": {
          "base_uri": "https://localhost:8080/",
          "height": 100
        },
        "id": "nYJAObx4uebI",
        "outputId": "3eb83547-9757-40a2-d768-73e307a810b3"
      },
      "source": [
        "X = D5[['x1','x2','x1^3','x2^3','x1*x2']]\n",
        "y = D5['r']\n",
        "from sklearn.linear_model import LinearRegression\n",
        "regressor = LinearRegression()\n",
        "regressor.fit(X, y)\n",
        "\n",
        "coeff_D5 = pd.DataFrame(regressor.coef_, X.columns, columns=['Coefficient'])\n",
        "coeff_D5=coeff_D5.T\n",
        "coeff_D5['noise'] = 1.0\n",
        "coeff_D5['bias'] = 1.11\n",
        "coeff_D5"
      ],
      "execution_count": null,
      "outputs": [
        {
          "output_type": "execute_result",
          "data": {
            "text/html": [
              "<div>\n",
              "<style scoped>\n",
              "    .dataframe tbody tr th:only-of-type {\n",
              "        vertical-align: middle;\n",
              "    }\n",
              "\n",
              "    .dataframe tbody tr th {\n",
              "        vertical-align: top;\n",
              "    }\n",
              "\n",
              "    .dataframe thead th {\n",
              "        text-align: right;\n",
              "    }\n",
              "</style>\n",
              "<table border=\"1\" class=\"dataframe\">\n",
              "  <thead>\n",
              "    <tr style=\"text-align: right;\">\n",
              "      <th></th>\n",
              "      <th>x1</th>\n",
              "      <th>x2</th>\n",
              "      <th>x1^3</th>\n",
              "      <th>x2^3</th>\n",
              "      <th>x1*x2</th>\n",
              "      <th>noise</th>\n",
              "      <th>bias</th>\n",
              "    </tr>\n",
              "  </thead>\n",
              "  <tbody>\n",
              "    <tr>\n",
              "      <th>Coefficient</th>\n",
              "      <td>8.022799</td>\n",
              "      <td>14.728667</td>\n",
              "      <td>-0.000316</td>\n",
              "      <td>0.003495</td>\n",
              "      <td>0.015568</td>\n",
              "      <td>1.0</td>\n",
              "      <td>1.11</td>\n",
              "    </tr>\n",
              "  </tbody>\n",
              "</table>\n",
              "</div>"
            ],
            "text/plain": [
              "                   x1         x2      x1^3      x2^3     x1*x2  noise  bias\n",
              "Coefficient  8.022799  14.728667 -0.000316  0.003495  0.015568    1.0  1.11"
            ]
          },
          "metadata": {},
          "execution_count": 201
        }
      ]
    },
    {
      "cell_type": "code",
      "metadata": {
        "colab": {
          "base_uri": "https://localhost:8080/",
          "height": 172
        },
        "id": "q0W-igmruxJ4",
        "outputId": "6b8ff9b3-9380-411d-be3f-fc0dbe8a62ef"
      },
      "source": [
        "gg=[coeff_D2,coeff_D3,coeff_D4,coeff_D5]\n",
        "DF=pd.concat(gg)\n",
        "DF"
      ],
      "execution_count": null,
      "outputs": [
        {
          "output_type": "execute_result",
          "data": {
            "text/html": [
              "<div>\n",
              "<style scoped>\n",
              "    .dataframe tbody tr th:only-of-type {\n",
              "        vertical-align: middle;\n",
              "    }\n",
              "\n",
              "    .dataframe tbody tr th {\n",
              "        vertical-align: top;\n",
              "    }\n",
              "\n",
              "    .dataframe thead th {\n",
              "        text-align: right;\n",
              "    }\n",
              "</style>\n",
              "<table border=\"1\" class=\"dataframe\">\n",
              "  <thead>\n",
              "    <tr style=\"text-align: right;\">\n",
              "      <th></th>\n",
              "      <th>x1</th>\n",
              "      <th>x2</th>\n",
              "      <th>x1^2</th>\n",
              "      <th>x2^2</th>\n",
              "      <th>x1*x2</th>\n",
              "      <th>noise</th>\n",
              "      <th>bias</th>\n",
              "      <th>x1^3</th>\n",
              "      <th>x2^3</th>\n",
              "    </tr>\n",
              "  </thead>\n",
              "  <tbody>\n",
              "    <tr>\n",
              "      <th>Coefficient</th>\n",
              "      <td>8.011739</td>\n",
              "      <td>14.996124</td>\n",
              "      <td>0.020536</td>\n",
              "      <td>-0.006555</td>\n",
              "      <td>-0.002897</td>\n",
              "      <td>1.0</td>\n",
              "      <td>1.11</td>\n",
              "      <td>NaN</td>\n",
              "      <td>NaN</td>\n",
              "    </tr>\n",
              "    <tr>\n",
              "      <th>Coefficient</th>\n",
              "      <td>8.022799</td>\n",
              "      <td>14.728667</td>\n",
              "      <td>NaN</td>\n",
              "      <td>NaN</td>\n",
              "      <td>0.015568</td>\n",
              "      <td>1.0</td>\n",
              "      <td>1.11</td>\n",
              "      <td>-0.000316</td>\n",
              "      <td>0.003495</td>\n",
              "    </tr>\n",
              "    <tr>\n",
              "      <th>Coefficient</th>\n",
              "      <td>8.011739</td>\n",
              "      <td>14.996124</td>\n",
              "      <td>0.020536</td>\n",
              "      <td>-0.006555</td>\n",
              "      <td>-0.002897</td>\n",
              "      <td>1.0</td>\n",
              "      <td>1.11</td>\n",
              "      <td>NaN</td>\n",
              "      <td>NaN</td>\n",
              "    </tr>\n",
              "    <tr>\n",
              "      <th>Coefficient</th>\n",
              "      <td>8.022799</td>\n",
              "      <td>14.728667</td>\n",
              "      <td>NaN</td>\n",
              "      <td>NaN</td>\n",
              "      <td>0.015568</td>\n",
              "      <td>1.0</td>\n",
              "      <td>1.11</td>\n",
              "      <td>-0.000316</td>\n",
              "      <td>0.003495</td>\n",
              "    </tr>\n",
              "  </tbody>\n",
              "</table>\n",
              "</div>"
            ],
            "text/plain": [
              "                   x1         x2      x1^2  ...  bias      x1^3      x2^3\n",
              "Coefficient  8.011739  14.996124  0.020536  ...  1.11       NaN       NaN\n",
              "Coefficient  8.022799  14.728667       NaN  ...  1.11 -0.000316  0.003495\n",
              "Coefficient  8.011739  14.996124  0.020536  ...  1.11       NaN       NaN\n",
              "Coefficient  8.022799  14.728667       NaN  ...  1.11 -0.000316  0.003495\n",
              "\n",
              "[4 rows x 9 columns]"
            ]
          },
          "metadata": {},
          "execution_count": 202
        }
      ]
    },
    {
      "cell_type": "code",
      "metadata": {
        "colab": {
          "base_uri": "https://localhost:8080/",
          "height": 192
        },
        "id": "Lf6rx5Bou8Kh",
        "outputId": "1cbb163c-b49d-4013-be98-7f232b251060"
      },
      "source": [
        "DF.drop_duplicates()\n",
        "DF"
      ],
      "execution_count": null,
      "outputs": [
        {
          "output_type": "execute_result",
          "data": {
            "text/html": [
              "<div>\n",
              "<style scoped>\n",
              "    .dataframe tbody tr th:only-of-type {\n",
              "        vertical-align: middle;\n",
              "    }\n",
              "\n",
              "    .dataframe tbody tr th {\n",
              "        vertical-align: top;\n",
              "    }\n",
              "\n",
              "    .dataframe thead th {\n",
              "        text-align: right;\n",
              "    }\n",
              "</style>\n",
              "<table border=\"1\" class=\"dataframe\">\n",
              "  <thead>\n",
              "    <tr style=\"text-align: right;\">\n",
              "      <th></th>\n",
              "      <th>x1</th>\n",
              "      <th>x2</th>\n",
              "      <th>x1^2</th>\n",
              "      <th>x2^2</th>\n",
              "      <th>x1*x2</th>\n",
              "      <th>noise</th>\n",
              "      <th>bias</th>\n",
              "      <th>x1^3</th>\n",
              "      <th>x2^3</th>\n",
              "    </tr>\n",
              "  </thead>\n",
              "  <tbody>\n",
              "    <tr>\n",
              "      <th>Coefficient</th>\n",
              "      <td>8.011739</td>\n",
              "      <td>14.996124</td>\n",
              "      <td>0.020536</td>\n",
              "      <td>-0.006555</td>\n",
              "      <td>-0.002897</td>\n",
              "      <td>1.0</td>\n",
              "      <td>1.11</td>\n",
              "      <td>NaN</td>\n",
              "      <td>NaN</td>\n",
              "    </tr>\n",
              "    <tr>\n",
              "      <th>Coefficient</th>\n",
              "      <td>8.022799</td>\n",
              "      <td>14.728667</td>\n",
              "      <td>NaN</td>\n",
              "      <td>NaN</td>\n",
              "      <td>0.015568</td>\n",
              "      <td>1.0</td>\n",
              "      <td>1.11</td>\n",
              "      <td>-0.000316</td>\n",
              "      <td>0.003495</td>\n",
              "    </tr>\n",
              "    <tr>\n",
              "      <th>Coefficient</th>\n",
              "      <td>8.011739</td>\n",
              "      <td>14.996124</td>\n",
              "      <td>0.020536</td>\n",
              "      <td>-0.006555</td>\n",
              "      <td>-0.002897</td>\n",
              "      <td>1.0</td>\n",
              "      <td>1.11</td>\n",
              "      <td>NaN</td>\n",
              "      <td>NaN</td>\n",
              "    </tr>\n",
              "    <tr>\n",
              "      <th>Coefficient</th>\n",
              "      <td>8.022799</td>\n",
              "      <td>14.728667</td>\n",
              "      <td>NaN</td>\n",
              "      <td>NaN</td>\n",
              "      <td>0.015568</td>\n",
              "      <td>1.0</td>\n",
              "      <td>1.11</td>\n",
              "      <td>-0.000316</td>\n",
              "      <td>0.003495</td>\n",
              "    </tr>\n",
              "  </tbody>\n",
              "</table>\n",
              "</div>"
            ],
            "text/plain": [
              "                   x1         x2      x1^2  ...  bias      x1^3      x2^3\n",
              "Coefficient  8.011739  14.996124  0.020536  ...  1.11       NaN       NaN\n",
              "Coefficient  8.022799  14.728667       NaN  ...  1.11 -0.000316  0.003495\n",
              "Coefficient  8.011739  14.996124  0.020536  ...  1.11       NaN       NaN\n",
              "Coefficient  8.022799  14.728667       NaN  ...  1.11 -0.000316  0.003495\n",
              "\n",
              "[4 rows x 9 columns]"
            ]
          },
          "metadata": {},
          "execution_count": 203
        }
      ]
    },
    {
      "cell_type": "markdown",
      "metadata": {
        "id": "j7kcRLEcxles"
      },
      "source": [
        "### **E1(we have taken as D2) is better than than the rest because**"
      ]
    },
    {
      "cell_type": "markdown",
      "metadata": {
        "id": "W617l7YyxyXq"
      },
      "source": [
        "### **b. Inference:**\n",
        "1. Coefficients of E1, E2, E3, E4 are similar to each other.\n",
        "2. The coefficients didn't change even when we swapped the testing and training datasets.\n",
        "3. After performing EDA and Regression models we conclude that:\n",
        " - Model E1(with the dataset D3) performs better than all the models.\n",
        " - This is evident also from the predicted values which are closer to the actual r if x1 and x2 were to be passed as variables.\n",
        "\n",
        " - The coefficients didn't change after swapping the testing and training datasets.\n",
        "\n",
        " - Coefficients of E1, E2, E3, E4 are almost equal to each other and it can be found from the previous cell.\n"
      ]
    }
  ]
}