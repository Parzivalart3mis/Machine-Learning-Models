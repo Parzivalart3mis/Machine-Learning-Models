{
  "nbformat": 4,
  "nbformat_minor": 0,
  "metadata": {
    "colab": {
      "name": "IPS_2_19BCE0197.ipynb",
      "provenance": []
    },
    "kernelspec": {
      "name": "python3",
      "display_name": "Python 3"
    },
    "language_info": {
      "name": "python"
    }
  },
  "cells": [
    {
      "cell_type": "markdown",
      "metadata": {
        "id": "rBehPORrPtKh"
      },
      "source": [
        "#**Toyota KM Dataset**\n",
        "# Linear Regression Method"
      ]
    },
    {
      "cell_type": "code",
      "metadata": {
        "id": "Lli0s0jC0dO1"
      },
      "source": [
        "import pandas as pd\n",
        "import matplotlib.pyplot as plt\n",
        "import seaborn as sns"
      ],
      "execution_count": null,
      "outputs": []
    },
    {
      "cell_type": "code",
      "metadata": {
        "colab": {
          "base_uri": "https://localhost:8080/",
          "height": 203
        },
        "id": "sDDEnwap1QSr",
        "outputId": "38e1bd68-b26b-433f-c5a3-48f7f4882144"
      },
      "source": [
        "data = pd.read_excel('/content/drive/MyDrive/Datasets/toyota_km.xlsx',na_values=['??']) #read from dataset\n",
        "\n",
        "data.head() # view first few rows of the data"
      ],
      "execution_count": null,
      "outputs": [
        {
          "output_type": "execute_result",
          "data": {
            "text/html": [
              "<div>\n",
              "<style scoped>\n",
              "    .dataframe tbody tr th:only-of-type {\n",
              "        vertical-align: middle;\n",
              "    }\n",
              "\n",
              "    .dataframe tbody tr th {\n",
              "        vertical-align: top;\n",
              "    }\n",
              "\n",
              "    .dataframe thead th {\n",
              "        text-align: right;\n",
              "    }\n",
              "</style>\n",
              "<table border=\"1\" class=\"dataframe\">\n",
              "  <thead>\n",
              "    <tr style=\"text-align: right;\">\n",
              "      <th></th>\n",
              "      <th>x</th>\n",
              "      <th>r</th>\n",
              "    </tr>\n",
              "  </thead>\n",
              "  <tbody>\n",
              "    <tr>\n",
              "      <th>0</th>\n",
              "      <td>46986.0</td>\n",
              "      <td>13500</td>\n",
              "    </tr>\n",
              "    <tr>\n",
              "      <th>1</th>\n",
              "      <td>72937.0</td>\n",
              "      <td>13750</td>\n",
              "    </tr>\n",
              "    <tr>\n",
              "      <th>2</th>\n",
              "      <td>41711.0</td>\n",
              "      <td>13950</td>\n",
              "    </tr>\n",
              "    <tr>\n",
              "      <th>3</th>\n",
              "      <td>48000.0</td>\n",
              "      <td>14950</td>\n",
              "    </tr>\n",
              "    <tr>\n",
              "      <th>4</th>\n",
              "      <td>38500.0</td>\n",
              "      <td>13750</td>\n",
              "    </tr>\n",
              "  </tbody>\n",
              "</table>\n",
              "</div>"
            ],
            "text/plain": [
              "         x      r\n",
              "0  46986.0  13500\n",
              "1  72937.0  13750\n",
              "2  41711.0  13950\n",
              "3  48000.0  14950\n",
              "4  38500.0  13750"
            ]
          },
          "metadata": {},
          "execution_count": 14
        }
      ]
    },
    {
      "cell_type": "code",
      "metadata": {
        "id": "cG9z2-rP1Uf0"
      },
      "source": [
        "data = data.dropna()"
      ],
      "execution_count": null,
      "outputs": []
    },
    {
      "cell_type": "code",
      "metadata": {
        "colab": {
          "base_uri": "https://localhost:8080/",
          "height": 417
        },
        "id": "jsmE53jn1ZiU",
        "outputId": "e617f710-b597-43da-ae94-1ea907fa8d4a"
      },
      "source": [
        "test_data = data.iloc[-100:]\n",
        "test_data"
      ],
      "execution_count": null,
      "outputs": [
        {
          "output_type": "execute_result",
          "data": {
            "text/html": [
              "<div>\n",
              "<style scoped>\n",
              "    .dataframe tbody tr th:only-of-type {\n",
              "        vertical-align: middle;\n",
              "    }\n",
              "\n",
              "    .dataframe tbody tr th {\n",
              "        vertical-align: top;\n",
              "    }\n",
              "\n",
              "    .dataframe thead th {\n",
              "        text-align: right;\n",
              "    }\n",
              "</style>\n",
              "<table border=\"1\" class=\"dataframe\">\n",
              "  <thead>\n",
              "    <tr style=\"text-align: right;\">\n",
              "      <th></th>\n",
              "      <th>x</th>\n",
              "      <th>r</th>\n",
              "    </tr>\n",
              "  </thead>\n",
              "  <tbody>\n",
              "    <tr>\n",
              "      <th>1331</th>\n",
              "      <td>65006.0</td>\n",
              "      <td>6950</td>\n",
              "    </tr>\n",
              "    <tr>\n",
              "      <th>1332</th>\n",
              "      <td>64280.0</td>\n",
              "      <td>8495</td>\n",
              "    </tr>\n",
              "    <tr>\n",
              "      <th>1333</th>\n",
              "      <td>64000.0</td>\n",
              "      <td>10000</td>\n",
              "    </tr>\n",
              "    <tr>\n",
              "      <th>1334</th>\n",
              "      <td>64000.0</td>\n",
              "      <td>6999</td>\n",
              "    </tr>\n",
              "    <tr>\n",
              "      <th>1335</th>\n",
              "      <td>64000.0</td>\n",
              "      <td>8950</td>\n",
              "    </tr>\n",
              "    <tr>\n",
              "      <th>...</th>\n",
              "      <td>...</td>\n",
              "      <td>...</td>\n",
              "    </tr>\n",
              "    <tr>\n",
              "      <th>1429</th>\n",
              "      <td>24000.0</td>\n",
              "      <td>8950</td>\n",
              "    </tr>\n",
              "    <tr>\n",
              "      <th>1430</th>\n",
              "      <td>23000.0</td>\n",
              "      <td>8450</td>\n",
              "    </tr>\n",
              "    <tr>\n",
              "      <th>1431</th>\n",
              "      <td>20544.0</td>\n",
              "      <td>7500</td>\n",
              "    </tr>\n",
              "    <tr>\n",
              "      <th>1433</th>\n",
              "      <td>17016.0</td>\n",
              "      <td>8500</td>\n",
              "    </tr>\n",
              "    <tr>\n",
              "      <th>1435</th>\n",
              "      <td>1.0</td>\n",
              "      <td>6950</td>\n",
              "    </tr>\n",
              "  </tbody>\n",
              "</table>\n",
              "<p>100 rows × 2 columns</p>\n",
              "</div>"
            ],
            "text/plain": [
              "            x      r\n",
              "1331  65006.0   6950\n",
              "1332  64280.0   8495\n",
              "1333  64000.0  10000\n",
              "1334  64000.0   6999\n",
              "1335  64000.0   8950\n",
              "...       ...    ...\n",
              "1429  24000.0   8950\n",
              "1430  23000.0   8450\n",
              "1431  20544.0   7500\n",
              "1433  17016.0   8500\n",
              "1435      1.0   6950\n",
              "\n",
              "[100 rows x 2 columns]"
            ]
          },
          "metadata": {},
          "execution_count": 16
        }
      ]
    },
    {
      "cell_type": "code",
      "metadata": {
        "colab": {
          "base_uri": "https://localhost:8080/",
          "height": 417
        },
        "id": "B-ouF46-1aIi",
        "outputId": "f3bd2aa9-a731-425c-f446-70b6590bbaec"
      },
      "source": [
        "data = data[:-100]\n",
        "data"
      ],
      "execution_count": null,
      "outputs": [
        {
          "output_type": "execute_result",
          "data": {
            "text/html": [
              "<div>\n",
              "<style scoped>\n",
              "    .dataframe tbody tr th:only-of-type {\n",
              "        vertical-align: middle;\n",
              "    }\n",
              "\n",
              "    .dataframe tbody tr th {\n",
              "        vertical-align: top;\n",
              "    }\n",
              "\n",
              "    .dataframe thead th {\n",
              "        text-align: right;\n",
              "    }\n",
              "</style>\n",
              "<table border=\"1\" class=\"dataframe\">\n",
              "  <thead>\n",
              "    <tr style=\"text-align: right;\">\n",
              "      <th></th>\n",
              "      <th>x</th>\n",
              "      <th>r</th>\n",
              "    </tr>\n",
              "  </thead>\n",
              "  <tbody>\n",
              "    <tr>\n",
              "      <th>0</th>\n",
              "      <td>46986.0</td>\n",
              "      <td>13500</td>\n",
              "    </tr>\n",
              "    <tr>\n",
              "      <th>1</th>\n",
              "      <td>72937.0</td>\n",
              "      <td>13750</td>\n",
              "    </tr>\n",
              "    <tr>\n",
              "      <th>2</th>\n",
              "      <td>41711.0</td>\n",
              "      <td>13950</td>\n",
              "    </tr>\n",
              "    <tr>\n",
              "      <th>3</th>\n",
              "      <td>48000.0</td>\n",
              "      <td>14950</td>\n",
              "    </tr>\n",
              "    <tr>\n",
              "      <th>4</th>\n",
              "      <td>38500.0</td>\n",
              "      <td>13750</td>\n",
              "    </tr>\n",
              "    <tr>\n",
              "      <th>...</th>\n",
              "      <td>...</td>\n",
              "      <td>...</td>\n",
              "    </tr>\n",
              "    <tr>\n",
              "      <th>1326</th>\n",
              "      <td>65950.0</td>\n",
              "      <td>7400</td>\n",
              "    </tr>\n",
              "    <tr>\n",
              "      <th>1327</th>\n",
              "      <td>65500.0</td>\n",
              "      <td>8950</td>\n",
              "    </tr>\n",
              "    <tr>\n",
              "      <th>1328</th>\n",
              "      <td>65307.0</td>\n",
              "      <td>6900</td>\n",
              "    </tr>\n",
              "    <tr>\n",
              "      <th>1329</th>\n",
              "      <td>65254.0</td>\n",
              "      <td>7750</td>\n",
              "    </tr>\n",
              "    <tr>\n",
              "      <th>1330</th>\n",
              "      <td>65021.0</td>\n",
              "      <td>8950</td>\n",
              "    </tr>\n",
              "  </tbody>\n",
              "</table>\n",
              "<p>1321 rows × 2 columns</p>\n",
              "</div>"
            ],
            "text/plain": [
              "            x      r\n",
              "0     46986.0  13500\n",
              "1     72937.0  13750\n",
              "2     41711.0  13950\n",
              "3     48000.0  14950\n",
              "4     38500.0  13750\n",
              "...       ...    ...\n",
              "1326  65950.0   7400\n",
              "1327  65500.0   8950\n",
              "1328  65307.0   6900\n",
              "1329  65254.0   7750\n",
              "1330  65021.0   8950\n",
              "\n",
              "[1321 rows x 2 columns]"
            ]
          },
          "metadata": {},
          "execution_count": 17
        }
      ]
    },
    {
      "cell_type": "code",
      "metadata": {
        "colab": {
          "base_uri": "https://localhost:8080/"
        },
        "id": "uXTansxj2Uf0",
        "outputId": "beedccd4-536a-4d46-a354-665cc8b533d3"
      },
      "source": [
        "data.info()"
      ],
      "execution_count": null,
      "outputs": [
        {
          "output_type": "stream",
          "name": "stdout",
          "text": [
            "<class 'pandas.core.frame.DataFrame'>\n",
            "Int64Index: 1321 entries, 0 to 1330\n",
            "Data columns (total 2 columns):\n",
            " #   Column  Non-Null Count  Dtype  \n",
            "---  ------  --------------  -----  \n",
            " 0   x       1321 non-null   float64\n",
            " 1   r       1321 non-null   int64  \n",
            "dtypes: float64(1), int64(1)\n",
            "memory usage: 31.0 KB\n"
          ]
        }
      ]
    },
    {
      "cell_type": "code",
      "metadata": {
        "colab": {
          "base_uri": "https://localhost:8080/"
        },
        "id": "59EFF3Xa21vi",
        "outputId": "cd5228b9-0167-47fd-931e-29ee22e0a159"
      },
      "source": [
        "#number of records n training data\n",
        "size = data['x'].size\n",
        "size"
      ],
      "execution_count": null,
      "outputs": [
        {
          "output_type": "execute_result",
          "data": {
            "text/plain": [
              "1321"
            ]
          },
          "metadata": {},
          "execution_count": 19
        }
      ]
    },
    {
      "cell_type": "code",
      "metadata": {
        "colab": {
          "base_uri": "https://localhost:8080/",
          "height": 298
        },
        "id": "m9i3aHR_3Nlb",
        "outputId": "683f5f8f-794e-4731-ad9b-34edea28697a"
      },
      "source": [
        "plt.scatter(data['x'],data['r'])\n",
        "plt.title('Scatter')"
      ],
      "execution_count": null,
      "outputs": [
        {
          "output_type": "execute_result",
          "data": {
            "text/plain": [
              "Text(0.5, 1.0, 'Scatter')"
            ]
          },
          "metadata": {},
          "execution_count": 20
        },
        {
          "output_type": "display_data",
          "data": {
            "image/png": "[encoded data removed]",
            "text/plain": [
              "<Figure size 432x288 with 1 Axes>"
            ]
          },
          "metadata": {
            "needs_background": "light"
          }
        }
      ]
    },
    {
      "cell_type": "code",
      "metadata": {
        "colab": {
          "base_uri": "https://localhost:8080/",
          "height": 417
        },
        "id": "TfNJTkgZ3oJE",
        "outputId": "e9d02809-0314-40d3-97a7-7fb8be18af26"
      },
      "source": [
        "data['x_sqr'] = data['x']**2\n",
        "data"
      ],
      "execution_count": null,
      "outputs": [
        {
          "output_type": "execute_result",
          "data": {
            "text/html": [
              "<div>\n",
              "<style scoped>\n",
              "    .dataframe tbody tr th:only-of-type {\n",
              "        vertical-align: middle;\n",
              "    }\n",
              "\n",
              "    .dataframe tbody tr th {\n",
              "        vertical-align: top;\n",
              "    }\n",
              "\n",
              "    .dataframe thead th {\n",
              "        text-align: right;\n",
              "    }\n",
              "</style>\n",
              "<table border=\"1\" class=\"dataframe\">\n",
              "  <thead>\n",
              "    <tr style=\"text-align: right;\">\n",
              "      <th></th>\n",
              "      <th>x</th>\n",
              "      <th>r</th>\n",
              "      <th>x_sqr</th>\n",
              "    </tr>\n",
              "  </thead>\n",
              "  <tbody>\n",
              "    <tr>\n",
              "      <th>0</th>\n",
              "      <td>46986.0</td>\n",
              "      <td>13500</td>\n",
              "      <td>2.207684e+09</td>\n",
              "    </tr>\n",
              "    <tr>\n",
              "      <th>1</th>\n",
              "      <td>72937.0</td>\n",
              "      <td>13750</td>\n",
              "      <td>5.319806e+09</td>\n",
              "    </tr>\n",
              "    <tr>\n",
              "      <th>2</th>\n",
              "      <td>41711.0</td>\n",
              "      <td>13950</td>\n",
              "      <td>1.739808e+09</td>\n",
              "    </tr>\n",
              "    <tr>\n",
              "      <th>3</th>\n",
              "      <td>48000.0</td>\n",
              "      <td>14950</td>\n",
              "      <td>2.304000e+09</td>\n",
              "    </tr>\n",
              "    <tr>\n",
              "      <th>4</th>\n",
              "      <td>38500.0</td>\n",
              "      <td>13750</td>\n",
              "      <td>1.482250e+09</td>\n",
              "    </tr>\n",
              "    <tr>\n",
              "      <th>...</th>\n",
              "      <td>...</td>\n",
              "      <td>...</td>\n",
              "      <td>...</td>\n",
              "    </tr>\n",
              "    <tr>\n",
              "      <th>1326</th>\n",
              "      <td>65950.0</td>\n",
              "      <td>7400</td>\n",
              "      <td>4.349402e+09</td>\n",
              "    </tr>\n",
              "    <tr>\n",
              "      <th>1327</th>\n",
              "      <td>65500.0</td>\n",
              "      <td>8950</td>\n",
              "      <td>4.290250e+09</td>\n",
              "    </tr>\n",
              "    <tr>\n",
              "      <th>1328</th>\n",
              "      <td>65307.0</td>\n",
              "      <td>6900</td>\n",
              "      <td>4.265004e+09</td>\n",
              "    </tr>\n",
              "    <tr>\n",
              "      <th>1329</th>\n",
              "      <td>65254.0</td>\n",
              "      <td>7750</td>\n",
              "      <td>4.258085e+09</td>\n",
              "    </tr>\n",
              "    <tr>\n",
              "      <th>1330</th>\n",
              "      <td>65021.0</td>\n",
              "      <td>8950</td>\n",
              "      <td>4.227730e+09</td>\n",
              "    </tr>\n",
              "  </tbody>\n",
              "</table>\n",
              "<p>1321 rows × 3 columns</p>\n",
              "</div>"
            ],
            "text/plain": [
              "            x      r         x_sqr\n",
              "0     46986.0  13500  2.207684e+09\n",
              "1     72937.0  13750  5.319806e+09\n",
              "2     41711.0  13950  1.739808e+09\n",
              "3     48000.0  14950  2.304000e+09\n",
              "4     38500.0  13750  1.482250e+09\n",
              "...       ...    ...           ...\n",
              "1326  65950.0   7400  4.349402e+09\n",
              "1327  65500.0   8950  4.290250e+09\n",
              "1328  65307.0   6900  4.265004e+09\n",
              "1329  65254.0   7750  4.258085e+09\n",
              "1330  65021.0   8950  4.227730e+09\n",
              "\n",
              "[1321 rows x 3 columns]"
            ]
          },
          "metadata": {},
          "execution_count": 21
        }
      ]
    },
    {
      "cell_type": "code",
      "metadata": {
        "colab": {
          "base_uri": "https://localhost:8080/",
          "height": 417
        },
        "id": "e5cb-9eT4kHk",
        "outputId": "7170d996-5c52-4f3b-924b-04f64c4da29a"
      },
      "source": [
        "data['xr'] = data['x']*data['r']\n",
        "data"
      ],
      "execution_count": null,
      "outputs": [
        {
          "output_type": "execute_result",
          "data": {
            "text/html": [
              "<div>\n",
              "<style scoped>\n",
              "    .dataframe tbody tr th:only-of-type {\n",
              "        vertical-align: middle;\n",
              "    }\n",
              "\n",
              "    .dataframe tbody tr th {\n",
              "        vertical-align: top;\n",
              "    }\n",
              "\n",
              "    .dataframe thead th {\n",
              "        text-align: right;\n",
              "    }\n",
              "</style>\n",
              "<table border=\"1\" class=\"dataframe\">\n",
              "  <thead>\n",
              "    <tr style=\"text-align: right;\">\n",
              "      <th></th>\n",
              "      <th>x</th>\n",
              "      <th>r</th>\n",
              "      <th>x_sqr</th>\n",
              "      <th>xr</th>\n",
              "    </tr>\n",
              "  </thead>\n",
              "  <tbody>\n",
              "    <tr>\n",
              "      <th>0</th>\n",
              "      <td>46986.0</td>\n",
              "      <td>13500</td>\n",
              "      <td>2.207684e+09</td>\n",
              "      <td>6.343110e+08</td>\n",
              "    </tr>\n",
              "    <tr>\n",
              "      <th>1</th>\n",
              "      <td>72937.0</td>\n",
              "      <td>13750</td>\n",
              "      <td>5.319806e+09</td>\n",
              "      <td>1.002884e+09</td>\n",
              "    </tr>\n",
              "    <tr>\n",
              "      <th>2</th>\n",
              "      <td>41711.0</td>\n",
              "      <td>13950</td>\n",
              "      <td>1.739808e+09</td>\n",
              "      <td>5.818684e+08</td>\n",
              "    </tr>\n",
              "    <tr>\n",
              "      <th>3</th>\n",
              "      <td>48000.0</td>\n",
              "      <td>14950</td>\n",
              "      <td>2.304000e+09</td>\n",
              "      <td>7.176000e+08</td>\n",
              "    </tr>\n",
              "    <tr>\n",
              "      <th>4</th>\n",
              "      <td>38500.0</td>\n",
              "      <td>13750</td>\n",
              "      <td>1.482250e+09</td>\n",
              "      <td>5.293750e+08</td>\n",
              "    </tr>\n",
              "    <tr>\n",
              "      <th>...</th>\n",
              "      <td>...</td>\n",
              "      <td>...</td>\n",
              "      <td>...</td>\n",
              "      <td>...</td>\n",
              "    </tr>\n",
              "    <tr>\n",
              "      <th>1326</th>\n",
              "      <td>65950.0</td>\n",
              "      <td>7400</td>\n",
              "      <td>4.349402e+09</td>\n",
              "      <td>4.880300e+08</td>\n",
              "    </tr>\n",
              "    <tr>\n",
              "      <th>1327</th>\n",
              "      <td>65500.0</td>\n",
              "      <td>8950</td>\n",
              "      <td>4.290250e+09</td>\n",
              "      <td>5.862250e+08</td>\n",
              "    </tr>\n",
              "    <tr>\n",
              "      <th>1328</th>\n",
              "      <td>65307.0</td>\n",
              "      <td>6900</td>\n",
              "      <td>4.265004e+09</td>\n",
              "      <td>4.506183e+08</td>\n",
              "    </tr>\n",
              "    <tr>\n",
              "      <th>1329</th>\n",
              "      <td>65254.0</td>\n",
              "      <td>7750</td>\n",
              "      <td>4.258085e+09</td>\n",
              "      <td>5.057185e+08</td>\n",
              "    </tr>\n",
              "    <tr>\n",
              "      <th>1330</th>\n",
              "      <td>65021.0</td>\n",
              "      <td>8950</td>\n",
              "      <td>4.227730e+09</td>\n",
              "      <td>5.819380e+08</td>\n",
              "    </tr>\n",
              "  </tbody>\n",
              "</table>\n",
              "<p>1321 rows × 4 columns</p>\n",
              "</div>"
            ],
            "text/plain": [
              "            x      r         x_sqr            xr\n",
              "0     46986.0  13500  2.207684e+09  6.343110e+08\n",
              "1     72937.0  13750  5.319806e+09  1.002884e+09\n",
              "2     41711.0  13950  1.739808e+09  5.818684e+08\n",
              "3     48000.0  14950  2.304000e+09  7.176000e+08\n",
              "4     38500.0  13750  1.482250e+09  5.293750e+08\n",
              "...       ...    ...           ...           ...\n",
              "1326  65950.0   7400  4.349402e+09  4.880300e+08\n",
              "1327  65500.0   8950  4.290250e+09  5.862250e+08\n",
              "1328  65307.0   6900  4.265004e+09  4.506183e+08\n",
              "1329  65254.0   7750  4.258085e+09  5.057185e+08\n",
              "1330  65021.0   8950  4.227730e+09  5.819380e+08\n",
              "\n",
              "[1321 rows x 4 columns]"
            ]
          },
          "metadata": {},
          "execution_count": 22
        }
      ]
    },
    {
      "cell_type": "code",
      "metadata": {
        "colab": {
          "base_uri": "https://localhost:8080/"
        },
        "id": "KkPtQcfM5dae",
        "outputId": "07388520-35b8-48ef-8374-21abf72e56cd"
      },
      "source": [
        "w1 = (sum(data['xr']) - sum(data['x'])*sum(data['r']/size)) / (sum(data['x_sqr'])-(sum(data['x'])**2/size))\n",
        "w1"
      ],
      "execution_count": null,
      "outputs": [
        {
          "output_type": "execute_result",
          "data": {
            "text/plain": [
              "-0.05878823624952209"
            ]
          },
          "metadata": {},
          "execution_count": 23
        }
      ]
    },
    {
      "cell_type": "code",
      "metadata": {
        "colab": {
          "base_uri": "https://localhost:8080/"
        },
        "id": "XSo2c4sK5hUB",
        "outputId": "92279c92-027e-484c-ac2a-5f759384b4fd"
      },
      "source": [
        "w0 = sum(data['r'])/size - w1*sum(data['x'])/size\n",
        "w0"
      ],
      "execution_count": null,
      "outputs": [
        {
          "output_type": "execute_result",
          "data": {
            "text/plain": [
              "14998.874935686585"
            ]
          },
          "metadata": {},
          "execution_count": 24
        }
      ]
    },
    {
      "cell_type": "code",
      "metadata": {
        "colab": {
          "base_uri": "https://localhost:8080/"
        },
        "id": "k6E28Td45jhv",
        "outputId": "8f06d3a5-c3cf-4515-832f-eab964edefc7"
      },
      "source": [
        "predicted = w0+w1*data['x']\n",
        "predicted"
      ],
      "execution_count": null,
      "outputs": [
        {
          "output_type": "execute_result",
          "data": {
            "text/plain": [
              "0       12236.650867\n",
              "1       10711.037348\n",
              "2       12546.758813\n",
              "3       12177.039596\n",
              "4       12735.527840\n",
              "            ...     \n",
              "1326    11121.790755\n",
              "1327    11148.245461\n",
              "1328    11159.591591\n",
              "1329    11162.707367\n",
              "1330    11176.405027\n",
              "Name: x, Length: 1321, dtype: float64"
            ]
          },
          "metadata": {},
          "execution_count": 25
        }
      ]
    },
    {
      "cell_type": "code",
      "metadata": {
        "colab": {
          "base_uri": "https://localhost:8080/",
          "height": 296
        },
        "id": "1mm5hw1j6ITl",
        "outputId": "4a5156f4-5120-448d-a1de-c5d94147c6dd"
      },
      "source": [
        "sns.regplot(x = 'x',y = 'r',data = data,fit_reg=False)#.set(xlim=(0,10),ylim=(0,10))\n",
        "sns.regplot(x = 'x',y = predicted,data = data)"
      ],
      "execution_count": null,
      "outputs": [
        {
          "output_type": "execute_result",
          "data": {
            "text/plain": [
              "<matplotlib.axes._subplots.AxesSubplot at 0x7fba62c71710>"
            ]
          },
          "metadata": {},
          "execution_count": 26
        },
        {
          "output_type": "display_data",
          "data": {
            "image/png": "[encoded data removed]",
            "text/plain": [
              "<Figure size 432x288 with 1 Axes>"
            ]
          },
          "metadata": {
            "needs_background": "light"
          }
        }
      ]
    },
    {
      "cell_type": "code",
      "metadata": {
        "colab": {
          "base_uri": "https://localhost:8080/"
        },
        "id": "4n_EdOXF6Tkh",
        "outputId": "133402bd-4c4d-4662-ea36-0c38bcfdc056"
      },
      "source": [
        "error = sum((data['r']-predicted)**2)/size\n",
        "error"
      ],
      "execution_count": null,
      "outputs": [
        {
          "output_type": "execute_result",
          "data": {
            "text/plain": [
              "8215645.610687097"
            ]
          },
          "metadata": {},
          "execution_count": 27
        }
      ]
    },
    {
      "cell_type": "code",
      "metadata": {
        "colab": {
          "base_uri": "https://localhost:8080/"
        },
        "id": "qsC7EcqA6T5L",
        "outputId": "adf631bf-878b-4ee2-c57a-bbfbe5ceec86"
      },
      "source": [
        "test_predicted = w0+w1*test_data['x']\n",
        "test_predicted"
      ],
      "execution_count": null,
      "outputs": [
        {
          "output_type": "execute_result",
          "data": {
            "text/plain": [
              "1331    11177.286850\n",
              "1332    11219.967110\n",
              "1333    11236.427816\n",
              "1334    11236.427816\n",
              "1335    11236.427816\n",
              "            ...     \n",
              "1429    13587.957266\n",
              "1430    13646.745502\n",
              "1431    13791.129410\n",
              "1433    13998.534308\n",
              "1435    14998.816147\n",
              "Name: x, Length: 100, dtype: float64"
            ]
          },
          "metadata": {},
          "execution_count": 28
        }
      ]
    },
    {
      "cell_type": "code",
      "metadata": {
        "colab": {
          "base_uri": "https://localhost:8080/"
        },
        "id": "oO1T04e8OSc6",
        "outputId": "330b87c0-7b4b-498b-aa79-41df7317ac3b"
      },
      "source": [
        "test_size = test_data['x'].size\n",
        "test_size"
      ],
      "execution_count": null,
      "outputs": [
        {
          "output_type": "execute_result",
          "data": {
            "text/plain": [
              "100"
            ]
          },
          "metadata": {},
          "execution_count": 29
        }
      ]
    },
    {
      "cell_type": "code",
      "metadata": {
        "colab": {
          "base_uri": "https://localhost:8080/",
          "height": 296
        },
        "id": "LmoWJz1D7hGR",
        "outputId": "32e44bb9-3e0b-43be-aea4-244714468ae8"
      },
      "source": [
        "sns.regplot(x = 'x',y = 'r',data = test_data,fit_reg=False)#.set(xlim=(0,10),ylim=(0,10))\n",
        "\n",
        "sns.regplot(x = 'x',y = test_predicted,data = test_data)"
      ],
      "execution_count": null,
      "outputs": [
        {
          "output_type": "execute_result",
          "data": {
            "text/plain": [
              "<matplotlib.axes._subplots.AxesSubplot at 0x7fc5d50d4410>"
            ]
          },
          "metadata": {},
          "execution_count": 90
        },
        {
          "output_type": "display_data",
          "data": {
            "image/png": "[encoded data removed]",
            "text/plain": [
              "<Figure size 432x288 with 1 Axes>"
            ]
          },
          "metadata": {
            "needs_background": "light"
          }
        }
      ]
    },
    {
      "cell_type": "code",
      "metadata": {
        "colab": {
          "base_uri": "https://localhost:8080/"
        },
        "id": "FLU_zke-7255",
        "outputId": "5cfb14e4-59b1-4047-fc10-0ecf52e8cff6"
      },
      "source": [
        "error = sum((test_data['r']-test_predicted)**2)/test_size\n",
        "error"
      ],
      "execution_count": null,
      "outputs": [
        {
          "output_type": "execute_result",
          "data": {
            "text/plain": [
              "14866074.771807065"
            ]
          },
          "metadata": {},
          "execution_count": 30
        }
      ]
    },
    {
      "cell_type": "markdown",
      "metadata": {
        "id": "pWQZXat--vAZ"
      },
      "source": [
        "#**Toyota Age Dataset**\n",
        "# Normal Equation Method"
      ]
    },
    {
      "cell_type": "code",
      "metadata": {
        "id": "uXm6r0_K-pqG"
      },
      "source": [
        "# Normal equation method for one attribute dataset -one degree polynomial - \n",
        "# w0 + w1x\n",
        "\n",
        "import numpy as np\n",
        "import pandas as pd\n",
        "import matplotlib.pyplot as plt\n",
        "import seaborn as sns"
      ],
      "execution_count": null,
      "outputs": []
    },
    {
      "cell_type": "code",
      "metadata": {
        "colab": {
          "base_uri": "https://localhost:8080/",
          "height": 203
        },
        "id": "RjRYVADK-3FS",
        "outputId": "74ce84b5-bf43-4d7d-e84a-714f604d79d4"
      },
      "source": [
        "dataframe = pd.read_excel('/content/drive/MyDrive/Datasets/toyota_age.xlsx',na_values=['??']) #read from dataset\n",
        "dataframe = dataframe.dropna()\n",
        "dataframe.head() # view first few rows of the data\n"
      ],
      "execution_count": null,
      "outputs": [
        {
          "output_type": "execute_result",
          "data": {
            "text/html": [
              "<div>\n",
              "<style scoped>\n",
              "    .dataframe tbody tr th:only-of-type {\n",
              "        vertical-align: middle;\n",
              "    }\n",
              "\n",
              "    .dataframe tbody tr th {\n",
              "        vertical-align: top;\n",
              "    }\n",
              "\n",
              "    .dataframe thead th {\n",
              "        text-align: right;\n",
              "    }\n",
              "</style>\n",
              "<table border=\"1\" class=\"dataframe\">\n",
              "  <thead>\n",
              "    <tr style=\"text-align: right;\">\n",
              "      <th></th>\n",
              "      <th>x</th>\n",
              "      <th>r</th>\n",
              "    </tr>\n",
              "  </thead>\n",
              "  <tbody>\n",
              "    <tr>\n",
              "      <th>0</th>\n",
              "      <td>23.0</td>\n",
              "      <td>13500</td>\n",
              "    </tr>\n",
              "    <tr>\n",
              "      <th>1</th>\n",
              "      <td>23.0</td>\n",
              "      <td>13750</td>\n",
              "    </tr>\n",
              "    <tr>\n",
              "      <th>2</th>\n",
              "      <td>24.0</td>\n",
              "      <td>13950</td>\n",
              "    </tr>\n",
              "    <tr>\n",
              "      <th>3</th>\n",
              "      <td>26.0</td>\n",
              "      <td>14950</td>\n",
              "    </tr>\n",
              "    <tr>\n",
              "      <th>4</th>\n",
              "      <td>30.0</td>\n",
              "      <td>13750</td>\n",
              "    </tr>\n",
              "  </tbody>\n",
              "</table>\n",
              "</div>"
            ],
            "text/plain": [
              "      x      r\n",
              "0  23.0  13500\n",
              "1  23.0  13750\n",
              "2  24.0  13950\n",
              "3  26.0  14950\n",
              "4  30.0  13750"
            ]
          },
          "metadata": {},
          "execution_count": 35
        }
      ]
    },
    {
      "cell_type": "code",
      "metadata": {
        "colab": {
          "base_uri": "https://localhost:8080/",
          "height": 298
        },
        "id": "BQYZ7VGz-36o",
        "outputId": "5f487bf7-1efa-4462-dab9-6240d5b4b79c"
      },
      "source": [
        "plt.scatter(dataframe['x'],dataframe['r'])\n",
        "#plt.scatter(dataframe['x2'],dataframe['r'])\n",
        "plt.title('Scatter')"
      ],
      "execution_count": null,
      "outputs": [
        {
          "output_type": "execute_result",
          "data": {
            "text/plain": [
              "Text(0.5, 1.0, 'Scatter')"
            ]
          },
          "metadata": {},
          "execution_count": 36
        },
        {
          "output_type": "display_data",
          "data": {
            "image/png": "[encoded data removed]",
            "text/plain": [
              "<Figure size 432x288 with 1 Axes>"
            ]
          },
          "metadata": {
            "needs_background": "light"
          }
        }
      ]
    },
    {
      "cell_type": "code",
      "metadata": {
        "id": "7Jx9Gtsm4A6w"
      },
      "source": [
        "test_size = 100"
      ],
      "execution_count": null,
      "outputs": []
    },
    {
      "cell_type": "code",
      "metadata": {
        "colab": {
          "base_uri": "https://localhost:8080/"
        },
        "id": "qZKKo7aEOvdL",
        "outputId": "de4b0a32-8429-4d83-972e-fe54483128b9"
      },
      "source": [
        "dataframe = dataframe.iloc[:-test_size]\n",
        "dataframe.info()"
      ],
      "execution_count": null,
      "outputs": [
        {
          "output_type": "stream",
          "name": "stdout",
          "text": [
            "<class 'pandas.core.frame.DataFrame'>\n",
            "Int64Index: 1136 entries, 0 to 1212\n",
            "Data columns (total 2 columns):\n",
            " #   Column  Non-Null Count  Dtype  \n",
            "---  ------  --------------  -----  \n",
            " 0   x       1136 non-null   float64\n",
            " 1   r       1136 non-null   int64  \n",
            "dtypes: float64(1), int64(1)\n",
            "memory usage: 26.6 KB\n"
          ]
        }
      ]
    },
    {
      "cell_type": "code",
      "metadata": {
        "colab": {
          "base_uri": "https://localhost:8080/",
          "height": 417
        },
        "id": "-PttjgOiBPcs",
        "outputId": "f19d2d34-c0a8-4408-8745-edeea9ffcbd2"
      },
      "source": [
        "test_dataframe = dataframe.iloc[-test_size:]\n",
        "test_dataframe"
      ],
      "execution_count": null,
      "outputs": [
        {
          "output_type": "execute_result",
          "data": {
            "text/html": [
              "<div>\n",
              "<style scoped>\n",
              "    .dataframe tbody tr th:only-of-type {\n",
              "        vertical-align: middle;\n",
              "    }\n",
              "\n",
              "    .dataframe tbody tr th {\n",
              "        vertical-align: top;\n",
              "    }\n",
              "\n",
              "    .dataframe thead th {\n",
              "        text-align: right;\n",
              "    }\n",
              "</style>\n",
              "<table border=\"1\" class=\"dataframe\">\n",
              "  <thead>\n",
              "    <tr style=\"text-align: right;\">\n",
              "      <th></th>\n",
              "      <th>x</th>\n",
              "      <th>r</th>\n",
              "    </tr>\n",
              "  </thead>\n",
              "  <tbody>\n",
              "    <tr>\n",
              "      <th>1104</th>\n",
              "      <td>80.0</td>\n",
              "      <td>7250</td>\n",
              "    </tr>\n",
              "    <tr>\n",
              "      <th>1105</th>\n",
              "      <td>77.0</td>\n",
              "      <td>7450</td>\n",
              "    </tr>\n",
              "    <tr>\n",
              "      <th>1106</th>\n",
              "      <td>74.0</td>\n",
              "      <td>7950</td>\n",
              "    </tr>\n",
              "    <tr>\n",
              "      <th>1108</th>\n",
              "      <td>71.0</td>\n",
              "      <td>8250</td>\n",
              "    </tr>\n",
              "    <tr>\n",
              "      <th>1109</th>\n",
              "      <td>76.0</td>\n",
              "      <td>8950</td>\n",
              "    </tr>\n",
              "    <tr>\n",
              "      <th>...</th>\n",
              "      <td>...</td>\n",
              "      <td>...</td>\n",
              "    </tr>\n",
              "    <tr>\n",
              "      <th>1206</th>\n",
              "      <td>73.0</td>\n",
              "      <td>7500</td>\n",
              "    </tr>\n",
              "    <tr>\n",
              "      <th>1208</th>\n",
              "      <td>70.0</td>\n",
              "      <td>7950</td>\n",
              "    </tr>\n",
              "    <tr>\n",
              "      <th>1209</th>\n",
              "      <td>78.0</td>\n",
              "      <td>7250</td>\n",
              "    </tr>\n",
              "    <tr>\n",
              "      <th>1211</th>\n",
              "      <td>80.0</td>\n",
              "      <td>8250</td>\n",
              "    </tr>\n",
              "    <tr>\n",
              "      <th>1212</th>\n",
              "      <td>72.0</td>\n",
              "      <td>8250</td>\n",
              "    </tr>\n",
              "  </tbody>\n",
              "</table>\n",
              "<p>100 rows × 2 columns</p>\n",
              "</div>"
            ],
            "text/plain": [
              "         x     r\n",
              "1104  80.0  7250\n",
              "1105  77.0  7450\n",
              "1106  74.0  7950\n",
              "1108  71.0  8250\n",
              "1109  76.0  8950\n",
              "...    ...   ...\n",
              "1206  73.0  7500\n",
              "1208  70.0  7950\n",
              "1209  78.0  7250\n",
              "1211  80.0  8250\n",
              "1212  72.0  8250\n",
              "\n",
              "[100 rows x 2 columns]"
            ]
          },
          "metadata": {},
          "execution_count": 40
        }
      ]
    },
    {
      "cell_type": "code",
      "metadata": {
        "colab": {
          "base_uri": "https://localhost:8080/"
        },
        "id": "M7RMol5ZAdMs",
        "outputId": "8455ce8c-e271-4841-d9fa-d82b907e0135"
      },
      "source": [
        "data = np.asarray(dataframe)\n",
        "test_data = np.asarray(test_dataframe)\n",
        "(data)"
      ],
      "execution_count": null,
      "outputs": [
        {
          "output_type": "execute_result",
          "data": {
            "text/plain": [
              "array([[   23., 13500.],\n",
              "       [   23., 13750.],\n",
              "       [   24., 13950.],\n",
              "       ...,\n",
              "       [   78.,  7250.],\n",
              "       [   80.,  8250.],\n",
              "       [   72.,  8250.]])"
            ]
          },
          "metadata": {},
          "execution_count": 41
        }
      ]
    },
    {
      "cell_type": "code",
      "metadata": {
        "id": "n-9REO0aO3OD"
      },
      "source": [
        "test_dataframe = data"
      ],
      "execution_count": null,
      "outputs": []
    },
    {
      "cell_type": "code",
      "metadata": {
        "colab": {
          "base_uri": "https://localhost:8080/"
        },
        "id": "3gK0K-ctO6lw",
        "outputId": "c3a3c314-1c97-4837-884a-532f2e399911"
      },
      "source": [
        "test_data"
      ],
      "execution_count": null,
      "outputs": [
        {
          "output_type": "execute_result",
          "data": {
            "text/plain": [
              "array([[  80., 7250.],\n",
              "       [  77., 7450.],\n",
              "       [  74., 7950.],\n",
              "       [  71., 8250.],\n",
              "       [  76., 8950.],\n",
              "       [  74., 7750.],\n",
              "       [  71., 8500.],\n",
              "       [  78., 7750.],\n",
              "       [  73., 5750.],\n",
              "       [  76., 6900.],\n",
              "       [  78., 6500.],\n",
              "       [  77., 7600.],\n",
              "       [  73., 8950.],\n",
              "       [  74., 7450.],\n",
              "       [  72., 7350.],\n",
              "       [  73., 7750.],\n",
              "       [  80., 7460.],\n",
              "       [  76., 9250.],\n",
              "       [  80., 7250.],\n",
              "       [  72., 6500.],\n",
              "       [  80., 6800.],\n",
              "       [  75., 8700.],\n",
              "       [  71., 7750.],\n",
              "       [  73., 7950.],\n",
              "       [  75., 9950.],\n",
              "       [  74., 6640.],\n",
              "       [  71., 8750.],\n",
              "       [  72., 7750.],\n",
              "       [  72., 5950.],\n",
              "       [  77., 6750.],\n",
              "       [  80., 6500.],\n",
              "       [  76., 8750.],\n",
              "       [  74., 7950.],\n",
              "       [  74., 6750.],\n",
              "       [  73., 7950.],\n",
              "       [  80., 7950.],\n",
              "       [  75., 8950.],\n",
              "       [  77., 7750.],\n",
              "       [  75., 6450.],\n",
              "       [  74., 6900.],\n",
              "       [  75., 8450.],\n",
              "       [  74., 6750.],\n",
              "       [  74., 8050.],\n",
              "       [  79., 9500.],\n",
              "       [  78., 7750.],\n",
              "       [  80., 8500.],\n",
              "       [  75., 7795.],\n",
              "       [  80., 6490.],\n",
              "       [  73., 7950.],\n",
              "       [  79., 6425.],\n",
              "       [  69., 8950.],\n",
              "       [  72., 6950.],\n",
              "       [  79., 8750.],\n",
              "       [  71., 8450.],\n",
              "       [  77., 7950.],\n",
              "       [  80., 7950.],\n",
              "       [  78., 8900.],\n",
              "       [  73., 8950.],\n",
              "       [  73., 8900.],\n",
              "       [  69., 7950.],\n",
              "       [  74., 6495.],\n",
              "       [  78., 7250.],\n",
              "       [  78., 6650.],\n",
              "       [  79., 6990.],\n",
              "       [  78., 7750.],\n",
              "       [  79., 6950.],\n",
              "       [  80., 7250.],\n",
              "       [  79., 7200.],\n",
              "       [  72., 8250.],\n",
              "       [  79., 8950.],\n",
              "       [  77., 8250.],\n",
              "       [  80., 6250.],\n",
              "       [  80., 9900.],\n",
              "       [  80., 7300.],\n",
              "       [  72., 8950.],\n",
              "       [  70., 6500.],\n",
              "       [  78., 7950.],\n",
              "       [  75., 7450.],\n",
              "       [  71., 7950.],\n",
              "       [  78., 8500.],\n",
              "       [  77., 6950.],\n",
              "       [  78., 7950.],\n",
              "       [  77., 6750.],\n",
              "       [  70., 8450.],\n",
              "       [  78., 7500.],\n",
              "       [  74., 8750.],\n",
              "       [  79., 8750.],\n",
              "       [  76., 8950.],\n",
              "       [  69., 9200.],\n",
              "       [  74., 8950.],\n",
              "       [  72., 7850.],\n",
              "       [  73., 6950.],\n",
              "       [  75., 7200.],\n",
              "       [  78., 7450.],\n",
              "       [  75., 6750.],\n",
              "       [  73., 7500.],\n",
              "       [  70., 7950.],\n",
              "       [  78., 7250.],\n",
              "       [  80., 8250.],\n",
              "       [  72., 8250.]])"
            ]
          },
          "metadata": {},
          "execution_count": 43
        }
      ]
    },
    {
      "cell_type": "code",
      "metadata": {
        "id": "vtnSrO4BBCc0"
      },
      "source": [
        "test_X = test_data[:,:-1]\n",
        "test_r = test_data[:,-1:]"
      ],
      "execution_count": null,
      "outputs": []
    },
    {
      "cell_type": "code",
      "metadata": {
        "id": "gPFxBKBhO2kt"
      },
      "source": [
        "X = data[:,:-1] # input attributes include all column except last\n",
        "r = data[:,-1:] # output attribute include last column only"
      ],
      "execution_count": null,
      "outputs": []
    },
    {
      "cell_type": "code",
      "metadata": {
        "colab": {
          "base_uri": "https://localhost:8080/"
        },
        "id": "LJaRrWeEPB4_",
        "outputId": "8d2f17c2-344e-4ac5-d3b5-191429eb4e7f"
      },
      "source": [
        "X"
      ],
      "execution_count": null,
      "outputs": [
        {
          "output_type": "execute_result",
          "data": {
            "text/plain": [
              "array([[23.],\n",
              "       [23.],\n",
              "       [24.],\n",
              "       ...,\n",
              "       [78.],\n",
              "       [80.],\n",
              "       [72.]])"
            ]
          },
          "metadata": {},
          "execution_count": 46
        }
      ]
    },
    {
      "cell_type": "code",
      "metadata": {
        "colab": {
          "base_uri": "https://localhost:8080/"
        },
        "id": "onZ1nMyuPCfZ",
        "outputId": "4207ef6d-677b-478b-b686-761698cdda72"
      },
      "source": [
        "r"
      ],
      "execution_count": null,
      "outputs": [
        {
          "output_type": "execute_result",
          "data": {
            "text/plain": [
              "array([[13500.],\n",
              "       [13750.],\n",
              "       [13950.],\n",
              "       ...,\n",
              "       [ 7250.],\n",
              "       [ 8250.],\n",
              "       [ 8250.]])"
            ]
          },
          "metadata": {},
          "execution_count": 47
        }
      ]
    },
    {
      "cell_type": "code",
      "metadata": {
        "id": "18PbqQ16PDAe"
      },
      "source": [
        "ones = np.ones((len(X),1))"
      ],
      "execution_count": null,
      "outputs": []
    },
    {
      "cell_type": "code",
      "metadata": {
        "colab": {
          "base_uri": "https://localhost:8080/"
        },
        "id": "Mct4VDYMPFVp",
        "outputId": "85818ca9-1544-4663-aa7b-1d4b705997a4"
      },
      "source": [
        "ones"
      ],
      "execution_count": null,
      "outputs": [
        {
          "output_type": "execute_result",
          "data": {
            "text/plain": [
              "array([[1.],\n",
              "       [1.],\n",
              "       [1.],\n",
              "       ...,\n",
              "       [1.],\n",
              "       [1.],\n",
              "       [1.]])"
            ]
          },
          "metadata": {},
          "execution_count": 49
        }
      ]
    },
    {
      "cell_type": "code",
      "metadata": {
        "colab": {
          "base_uri": "https://localhost:8080/"
        },
        "id": "9LC3Y410PH0U",
        "outputId": "adeaff2b-a2c6-4ed4-d96b-9e8bac930b30"
      },
      "source": [
        "D = np.hstack((ones,X))\n",
        "D"
      ],
      "execution_count": null,
      "outputs": [
        {
          "output_type": "execute_result",
          "data": {
            "text/plain": [
              "array([[ 1., 23.],\n",
              "       [ 1., 23.],\n",
              "       [ 1., 24.],\n",
              "       ...,\n",
              "       [ 1., 78.],\n",
              "       [ 1., 80.],\n",
              "       [ 1., 72.]])"
            ]
          },
          "metadata": {},
          "execution_count": 50
        }
      ]
    },
    {
      "cell_type": "code",
      "metadata": {
        "id": "xnqYtH5KPGNc"
      },
      "source": [
        "ones = np.ones((len(test_X),1))\n",
        "test_D = np.hstack((ones,test_X))"
      ],
      "execution_count": null,
      "outputs": []
    },
    {
      "cell_type": "code",
      "metadata": {
        "id": "Nd9xaibwPJMu"
      },
      "source": [
        "class LR_Norm_Eqn:\n",
        "\n",
        "  def __init__(self,m):\n",
        "    # number of attributes 'm' is passed as an argument\n",
        "    self.weights = np.zeros([m,1])    \n",
        "  \n",
        "  \n",
        "  def predict(self, D, R): # retruns predicted 'r'\n",
        "    temp = np.dot(D, self.weights) \n",
        "    return temp\n",
        "    \n",
        "  def measure(self, predicted, actual): # returns mean squared error\n",
        "    temp = predicted- actual\n",
        "    m = len(predicted) # number of records\n",
        "    return (np.sum(np.power(temp, 2))) / (m)\n",
        "\n",
        "\n",
        "  def fit(self,D,R):        \n",
        "    \n",
        "    D_transpose = np.transpose(D)\n",
        "    \n",
        "    D_trans_dot_D_Inv = np.linalg.inv(D_transpose.dot(D))\n",
        "\n",
        "    D_trans_R = D_transpose.dot(R)\n",
        "\n",
        "    self.weights = D_trans_dot_D_Inv.dot(D_trans_R)\n",
        "    \n",
        "    return self.weights"
      ],
      "execution_count": null,
      "outputs": []
    },
    {
      "cell_type": "code",
      "metadata": {
        "colab": {
          "base_uri": "https://localhost:8080/"
        },
        "id": "XsPxCpSYPLi-",
        "outputId": "d8dfb8c4-33c8-4f36-cf01-65c862b1c294"
      },
      "source": [
        "length = D.shape[1]\n",
        "lin = LR_Norm_Eqn(length)\n",
        "print('weights is ',lin.fit(D,r))"
      ],
      "execution_count": null,
      "outputs": [
        {
          "output_type": "stream",
          "name": "stdout",
          "text": [
            "weights is  [[20713.17701253]\n",
            " [ -182.16053234]]\n"
          ]
        }
      ]
    },
    {
      "cell_type": "code",
      "metadata": {
        "colab": {
          "base_uri": "https://localhost:8080/"
        },
        "id": "oZ_neHvSPM-y",
        "outputId": "3be7b5e1-0709-4dcd-ae6b-4f246f2f6cd2"
      },
      "source": [
        "# mean sqaured error of training data\n",
        "# predicted values of r\n",
        "predicted = lin.predict(D,r)\n",
        "predicted"
      ],
      "execution_count": null,
      "outputs": [
        {
          "output_type": "execute_result",
          "data": {
            "text/plain": [
              "array([[16523.48476869],\n",
              "       [16523.48476869],\n",
              "       [16341.32423634],\n",
              "       ...,\n",
              "       [ 6504.65548992],\n",
              "       [ 6140.33442523],\n",
              "       [ 7597.61868396]])"
            ]
          },
          "metadata": {},
          "execution_count": 54
        }
      ]
    },
    {
      "cell_type": "code",
      "metadata": {
        "colab": {
          "base_uri": "https://localhost:8080/"
        },
        "id": "P6A2N3EcPOQ7",
        "outputId": "bf3d625e-9221-4d40-a17f-1d5c4bb31d47"
      },
      "source": [
        "# predicted values of r\n",
        "test_predicted = lin.predict(test_D,test_r)\n",
        "test_predicted"
      ],
      "execution_count": null,
      "outputs": [
        {
          "output_type": "execute_result",
          "data": {
            "text/plain": [
              "array([[6140.33442523],\n",
              "       [6686.81602226],\n",
              "       [7233.29761928],\n",
              "       [7779.77921631],\n",
              "       [6868.9765546 ],\n",
              "       [7233.29761928],\n",
              "       [7779.77921631],\n",
              "       [6504.65548992],\n",
              "       [7415.45815162],\n",
              "       [6868.9765546 ],\n",
              "       [6504.65548992],\n",
              "       [6686.81602226],\n",
              "       [7415.45815162],\n",
              "       [7233.29761928],\n",
              "       [7597.61868396],\n",
              "       [7415.45815162],\n",
              "       [6140.33442523],\n",
              "       [6868.9765546 ],\n",
              "       [6140.33442523],\n",
              "       [7597.61868396],\n",
              "       [6140.33442523],\n",
              "       [7051.13708694],\n",
              "       [7779.77921631],\n",
              "       [7415.45815162],\n",
              "       [7051.13708694],\n",
              "       [7233.29761928],\n",
              "       [7779.77921631],\n",
              "       [7597.61868396],\n",
              "       [7597.61868396],\n",
              "       [6686.81602226],\n",
              "       [6140.33442523],\n",
              "       [6868.9765546 ],\n",
              "       [7233.29761928],\n",
              "       [7233.29761928],\n",
              "       [7415.45815162],\n",
              "       [6140.33442523],\n",
              "       [7051.13708694],\n",
              "       [6686.81602226],\n",
              "       [7051.13708694],\n",
              "       [7233.29761928],\n",
              "       [7051.13708694],\n",
              "       [7233.29761928],\n",
              "       [7233.29761928],\n",
              "       [6322.49495758],\n",
              "       [6504.65548992],\n",
              "       [6140.33442523],\n",
              "       [7051.13708694],\n",
              "       [6140.33442523],\n",
              "       [7415.45815162],\n",
              "       [6322.49495758],\n",
              "       [8144.10028099],\n",
              "       [7597.61868396],\n",
              "       [6322.49495758],\n",
              "       [7779.77921631],\n",
              "       [6686.81602226],\n",
              "       [6140.33442523],\n",
              "       [6504.65548992],\n",
              "       [7415.45815162],\n",
              "       [7415.45815162],\n",
              "       [8144.10028099],\n",
              "       [7233.29761928],\n",
              "       [6504.65548992],\n",
              "       [6504.65548992],\n",
              "       [6322.49495758],\n",
              "       [6504.65548992],\n",
              "       [6322.49495758],\n",
              "       [6140.33442523],\n",
              "       [6322.49495758],\n",
              "       [7597.61868396],\n",
              "       [6322.49495758],\n",
              "       [6686.81602226],\n",
              "       [6140.33442523],\n",
              "       [6140.33442523],\n",
              "       [6140.33442523],\n",
              "       [7597.61868396],\n",
              "       [7961.93974865],\n",
              "       [6504.65548992],\n",
              "       [7051.13708694],\n",
              "       [7779.77921631],\n",
              "       [6504.65548992],\n",
              "       [6686.81602226],\n",
              "       [6504.65548992],\n",
              "       [6686.81602226],\n",
              "       [7961.93974865],\n",
              "       [6504.65548992],\n",
              "       [7233.29761928],\n",
              "       [6322.49495758],\n",
              "       [6868.9765546 ],\n",
              "       [8144.10028099],\n",
              "       [7233.29761928],\n",
              "       [7597.61868396],\n",
              "       [7415.45815162],\n",
              "       [7051.13708694],\n",
              "       [6504.65548992],\n",
              "       [7051.13708694],\n",
              "       [7415.45815162],\n",
              "       [7961.93974865],\n",
              "       [6504.65548992],\n",
              "       [6140.33442523],\n",
              "       [7597.61868396]])"
            ]
          },
          "metadata": {},
          "execution_count": 55
        }
      ]
    },
    {
      "cell_type": "code",
      "metadata": {
        "colab": {
          "base_uri": "https://localhost:8080/",
          "height": 296
        },
        "id": "eb8Z07QJPPyv",
        "outputId": "339ce409-347e-45a3-81bf-0d0de370d66f"
      },
      "source": [
        "sns.regplot(x = 'x',y = 'r',data = dataframe,fit_reg=False)#.set(xlim=(0,6),ylim=(0,6))\n",
        "\n",
        "sns.regplot(x = 'x',y = predicted,data = dataframe)"
      ],
      "execution_count": null,
      "outputs": [
        {
          "output_type": "execute_result",
          "data": {
            "text/plain": [
              "<matplotlib.axes._subplots.AxesSubplot at 0x7fba62c68950>"
            ]
          },
          "metadata": {},
          "execution_count": 56
        },
        {
          "output_type": "display_data",
          "data": {
            "image/png": "[encoded data removed]",
            "text/plain": [
              "<Figure size 432x288 with 1 Axes>"
            ]
          },
          "metadata": {
            "needs_background": "light"
          }
        }
      ]
    },
    {
      "cell_type": "code",
      "metadata": {
        "colab": {
          "base_uri": "https://localhost:8080/"
        },
        "id": "pdDBYtbQPSKU",
        "outputId": "fc6305c7-1845-404d-b4f6-ad1df27810e4"
      },
      "source": [
        "print(lin.measure(predicted,r))"
      ],
      "execution_count": null,
      "outputs": [
        {
          "output_type": "stream",
          "name": "stdout",
          "text": [
            "3128407.902662737\n"
          ]
        }
      ]
    },
    {
      "cell_type": "code",
      "metadata": {
        "colab": {
          "base_uri": "https://localhost:8080/"
        },
        "id": "AMW6xow8PTCG",
        "outputId": "0b545944-6fa5-4cb9-9432-2c56178dce91"
      },
      "source": [
        "print(lin.measure(test_predicted,test_r))"
      ],
      "execution_count": null,
      "outputs": [
        {
          "output_type": "stream",
          "name": "stdout",
          "text": [
            "1656754.5092644263\n"
          ]
        }
      ]
    }
  ]
}